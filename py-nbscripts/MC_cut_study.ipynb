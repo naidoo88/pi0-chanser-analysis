{
 "cells": [
  {
   "cell_type": "markdown",
   "metadata": {},
   "source": [
    "# Simulation cut study"
   ]
  },
  {
   "cell_type": "code",
   "execution_count": 1,
   "metadata": {},
   "outputs": [],
   "source": [
    "import numpy as np\n",
    "import pandas as pd\n",
    "import uproot\n",
    "import boost_histogram as bh\n",
    "import functools as ft\n",
    "import matplotlib.pyplot as plt\n",
    "\n",
    "%matplotlib widget"
   ]
  },
  {
   "cell_type": "code",
   "execution_count": 2,
   "metadata": {},
   "outputs": [],
   "source": [
    "plt.style.use('seaborn')\n",
    "plt.rcParams['axes.grid'] = True\n",
    "plt.rcParams['axes.formatter.limits'] = (-3,3)\n",
    "plt.rcParams['axes.formatter.use_mathtext'] = True\n",
    "# plt.rcParams['font.size']= 16\n",
    "# plt.rcParams['axes.labelsize'] = 14\n",
    "# plt.rcParams['axes.titlesize'] = 14\n",
    "# plt.rcParams['xtick.labelsize'] = 10\n",
    "# plt.rcParams['ytick.labelsize'] = 10"
   ]
  },
  {
   "cell_type": "code",
   "execution_count": 3,
   "metadata": {},
   "outputs": [],
   "source": [
    "#MCpart_root_file = \"/home/pauln/code/pi0chanser/output/chanser_MC_12k-15k/pauln/Pi0_PID_photcomb/ParticleVariables_0.root\"\n",
    "\n",
    "tree= \"FINALOUTTREE\"\n",
    "\n",
    "# data_root_file = \"/w/work3/home/pauln/analysis/processed/chanser_ANAsub/pauln/Pi0_PID_fullcomb/FinalState.root\"\n",
    "# data = uproot.open(data_root_file)[tree]\n",
    "# data_df = data.pandas.df()\n",
    "\n",
    "#MC_root_file = \"/w/work3/home/pauln/analysis/processed/chanser_MCsub/pauln/Pi0_PID_fullcomb/FinalState.root\"\n",
    "MC_root_file = \"/home/pauln/code/pi0chanser/output/chanser_MC15_gammatruth/pauln/Pi0_PID_exclcomb/FinalState.root\"\n",
    "\n",
    "data = uproot.open(MC_root_file)[tree]\n",
    "MC_df = data.pandas.df()\n",
    "\n",
    "# data = uproot.open(MCpart_root_file)['particle']\n",
    "# MCpart_df = data.pandas.df()"
   ]
  },
  {
   "cell_type": "code",
   "execution_count": 4,
   "metadata": {},
   "outputs": [],
   "source": [
    "def hist1D(ax, df, var, bins = None, cuts=None, y_err=False, color=None, lalpha=1, falpha=0.4, normed=False, filled = False, density = False, params={}, label=None):\n",
    "    #select next color in colormap for use in line and fill.\n",
    "    if color is None:\n",
    "        color = next(ax._get_lines.prop_cycler)['color']\n",
    "    \n",
    "    if cuts is not None: \n",
    "        data = df[var[0]][cuts]\n",
    "    else:\n",
    "        data = df[var[0]]\n",
    "        \n",
    "    #calculate area under the curve if wanting normalised plot    \n",
    "    weights = None\n",
    "    if normed is True:\n",
    "        entries, edges = np.histogram(\n",
    "            data,\n",
    "            range = (var[1][1], var[1][2]),\n",
    "            bins = var[1][0]        \n",
    "        )\n",
    "      \n",
    "        integral = sum(np.diff(edges)*entries)\n",
    "        weights = np.ones_like(data)/integral\n",
    "        \n",
    "    if bins is None: \n",
    "        bins = var[1][0]\n",
    "    \n",
    "    #Draw histogram\n",
    "    entries,edges,_ = ax.hist(data,\n",
    "    range = (var[1][1], var[1][2]),\n",
    "    bins = bins,\n",
    "    density = density,\n",
    "    weights=weights,\n",
    "    histtype = 'step',\n",
    "    linewidth = 1.5,\n",
    "    alpha=lalpha,\n",
    "    color = color,\n",
    "    label=label,\n",
    "    **params\n",
    "    )\n",
    " \n",
    "    #fill area under histo if set\n",
    "    if filled is True:\n",
    "        # brute-force: drawing it again to allow separate alpha(opacity) to be used\n",
    "        h = ax.hist(data,\n",
    "            range = (var[1][1], var[1][2]),\n",
    "            bins = bins,\n",
    "            density = density,\n",
    "            weights=weights,\n",
    "            histtype = 'step',\n",
    "            linewidth = None,\n",
    "            fill = True,\n",
    "            alpha = falpha,\n",
    "            color = color\n",
    "            )\n",
    "        \n",
    "    #error bars    \n",
    "    if y_err is True:\n",
    "        if normed is True: \n",
    "            yerr = np.sqrt(entries)/integral\n",
    "            entries = entries/integral\n",
    "        else:\n",
    "            entries, edges = np.histogram(\n",
    "                data,\n",
    "                range = (var[1][1], var[1][2]),\n",
    "                bins = bins       \n",
    "            )\n",
    "            yerr = np.sqrt(entries)\n",
    "            \n",
    "        bin_width = edges[1]-edges[0]\n",
    "        bin_centers = edges[:-1] + bin_width/2\n",
    "        ax.errorbar(bin_centers, entries, yerr=yerr, color='r', ls='', alpha=0.6, label='err', elinewidth=0.6)\n",
    "        \n",
    "        \n",
    "    #deal with automatic y-axis scaling funk\n",
    "    # if normed is True:\n",
    "    #     #axes = plt.gca()\n",
    "    #     ax.set_ylim([0,max(entries/integral)*1.1])\n",
    "\n",
    "    ax.set_xlabel(var[2])\n",
    "    ax.set_xlim(var[1][1], var[1][2])\n",
    "\n",
    "    \n",
    "    return #(entries, edges, yerr)"
   ]
  },
  {
   "cell_type": "markdown",
   "metadata": {},
   "source": [
    "## Exploring distributions in MC\n",
    "\n",
    "   * Photon combinatorials\n",
    "   * Events Generated using GenePi\n",
    "      * Currently using non-OSG recon\n",
    "      * *Should* be fine, but running events through OSG\n",
    "  "
   ]
  },
  {
   "cell_type": "code",
   "execution_count": 5,
   "metadata": {},
   "outputs": [],
   "source": [
    "bins = 200\n",
    "distros = [\n",
    "    [\"Pi0IM_g1g2\", (bins,0,0.2), r\"$M_{\\gamma\\gamma}$ $(GeV/c^{2})$\"],\n",
    "    [\"Pi0MM2_total\", (bins,-5, 5), r\"$MM^{2}_{e'n'\\gamma\\gamma X}$   ($GeV^{2}/c^{4}$)\"],\n",
    "    [\"Pi0MM_rec_recoil\", (bins,0, 2), r\"$MM_{e'\\gamma\\gamma X}$   ($GeV/c^{2}$)\"],\n",
    "    [\"Pi0MM_rec_spectator\", (bins,0, 2), r\"$MM_{eD -> e'n'\\gamma\\gamma X}$   ($GeV/c^{2}$)\"],    \n",
    "    [\"Pi0MP_rec_spectator\", (bins,0, 1), r\"$MP_{eD -> e'n'\\gamma\\gamma X}$   ($GeV/c^{2}$)\"],    \n",
    "    [\"Pi0MP_total\", (bins,0, 3), r\"$MP_{e'n'\\gamma\\gamma X}$   ($GeV/c^{2}$)\"],\n",
    "    [\"Pi0MPt_total\", (bins,0, 3), r\"$MP^{T}_{e'n'\\gamma\\gamma X}$   ($GeV/c^{2}$)\"],\n",
    "    [\"Pi0cop_Nvg_Nnew\", (bins,-50, 50), r\"$d\\phi_{n\\gamma^{*}-n\\pi_{0}}$ ($\\circ$)\"],\n",
    "    [\"Pi0pi0coneangle\", (bins,0, 60), r\"$\\theta^{cone}_{\\pi_{0}X}$ ($\\circ$)\"],\n",
    "    [\"Pi0recoilconeangle\", (bins,0, 60), r\"$\\theta^{cone}_{nX}$ ($\\circ$)\"],\n",
    "    [\"Pi0eg1coneangle\", (bins,0, 60), r\"$\\theta^{cone}_{e\\gamma_{1}}$ ($\\circ$)\"],\n",
    "    [\"Pi0eg2coneangle\", (bins,0, 60), r\"$\\theta^{cone}_{e\\gamma_{2}}$ ($\\circ$)\"]\n",
    "]\n",
    "\n",
    "truth_distros = [\n",
    "    [\"truPi0IM_g1g2\", (bins,0,0.2), r\"$M_{\\gamma\\gamma}$ $(GeV/c^{2})$\"],\n",
    "    [\"truPi0MM2_total\", (bins,-5, 5), r\"$MM^{2}_{e'n'\\gamma\\gamma X}$   ($GeV^{2}/c^{4}$)\"],\n",
    "    [\"truPi0MM_rec_recoil\", (bins,0, 2), r\"$MM_{e'\\gamma\\gamma X}$   ($GeV/c^{2}$)\"],\n",
    "    [\"truPi0MM_rec_spectator\", (bins,0, 2), r\"$MM_{eD -> e'n'\\gamma\\gamma X}$   ($GeV/c^{2}$)\"],    \n",
    "    [\"truPi0MP_rec_spectator\", (bins,0, 1), r\"$MP_{eD -> e'n'\\gamma\\gamma X}$   ($GeV/c^{2}$)\"],  \n",
    "    [\"truPi0MP_total\", (bins,0, 3), r\"$MP_{e'n'\\gamma\\gamma X}$   ($GeV/c^{2}$)\"],\n",
    "    [\"truPi0MPt_total\", (bins,0, 3), r\"$MP^{T}_{e'n'\\gamma\\gamma X}$   ($GeV/c^{2}$)\"],\n",
    "    [\"truPi0cop_Nvg_Nnew\", (bins,-50, 50), r\"$d\\phi_{n\\gamma^{*}-n\\pi_{0}}$ ($\\circ$)\"],\n",
    "    [\"truPi0pi0coneangle\", (bins,0, 60), r\"$\\theta^{cone}_{\\pi_{0}X}$ ($\\circ$)\"],\n",
    "    [\"truPi0recoilconeangle\", (bins,0, 60), r\"$\\theta^{cone}_{nX}$ ($\\circ$)\"],\n",
    "    [\"truPi0eg1coneangle\", (bins,0, 60), r\"$\\theta^{cone}_{e\\gamma_{1}}$ ($\\circ$)\"],\n",
    "    [\"truPi0eg2coneangle\", (bins,0, 60), r\"$\\theta^{cone}_{e\\gamma_{2}}$ ($\\circ$)\"]\n",
    "]"
   ]
  },
  {
   "cell_type": "markdown",
   "metadata": {},
   "source": [
    "## Raw MC, \"Truth-Matched\" and data"
   ]
  },
  {
   "cell_type": "code",
   "execution_count": 6,
   "metadata": {},
   "outputs": [
    {
     "data": {
      "application/vnd.jupyter.widget-view+json": {
       "model_id": "7c44f60417a44cf4ba03d48f941edc35",
       "version_major": 2,
       "version_minor": 0
      },
      "text/plain": [
       "Canvas(toolbar=Toolbar(toolitems=[('Home', 'Reset original view', 'home', 'home'), ('Back', 'Back to previous …"
      ]
     },
     "metadata": {},
     "output_type": "display_data"
    }
   ],
   "source": [
    "fig, ax = plt.subplots(12,3, figsize=(12,25))\n",
    "\n",
    "for i, var in enumerate(distros):\n",
    "    hist1D(ax[i][0], MC_df, var)\n",
    "    \n",
    "for i, var in enumerate(distros):\n",
    "    hist1D(ax[i][1], MC_df, var, cuts=(MC_df.Truth==1))\n",
    "\n",
    "# for i, var in enumerate(distros):\n",
    "#     hist1D(ax[i][2], data_df, var)\n",
    "    \n",
    "for i, var in enumerate(truth_distros):\n",
    "    hist1D(ax[i][2], MC_df, var, cuts=(MC_df.Truth==1))\n",
    "    \n",
    "ax[0][0].set_title(\"MC\", y=1)\n",
    "ax[0][1].set_title(\"truth-matched\", y=1)\n",
    "ax[0][2].set_title(\"truth\", y=1)\n",
    "\n",
    "plt.tight_layout(pad=0.3)"
   ]
  },
  {
   "cell_type": "markdown",
   "metadata": {},
   "source": [
    "## Cleaning up with some cuts: \n",
    "   * 3$\\sigma$ $\\pi_{0}$-mass cut\n",
    "   * Neutrons\n",
    "      * CND only\n",
    "      * |p| > 350 MeV\n",
    "   * Photons\n",
    "      * Require hit in the PCAL"
   ]
  },
  {
   "cell_type": "code",
   "execution_count": 7,
   "metadata": {},
   "outputs": [],
   "source": [
    "cuts = [\n",
    "    (MC_df.Pi0flag_cut_3sigPi0IM == 1),\n",
    "    ((MC_df.Pi0rec_status > 3990) & (MC_df.Pi0rec_status < 4150)),\n",
    "    (MC_df.Pi0rec_magP >= 0.35),\n",
    "    (MC_df.hitPCAL == 1)\n",
    "]\n",
    "\n",
    "cuts_truth = [\n",
    "    (MC_df.Pi0flag_cut_3sigPi0IM == 1),\n",
    "    ((MC_df.Pi0rec_status > 3990) & (MC_df.Pi0rec_status < 4150)),\n",
    "    (MC_df.Pi0rec_magP >= 0.35),\n",
    "    (MC_df.hitPCAL == 1),\n",
    "    (MC_df.Truth==1)\n",
    "]\n",
    "\n",
    "# dcuts = [\n",
    "#     (data_df.Pi0flag_cut_3sigPi0IM == 1),\n",
    "#     ((data_df.Pi0rec_status > 3990) & (data_df.Pi0rec_status < 4150)),\n",
    "#     (data_df.Pi0rec_magP >= 0.35),\n",
    "#     (data_df.hitPCAL == 1)\n",
    "# ]\n",
    "\n",
    "# oneT_cuts = [\n",
    "#     (MC_1T_df.Pi0flag_cut_3sigPi0IM == 1),\n",
    "#     ((MC_1T_df.Pi0rec_status > 3990) & (MC_1T_df.Pi0rec_status < 4150)),\n",
    "#     (MC_1T_df.Pi0rec_magP >= 0.35),\n",
    "#     (MC_1T_df.hitPCAL == 1)\n",
    "# ]\n",
    "# # cuts_truth = [\n",
    "#     cuts,\n",
    "#     (MC_df.Truth==1)\n",
    "# ]\n",
    "\n",
    "cut = ft.reduce(lambda x, y: x & y, cuts[:])\n",
    "t_cut = ft.reduce(lambda x, y: x & y, cuts_truth[:])\n",
    "#dcut = ft.reduce(lambda x, y: x & y, dcuts[:])\n",
    "\n",
    "#oT_cut = ft.reduce(lambda x, y: x & y, oneT_cuts[:])"
   ]
  },
  {
   "cell_type": "code",
   "execution_count": 8,
   "metadata": {},
   "outputs": [],
   "source": [
    "tcut = cut & (MC_df.Truth==1)\n"
   ]
  },
  {
   "cell_type": "code",
   "execution_count": 9,
   "metadata": {},
   "outputs": [
    {
     "data": {
      "text/plain": [
       "True"
      ]
     },
     "execution_count": 9,
     "metadata": {},
     "output_type": "execute_result"
    }
   ],
   "source": [
    "(t_cut==tcut).all()"
   ]
  },
  {
   "cell_type": "code",
   "execution_count": 16,
   "metadata": {},
   "outputs": [
    {
     "data": {
      "application/vnd.jupyter.widget-view+json": {
       "model_id": "3b255d62000d4f5f98c2ccaad55d18d2",
       "version_major": 2,
       "version_minor": 0
      },
      "text/plain": [
       "Canvas(toolbar=Toolbar(toolitems=[('Home', 'Reset original view', 'home', 'home'), ('Back', 'Back to previous …"
      ]
     },
     "metadata": {},
     "output_type": "display_data"
    }
   ],
   "source": [
    "fig, ax = plt.subplots(12,3, figsize=(12,25))\n",
    "\n",
    "for i, var in enumerate(distros):\n",
    "    hist1D(ax[i][0], MC_df, var, cuts=cut)\n",
    "    hist1D(ax[i][1], MC_df, var, cuts=t_cut)\n",
    "    #hist1D(ax[i][2], data_df, var, cuts=dcut)\n",
    "\n",
    "for i, var in enumerate(truth_distros):\n",
    "    hist1D(ax[i][2], MC_df, var, cuts=t_cut)\n",
    "\n",
    "\n",
    "# for i, var in enumerate(truth_distros):\n",
    "#     hist1D(ax[i][1], MC_df, var, cuts=cut)\n",
    "\n",
    "ax[0][0].set_title(\"Reconstructed\", y=1)\n",
    "ax[0][1].set_title(\"Truth-Matched\", y=1)\n",
    "ax[0][2].set_title(\"Generated\", y=1)\n",
    "\n",
    "    \n",
    "plt.tight_layout(pad=0.3)"
   ]
  },
  {
   "cell_type": "markdown",
   "metadata": {},
   "source": [
    "## Drift and Broadening of true values"
   ]
  },
  {
   "cell_type": "code",
   "execution_count": 17,
   "metadata": {},
   "outputs": [
    {
     "data": {
      "application/vnd.jupyter.widget-view+json": {
       "model_id": "95948debedd641b099f26138511d850c",
       "version_major": 2,
       "version_minor": 0
      },
      "text/plain": [
       "Canvas(toolbar=Toolbar(toolitems=[('Home', 'Reset original view', 'home', 'home'), ('Back', 'Back to previous …"
      ]
     },
     "metadata": {},
     "output_type": "display_data"
    }
   ],
   "source": [
    "fig1, ax1 = plt.subplots(4,2,figsize=(12,15))\n",
    "                         \n",
    "var = [\n",
    "[\"Pi0MP_rec_spectator\", (bins,0, 1), r\"$MP_{eD -> e'n'\\gamma\\gamma X}$   ($GeV/c^{2}$)\"],\n",
    "[\"truPi0MP_rec_spectator\", (bins,0, 1), r\"TRUTH $MP_{eD -> e'n'\\gamma\\gamma X}$   ($GeV/c^{2}$)\"]\n",
    "]\n",
    "\n",
    "hist1D(ax1[0][0], MC_df, var[0], cuts=t_cut)\n",
    "hist1D(ax1[0][1], MC_df, var[1], cuts=t_cut)\n",
    "hist1D(ax1[1][0], MC_df, var[0], cuts=(t_cut & (MC_df.Pi0MP_rec_spectator < 0.7)))\n",
    "hist1D(ax1[1][1], MC_df, var[1], cuts=(t_cut & (MC_df.Pi0MP_rec_spectator < 0.7)))\n",
    "hist1D(ax1[2][0], MC_df, var[0], cuts=(t_cut & (MC_df.Pi0MP_rec_spectator < 0.4)))\n",
    "hist1D(ax1[2][1], MC_df, var[1], cuts=(t_cut & (MC_df.Pi0MP_rec_spectator < 0.4)))\n",
    "hist1D(ax1[3][0], MC_df, var[0], cuts=(t_cut & (MC_df.Pi0MP_rec_spectator < 0.2)))\n",
    "hist1D(ax1[3][1], MC_df, var[1], cuts=(t_cut & (MC_df.Pi0MP_rec_spectator < 0.2)))\n"
   ]
  },
  {
   "cell_type": "code",
   "execution_count": 18,
   "metadata": {},
   "outputs": [
    {
     "data": {
      "application/vnd.jupyter.widget-view+json": {
       "model_id": "3925f65d47994ff1a03447c25f2344d5",
       "version_major": 2,
       "version_minor": 0
      },
      "text/plain": [
       "Canvas(toolbar=Toolbar(toolitems=[('Home', 'Reset original view', 'home', 'home'), ('Back', 'Back to previous …"
      ]
     },
     "metadata": {},
     "output_type": "display_data"
    }
   ],
   "source": [
    "fig1, ax1 = plt.subplots(1,2,figsize=(12,5))\n",
    "                         \n",
    "var = [\n",
    "[\"Pi0MP_rec_spectator\", (bins,0, 1), r\"$MP_{eD -> e'n'\\gamma\\gamma X}$   ($GeV/c^{2}$)\"],\n",
    "[\"truPi0MP_rec_spectator\", (bins,0, 1), r\"TRUTH $MP_{eD -> e'n'\\gamma\\gamma X}$   ($GeV/c^{2}$)\"]\n",
    "]\n",
    "\n",
    "hist1D(ax1[0], MC_df, var[0], cuts=t_cut)\n",
    "hist1D(ax1[1], MC_df, var[1], cuts=t_cut)\n",
    "hist1D(ax1[0], MC_df, var[0], cuts=(t_cut & (MC_df.Pi0MP_rec_spectator < 0.7)))\n",
    "hist1D(ax1[1], MC_df, var[1], cuts=(t_cut & (MC_df.Pi0MP_rec_spectator < 0.7)))\n",
    "hist1D(ax1[0], MC_df, var[0], cuts=(t_cut & (MC_df.Pi0MP_rec_spectator < 0.4)))\n",
    "hist1D(ax1[1], MC_df, var[1], cuts=(t_cut & (MC_df.Pi0MP_rec_spectator < 0.4)))\n",
    "hist1D(ax1[0], MC_df, var[0], cuts=(t_cut & (MC_df.Pi0MP_rec_spectator < 0.2)))\n",
    "hist1D(ax1[1], MC_df, var[1], cuts=(t_cut & (MC_df.Pi0MP_rec_spectator < 0.2)))\n"
   ]
  },
  {
   "cell_type": "markdown",
   "metadata": {},
   "source": [
    "## Kinetic energy of the neutron as a potential descriminatory variable"
   ]
  },
  {
   "cell_type": "code",
   "execution_count": 13,
   "metadata": {},
   "outputs": [],
   "source": [
    "T_distros = [\n",
    "    [\"Pi0recoil_T\", (bins,0,2), r\"$T_{neutron}$ $(GeV)$\"],\n",
    "    [\"Pi0recon_recoil_T\", (bins,0,10), r\"$recon. T_{neutron}$ $(GeV)$\"],\n",
    "    [\"Pi0dneutT\", (bins,0,10), r\"$\\delta T_{neutron}$ $(GeV)$\"]\n",
    "]\n",
    "\n",
    "truth_T_distros = [\n",
    "    [\"truPi0recoil_T\", (bins,0,2), r\"$T_{neutron}$ $(GeV)$\"],\n",
    "    [\"truPi0recon_recoil_T\", (bins,0,10), r\"$recon. T_{neutron}$ $(GeV)$\"],\n",
    "    [\"truPi0dneutT\", (bins,0,10), r\"$\\delta T_{neutron}$ $(GeV)$\"]\n",
    "]"
   ]
  },
  {
   "cell_type": "code",
   "execution_count": null,
   "metadata": {},
   "outputs": [],
   "source": []
  },
  {
   "cell_type": "code",
   "execution_count": 14,
   "metadata": {},
   "outputs": [
    {
     "data": {
      "application/vnd.jupyter.widget-view+json": {
       "model_id": "3ffccdeaea7747eeab082b4fd83e9472",
       "version_major": 2,
       "version_minor": 0
      },
      "text/plain": [
       "Canvas(toolbar=Toolbar(toolitems=[('Home', 'Reset original view', 'home', 'home'), ('Back', 'Back to previous …"
      ]
     },
     "metadata": {},
     "output_type": "display_data"
    }
   ],
   "source": [
    "fig, ax = plt.subplots(3,3, figsize=(10,9))\n",
    "\n",
    "for i, var in enumerate(T_distros):\n",
    "    hist1D(ax[i][0], MC_df, var)\n",
    "    \n",
    "for i, var in enumerate(T_distros):\n",
    "    hist1D(ax[i][1], MC_df, var, cuts=(MC_df.Truth==1))\n",
    "\n",
    "for i, var in enumerate(truth_T_distros):\n",
    "    hist1D(ax[i][2], MC_df, var, cuts=(MC_df.Truth==1))\n",
    "    \n",
    "ax[0][0].set_title(\"MC\", y=1)\n",
    "ax[0][1].set_title(\"truth-matched\", y=1)\n",
    "ax[0][2].set_title(\"truth\", y=1)\n",
    "\n",
    "    \n",
    "plt.tight_layout(pad=0.05)"
   ]
  },
  {
   "cell_type": "code",
   "execution_count": 19,
   "metadata": {},
   "outputs": [
    {
     "data": {
      "application/vnd.jupyter.widget-view+json": {
       "model_id": "b833ab7075fd4bd2b21232f367642201",
       "version_major": 2,
       "version_minor": 0
      },
      "text/plain": [
       "Canvas(toolbar=Toolbar(toolitems=[('Home', 'Reset original view', 'home', 'home'), ('Back', 'Back to previous …"
      ]
     },
     "metadata": {},
     "output_type": "display_data"
    }
   ],
   "source": [
    "fig, ax = plt.subplots(3,3, figsize=(10,9))\n",
    "\n",
    "for i, var in enumerate(T_distros):\n",
    "    hist1D(ax[i][0], MC_df, var, cuts=cut)\n",
    "    hist1D(ax[i][1], MC_df, var, cuts=t_cut)\n",
    "\n",
    "for i, var in enumerate(truth_T_distros):    \n",
    "    hist1D(ax[i][2], MC_df, var, cuts=t_cut)\n",
    "\n",
    "\n",
    "# for i, var in enumerate(truth_T_distros):\n",
    "#     hist1D(ax[i][1], MC_df, var, cuts=cut)\n",
    "\n",
    "ax[0][0].set_title(\"MC\", y=1)\n",
    "ax[0][1].set_title(\"truth-matched\", y=1)\n",
    "ax[0][2].set_title(\"truth\", y=1)\n",
    "\n",
    "    \n",
    "plt.tight_layout(pad=0.05)"
   ]
  },
  {
   "cell_type": "code",
   "execution_count": 20,
   "metadata": {},
   "outputs": [
    {
     "data": {
      "application/vnd.jupyter.widget-view+json": {
       "model_id": "89bff88fc75c45dcbf8e8c8a2df676c0",
       "version_major": 2,
       "version_minor": 0
      },
      "text/plain": [
       "Canvas(toolbar=Toolbar(toolitems=[('Home', 'Reset original view', 'home', 'home'), ('Back', 'Back to previous …"
      ]
     },
     "metadata": {},
     "output_type": "display_data"
    }
   ],
   "source": [
    "fig, ax = plt.subplots(12,2, figsize=(12,30))\n",
    "\n",
    "raw_para = {\n",
    "    'label': \"Raw\"\n",
    "}\n",
    "traw_para = {\n",
    "    'label': \"Truth-matched Raw\"\n",
    "}\n",
    "cut_para = {\n",
    "    'label': \"Cut\"\n",
    "}\n",
    "tcut_para = {\n",
    "    'label': \"Truth-matched Cut\"\n",
    "}\n",
    "\n",
    "for i, var in enumerate(distros):\n",
    "    hist1D(ax[i][0], MC_df, var, density=True, label='raw')\n",
    "    hist1D(ax[i][0], MC_df, var, cuts=(MC_df.Truth==1), density=True, label=\"Truth-matched Raw\")\n",
    "\n",
    "\n",
    "\n",
    "for i, var in enumerate(distros):\n",
    "    hist1D(ax[i][1], MC_df, var, cuts=cut, density=True, label=\"Cut\")\n",
    "    hist1D(ax[i][1], MC_df, var, cuts=t_cut, density=True, label=\"Truth-matched Cut\")\n",
    "    \n",
    "for l in 0, 2, 4, 6, 8, 10:\n",
    "    ax[l][0].legend()\n",
    "    ax[l][1].legend()\n",
    "    \n",
    "plt.tight_layout(pad=0.05)"
   ]
  },
  {
   "cell_type": "code",
   "execution_count": 21,
   "metadata": {},
   "outputs": [
    {
     "data": {
      "text/plain": [
       "['Pi0helicity',\n",
       " 'Pi0W2',\n",
       " 'Pi0Q2',\n",
       " 'Pi0xB',\n",
       " 'Pi0tneg',\n",
       " 'Pi0tneg_pi0',\n",
       " 'Pi0dtneg',\n",
       " 'Pi0IM_g1g2',\n",
       " 'Pi0MM2_total',\n",
       " 'Pi0MP_total',\n",
       " 'Pi0ME_total',\n",
       " 'Pi0MPt_total',\n",
       " 'Pi0pi0coneangle',\n",
       " 'Pi0eg1coneangle',\n",
       " 'Pi0eg2coneangle',\n",
       " 'Pi0recoilconeangle',\n",
       " 'Pi0MP_rec_recoil',\n",
       " 'Pi0MPt_rec_recoil',\n",
       " 'Pi0MM_rec_recoil',\n",
       " 'Pi0MM2_rec_recoil',\n",
       " 'Pi0MP_rec_spectator',\n",
       " 'Pi0MPt_rec_spectator',\n",
       " 'Pi0MM_rec_spectator',\n",
       " 'Pi0MM2_rec_spectator',\n",
       " 'Pi0phi_Nvg',\n",
       " 'Pi0phi_Nnew',\n",
       " 'Pi0phi_vgnew',\n",
       " 'Pi0cop_Nvg_vgnew',\n",
       " 'Pi0cop_Nvg_Nnew',\n",
       " 'Pi0cop_Nnew_vgnew',\n",
       " 'Pi0recon_recoil_T',\n",
       " 'Pi0recoil_T',\n",
       " 'Pi0dneutT',\n",
       " 'Pi0rec_px',\n",
       " 'Pi0rec_py',\n",
       " 'Pi0rec_pz',\n",
       " 'Pi0rec_E',\n",
       " 'Pi0rec_magP',\n",
       " 'Pi0rec_pT',\n",
       " 'Pi0rec_theta',\n",
       " 'Pi0rec_phi',\n",
       " 'Pi0rec_status',\n",
       " 'Pi0rec_PID',\n",
       " 'Pi0e_px',\n",
       " 'Pi0e_py',\n",
       " 'Pi0e_pz',\n",
       " 'Pi0e_E',\n",
       " 'Pi0e_magP',\n",
       " 'Pi0e_pT',\n",
       " 'Pi0e_theta',\n",
       " 'Pi0e_phi',\n",
       " 'Pi0e_status',\n",
       " 'Pi0phot1_px',\n",
       " 'Pi0phot1_py',\n",
       " 'Pi0phot1_pz',\n",
       " 'Pi0phot1_E',\n",
       " 'Pi0phot1_magP',\n",
       " 'Pi0phot1_pT',\n",
       " 'Pi0phot1_theta',\n",
       " 'Pi0phot1_phi',\n",
       " 'Pi0phot1_status',\n",
       " 'Pi0phot2_px',\n",
       " 'Pi0phot2_py',\n",
       " 'Pi0phot2_pz',\n",
       " 'Pi0phot2_E',\n",
       " 'Pi0phot2_magP',\n",
       " 'Pi0phot2_pT',\n",
       " 'Pi0phot2_theta',\n",
       " 'Pi0phot2_phi',\n",
       " 'Pi0phot2_status',\n",
       " 'Pi0rec_Beta',\n",
       " 'Pi0phot1_Beta',\n",
       " 'Pi0phot2_Beta',\n",
       " 'Pi0e_sampfrac',\n",
       " 'Pi0rcdb_Ebeam',\n",
       " 'Pi0flag_photon1_FT',\n",
       " 'Pi0flag_photon1_FD',\n",
       " 'Pi0flag_photon2_FT',\n",
       " 'Pi0flag_photon2_FD',\n",
       " 'Pi0flag_cut_3sigPi0IM',\n",
       " 'Pi0flag_MC_neutrec',\n",
       " 'truPi0helicity',\n",
       " 'truPi0W2',\n",
       " 'truPi0Q2',\n",
       " 'truPi0xB',\n",
       " 'truPi0tneg',\n",
       " 'truPi0tneg_pi0',\n",
       " 'truPi0dtneg',\n",
       " 'truPi0IM_g1g2',\n",
       " 'truPi0MM2_total',\n",
       " 'truPi0MP_total',\n",
       " 'truPi0ME_total',\n",
       " 'truPi0MPt_total',\n",
       " 'truPi0pi0coneangle',\n",
       " 'truPi0eg1coneangle',\n",
       " 'truPi0eg2coneangle',\n",
       " 'truPi0recoilconeangle',\n",
       " 'truPi0MP_rec_recoil',\n",
       " 'truPi0MPt_rec_recoil',\n",
       " 'truPi0MM_rec_recoil',\n",
       " 'truPi0MM2_rec_recoil',\n",
       " 'truPi0MP_rec_spectator',\n",
       " 'truPi0MPt_rec_spectator',\n",
       " 'truPi0MM_rec_spectator',\n",
       " 'truPi0MM2_rec_spectator',\n",
       " 'truPi0phi_Nvg',\n",
       " 'truPi0phi_Nnew',\n",
       " 'truPi0phi_vgnew',\n",
       " 'truPi0cop_Nvg_vgnew',\n",
       " 'truPi0cop_Nvg_Nnew',\n",
       " 'truPi0cop_Nnew_vgnew',\n",
       " 'truPi0recon_recoil_T',\n",
       " 'truPi0recoil_T',\n",
       " 'truPi0dneutT',\n",
       " 'truPi0rec_px',\n",
       " 'truPi0rec_py',\n",
       " 'truPi0rec_pz',\n",
       " 'truPi0rec_E',\n",
       " 'truPi0rec_magP',\n",
       " 'truPi0rec_pT',\n",
       " 'truPi0rec_theta',\n",
       " 'truPi0rec_phi',\n",
       " 'truPi0rec_status',\n",
       " 'truPi0rec_PID',\n",
       " 'truPi0e_px',\n",
       " 'truPi0e_py',\n",
       " 'truPi0e_pz',\n",
       " 'truPi0e_E',\n",
       " 'truPi0e_magP',\n",
       " 'truPi0e_pT',\n",
       " 'truPi0e_theta',\n",
       " 'truPi0e_phi',\n",
       " 'truPi0e_status',\n",
       " 'truPi0phot1_px',\n",
       " 'truPi0phot1_py',\n",
       " 'truPi0phot1_pz',\n",
       " 'truPi0phot1_E',\n",
       " 'truPi0phot1_magP',\n",
       " 'truPi0phot1_pT',\n",
       " 'truPi0phot1_theta',\n",
       " 'truPi0phot1_phi',\n",
       " 'truPi0phot1_status',\n",
       " 'truPi0phot2_px',\n",
       " 'truPi0phot2_py',\n",
       " 'truPi0phot2_pz',\n",
       " 'truPi0phot2_E',\n",
       " 'truPi0phot2_magP',\n",
       " 'truPi0phot2_pT',\n",
       " 'truPi0phot2_theta',\n",
       " 'truPi0phot2_phi',\n",
       " 'truPi0phot2_status',\n",
       " 'truPi0rec_Beta',\n",
       " 'truPi0phot1_Beta',\n",
       " 'truPi0phot2_Beta',\n",
       " 'truPi0e_sampfrac',\n",
       " 'truPi0rcdb_Ebeam',\n",
       " 'truPi0flag_photon1_FT',\n",
       " 'truPi0flag_photon1_FD',\n",
       " 'truPi0flag_photon2_FT',\n",
       " 'truPi0flag_photon2_FD',\n",
       " 'truPi0flag_cut_3sigPi0IM',\n",
       " 'truPi0flag_MC_neutrec',\n",
       " 'Topo',\n",
       " 'NPerm',\n",
       " 'Truth',\n",
       " 'ZeroKins',\n",
       " 'hitPCAL']"
      ]
     },
     "execution_count": 21,
     "metadata": {},
     "output_type": "execute_result"
    }
   ],
   "source": [
    "list(MC_df.columns)"
   ]
  },
  {
   "cell_type": "code",
   "execution_count": 22,
   "metadata": {},
   "outputs": [],
   "source": [
    "bins = 200\n",
    "evo_distros1 = [\n",
    "    [\"Pi0IM_g1g2\", (bins,0,0.2), r\"$M_{\\gamma\\gamma}$ $(GeV/c^{2})$\"],\n",
    "    [\"Pi0MM2_total\", (bins,-5, 5), r\"$MM^{2}_{e'n'\\gamma\\gamma X}$   ($GeV^{2}/c^{4}$)\"]\n",
    "]\n",
    "\n",
    "evo_distros2 = [\n",
    "    [\"Pi0MM_rec_recoil\", (bins,0, 2), r\"$MM_{e'\\gamma\\gamma X}$   ($GeV/c^{2}$)\"],\n",
    "    [\"Pi0MM_rec_spectator\", (bins,0, 2), r\"$MM_{eD -> e'n'\\gamma\\gamma X}$   ($GeV/c^{2}$)\"],    \n",
    "    [\"Pi0MP_rec_spectator\", (bins,0, 0.5), r\"$MP_{eD -> e'n'\\gamma\\gamma X}$   ($GeV/c^{2}$)\"],    \n",
    "    [\"Pi0MP_total\", (bins,0, 3), r\"$MP_{e'n'\\gamma\\gamma X}$   ($GeV/c^{2}$)\"],\n",
    "    [\"Pi0MPt_total\", (bins,0, 3), r\"$MP^{T}_{e'n'\\gamma\\gamma X}$   ($GeV/c^{2}$)\"]\n",
    "]\n",
    "\n",
    "evo_distros3 = [\n",
    "    [\"Pi0cop_Nvg_Nnew\", (bins,-50, 50), r\"$d\\phi_{n\\gamma^{*}-n\\pi_{0}}$ ($\\circ$)\"],\n",
    "    [\"Pi0pi0coneangle\", (bins,0, 60), r\"$\\theta^{cone}_{\\pi_{0}X}$ ($\\circ$)\"],\n",
    "    [\"Pi0recoilconeangle\", (bins,0, 60), r\"$\\theta^{cone}_{nX}$ ($\\circ$)\"],\n",
    "    [\"Pi0eg1coneangle\", (bins,0, 60), r\"$\\theta^{cone}_{e\\gamma_{1}}$ ($\\circ$)\"],\n",
    "    [\"Pi0eg2coneangle\", (bins,0, 60), r\"$\\theta^{cone}_{e\\gamma_{2}}$ ($\\circ$)\"]\n",
    "]\n"
   ]
  },
  {
   "cell_type": "code",
   "execution_count": 23,
   "metadata": {},
   "outputs": [],
   "source": [
    "cuts_truth = [\n",
    "    (MC_df.Truth==1),\n",
    "    (MC_df.Pi0flag_cut_3sigPi0IM == 1),\n",
    "    (MC_df.Pi0rec_magP >= 0.35),\n",
    "    ((MC_df.Pi0rec_status > 3990) & (MC_df.Pi0rec_status < 4150)),\n",
    "    (MC_df.hitPCAL == 1)\n",
    "]\n",
    "\n",
    "cut_label = [\n",
    "    \"Truth-Match\",\n",
    "    r\"$3\\sigma$  $\\pi_{0}$-mass\",\n",
    "    r\"$|p|_{neut.} > 350MeV$\",    \n",
    "    \"CND neutron\",\n",
    "    \"enforce PCAL hit\"\n",
    "]"
   ]
  },
  {
   "cell_type": "code",
   "execution_count": 24,
   "metadata": {},
   "outputs": [
    {
     "data": {
      "application/vnd.jupyter.widget-view+json": {
       "model_id": "214cfaa23c3c41eeabb4449dda0f61a0",
       "version_major": 2,
       "version_minor": 0
      },
      "text/plain": [
       "Canvas(toolbar=Toolbar(toolitems=[('Home', 'Reset original view', 'home', 'home'), ('Back', 'Back to previous …"
      ]
     },
     "metadata": {},
     "output_type": "display_data"
    }
   ],
   "source": [
    "fig1, ax1 = plt.subplots(5,2,figsize=(7,12))\n",
    "\n",
    "for j in range(len(cuts_truth)):\n",
    "    for i, var in enumerate(evo_distros1):\n",
    "        \n",
    "        hist1D(ax1[j][i], MC_df, var, cuts=(ft.reduce(lambda x, y: x & y, cuts_truth[:j+1])))\n",
    "\n",
    "for k in range(len(cuts_truth)):\n",
    "    ax1[k][0].set_ylabel(cut_label[k])\n",
    "\n",
    "plt.tight_layout()"
   ]
  },
  {
   "cell_type": "code",
   "execution_count": 25,
   "metadata": {},
   "outputs": [
    {
     "data": {
      "application/vnd.jupyter.widget-view+json": {
       "model_id": "bc2686f091b4401e94bc0ded006b4153",
       "version_major": 2,
       "version_minor": 0
      },
      "text/plain": [
       "Canvas(toolbar=Toolbar(toolitems=[('Home', 'Reset original view', 'home', 'home'), ('Back', 'Back to previous …"
      ]
     },
     "metadata": {},
     "output_type": "display_data"
    }
   ],
   "source": [
    "fig1, ax1 = plt.subplots(5,5,figsize=(17,12))\n",
    "\n",
    "for j in range(len(cuts_truth)):\n",
    "    for i, var in enumerate(evo_distros2):\n",
    "        \n",
    "        hist1D(ax1[j][i], MC_df, var, cuts=(ft.reduce(lambda x, y: x & y, cuts_truth[:j+1])))\n",
    "\n",
    "for k in range(len(cuts_truth)):\n",
    "    ax1[k][0].set_ylabel(cut_label[k])\n",
    "\n",
    "plt.tight_layout()"
   ]
  },
  {
   "cell_type": "code",
   "execution_count": 26,
   "metadata": {},
   "outputs": [
    {
     "data": {
      "application/vnd.jupyter.widget-view+json": {
       "model_id": "b8da0015a84c496a98f912f503c6928c",
       "version_major": 2,
       "version_minor": 0
      },
      "text/plain": [
       "Canvas(toolbar=Toolbar(toolitems=[('Home', 'Reset original view', 'home', 'home'), ('Back', 'Back to previous …"
      ]
     },
     "metadata": {},
     "output_type": "display_data"
    }
   ],
   "source": [
    "fig1, ax1 = plt.subplots(5,5,figsize=(17,12))\n",
    "\n",
    "for j in range(len(cuts_truth)):\n",
    "    for i, var in enumerate(evo_distros3):\n",
    "        \n",
    "        hist1D(ax1[j][i], MC_df, var, cuts=(ft.reduce(lambda x, y: x & y, cuts_truth[:j+1])))\n",
    "\n",
    "for k in range(len(cuts_truth)):\n",
    "    ax1[k][0].set_ylabel(cut_label[k])\n",
    "\n",
    "plt.tight_layout()"
   ]
  },
  {
   "cell_type": "markdown",
   "metadata": {},
   "source": [
    "## Add PID to truth"
   ]
  },
  {
   "cell_type": "code",
   "execution_count": 27,
   "metadata": {},
   "outputs": [
    {
     "data": {
      "application/vnd.jupyter.widget-view+json": {
       "model_id": "5f85bef995fb46a694015e427499cad3",
       "version_major": 2,
       "version_minor": 0
      },
      "text/plain": [
       "Canvas(toolbar=Toolbar(toolitems=[('Home', 'Reset original view', 'home', 'home'), ('Back', 'Back to previous …"
      ]
     },
     "metadata": {},
     "output_type": "display_data"
    }
   ],
   "source": [
    "fig, ax = plt.subplots(12,3, figsize=(12,25))\n",
    "\n",
    "for i, var in enumerate(distros):\n",
    "    hist1D(ax[i][0], MC_df, var, cuts=cut, density=True, label=\"MC cut\", color=\"royalblue\")\n",
    "    #hist1D(ax[i][0], MC_df, var, cuts=cut&(MC_df.Pi0flag_MC_neutrec==1), bins=75, density=True, label=\"truth+PID\")\n",
    "\n",
    "    hist1D(ax[i][1], MC_df, var, cuts=t_cut, density=True, label=\"truth-matched\")\n",
    "    hist1D(ax[i][1], MC_df, var, cuts=t_cut&(MC_df.Pi0flag_MC_neutrec==1), bins=75, density=True, label=\"truth+PID\")\n",
    "\n",
    "    #hist1D(ax[i][2], data_df, var, cuts=dcut&(MC_df.Pi0flag_MC_neutrec==1))\n",
    "\n",
    "for i, var in enumerate(truth_distros):\n",
    "    hist1D(ax[i][2], MC_df, var, cuts=t_cut, density=True, label=\"truth-matched\")\n",
    "    hist1D(ax[i][2], MC_df, var, cuts=t_cut&(MC_df.Pi0flag_MC_neutrec==1), bins=75, density=True, label=\"truth+PID\")\n",
    "\n",
    "\n",
    "\n",
    "# for i, var in enumerate(truth_distros):\n",
    "#     hist1D(ax[i][1], MC_df, var, cuts=cut&(MC_df.Pi0flag_MC_neutrec==1))\n",
    "\n",
    "ax[0][0].set_title(\"MC\", y=1)\n",
    "ax[0][1].set_title(\"truth-matched\", y=1)\n",
    "ax[0][2].set_title(\"truth\", y=1)\n",
    "\n",
    "# for i in 1, 4, 7, 10:\n",
    "#     ax[i][2].legend()\n",
    "#     ax[i][1].legend()\n",
    "#     ax[i][0].legend()\n",
    "    \n",
    "ax[0][1].legend(loc=2)\n",
    "ax[3][1].legend(loc=2)\n",
    "ax[6][1].legend(loc=1)\n",
    "ax[9][1].legend(loc=1)\n",
    "\n",
    "\n",
    "plt.tight_layout(pad=0.3)"
   ]
  },
  {
   "cell_type": "code",
   "execution_count": 28,
   "metadata": {},
   "outputs": [
    {
     "data": {
      "application/vnd.jupyter.widget-view+json": {
       "model_id": "40937fb6ae284e1baa79fe8fd435444d",
       "version_major": 2,
       "version_minor": 0
      },
      "text/plain": [
       "Canvas(toolbar=Toolbar(toolitems=[('Home', 'Reset original view', 'home', 'home'), ('Back', 'Back to previous …"
      ]
     },
     "metadata": {},
     "output_type": "display_data"
    }
   ],
   "source": [
    "fig, ax = plt.subplots(12,3, figsize=(12,25))\n",
    "\n",
    "for i, var in enumerate(distros):\n",
    "    hist1D(ax[i][0], MC_df, var, cuts=cut, density=True, label=\"MC cut\", color=\"royalblue\")\n",
    "    #hist1D(ax[i][0], MC_df, var, cuts=cut&(MC_df.Pi0flag_MC_neutrec==1), bins=75, label=\"truth+PID\")\n",
    "\n",
    "    hist1D(ax[i][1], MC_df, var, cuts=t_cut, label=\"truth-matched\")\n",
    "    hist1D(ax[i][1], MC_df, var, cuts=t_cut&(MC_df.Pi0flag_MC_neutrec==1), bins=75, label=\"truth+PID\")\n",
    "\n",
    "    #hist1D(ax[i][2], data_df, var, cuts=dcut&(MC_df.Pi0flag_MC_neutrec==1))\n",
    "\n",
    "for i, var in enumerate(truth_distros):\n",
    "    hist1D(ax[i][2], MC_df, var, cuts=t_cut, label=\"truth-matched\")\n",
    "    hist1D(ax[i][2], MC_df, var, cuts=t_cut&(MC_df.Pi0flag_MC_neutrec==1), bins=75, label=\"truth+PID\")\n",
    "\n",
    "\n",
    "\n",
    "# for i, var in enumerate(truth_distros):\n",
    "#     hist1D(ax[i][1], MC_df, var, cuts=cut&(MC_df.Pi0flag_MC_neutrec==1))\n",
    "\n",
    "ax[0][0].set_title(\"MC\", y=1)\n",
    "ax[0][1].set_title(\"truth-matched\", y=1)\n",
    "ax[0][2].set_title(\"truth\", y=1)\n",
    "\n",
    "for i in 1, 4, 7, 10:\n",
    "    ax[i][2].legend()\n",
    "    ax[i][1].legend()\n",
    "    ax[i][0].legend()\n",
    "    \n",
    "plt.tight_layout(pad=0.3)"
   ]
  },
  {
   "cell_type": "code",
   "execution_count": 29,
   "metadata": {},
   "outputs": [
    {
     "data": {
      "application/vnd.jupyter.widget-view+json": {
       "model_id": "192b36d627544d0289086dfecc72528f",
       "version_major": 2,
       "version_minor": 0
      },
      "text/plain": [
       "Canvas(toolbar=Toolbar(toolitems=[('Home', 'Reset original view', 'home', 'home'), ('Back', 'Back to previous …"
      ]
     },
     "metadata": {},
     "output_type": "display_data"
    }
   ],
   "source": [
    "fig, ax = plt.subplots(3,3, figsize=(10,9))\n",
    "\n",
    "for i, var in enumerate(T_distros):\n",
    "    hist1D(ax[i][0], MC_df, var, cuts=cut, density=True)\n",
    "    hist1D(ax[i][1], MC_df, var, cuts=t_cut, density=True)\n",
    "    \n",
    "    hist1D(ax[i][1], MC_df, var, cuts=t_cut&(MC_df.Pi0flag_MC_neutrec==1), density=True, bins=75)\n",
    "\n",
    "for i, var in enumerate(truth_T_distros):    \n",
    "    hist1D(ax[i][2], MC_df, var, cuts=t_cut, density=True)\n",
    "    hist1D(ax[i][2], MC_df, var, cuts=t_cut&(MC_df.Pi0flag_MC_neutrec==1), density=True, bins=75)\n",
    "\n",
    "\n",
    "# for i, var in enumerate(truth_T_distros):\n",
    "#     hist1D(ax[i][1], MC_df, var, cuts=cut, density=True)\n",
    "\n",
    "ax[0][0].set_title(\"MC\", y=1)\n",
    "ax[0][1].set_title(\"truth-matched\", y=1)\n",
    "ax[0][2].set_title(\"truth\", y=1)\n",
    "\n",
    "    \n",
    "plt.tight_layout(pad=0.05)"
   ]
  },
  {
   "cell_type": "code",
   "execution_count": null,
   "metadata": {},
   "outputs": [],
   "source": []
  },
  {
   "cell_type": "code",
   "execution_count": null,
   "metadata": {},
   "outputs": [],
   "source": []
  }
 ],
 "metadata": {
  "kernelspec": {
   "display_name": "pi0-ana",
   "language": "python",
   "name": "pi0-ana"
  },
  "language_info": {
   "codemirror_mode": {
    "name": "ipython",
    "version": 3
   },
   "file_extension": ".py",
   "mimetype": "text/x-python",
   "name": "python",
   "nbconvert_exporter": "python",
   "pygments_lexer": "ipython3",
   "version": "3.7.9"
  },
  "widgets": {
   "application/vnd.jupyter.widget-state+json": {
    "state": {
     "0a95346f184249de910013fd94e01f91": {
      "model_module": "@jupyter-widgets/base",
      "model_module_version": "1.2.0",
      "model_name": "LayoutModel",
      "state": {}
     },
     "0d110812cc7d496ca040dfd05d7c5bb5": {
      "model_module": "@jupyter-widgets/base",
      "model_module_version": "1.2.0",
      "model_name": "LayoutModel",
      "state": {}
     },
     "1194c5c297344cdc938ab56f23793d58": {
      "model_module": "@jupyter-widgets/base",
      "model_module_version": "1.2.0",
      "model_name": "LayoutModel",
      "state": {}
     },
     "14ce62e1ca1e4592be6ef6696277b837": {
      "model_module": "jupyter-matplotlib",
      "model_module_version": "^0.8.3",
      "model_name": "ToolbarModel",
      "state": {
       "layout": "IPY_MODEL_b13b7045cae641c9899cefedde30a926",
       "toolitems": [
        [
         "Home",
         "Reset original view",
         "home",
         "home"
        ],
        [
         "Back",
         "Back to previous view",
         "arrow-left",
         "back"
        ],
        [
         "Forward",
         "Forward to next view",
         "arrow-right",
         "forward"
        ],
        [
         "Pan",
         "Left button pans, Right button zooms\nx/y fixes axis, CTRL fixes aspect",
         "arrows",
         "pan"
        ],
        [
         "Zoom",
         "Zoom to rectangle\nx/y fixes axis, CTRL fixes aspect",
         "square-o",
         "zoom"
        ],
        [
         "Download",
         "Download plot",
         "floppy-o",
         "save_figure"
        ]
       ]
      }
     },
     "192b36d627544d0289086dfecc72528f": {
      "model_module": "jupyter-matplotlib",
      "model_module_version": "^0.8.3",
      "model_name": "MPLCanvasModel",
      "state": {
       "_cursor": "default",
       "_figure_label": "Figure 17",
       "_height": 900,
       "_width": 1000,
       "layout": "IPY_MODEL_4ee2b0a237f440139ed8006c726526cf",
       "toolbar": "IPY_MODEL_f185b8c246584beba2d8c237ae7c0cd2",
       "toolbar_position": "left"
      }
     },
     "1acfd52421644a9c992b74989cd23c1f": {
      "model_module": "@jupyter-widgets/base",
      "model_module_version": "1.2.0",
      "model_name": "LayoutModel",
      "state": {}
     },
     "214cfaa23c3c41eeabb4449dda0f61a0": {
      "model_module": "jupyter-matplotlib",
      "model_module_version": "^0.8.3",
      "model_name": "MPLCanvasModel",
      "state": {
       "_cursor": "default",
       "_figure_label": "Figure 12",
       "_height": 1200,
       "_width": 700,
       "layout": "IPY_MODEL_2faa7ba99164464a846b0ec2495ef926",
       "toolbar": "IPY_MODEL_84e1aa25e724430a913c4c75d5ec1cb3",
       "toolbar_position": "left"
      }
     },
     "21e20e31c43e476b839a4e1c552bfe48": {
      "model_module": "@jupyter-widgets/base",
      "model_module_version": "1.2.0",
      "model_name": "LayoutModel",
      "state": {}
     },
     "2bffd09814de476b8803d58b3c01fa02": {
      "model_module": "@jupyter-widgets/base",
      "model_module_version": "1.2.0",
      "model_name": "LayoutModel",
      "state": {}
     },
     "2faa7ba99164464a846b0ec2495ef926": {
      "model_module": "@jupyter-widgets/base",
      "model_module_version": "1.2.0",
      "model_name": "LayoutModel",
      "state": {}
     },
     "31adb4a9b01c4eaf8671ba29c4f9f415": {
      "model_module": "jupyter-matplotlib",
      "model_module_version": "^0.8.3",
      "model_name": "ToolbarModel",
      "state": {
       "layout": "IPY_MODEL_5bc619f40c4c4d6ab347bab9479e8866",
       "toolitems": [
        [
         "Home",
         "Reset original view",
         "home",
         "home"
        ],
        [
         "Back",
         "Back to previous view",
         "arrow-left",
         "back"
        ],
        [
         "Forward",
         "Forward to next view",
         "arrow-right",
         "forward"
        ],
        [
         "Pan",
         "Left button pans, Right button zooms\nx/y fixes axis, CTRL fixes aspect",
         "arrows",
         "pan"
        ],
        [
         "Zoom",
         "Zoom to rectangle\nx/y fixes axis, CTRL fixes aspect",
         "square-o",
         "zoom"
        ],
        [
         "Download",
         "Download plot",
         "floppy-o",
         "save_figure"
        ]
       ]
      }
     },
     "31bdc7f903f741e5a2d054a7aae8d5af": {
      "model_module": "@jupyter-widgets/base",
      "model_module_version": "1.2.0",
      "model_name": "LayoutModel",
      "state": {}
     },
     "34eeb51f12864241b6bfdcd353738d02": {
      "model_module": "jupyter-matplotlib",
      "model_module_version": "^0.8.3",
      "model_name": "MPLCanvasModel",
      "state": {
       "_cursor": "default",
       "_figure_label": "Figure 2",
       "_height": 2500,
       "_width": 1200,
       "layout": "IPY_MODEL_7b04f38f2f1649298114cdc9f3a83d5f",
       "toolbar": "IPY_MODEL_b97fdb9121a74cb4a7b24f9e1dd4bffa",
       "toolbar_position": "left"
      }
     },
     "3925f65d47994ff1a03447c25f2344d5": {
      "model_module": "jupyter-matplotlib",
      "model_module_version": "^0.8.3",
      "model_name": "MPLCanvasModel",
      "state": {
       "_cursor": "default",
       "_figure_label": "Figure 9",
       "_height": 500,
       "_message": "x=0.626 y=176.",
       "_width": 1200,
       "layout": "IPY_MODEL_31bdc7f903f741e5a2d054a7aae8d5af",
       "toolbar": "IPY_MODEL_b06f551841e74b089ff5668c171ba281",
       "toolbar_position": "left"
      }
     },
     "3b255d62000d4f5f98c2ccaad55d18d2": {
      "model_module": "jupyter-matplotlib",
      "model_module_version": "^0.8.3",
      "model_name": "MPLCanvasModel",
      "state": {
       "_cursor": "default",
       "_figure_label": "Figure 7",
       "_height": 2500,
       "_width": 1200,
       "layout": "IPY_MODEL_3e71412c0d3d4aff85422c3090891ab7",
       "toolbar": "IPY_MODEL_ddb59a2f32a24977b9eba4b780e5ae62",
       "toolbar_position": "left"
      }
     },
     "3e71412c0d3d4aff85422c3090891ab7": {
      "model_module": "@jupyter-widgets/base",
      "model_module_version": "1.2.0",
      "model_name": "LayoutModel",
      "state": {}
     },
     "3ffccdeaea7747eeab082b4fd83e9472": {
      "model_module": "jupyter-matplotlib",
      "model_module_version": "^0.8.3",
      "model_name": "MPLCanvasModel",
      "state": {
       "_cursor": "default",
       "_figure_label": "Figure 5",
       "_height": 900,
       "_width": 1000,
       "layout": "IPY_MODEL_4cb7a8edb9a04c5d8d631df155e0e053",
       "toolbar": "IPY_MODEL_b3323259a533473ebe300e811b533fa3",
       "toolbar_position": "left"
      }
     },
     "40937fb6ae284e1baa79fe8fd435444d": {
      "model_module": "jupyter-matplotlib",
      "model_module_version": "^0.8.3",
      "model_name": "MPLCanvasModel",
      "state": {
       "_cursor": "default",
       "_figure_label": "Figure 16",
       "_height": 2500,
       "_message": "x=8.8 y=305.",
       "_width": 1200,
       "layout": "IPY_MODEL_21e20e31c43e476b839a4e1c552bfe48",
       "toolbar": "IPY_MODEL_31adb4a9b01c4eaf8671ba29c4f9f415",
       "toolbar_position": "left"
      }
     },
     "44661403c6be49daaa7909bc806bfce5": {
      "model_module": "@jupyter-widgets/base",
      "model_module_version": "1.2.0",
      "model_name": "LayoutModel",
      "state": {}
     },
     "464c6e486fea4a699c3bd0840bc20835": {
      "model_module": "@jupyter-widgets/base",
      "model_module_version": "1.2.0",
      "model_name": "LayoutModel",
      "state": {}
     },
     "4cb7a8edb9a04c5d8d631df155e0e053": {
      "model_module": "@jupyter-widgets/base",
      "model_module_version": "1.2.0",
      "model_name": "LayoutModel",
      "state": {}
     },
     "4d7c1867747c46bba7af295c1f272fee": {
      "model_module": "jupyter-matplotlib",
      "model_module_version": "^0.8.3",
      "model_name": "ToolbarModel",
      "state": {
       "layout": "IPY_MODEL_44661403c6be49daaa7909bc806bfce5",
       "toolitems": [
        [
         "Home",
         "Reset original view",
         "home",
         "home"
        ],
        [
         "Back",
         "Back to previous view",
         "arrow-left",
         "back"
        ],
        [
         "Forward",
         "Forward to next view",
         "arrow-right",
         "forward"
        ],
        [
         "Pan",
         "Left button pans, Right button zooms\nx/y fixes axis, CTRL fixes aspect",
         "arrows",
         "pan"
        ],
        [
         "Zoom",
         "Zoom to rectangle\nx/y fixes axis, CTRL fixes aspect",
         "square-o",
         "zoom"
        ],
        [
         "Download",
         "Download plot",
         "floppy-o",
         "save_figure"
        ]
       ]
      }
     },
     "4e062f3115d94b87989d01c3bc284ff1": {
      "model_module": "jupyter-matplotlib",
      "model_module_version": "^0.8.3",
      "model_name": "ToolbarModel",
      "state": {
       "layout": "IPY_MODEL_2bffd09814de476b8803d58b3c01fa02",
       "toolitems": [
        [
         "Home",
         "Reset original view",
         "home",
         "home"
        ],
        [
         "Back",
         "Back to previous view",
         "arrow-left",
         "back"
        ],
        [
         "Forward",
         "Forward to next view",
         "arrow-right",
         "forward"
        ],
        [
         "Pan",
         "Left button pans, Right button zooms\nx/y fixes axis, CTRL fixes aspect",
         "arrows",
         "pan"
        ],
        [
         "Zoom",
         "Zoom to rectangle\nx/y fixes axis, CTRL fixes aspect",
         "square-o",
         "zoom"
        ],
        [
         "Download",
         "Download plot",
         "floppy-o",
         "save_figure"
        ]
       ]
      }
     },
     "4ee2b0a237f440139ed8006c726526cf": {
      "model_module": "@jupyter-widgets/base",
      "model_module_version": "1.2.0",
      "model_name": "LayoutModel",
      "state": {}
     },
     "5865dd3887024bc4b16ab7d11a7c415b": {
      "model_module": "@jupyter-widgets/base",
      "model_module_version": "1.2.0",
      "model_name": "LayoutModel",
      "state": {}
     },
     "598718a51dfc463995266edc5ca57376": {
      "model_module": "@jupyter-widgets/base",
      "model_module_version": "1.2.0",
      "model_name": "LayoutModel",
      "state": {}
     },
     "5bc619f40c4c4d6ab347bab9479e8866": {
      "model_module": "@jupyter-widgets/base",
      "model_module_version": "1.2.0",
      "model_name": "LayoutModel",
      "state": {}
     },
     "5f85bef995fb46a694015e427499cad3": {
      "model_module": "jupyter-matplotlib",
      "model_module_version": "^0.8.3",
      "model_name": "MPLCanvasModel",
      "state": {
       "_cursor": "default",
       "_figure_label": "Figure 15",
       "_height": 2500,
       "_width": 1200,
       "layout": "IPY_MODEL_80907b1b513e4dd2b98401f156edd29d",
       "toolbar": "IPY_MODEL_800ed0e8c6cd401586e0264d34fbf42e",
       "toolbar_position": "left"
      }
     },
     "697de673d8894ca894050e242cf776c4": {
      "model_module": "@jupyter-widgets/base",
      "model_module_version": "1.2.0",
      "model_name": "LayoutModel",
      "state": {}
     },
     "795200604345422e8be5324c2b43bb54": {
      "model_module": "@jupyter-widgets/base",
      "model_module_version": "1.2.0",
      "model_name": "LayoutModel",
      "state": {}
     },
     "7b04f38f2f1649298114cdc9f3a83d5f": {
      "model_module": "@jupyter-widgets/base",
      "model_module_version": "1.2.0",
      "model_name": "LayoutModel",
      "state": {}
     },
     "7c44f60417a44cf4ba03d48f941edc35": {
      "model_module": "jupyter-matplotlib",
      "model_module_version": "^0.8.3",
      "model_name": "MPLCanvasModel",
      "state": {
       "_cursor": "default",
       "_figure_label": "Figure 1",
       "_height": 2500,
       "_message": "x=51.6 y=16.",
       "_width": 1200,
       "layout": "IPY_MODEL_1acfd52421644a9c992b74989cd23c1f",
       "toolbar": "IPY_MODEL_ba06e83bd8354414b019dd45b2479416",
       "toolbar_position": "left"
      }
     },
     "800ed0e8c6cd401586e0264d34fbf42e": {
      "model_module": "jupyter-matplotlib",
      "model_module_version": "^0.8.3",
      "model_name": "ToolbarModel",
      "state": {
       "layout": "IPY_MODEL_ad0f169231784118acfabbc127902bda",
       "toolitems": [
        [
         "Home",
         "Reset original view",
         "home",
         "home"
        ],
        [
         "Back",
         "Back to previous view",
         "arrow-left",
         "back"
        ],
        [
         "Forward",
         "Forward to next view",
         "arrow-right",
         "forward"
        ],
        [
         "Pan",
         "Left button pans, Right button zooms\nx/y fixes axis, CTRL fixes aspect",
         "arrows",
         "pan"
        ],
        [
         "Zoom",
         "Zoom to rectangle\nx/y fixes axis, CTRL fixes aspect",
         "square-o",
         "zoom"
        ],
        [
         "Download",
         "Download plot",
         "floppy-o",
         "save_figure"
        ]
       ]
      }
     },
     "80907b1b513e4dd2b98401f156edd29d": {
      "model_module": "@jupyter-widgets/base",
      "model_module_version": "1.2.0",
      "model_name": "LayoutModel",
      "state": {}
     },
     "846cbb804f5642c6b99e10d4b8ec1162": {
      "model_module": "@jupyter-widgets/base",
      "model_module_version": "1.2.0",
      "model_name": "LayoutModel",
      "state": {}
     },
     "84e1aa25e724430a913c4c75d5ec1cb3": {
      "model_module": "jupyter-matplotlib",
      "model_module_version": "^0.8.3",
      "model_name": "ToolbarModel",
      "state": {
       "layout": "IPY_MODEL_0a95346f184249de910013fd94e01f91",
       "toolitems": [
        [
         "Home",
         "Reset original view",
         "home",
         "home"
        ],
        [
         "Back",
         "Back to previous view",
         "arrow-left",
         "back"
        ],
        [
         "Forward",
         "Forward to next view",
         "arrow-right",
         "forward"
        ],
        [
         "Pan",
         "Left button pans, Right button zooms\nx/y fixes axis, CTRL fixes aspect",
         "arrows",
         "pan"
        ],
        [
         "Zoom",
         "Zoom to rectangle\nx/y fixes axis, CTRL fixes aspect",
         "square-o",
         "zoom"
        ],
        [
         "Download",
         "Download plot",
         "floppy-o",
         "save_figure"
        ]
       ]
      }
     },
     "8994b3be923b4d9a88911538f6463bd8": {
      "model_module": "jupyter-matplotlib",
      "model_module_version": "^0.8.3",
      "model_name": "MPLCanvasModel",
      "state": {
       "_cursor": "default",
       "_figure_label": "Figure 3",
       "_height": 1500,
       "_width": 1200,
       "layout": "IPY_MODEL_ab22517ca21640aeb0be558eee6eae1c",
       "toolbar": "IPY_MODEL_8aa1d72a3d4f457dbdbd97a0798b62d8",
       "toolbar_position": "left"
      }
     },
     "89bff88fc75c45dcbf8e8c8a2df676c0": {
      "model_module": "jupyter-matplotlib",
      "model_module_version": "^0.8.3",
      "model_name": "MPLCanvasModel",
      "state": {
       "_cursor": "default",
       "_figure_label": "Figure 11",
       "_height": 3000,
       "_width": 1200,
       "layout": "IPY_MODEL_0d110812cc7d496ca040dfd05d7c5bb5",
       "toolbar": "IPY_MODEL_9b92e0924f0e4622983acb851b15c242",
       "toolbar_position": "left"
      }
     },
     "8aa1d72a3d4f457dbdbd97a0798b62d8": {
      "model_module": "jupyter-matplotlib",
      "model_module_version": "^0.8.3",
      "model_name": "ToolbarModel",
      "state": {
       "layout": "IPY_MODEL_697de673d8894ca894050e242cf776c4",
       "toolitems": [
        [
         "Home",
         "Reset original view",
         "home",
         "home"
        ],
        [
         "Back",
         "Back to previous view",
         "arrow-left",
         "back"
        ],
        [
         "Forward",
         "Forward to next view",
         "arrow-right",
         "forward"
        ],
        [
         "Pan",
         "Left button pans, Right button zooms\nx/y fixes axis, CTRL fixes aspect",
         "arrows",
         "pan"
        ],
        [
         "Zoom",
         "Zoom to rectangle\nx/y fixes axis, CTRL fixes aspect",
         "square-o",
         "zoom"
        ],
        [
         "Download",
         "Download plot",
         "floppy-o",
         "save_figure"
        ]
       ]
      }
     },
     "954dff8340934ac797d0a7ca2381121d": {
      "model_module": "@jupyter-widgets/base",
      "model_module_version": "1.2.0",
      "model_name": "LayoutModel",
      "state": {}
     },
     "95948debedd641b099f26138511d850c": {
      "model_module": "jupyter-matplotlib",
      "model_module_version": "^0.8.3",
      "model_name": "MPLCanvasModel",
      "state": {
       "_cursor": "default",
       "_figure_label": "Figure 8",
       "_height": 1500,
       "_width": 1200,
       "layout": "IPY_MODEL_e40b4e4bb229434cbb2b00f7ba7e25e1",
       "toolbar": "IPY_MODEL_4d7c1867747c46bba7af295c1f272fee",
       "toolbar_position": "left"
      }
     },
     "9624434561fd41f1bd5f46bb6bc63a66": {
      "model_module": "jupyter-matplotlib",
      "model_module_version": "^0.8.3",
      "model_name": "ToolbarModel",
      "state": {
       "layout": "IPY_MODEL_c6f49a84fb4147ae8e421a6d0ff6e415",
       "toolitems": [
        [
         "Home",
         "Reset original view",
         "home",
         "home"
        ],
        [
         "Back",
         "Back to previous view",
         "arrow-left",
         "back"
        ],
        [
         "Forward",
         "Forward to next view",
         "arrow-right",
         "forward"
        ],
        [
         "Pan",
         "Left button pans, Right button zooms\nx/y fixes axis, CTRL fixes aspect",
         "arrows",
         "pan"
        ],
        [
         "Zoom",
         "Zoom to rectangle\nx/y fixes axis, CTRL fixes aspect",
         "square-o",
         "zoom"
        ],
        [
         "Download",
         "Download plot",
         "floppy-o",
         "save_figure"
        ]
       ]
      }
     },
     "9b92e0924f0e4622983acb851b15c242": {
      "model_module": "jupyter-matplotlib",
      "model_module_version": "^0.8.3",
      "model_name": "ToolbarModel",
      "state": {
       "layout": "IPY_MODEL_5865dd3887024bc4b16ab7d11a7c415b",
       "toolitems": [
        [
         "Home",
         "Reset original view",
         "home",
         "home"
        ],
        [
         "Back",
         "Back to previous view",
         "arrow-left",
         "back"
        ],
        [
         "Forward",
         "Forward to next view",
         "arrow-right",
         "forward"
        ],
        [
         "Pan",
         "Left button pans, Right button zooms\nx/y fixes axis, CTRL fixes aspect",
         "arrows",
         "pan"
        ],
        [
         "Zoom",
         "Zoom to rectangle\nx/y fixes axis, CTRL fixes aspect",
         "square-o",
         "zoom"
        ],
        [
         "Download",
         "Download plot",
         "floppy-o",
         "save_figure"
        ]
       ]
      }
     },
     "9c2104473ea44680a20d945ee3891246": {
      "model_module": "@jupyter-widgets/base",
      "model_module_version": "1.2.0",
      "model_name": "LayoutModel",
      "state": {}
     },
     "a8cccbe3feb143e5b06224c49b411cd6": {
      "model_module": "jupyter-matplotlib",
      "model_module_version": "^0.8.3",
      "model_name": "MPLCanvasModel",
      "state": {
       "_cursor": "default",
       "_figure_label": "Figure 4",
       "_height": 500,
       "_width": 1200,
       "layout": "IPY_MODEL_954dff8340934ac797d0a7ca2381121d",
       "toolbar": "IPY_MODEL_4e062f3115d94b87989d01c3bc284ff1",
       "toolbar_position": "left"
      }
     },
     "ab22517ca21640aeb0be558eee6eae1c": {
      "model_module": "@jupyter-widgets/base",
      "model_module_version": "1.2.0",
      "model_name": "LayoutModel",
      "state": {}
     },
     "ad0f169231784118acfabbc127902bda": {
      "model_module": "@jupyter-widgets/base",
      "model_module_version": "1.2.0",
      "model_name": "LayoutModel",
      "state": {}
     },
     "b06f551841e74b089ff5668c171ba281": {
      "model_module": "jupyter-matplotlib",
      "model_module_version": "^0.8.3",
      "model_name": "ToolbarModel",
      "state": {
       "layout": "IPY_MODEL_bd6642b941d7469f9796bf2c30a85518",
       "toolitems": [
        [
         "Home",
         "Reset original view",
         "home",
         "home"
        ],
        [
         "Back",
         "Back to previous view",
         "arrow-left",
         "back"
        ],
        [
         "Forward",
         "Forward to next view",
         "arrow-right",
         "forward"
        ],
        [
         "Pan",
         "Left button pans, Right button zooms\nx/y fixes axis, CTRL fixes aspect",
         "arrows",
         "pan"
        ],
        [
         "Zoom",
         "Zoom to rectangle\nx/y fixes axis, CTRL fixes aspect",
         "square-o",
         "zoom"
        ],
        [
         "Download",
         "Download plot",
         "floppy-o",
         "save_figure"
        ]
       ]
      }
     },
     "b13b7045cae641c9899cefedde30a926": {
      "model_module": "@jupyter-widgets/base",
      "model_module_version": "1.2.0",
      "model_name": "LayoutModel",
      "state": {}
     },
     "b3323259a533473ebe300e811b533fa3": {
      "model_module": "jupyter-matplotlib",
      "model_module_version": "^0.8.3",
      "model_name": "ToolbarModel",
      "state": {
       "layout": "IPY_MODEL_1194c5c297344cdc938ab56f23793d58",
       "toolitems": [
        [
         "Home",
         "Reset original view",
         "home",
         "home"
        ],
        [
         "Back",
         "Back to previous view",
         "arrow-left",
         "back"
        ],
        [
         "Forward",
         "Forward to next view",
         "arrow-right",
         "forward"
        ],
        [
         "Pan",
         "Left button pans, Right button zooms\nx/y fixes axis, CTRL fixes aspect",
         "arrows",
         "pan"
        ],
        [
         "Zoom",
         "Zoom to rectangle\nx/y fixes axis, CTRL fixes aspect",
         "square-o",
         "zoom"
        ],
        [
         "Download",
         "Download plot",
         "floppy-o",
         "save_figure"
        ]
       ]
      }
     },
     "b476bd59d9904190acfcea63d68853c1": {
      "model_module": "@jupyter-widgets/base",
      "model_module_version": "1.2.0",
      "model_name": "LayoutModel",
      "state": {}
     },
     "b833ab7075fd4bd2b21232f367642201": {
      "model_module": "jupyter-matplotlib",
      "model_module_version": "^0.8.3",
      "model_name": "MPLCanvasModel",
      "state": {
       "_cursor": "default",
       "_figure_label": "Figure 10",
       "_height": 900,
       "_width": 1000,
       "layout": "IPY_MODEL_598718a51dfc463995266edc5ca57376",
       "toolbar": "IPY_MODEL_dca860568b394f0ba238b5100b00fd01",
       "toolbar_position": "left"
      }
     },
     "b8da0015a84c496a98f912f503c6928c": {
      "model_module": "jupyter-matplotlib",
      "model_module_version": "^0.8.3",
      "model_name": "MPLCanvasModel",
      "state": {
       "_cursor": "default",
       "_figure_label": "Figure 14",
       "_height": 1200,
       "_message": "x=31.8 y=135.",
       "_width": 1700,
       "layout": "IPY_MODEL_e036396b2e724a6cb352dca916a81fb2",
       "toolbar": "IPY_MODEL_14ce62e1ca1e4592be6ef6696277b837",
       "toolbar_position": "left"
      }
     },
     "b97fdb9121a74cb4a7b24f9e1dd4bffa": {
      "model_module": "jupyter-matplotlib",
      "model_module_version": "^0.8.3",
      "model_name": "ToolbarModel",
      "state": {
       "layout": "IPY_MODEL_b476bd59d9904190acfcea63d68853c1",
       "toolitems": [
        [
         "Home",
         "Reset original view",
         "home",
         "home"
        ],
        [
         "Back",
         "Back to previous view",
         "arrow-left",
         "back"
        ],
        [
         "Forward",
         "Forward to next view",
         "arrow-right",
         "forward"
        ],
        [
         "Pan",
         "Left button pans, Right button zooms\nx/y fixes axis, CTRL fixes aspect",
         "arrows",
         "pan"
        ],
        [
         "Zoom",
         "Zoom to rectangle\nx/y fixes axis, CTRL fixes aspect",
         "square-o",
         "zoom"
        ],
        [
         "Download",
         "Download plot",
         "floppy-o",
         "save_figure"
        ]
       ]
      }
     },
     "ba06e83bd8354414b019dd45b2479416": {
      "model_module": "jupyter-matplotlib",
      "model_module_version": "^0.8.3",
      "model_name": "ToolbarModel",
      "state": {
       "layout": "IPY_MODEL_f03475cfb63f4172ada9d48e936d0e67",
       "toolitems": [
        [
         "Home",
         "Reset original view",
         "home",
         "home"
        ],
        [
         "Back",
         "Back to previous view",
         "arrow-left",
         "back"
        ],
        [
         "Forward",
         "Forward to next view",
         "arrow-right",
         "forward"
        ],
        [
         "Pan",
         "Left button pans, Right button zooms\nx/y fixes axis, CTRL fixes aspect",
         "arrows",
         "pan"
        ],
        [
         "Zoom",
         "Zoom to rectangle\nx/y fixes axis, CTRL fixes aspect",
         "square-o",
         "zoom"
        ],
        [
         "Download",
         "Download plot",
         "floppy-o",
         "save_figure"
        ]
       ]
      }
     },
     "bc2686f091b4401e94bc0ded006b4153": {
      "model_module": "jupyter-matplotlib",
      "model_module_version": "^0.8.3",
      "model_name": "MPLCanvasModel",
      "state": {
       "_cursor": "default",
       "_figure_label": "Figure 13",
       "_height": 1200,
       "_message": "x=0.264 y=37.",
       "_width": 1700,
       "layout": "IPY_MODEL_846cbb804f5642c6b99e10d4b8ec1162",
       "toolbar": "IPY_MODEL_9624434561fd41f1bd5f46bb6bc63a66",
       "toolbar_position": "left"
      }
     },
     "bd6642b941d7469f9796bf2c30a85518": {
      "model_module": "@jupyter-widgets/base",
      "model_module_version": "1.2.0",
      "model_name": "LayoutModel",
      "state": {}
     },
     "c6f49a84fb4147ae8e421a6d0ff6e415": {
      "model_module": "@jupyter-widgets/base",
      "model_module_version": "1.2.0",
      "model_name": "LayoutModel",
      "state": {}
     },
     "d229be13a18e48a28a9ddb1efea3b0e8": {
      "model_module": "@jupyter-widgets/base",
      "model_module_version": "1.2.0",
      "model_name": "LayoutModel",
      "state": {}
     },
     "d3980f2eb11f4ed6bf2569dc80538b93": {
      "model_module": "jupyter-matplotlib",
      "model_module_version": "^0.8.3",
      "model_name": "ToolbarModel",
      "state": {
       "layout": "IPY_MODEL_d229be13a18e48a28a9ddb1efea3b0e8",
       "toolitems": [
        [
         "Home",
         "Reset original view",
         "home",
         "home"
        ],
        [
         "Back",
         "Back to previous view",
         "arrow-left",
         "back"
        ],
        [
         "Forward",
         "Forward to next view",
         "arrow-right",
         "forward"
        ],
        [
         "Pan",
         "Left button pans, Right button zooms\nx/y fixes axis, CTRL fixes aspect",
         "arrows",
         "pan"
        ],
        [
         "Zoom",
         "Zoom to rectangle\nx/y fixes axis, CTRL fixes aspect",
         "square-o",
         "zoom"
        ],
        [
         "Download",
         "Download plot",
         "floppy-o",
         "save_figure"
        ]
       ]
      }
     },
     "dca860568b394f0ba238b5100b00fd01": {
      "model_module": "jupyter-matplotlib",
      "model_module_version": "^0.8.3",
      "model_name": "ToolbarModel",
      "state": {
       "layout": "IPY_MODEL_795200604345422e8be5324c2b43bb54",
       "toolitems": [
        [
         "Home",
         "Reset original view",
         "home",
         "home"
        ],
        [
         "Back",
         "Back to previous view",
         "arrow-left",
         "back"
        ],
        [
         "Forward",
         "Forward to next view",
         "arrow-right",
         "forward"
        ],
        [
         "Pan",
         "Left button pans, Right button zooms\nx/y fixes axis, CTRL fixes aspect",
         "arrows",
         "pan"
        ],
        [
         "Zoom",
         "Zoom to rectangle\nx/y fixes axis, CTRL fixes aspect",
         "square-o",
         "zoom"
        ],
        [
         "Download",
         "Download plot",
         "floppy-o",
         "save_figure"
        ]
       ]
      }
     },
     "dccf30dc745340f8927b2631c8de6e63": {
      "model_module": "jupyter-matplotlib",
      "model_module_version": "^0.8.3",
      "model_name": "MPLCanvasModel",
      "state": {
       "_cursor": "default",
       "_figure_label": "Figure 6",
       "_height": 900,
       "_width": 1000,
       "layout": "IPY_MODEL_9c2104473ea44680a20d945ee3891246",
       "toolbar": "IPY_MODEL_d3980f2eb11f4ed6bf2569dc80538b93",
       "toolbar_position": "left"
      }
     },
     "ddb59a2f32a24977b9eba4b780e5ae62": {
      "model_module": "jupyter-matplotlib",
      "model_module_version": "^0.8.3",
      "model_name": "ToolbarModel",
      "state": {
       "layout": "IPY_MODEL_de04a0b198dd497fa024aaa27378ceea",
       "toolitems": [
        [
         "Home",
         "Reset original view",
         "home",
         "home"
        ],
        [
         "Back",
         "Back to previous view",
         "arrow-left",
         "back"
        ],
        [
         "Forward",
         "Forward to next view",
         "arrow-right",
         "forward"
        ],
        [
         "Pan",
         "Left button pans, Right button zooms\nx/y fixes axis, CTRL fixes aspect",
         "arrows",
         "pan"
        ],
        [
         "Zoom",
         "Zoom to rectangle\nx/y fixes axis, CTRL fixes aspect",
         "square-o",
         "zoom"
        ],
        [
         "Download",
         "Download plot",
         "floppy-o",
         "save_figure"
        ]
       ]
      }
     },
     "de04a0b198dd497fa024aaa27378ceea": {
      "model_module": "@jupyter-widgets/base",
      "model_module_version": "1.2.0",
      "model_name": "LayoutModel",
      "state": {}
     },
     "e036396b2e724a6cb352dca916a81fb2": {
      "model_module": "@jupyter-widgets/base",
      "model_module_version": "1.2.0",
      "model_name": "LayoutModel",
      "state": {}
     },
     "e40b4e4bb229434cbb2b00f7ba7e25e1": {
      "model_module": "@jupyter-widgets/base",
      "model_module_version": "1.2.0",
      "model_name": "LayoutModel",
      "state": {}
     },
     "f03475cfb63f4172ada9d48e936d0e67": {
      "model_module": "@jupyter-widgets/base",
      "model_module_version": "1.2.0",
      "model_name": "LayoutModel",
      "state": {}
     },
     "f185b8c246584beba2d8c237ae7c0cd2": {
      "model_module": "jupyter-matplotlib",
      "model_module_version": "^0.8.3",
      "model_name": "ToolbarModel",
      "state": {
       "layout": "IPY_MODEL_464c6e486fea4a699c3bd0840bc20835",
       "toolitems": [
        [
         "Home",
         "Reset original view",
         "home",
         "home"
        ],
        [
         "Back",
         "Back to previous view",
         "arrow-left",
         "back"
        ],
        [
         "Forward",
         "Forward to next view",
         "arrow-right",
         "forward"
        ],
        [
         "Pan",
         "Left button pans, Right button zooms\nx/y fixes axis, CTRL fixes aspect",
         "arrows",
         "pan"
        ],
        [
         "Zoom",
         "Zoom to rectangle\nx/y fixes axis, CTRL fixes aspect",
         "square-o",
         "zoom"
        ],
        [
         "Download",
         "Download plot",
         "floppy-o",
         "save_figure"
        ]
       ]
      }
     }
    },
    "version_major": 2,
    "version_minor": 0
   }
  }
 },
 "nbformat": 4,
 "nbformat_minor": 4
}
