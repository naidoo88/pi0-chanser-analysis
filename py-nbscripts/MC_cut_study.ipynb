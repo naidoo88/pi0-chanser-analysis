{
 "cells": [
  {
   "cell_type": "markdown",
   "metadata": {},
   "source": [
    "# Simulation cut study"
   ]
  },
  {
   "cell_type": "code",
   "execution_count": 1,
   "metadata": {},
   "outputs": [],
   "source": [
    "import numpy as np\n",
    "import pandas as pd\n",
    "import uproot\n",
    "import boost_histogram as bh\n",
    "import functools as ft\n",
    "import matplotlib.pyplot as plt\n",
    "\n",
    "%matplotlib widget"
   ]
  },
  {
   "cell_type": "code",
   "execution_count": 2,
   "metadata": {},
   "outputs": [],
   "source": [
    "plt.style.use('seaborn')\n",
    "plt.rcParams['axes.grid'] = True\n",
    "plt.rcParams['axes.formatter.limits'] = (-3,3)\n",
    "plt.rcParams['axes.formatter.use_mathtext'] = True\n",
    "# plt.rcParams['font.size']= 16\n",
    "# plt.rcParams['axes.labelsize'] = 14\n",
    "# plt.rcParams['axes.titlesize'] = 14\n",
    "# plt.rcParams['xtick.labelsize'] = 10\n",
    "# plt.rcParams['ytick.labelsize'] = 10"
   ]
  },
  {
   "cell_type": "code",
   "execution_count": 3,
   "metadata": {},
   "outputs": [],
   "source": [
    "#MCpart_root_file = \"/home/pauln/code/pi0chanser/output/chanser_MC_12k-15k/pauln/Pi0_PID_photcomb/ParticleVariables_0.root\"\n",
    "\n",
    "tree= \"FINALOUTTREE\"\n",
    "\n",
    "# data_root_file = \"/w/work3/home/pauln/analysis/processed/chanser_ANAsub/pauln/Pi0_PID_fullcomb/FinalState.root\"\n",
    "# data = uproot.open(data_root_file)[tree]\n",
    "# data_df = data.pandas.df()\n",
    "\n",
    "MC_root_file = \"/w/work3/home/pauln/analysis/processed/chanser_MCsub/pauln/Pi0_PID_fullcomb/FinalState.root\"\n",
    "data = uproot.open(MC_root_file)[tree]\n",
    "MC_df = data.pandas.df()\n",
    "\n",
    "# data = uproot.open(MCpart_root_file)['particle']\n",
    "# MCpart_df = data.pandas.df()"
   ]
  },
  {
   "cell_type": "code",
   "execution_count": 4,
   "metadata": {},
   "outputs": [],
   "source": [
    "def hist1D(ax, df, var, bins = None, cuts=None, y_err=False, color=None, lalpha=1, falpha=0.4, normed=False, filled = False, density = False, params={}, label=None):\n",
    "    #select next color in colormap for use in line and fill.\n",
    "    if color is None:\n",
    "        color = next(ax._get_lines.prop_cycler)['color']\n",
    "    \n",
    "    if cuts is not None: \n",
    "        data = df[var[0]][cuts]\n",
    "    else:\n",
    "        data = df[var[0]]\n",
    "        \n",
    "    #calculate area under the curve if wanting normalised plot    \n",
    "    weights = None\n",
    "    if normed is True:\n",
    "        entries, edges = np.histogram(\n",
    "            data,\n",
    "            range = (var[1][1], var[1][2]),\n",
    "            bins = var[1][0]        \n",
    "        )\n",
    "      \n",
    "        integral = sum(np.diff(edges)*entries)\n",
    "        weights = np.ones_like(data)/integral\n",
    "        \n",
    "    if bins is None: \n",
    "        bins = var[1][0]\n",
    "    \n",
    "    #Draw histogram\n",
    "    entries,edges,_ = ax.hist(data,\n",
    "    range = (var[1][1], var[1][2]),\n",
    "    bins = bins,\n",
    "    density = density,\n",
    "    weights=weights,\n",
    "    histtype = 'step',\n",
    "    linewidth = 1.5,\n",
    "    alpha=lalpha,\n",
    "    color = color,\n",
    "    label=label,\n",
    "    **params\n",
    "    )\n",
    " \n",
    "    #fill area under histo if set\n",
    "    if filled is True:\n",
    "        # brute-force: drawing it again to allow separate alpha(opacity) to be used\n",
    "        h = ax.hist(data,\n",
    "            range = (var[1][1], var[1][2]),\n",
    "            bins = bins,\n",
    "            density = density,\n",
    "            weights=weights,\n",
    "            histtype = 'step',\n",
    "            linewidth = None,\n",
    "            fill = True,\n",
    "            alpha = falpha,\n",
    "            color = color\n",
    "            )\n",
    "        \n",
    "    #error bars    \n",
    "    if y_err is True:\n",
    "        if normed is True: \n",
    "            yerr = np.sqrt(entries)/integral\n",
    "            entries = entries/integral\n",
    "        else:\n",
    "            entries, edges = np.histogram(\n",
    "                data,\n",
    "                range = (var[1][1], var[1][2]),\n",
    "                bins = bins       \n",
    "            )\n",
    "            yerr = np.sqrt(entries)\n",
    "            \n",
    "        bin_width = edges[1]-edges[0]\n",
    "        bin_centers = edges[:-1] + bin_width/2\n",
    "        ax.errorbar(bin_centers, entries, yerr=yerr, color='r', ls='', alpha=0.6, label='err', elinewidth=0.6)\n",
    "        \n",
    "        \n",
    "    #deal with automatic y-axis scaling funk\n",
    "    # if normed is True:\n",
    "    #     #axes = plt.gca()\n",
    "    #     ax.set_ylim([0,max(entries/integral)*1.1])\n",
    "\n",
    "    ax.set_xlabel(var[2])\n",
    "    ax.set_xlim(var[1][1], var[1][2])\n",
    "\n",
    "    \n",
    "    return #(entries, edges, yerr)"
   ]
  },
  {
   "cell_type": "markdown",
   "metadata": {},
   "source": [
    "## Exploring distributions in MC\n",
    "\n",
    "   * Photon combinatorials\n",
    "   * Events Generated using GenePi\n",
    "      * Currently using non-OSG recon\n",
    "      * *Should* be fine, but running events through OSG\n",
    "  "
   ]
  },
  {
   "cell_type": "code",
   "execution_count": 5,
   "metadata": {},
   "outputs": [],
   "source": [
    "bins = 200\n",
    "distros = [\n",
    "    [\"Pi0IM_g1g2\", (bins,0,0.2), r\"$M_{\\gamma\\gamma}$ $(GeV/c^{2})$\"],\n",
    "    [\"Pi0MM2_total\", (bins,-5, 5), r\"$MM^{2}_{e'n'\\gamma\\gamma X}$   ($GeV^{2}/c^{4}$)\"],\n",
    "    [\"Pi0MM_rec_recoil\", (bins,0, 2), r\"$MM_{e'\\gamma\\gamma X}$   ($GeV/c^{2}$)\"],\n",
    "    [\"Pi0MM_rec_spectator\", (bins,0, 2), r\"$MM_{eD -> e'n'\\gamma\\gamma X}$   ($GeV/c^{2}$)\"],    \n",
    "    [\"Pi0MP_rec_spectator\", (bins,0, 1), r\"$MP_{eD -> e'n'\\gamma\\gamma X}$   ($GeV/c^{2}$)\"],    \n",
    "    [\"Pi0MP_total\", (bins,0, 3), r\"$MP_{e'n'\\gamma\\gamma X}$   ($GeV/c^{2}$)\"],\n",
    "    [\"Pi0MPt_total\", (bins,0, 3), r\"$MP^{T}_{e'n'\\gamma\\gamma X}$   ($GeV/c^{2}$)\"],\n",
    "    [\"Pi0cop_Nvg_Nnew\", (bins,-50, 50), r\"$d\\phi_{n\\gamma^{*}-n\\pi_{0}}$ ($\\circ$)\"],\n",
    "    [\"Pi0pi0coneangle\", (bins,0, 60), r\"$\\theta^{cone}_{\\pi_{0}X}$ ($\\circ$)\"],\n",
    "    [\"Pi0recoilconeangle\", (bins,0, 60), r\"$\\theta^{cone}_{nX}$ ($\\circ$)\"],\n",
    "    [\"Pi0eg1coneangle\", (bins,0, 60), r\"$\\theta^{cone}_{e\\gamma_{1}}$ ($\\circ$)\"],\n",
    "    [\"Pi0eg2coneangle\", (bins,0, 60), r\"$\\theta^{cone}_{e\\gamma_{2}}$ ($\\circ$)\"]\n",
    "]\n",
    "\n",
    "truth_distros = [\n",
    "    [\"truPi0IM_g1g2\", (bins,0,0.2), r\"$M_{\\gamma\\gamma}$ $(GeV/c^{2})$\"],\n",
    "    [\"truPi0MM2_total\", (bins,-5, 5), r\"$MM^{2}_{e'n'\\gamma\\gamma X}$   ($GeV^{2}/c^{4}$)\"],\n",
    "    [\"truPi0MM_rec_recoil\", (bins,0, 2), r\"$MM_{e'\\gamma\\gamma X}$   ($GeV/c^{2}$)\"],\n",
    "    [\"truPi0MM_rec_spectator\", (bins,0, 2), r\"$MM_{eD -> e'n'\\gamma\\gamma X}$   ($GeV/c^{2}$)\"],    \n",
    "    [\"truPi0MP_rec_spectator\", (bins,0, 1), r\"$MP_{eD -> e'n'\\gamma\\gamma X}$   ($GeV/c^{2}$)\"],  \n",
    "    [\"truPi0MP_total\", (bins,0, 3), r\"$MP_{e'n'\\gamma\\gamma X}$   ($GeV/c^{2}$)\"],\n",
    "    [\"truPi0MPt_total\", (bins,0, 3), r\"$MP^{T}_{e'n'\\gamma\\gamma X}$   ($GeV/c^{2}$)\"],\n",
    "    [\"truPi0cop_Nvg_Nnew\", (bins,-50, 50), r\"$d\\phi_{n\\gamma^{*}-n\\pi_{0}}$ ($\\circ$)\"],\n",
    "    [\"truPi0pi0coneangle\", (bins,0, 60), r\"$\\theta^{cone}_{\\pi_{0}X}$ ($\\circ$)\"],\n",
    "    [\"truPi0recoilconeangle\", (bins,0, 60), r\"$\\theta^{cone}_{nX}$ ($\\circ$)\"],\n",
    "    [\"truPi0eg1coneangle\", (bins,0, 60), r\"$\\theta^{cone}_{e\\gamma_{1}}$ ($\\circ$)\"],\n",
    "    [\"truPi0eg2coneangle\", (bins,0, 60), r\"$\\theta^{cone}_{e\\gamma_{2}}$ ($\\circ$)\"]\n",
    "]"
   ]
  },
  {
   "cell_type": "markdown",
   "metadata": {},
   "source": [
    "## Raw MC, \"Truth-Matched\" and data"
   ]
  },
  {
   "cell_type": "code",
   "execution_count": 6,
   "metadata": {},
   "outputs": [
    {
     "data": {
      "application/vnd.jupyter.widget-view+json": {
       "model_id": "e27b9a3031584ecd8f324bac6677f86a",
       "version_major": 2,
       "version_minor": 0
      },
      "text/plain": [
       "Canvas(toolbar=Toolbar(toolitems=[('Home', 'Reset original view', 'home', 'home'), ('Back', 'Back to previous …"
      ]
     },
     "metadata": {},
     "output_type": "display_data"
    }
   ],
   "source": [
    "fig, ax = plt.subplots(12,3, figsize=(12,25))\n",
    "\n",
    "for i, var in enumerate(distros):\n",
    "    hist1D(ax[i][0], MC_df, var)\n",
    "    \n",
    "for i, var in enumerate(distros):\n",
    "    hist1D(ax[i][1], MC_df, var, cuts=(MC_df.Truth==1))\n",
    "\n",
    "# for i, var in enumerate(distros):\n",
    "#     hist1D(ax[i][2], data_df, var)\n",
    "    \n",
    "for i, var in enumerate(truth_distros):\n",
    "    hist1D(ax[i][2], MC_df, var, cuts=(MC_df.Truth==1))\n",
    "    \n",
    "ax[0][0].set_title(\"MC\", y=1)\n",
    "ax[0][1].set_title(\"truth-matched\", y=1)\n",
    "ax[0][2].set_title(\"truth\", y=1)\n",
    "\n",
    "plt.tight_layout(pad=0.3)"
   ]
  },
  {
   "cell_type": "markdown",
   "metadata": {},
   "source": [
    "## Cleaning up with some cuts: \n",
    "   * 3$\\sigma$ $\\pi_{0}$-mass cut\n",
    "   * Neutrons\n",
    "      * CND only\n",
    "      * |p| > 350 MeV\n",
    "   * Photons\n",
    "      * Require hit in the PCAL"
   ]
  },
  {
   "cell_type": "code",
   "execution_count": 8,
   "metadata": {},
   "outputs": [],
   "source": [
    "cuts = [\n",
    "    (MC_df.Pi0flag_cut_3sigPi0IM == 1),\n",
    "    ((MC_df.Pi0rec_status > 3990) & (MC_df.Pi0rec_status < 4150)),\n",
    "    (MC_df.Pi0rec_magP >= 0.35),\n",
    "    (MC_df.hitPCAL == 1)\n",
    "]\n",
    "\n",
    "cuts_truth = [\n",
    "    (MC_df.Pi0flag_cut_3sigPi0IM == 1),\n",
    "    ((MC_df.Pi0rec_status > 3990) & (MC_df.Pi0rec_status < 4150)),\n",
    "    (MC_df.Pi0rec_magP >= 0.35),\n",
    "    (MC_df.hitPCAL == 1),\n",
    "    (MC_df.Truth==1)\n",
    "]\n",
    "\n",
    "# dcuts = [\n",
    "#     (data_df.Pi0flag_cut_3sigPi0IM == 1),\n",
    "#     ((data_df.Pi0rec_status > 3990) & (data_df.Pi0rec_status < 4150)),\n",
    "#     (data_df.Pi0rec_magP >= 0.35),\n",
    "#     (data_df.hitPCAL == 1)\n",
    "# ]\n",
    "\n",
    "# oneT_cuts = [\n",
    "#     (MC_1T_df.Pi0flag_cut_3sigPi0IM == 1),\n",
    "#     ((MC_1T_df.Pi0rec_status > 3990) & (MC_1T_df.Pi0rec_status < 4150)),\n",
    "#     (MC_1T_df.Pi0rec_magP >= 0.35),\n",
    "#     (MC_1T_df.hitPCAL == 1)\n",
    "# ]\n",
    "# # cuts_truth = [\n",
    "#     cuts,\n",
    "#     (MC_df.Truth==1)\n",
    "# ]\n",
    "\n",
    "cut = ft.reduce(lambda x, y: x & y, cuts[:])\n",
    "t_cut = ft.reduce(lambda x, y: x & y, cuts_truth[:])\n",
    "#dcut = ft.reduce(lambda x, y: x & y, dcuts[:])\n",
    "\n",
    "#oT_cut = ft.reduce(lambda x, y: x & y, oneT_cuts[:])"
   ]
  },
  {
   "cell_type": "code",
   "execution_count": 9,
   "metadata": {},
   "outputs": [],
   "source": [
    "tcut = cut & (MC_df.Truth==1)\n"
   ]
  },
  {
   "cell_type": "code",
   "execution_count": 10,
   "metadata": {},
   "outputs": [
    {
     "data": {
      "text/plain": [
       "True"
      ]
     },
     "execution_count": 10,
     "metadata": {},
     "output_type": "execute_result"
    }
   ],
   "source": [
    "(t_cut==tcut).all()"
   ]
  },
  {
   "cell_type": "code",
   "execution_count": 39,
   "metadata": {},
   "outputs": [
    {
     "data": {
      "application/vnd.jupyter.widget-view+json": {
       "model_id": "43c262e094914119bc767f7a630cbe51",
       "version_major": 2,
       "version_minor": 0
      },
      "text/plain": [
       "Canvas(toolbar=Toolbar(toolitems=[('Home', 'Reset original view', 'home', 'home'), ('Back', 'Back to previous …"
      ]
     },
     "metadata": {},
     "output_type": "display_data"
    }
   ],
   "source": [
    "fig, ax = plt.subplots(12,3, figsize=(12,25))\n",
    "\n",
    "for i, var in enumerate(distros):\n",
    "    hist1D(ax[i][0], MC_df, var, cuts=cut)\n",
    "    hist1D(ax[i][1], MC_df, var, cuts=t_cut)\n",
    "    #hist1D(ax[i][2], data_df, var, cuts=dcut)\n",
    "\n",
    "for i, var in enumerate(truth_distros):\n",
    "    hist1D(ax[i][2], MC_df, var, cuts=t_cut)\n",
    "\n",
    "\n",
    "# for i, var in enumerate(truth_distros):\n",
    "#     hist1D(ax[i][1], MC_df, var, cuts=cut)\n",
    "\n",
    "ax[0][0].set_title(\"Reconstructed\", y=1)\n",
    "ax[0][1].set_title(\"Truth-Matched\", y=1)\n",
    "ax[0][2].set_title(\"Generated\", y=1)\n",
    "\n",
    "    \n",
    "plt.tight_layout(pad=0.3)"
   ]
  },
  {
   "cell_type": "markdown",
   "metadata": {},
   "source": [
    "## Drift and Broadening of true values"
   ]
  },
  {
   "cell_type": "code",
   "execution_count": 12,
   "metadata": {},
   "outputs": [
    {
     "data": {
      "application/vnd.jupyter.widget-view+json": {
       "model_id": "701bb8386764455b8e6236c6a3b25ff2",
       "version_major": 2,
       "version_minor": 0
      },
      "text/plain": [
       "Canvas(toolbar=Toolbar(toolitems=[('Home', 'Reset original view', 'home', 'home'), ('Back', 'Back to previous …"
      ]
     },
     "metadata": {},
     "output_type": "display_data"
    }
   ],
   "source": [
    "fig1, ax1 = plt.subplots(4,2,figsize=(12,15))\n",
    "                         \n",
    "var = [\n",
    "[\"Pi0MP_rec_spectator\", (bins,0, 1), r\"$MP_{eD -> e'n'\\gamma\\gamma X}$   ($GeV/c^{2}$)\"],\n",
    "[\"truPi0MP_rec_spectator\", (bins,0, 1), r\"TRUTH $MP_{eD -> e'n'\\gamma\\gamma X}$   ($GeV/c^{2}$)\"]\n",
    "]\n",
    "\n",
    "hist1D(ax1[0][0], MC_df, var[0], cuts=t_cut)\n",
    "hist1D(ax1[0][1], MC_df, var[1], cuts=t_cut)\n",
    "hist1D(ax1[1][0], MC_df, var[0], cuts=(t_cut & (MC_df.Pi0MP_rec_spectator < 0.7)))\n",
    "hist1D(ax1[1][1], MC_df, var[1], cuts=(t_cut & (MC_df.Pi0MP_rec_spectator < 0.7)))\n",
    "hist1D(ax1[2][0], MC_df, var[0], cuts=(t_cut & (MC_df.Pi0MP_rec_spectator < 0.4)))\n",
    "hist1D(ax1[2][1], MC_df, var[1], cuts=(t_cut & (MC_df.Pi0MP_rec_spectator < 0.4)))\n",
    "hist1D(ax1[3][0], MC_df, var[0], cuts=(t_cut & (MC_df.Pi0MP_rec_spectator < 0.2)))\n",
    "hist1D(ax1[3][1], MC_df, var[1], cuts=(t_cut & (MC_df.Pi0MP_rec_spectator < 0.2)))\n"
   ]
  },
  {
   "cell_type": "code",
   "execution_count": 13,
   "metadata": {},
   "outputs": [
    {
     "data": {
      "application/vnd.jupyter.widget-view+json": {
       "model_id": "a794badc18a64ff1a4cf6de1a184faeb",
       "version_major": 2,
       "version_minor": 0
      },
      "text/plain": [
       "Canvas(toolbar=Toolbar(toolitems=[('Home', 'Reset original view', 'home', 'home'), ('Back', 'Back to previous …"
      ]
     },
     "metadata": {},
     "output_type": "display_data"
    }
   ],
   "source": [
    "fig1, ax1 = plt.subplots(1,2,figsize=(12,5))\n",
    "                         \n",
    "var = [\n",
    "[\"Pi0MP_rec_spectator\", (bins,0, 1), r\"$MP_{eD -> e'n'\\gamma\\gamma X}$   ($GeV/c^{2}$)\"],\n",
    "[\"truPi0MP_rec_spectator\", (bins,0, 1), r\"TRUTH $MP_{eD -> e'n'\\gamma\\gamma X}$   ($GeV/c^{2}$)\"]\n",
    "]\n",
    "\n",
    "hist1D(ax1[0], MC_df, var[0], cuts=t_cut)\n",
    "hist1D(ax1[1], MC_df, var[1], cuts=t_cut)\n",
    "hist1D(ax1[0], MC_df, var[0], cuts=(t_cut & (MC_df.Pi0MP_rec_spectator < 0.7)))\n",
    "hist1D(ax1[1], MC_df, var[1], cuts=(t_cut & (MC_df.Pi0MP_rec_spectator < 0.7)))\n",
    "hist1D(ax1[0], MC_df, var[0], cuts=(t_cut & (MC_df.Pi0MP_rec_spectator < 0.4)))\n",
    "hist1D(ax1[1], MC_df, var[1], cuts=(t_cut & (MC_df.Pi0MP_rec_spectator < 0.4)))\n",
    "hist1D(ax1[0], MC_df, var[0], cuts=(t_cut & (MC_df.Pi0MP_rec_spectator < 0.2)))\n",
    "hist1D(ax1[1], MC_df, var[1], cuts=(t_cut & (MC_df.Pi0MP_rec_spectator < 0.2)))\n"
   ]
  },
  {
   "cell_type": "markdown",
   "metadata": {},
   "source": [
    "## Kinetic energy of the neutron as a potential descriminatory variable"
   ]
  },
  {
   "cell_type": "code",
   "execution_count": 14,
   "metadata": {},
   "outputs": [],
   "source": [
    "T_distros = [\n",
    "    [\"Pi0recoil_T\", (bins,0,2), r\"$T_{neutron}$ $(GeV)$\"],\n",
    "    [\"Pi0recon_recoil_T\", (bins,0,10), r\"$recon. T_{neutron}$ $(GeV)$\"],\n",
    "    [\"Pi0dneutT\", (bins,0,10), r\"$\\delta T_{neutron}$ $(GeV)$\"]\n",
    "]\n",
    "\n",
    "truth_T_distros = [\n",
    "    [\"truPi0recoil_T\", (bins,0,2), r\"$T_{neutron}$ $(GeV)$\"],\n",
    "    [\"truPi0recon_recoil_T\", (bins,0,10), r\"$recon. T_{neutron}$ $(GeV)$\"],\n",
    "    [\"truPi0dneutT\", (bins,0,10), r\"$\\delta T_{neutron}$ $(GeV)$\"]\n",
    "]"
   ]
  },
  {
   "cell_type": "code",
   "execution_count": null,
   "metadata": {},
   "outputs": [],
   "source": []
  },
  {
   "cell_type": "code",
   "execution_count": 15,
   "metadata": {},
   "outputs": [
    {
     "data": {
      "application/vnd.jupyter.widget-view+json": {
       "model_id": "36cc7c0241ab45babc206f496edb5797",
       "version_major": 2,
       "version_minor": 0
      },
      "text/plain": [
       "Canvas(toolbar=Toolbar(toolitems=[('Home', 'Reset original view', 'home', 'home'), ('Back', 'Back to previous …"
      ]
     },
     "metadata": {},
     "output_type": "display_data"
    }
   ],
   "source": [
    "fig, ax = plt.subplots(3,3, figsize=(10,9))\n",
    "\n",
    "for i, var in enumerate(T_distros):\n",
    "    hist1D(ax[i][0], MC_df, var)\n",
    "    \n",
    "for i, var in enumerate(T_distros):\n",
    "    hist1D(ax[i][1], MC_df, var, cuts=(MC_df.Truth==1))\n",
    "\n",
    "for i, var in enumerate(truth_T_distros):\n",
    "    hist1D(ax[i][2], MC_df, var, cuts=(MC_df.Truth==1))\n",
    "    \n",
    "ax[0][0].set_title(\"MC\", y=1)\n",
    "ax[0][1].set_title(\"truth-matched\", y=1)\n",
    "ax[0][2].set_title(\"truth\", y=1)\n",
    "\n",
    "    \n",
    "plt.tight_layout(pad=0.05)"
   ]
  },
  {
   "cell_type": "code",
   "execution_count": 16,
   "metadata": {},
   "outputs": [
    {
     "data": {
      "application/vnd.jupyter.widget-view+json": {
       "model_id": "ea270bd97cd7485da6230a5681070ddd",
       "version_major": 2,
       "version_minor": 0
      },
      "text/plain": [
       "Canvas(toolbar=Toolbar(toolitems=[('Home', 'Reset original view', 'home', 'home'), ('Back', 'Back to previous …"
      ]
     },
     "metadata": {},
     "output_type": "display_data"
    }
   ],
   "source": [
    "fig, ax = plt.subplots(3,3, figsize=(10,9))\n",
    "\n",
    "for i, var in enumerate(T_distros):\n",
    "    hist1D(ax[i][0], MC_df, var, ocuts=cut)\n",
    "    hist1D(ax[i][1], MC_df, var, cuts=t_cut)\n",
    "\n",
    "for i, var in enumerate(truth_T_distros):    \n",
    "    hist1D(ax[i][2], MC_df, var, cuts=t_cut)\n",
    "\n",
    "\n",
    "# for i, var in enumerate(truth_T_distros):\n",
    "#     hist1D(ax[i][1], MC_df, var, cuts=cut)\n",
    "\n",
    "ax[0][0].set_title(\"MC\", y=1)\n",
    "ax[0][1].set_title(\"truth-matched\", y=1)\n",
    "ax[0][2].set_title(\"truth\", y=1)\n",
    "\n",
    "    \n",
    "plt.tight_layout(pad=0.05)"
   ]
  },
  {
   "cell_type": "code",
   "execution_count": 24,
   "metadata": {},
   "outputs": [
    {
     "data": {
      "application/vnd.jupyter.widget-view+json": {
       "model_id": "d8700d403e7547ad91f88ebd523c0524",
       "version_major": 2,
       "version_minor": 0
      },
      "text/plain": [
       "Canvas(toolbar=Toolbar(toolitems=[('Home', 'Reset original view', 'home', 'home'), ('Back', 'Back to previous …"
      ]
     },
     "metadata": {},
     "output_type": "display_data"
    }
   ],
   "source": [
    "fig, ax = plt.subplots(12,2, figsize=(12,30))\n",
    "\n",
    "raw_para = {\n",
    "    'label': \"Raw\"\n",
    "}\n",
    "traw_para = {\n",
    "    'label': \"Truth-matched Raw\"\n",
    "}\n",
    "cut_para = {\n",
    "    'label': \"Cut\"\n",
    "}\n",
    "tcut_para = {\n",
    "    'label': \"Truth-matched Cut\"\n",
    "}\n",
    "\n",
    "for i, var in enumerate(distros):\n",
    "    hist1D(ax[i][0], MC_df, var, density=True, label='raw')\n",
    "    hist1D(ax[i][0], MC_df, var, cuts=(MC_df.Truth==1), density=True, label=\"Truth-matched Raw\")\n",
    "\n",
    "\n",
    "\n",
    "for i, var in enumerate(distros):\n",
    "    hist1D(ax[i][1], MC_df, var, cuts=cut, density=True, label=\"Cut\")\n",
    "    hist1D(ax[i][1], MC_df, var, cuts=t_cut, density=True, label=\"Truth-matched Cut\")\n",
    "    \n",
    "for l in 0, 2, 4, 6, 8, 10:\n",
    "    ax[l][0].legend()\n",
    "    ax[l][1].legend()\n",
    "    \n",
    "plt.tight_layout(pad=0.05)"
   ]
  },
  {
   "cell_type": "code",
   "execution_count": 17,
   "metadata": {},
   "outputs": [
    {
     "data": {
      "text/plain": [
       "['Pi0helicity',\n",
       " 'Pi0W2',\n",
       " 'Pi0Q2',\n",
       " 'Pi0xB',\n",
       " 'Pi0tneg',\n",
       " 'Pi0tneg_pi0',\n",
       " 'Pi0dtneg',\n",
       " 'Pi0IM_g1g2',\n",
       " 'Pi0MM2_total',\n",
       " 'Pi0MP_total',\n",
       " 'Pi0ME_total',\n",
       " 'Pi0MPt_total',\n",
       " 'Pi0pi0coneangle',\n",
       " 'Pi0eg1coneangle',\n",
       " 'Pi0eg2coneangle',\n",
       " 'Pi0recoilconeangle',\n",
       " 'Pi0MP_rec_recoil',\n",
       " 'Pi0MPt_rec_recoil',\n",
       " 'Pi0MM_rec_recoil',\n",
       " 'Pi0MM2_rec_recoil',\n",
       " 'Pi0MP_rec_spectator',\n",
       " 'Pi0MPt_rec_spectator',\n",
       " 'Pi0MM_rec_spectator',\n",
       " 'Pi0MM2_rec_spectator',\n",
       " 'Pi0phi_Nvg',\n",
       " 'Pi0phi_Nnew',\n",
       " 'Pi0phi_vgnew',\n",
       " 'Pi0cop_Nvg_vgnew',\n",
       " 'Pi0cop_Nvg_Nnew',\n",
       " 'Pi0cop_Nnew_vgnew',\n",
       " 'Pi0recon_recoil_T',\n",
       " 'Pi0recoil_T',\n",
       " 'Pi0dneutT',\n",
       " 'Pi0rec_px',\n",
       " 'Pi0rec_py',\n",
       " 'Pi0rec_pz',\n",
       " 'Pi0rec_E',\n",
       " 'Pi0rec_magP',\n",
       " 'Pi0rec_pT',\n",
       " 'Pi0rec_theta',\n",
       " 'Pi0rec_phi',\n",
       " 'Pi0rec_status',\n",
       " 'Pi0e_px',\n",
       " 'Pi0e_py',\n",
       " 'Pi0e_pz',\n",
       " 'Pi0e_E',\n",
       " 'Pi0e_magP',\n",
       " 'Pi0e_pT',\n",
       " 'Pi0e_theta',\n",
       " 'Pi0e_phi',\n",
       " 'Pi0e_status',\n",
       " 'Pi0phot1_px',\n",
       " 'Pi0phot1_py',\n",
       " 'Pi0phot1_pz',\n",
       " 'Pi0phot1_E',\n",
       " 'Pi0phot1_magP',\n",
       " 'Pi0phot1_pT',\n",
       " 'Pi0phot1_theta',\n",
       " 'Pi0phot1_phi',\n",
       " 'Pi0phot1_status',\n",
       " 'Pi0phot2_px',\n",
       " 'Pi0phot2_py',\n",
       " 'Pi0phot2_pz',\n",
       " 'Pi0phot2_E',\n",
       " 'Pi0phot2_magP',\n",
       " 'Pi0phot2_pT',\n",
       " 'Pi0phot2_theta',\n",
       " 'Pi0phot2_phi',\n",
       " 'Pi0phot2_status',\n",
       " 'Pi0flag_photon1_FT',\n",
       " 'Pi0flag_photon1_FD',\n",
       " 'Pi0flag_photon2_FT',\n",
       " 'Pi0flag_photon2_FD',\n",
       " 'Pi0flag_cut_3sigPi0IM',\n",
       " 'Pi0rcdb_Ebeam',\n",
       " 'truPi0helicity',\n",
       " 'truPi0W2',\n",
       " 'truPi0Q2',\n",
       " 'truPi0xB',\n",
       " 'truPi0tneg',\n",
       " 'truPi0tneg_pi0',\n",
       " 'truPi0dtneg',\n",
       " 'truPi0IM_g1g2',\n",
       " 'truPi0MM2_total',\n",
       " 'truPi0MP_total',\n",
       " 'truPi0ME_total',\n",
       " 'truPi0MPt_total',\n",
       " 'truPi0pi0coneangle',\n",
       " 'truPi0eg1coneangle',\n",
       " 'truPi0eg2coneangle',\n",
       " 'truPi0recoilconeangle',\n",
       " 'truPi0MP_rec_recoil',\n",
       " 'truPi0MPt_rec_recoil',\n",
       " 'truPi0MM_rec_recoil',\n",
       " 'truPi0MM2_rec_recoil',\n",
       " 'truPi0MP_rec_spectator',\n",
       " 'truPi0MPt_rec_spectator',\n",
       " 'truPi0MM_rec_spectator',\n",
       " 'truPi0MM2_rec_spectator',\n",
       " 'truPi0phi_Nvg',\n",
       " 'truPi0phi_Nnew',\n",
       " 'truPi0phi_vgnew',\n",
       " 'truPi0cop_Nvg_vgnew',\n",
       " 'truPi0cop_Nvg_Nnew',\n",
       " 'truPi0cop_Nnew_vgnew',\n",
       " 'truPi0recon_recoil_T',\n",
       " 'truPi0recoil_T',\n",
       " 'truPi0dneutT',\n",
       " 'truPi0rec_px',\n",
       " 'truPi0rec_py',\n",
       " 'truPi0rec_pz',\n",
       " 'truPi0rec_E',\n",
       " 'truPi0rec_magP',\n",
       " 'truPi0rec_pT',\n",
       " 'truPi0rec_theta',\n",
       " 'truPi0rec_phi',\n",
       " 'truPi0rec_status',\n",
       " 'truPi0e_px',\n",
       " 'truPi0e_py',\n",
       " 'truPi0e_pz',\n",
       " 'truPi0e_E',\n",
       " 'truPi0e_magP',\n",
       " 'truPi0e_pT',\n",
       " 'truPi0e_theta',\n",
       " 'truPi0e_phi',\n",
       " 'truPi0e_status',\n",
       " 'truPi0phot1_px',\n",
       " 'truPi0phot1_py',\n",
       " 'truPi0phot1_pz',\n",
       " 'truPi0phot1_E',\n",
       " 'truPi0phot1_magP',\n",
       " 'truPi0phot1_pT',\n",
       " 'truPi0phot1_theta',\n",
       " 'truPi0phot1_phi',\n",
       " 'truPi0phot1_status',\n",
       " 'truPi0phot2_px',\n",
       " 'truPi0phot2_py',\n",
       " 'truPi0phot2_pz',\n",
       " 'truPi0phot2_E',\n",
       " 'truPi0phot2_magP',\n",
       " 'truPi0phot2_pT',\n",
       " 'truPi0phot2_theta',\n",
       " 'truPi0phot2_phi',\n",
       " 'truPi0phot2_status',\n",
       " 'truPi0flag_photon1_FT',\n",
       " 'truPi0flag_photon1_FD',\n",
       " 'truPi0flag_photon2_FT',\n",
       " 'truPi0flag_photon2_FD',\n",
       " 'truPi0flag_cut_3sigPi0IM',\n",
       " 'truPi0rcdb_Ebeam',\n",
       " 'Topo',\n",
       " 'NPerm',\n",
       " 'Truth',\n",
       " 'ZeroKins',\n",
       " 'hitPCAL']"
      ]
     },
     "execution_count": 17,
     "metadata": {},
     "output_type": "execute_result"
    }
   ],
   "source": [
    "list(MC_df.columns)"
   ]
  },
  {
   "cell_type": "code",
   "execution_count": 18,
   "metadata": {},
   "outputs": [],
   "source": [
    "bins = 200\n",
    "evo_distros1 = [\n",
    "    [\"Pi0IM_g1g2\", (bins,0,0.2), r\"$M_{\\gamma\\gamma}$ $(GeV/c^{2})$\"],\n",
    "    [\"Pi0MM2_total\", (bins,-5, 5), r\"$MM^{2}_{e'n'\\gamma\\gamma X}$   ($GeV^{2}/c^{4}$)\"]\n",
    "]\n",
    "\n",
    "evo_distros2 = [\n",
    "    [\"Pi0MM_rec_recoil\", (bins,0, 2), r\"$MM_{e'\\gamma\\gamma X}$   ($GeV/c^{2}$)\"],\n",
    "    [\"Pi0MM_rec_spectator\", (bins,0, 2), r\"$MM_{eD -> e'n'\\gamma\\gamma X}$   ($GeV/c^{2}$)\"],    \n",
    "    [\"Pi0MP_rec_spectator\", (bins,0, 0.5), r\"$MP_{eD -> e'n'\\gamma\\gamma X}$   ($GeV/c^{2}$)\"],    \n",
    "    [\"Pi0MP_total\", (bins,0, 3), r\"$MP_{e'n'\\gamma\\gamma X}$   ($GeV/c^{2}$)\"],\n",
    "    [\"Pi0MPt_total\", (bins,0, 3), r\"$MP^{T}_{e'n'\\gamma\\gamma X}$   ($GeV/c^{2}$)\"]\n",
    "]\n",
    "\n",
    "evo_distros3 = [\n",
    "    [\"Pi0cop_Nvg_Nnew\", (bins,-50, 50), r\"$d\\phi_{n\\gamma^{*}-n\\pi_{0}}$ ($\\circ$)\"],\n",
    "    [\"Pi0pi0coneangle\", (bins,0, 60), r\"$\\theta^{cone}_{\\pi_{0}X}$ ($\\circ$)\"],\n",
    "    [\"Pi0recoilconeangle\", (bins,0, 60), r\"$\\theta^{cone}_{nX}$ ($\\circ$)\"],\n",
    "    [\"Pi0eg1coneangle\", (bins,0, 60), r\"$\\theta^{cone}_{e\\gamma_{1}}$ ($\\circ$)\"],\n",
    "    [\"Pi0eg2coneangle\", (bins,0, 60), r\"$\\theta^{cone}_{e\\gamma_{2}}$ ($\\circ$)\"]\n",
    "]\n"
   ]
  },
  {
   "cell_type": "code",
   "execution_count": 19,
   "metadata": {},
   "outputs": [],
   "source": [
    "cuts_truth = [\n",
    "    (MC_df.Truth==1),\n",
    "    (MC_df.Pi0flag_cut_3sigPi0IM == 1),\n",
    "    (MC_df.Pi0rec_magP >= 0.35),\n",
    "    ((MC_df.Pi0rec_status > 3990) & (MC_df.Pi0rec_status < 4150)),\n",
    "    (MC_df.hitPCAL == 1)\n",
    "]\n",
    "\n",
    "cut_label = [\n",
    "    \"Truth-Match\",\n",
    "    r\"$3\\sigma$  $\\pi_{0}$-mass\",\n",
    "    r\"$|p|_{neut.} > 350MeV$\",    \n",
    "    \"CND neutron\",\n",
    "    \"enforce PCAL hit\"\n",
    "]"
   ]
  },
  {
   "cell_type": "code",
   "execution_count": 20,
   "metadata": {},
   "outputs": [
    {
     "data": {
      "application/vnd.jupyter.widget-view+json": {
       "model_id": "30f2e8c76a3a43b7a970790e61cec46f",
       "version_major": 2,
       "version_minor": 0
      },
      "text/plain": [
       "Canvas(toolbar=Toolbar(toolitems=[('Home', 'Reset original view', 'home', 'home'), ('Back', 'Back to previous …"
      ]
     },
     "metadata": {},
     "output_type": "display_data"
    }
   ],
   "source": [
    "fig1, ax1 = plt.subplots(5,2,figsize=(7,12))\n",
    "\n",
    "for j in range(len(cuts_truth)):\n",
    "    for i, var in enumerate(evo_distros1):\n",
    "        \n",
    "        hist1D(ax1[j][i], MC_df, var, cuts=(ft.reduce(lambda x, y: x & y, cuts_truth[:j+1])))\n",
    "\n",
    "for k in range(len(cuts_truth)):\n",
    "    ax1[k][0].set_ylabel(cut_label[k])\n",
    "\n",
    "plt.tight_layout()"
   ]
  },
  {
   "cell_type": "code",
   "execution_count": 21,
   "metadata": {},
   "outputs": [
    {
     "data": {
      "application/vnd.jupyter.widget-view+json": {
       "model_id": "1d1c0fa1a8dc45638d59efb70f0f828a",
       "version_major": 2,
       "version_minor": 0
      },
      "text/plain": [
       "Canvas(toolbar=Toolbar(toolitems=[('Home', 'Reset original view', 'home', 'home'), ('Back', 'Back to previous …"
      ]
     },
     "metadata": {},
     "output_type": "display_data"
    }
   ],
   "source": [
    "fig1, ax1 = plt.subplots(5,5,figsize=(17,12))\n",
    "\n",
    "for j in range(len(cuts_truth)):\n",
    "    for i, var in enumerate(evo_distros2):\n",
    "        \n",
    "        hist1D(ax1[j][i], MC_df, var, cuts=(ft.reduce(lambda x, y: x & y, cuts_truth[:j+1])))\n",
    "\n",
    "for k in range(len(cuts_truth)):\n",
    "    ax1[k][0].set_ylabel(cut_label[k])\n",
    "\n",
    "plt.tight_layout()"
   ]
  },
  {
   "cell_type": "code",
   "execution_count": 22,
   "metadata": {},
   "outputs": [
    {
     "data": {
      "application/vnd.jupyter.widget-view+json": {
       "model_id": "c89fc58a375e40d5b5b481e223a1090c",
       "version_major": 2,
       "version_minor": 0
      },
      "text/plain": [
       "Canvas(toolbar=Toolbar(toolitems=[('Home', 'Reset original view', 'home', 'home'), ('Back', 'Back to previous …"
      ]
     },
     "metadata": {},
     "output_type": "display_data"
    }
   ],
   "source": [
    "fig1, ax1 = plt.subplots(5,5,figsize=(17,12))\n",
    "\n",
    "for j in range(len(cuts_truth)):\n",
    "    for i, var in enumerate(evo_distros3):\n",
    "        \n",
    "        hist1D(ax1[j][i], MC_df, var, cuts=(ft.reduce(lambda x, y: x & y, cuts_truth[:j+1])))\n",
    "\n",
    "for k in range(len(cuts_truth)):\n",
    "    ax1[k][0].set_ylabel(cut_label[k])\n",
    "\n",
    "plt.tight_layout()"
   ]
  },
  {
   "cell_type": "markdown",
   "metadata": {},
   "source": [
    "## Add PID to truth"
   ]
  },
  {
   "cell_type": "code",
   "execution_count": 49,
   "metadata": {},
   "outputs": [
    {
     "data": {
      "application/vnd.jupyter.widget-view+json": {
       "model_id": "000412451ef74cda8ba56c3c9091ce7e",
       "version_major": 2,
       "version_minor": 0
      },
      "text/plain": [
       "Canvas(toolbar=Toolbar(toolitems=[('Home', 'Reset original view', 'home', 'home'), ('Back', 'Back to previous …"
      ]
     },
     "metadata": {},
     "output_type": "display_data"
    }
   ],
   "source": [
    "fig, ax = plt.subplots(12,3, figsize=(12,25))\n",
    "\n",
    "for i, var in enumerate(distros):\n",
    "    hist1D(ax[i][0], MC_df, var, cuts=cut, density=True, label=\"MC cut\", color=\"royalblue\")\n",
    "    #hist1D(ax[i][0], MC_df, var, cuts=cut&(MC_df.Pi0flag_MC_neutrec==1), bins=75, density=True, label=\"truth+PID\")\n",
    "\n",
    "    hist1D(ax[i][1], MC_df, var, cuts=t_cut, density=True, label=\"truth-matched\")\n",
    "    hist1D(ax[i][1], MC_df, var, cuts=t_cut&(MC_df.Pi0flag_MC_neutrec==1), bins=75, density=True, label=\"truth+PID\")\n",
    "\n",
    "    #hist1D(ax[i][2], data_df, var, cuts=dcut&(MC_df.Pi0flag_MC_neutrec==1))\n",
    "\n",
    "for i, var in enumerate(truth_distros):\n",
    "    hist1D(ax[i][2], MC_df, var, cuts=t_cut, density=True, label=\"truth-matched\")\n",
    "    hist1D(ax[i][2], MC_df, var, cuts=t_cut&(MC_df.Pi0flag_MC_neutrec==1), bins=75, density=True, label=\"truth+PID\")\n",
    "\n",
    "\n",
    "\n",
    "# for i, var in enumerate(truth_distros):\n",
    "#     hist1D(ax[i][1], MC_df, var, cuts=cut&(MC_df.Pi0flag_MC_neutrec==1))\n",
    "\n",
    "ax[0][0].set_title(\"MC\", y=1)\n",
    "ax[0][1].set_title(\"truth-matched\", y=1)\n",
    "ax[0][2].set_title(\"truth\", y=1)\n",
    "\n",
    "# for i in 1, 4, 7, 10:\n",
    "#     ax[i][2].legend()\n",
    "#     ax[i][1].legend()\n",
    "#     ax[i][0].legend()\n",
    "    \n",
    "ax[0][1].legend(loc=2)\n",
    "ax[3][1].legend(loc=2)\n",
    "ax[6][1].legend(loc=1)\n",
    "ax[9][1].legend(loc=1)\n",
    "\n",
    "\n",
    "plt.tight_layout(pad=0.3)"
   ]
  },
  {
   "cell_type": "code",
   "execution_count": 31,
   "metadata": {},
   "outputs": [
    {
     "data": {
      "application/vnd.jupyter.widget-view+json": {
       "model_id": "a78df7121eb442d291e8e4cec22fb614",
       "version_major": 2,
       "version_minor": 0
      },
      "text/plain": [
       "Canvas(toolbar=Toolbar(toolitems=[('Home', 'Reset original view', 'home', 'home'), ('Back', 'Back to previous …"
      ]
     },
     "metadata": {},
     "output_type": "display_data"
    }
   ],
   "source": [
    "fig, ax = plt.subplots(12,3, figsize=(12,25))\n",
    "\n",
    "for i, var in enumerate(distros):\n",
    "    hist1D(ax[i][0], MC_df, var, cuts=cut, density=True, label=\"MC cut\", color=\"royalblue\")\n",
    "    #hist1D(ax[i][0], MC_df, var, cuts=cut&(MC_df.Pi0flag_MC_neutrec==1), bins=75, label=\"truth+PID\")\n",
    "\n",
    "    hist1D(ax[i][1], MC_df, var, cuts=t_cut, label=\"truth-matched\")\n",
    "    hist1D(ax[i][1], MC_df, var, cuts=t_cut&(MC_df.Pi0flag_MC_neutrec==1), bins=75, label=\"truth+PID\")\n",
    "\n",
    "    #hist1D(ax[i][2], data_df, var, cuts=dcut&(MC_df.Pi0flag_MC_neutrec==1))\n",
    "\n",
    "for i, var in enumerate(truth_distros):\n",
    "    hist1D(ax[i][2], MC_df, var, cuts=t_cut, label=\"truth-matched\")\n",
    "    hist1D(ax[i][2], MC_df, var, cuts=t_cut&(MC_df.Pi0flag_MC_neutrec==1), bins=75, label=\"truth+PID\")\n",
    "\n",
    "\n",
    "\n",
    "# for i, var in enumerate(truth_distros):\n",
    "#     hist1D(ax[i][1], MC_df, var, cuts=cut&(MC_df.Pi0flag_MC_neutrec==1))\n",
    "\n",
    "ax[0][0].set_title(\"MC\", y=1)\n",
    "ax[0][1].set_title(\"truth-matched\", y=1)\n",
    "ax[0][2].set_title(\"truth\", y=1)\n",
    "\n",
    "for i in 1, 4, 7, 10:\n",
    "    ax[i][2].legend()\n",
    "    ax[i][1].legend()\n",
    "    ax[i][0].legend()\n",
    "    \n",
    "plt.tight_layout(pad=0.3)"
   ]
  },
  {
   "cell_type": "code",
   "execution_count": 38,
   "metadata": {},
   "outputs": [
    {
     "data": {
      "application/vnd.jupyter.widget-view+json": {
       "model_id": "29ee6fddea154de68e0ba6a4c6fd9c6a",
       "version_major": 2,
       "version_minor": 0
      },
      "text/plain": [
       "Canvas(toolbar=Toolbar(toolitems=[('Home', 'Reset original view', 'home', 'home'), ('Back', 'Back to previous …"
      ]
     },
     "metadata": {},
     "output_type": "display_data"
    }
   ],
   "source": [
    "fig, ax = plt.subplots(3,3, figsize=(10,9))\n",
    "\n",
    "for i, var in enumerate(T_distros):\n",
    "    hist1D(ax[i][0], MC_df, var, cuts=cut, density=True)\n",
    "    hist1D(ax[i][1], MC_df, var, cuts=t_cut, density=True)\n",
    "    \n",
    "    hist1D(ax[i][1], MC_df, var, cuts=t_cut&(MC_df.Pi0flag_MC_neutrec==1), density=True, bins=75)\n",
    "\n",
    "for i, var in enumerate(truth_T_distros):    \n",
    "    hist1D(ax[i][2], MC_df, var, cuts=t_cut, density=True)\n",
    "    hist1D(ax[i][2], MC_df, var, cuts=t_cut&(MC_df.Pi0flag_MC_neutrec==1), density=True, bins=75)\n",
    "\n",
    "\n",
    "# for i, var in enumerate(truth_T_distros):\n",
    "#     hist1D(ax[i][1], MC_df, var, cuts=cut, density=True)\n",
    "\n",
    "ax[0][0].set_title(\"MC\", y=1)\n",
    "ax[0][1].set_title(\"truth-matched\", y=1)\n",
    "ax[0][2].set_title(\"truth\", y=1)\n",
    "\n",
    "    \n",
    "plt.tight_layout(pad=0.05)"
   ]
  },
  {
   "cell_type": "code",
   "execution_count": null,
   "metadata": {},
   "outputs": [],
   "source": []
  }
 ],
 "metadata": {
  "kernelspec": {
   "display_name": "pi0-ana",
   "language": "python",
   "name": "pi0-ana"
  },
  "language_info": {
   "codemirror_mode": {
    "name": "ipython",
    "version": 3
   },
   "file_extension": ".py",
   "mimetype": "text/x-python",
   "name": "python",
   "nbconvert_exporter": "python",
   "pygments_lexer": "ipython3",
   "version": "3.7.9"
  },
  "widgets": {
   "application/vnd.jupyter.widget-state+json": {
    "state": {},
    "version_major": 2,
    "version_minor": 0
   }
  }
 },
 "nbformat": 4,
 "nbformat_minor": 4
}
