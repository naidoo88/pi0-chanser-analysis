{
 "cells": [
  {
   "cell_type": "markdown",
   "metadata": {},
   "source": [
    "# Simulation cut study"
   ]
  },
  {
   "cell_type": "code",
   "execution_count": 1,
   "metadata": {},
   "outputs": [],
   "source": [
    "import numpy as np\n",
    "import pandas as pd\n",
    "import uproot\n",
    "import boost_histogram as bh\n",
    "import functools as ft\n",
    "import matplotlib.pyplot as plt\n",
    "\n",
    "%matplotlib widget"
   ]
  },
  {
   "cell_type": "code",
   "execution_count": 2,
   "metadata": {},
   "outputs": [],
   "source": [
    "plt.style.use('seaborn')\n",
    "plt.rcParams['axes.grid'] = True\n",
    "plt.rcParams['axes.formatter.limits'] = (-3,3)\n",
    "plt.rcParams['axes.formatter.use_mathtext'] = True\n",
    "# plt.rcParams['font.size']= 16\n",
    "# plt.rcParams['axes.labelsize'] = 14\n",
    "# plt.rcParams['axes.titlesize'] = 14\n",
    "# plt.rcParams['xtick.labelsize'] = 10\n",
    "# plt.rcParams['ytick.labelsize'] = 10"
   ]
  },
  {
   "cell_type": "code",
   "execution_count": 3,
   "metadata": {},
   "outputs": [],
   "source": [
    "data_root_file = \"/w/work3/home/pauln/analysis/processed/chanser_ANAsub/pauln/Pi0_PID_fullcomb/FinalState.root\"\n",
    "MC_root_file = \"/w/work3/home/pauln/analysis/processed/chanser_MCsub/pauln/Pi0_PID_fullcomb/FinalState.root\"\n",
    "#MCpart_root_file = \"/home/pauln/code/pi0chanser/output/chanser_MC_12k-15k/pauln/Pi0_PID_photcomb/ParticleVariables_0.root\"\n",
    "\n",
    "tree= \"FINALOUTTREE\"\n",
    "\n",
    "data = uproot.open(data_root_file)[tree]\n",
    "data_df = data.pandas.df()\n",
    "\n",
    "data = uproot.open(MC_root_file)[tree]\n",
    "MC_df = data.pandas.df()\n",
    "\n",
    "# data = uproot.open(MCpart_root_file)['particle']\n",
    "# MCpart_df = data.pandas.df()"
   ]
  },
  {
   "cell_type": "code",
   "execution_count": 4,
   "metadata": {},
   "outputs": [],
   "source": [
    "def hist1D(ax, df, var, cuts=None, y_err=False, color=None, falpha=0.4, normed=False, filled = False, density = False, params={}):\n",
    "    #select next color in colormap for use in line and fill.\n",
    "    if color is None:\n",
    "        color = next(ax._get_lines.prop_cycler)['color']\n",
    "    \n",
    "    if cuts is not None: \n",
    "        data = df[var[0]][cuts]\n",
    "    else:\n",
    "        data = df[var[0]]\n",
    "        \n",
    "    #calculate area under the curve if wanting normalised plot    \n",
    "    weights = None\n",
    "    if normed is True:\n",
    "        entries, edges = np.histogram(\n",
    "            data,\n",
    "            range = (var[1][1], var[1][2]),\n",
    "            bins = var[1][0]        \n",
    "        )\n",
    "      \n",
    "        integral = sum(np.diff(edges)*entries)\n",
    "        weights = np.ones_like(data)/integral\n",
    "    \n",
    "    #Draw histogram\n",
    "    entries,edges,_ = ax.hist(data,\n",
    "    range = (var[1][1], var[1][2]),\n",
    "    bins = var[1][0],\n",
    "    density = density,\n",
    "    weights=weights,\n",
    "    histtype = 'step',\n",
    "    linewidth = 1.5,\n",
    "    color = color,\n",
    "    **params\n",
    "    )\n",
    " \n",
    "    #fill area under histo if set\n",
    "    if filled is True:\n",
    "        # brute-force: drawing it again to allow separate alpha(opacity) to be used\n",
    "        h = ax.hist(data,\n",
    "            range = (var[1][1], var[1][2]),\n",
    "            bins = var[1][0],\n",
    "            density = density,\n",
    "            weights=weights,\n",
    "            histtype = 'step',\n",
    "            linewidth = None,\n",
    "            fill = True,\n",
    "            alpha = falpha,\n",
    "            color = color\n",
    "            )\n",
    "        \n",
    "    #error bars    \n",
    "    if y_err is True:\n",
    "        if normed is True: \n",
    "            yerr = np.sqrt(entries)/integral\n",
    "            entries = entries/integral\n",
    "        else:\n",
    "            entries, edges = np.histogram(\n",
    "                data,\n",
    "                range = (var[1][1], var[1][2]),\n",
    "                bins = var[1][0]        \n",
    "            )\n",
    "            yerr = np.sqrt(entries)\n",
    "            \n",
    "        bin_width = edges[1]-edges[0]\n",
    "        bin_centers = edges[:-1] + bin_width/2\n",
    "        ax.errorbar(bin_centers, entries, yerr=yerr, color='r', ls='', alpha=0.6, label='err', elinewidth=0.6)\n",
    "        \n",
    "        \n",
    "    #deal with automatic y-axis scaling funk\n",
    "    # if normed is True:\n",
    "    #     #axes = plt.gca()\n",
    "    #     ax.set_ylim([0,max(entries/integral)*1.1])\n",
    "\n",
    "    ax.set_xlabel(var[2])\n",
    "    ax.set_xlim(var[1][1], var[1][2])\n",
    "\n",
    "    \n",
    "    return #(entries, edges, yerr)"
   ]
  },
  {
   "cell_type": "markdown",
   "metadata": {},
   "source": [
    "## Exploring distributions in MC\n",
    "\n",
    "   * Photon combinatorials\n",
    "   * Events Generated using GenePi\n",
    "      * Currently using non-OSG recon\n",
    "      * *Should* be fine, but running events through OSG\n",
    "  "
   ]
  },
  {
   "cell_type": "code",
   "execution_count": 5,
   "metadata": {},
   "outputs": [],
   "source": [
    "bins = 200\n",
    "distros = [\n",
    "    [\"Pi0IM_g1g2\", (bins,0,0.2), r\"$M_{\\gamma\\gamma}$ $(GeV/c^{2})$\"],\n",
    "    [\"Pi0MM2_total\", (bins,-5, 5), r\"$MM^{2}_{e'n'\\gamma\\gamma X}$   ($GeV^{2}/c^{4}$)\"],\n",
    "    [\"Pi0MM_rec_recoil\", (bins,0, 2), r\"$MM_{e'\\gamma\\gamma X}$   ($GeV/c^{2}$)\"],\n",
    "    [\"Pi0MM_rec_spectator\", (bins,0, 2), r\"$MM_{eD -> e'n'\\gamma\\gamma X}$   ($GeV/c^{2}$)\"],    \n",
    "    [\"Pi0MP_rec_spectator\", (bins,0, 1), r\"$MP_{eD -> e'n'\\gamma\\gamma X}$   ($GeV/c^{2}$)\"],    \n",
    "    [\"Pi0MP_total\", (bins,0, 3), r\"$MP_{e'n'\\gamma\\gamma X}$   ($GeV/c^{2}$)\"],\n",
    "    [\"Pi0MPt_total\", (bins,0, 3), r\"$MP^{T}_{e'n'\\gamma\\gamma X}$   ($GeV/c^{2}$)\"],\n",
    "    [\"Pi0cop_Nvg_Nnew\", (bins,-50, 50), r\"$d\\phi_{n\\gamma^{*}-n\\pi_{0}}$ ($\\circ$)\"],\n",
    "    [\"Pi0pi0coneangle\", (bins,0, 60), r\"$\\theta^{cone}_{\\pi_{0}X}$ ($\\circ$)\"],\n",
    "    [\"Pi0recoilconeangle\", (bins,0, 60), r\"$\\theta^{cone}_{nX}$ ($\\circ$)\"],\n",
    "    [\"Pi0eg1coneangle\", (bins,0, 60), r\"$\\theta^{cone}_{e\\gamma_{1}}$ ($\\circ$)\"],\n",
    "    [\"Pi0eg2coneangle\", (bins,0, 60), r\"$\\theta^{cone}_{e\\gamma_{2}}$ ($\\circ$)\"]\n",
    "]\n",
    "\n",
    "truth_distros = [\n",
    "    [\"truPi0IM_g1g2\", (bins,0,0.2), r\"$M_{\\gamma\\gamma}$ $(GeV/c^{2})$\"],\n",
    "    [\"truPi0MM2_total\", (bins,-5, 5), r\"$MM^{2}_{e'n'\\gamma\\gamma X}$   ($GeV^{2}/c^{4}$)\"],\n",
    "    [\"truPi0MM_rec_recoil\", (bins,0, 2), r\"$MM_{e'\\gamma\\gamma X}$   ($GeV/c^{2}$)\"],\n",
    "    [\"truPi0MM_rec_spectator\", (bins,0, 2), r\"$MM_{eD -> e'n'\\gamma\\gamma X}$   ($GeV/c^{2}$)\"],    \n",
    "    [\"truPi0MP_rec_spectator\", (bins,0, 1), r\"$MP_{eD -> e'n'\\gamma\\gamma X}$   ($GeV/c^{2}$)\"],  \n",
    "    [\"truPi0MP_total\", (bins,0, 3), r\"$MP_{e'n'\\gamma\\gamma X}$   ($GeV/c^{2}$)\"],\n",
    "    [\"truPi0MPt_total\", (bins,0, 3), r\"$MP^{T}_{e'n'\\gamma\\gamma X}$   ($GeV/c^{2}$)\"],\n",
    "    [\"truPi0cop_Nvg_Nnew\", (bins,-50, 50), r\"$d\\phi_{n\\gamma^{*}-n\\pi_{0}}$ ($\\circ$)\"],\n",
    "    [\"truPi0pi0coneangle\", (bins,0, 60), r\"$\\theta^{cone}_{\\pi_{0}X}$ ($\\circ$)\"],\n",
    "    [\"truPi0recoilconeangle\", (bins,0, 60), r\"$\\theta^{cone}_{nX}$ ($\\circ$)\"],\n",
    "    [\"truPi0eg1coneangle\", (bins,0, 60), r\"$\\theta^{cone}_{e\\gamma_{1}}$ ($\\circ$)\"],\n",
    "    [\"truPi0eg2coneangle\", (bins,0, 60), r\"$\\theta^{cone}_{e\\gamma_{2}}$ ($\\circ$)\"]\n",
    "]"
   ]
  },
  {
   "cell_type": "markdown",
   "metadata": {},
   "source": [
    "## Raw MC, \"Truth-Matched\" and data"
   ]
  },
  {
   "cell_type": "code",
   "execution_count": 21,
   "metadata": {},
   "outputs": [
    {
     "data": {
      "application/vnd.jupyter.widget-view+json": {
       "model_id": "91ce6ae9951149df98e94896343ee766",
       "version_major": 2,
       "version_minor": 0
      },
      "text/plain": [
       "Canvas(toolbar=Toolbar(toolitems=[('Home', 'Reset original view', 'home', 'home'), ('Back', 'Back to previous …"
      ]
     },
     "metadata": {},
     "output_type": "display_data"
    }
   ],
   "source": [
    "fig, ax = plt.subplots(12,3, figsize=(12,25))\n",
    "\n",
    "for i, var in enumerate(distros):\n",
    "    hist1D(ax[i][0], MC_df, var)\n",
    "    \n",
    "for i, var in enumerate(distros):\n",
    "    hist1D(ax[i][1], MC_df, var, cuts=(MC_df.Truth==1))\n",
    "\n",
    "# for i, var in enumerate(distros):\n",
    "#     hist1D(ax[i][2], data_df, var)\n",
    "    \n",
    "for i, var in enumerate(truth_distros):\n",
    "    hist1D(ax[i][2], MC_df, var, cuts=(MC_df.Truth==1))\n",
    "    \n",
    "ax[0][0].set_title(\"MC\", y=1)\n",
    "ax[0][1].set_title(\"truth-matched\", y=1)\n",
    "ax[0][2].set_title(\"data\", y=1)\n",
    "\n",
    "plt.tight_layout(pad=0.05)"
   ]
  },
  {
   "cell_type": "markdown",
   "metadata": {},
   "source": [
    "## Cleaning up with some cuts: \n",
    "   * 3$\\sigma$ $\\pi_{0}$-mass cut\n",
    "   * Neutrons\n",
    "      * CND only\n",
    "      * |p| > 350 MeV\n",
    "   * Photons\n",
    "      * Require hit in the PCAL"
   ]
  },
  {
   "cell_type": "code",
   "execution_count": 9,
   "metadata": {},
   "outputs": [],
   "source": [
    "cuts = [\n",
    "    (MC_df.Pi0flag_cut_3sigPi0IM == 1),\n",
    "    ((MC_df.Pi0rec_status > 3990) & (MC_df.Pi0rec_status < 4150)),\n",
    "    (MC_df.Pi0rec_magP >= 0.35),\n",
    "    (MC_df.hitPCAL == 1)\n",
    "]\n",
    "\n",
    "cuts_truth = [\n",
    "    (MC_df.Pi0flag_cut_3sigPi0IM == 1),\n",
    "    ((MC_df.Pi0rec_status > 3990) & (MC_df.Pi0rec_status < 4150)),\n",
    "    (MC_df.Pi0rec_magP >= 0.35),\n",
    "    (MC_df.hitPCAL == 1),\n",
    "    (MC_df.Truth==1)\n",
    "]\n",
    "\n",
    "dcuts = [\n",
    "    (data_df.Pi0flag_cut_3sigPi0IM == 1),\n",
    "    ((data_df.Pi0rec_status > 3990) & (data_df.Pi0rec_status < 4150)),\n",
    "    (data_df.Pi0rec_magP >= 0.35),\n",
    "    (data_df.hitPCAL == 1)\n",
    "]\n",
    "\n",
    "# oneT_cuts = [\n",
    "#     (MC_1T_df.Pi0flag_cut_3sigPi0IM == 1),\n",
    "#     ((MC_1T_df.Pi0rec_status > 3990) & (MC_1T_df.Pi0rec_status < 4150)),\n",
    "#     (MC_1T_df.Pi0rec_magP >= 0.35),\n",
    "#     (MC_1T_df.hitPCAL == 1)\n",
    "# ]\n",
    "# # cuts_truth = [\n",
    "#     cuts,\n",
    "#     (MC_df.Truth==1)\n",
    "# ]\n",
    "\n",
    "cut = ft.reduce(lambda x, y: x & y, cuts[:])\n",
    "t_cut = ft.reduce(lambda x, y: x & y, cuts_truth[:])\n",
    "dcut = ft.reduce(lambda x, y: x & y, dcuts[:])\n",
    "\n",
    "#oT_cut = ft.reduce(lambda x, y: x & y, oneT_cuts[:])"
   ]
  },
  {
   "cell_type": "code",
   "execution_count": 10,
   "metadata": {},
   "outputs": [],
   "source": [
    "tcut = cut & (MC_df.Truth==1)\n"
   ]
  },
  {
   "cell_type": "code",
   "execution_count": 11,
   "metadata": {},
   "outputs": [
    {
     "data": {
      "text/plain": [
       "True"
      ]
     },
     "execution_count": 11,
     "metadata": {},
     "output_type": "execute_result"
    }
   ],
   "source": [
    "(t_cut==tcut).all()"
   ]
  },
  {
   "cell_type": "code",
   "execution_count": 12,
   "metadata": {},
   "outputs": [
    {
     "data": {
      "application/vnd.jupyter.widget-view+json": {
       "model_id": "e8ac411df36742fc8fa4833ed537d62b",
       "version_major": 2,
       "version_minor": 0
      },
      "text/plain": [
       "Canvas(toolbar=Toolbar(toolitems=[('Home', 'Reset original view', 'home', 'home'), ('Back', 'Back to previous …"
      ]
     },
     "metadata": {},
     "output_type": "display_data"
    }
   ],
   "source": [
    "fig, ax = plt.subplots(12,3, figsize=(10,25))\n",
    "\n",
    "for i, var in enumerate(distros):\n",
    "    hist1D(ax[i][0], MC_df, var, cuts=cut)\n",
    "    hist1D(ax[i][1], MC_df, var, cuts=t_cut)\n",
    "    #hist1D(ax[i][2], data_df, var, cuts=dcut)\n",
    "    \n",
    "    for i, var in enumerate(truth_distros):\n",
    "        hist1D(ax[i][2], MC_df, var, cuts=t_cut)\n",
    "\n",
    "\n",
    "# for i, var in enumerate(truth_distros):\n",
    "#     hist1D(ax[i][1], MC_df, var, cuts=cut)\n",
    "\n",
    "ax[0][0].set_title(\"MC\", y=1)\n",
    "ax[0][1].set_title(\"truth-matched\", y=1)\n",
    "ax[0][2].set_title(\"data\", y=1)\n",
    "\n",
    "    \n",
    "plt.tight_layout(pad=0.05)"
   ]
  },
  {
   "cell_type": "code",
   "execution_count": 22,
   "metadata": {},
   "outputs": [],
   "source": [
    "T_distros = [\n",
    "    [\"Pi0recoil_T\", (bins,0,2), r\"$T_{neutron}$ $(GeV)$\"],\n",
    "    [\"Pi0recon_recoil_T\", (bins,0,10), r\"$recon. T_{neutron}$ $(GeV)$\"],\n",
    "    [\"Pi0dneutT\", (bins,0,10), r\"$\\delta T_{neutron}$ $(GeV)$\"]\n",
    "]\n",
    "\n",
    "truth_T_distros = [\n",
    "    [\"truPi0recoil_T\", (bins,0,2), r\"$T_{neutron}$ $(GeV)$\"],\n",
    "    [\"truPi0recon_recoil_T\", (bins,0,10), r\"$recon. T_{neutron}$ $(GeV)$\"],\n",
    "    [\"truPi0dneutT\", (bins,0,10), r\"$\\delta T_{neutron}$ $(GeV)$\"]\n",
    "]"
   ]
  },
  {
   "cell_type": "code",
   "execution_count": 23,
   "metadata": {},
   "outputs": [
    {
     "data": {
      "application/vnd.jupyter.widget-view+json": {
       "model_id": "748deaacd04d406a84e12d29a4da20c4",
       "version_major": 2,
       "version_minor": 0
      },
      "text/plain": [
       "Canvas(toolbar=Toolbar(toolitems=[('Home', 'Reset original view', 'home', 'home'), ('Back', 'Back to previous …"
      ]
     },
     "metadata": {},
     "output_type": "display_data"
    }
   ],
   "source": [
    "fig, ax = plt.subplots(3,3, figsize=(10,9))\n",
    "\n",
    "for i, var in enumerate(T_distros):\n",
    "    hist1D(ax[i][0], MC_df, var)\n",
    "    \n",
    "for i, var in enumerate(T_distros):\n",
    "    hist1D(ax[i][1], MC_df, var, cuts=(MC_df.Truth==1))\n",
    "\n",
    "for i, var in enumerate(T_distros):\n",
    "    hist1D(ax[i][2], data_df, var)\n",
    "    \n",
    "ax[0][0].set_title(\"MC\", y=1)\n",
    "ax[0][1].set_title(\"truth-matched\", y=1)\n",
    "ax[0][2].set_title(\"data\", y=1)\n",
    "\n",
    "    \n",
    "plt.tight_layout(pad=0.05)"
   ]
  },
  {
   "cell_type": "code",
   "execution_count": 13,
   "metadata": {},
   "outputs": [
    {
     "data": {
      "application/vnd.jupyter.widget-view+json": {
       "model_id": "a60deeeedd1e4d878273775f7ad94ff0",
       "version_major": 2,
       "version_minor": 0
      },
      "text/plain": [
       "Canvas(toolbar=Toolbar(toolitems=[('Home', 'Reset original view', 'home', 'home'), ('Back', 'Back to previous …"
      ]
     },
     "metadata": {},
     "output_type": "display_data"
    }
   ],
   "source": [
    "fig, ax = plt.subplots(3,3, figsize=(10,9))\n",
    "\n",
    "for i, var in enumerate(T_distros):\n",
    "    hist1D(ax[i][0], MC_df, var, cuts=cut)\n",
    "    hist1D(ax[i][1], MC_df, var, cuts=t_cut)\n",
    "    hist1D(ax[i][2], data_df, var, cuts=dcut)\n",
    "\n",
    "\n",
    "# for i, var in enumerate(truth_T_distros):\n",
    "#     hist1D(ax[i][1], MC_df, var, cuts=cut)\n",
    "\n",
    "ax[0][0].set_title(\"MC\", y=1)\n",
    "ax[0][1].set_title(\"truth-matched\", y=1)\n",
    "ax[0][2].set_title(\"data\", y=1)\n",
    "\n",
    "    \n",
    "plt.tight_layout(pad=0.05)"
   ]
  },
  {
   "cell_type": "code",
   "execution_count": 26,
   "metadata": {},
   "outputs": [
    {
     "data": {
      "application/vnd.jupyter.widget-view+json": {
       "model_id": "74ec0af20020454aad3fc77a90da2d55",
       "version_major": 2,
       "version_minor": 0
      },
      "text/plain": [
       "Canvas(toolbar=Toolbar(toolitems=[('Home', 'Reset original view', 'home', 'home'), ('Back', 'Back to previous …"
      ]
     },
     "metadata": {},
     "output_type": "display_data"
    }
   ],
   "source": [
    "fig, ax = plt.subplots(12,2, figsize=(12,30))\n",
    "\n",
    "raw_para = {\n",
    "    'label': \"Raw\"\n",
    "}\n",
    "traw_para = {\n",
    "    'label': \"Truth-matched Raw\"\n",
    "}\n",
    "cut_para = {\n",
    "    'label': \"Cut\"\n",
    "}\n",
    "tcut_para = {\n",
    "    'label': \"Truth-matched Cut\"\n",
    "}\n",
    "\n",
    "for i, var in enumerate(distros):\n",
    "    hist1D(ax[i][0], MC_df, var, density=True, params=raw_para)\n",
    "    hist1D(ax[i][0], MC_df, var, cuts=(MC_df.Truth==1), density=True, params=traw_para)\n",
    "\n",
    "\n",
    "\n",
    "for i, var in enumerate(distros):\n",
    "    hist1D(ax[i][1], MC_df, var, cuts=cut, density=True, params=cut_para)\n",
    "    hist1D(ax[i][1], MC_df, var, cuts=t_cut, density=True, params=tcut_para)\n",
    "    \n",
    "for l in 0, 2, 4, 6, 8, 10:\n",
    "    ax[l][0].legend()\n",
    "    ax[l][1].legend()\n",
    "    \n",
    "plt.tight_layout(pad=0.05)"
   ]
  },
  {
   "cell_type": "code",
   "execution_count": 15,
   "metadata": {
    "collapsed": true,
    "jupyter": {
     "outputs_hidden": true,
     "source_hidden": true
    }
   },
   "outputs": [
    {
     "data": {
      "text/plain": [
       "['Pi0helicity',\n",
       " 'Pi0W2',\n",
       " 'Pi0Q2',\n",
       " 'Pi0xB',\n",
       " 'Pi0tneg',\n",
       " 'Pi0tneg_pi0',\n",
       " 'Pi0dtneg',\n",
       " 'Pi0IM_g1g2',\n",
       " 'Pi0MM2_total',\n",
       " 'Pi0MP_total',\n",
       " 'Pi0ME_total',\n",
       " 'Pi0MPt_total',\n",
       " 'Pi0pi0coneangle',\n",
       " 'Pi0eg1coneangle',\n",
       " 'Pi0eg2coneangle',\n",
       " 'Pi0recoilconeangle',\n",
       " 'Pi0MP_rec_recoil',\n",
       " 'Pi0MPt_rec_recoil',\n",
       " 'Pi0MM_rec_recoil',\n",
       " 'Pi0MM2_rec_recoil',\n",
       " 'Pi0MP_rec_spectator',\n",
       " 'Pi0MPt_rec_spectator',\n",
       " 'Pi0MM_rec_spectator',\n",
       " 'Pi0MM2_rec_spectator',\n",
       " 'Pi0phi_Nvg',\n",
       " 'Pi0phi_Nnew',\n",
       " 'Pi0phi_vgnew',\n",
       " 'Pi0cop_Nvg_vgnew',\n",
       " 'Pi0cop_Nvg_Nnew',\n",
       " 'Pi0cop_Nnew_vgnew',\n",
       " 'Pi0recon_recoil_T',\n",
       " 'Pi0recoil_T',\n",
       " 'Pi0dneutT',\n",
       " 'Pi0rec_px',\n",
       " 'Pi0rec_py',\n",
       " 'Pi0rec_pz',\n",
       " 'Pi0rec_E',\n",
       " 'Pi0rec_magP',\n",
       " 'Pi0rec_pT',\n",
       " 'Pi0rec_theta',\n",
       " 'Pi0rec_phi',\n",
       " 'Pi0rec_status',\n",
       " 'Pi0e_px',\n",
       " 'Pi0e_py',\n",
       " 'Pi0e_pz',\n",
       " 'Pi0e_E',\n",
       " 'Pi0e_magP',\n",
       " 'Pi0e_pT',\n",
       " 'Pi0e_theta',\n",
       " 'Pi0e_phi',\n",
       " 'Pi0e_status',\n",
       " 'Pi0phot1_px',\n",
       " 'Pi0phot1_py',\n",
       " 'Pi0phot1_pz',\n",
       " 'Pi0phot1_E',\n",
       " 'Pi0phot1_magP',\n",
       " 'Pi0phot1_pT',\n",
       " 'Pi0phot1_theta',\n",
       " 'Pi0phot1_phi',\n",
       " 'Pi0phot1_status',\n",
       " 'Pi0phot2_px',\n",
       " 'Pi0phot2_py',\n",
       " 'Pi0phot2_pz',\n",
       " 'Pi0phot2_E',\n",
       " 'Pi0phot2_magP',\n",
       " 'Pi0phot2_pT',\n",
       " 'Pi0phot2_theta',\n",
       " 'Pi0phot2_phi',\n",
       " 'Pi0phot2_status',\n",
       " 'Pi0flag_photon1_FT',\n",
       " 'Pi0flag_photon1_FD',\n",
       " 'Pi0flag_photon2_FT',\n",
       " 'Pi0flag_photon2_FD',\n",
       " 'Pi0flag_cut_3sigPi0IM',\n",
       " 'Pi0rcdb_Ebeam',\n",
       " 'truPi0helicity',\n",
       " 'truPi0W2',\n",
       " 'truPi0Q2',\n",
       " 'truPi0xB',\n",
       " 'truPi0tneg',\n",
       " 'truPi0tneg_pi0',\n",
       " 'truPi0dtneg',\n",
       " 'truPi0IM_g1g2',\n",
       " 'truPi0MM2_total',\n",
       " 'truPi0MP_total',\n",
       " 'truPi0ME_total',\n",
       " 'truPi0MPt_total',\n",
       " 'truPi0pi0coneangle',\n",
       " 'truPi0eg1coneangle',\n",
       " 'truPi0eg2coneangle',\n",
       " 'truPi0recoilconeangle',\n",
       " 'truPi0MP_rec_recoil',\n",
       " 'truPi0MPt_rec_recoil',\n",
       " 'truPi0MM_rec_recoil',\n",
       " 'truPi0MM2_rec_recoil',\n",
       " 'truPi0MP_rec_spectator',\n",
       " 'truPi0MPt_rec_spectator',\n",
       " 'truPi0MM_rec_spectator',\n",
       " 'truPi0MM2_rec_spectator',\n",
       " 'truPi0phi_Nvg',\n",
       " 'truPi0phi_Nnew',\n",
       " 'truPi0phi_vgnew',\n",
       " 'truPi0cop_Nvg_vgnew',\n",
       " 'truPi0cop_Nvg_Nnew',\n",
       " 'truPi0cop_Nnew_vgnew',\n",
       " 'truPi0recon_recoil_T',\n",
       " 'truPi0recoil_T',\n",
       " 'truPi0dneutT',\n",
       " 'truPi0rec_px',\n",
       " 'truPi0rec_py',\n",
       " 'truPi0rec_pz',\n",
       " 'truPi0rec_E',\n",
       " 'truPi0rec_magP',\n",
       " 'truPi0rec_pT',\n",
       " 'truPi0rec_theta',\n",
       " 'truPi0rec_phi',\n",
       " 'truPi0rec_status',\n",
       " 'truPi0e_px',\n",
       " 'truPi0e_py',\n",
       " 'truPi0e_pz',\n",
       " 'truPi0e_E',\n",
       " 'truPi0e_magP',\n",
       " 'truPi0e_pT',\n",
       " 'truPi0e_theta',\n",
       " 'truPi0e_phi',\n",
       " 'truPi0e_status',\n",
       " 'truPi0phot1_px',\n",
       " 'truPi0phot1_py',\n",
       " 'truPi0phot1_pz',\n",
       " 'truPi0phot1_E',\n",
       " 'truPi0phot1_magP',\n",
       " 'truPi0phot1_pT',\n",
       " 'truPi0phot1_theta',\n",
       " 'truPi0phot1_phi',\n",
       " 'truPi0phot1_status',\n",
       " 'truPi0phot2_px',\n",
       " 'truPi0phot2_py',\n",
       " 'truPi0phot2_pz',\n",
       " 'truPi0phot2_E',\n",
       " 'truPi0phot2_magP',\n",
       " 'truPi0phot2_pT',\n",
       " 'truPi0phot2_theta',\n",
       " 'truPi0phot2_phi',\n",
       " 'truPi0phot2_status',\n",
       " 'truPi0flag_photon1_FT',\n",
       " 'truPi0flag_photon1_FD',\n",
       " 'truPi0flag_photon2_FT',\n",
       " 'truPi0flag_photon2_FD',\n",
       " 'truPi0flag_cut_3sigPi0IM',\n",
       " 'truPi0rcdb_Ebeam',\n",
       " 'Topo',\n",
       " 'NPerm',\n",
       " 'Truth',\n",
       " 'ZeroKins',\n",
       " 'hitPCAL']"
      ]
     },
     "execution_count": 15,
     "metadata": {},
     "output_type": "execute_result"
    }
   ],
   "source": [
    "list(MC_df.columns)"
   ]
  },
  {
   "cell_type": "code",
   "execution_count": 16,
   "metadata": {},
   "outputs": [],
   "source": [
    "bins = 200\n",
    "evo_distros1 = [\n",
    "    [\"Pi0IM_g1g2\", (bins,0,0.2), r\"$M_{\\gamma\\gamma}$ $(GeV/c^{2})$\"],\n",
    "    [\"Pi0MM2_total\", (bins,-5, 5), r\"$MM^{2}_{e'n'\\gamma\\gamma X}$   ($GeV^{2}/c^{4}$)\"]\n",
    "]\n",
    "\n",
    "evo_distros2 = [\n",
    "    [\"Pi0MM_rec_recoil\", (bins,0, 2), r\"$MM_{e'\\gamma\\gamma X}$   ($GeV/c^{2}$)\"],\n",
    "    [\"Pi0MM_rec_spectator\", (bins,0, 2), r\"$MM_{eD -> e'n'\\gamma\\gamma X}$   ($GeV/c^{2}$)\"],    \n",
    "    [\"Pi0MP_rec_spectator\", (bins,0, 0.5), r\"$MP_{eD -> e'n'\\gamma\\gamma X}$   ($GeV/c^{2}$)\"],    \n",
    "    [\"Pi0MP_total\", (bins,0, 3), r\"$MP_{e'n'\\gamma\\gamma X}$   ($GeV/c^{2}$)\"],\n",
    "    [\"Pi0MPt_total\", (bins,0, 3), r\"$MP^{T}_{e'n'\\gamma\\gamma X}$   ($GeV/c^{2}$)\"]\n",
    "]\n",
    "\n",
    "evo_distros3 = [\n",
    "    [\"Pi0cop_Nvg_Nnew\", (bins,-50, 50), r\"$d\\phi_{n\\gamma^{*}-n\\pi_{0}}$ ($\\circ$)\"],\n",
    "    [\"Pi0pi0coneangle\", (bins,0, 60), r\"$\\theta^{cone}_{\\pi_{0}X}$ ($\\circ$)\"],\n",
    "    [\"Pi0recoilconeangle\", (bins,0, 60), r\"$\\theta^{cone}_{nX}$ ($\\circ$)\"],\n",
    "    [\"Pi0eg1coneangle\", (bins,0, 60), r\"$\\theta^{cone}_{e\\gamma_{1}}$ ($\\circ$)\"],\n",
    "    [\"Pi0eg2coneangle\", (bins,0, 60), r\"$\\theta^{cone}_{e\\gamma_{2}}$ ($\\circ$)\"]\n",
    "]\n"
   ]
  },
  {
   "cell_type": "code",
   "execution_count": 17,
   "metadata": {},
   "outputs": [],
   "source": [
    "cuts_truth = [\n",
    "    (MC_df.Truth==1),\n",
    "    (MC_df.Pi0flag_cut_3sigPi0IM == 1),\n",
    "    (MC_df.Pi0rec_magP >= 0.35),\n",
    "    ((MC_df.Pi0rec_status > 3990) & (MC_df.Pi0rec_status < 4150)),\n",
    "    (MC_df.hitPCAL == 1)\n",
    "]\n",
    "\n",
    "cut_label = [\n",
    "    \"Truth-Match\",\n",
    "    r\"$3\\sigma$  $\\pi_{0}$-mass\",\n",
    "    r\"$|p|_{neut.} > 350MeV$\",    \n",
    "    \"CND neutron\",\n",
    "    \"enforce PCAL hit\"\n",
    "]"
   ]
  },
  {
   "cell_type": "code",
   "execution_count": 27,
   "metadata": {},
   "outputs": [
    {
     "data": {
      "application/vnd.jupyter.widget-view+json": {
       "model_id": "2b3bcdeaf13445a2a7fd1a694b93524c",
       "version_major": 2,
       "version_minor": 0
      },
      "text/plain": [
       "Canvas(toolbar=Toolbar(toolitems=[('Home', 'Reset original view', 'home', 'home'), ('Back', 'Back to previous …"
      ]
     },
     "metadata": {},
     "output_type": "display_data"
    }
   ],
   "source": [
    "fig1, ax1 = plt.subplots(5,2,figsize=(7,12))\n",
    "\n",
    "for j in range(len(cuts_truth)):\n",
    "    for i, var in enumerate(evo_distros1):\n",
    "        \n",
    "        hist1D(ax1[j][i], MC_df, var, cuts=(ft.reduce(lambda x, y: x & y, cuts_truth[:j+1])))\n",
    "\n",
    "for k in range(len(cuts_truth)):\n",
    "    ax1[k][0].set_ylabel(cut_label[k])\n",
    "\n",
    "plt.tight_layout()"
   ]
  },
  {
   "cell_type": "code",
   "execution_count": 19,
   "metadata": {},
   "outputs": [
    {
     "data": {
      "application/vnd.jupyter.widget-view+json": {
       "model_id": "32fb1d5b5ae242fd8a369b6ed2d75665",
       "version_major": 2,
       "version_minor": 0
      },
      "text/plain": [
       "Canvas(toolbar=Toolbar(toolitems=[('Home', 'Reset original view', 'home', 'home'), ('Back', 'Back to previous …"
      ]
     },
     "metadata": {},
     "output_type": "display_data"
    }
   ],
   "source": [
    "fig1, ax1 = plt.subplots(5,5,figsize=(17,12))\n",
    "\n",
    "for j in range(len(cuts_truth)):\n",
    "    for i, var in enumerate(evo_distros2):\n",
    "        \n",
    "        hist1D(ax1[j][i], MC_df, var, cuts=(ft.reduce(lambda x, y: x & y, cuts_truth[:j+1])))\n",
    "\n",
    "for k in range(len(cuts_truth)):\n",
    "    ax1[k][0].set_ylabel(cut_label[k])\n",
    "\n",
    "plt.tight_layout()"
   ]
  },
  {
   "cell_type": "code",
   "execution_count": 20,
   "metadata": {},
   "outputs": [
    {
     "data": {
      "application/vnd.jupyter.widget-view+json": {
       "model_id": "fcf4aecedc6f46bcb779297b17938a7a",
       "version_major": 2,
       "version_minor": 0
      },
      "text/plain": [
       "Canvas(toolbar=Toolbar(toolitems=[('Home', 'Reset original view', 'home', 'home'), ('Back', 'Back to previous …"
      ]
     },
     "metadata": {},
     "output_type": "display_data"
    }
   ],
   "source": [
    "fig1, ax1 = plt.subplots(5,5,figsize=(17,12))\n",
    "\n",
    "for j in range(len(cuts_truth)):\n",
    "    for i, var in enumerate(evo_distros3):\n",
    "        \n",
    "        hist1D(ax1[j][i], MC_df, var, cuts=(ft.reduce(lambda x, y: x & y, cuts_truth[:j+1])))\n",
    "\n",
    "for k in range(len(cuts_truth)):\n",
    "    ax1[k][0].set_ylabel(cut_label[k])\n",
    "\n",
    "plt.tight_layout()"
   ]
  },
  {
   "cell_type": "code",
   "execution_count": null,
   "metadata": {},
   "outputs": [],
   "source": []
  }
 ],
 "metadata": {
  "kernelspec": {
   "display_name": "pi0-ana",
   "language": "python",
   "name": "pi0-ana"
  },
  "language_info": {
   "codemirror_mode": {
    "name": "ipython",
    "version": 3
   },
   "file_extension": ".py",
   "mimetype": "text/x-python",
   "name": "python",
   "nbconvert_exporter": "python",
   "pygments_lexer": "ipython3",
   "version": "3.7.9"
  },
  "widgets": {
   "application/vnd.jupyter.widget-state+json": {
    "state": {
     "006052dcdc0d40ada4480e933002abd0": {
      "model_module": "jupyter-matplotlib",
      "model_module_version": "^0.7.4",
      "model_name": "ToolbarModel",
      "state": {
       "layout": "IPY_MODEL_df6723246e45499f94edba0ccce3c8de",
       "toolitems": [
        [
         "Home",
         "Reset original view",
         "home",
         "home"
        ],
        [
         "Back",
         "Back to previous view",
         "arrow-left",
         "back"
        ],
        [
         "Forward",
         "Forward to next view",
         "arrow-right",
         "forward"
        ],
        [
         "Pan",
         "Left button pans, Right button zooms\nx/y fixes axis, CTRL fixes aspect",
         "arrows",
         "pan"
        ],
        [
         "Zoom",
         "Zoom to rectangle\nx/y fixes axis, CTRL fixes aspect",
         "square-o",
         "zoom"
        ],
        [
         "Download",
         "Download plot",
         "floppy-o",
         "save_figure"
        ]
       ]
      }
     },
     "0269d7173b08429f8f61765904d0f010": {
      "model_module": "@jupyter-widgets/base",
      "model_module_version": "1.2.0",
      "model_name": "LayoutModel",
      "state": {}
     },
     "03ac8ed531a84400ab6bbf370bcd148b": {
      "model_module": "@jupyter-widgets/base",
      "model_module_version": "1.2.0",
      "model_name": "LayoutModel",
      "state": {}
     },
     "0611dacbce12443e91927c8d9a77e726": {
      "model_module": "jupyter-matplotlib",
      "model_module_version": "^0.7.4",
      "model_name": "ToolbarModel",
      "state": {
       "layout": "IPY_MODEL_e131a844f24b4ef8ac1ef5308a129cab",
       "toolitems": [
        [
         "Home",
         "Reset original view",
         "home",
         "home"
        ],
        [
         "Back",
         "Back to previous view",
         "arrow-left",
         "back"
        ],
        [
         "Forward",
         "Forward to next view",
         "arrow-right",
         "forward"
        ],
        [
         "Pan",
         "Left button pans, Right button zooms\nx/y fixes axis, CTRL fixes aspect",
         "arrows",
         "pan"
        ],
        [
         "Zoom",
         "Zoom to rectangle\nx/y fixes axis, CTRL fixes aspect",
         "square-o",
         "zoom"
        ],
        [
         "Download",
         "Download plot",
         "floppy-o",
         "save_figure"
        ]
       ]
      }
     },
     "08413df4ea54481c88e6a966cd3d0b6d": {
      "model_module": "jupyter-matplotlib",
      "model_module_version": "^0.7.4",
      "model_name": "MPLCanvasModel",
      "state": {
       "layout": "IPY_MODEL_ffe4ab16bde94032a62149e894598910",
       "toolbar": "IPY_MODEL_5b52535ed2b543b19b6f6e594e3a4265",
       "toolbar_position": "left"
      }
     },
     "085d25f724b04f0190f03849ed065bf4": {
      "model_module": "jupyter-matplotlib",
      "model_module_version": "^0.7.4",
      "model_name": "ToolbarModel",
      "state": {
       "layout": "IPY_MODEL_377e129229284a6ab3be9837d92bbff0",
       "toolitems": [
        [
         "Home",
         "Reset original view",
         "home",
         "home"
        ],
        [
         "Back",
         "Back to previous view",
         "arrow-left",
         "back"
        ],
        [
         "Forward",
         "Forward to next view",
         "arrow-right",
         "forward"
        ],
        [
         "Pan",
         "Left button pans, Right button zooms\nx/y fixes axis, CTRL fixes aspect",
         "arrows",
         "pan"
        ],
        [
         "Zoom",
         "Zoom to rectangle\nx/y fixes axis, CTRL fixes aspect",
         "square-o",
         "zoom"
        ],
        [
         "Download",
         "Download plot",
         "floppy-o",
         "save_figure"
        ]
       ]
      }
     },
     "0936dfa4f0b1458ebd1457b0f8c6a052": {
      "model_module": "@jupyter-widgets/base",
      "model_module_version": "1.2.0",
      "model_name": "LayoutModel",
      "state": {}
     },
     "09ec8073353249fab41f56d6f01b4b6b": {
      "model_module": "jupyter-matplotlib",
      "model_module_version": "^0.7.4",
      "model_name": "MPLCanvasModel",
      "state": {
       "_cursor": "default",
       "_figure_label": "Figure 43",
       "_height": 900,
       "_message": "x=4.45 y=1.85e+03",
       "_width": 1000,
       "layout": "IPY_MODEL_1ed93b668abf423f8fe1d0ca93ab7ace",
       "toolbar": "IPY_MODEL_4c2897a8dcf14165bd5a68de099403ba",
       "toolbar_position": "left"
      }
     },
     "0c3af3472a184161a18aaf67178397c5": {
      "model_module": "@jupyter-widgets/base",
      "model_module_version": "1.2.0",
      "model_name": "LayoutModel",
      "state": {}
     },
     "0ebd6981f0614b5daf735ac1ff26803d": {
      "model_module": "@jupyter-widgets/base",
      "model_module_version": "1.2.0",
      "model_name": "LayoutModel",
      "state": {}
     },
     "0f75af6e79104ddca523a8b2a18a087c": {
      "model_module": "@jupyter-widgets/base",
      "model_module_version": "1.2.0",
      "model_name": "LayoutModel",
      "state": {}
     },
     "10de9b606f2849778c9af703d23ff7d4": {
      "model_module": "jupyter-matplotlib",
      "model_module_version": "^0.7.4",
      "model_name": "ToolbarModel",
      "state": {
       "layout": "IPY_MODEL_aef76c4184ad483491f0301dfbd1c9a3",
       "toolitems": [
        [
         "Home",
         "Reset original view",
         "home",
         "home"
        ],
        [
         "Back",
         "Back to previous view",
         "arrow-left",
         "back"
        ],
        [
         "Forward",
         "Forward to next view",
         "arrow-right",
         "forward"
        ],
        [
         "Pan",
         "Left button pans, Right button zooms\nx/y fixes axis, CTRL fixes aspect",
         "arrows",
         "pan"
        ],
        [
         "Zoom",
         "Zoom to rectangle\nx/y fixes axis, CTRL fixes aspect",
         "square-o",
         "zoom"
        ],
        [
         "Download",
         "Download plot",
         "floppy-o",
         "save_figure"
        ]
       ]
      }
     },
     "125f418f1e4c4ff3be08677017a9a454": {
      "model_module": "jupyter-matplotlib",
      "model_module_version": "^0.7.4",
      "model_name": "MPLCanvasModel",
      "state": {
       "_cursor": "default",
       "_figure_label": "Figure 37",
       "_height": 2000,
       "_image_mode": "diff",
       "_message": "x=0.1512 y=26.2",
       "_width": 1000,
       "layout": "IPY_MODEL_b7fb45fe6263418ca49ffea569856416",
       "toolbar": "IPY_MODEL_085d25f724b04f0190f03849ed065bf4",
       "toolbar_position": "left"
      }
     },
     "18c2b4952caa4fb2a0d3d51d16668c66": {
      "model_module": "@jupyter-widgets/base",
      "model_module_version": "1.2.0",
      "model_name": "LayoutModel",
      "state": {}
     },
     "18ffd7b821e6486da45e1f6043edec66": {
      "model_module": "@jupyter-widgets/base",
      "model_module_version": "1.2.0",
      "model_name": "LayoutModel",
      "state": {}
     },
     "19bd31dd45414101a58cb73ffda72556": {
      "model_module": "jupyter-matplotlib",
      "model_module_version": "^0.7.4",
      "model_name": "MPLCanvasModel",
      "state": {
       "_cursor": "default",
       "_figure_label": "Figure 20",
       "_height": 1000,
       "_message": "x=0.0531 y=2.47e+03",
       "_width": 1000,
       "layout": "IPY_MODEL_55ab1658be554b3bbaa7c33118e3f2b6",
       "toolbar": "IPY_MODEL_006052dcdc0d40ada4480e933002abd0",
       "toolbar_position": "left"
      }
     },
     "1db1d1b8669f4136b9d106b712ee18a9": {
      "model_module": "@jupyter-widgets/base",
      "model_module_version": "1.2.0",
      "model_name": "LayoutModel",
      "state": {}
     },
     "1ddb1fc2c8394c9184c8ad527ad1afcf": {
      "model_module": "@jupyter-widgets/base",
      "model_module_version": "1.2.0",
      "model_name": "LayoutModel",
      "state": {}
     },
     "1e8e0a6e664d4ccd84f0f233495fba01": {
      "model_module": "jupyter-matplotlib",
      "model_module_version": "^0.7.4",
      "model_name": "MPLCanvasModel",
      "state": {
       "_cursor": "default",
       "_figure_label": "Figure 28",
       "_height": 900,
       "_width": 1000,
       "layout": "IPY_MODEL_28deab29601046bb848a137a0e0d0872",
       "toolbar": "IPY_MODEL_9fc75034885144969005ba73d56ea61c",
       "toolbar_position": "left"
      }
     },
     "1ed93b668abf423f8fe1d0ca93ab7ace": {
      "model_module": "@jupyter-widgets/base",
      "model_module_version": "1.2.0",
      "model_name": "LayoutModel",
      "state": {}
     },
     "1edb6e94980e49ffb9480ebd2eb53562": {
      "model_module": "jupyter-matplotlib",
      "model_module_version": "^0.7.4",
      "model_name": "MPLCanvasModel",
      "state": {
       "_cursor": "default",
       "_figure_label": "Figure 36",
       "_height": 2000,
       "_image_mode": "diff",
       "_message": "x=50.1 y=0.553",
       "_width": 1000,
       "layout": "IPY_MODEL_648d372835a44cb5a8b8e2d8680e9c7b",
       "toolbar": "IPY_MODEL_b5854be1d94a43a1addd954f3151562e",
       "toolbar_position": "left"
      }
     },
     "1ee4913108874a378c54eb36fadf4fcf": {
      "model_module": "@jupyter-widgets/base",
      "model_module_version": "1.2.0",
      "model_name": "LayoutModel",
      "state": {}
     },
     "2173ba4ee1af49208b057affe29c17ff": {
      "model_module": "jupyter-matplotlib",
      "model_module_version": "^0.7.4",
      "model_name": "ToolbarModel",
      "state": {
       "layout": "IPY_MODEL_c0f16bba47c542f2ac2ba86ef9d18acc",
       "toolitems": [
        [
         "Home",
         "Reset original view",
         "home",
         "home"
        ],
        [
         "Back",
         "Back to previous view",
         "arrow-left",
         "back"
        ],
        [
         "Forward",
         "Forward to next view",
         "arrow-right",
         "forward"
        ],
        [
         "Pan",
         "Left button pans, Right button zooms\nx/y fixes axis, CTRL fixes aspect",
         "arrows",
         "pan"
        ],
        [
         "Zoom",
         "Zoom to rectangle\nx/y fixes axis, CTRL fixes aspect",
         "square-o",
         "zoom"
        ],
        [
         "Download",
         "Download plot",
         "floppy-o",
         "save_figure"
        ]
       ]
      }
     },
     "240412cfbe044b0c9d9b05711af38a60": {
      "model_module": "jupyter-matplotlib",
      "model_module_version": "^0.7.4",
      "model_name": "ToolbarModel",
      "state": {
       "layout": "IPY_MODEL_b60929136e704c268d805eae4faa5ae8",
       "toolitems": [
        [
         "Home",
         "Reset original view",
         "home",
         "home"
        ],
        [
         "Back",
         "Back to previous view",
         "arrow-left",
         "back"
        ],
        [
         "Forward",
         "Forward to next view",
         "arrow-right",
         "forward"
        ],
        [
         "Pan",
         "Left button pans, Right button zooms\nx/y fixes axis, CTRL fixes aspect",
         "arrows",
         "pan"
        ],
        [
         "Zoom",
         "Zoom to rectangle\nx/y fixes axis, CTRL fixes aspect",
         "square-o",
         "zoom"
        ],
        [
         "Download",
         "Download plot",
         "floppy-o",
         "save_figure"
        ]
       ]
      }
     },
     "246d5d27bbfa48d587b5429d01b60776": {
      "model_module": "@jupyter-widgets/base",
      "model_module_version": "1.2.0",
      "model_name": "LayoutModel",
      "state": {}
     },
     "268ab4e0ca32418782026d88399a0437": {
      "model_module": "jupyter-matplotlib",
      "model_module_version": "^0.7.4",
      "model_name": "ToolbarModel",
      "state": {
       "layout": "IPY_MODEL_341352344cac48e6b095b1bb5c367c19",
       "toolitems": [
        [
         "Home",
         "Reset original view",
         "home",
         "home"
        ],
        [
         "Back",
         "Back to previous view",
         "arrow-left",
         "back"
        ],
        [
         "Forward",
         "Forward to next view",
         "arrow-right",
         "forward"
        ],
        [
         "Pan",
         "Left button pans, Right button zooms\nx/y fixes axis, CTRL fixes aspect",
         "arrows",
         "pan"
        ],
        [
         "Zoom",
         "Zoom to rectangle\nx/y fixes axis, CTRL fixes aspect",
         "square-o",
         "zoom"
        ],
        [
         "Download",
         "Download plot",
         "floppy-o",
         "save_figure"
        ]
       ]
      }
     },
     "2747e1ce3d92468fbf2fa1a279115148": {
      "model_module": "@jupyter-widgets/base",
      "model_module_version": "1.2.0",
      "model_name": "LayoutModel",
      "state": {}
     },
     "284c593503a24a85aecb43ec9cbcafa2": {
      "model_module": "jupyter-matplotlib",
      "model_module_version": "^0.7.4",
      "model_name": "ToolbarModel",
      "state": {
       "layout": "IPY_MODEL_6b47541f57d1430b82dec480b4effdac",
       "toolitems": [
        [
         "Home",
         "Reset original view",
         "home",
         "home"
        ],
        [
         "Back",
         "Back to previous view",
         "arrow-left",
         "back"
        ],
        [
         "Forward",
         "Forward to next view",
         "arrow-right",
         "forward"
        ],
        [
         "Pan",
         "Left button pans, Right button zooms\nx/y fixes axis, CTRL fixes aspect",
         "arrows",
         "pan"
        ],
        [
         "Zoom",
         "Zoom to rectangle\nx/y fixes axis, CTRL fixes aspect",
         "square-o",
         "zoom"
        ],
        [
         "Download",
         "Download plot",
         "floppy-o",
         "save_figure"
        ]
       ]
      }
     },
     "2892e32a405e456886f3277e09fe44b3": {
      "model_module": "@jupyter-widgets/base",
      "model_module_version": "1.2.0",
      "model_name": "LayoutModel",
      "state": {}
     },
     "28deab29601046bb848a137a0e0d0872": {
      "model_module": "@jupyter-widgets/base",
      "model_module_version": "1.2.0",
      "model_name": "LayoutModel",
      "state": {}
     },
     "2c9bf1ffd9664a9aa21cd14bddeb4842": {
      "model_module": "jupyter-matplotlib",
      "model_module_version": "^0.7.4",
      "model_name": "MPLCanvasModel",
      "state": {
       "_cursor": "default",
       "_figure_label": "Figure 46",
       "_height": 2000,
       "_message": "x=41.6 y=0.0524",
       "_width": 1000,
       "layout": "IPY_MODEL_5a9dd89891f4435ea16fb5c8512c4c27",
       "toolbar": "IPY_MODEL_268ab4e0ca32418782026d88399a0437",
       "toolbar_position": "left"
      }
     },
     "2cb094db8da8462b941d73776e8c43e3": {
      "model_module": "jupyter-matplotlib",
      "model_module_version": "^0.7.4",
      "model_name": "ToolbarModel",
      "state": {
       "layout": "IPY_MODEL_94228286221a4eae91f3d9e1d2aca014",
       "toolitems": [
        [
         "Home",
         "Reset original view",
         "home",
         "home"
        ],
        [
         "Back",
         "Back to previous view",
         "arrow-left",
         "back"
        ],
        [
         "Forward",
         "Forward to next view",
         "arrow-right",
         "forward"
        ],
        [
         "Pan",
         "Left button pans, Right button zooms\nx/y fixes axis, CTRL fixes aspect",
         "arrows",
         "pan"
        ],
        [
         "Zoom",
         "Zoom to rectangle\nx/y fixes axis, CTRL fixes aspect",
         "square-o",
         "zoom"
        ],
        [
         "Download",
         "Download plot",
         "floppy-o",
         "save_figure"
        ]
       ]
      }
     },
     "2e625a166f3c4594a75b329502bd40ce": {
      "model_module": "@jupyter-widgets/base",
      "model_module_version": "1.2.0",
      "model_name": "LayoutModel",
      "state": {}
     },
     "303d4c4fb35a4df3aaf467082db8d51b": {
      "model_module": "@jupyter-widgets/base",
      "model_module_version": "1.2.0",
      "model_name": "LayoutModel",
      "state": {}
     },
     "31070a626f2c4a998fed9923896954c1": {
      "model_module": "@jupyter-widgets/base",
      "model_module_version": "1.2.0",
      "model_name": "LayoutModel",
      "state": {}
     },
     "32ff400eae5344b5acf5cd69c3dc12f8": {
      "model_module": "jupyter-matplotlib",
      "model_module_version": "^0.7.4",
      "model_name": "ToolbarModel",
      "state": {
       "layout": "IPY_MODEL_2e625a166f3c4594a75b329502bd40ce",
       "toolitems": [
        [
         "Home",
         "Reset original view",
         "home",
         "home"
        ],
        [
         "Back",
         "Back to previous view",
         "arrow-left",
         "back"
        ],
        [
         "Forward",
         "Forward to next view",
         "arrow-right",
         "forward"
        ],
        [
         "Pan",
         "Left button pans, Right button zooms\nx/y fixes axis, CTRL fixes aspect",
         "arrows",
         "pan"
        ],
        [
         "Zoom",
         "Zoom to rectangle\nx/y fixes axis, CTRL fixes aspect",
         "square-o",
         "zoom"
        ],
        [
         "Download",
         "Download plot",
         "floppy-o",
         "save_figure"
        ]
       ]
      }
     },
     "332cbb68aa79428596106308e02fcb4e": {
      "model_module": "jupyter-matplotlib",
      "model_module_version": "^0.7.4",
      "model_name": "ToolbarModel",
      "state": {
       "layout": "IPY_MODEL_55d6d639bcb846f4ab6894a76ebb28af",
       "toolitems": [
        [
         "Home",
         "Reset original view",
         "home",
         "home"
        ],
        [
         "Back",
         "Back to previous view",
         "arrow-left",
         "back"
        ],
        [
         "Forward",
         "Forward to next view",
         "arrow-right",
         "forward"
        ],
        [
         "Pan",
         "Left button pans, Right button zooms\nx/y fixes axis, CTRL fixes aspect",
         "arrows",
         "pan"
        ],
        [
         "Zoom",
         "Zoom to rectangle\nx/y fixes axis, CTRL fixes aspect",
         "square-o",
         "zoom"
        ],
        [
         "Download",
         "Download plot",
         "floppy-o",
         "save_figure"
        ]
       ]
      }
     },
     "341352344cac48e6b095b1bb5c367c19": {
      "model_module": "@jupyter-widgets/base",
      "model_module_version": "1.2.0",
      "model_name": "LayoutModel",
      "state": {}
     },
     "36444f63647f4383855a94664f1200c4": {
      "model_module": "jupyter-matplotlib",
      "model_module_version": "^0.7.4",
      "model_name": "MPLCanvasModel",
      "state": {
       "_cursor": "default",
       "_figure_label": "Figure 7",
       "_height": 2000,
       "_width": 1000,
       "layout": "IPY_MODEL_5191f3ff7f1d4081a53d11a3152580b1",
       "toolbar": "IPY_MODEL_72c7360bad2941859024260492e30d9d",
       "toolbar_position": "left"
      }
     },
     "374d8df3600e4a07b261417fbd3a6fd9": {
      "model_module": "@jupyter-widgets/base",
      "model_module_version": "1.2.0",
      "model_name": "LayoutModel",
      "state": {}
     },
     "377e129229284a6ab3be9837d92bbff0": {
      "model_module": "@jupyter-widgets/base",
      "model_module_version": "1.2.0",
      "model_name": "LayoutModel",
      "state": {}
     },
     "38a65dd787fd4b008501efdbfb8449e3": {
      "model_module": "@jupyter-widgets/base",
      "model_module_version": "1.2.0",
      "model_name": "LayoutModel",
      "state": {}
     },
     "38a7eae7c8eb41d8862571331f8cf9ec": {
      "model_module": "@jupyter-widgets/base",
      "model_module_version": "1.2.0",
      "model_name": "LayoutModel",
      "state": {}
     },
     "3a68a3ce0f0d405f88b85eb8452d5d51": {
      "model_module": "@jupyter-widgets/base",
      "model_module_version": "1.2.0",
      "model_name": "LayoutModel",
      "state": {}
     },
     "3e5e72c3d9fa45e7a98b1d544696a0c3": {
      "model_module": "jupyter-matplotlib",
      "model_module_version": "^0.7.4",
      "model_name": "MPLCanvasModel",
      "state": {
       "_cursor": "default",
       "_figure_label": "Figure 8",
       "_height": 2000,
       "_message": "x=0.1722 y=1.38e+05",
       "_width": 1000,
       "layout": "IPY_MODEL_9606d7320cad4783853c6db945bfd28a",
       "toolbar": "IPY_MODEL_7727ebe29824418bba4a2a0cea3e4f7e",
       "toolbar_position": "left"
      }
     },
     "4452acda7f0749e98eea4c282bf4e6a1": {
      "model_module": "jupyter-matplotlib",
      "model_module_version": "^0.7.4",
      "model_name": "MPLCanvasModel",
      "state": {
       "layout": "IPY_MODEL_499a78e7aa774dc3b227654d164ac05a",
       "toolbar": "IPY_MODEL_ac40d65ef8454905bf7f8d8dd9f90cce",
       "toolbar_position": "left"
      }
     },
     "4884c170463c46a79d3f2e69246f7840": {
      "model_module": "@jupyter-widgets/base",
      "model_module_version": "1.2.0",
      "model_name": "LayoutModel",
      "state": {}
     },
     "499a78e7aa774dc3b227654d164ac05a": {
      "model_module": "@jupyter-widgets/base",
      "model_module_version": "1.2.0",
      "model_name": "LayoutModel",
      "state": {}
     },
     "4a25bd062a634b428b8087423be5d503": {
      "model_module": "@jupyter-widgets/base",
      "model_module_version": "1.2.0",
      "model_name": "LayoutModel",
      "state": {}
     },
     "4b6a7505df2b4ea8ae899d30a79b12af": {
      "model_module": "jupyter-matplotlib",
      "model_module_version": "^0.7.4",
      "model_name": "MPLCanvasModel",
      "state": {
       "layout": "IPY_MODEL_be471dd85972469baf2b75e487daff3c",
       "toolbar": "IPY_MODEL_de27ba0fbed347819ce22cf36bb869d3",
       "toolbar_position": "left"
      }
     },
     "4bafd9e7107946edb8b2b6bfdc5af3a9": {
      "model_module": "jupyter-matplotlib",
      "model_module_version": "^0.7.4",
      "model_name": "MPLCanvasModel",
      "state": {
       "layout": "IPY_MODEL_fea53dad16e944f7b3c731f542a21490",
       "toolbar": "IPY_MODEL_10de9b606f2849778c9af703d23ff7d4",
       "toolbar_position": "left"
      }
     },
     "4c2897a8dcf14165bd5a68de099403ba": {
      "model_module": "jupyter-matplotlib",
      "model_module_version": "^0.7.4",
      "model_name": "ToolbarModel",
      "state": {
       "layout": "IPY_MODEL_f69ccb1bce954c81a52c8b5f2d527b02",
       "toolitems": [
        [
         "Home",
         "Reset original view",
         "home",
         "home"
        ],
        [
         "Back",
         "Back to previous view",
         "arrow-left",
         "back"
        ],
        [
         "Forward",
         "Forward to next view",
         "arrow-right",
         "forward"
        ],
        [
         "Pan",
         "Left button pans, Right button zooms\nx/y fixes axis, CTRL fixes aspect",
         "arrows",
         "pan"
        ],
        [
         "Zoom",
         "Zoom to rectangle\nx/y fixes axis, CTRL fixes aspect",
         "square-o",
         "zoom"
        ],
        [
         "Download",
         "Download plot",
         "floppy-o",
         "save_figure"
        ]
       ]
      }
     },
     "51717ce0f42540e4b448dbe7be43ba0c": {
      "model_module": "jupyter-matplotlib",
      "model_module_version": "^0.7.4",
      "model_name": "ToolbarModel",
      "state": {
       "layout": "IPY_MODEL_b7a62700976248bf9d1fb99b56078b59",
       "toolitems": [
        [
         "Home",
         "Reset original view",
         "home",
         "home"
        ],
        [
         "Back",
         "Back to previous view",
         "arrow-left",
         "back"
        ],
        [
         "Forward",
         "Forward to next view",
         "arrow-right",
         "forward"
        ],
        [
         "Pan",
         "Left button pans, Right button zooms\nx/y fixes axis, CTRL fixes aspect",
         "arrows",
         "pan"
        ],
        [
         "Zoom",
         "Zoom to rectangle\nx/y fixes axis, CTRL fixes aspect",
         "square-o",
         "zoom"
        ],
        [
         "Download",
         "Download plot",
         "floppy-o",
         "save_figure"
        ]
       ]
      }
     },
     "5191f3ff7f1d4081a53d11a3152580b1": {
      "model_module": "@jupyter-widgets/base",
      "model_module_version": "1.2.0",
      "model_name": "LayoutModel",
      "state": {}
     },
     "55ab1658be554b3bbaa7c33118e3f2b6": {
      "model_module": "@jupyter-widgets/base",
      "model_module_version": "1.2.0",
      "model_name": "LayoutModel",
      "state": {}
     },
     "55d6d639bcb846f4ab6894a76ebb28af": {
      "model_module": "@jupyter-widgets/base",
      "model_module_version": "1.2.0",
      "model_name": "LayoutModel",
      "state": {}
     },
     "57e02f34c4aa41689939295729a56c84": {
      "model_module": "jupyter-matplotlib",
      "model_module_version": "^0.7.4",
      "model_name": "ToolbarModel",
      "state": {
       "layout": "IPY_MODEL_18ffd7b821e6486da45e1f6043edec66",
       "toolitems": [
        [
         "Home",
         "Reset original view",
         "home",
         "home"
        ],
        [
         "Back",
         "Back to previous view",
         "arrow-left",
         "back"
        ],
        [
         "Forward",
         "Forward to next view",
         "arrow-right",
         "forward"
        ],
        [
         "Pan",
         "Left button pans, Right button zooms\nx/y fixes axis, CTRL fixes aspect",
         "arrows",
         "pan"
        ],
        [
         "Zoom",
         "Zoom to rectangle\nx/y fixes axis, CTRL fixes aspect",
         "square-o",
         "zoom"
        ],
        [
         "Download",
         "Download plot",
         "floppy-o",
         "save_figure"
        ]
       ]
      }
     },
     "580004acbb8c4f7aa5e851bf9cc45f7a": {
      "model_module": "@jupyter-widgets/base",
      "model_module_version": "1.2.0",
      "model_name": "LayoutModel",
      "state": {}
     },
     "587ca4e696754438aa44b8bd2365ebba": {
      "model_module": "jupyter-matplotlib",
      "model_module_version": "^0.7.4",
      "model_name": "MPLCanvasModel",
      "state": {
       "_cursor": "default",
       "_figure_label": "Figure 31",
       "_height": 2000,
       "_image_mode": "diff",
       "_width": 1000,
       "layout": "IPY_MODEL_c681506dca9e4d7aa6c5926f64212e1e",
       "toolbar": "IPY_MODEL_c45d8311c676409bb0a25d7f70ea7046",
       "toolbar_position": "left"
      }
     },
     "599e03d70c484527baa885b18e13a646": {
      "model_module": "jupyter-matplotlib",
      "model_module_version": "^0.7.4",
      "model_name": "MPLCanvasModel",
      "state": {
       "_cursor": "default",
       "_figure_label": "Figure 19",
       "_height": 700,
       "_message": "x=0.1762 y=1.497e+05",
       "_width": 1000,
       "layout": "IPY_MODEL_a50c80073bf440ab99b1ea02a7e7f22b",
       "toolbar": "IPY_MODEL_2173ba4ee1af49208b057affe29c17ff",
       "toolbar_position": "left"
      }
     },
     "5a9dd89891f4435ea16fb5c8512c4c27": {
      "model_module": "@jupyter-widgets/base",
      "model_module_version": "1.2.0",
      "model_name": "LayoutModel",
      "state": {}
     },
     "5aadd8d6b307485e8a2c616b65154f2c": {
      "model_module": "jupyter-matplotlib",
      "model_module_version": "^0.7.4",
      "model_name": "MPLCanvasModel",
      "state": {
       "_cursor": "default",
       "_figure_label": "Figure 5",
       "_height": 2000,
       "_width": 1000,
       "layout": "IPY_MODEL_97c70dff9898410db8616f3af1b8dc97",
       "toolbar": "IPY_MODEL_0611dacbce12443e91927c8d9a77e726",
       "toolbar_position": "left"
      }
     },
     "5b52535ed2b543b19b6f6e594e3a4265": {
      "model_module": "jupyter-matplotlib",
      "model_module_version": "^0.7.4",
      "model_name": "ToolbarModel",
      "state": {
       "layout": "IPY_MODEL_e9972f448d5d426d90eea2f9c971ee65",
       "toolitems": [
        [
         "Home",
         "Reset original view",
         "home",
         "home"
        ],
        [
         "Back",
         "Back to previous view",
         "arrow-left",
         "back"
        ],
        [
         "Forward",
         "Forward to next view",
         "arrow-right",
         "forward"
        ],
        [
         "Pan",
         "Left button pans, Right button zooms\nx/y fixes axis, CTRL fixes aspect",
         "arrows",
         "pan"
        ],
        [
         "Zoom",
         "Zoom to rectangle\nx/y fixes axis, CTRL fixes aspect",
         "square-o",
         "zoom"
        ],
        [
         "Download",
         "Download plot",
         "floppy-o",
         "save_figure"
        ]
       ]
      }
     },
     "5ba26af7ad5c41ce829958ca93f55d7c": {
      "model_module": "@jupyter-widgets/base",
      "model_module_version": "1.2.0",
      "model_name": "LayoutModel",
      "state": {}
     },
     "5c0f68790b0742928a76e7e0e614dcf3": {
      "model_module": "@jupyter-widgets/base",
      "model_module_version": "1.2.0",
      "model_name": "LayoutModel",
      "state": {}
     },
     "5cfe058c722c47ccb499163ca5688e52": {
      "model_module": "jupyter-matplotlib",
      "model_module_version": "^0.7.4",
      "model_name": "MPLCanvasModel",
      "state": {
       "_cursor": "default",
       "_figure_label": "Figure 44",
       "_height": 2000,
       "_message": "x=0.1532 y=18.4",
       "_width": 1000,
       "layout": "IPY_MODEL_c70c8c0b5bbc4c2ab9c796aa5e3ebe03",
       "toolbar": "IPY_MODEL_c379bc30fff949b083cbf521ed1c4b23",
       "toolbar_position": "left"
      }
     },
     "60dfb346aa7e42dd9d54fd9fb5941321": {
      "model_module": "@jupyter-widgets/base",
      "model_module_version": "1.2.0",
      "model_name": "LayoutModel",
      "state": {}
     },
     "62caea1fb3794688836626012a267df5": {
      "model_module": "jupyter-matplotlib",
      "model_module_version": "^0.7.4",
      "model_name": "ToolbarModel",
      "state": {
       "layout": "IPY_MODEL_03ac8ed531a84400ab6bbf370bcd148b",
       "toolitems": [
        [
         "Home",
         "Reset original view",
         "home",
         "home"
        ],
        [
         "Back",
         "Back to previous view",
         "arrow-left",
         "back"
        ],
        [
         "Forward",
         "Forward to next view",
         "arrow-right",
         "forward"
        ],
        [
         "Pan",
         "Left button pans, Right button zooms\nx/y fixes axis, CTRL fixes aspect",
         "arrows",
         "pan"
        ],
        [
         "Zoom",
         "Zoom to rectangle\nx/y fixes axis, CTRL fixes aspect",
         "square-o",
         "zoom"
        ],
        [
         "Download",
         "Download plot",
         "floppy-o",
         "save_figure"
        ]
       ]
      }
     },
     "648d372835a44cb5a8b8e2d8680e9c7b": {
      "model_module": "@jupyter-widgets/base",
      "model_module_version": "1.2.0",
      "model_name": "LayoutModel",
      "state": {}
     },
     "64a54181492d41f7945b1615476a8660": {
      "model_module": "@jupyter-widgets/base",
      "model_module_version": "1.2.0",
      "model_name": "LayoutModel",
      "state": {}
     },
     "65f25ca7b3324432bb8f05eb17844731": {
      "model_module": "jupyter-matplotlib",
      "model_module_version": "^0.7.4",
      "model_name": "MPLCanvasModel",
      "state": {
       "_cursor": "default",
       "_figure_label": "Figure 21",
       "_height": 900,
       "_message": "x=0.0053 y=7.13e+03",
       "_width": 1000,
       "layout": "IPY_MODEL_0c3af3472a184161a18aaf67178397c5",
       "toolbar": "IPY_MODEL_d3a45a993d934b2e9b2f1ae33fb06561",
       "toolbar_position": "left"
      }
     },
     "671db037c03348c487bb6295aec959ca": {
      "model_module": "jupyter-matplotlib",
      "model_module_version": "^0.7.4",
      "model_name": "MPLCanvasModel",
      "state": {
       "_cursor": "default",
       "_figure_label": "Figure 18",
       "_height": 2000,
       "_message": "x=0.1820 y=6.60e+04",
       "_width": 1000,
       "layout": "IPY_MODEL_aee733fac17e44a088345f121c4f1bd8",
       "toolbar": "IPY_MODEL_be23b537633048b08e16439f8145f3d1",
       "toolbar_position": "left"
      }
     },
     "6b47541f57d1430b82dec480b4effdac": {
      "model_module": "@jupyter-widgets/base",
      "model_module_version": "1.2.0",
      "model_name": "LayoutModel",
      "state": {}
     },
     "6cd70df39cf040239395c27d52500cc2": {
      "model_module": "jupyter-matplotlib",
      "model_module_version": "^0.7.4",
      "model_name": "ToolbarModel",
      "state": {
       "layout": "IPY_MODEL_84a34512df604d55b14c692f572e6b16",
       "toolitems": [
        [
         "Home",
         "Reset original view",
         "home",
         "home"
        ],
        [
         "Back",
         "Back to previous view",
         "arrow-left",
         "back"
        ],
        [
         "Forward",
         "Forward to next view",
         "arrow-right",
         "forward"
        ],
        [
         "Pan",
         "Left button pans, Right button zooms\nx/y fixes axis, CTRL fixes aspect",
         "arrows",
         "pan"
        ],
        [
         "Zoom",
         "Zoom to rectangle\nx/y fixes axis, CTRL fixes aspect",
         "square-o",
         "zoom"
        ],
        [
         "Download",
         "Download plot",
         "floppy-o",
         "save_figure"
        ]
       ]
      }
     },
     "6dbb5fa95c994e789de365a3001b2954": {
      "model_module": "jupyter-matplotlib",
      "model_module_version": "^0.7.4",
      "model_name": "MPLCanvasModel",
      "state": {
       "_cursor": "default",
       "_figure_label": "Figure 11",
       "_height": 2000,
       "_message": "x=0.0017 y=63.",
       "_width": 1000,
       "layout": "IPY_MODEL_246d5d27bbfa48d587b5429d01b60776",
       "toolbar": "IPY_MODEL_d360326c9bf04c8e96402024b2a378b9",
       "toolbar_position": "left"
      }
     },
     "6e6729052a4d4a8594cc07611c9c8827": {
      "model_module": "@jupyter-widgets/base",
      "model_module_version": "1.2.0",
      "model_name": "LayoutModel",
      "state": {}
     },
     "6ec2b85b393349ac8d1c1fd3f56230c3": {
      "model_module": "jupyter-matplotlib",
      "model_module_version": "^0.7.4",
      "model_name": "ToolbarModel",
      "state": {
       "layout": "IPY_MODEL_eacde30ae7e7499e953fdec13945ce92",
       "toolitems": [
        [
         "Home",
         "Reset original view",
         "home",
         "home"
        ],
        [
         "Back",
         "Back to previous view",
         "arrow-left",
         "back"
        ],
        [
         "Forward",
         "Forward to next view",
         "arrow-right",
         "forward"
        ],
        [
         "Pan",
         "Left button pans, Right button zooms\nx/y fixes axis, CTRL fixes aspect",
         "arrows",
         "pan"
        ],
        [
         "Zoom",
         "Zoom to rectangle\nx/y fixes axis, CTRL fixes aspect",
         "square-o",
         "zoom"
        ],
        [
         "Download",
         "Download plot",
         "floppy-o",
         "save_figure"
        ]
       ]
      }
     },
     "6fd378169e5840b8bc726c5dcc9faffe": {
      "model_module": "@jupyter-widgets/base",
      "model_module_version": "1.2.0",
      "model_name": "LayoutModel",
      "state": {}
     },
     "6ff05f74b00a49d8bfb9565fc55587e1": {
      "model_module": "jupyter-matplotlib",
      "model_module_version": "^0.7.4",
      "model_name": "MPLCanvasModel",
      "state": {
       "_cursor": "default",
       "_figure_label": "Figure 48",
       "_height": 900,
       "_width": 1000,
       "layout": "IPY_MODEL_18c2b4952caa4fb2a0d3d51d16668c66",
       "toolbar": "IPY_MODEL_84a00f43a29d45b4aa9f32ba2a557ae0",
       "toolbar_position": "left"
      }
     },
     "7031c91aa79a4999ad019140cfdbc1f2": {
      "model_module": "jupyter-matplotlib",
      "model_module_version": "^0.7.4",
      "model_name": "MPLCanvasModel",
      "state": {
       "layout": "IPY_MODEL_d03b13e0086849968c03f9a3bacc689e",
       "toolbar": "IPY_MODEL_2cb094db8da8462b941d73776e8c43e3",
       "toolbar_position": "left"
      }
     },
     "72c7360bad2941859024260492e30d9d": {
      "model_module": "jupyter-matplotlib",
      "model_module_version": "^0.7.4",
      "model_name": "ToolbarModel",
      "state": {
       "layout": "IPY_MODEL_0269d7173b08429f8f61765904d0f010",
       "toolitems": [
        [
         "Home",
         "Reset original view",
         "home",
         "home"
        ],
        [
         "Back",
         "Back to previous view",
         "arrow-left",
         "back"
        ],
        [
         "Forward",
         "Forward to next view",
         "arrow-right",
         "forward"
        ],
        [
         "Pan",
         "Left button pans, Right button zooms\nx/y fixes axis, CTRL fixes aspect",
         "arrows",
         "pan"
        ],
        [
         "Zoom",
         "Zoom to rectangle\nx/y fixes axis, CTRL fixes aspect",
         "square-o",
         "zoom"
        ],
        [
         "Download",
         "Download plot",
         "floppy-o",
         "save_figure"
        ]
       ]
      }
     },
     "7438a41884a64d71868e1d850a0bc949": {
      "model_module": "@jupyter-widgets/base",
      "model_module_version": "1.2.0",
      "model_name": "LayoutModel",
      "state": {}
     },
     "74abb3d602b04e73bc56425f46c10da7": {
      "model_module": "@jupyter-widgets/base",
      "model_module_version": "1.2.0",
      "model_name": "LayoutModel",
      "state": {}
     },
     "7635104da3954bae9f4780afb7c8dc53": {
      "model_module": "@jupyter-widgets/base",
      "model_module_version": "1.2.0",
      "model_name": "LayoutModel",
      "state": {}
     },
     "7727ebe29824418bba4a2a0cea3e4f7e": {
      "model_module": "jupyter-matplotlib",
      "model_module_version": "^0.7.4",
      "model_name": "ToolbarModel",
      "state": {
       "layout": "IPY_MODEL_dd6369d5f6be4523a8469de646b1f476",
       "toolitems": [
        [
         "Home",
         "Reset original view",
         "home",
         "home"
        ],
        [
         "Back",
         "Back to previous view",
         "arrow-left",
         "back"
        ],
        [
         "Forward",
         "Forward to next view",
         "arrow-right",
         "forward"
        ],
        [
         "Pan",
         "Left button pans, Right button zooms\nx/y fixes axis, CTRL fixes aspect",
         "arrows",
         "pan"
        ],
        [
         "Zoom",
         "Zoom to rectangle\nx/y fixes axis, CTRL fixes aspect",
         "square-o",
         "zoom"
        ],
        [
         "Download",
         "Download plot",
         "floppy-o",
         "save_figure"
        ]
       ]
      }
     },
     "7c578c5c833540c0abb281647a5304c8": {
      "model_module": "@jupyter-widgets/base",
      "model_module_version": "1.2.0",
      "model_name": "LayoutModel",
      "state": {}
     },
     "7d4e9bbfdf7f4778b61e1cfca407474a": {
      "model_module": "@jupyter-widgets/base",
      "model_module_version": "1.2.0",
      "model_name": "LayoutModel",
      "state": {}
     },
     "7f4a82179c9c4585b7669d790d6ea9ab": {
      "model_module": "@jupyter-widgets/base",
      "model_module_version": "1.2.0",
      "model_name": "LayoutModel",
      "state": {}
     },
     "808cca3786484f3bbe3d78d1f232e856": {
      "model_module": "jupyter-matplotlib",
      "model_module_version": "^0.7.4",
      "model_name": "MPLCanvasModel",
      "state": {
       "_cursor": "default",
       "_figure_label": "Figure 47",
       "_height": 2000,
       "_message": "x=7.4 y=1.76e+03",
       "_width": 1200,
       "layout": "IPY_MODEL_7438a41884a64d71868e1d850a0bc949",
       "toolbar": "IPY_MODEL_eb89add6834e4e7680686337615be6af",
       "toolbar_position": "left"
      }
     },
     "81346f72344945d7a8e65d16a576ac48": {
      "model_module": "jupyter-matplotlib",
      "model_module_version": "^0.7.4",
      "model_name": "MPLCanvasModel",
      "state": {
       "_cursor": "default",
       "_figure_label": "Figure 40",
       "_height": 900,
       "_message": "x=0.865 y=1.80e+04",
       "_width": 1000,
       "layout": "IPY_MODEL_b3c1d6345ab6408db2a941e6f65065fc",
       "toolbar": "IPY_MODEL_6cd70df39cf040239395c27d52500cc2",
       "toolbar_position": "left"
      }
     },
     "81a941cb2a564d56ad84f415d2171ba7": {
      "model_module": "@jupyter-widgets/base",
      "model_module_version": "1.2.0",
      "model_name": "LayoutModel",
      "state": {}
     },
     "8266c896c5c447e68e5bef203f417cc1": {
      "model_module": "@jupyter-widgets/base",
      "model_module_version": "1.2.0",
      "model_name": "LayoutModel",
      "state": {}
     },
     "8344977fb2f34ad3b8c472c6b86d1efa": {
      "model_module": "jupyter-matplotlib",
      "model_module_version": "^0.7.4",
      "model_name": "MPLCanvasModel",
      "state": {
       "_cursor": "default",
       "_figure_label": "Figure 33",
       "_height": 2000,
       "_image_mode": "diff",
       "_width": 1000,
       "layout": "IPY_MODEL_6fd378169e5840b8bc726c5dcc9faffe",
       "toolbar": "IPY_MODEL_51717ce0f42540e4b448dbe7be43ba0c",
       "toolbar_position": "left"
      }
     },
     "84a00f43a29d45b4aa9f32ba2a557ae0": {
      "model_module": "jupyter-matplotlib",
      "model_module_version": "^0.7.4",
      "model_name": "ToolbarModel",
      "state": {
       "layout": "IPY_MODEL_eb4abf16c08f4438a06b55f49487be03",
       "toolitems": [
        [
         "Home",
         "Reset original view",
         "home",
         "home"
        ],
        [
         "Back",
         "Back to previous view",
         "arrow-left",
         "back"
        ],
        [
         "Forward",
         "Forward to next view",
         "arrow-right",
         "forward"
        ],
        [
         "Pan",
         "Left button pans, Right button zooms\nx/y fixes axis, CTRL fixes aspect",
         "arrows",
         "pan"
        ],
        [
         "Zoom",
         "Zoom to rectangle\nx/y fixes axis, CTRL fixes aspect",
         "square-o",
         "zoom"
        ],
        [
         "Download",
         "Download plot",
         "floppy-o",
         "save_figure"
        ]
       ]
      }
     },
     "84a34512df604d55b14c692f572e6b16": {
      "model_module": "@jupyter-widgets/base",
      "model_module_version": "1.2.0",
      "model_name": "LayoutModel",
      "state": {}
     },
     "86d450ed9b984a639eb85f2b3bc9d0bb": {
      "model_module": "jupyter-matplotlib",
      "model_module_version": "^0.7.4",
      "model_name": "MPLCanvasModel",
      "state": {
       "layout": "IPY_MODEL_1ee4913108874a378c54eb36fadf4fcf",
       "toolbar": "IPY_MODEL_57e02f34c4aa41689939295729a56c84",
       "toolbar_position": "left"
      }
     },
     "8b59a2c3fc1f4025a2453496b07672f2": {
      "model_module": "jupyter-matplotlib",
      "model_module_version": "^0.7.4",
      "model_name": "MPLCanvasModel",
      "state": {
       "_cursor": "default",
       "_figure_label": "Figure 22",
       "_height": 900,
       "_message": "x=0.85 y=3.32e+05",
       "_width": 1000,
       "layout": "IPY_MODEL_8266c896c5c447e68e5bef203f417cc1",
       "toolbar": "IPY_MODEL_a9aee24c5ae947d69110353d28c1d9b1",
       "toolbar_position": "left"
      }
     },
     "8c34606cd3a74d10aff99720463bd499": {
      "model_module": "jupyter-matplotlib",
      "model_module_version": "^0.7.4",
      "model_name": "ToolbarModel",
      "state": {
       "layout": "IPY_MODEL_f782c5b5dacb4e55b77b86c62203dda8",
       "toolitems": [
        [
         "Home",
         "Reset original view",
         "home",
         "home"
        ],
        [
         "Back",
         "Back to previous view",
         "arrow-left",
         "back"
        ],
        [
         "Forward",
         "Forward to next view",
         "arrow-right",
         "forward"
        ],
        [
         "Pan",
         "Left button pans, Right button zooms\nx/y fixes axis, CTRL fixes aspect",
         "arrows",
         "pan"
        ],
        [
         "Zoom",
         "Zoom to rectangle\nx/y fixes axis, CTRL fixes aspect",
         "square-o",
         "zoom"
        ],
        [
         "Download",
         "Download plot",
         "floppy-o",
         "save_figure"
        ]
       ]
      }
     },
     "8d3860039b5244b3bc2073a77e6c3356": {
      "model_module": "jupyter-matplotlib",
      "model_module_version": "^0.7.4",
      "model_name": "ToolbarModel",
      "state": {
       "layout": "IPY_MODEL_74abb3d602b04e73bc56425f46c10da7",
       "toolitems": [
        [
         "Home",
         "Reset original view",
         "home",
         "home"
        ],
        [
         "Back",
         "Back to previous view",
         "arrow-left",
         "back"
        ],
        [
         "Forward",
         "Forward to next view",
         "arrow-right",
         "forward"
        ],
        [
         "Pan",
         "Left button pans, Right button zooms\nx/y fixes axis, CTRL fixes aspect",
         "arrows",
         "pan"
        ],
        [
         "Zoom",
         "Zoom to rectangle\nx/y fixes axis, CTRL fixes aspect",
         "square-o",
         "zoom"
        ],
        [
         "Download",
         "Download plot",
         "floppy-o",
         "save_figure"
        ]
       ]
      }
     },
     "8ef7edf212244163923b3d7f0a975144": {
      "model_module": "jupyter-matplotlib",
      "model_module_version": "^0.7.4",
      "model_name": "MPLCanvasModel",
      "state": {
       "_cursor": "default",
       "_figure_label": "Figure 39",
       "_height": 2000,
       "_width": 1200,
       "layout": "IPY_MODEL_0936dfa4f0b1458ebd1457b0f8c6a052",
       "toolbar": "IPY_MODEL_332cbb68aa79428596106308e02fcb4e",
       "toolbar_position": "left"
      }
     },
     "8f5942234488450ea422d9c2a73e6750": {
      "model_module": "jupyter-matplotlib",
      "model_module_version": "^0.7.4",
      "model_name": "MPLCanvasModel",
      "state": {
       "_cursor": "default",
       "_figure_label": "Figure 34",
       "_height": 2000,
       "_width": 1000,
       "layout": "IPY_MODEL_f3b101fbe6fc4e58b41ed5c2515a8777",
       "toolbar": "IPY_MODEL_957d2737cade4f27869d6580f47df76b",
       "toolbar_position": "left"
      }
     },
     "8f60d97cfc1b44898c1480e7370703d6": {
      "model_module": "@jupyter-widgets/base",
      "model_module_version": "1.2.0",
      "model_name": "LayoutModel",
      "state": {}
     },
     "8fd5027e8d854245a5a109db98910c69": {
      "model_module": "jupyter-matplotlib",
      "model_module_version": "^0.7.4",
      "model_name": "ToolbarModel",
      "state": {
       "layout": "IPY_MODEL_0f75af6e79104ddca523a8b2a18a087c",
       "toolitems": [
        [
         "Home",
         "Reset original view",
         "home",
         "home"
        ],
        [
         "Back",
         "Back to previous view",
         "arrow-left",
         "back"
        ],
        [
         "Forward",
         "Forward to next view",
         "arrow-right",
         "forward"
        ],
        [
         "Pan",
         "Left button pans, Right button zooms\nx/y fixes axis, CTRL fixes aspect",
         "arrows",
         "pan"
        ],
        [
         "Zoom",
         "Zoom to rectangle\nx/y fixes axis, CTRL fixes aspect",
         "square-o",
         "zoom"
        ],
        [
         "Download",
         "Download plot",
         "floppy-o",
         "save_figure"
        ]
       ]
      }
     },
     "9135d87c1f2c4077864efd89d24aa739": {
      "model_module": "@jupyter-widgets/base",
      "model_module_version": "1.2.0",
      "model_name": "LayoutModel",
      "state": {}
     },
     "94228286221a4eae91f3d9e1d2aca014": {
      "model_module": "@jupyter-widgets/base",
      "model_module_version": "1.2.0",
      "model_name": "LayoutModel",
      "state": {}
     },
     "950524d998534cb9ab5c7fc9145aedf0": {
      "model_module": "@jupyter-widgets/base",
      "model_module_version": "1.2.0",
      "model_name": "LayoutModel",
      "state": {}
     },
     "957d2737cade4f27869d6580f47df76b": {
      "model_module": "jupyter-matplotlib",
      "model_module_version": "^0.7.4",
      "model_name": "ToolbarModel",
      "state": {
       "layout": "IPY_MODEL_dff6d6eed556407394ac7506e70ccc50",
       "toolitems": [
        [
         "Home",
         "Reset original view",
         "home",
         "home"
        ],
        [
         "Back",
         "Back to previous view",
         "arrow-left",
         "back"
        ],
        [
         "Forward",
         "Forward to next view",
         "arrow-right",
         "forward"
        ],
        [
         "Pan",
         "Left button pans, Right button zooms\nx/y fixes axis, CTRL fixes aspect",
         "arrows",
         "pan"
        ],
        [
         "Zoom",
         "Zoom to rectangle\nx/y fixes axis, CTRL fixes aspect",
         "square-o",
         "zoom"
        ],
        [
         "Download",
         "Download plot",
         "floppy-o",
         "save_figure"
        ]
       ]
      }
     },
     "9606d7320cad4783853c6db945bfd28a": {
      "model_module": "@jupyter-widgets/base",
      "model_module_version": "1.2.0",
      "model_name": "LayoutModel",
      "state": {}
     },
     "9735edc7b9f4454e822ffb09703535be": {
      "model_module": "@jupyter-widgets/base",
      "model_module_version": "1.2.0",
      "model_name": "LayoutModel",
      "state": {}
     },
     "97c70dff9898410db8616f3af1b8dc97": {
      "model_module": "@jupyter-widgets/base",
      "model_module_version": "1.2.0",
      "model_name": "LayoutModel",
      "state": {}
     },
     "99f8b9bece7f4f2ab323a5e353c16aed": {
      "model_module": "@jupyter-widgets/base",
      "model_module_version": "1.2.0",
      "model_name": "LayoutModel",
      "state": {}
     },
     "9c07e19ec4f74207ab3364223932e03f": {
      "model_module": "@jupyter-widgets/base",
      "model_module_version": "1.2.0",
      "model_name": "LayoutModel",
      "state": {}
     },
     "9cdc9ed113024347948c36929b901500": {
      "model_module": "jupyter-matplotlib",
      "model_module_version": "^0.7.4",
      "model_name": "MPLCanvasModel",
      "state": {
       "layout": "IPY_MODEL_d3c350b1e02a4790aa01479e1a99332d",
       "toolbar": "IPY_MODEL_62caea1fb3794688836626012a267df5",
       "toolbar_position": "left"
      }
     },
     "9ef50df1140d4378944e5cfd8ba99087": {
      "model_module": "@jupyter-widgets/base",
      "model_module_version": "1.2.0",
      "model_name": "LayoutModel",
      "state": {}
     },
     "9f4e339ea3554ec49d454818af54140f": {
      "model_module": "@jupyter-widgets/base",
      "model_module_version": "1.2.0",
      "model_name": "LayoutModel",
      "state": {}
     },
     "9f6e8a692f3542de816104fc63640efc": {
      "model_module": "jupyter-matplotlib",
      "model_module_version": "^0.7.4",
      "model_name": "MPLCanvasModel",
      "state": {
       "_cursor": "default",
       "_figure_label": "Figure 23",
       "_height": 900,
       "_message": "x=0.256 y=7.93e+05",
       "_width": 1000,
       "layout": "IPY_MODEL_9c07e19ec4f74207ab3364223932e03f",
       "toolbar": "IPY_MODEL_e48c8489308242c08de6056203a1683f",
       "toolbar_position": "left"
      }
     },
     "9f9260d654a24156aeb716ea73ba32fd": {
      "model_module": "@jupyter-widgets/base",
      "model_module_version": "1.2.0",
      "model_name": "LayoutModel",
      "state": {}
     },
     "9fc75034885144969005ba73d56ea61c": {
      "model_module": "jupyter-matplotlib",
      "model_module_version": "^0.7.4",
      "model_name": "ToolbarModel",
      "state": {
       "layout": "IPY_MODEL_9f9260d654a24156aeb716ea73ba32fd",
       "toolitems": [
        [
         "Home",
         "Reset original view",
         "home",
         "home"
        ],
        [
         "Back",
         "Back to previous view",
         "arrow-left",
         "back"
        ],
        [
         "Forward",
         "Forward to next view",
         "arrow-right",
         "forward"
        ],
        [
         "Pan",
         "Left button pans, Right button zooms\nx/y fixes axis, CTRL fixes aspect",
         "arrows",
         "pan"
        ],
        [
         "Zoom",
         "Zoom to rectangle\nx/y fixes axis, CTRL fixes aspect",
         "square-o",
         "zoom"
        ],
        [
         "Download",
         "Download plot",
         "floppy-o",
         "save_figure"
        ]
       ]
      }
     },
     "9fc7808a20b74366a6337f9b46738f73": {
      "model_module": "jupyter-matplotlib",
      "model_module_version": "^0.7.4",
      "model_name": "ToolbarModel",
      "state": {
       "layout": "IPY_MODEL_bb38fa4a2fd848bdb2c9da29de9ad8e9",
       "toolitems": [
        [
         "Home",
         "Reset original view",
         "home",
         "home"
        ],
        [
         "Back",
         "Back to previous view",
         "arrow-left",
         "back"
        ],
        [
         "Forward",
         "Forward to next view",
         "arrow-right",
         "forward"
        ],
        [
         "Pan",
         "Left button pans, Right button zooms\nx/y fixes axis, CTRL fixes aspect",
         "arrows",
         "pan"
        ],
        [
         "Zoom",
         "Zoom to rectangle\nx/y fixes axis, CTRL fixes aspect",
         "square-o",
         "zoom"
        ],
        [
         "Download",
         "Download plot",
         "floppy-o",
         "save_figure"
        ]
       ]
      }
     },
     "9fe0412d253c49e1898728e98eadf18d": {
      "model_module": "jupyter-matplotlib",
      "model_module_version": "^0.7.4",
      "model_name": "MPLCanvasModel",
      "state": {
       "_cursor": "default",
       "_figure_label": "Figure 25",
       "_height": 2000,
       "_width": 1000,
       "layout": "IPY_MODEL_9135d87c1f2c4077864efd89d24aa739",
       "toolbar": "IPY_MODEL_240412cfbe044b0c9d9b05711af38a60",
       "toolbar_position": "left"
      }
     },
     "a4964eaa6a864cffacccd6ae864caa5f": {
      "model_module": "jupyter-matplotlib",
      "model_module_version": "^0.7.4",
      "model_name": "MPLCanvasModel",
      "state": {
       "_cursor": "default",
       "_figure_label": "Figure 42",
       "_height": 2000,
       "_message": "x=28.2 y=1474.",
       "_width": 1000,
       "layout": "IPY_MODEL_dc2554ba87c744d1bd6995e35e9f9db6",
       "toolbar": "IPY_MODEL_a600735aa8f349f38c3d5fa367b53dbb",
       "toolbar_position": "left"
      }
     },
     "a50c80073bf440ab99b1ea02a7e7f22b": {
      "model_module": "@jupyter-widgets/base",
      "model_module_version": "1.2.0",
      "model_name": "LayoutModel",
      "state": {}
     },
     "a517b345deaf40739d5b3cde588f5521": {
      "model_module": "jupyter-matplotlib",
      "model_module_version": "^0.7.4",
      "model_name": "MPLCanvasModel",
      "state": {
       "layout": "IPY_MODEL_374d8df3600e4a07b261417fbd3a6fd9",
       "toolbar": "IPY_MODEL_9fc7808a20b74366a6337f9b46738f73",
       "toolbar_position": "left"
      }
     },
     "a600735aa8f349f38c3d5fa367b53dbb": {
      "model_module": "jupyter-matplotlib",
      "model_module_version": "^0.7.4",
      "model_name": "ToolbarModel",
      "state": {
       "layout": "IPY_MODEL_7d4e9bbfdf7f4778b61e1cfca407474a",
       "toolitems": [
        [
         "Home",
         "Reset original view",
         "home",
         "home"
        ],
        [
         "Back",
         "Back to previous view",
         "arrow-left",
         "back"
        ],
        [
         "Forward",
         "Forward to next view",
         "arrow-right",
         "forward"
        ],
        [
         "Pan",
         "Left button pans, Right button zooms\nx/y fixes axis, CTRL fixes aspect",
         "arrows",
         "pan"
        ],
        [
         "Zoom",
         "Zoom to rectangle\nx/y fixes axis, CTRL fixes aspect",
         "square-o",
         "zoom"
        ],
        [
         "Download",
         "Download plot",
         "floppy-o",
         "save_figure"
        ]
       ]
      }
     },
     "a80f8e5b81424e2bae0e3cec3220dabc": {
      "model_module": "jupyter-matplotlib",
      "model_module_version": "^0.7.4",
      "model_name": "ToolbarModel",
      "state": {
       "layout": "IPY_MODEL_6e6729052a4d4a8594cc07611c9c8827",
       "toolitems": [
        [
         "Home",
         "Reset original view",
         "home",
         "home"
        ],
        [
         "Back",
         "Back to previous view",
         "arrow-left",
         "back"
        ],
        [
         "Forward",
         "Forward to next view",
         "arrow-right",
         "forward"
        ],
        [
         "Pan",
         "Left button pans, Right button zooms\nx/y fixes axis, CTRL fixes aspect",
         "arrows",
         "pan"
        ],
        [
         "Zoom",
         "Zoom to rectangle\nx/y fixes axis, CTRL fixes aspect",
         "square-o",
         "zoom"
        ],
        [
         "Download",
         "Download plot",
         "floppy-o",
         "save_figure"
        ]
       ]
      }
     },
     "a9aee24c5ae947d69110353d28c1d9b1": {
      "model_module": "jupyter-matplotlib",
      "model_module_version": "^0.7.4",
      "model_name": "ToolbarModel",
      "state": {
       "layout": "IPY_MODEL_7635104da3954bae9f4780afb7c8dc53",
       "toolitems": [
        [
         "Home",
         "Reset original view",
         "home",
         "home"
        ],
        [
         "Back",
         "Back to previous view",
         "arrow-left",
         "back"
        ],
        [
         "Forward",
         "Forward to next view",
         "arrow-right",
         "forward"
        ],
        [
         "Pan",
         "Left button pans, Right button zooms\nx/y fixes axis, CTRL fixes aspect",
         "arrows",
         "pan"
        ],
        [
         "Zoom",
         "Zoom to rectangle\nx/y fixes axis, CTRL fixes aspect",
         "square-o",
         "zoom"
        ],
        [
         "Download",
         "Download plot",
         "floppy-o",
         "save_figure"
        ]
       ]
      }
     },
     "aa28beeff92c410495bfce98bb0f5f9a": {
      "model_module": "@jupyter-widgets/base",
      "model_module_version": "1.2.0",
      "model_name": "LayoutModel",
      "state": {}
     },
     "aacfed8dbbb84e699975513590fb57de": {
      "model_module": "jupyter-matplotlib",
      "model_module_version": "^0.7.4",
      "model_name": "MPLCanvasModel",
      "state": {
       "_cursor": "default",
       "_figure_label": "Figure 35",
       "_height": 2000,
       "_image_mode": "diff",
       "_message": "x=0.1908 y=20.4",
       "_width": 1000,
       "layout": "IPY_MODEL_5c0f68790b0742928a76e7e0e614dcf3",
       "toolbar": "IPY_MODEL_8d3860039b5244b3bc2073a77e6c3356",
       "toolbar_position": "left"
      }
     },
     "abc8580a168b4d03bdba7a51032b9b5e": {
      "model_module": "jupyter-matplotlib",
      "model_module_version": "^0.7.4",
      "model_name": "ToolbarModel",
      "state": {
       "layout": "IPY_MODEL_aa28beeff92c410495bfce98bb0f5f9a",
       "toolitems": [
        [
         "Home",
         "Reset original view",
         "home",
         "home"
        ],
        [
         "Back",
         "Back to previous view",
         "arrow-left",
         "back"
        ],
        [
         "Forward",
         "Forward to next view",
         "arrow-right",
         "forward"
        ],
        [
         "Pan",
         "Left button pans, Right button zooms\nx/y fixes axis, CTRL fixes aspect",
         "arrows",
         "pan"
        ],
        [
         "Zoom",
         "Zoom to rectangle\nx/y fixes axis, CTRL fixes aspect",
         "square-o",
         "zoom"
        ],
        [
         "Download",
         "Download plot",
         "floppy-o",
         "save_figure"
        ]
       ]
      }
     },
     "ac40d65ef8454905bf7f8d8dd9f90cce": {
      "model_module": "jupyter-matplotlib",
      "model_module_version": "^0.7.4",
      "model_name": "ToolbarModel",
      "state": {
       "layout": "IPY_MODEL_4884c170463c46a79d3f2e69246f7840",
       "toolitems": [
        [
         "Home",
         "Reset original view",
         "home",
         "home"
        ],
        [
         "Back",
         "Back to previous view",
         "arrow-left",
         "back"
        ],
        [
         "Forward",
         "Forward to next view",
         "arrow-right",
         "forward"
        ],
        [
         "Pan",
         "Left button pans, Right button zooms\nx/y fixes axis, CTRL fixes aspect",
         "arrows",
         "pan"
        ],
        [
         "Zoom",
         "Zoom to rectangle\nx/y fixes axis, CTRL fixes aspect",
         "square-o",
         "zoom"
        ],
        [
         "Download",
         "Download plot",
         "floppy-o",
         "save_figure"
        ]
       ]
      }
     },
     "aee733fac17e44a088345f121c4f1bd8": {
      "model_module": "@jupyter-widgets/base",
      "model_module_version": "1.2.0",
      "model_name": "LayoutModel",
      "state": {}
     },
     "aef76c4184ad483491f0301dfbd1c9a3": {
      "model_module": "@jupyter-widgets/base",
      "model_module_version": "1.2.0",
      "model_name": "LayoutModel",
      "state": {}
     },
     "b10830537277456e85dd67a86dbb2e6b": {
      "model_module": "jupyter-matplotlib",
      "model_module_version": "^0.7.4",
      "model_name": "MPLCanvasModel",
      "state": {
       "_cursor": "default",
       "_figure_label": "Figure 9",
       "_height": 2000,
       "_message": "x=0.0945 y=464.",
       "_width": 1000,
       "layout": "IPY_MODEL_3a68a3ce0f0d405f88b85eb8452d5d51",
       "toolbar": "IPY_MODEL_32ff400eae5344b5acf5cd69c3dc12f8",
       "toolbar_position": "left"
      }
     },
     "b2d52b5e806b41e5b4fbbcb4f117d2e8": {
      "model_module": "@jupyter-widgets/base",
      "model_module_version": "1.2.0",
      "model_name": "LayoutModel",
      "state": {}
     },
     "b3c1d6345ab6408db2a941e6f65065fc": {
      "model_module": "@jupyter-widgets/base",
      "model_module_version": "1.2.0",
      "model_name": "LayoutModel",
      "state": {}
     },
     "b5854be1d94a43a1addd954f3151562e": {
      "model_module": "jupyter-matplotlib",
      "model_module_version": "^0.7.4",
      "model_name": "ToolbarModel",
      "state": {
       "layout": "IPY_MODEL_7c578c5c833540c0abb281647a5304c8",
       "toolitems": [
        [
         "Home",
         "Reset original view",
         "home",
         "home"
        ],
        [
         "Back",
         "Back to previous view",
         "arrow-left",
         "back"
        ],
        [
         "Forward",
         "Forward to next view",
         "arrow-right",
         "forward"
        ],
        [
         "Pan",
         "Left button pans, Right button zooms\nx/y fixes axis, CTRL fixes aspect",
         "arrows",
         "pan"
        ],
        [
         "Zoom",
         "Zoom to rectangle\nx/y fixes axis, CTRL fixes aspect",
         "square-o",
         "zoom"
        ],
        [
         "Download",
         "Download plot",
         "floppy-o",
         "save_figure"
        ]
       ]
      }
     },
     "b60929136e704c268d805eae4faa5ae8": {
      "model_module": "@jupyter-widgets/base",
      "model_module_version": "1.2.0",
      "model_name": "LayoutModel",
      "state": {}
     },
     "b74a297e52bb4159be8d6ec7eb6e973d": {
      "model_module": "jupyter-matplotlib",
      "model_module_version": "^0.7.4",
      "model_name": "MPLCanvasModel",
      "state": {
       "_cursor": "default",
       "_figure_label": "Figure 45",
       "_height": 2000,
       "_message": "x=0.1108 y=25.5",
       "_width": 1000,
       "layout": "IPY_MODEL_9ef50df1140d4378944e5cfd8ba99087",
       "toolbar": "IPY_MODEL_abc8580a168b4d03bdba7a51032b9b5e",
       "toolbar_position": "left"
      }
     },
     "b7a62700976248bf9d1fb99b56078b59": {
      "model_module": "@jupyter-widgets/base",
      "model_module_version": "1.2.0",
      "model_name": "LayoutModel",
      "state": {}
     },
     "b7f95fa32edc468389360c6dbe627739": {
      "model_module": "jupyter-matplotlib",
      "model_module_version": "^0.7.4",
      "model_name": "MPLCanvasModel",
      "state": {
       "_cursor": "default",
       "_figure_label": "Figure 15",
       "_height": 2000,
       "_image_mode": "diff",
       "_width": 1000,
       "layout": "IPY_MODEL_ff1e94a599284efeb666c05b0f3e7c87",
       "toolbar": "IPY_MODEL_d883a331bec542079d01ecb59aa32397",
       "toolbar_position": "left"
      }
     },
     "b7fb45fe6263418ca49ffea569856416": {
      "model_module": "@jupyter-widgets/base",
      "model_module_version": "1.2.0",
      "model_name": "LayoutModel",
      "state": {}
     },
     "b9b0e7542cd5458abdef6cf8790ee36d": {
      "model_module": "@jupyter-widgets/base",
      "model_module_version": "1.2.0",
      "model_name": "LayoutModel",
      "state": {}
     },
     "ba2c340c6540402895ae6f12f41ca074": {
      "model_module": "@jupyter-widgets/base",
      "model_module_version": "1.2.0",
      "model_name": "LayoutModel",
      "state": {}
     },
     "bb38fa4a2fd848bdb2c9da29de9ad8e9": {
      "model_module": "@jupyter-widgets/base",
      "model_module_version": "1.2.0",
      "model_name": "LayoutModel",
      "state": {}
     },
     "bbf7202d3143410a831adc99ecf99d70": {
      "model_module": "jupyter-matplotlib",
      "model_module_version": "^0.7.4",
      "model_name": "MPLCanvasModel",
      "state": {
       "layout": "IPY_MODEL_df647e7270814bf8bae96470f92dec01",
       "toolbar": "IPY_MODEL_a80f8e5b81424e2bae0e3cec3220dabc",
       "toolbar_position": "left"
      }
     },
     "be23b537633048b08e16439f8145f3d1": {
      "model_module": "jupyter-matplotlib",
      "model_module_version": "^0.7.4",
      "model_name": "ToolbarModel",
      "state": {
       "layout": "IPY_MODEL_0ebd6981f0614b5daf735ac1ff26803d",
       "toolitems": [
        [
         "Home",
         "Reset original view",
         "home",
         "home"
        ],
        [
         "Back",
         "Back to previous view",
         "arrow-left",
         "back"
        ],
        [
         "Forward",
         "Forward to next view",
         "arrow-right",
         "forward"
        ],
        [
         "Pan",
         "Left button pans, Right button zooms\nx/y fixes axis, CTRL fixes aspect",
         "arrows",
         "pan"
        ],
        [
         "Zoom",
         "Zoom to rectangle\nx/y fixes axis, CTRL fixes aspect",
         "square-o",
         "zoom"
        ],
        [
         "Download",
         "Download plot",
         "floppy-o",
         "save_figure"
        ]
       ]
      }
     },
     "be471dd85972469baf2b75e487daff3c": {
      "model_module": "@jupyter-widgets/base",
      "model_module_version": "1.2.0",
      "model_name": "LayoutModel",
      "state": {}
     },
     "c0f16bba47c542f2ac2ba86ef9d18acc": {
      "model_module": "@jupyter-widgets/base",
      "model_module_version": "1.2.0",
      "model_name": "LayoutModel",
      "state": {}
     },
     "c379bc30fff949b083cbf521ed1c4b23": {
      "model_module": "jupyter-matplotlib",
      "model_module_version": "^0.7.4",
      "model_name": "ToolbarModel",
      "state": {
       "layout": "IPY_MODEL_81a941cb2a564d56ad84f415d2171ba7",
       "toolitems": [
        [
         "Home",
         "Reset original view",
         "home",
         "home"
        ],
        [
         "Back",
         "Back to previous view",
         "arrow-left",
         "back"
        ],
        [
         "Forward",
         "Forward to next view",
         "arrow-right",
         "forward"
        ],
        [
         "Pan",
         "Left button pans, Right button zooms\nx/y fixes axis, CTRL fixes aspect",
         "arrows",
         "pan"
        ],
        [
         "Zoom",
         "Zoom to rectangle\nx/y fixes axis, CTRL fixes aspect",
         "square-o",
         "zoom"
        ],
        [
         "Download",
         "Download plot",
         "floppy-o",
         "save_figure"
        ]
       ]
      }
     },
     "c45d8311c676409bb0a25d7f70ea7046": {
      "model_module": "jupyter-matplotlib",
      "model_module_version": "^0.7.4",
      "model_name": "ToolbarModel",
      "state": {
       "layout": "IPY_MODEL_2747e1ce3d92468fbf2fa1a279115148",
       "toolitems": [
        [
         "Home",
         "Reset original view",
         "home",
         "home"
        ],
        [
         "Back",
         "Back to previous view",
         "arrow-left",
         "back"
        ],
        [
         "Forward",
         "Forward to next view",
         "arrow-right",
         "forward"
        ],
        [
         "Pan",
         "Left button pans, Right button zooms\nx/y fixes axis, CTRL fixes aspect",
         "arrows",
         "pan"
        ],
        [
         "Zoom",
         "Zoom to rectangle\nx/y fixes axis, CTRL fixes aspect",
         "square-o",
         "zoom"
        ],
        [
         "Download",
         "Download plot",
         "floppy-o",
         "save_figure"
        ]
       ]
      }
     },
     "c4a66d0426e2481cbf5b184a5cc1895c": {
      "model_module": "jupyter-matplotlib",
      "model_module_version": "^0.7.4",
      "model_name": "MPLCanvasModel",
      "state": {
       "_cursor": "default",
       "_figure_label": "Figure 27",
       "_height": 2000,
       "_message": "x=0.0936 y=6.33e+03",
       "_width": 1000,
       "layout": "IPY_MODEL_580004acbb8c4f7aa5e851bf9cc45f7a",
       "toolbar": "IPY_MODEL_e5b36879c2514c0080200934df087018",
       "toolbar_position": "left"
      }
     },
     "c58661b985d641acb1f8a786089da6bf": {
      "model_module": "@jupyter-widgets/base",
      "model_module_version": "1.2.0",
      "model_name": "LayoutModel",
      "state": {}
     },
     "c681506dca9e4d7aa6c5926f64212e1e": {
      "model_module": "@jupyter-widgets/base",
      "model_module_version": "1.2.0",
      "model_name": "LayoutModel",
      "state": {}
     },
     "c70c8c0b5bbc4c2ab9c796aa5e3ebe03": {
      "model_module": "@jupyter-widgets/base",
      "model_module_version": "1.2.0",
      "model_name": "LayoutModel",
      "state": {}
     },
     "caacf551b2824c94b3f787242f777b65": {
      "model_module": "jupyter-matplotlib",
      "model_module_version": "^0.7.4",
      "model_name": "MPLCanvasModel",
      "state": {
       "_cursor": "default",
       "_figure_label": "Figure 49",
       "_height": 2000,
       "_message": "x=9.6 y=4.51e+03",
       "_width": 1000,
       "layout": "IPY_MODEL_b9b0e7542cd5458abdef6cf8790ee36d",
       "toolbar": "IPY_MODEL_e3744b4d921149029e04f6c61a91b0f2",
       "toolbar_position": "left"
      }
     },
     "d03b13e0086849968c03f9a3bacc689e": {
      "model_module": "@jupyter-widgets/base",
      "model_module_version": "1.2.0",
      "model_name": "LayoutModel",
      "state": {}
     },
     "d13172bca8d84707a3e7d76ade4a8084": {
      "model_module": "jupyter-matplotlib",
      "model_module_version": "^0.7.4",
      "model_name": "MPLCanvasModel",
      "state": {
       "layout": "IPY_MODEL_5ba26af7ad5c41ce829958ca93f55d7c",
       "toolbar": "IPY_MODEL_debcef51c5f94b53b3982c5c3af70e0e",
       "toolbar_position": "left"
      }
     },
     "d360326c9bf04c8e96402024b2a378b9": {
      "model_module": "jupyter-matplotlib",
      "model_module_version": "^0.7.4",
      "model_name": "ToolbarModel",
      "state": {
       "layout": "IPY_MODEL_31070a626f2c4a998fed9923896954c1",
       "toolitems": [
        [
         "Home",
         "Reset original view",
         "home",
         "home"
        ],
        [
         "Back",
         "Back to previous view",
         "arrow-left",
         "back"
        ],
        [
         "Forward",
         "Forward to next view",
         "arrow-right",
         "forward"
        ],
        [
         "Pan",
         "Left button pans, Right button zooms\nx/y fixes axis, CTRL fixes aspect",
         "arrows",
         "pan"
        ],
        [
         "Zoom",
         "Zoom to rectangle\nx/y fixes axis, CTRL fixes aspect",
         "square-o",
         "zoom"
        ],
        [
         "Download",
         "Download plot",
         "floppy-o",
         "save_figure"
        ]
       ]
      }
     },
     "d3a45a993d934b2e9b2f1ae33fb06561": {
      "model_module": "jupyter-matplotlib",
      "model_module_version": "^0.7.4",
      "model_name": "ToolbarModel",
      "state": {
       "layout": "IPY_MODEL_4a25bd062a634b428b8087423be5d503",
       "toolitems": [
        [
         "Home",
         "Reset original view",
         "home",
         "home"
        ],
        [
         "Back",
         "Back to previous view",
         "arrow-left",
         "back"
        ],
        [
         "Forward",
         "Forward to next view",
         "arrow-right",
         "forward"
        ],
        [
         "Pan",
         "Left button pans, Right button zooms\nx/y fixes axis, CTRL fixes aspect",
         "arrows",
         "pan"
        ],
        [
         "Zoom",
         "Zoom to rectangle\nx/y fixes axis, CTRL fixes aspect",
         "square-o",
         "zoom"
        ],
        [
         "Download",
         "Download plot",
         "floppy-o",
         "save_figure"
        ]
       ]
      }
     },
     "d3c350b1e02a4790aa01479e1a99332d": {
      "model_module": "@jupyter-widgets/base",
      "model_module_version": "1.2.0",
      "model_name": "LayoutModel",
      "state": {}
     },
     "d503eafbcd004f77be4da917766e295f": {
      "model_module": "jupyter-matplotlib",
      "model_module_version": "^0.7.4",
      "model_name": "MPLCanvasModel",
      "state": {
       "_cursor": "default",
       "_figure_label": "Figure 12",
       "_height": 700,
       "_image_mode": "diff",
       "_message": "x=0.0534 y=2.46e+04",
       "_width": 1000,
       "layout": "IPY_MODEL_ba2c340c6540402895ae6f12f41ca074",
       "toolbar": "IPY_MODEL_6ec2b85b393349ac8d1c1fd3f56230c3",
       "toolbar_position": "left"
      }
     },
     "d883a331bec542079d01ecb59aa32397": {
      "model_module": "jupyter-matplotlib",
      "model_module_version": "^0.7.4",
      "model_name": "ToolbarModel",
      "state": {
       "layout": "IPY_MODEL_f4c3cff82e2c4309bdcf67519e813ab8",
       "toolitems": [
        [
         "Home",
         "Reset original view",
         "home",
         "home"
        ],
        [
         "Back",
         "Back to previous view",
         "arrow-left",
         "back"
        ],
        [
         "Forward",
         "Forward to next view",
         "arrow-right",
         "forward"
        ],
        [
         "Pan",
         "Left button pans, Right button zooms\nx/y fixes axis, CTRL fixes aspect",
         "arrows",
         "pan"
        ],
        [
         "Zoom",
         "Zoom to rectangle\nx/y fixes axis, CTRL fixes aspect",
         "square-o",
         "zoom"
        ],
        [
         "Download",
         "Download plot",
         "floppy-o",
         "save_figure"
        ]
       ]
      }
     },
     "d94cadb8d8fe4f4a81ea8270829ad898": {
      "model_module": "jupyter-matplotlib",
      "model_module_version": "^0.7.4",
      "model_name": "MPLCanvasModel",
      "state": {
       "_cursor": "default",
       "_figure_label": "Figure 30",
       "_height": 900,
       "_message": "x=1.225 y=8.27e+03",
       "_width": 1000,
       "layout": "IPY_MODEL_c58661b985d641acb1f8a786089da6bf",
       "toolbar": "IPY_MODEL_284c593503a24a85aecb43ec9cbcafa2",
       "toolbar_position": "left"
      }
     },
     "d99ac749fb704352a64c1f6adb4cd53b": {
      "model_module": "@jupyter-widgets/base",
      "model_module_version": "1.2.0",
      "model_name": "LayoutModel",
      "state": {}
     },
     "db24b8e413ee4a9e847fabbf6cd42528": {
      "model_module": "jupyter-matplotlib",
      "model_module_version": "^0.7.4",
      "model_name": "MPLCanvasModel",
      "state": {
       "layout": "IPY_MODEL_7f4a82179c9c4585b7669d790d6ea9ab",
       "toolbar": "IPY_MODEL_f608d2dc29be41d1b49d1549b1437331",
       "toolbar_position": "left"
      }
     },
     "dc2554ba87c744d1bd6995e35e9f9db6": {
      "model_module": "@jupyter-widgets/base",
      "model_module_version": "1.2.0",
      "model_name": "LayoutModel",
      "state": {}
     },
     "dd18054bcf95489aac5014b91c274d21": {
      "model_module": "jupyter-matplotlib",
      "model_module_version": "^0.7.4",
      "model_name": "MPLCanvasModel",
      "state": {
       "_cursor": "default",
       "_figure_label": "Figure 26",
       "_height": 900,
       "_width": 1000,
       "layout": "IPY_MODEL_1ddb1fc2c8394c9184c8ad527ad1afcf",
       "toolbar": "IPY_MODEL_8c34606cd3a74d10aff99720463bd499",
       "toolbar_position": "left"
      }
     },
     "dd6369d5f6be4523a8469de646b1f476": {
      "model_module": "@jupyter-widgets/base",
      "model_module_version": "1.2.0",
      "model_name": "LayoutModel",
      "state": {}
     },
     "de27ba0fbed347819ce22cf36bb869d3": {
      "model_module": "jupyter-matplotlib",
      "model_module_version": "^0.7.4",
      "model_name": "ToolbarModel",
      "state": {
       "layout": "IPY_MODEL_d99ac749fb704352a64c1f6adb4cd53b",
       "toolitems": [
        [
         "Home",
         "Reset original view",
         "home",
         "home"
        ],
        [
         "Back",
         "Back to previous view",
         "arrow-left",
         "back"
        ],
        [
         "Forward",
         "Forward to next view",
         "arrow-right",
         "forward"
        ],
        [
         "Pan",
         "Left button pans, Right button zooms\nx/y fixes axis, CTRL fixes aspect",
         "arrows",
         "pan"
        ],
        [
         "Zoom",
         "Zoom to rectangle\nx/y fixes axis, CTRL fixes aspect",
         "square-o",
         "zoom"
        ],
        [
         "Download",
         "Download plot",
         "floppy-o",
         "save_figure"
        ]
       ]
      }
     },
     "debcef51c5f94b53b3982c5c3af70e0e": {
      "model_module": "jupyter-matplotlib",
      "model_module_version": "^0.7.4",
      "model_name": "ToolbarModel",
      "state": {
       "layout": "IPY_MODEL_1db1d1b8669f4136b9d106b712ee18a9",
       "toolitems": [
        [
         "Home",
         "Reset original view",
         "home",
         "home"
        ],
        [
         "Back",
         "Back to previous view",
         "arrow-left",
         "back"
        ],
        [
         "Forward",
         "Forward to next view",
         "arrow-right",
         "forward"
        ],
        [
         "Pan",
         "Left button pans, Right button zooms\nx/y fixes axis, CTRL fixes aspect",
         "arrows",
         "pan"
        ],
        [
         "Zoom",
         "Zoom to rectangle\nx/y fixes axis, CTRL fixes aspect",
         "square-o",
         "zoom"
        ],
        [
         "Download",
         "Download plot",
         "floppy-o",
         "save_figure"
        ]
       ]
      }
     },
     "df647e7270814bf8bae96470f92dec01": {
      "model_module": "@jupyter-widgets/base",
      "model_module_version": "1.2.0",
      "model_name": "LayoutModel",
      "state": {}
     },
     "df6723246e45499f94edba0ccce3c8de": {
      "model_module": "@jupyter-widgets/base",
      "model_module_version": "1.2.0",
      "model_name": "LayoutModel",
      "state": {}
     },
     "dff6d6eed556407394ac7506e70ccc50": {
      "model_module": "@jupyter-widgets/base",
      "model_module_version": "1.2.0",
      "model_name": "LayoutModel",
      "state": {}
     },
     "e131a844f24b4ef8ac1ef5308a129cab": {
      "model_module": "@jupyter-widgets/base",
      "model_module_version": "1.2.0",
      "model_name": "LayoutModel",
      "state": {}
     },
     "e3744b4d921149029e04f6c61a91b0f2": {
      "model_module": "jupyter-matplotlib",
      "model_module_version": "^0.7.4",
      "model_name": "ToolbarModel",
      "state": {
       "layout": "IPY_MODEL_303d4c4fb35a4df3aaf467082db8d51b",
       "toolitems": [
        [
         "Home",
         "Reset original view",
         "home",
         "home"
        ],
        [
         "Back",
         "Back to previous view",
         "arrow-left",
         "back"
        ],
        [
         "Forward",
         "Forward to next view",
         "arrow-right",
         "forward"
        ],
        [
         "Pan",
         "Left button pans, Right button zooms\nx/y fixes axis, CTRL fixes aspect",
         "arrows",
         "pan"
        ],
        [
         "Zoom",
         "Zoom to rectangle\nx/y fixes axis, CTRL fixes aspect",
         "square-o",
         "zoom"
        ],
        [
         "Download",
         "Download plot",
         "floppy-o",
         "save_figure"
        ]
       ]
      }
     },
     "e48c8489308242c08de6056203a1683f": {
      "model_module": "jupyter-matplotlib",
      "model_module_version": "^0.7.4",
      "model_name": "ToolbarModel",
      "state": {
       "layout": "IPY_MODEL_2892e32a405e456886f3277e09fe44b3",
       "toolitems": [
        [
         "Home",
         "Reset original view",
         "home",
         "home"
        ],
        [
         "Back",
         "Back to previous view",
         "arrow-left",
         "back"
        ],
        [
         "Forward",
         "Forward to next view",
         "arrow-right",
         "forward"
        ],
        [
         "Pan",
         "Left button pans, Right button zooms\nx/y fixes axis, CTRL fixes aspect",
         "arrows",
         "pan"
        ],
        [
         "Zoom",
         "Zoom to rectangle\nx/y fixes axis, CTRL fixes aspect",
         "square-o",
         "zoom"
        ],
        [
         "Download",
         "Download plot",
         "floppy-o",
         "save_figure"
        ]
       ]
      }
     },
     "e51178d94baa4d13b81e917ebcc464e9": {
      "model_module": "jupyter-matplotlib",
      "model_module_version": "^0.7.4",
      "model_name": "ToolbarModel",
      "state": {
       "layout": "IPY_MODEL_950524d998534cb9ab5c7fc9145aedf0",
       "toolitems": [
        [
         "Home",
         "Reset original view",
         "home",
         "home"
        ],
        [
         "Back",
         "Back to previous view",
         "arrow-left",
         "back"
        ],
        [
         "Forward",
         "Forward to next view",
         "arrow-right",
         "forward"
        ],
        [
         "Pan",
         "Left button pans, Right button zooms\nx/y fixes axis, CTRL fixes aspect",
         "arrows",
         "pan"
        ],
        [
         "Zoom",
         "Zoom to rectangle\nx/y fixes axis, CTRL fixes aspect",
         "square-o",
         "zoom"
        ],
        [
         "Download",
         "Download plot",
         "floppy-o",
         "save_figure"
        ]
       ]
      }
     },
     "e5b36879c2514c0080200934df087018": {
      "model_module": "jupyter-matplotlib",
      "model_module_version": "^0.7.4",
      "model_name": "ToolbarModel",
      "state": {
       "layout": "IPY_MODEL_8f60d97cfc1b44898c1480e7370703d6",
       "toolitems": [
        [
         "Home",
         "Reset original view",
         "home",
         "home"
        ],
        [
         "Back",
         "Back to previous view",
         "arrow-left",
         "back"
        ],
        [
         "Forward",
         "Forward to next view",
         "arrow-right",
         "forward"
        ],
        [
         "Pan",
         "Left button pans, Right button zooms\nx/y fixes axis, CTRL fixes aspect",
         "arrows",
         "pan"
        ],
        [
         "Zoom",
         "Zoom to rectangle\nx/y fixes axis, CTRL fixes aspect",
         "square-o",
         "zoom"
        ],
        [
         "Download",
         "Download plot",
         "floppy-o",
         "save_figure"
        ]
       ]
      }
     },
     "e6d10e84eab744bfa3378b602ec50d62": {
      "model_module": "jupyter-matplotlib",
      "model_module_version": "^0.7.4",
      "model_name": "MPLCanvasModel",
      "state": {
       "layout": "IPY_MODEL_64a54181492d41f7945b1615476a8660",
       "toolbar": "IPY_MODEL_e51178d94baa4d13b81e917ebcc464e9",
       "toolbar_position": "left"
      }
     },
     "e9972f448d5d426d90eea2f9c971ee65": {
      "model_module": "@jupyter-widgets/base",
      "model_module_version": "1.2.0",
      "model_name": "LayoutModel",
      "state": {}
     },
     "eacde30ae7e7499e953fdec13945ce92": {
      "model_module": "@jupyter-widgets/base",
      "model_module_version": "1.2.0",
      "model_name": "LayoutModel",
      "state": {}
     },
     "eb4abf16c08f4438a06b55f49487be03": {
      "model_module": "@jupyter-widgets/base",
      "model_module_version": "1.2.0",
      "model_name": "LayoutModel",
      "state": {}
     },
     "eb89add6834e4e7680686337615be6af": {
      "model_module": "jupyter-matplotlib",
      "model_module_version": "^0.7.4",
      "model_name": "ToolbarModel",
      "state": {
       "layout": "IPY_MODEL_9735edc7b9f4454e822ffb09703535be",
       "toolitems": [
        [
         "Home",
         "Reset original view",
         "home",
         "home"
        ],
        [
         "Back",
         "Back to previous view",
         "arrow-left",
         "back"
        ],
        [
         "Forward",
         "Forward to next view",
         "arrow-right",
         "forward"
        ],
        [
         "Pan",
         "Left button pans, Right button zooms\nx/y fixes axis, CTRL fixes aspect",
         "arrows",
         "pan"
        ],
        [
         "Zoom",
         "Zoom to rectangle\nx/y fixes axis, CTRL fixes aspect",
         "square-o",
         "zoom"
        ],
        [
         "Download",
         "Download plot",
         "floppy-o",
         "save_figure"
        ]
       ]
      }
     },
     "f05e118d2884436da907dea7959b4f23": {
      "model_module": "jupyter-matplotlib",
      "model_module_version": "^0.7.4",
      "model_name": "MPLCanvasModel",
      "state": {
       "layout": "IPY_MODEL_38a7eae7c8eb41d8862571331f8cf9ec",
       "toolbar": "IPY_MODEL_fce1e07200a44024b3cd8c26459e8db2",
       "toolbar_position": "left"
      }
     },
     "f3b101fbe6fc4e58b41ed5c2515a8777": {
      "model_module": "@jupyter-widgets/base",
      "model_module_version": "1.2.0",
      "model_name": "LayoutModel",
      "state": {}
     },
     "f4c3cff82e2c4309bdcf67519e813ab8": {
      "model_module": "@jupyter-widgets/base",
      "model_module_version": "1.2.0",
      "model_name": "LayoutModel",
      "state": {}
     },
     "f608d2dc29be41d1b49d1549b1437331": {
      "model_module": "jupyter-matplotlib",
      "model_module_version": "^0.7.4",
      "model_name": "ToolbarModel",
      "state": {
       "layout": "IPY_MODEL_60dfb346aa7e42dd9d54fd9fb5941321",
       "toolitems": [
        [
         "Home",
         "Reset original view",
         "home",
         "home"
        ],
        [
         "Back",
         "Back to previous view",
         "arrow-left",
         "back"
        ],
        [
         "Forward",
         "Forward to next view",
         "arrow-right",
         "forward"
        ],
        [
         "Pan",
         "Left button pans, Right button zooms\nx/y fixes axis, CTRL fixes aspect",
         "arrows",
         "pan"
        ],
        [
         "Zoom",
         "Zoom to rectangle\nx/y fixes axis, CTRL fixes aspect",
         "square-o",
         "zoom"
        ],
        [
         "Download",
         "Download plot",
         "floppy-o",
         "save_figure"
        ]
       ]
      }
     },
     "f69ccb1bce954c81a52c8b5f2d527b02": {
      "model_module": "@jupyter-widgets/base",
      "model_module_version": "1.2.0",
      "model_name": "LayoutModel",
      "state": {}
     },
     "f782c5b5dacb4e55b77b86c62203dda8": {
      "model_module": "@jupyter-widgets/base",
      "model_module_version": "1.2.0",
      "model_name": "LayoutModel",
      "state": {}
     },
     "fce1e07200a44024b3cd8c26459e8db2": {
      "model_module": "jupyter-matplotlib",
      "model_module_version": "^0.7.4",
      "model_name": "ToolbarModel",
      "state": {
       "layout": "IPY_MODEL_b2d52b5e806b41e5b4fbbcb4f117d2e8",
       "toolitems": [
        [
         "Home",
         "Reset original view",
         "home",
         "home"
        ],
        [
         "Back",
         "Back to previous view",
         "arrow-left",
         "back"
        ],
        [
         "Forward",
         "Forward to next view",
         "arrow-right",
         "forward"
        ],
        [
         "Pan",
         "Left button pans, Right button zooms\nx/y fixes axis, CTRL fixes aspect",
         "arrows",
         "pan"
        ],
        [
         "Zoom",
         "Zoom to rectangle\nx/y fixes axis, CTRL fixes aspect",
         "square-o",
         "zoom"
        ],
        [
         "Download",
         "Download plot",
         "floppy-o",
         "save_figure"
        ]
       ]
      }
     },
     "fcf2cdb0acca4fc3a25e4b5fe37130dc": {
      "model_module": "jupyter-matplotlib",
      "model_module_version": "^0.7.4",
      "model_name": "MPLCanvasModel",
      "state": {
       "_cursor": "default",
       "_figure_label": "Figure 24",
       "_height": 900,
       "_width": 1000,
       "layout": "IPY_MODEL_9f4e339ea3554ec49d454818af54140f",
       "toolbar": "IPY_MODEL_8fd5027e8d854245a5a109db98910c69",
       "toolbar_position": "left"
      }
     },
     "fded6fa1ef5f4313840bfadb97a12dde": {
      "model_module": "jupyter-matplotlib",
      "model_module_version": "^0.7.4",
      "model_name": "MPLCanvasModel",
      "state": {
       "_cursor": "default",
       "_figure_label": "Figure 14",
       "_height": 700,
       "_image_mode": "diff",
       "_message": "x=0.0257 y=4.70e+03",
       "_width": 1000,
       "layout": "IPY_MODEL_99f8b9bece7f4f2ab323a5e353c16aed",
       "toolbar": "IPY_MODEL_feba2849a05d4e4495f9c70fc23db83e",
       "toolbar_position": "left"
      }
     },
     "fea53dad16e944f7b3c731f542a21490": {
      "model_module": "@jupyter-widgets/base",
      "model_module_version": "1.2.0",
      "model_name": "LayoutModel",
      "state": {}
     },
     "feba2849a05d4e4495f9c70fc23db83e": {
      "model_module": "jupyter-matplotlib",
      "model_module_version": "^0.7.4",
      "model_name": "ToolbarModel",
      "state": {
       "layout": "IPY_MODEL_38a65dd787fd4b008501efdbfb8449e3",
       "toolitems": [
        [
         "Home",
         "Reset original view",
         "home",
         "home"
        ],
        [
         "Back",
         "Back to previous view",
         "arrow-left",
         "back"
        ],
        [
         "Forward",
         "Forward to next view",
         "arrow-right",
         "forward"
        ],
        [
         "Pan",
         "Left button pans, Right button zooms\nx/y fixes axis, CTRL fixes aspect",
         "arrows",
         "pan"
        ],
        [
         "Zoom",
         "Zoom to rectangle\nx/y fixes axis, CTRL fixes aspect",
         "square-o",
         "zoom"
        ],
        [
         "Download",
         "Download plot",
         "floppy-o",
         "save_figure"
        ]
       ]
      }
     },
     "ff1e94a599284efeb666c05b0f3e7c87": {
      "model_module": "@jupyter-widgets/base",
      "model_module_version": "1.2.0",
      "model_name": "LayoutModel",
      "state": {}
     },
     "ffe4ab16bde94032a62149e894598910": {
      "model_module": "@jupyter-widgets/base",
      "model_module_version": "1.2.0",
      "model_name": "LayoutModel",
      "state": {}
     }
    },
    "version_major": 2,
    "version_minor": 0
   }
  }
 },
 "nbformat": 4,
 "nbformat_minor": 4
}
