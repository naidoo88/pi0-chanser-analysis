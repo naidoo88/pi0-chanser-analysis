{
 "cells": [
  {
   "cell_type": "markdown",
   "id": "annoying-scout",
   "metadata": {},
   "source": [
    "# MC Truth vs. Recon study\n",
    "Take a look at (the difference between) the reconstructed and truth values for final-state kinematic components."
   ]
  },
  {
   "cell_type": "code",
   "execution_count": 1,
   "id": "advisory-tenant",
   "metadata": {},
   "outputs": [],
   "source": [
    "import numpy as np\n",
    "import pandas as pd\n",
    "import uproot\n",
    "import boost_histogram as bh\n",
    "import functools as ft\n",
    "import matplotlib.pyplot as plt\n",
    "import matplotlib.colors as cols\n",
    "# %matplotlib notebook\n",
    "%matplotlib widget"
   ]
  },
  {
   "cell_type": "code",
   "execution_count": 2,
   "id": "atlantic-jonathan",
   "metadata": {},
   "outputs": [],
   "source": [
    "plt.style.use('seaborn')\n",
    "plt.rcParams['axes.grid'] = True\n",
    "plt.rcParams['axes.formatter.limits'] = (-3,3)\n",
    "plt.rcParams['axes.formatter.use_mathtext'] = True\n",
    "plt.rcParams['font.size']= 16\n",
    "plt.rcParams['axes.labelsize'] = 14\n",
    "plt.rcParams['axes.titlesize'] = 14\n",
    "plt.rcParams['xtick.labelsize'] = 10\n",
    "plt.rcParams['ytick.labelsize'] = 10"
   ]
  },
  {
   "cell_type": "code",
   "execution_count": 3,
   "id": "laughing-jenny",
   "metadata": {},
   "outputs": [],
   "source": [
    "#data_root_file = \"/w/work3/home/pauln/analysis/processed/chanser_ANAsub/pauln/Pi0_PID_fullcomb/FinalState.root\"\n",
    "MC_root_file = \"/w/work3/home/pauln/analysis/processed/chanser_MCsub/pauln/Pi0_PID_fullcomb/FinalState.root\"\n",
    "\n",
    "tree= \"FINALOUTTREE\"\n",
    "\n",
    "# data = uproot.open(data_root_file)[tree]\n",
    "# data_df = data.pandas.df()\n",
    "\n",
    "data = uproot.open(MC_root_file)[tree]\n",
    "MC_df = data.pandas.df()"
   ]
  },
  {
   "cell_type": "code",
   "execution_count": 4,
   "id": "abroad-diabetes",
   "metadata": {},
   "outputs": [],
   "source": [
    "def hist1D(ax, df, var, bins = None, cuts=None, y_err=False, color=None, lalpha=1, falpha=0.4, normed=False, filled = False, density = False, params={}, label=None):\n",
    "    #select next color in colormap for use in line and fill.\n",
    "    if color is None:\n",
    "        color = next(ax._get_lines.prop_cycler)['color']\n",
    "    \n",
    "    if cuts is not None: \n",
    "        data = df[var[0]][cuts]\n",
    "    else:\n",
    "        data = df[var[0]]\n",
    "        \n",
    "    #calculate area under the curve if wanting normalised plot    \n",
    "    weights = None\n",
    "    if normed is True:\n",
    "        entries, edges = np.histogram(\n",
    "            data,\n",
    "            range = (var[1][1], var[1][2]),\n",
    "            bins = var[1][0]        \n",
    "        )\n",
    "      \n",
    "        integral = sum(np.diff(edges)*entries)\n",
    "        weights = np.ones_like(data)/integral\n",
    "        \n",
    "    if bins is None: \n",
    "        bins = var[1][0]\n",
    "    \n",
    "    #Draw histogram\n",
    "    entries,edges,_ = ax.hist(data,\n",
    "    range = (var[1][1], var[1][2]),\n",
    "    bins = bins,\n",
    "    density = density,\n",
    "    weights=weights,\n",
    "    histtype = 'step',\n",
    "    linewidth = 1.5,\n",
    "    alpha=lalpha,\n",
    "    color = color,\n",
    "    label=label,\n",
    "    **params\n",
    "    )\n",
    " \n",
    "    #fill area under histo if set\n",
    "    if filled is True:\n",
    "        # brute-force: drawing it again to allow separate alpha(opacity) to be used\n",
    "        h = ax.hist(data,\n",
    "            range = (var[1][1], var[1][2]),\n",
    "            bins = bins,\n",
    "            density = density,\n",
    "            weights=weights,\n",
    "            histtype = 'step',\n",
    "            linewidth = None,\n",
    "            fill = True,\n",
    "            alpha = falpha,\n",
    "            color = color\n",
    "            )\n",
    "        \n",
    "    #error bars    \n",
    "    if y_err is True:\n",
    "        if normed is True: \n",
    "            yerr = np.sqrt(entries)/integral\n",
    "            entries = entries/integral\n",
    "        else:\n",
    "            entries, edges = np.histogram(\n",
    "                data,\n",
    "                range = (var[1][1], var[1][2]),\n",
    "                bins = bins       \n",
    "            )\n",
    "            yerr = np.sqrt(entries)\n",
    "            \n",
    "        bin_width = edges[1]-edges[0]\n",
    "        bin_centers = edges[:-1] + bin_width/2\n",
    "        ax.errorbar(bin_centers, entries, yerr=yerr, color='r', ls='', alpha=0.6, label='err', elinewidth=0.6)\n",
    "        \n",
    "        \n",
    "    #deal with automatic y-axis scaling funk\n",
    "    # if normed is True:\n",
    "    #     #axes = plt.gca()\n",
    "    #     ax.set_ylim([0,max(entries/integral)*1.1])\n",
    "\n",
    "    ax.set_xlabel(var[2])\n",
    "    ax.set_xlim(var[1][1], var[1][2])\n",
    "\n",
    "    \n",
    "    return #(entries, edges, yerr)"
   ]
  },
  {
   "cell_type": "code",
   "execution_count": null,
   "id": "stainless-owner",
   "metadata": {},
   "outputs": [],
   "source": [
    "#list(MC_df.columns)"
   ]
  },
  {
   "cell_type": "code",
   "execution_count": 5,
   "id": "quarterly-inventory",
   "metadata": {},
   "outputs": [],
   "source": [
    "'''\n",
    "Lists through the columns in the df beginning with Pi0,\n",
    "taking the difference between this variable and the corresponding\n",
    "\"true\" value; adding this to a new column prepended \"delta\".\n",
    "'''\n",
    "\n",
    "for var in list(MC_df[[c for c in MC_df if c.startswith('Pi0')]].columns):\n",
    "    d_Str = \"delta\"+var\n",
    "    tru_Str = \"tru\"+var\n",
    "    \n",
    "    MC_df[d_Str] = MC_df[var] - MC_df[tru_Str]"
   ]
  },
  {
   "cell_type": "markdown",
   "id": "medical-recording",
   "metadata": {},
   "source": [
    "## Particle Distributions \n",
    "\n",
    "Truth-Matched Distributions for each final-state particle."
   ]
  },
  {
   "cell_type": "code",
   "execution_count": 6,
   "id": "undefined-flexibility",
   "metadata": {},
   "outputs": [],
   "source": [
    "bins = 200\n",
    "\n",
    "e_distros = [\n",
    "    [\"Pi0e_px\", (bins, -2, 2), r\"$p_{x}$ $(GeV/c^{2})$\"],\n",
    "    [\"Pi0e_py\", (bins, -2, 2), r\"$p_{y}$ $(GeV/c^{2})$\"],\n",
    "    [\"Pi0e_pz\", (bins, 0, 9), r\"$p_{z}$ $(GeV/c^{2})$\"],\n",
    "    [\"Pi0e_E\", (bins, 0, 9), r\"$E$ $(GeV)$\"],\n",
    "    [\"Pi0e_magP\", (bins, 0, 9), r\"$|p|$ $(GeV/c^{2})$\"],\n",
    "    [\"Pi0e_pT\", (bins, 0, 2), r\"$p_{T}$ $(GeV/c^{2})$\"],\n",
    "    [\"Pi0e_theta\", (bins, 0, 50), r\"$\\theta$ $(^{\\circ})$\"],\n",
    "    [\"Pi0e_phi\", (bins, -185, 185), r\"$\\phi$ $(^{\\circ})$\"]\n",
    "]\n",
    "\n",
    "e_t_distros = [\n",
    "    [\"truPi0e_px\", (bins, -2, 2), r\"$p_{x}$ $(GeV/c^{2})$\"],\n",
    "    [\"truPi0e_py\", (bins, -2, 2), r\"$p_{y}$ $(GeV/c^{2})$\"],\n",
    "    [\"truPi0e_pz\", (bins, 0, 9), r\"$p_{z}$ $(GeV/c^{2})$\"],\n",
    "    [\"truPi0e_E\", (bins, 0, 9), r\"$E$ $(GeV)$\"],\n",
    "    [\"truPi0e_magP\", (bins, 0, 9), r\"$|p|$ $(GeV/c^{2})$\"],\n",
    "    [\"truPi0e_pT\", (bins, 0, 2), r\"$p_{T}$ $(GeV/c^{2})$\"],\n",
    "    [\"truPi0e_theta\", (bins, 0, 50), r\"$\\theta$ $(^{\\circ})$\"],\n",
    "    [\"truPi0e_phi\", (bins, -185, 185), r\"$\\phi$ $(^{\\circ})$\"]\n",
    "]"
   ]
  },
  {
   "cell_type": "code",
   "execution_count": 7,
   "id": "celtic-commerce",
   "metadata": {},
   "outputs": [
    {
     "data": {
      "application/vnd.jupyter.widget-view+json": {
       "model_id": "1584e4313f5e4ffaaf23530d172a5613",
       "version_major": 2,
       "version_minor": 0
      },
      "text/plain": [
       "Canvas(toolbar=Toolbar(toolitems=[('Home', 'Reset original view', 'home', 'home'), ('Back', 'Back to previous …"
      ]
     },
     "metadata": {},
     "output_type": "display_data"
    }
   ],
   "source": [
    "fig1, ax1 = plt.subplots(2,4, figsize=(15,10))\n",
    "\n",
    "ax1=ax1.flatten()\n",
    "\n",
    "fig1.suptitle('electrons', fontsize=16)\n",
    "\n",
    "for i, distro in enumerate(e_distros):\n",
    "    hist1D(ax1[i], MC_df, distro, cuts=(MC_df.Truth==1))\n",
    "    \n",
    "for i, distro in enumerate(e_t_distros):\n",
    "    ax=ax1[i].twinx()\n",
    "\n",
    "    hist1D(ax, MC_df, distro, cuts=(MC_df.Truth==1), color='brown', lalpha=0.7)"
   ]
  },
  {
   "cell_type": "code",
   "execution_count": 8,
   "id": "ambient-california",
   "metadata": {},
   "outputs": [],
   "source": [
    "bins = 120\n",
    "\n",
    "neut_distros = [\n",
    "    [\"Pi0rec_px\", (bins, -2, 2), r\"$p_{x}$ $(GeV/c^{2})$\"],\n",
    "    [\"Pi0rec_py\", (bins, -2, 2), r\"$p_{y}$ $(GeV/c^{2})$\"],\n",
    "    [\"Pi0rec_pz\", (bins, 0, 2), r\"$p_{z}$ $(GeV/c^{2})$\"],\n",
    "    [\"Pi0rec_E\", (bins, 0.5, 2.5), r\"$E$ $(GeV)$\"],\n",
    "    [\"Pi0rec_magP\", (bins, 0, 2), r\"$|p|$ $(GeV/c^{2})$\"],\n",
    "    [\"Pi0rec_pT\", (bins, 0, 1.55), r\"$p_{T}$ $(GeV/c^{2})$\"],\n",
    "    [\"Pi0rec_theta\", (bins, 0, 180), r\"$\\theta$ $(^{\\circ})$\"],\n",
    "    [\"Pi0rec_phi\", (48, -180, 180), r\"$\\phi$ $(^{\\circ})$\"]\n",
    "]\n",
    "\n",
    "neut_t_distros = [\n",
    "    [\"truPi0rec_px\", (bins, -2, 2), r\"$p_{x}$ $(GeV/c^{2})$\"],\n",
    "    [\"truPi0rec_py\", (bins, -2, 2), r\"$p_{y}$ $(GeV/c^{2})$\"],\n",
    "    [\"truPi0rec_pz\", (bins, 0, 2), r\"$p_{z}$ $(GeV/c^{2})$\"],\n",
    "    [\"truPi0rec_E\", (bins, 0.5, 2.5), r\"$E$ $(GeV)$\"],\n",
    "    [\"truPi0rec_magP\", (bins, 0, 2), r\"$|p|$ $(GeV/c^{2})$\"],\n",
    "    [\"truPi0rec_pT\", (bins, 0, 1.55), r\"$p_{T}$ $(GeV/c^{2})$\"],\n",
    "    [\"truPi0rec_theta\", (bins, 0, 120), r\"$\\theta$ $(^{\\circ})$\"],\n",
    "    [\"truPi0rec_phi\", (48, -120, 180), r\"$\\phi$ $(^{\\circ})$\"]\n",
    "]"
   ]
  },
  {
   "cell_type": "code",
   "execution_count": 9,
   "id": "destroyed-mystery",
   "metadata": {},
   "outputs": [
    {
     "data": {
      "application/vnd.jupyter.widget-view+json": {
       "model_id": "56eb30bac61b42e6a995757027c4a312",
       "version_major": 2,
       "version_minor": 0
      },
      "text/plain": [
       "Canvas(toolbar=Toolbar(toolitems=[('Home', 'Reset original view', 'home', 'home'), ('Back', 'Back to previous …"
      ]
     },
     "metadata": {},
     "output_type": "display_data"
    }
   ],
   "source": [
    "fig2, ax2 = plt.subplots(2,4, figsize=(15,10))\n",
    "ax2=ax2.flatten()\n",
    "\n",
    "fig2.suptitle('neutrons', fontsize=16)\n",
    "\n",
    "for i, distro in enumerate(neut_distros):\n",
    "    hist1D(ax2[i], MC_df, distro, cuts=(MC_df.Truth==1))\n",
    "    \n",
    "for i, distro in enumerate(neut_t_distros):\n",
    "    ax=ax2[i].twinx()\n",
    "\n",
    "    hist1D(ax, MC_df, distro, cuts=(MC_df.Truth==1), color='brown', lalpha=0.7)"
   ]
  },
  {
   "cell_type": "code",
   "execution_count": 10,
   "id": "favorite-discrimination",
   "metadata": {},
   "outputs": [],
   "source": [
    "bins = 200\n",
    "\n",
    "phot1_distros = [\n",
    "    [\"Pi0phot1_px\", (bins, -1.75, 1.75), r\"$p_{x}$ $(GeV/c^{2})$\"],\n",
    "    [\"Pi0phot1_py\", (bins, -1.75, 1.75), r\"$p_{y}$ $(GeV/c^{2})$\"],\n",
    "    [\"Pi0phot1_pz\", (bins, 0, 8), r\"$p_{z}$ $(GeV/c^{2})$\"],\n",
    "    [\"Pi0phot1_E\", (bins, 0, 8), r\"$ E$ $(GeV)$\"],\n",
    "    [\"Pi0phot1_magP\", (bins, 0, 8), r\"$|p|$ $(GeV/c^{2})$\"],\n",
    "    [\"Pi0phot1_pT\", (bins, 0, 2), r\"$p_{T}$ $(GeV/c^{2})$\"],\n",
    "    [\"Pi0phot1_theta\", (bins, 0, 40), r\"$\\theta$ $(^{\\circ})$\"],\n",
    "    [\"Pi0phot1_phi\", (bins, -180, 180), r\"$\\phi$ $(^{\\circ})$\"]\n",
    "]\n",
    "\n",
    "phot1_t_distros = [\n",
    "    [\"truPi0phot1_px\", (bins, -1.75, 1.75), r\"$p_{x}$ $(GeV/c^{2})$\"],\n",
    "    [\"truPi0phot1_py\", (bins, -1.75, 1.75), r\"$p_{y}$ $(GeV/c^{2})$\"],\n",
    "    [\"truPi0phot1_pz\", (bins, 0, 8), r\"$p_{z}$ $(GeV/c^{2})$\"],\n",
    "    [\"truPi0phot1_E\", (bins, 0, 8), r\"$ E$ $(GeV)$\"],\n",
    "    [\"truPi0phot1_magP\", (bins, 0, 8), r\"$|p|$ $(GeV/c^{2})$\"],\n",
    "    [\"truPi0phot1_pT\", (bins, 0, 2), r\"$p_{T}$ $(GeV/c^{2})$\"],\n",
    "    [\"truPi0phot1_theta\", (bins, 0, 40), r\"$\\theta$ $(^{\\circ})$\"],\n",
    "    [\"truPi0phot1_phi\", (bins, -180, 180), r\"$\\phi$ $(^{\\circ})$\"]\n",
    "]"
   ]
  },
  {
   "cell_type": "code",
   "execution_count": 11,
   "id": "mature-interface",
   "metadata": {},
   "outputs": [
    {
     "data": {
      "application/vnd.jupyter.widget-view+json": {
       "model_id": "8864dad1538e4c4cba60f93a610bd28b",
       "version_major": 2,
       "version_minor": 0
      },
      "text/plain": [
       "Canvas(toolbar=Toolbar(toolitems=[('Home', 'Reset original view', 'home', 'home'), ('Back', 'Back to previous …"
      ]
     },
     "metadata": {},
     "output_type": "display_data"
    }
   ],
   "source": [
    "fig3, ax3 = plt.subplots(2,4, figsize=(15,10))\n",
    "ax3=ax3.flatten()\n",
    "\n",
    "fig3.suptitle('photons (1)', fontsize=16)\n",
    "\n",
    "for i, distro in enumerate(phot1_distros):\n",
    "    hist1D(ax3[i], MC_df, distro, cuts=(MC_df.Truth==1))\n",
    "    \n",
    "for i, distro in enumerate(phot1_t_distros):\n",
    "    ax=ax3[i].twinx()\n",
    "\n",
    "    hist1D(ax, MC_df, distro, cuts=(MC_df.Truth==1), color='brown', lalpha=0.7)"
   ]
  },
  {
   "cell_type": "code",
   "execution_count": 12,
   "id": "found-hotel",
   "metadata": {},
   "outputs": [],
   "source": [
    "bins = 200\n",
    "\n",
    "phot2_distros = [\n",
    "    [\"Pi0phot2_px\", (bins, -1, 1), r\"$p_{x}$ $(GeV/c^{2})$\"],\n",
    "    [\"Pi0phot2_py\", (bins, -1, 1), r\"$p_{y}$ $(GeV/c^{2})$\"],\n",
    "    [\"Pi0phot2_pz\", (bins, 0, 4), r\"$p_{z}$ $(GeV/c^{2})$\"],\n",
    "    [\"Pi0phot2_E\", (bins, 0, 4), r\"$ E$ $(GeV)$\"],\n",
    "    [\"Pi0phot2_magP\", (bins, 0, 4), r\"$|p|$ $(GeV/c^{2})$\"],\n",
    "    [\"Pi0phot2_pT\", (bins, 0, 1), r\"$p_{T}$ $(GeV/c^{2})$\"],\n",
    "    [\"Pi0phot2_theta\", (bins, 0, 40), r\"$\\theta$ $(^{\\circ})$\"],\n",
    "    [\"Pi0phot2_phi\", (bins, -180, 180), r\"$\\phi$ $(^{\\circ})$\"]\n",
    "]\n",
    "\n",
    "phot2_t_distros = [\n",
    "    [\"truPi0phot2_px\", (bins, -1, 1), r\"$p_{x}$ $(GeV/c^{2})$\"],\n",
    "    [\"truPi0phot2_py\", (bins, -1, 1), r\"$p_{y}$ $(GeV/c^{2})$\"],\n",
    "    [\"truPi0phot2_pz\", (bins, 0, 4), r\"$p_{z}$ $(GeV/c^{2})$\"],\n",
    "    [\"truPi0phot2_E\", (bins, 0, 4), r\"$ E$ $(GeV)$\"],\n",
    "    [\"truPi0phot2_magP\", (bins, 0, 4), r\"$|p|$ $(GeV/c^{2})$\"],\n",
    "    [\"truPi0phot2_pT\", (bins, 0, 1), r\"$p_{T}$ $(GeV/c^{2})$\"],\n",
    "    [\"truPi0phot2_theta\", (bins, 0, 40), r\"$\\theta$ $(^{\\circ})$\"],\n",
    "    [\"truPi0phot2_phi\", (bins, -180, 180), r\"$\\phi$ $(^{\\circ})$\"]\n",
    "]"
   ]
  },
  {
   "cell_type": "code",
   "execution_count": 13,
   "id": "addressed-oracle",
   "metadata": {},
   "outputs": [
    {
     "data": {
      "application/vnd.jupyter.widget-view+json": {
       "model_id": "db1636aab6a24134b1a9d3a7b6cf4eda",
       "version_major": 2,
       "version_minor": 0
      },
      "text/plain": [
       "Canvas(toolbar=Toolbar(toolitems=[('Home', 'Reset original view', 'home', 'home'), ('Back', 'Back to previous …"
      ]
     },
     "metadata": {},
     "output_type": "display_data"
    }
   ],
   "source": [
    "fig4, ax4 = plt.subplots(2,4, figsize=(15,10))\n",
    "ax4=ax4.flatten()\n",
    "\n",
    "fig4.suptitle('photons (2)', fontsize=16)\n",
    "\n",
    "for i, distro in enumerate(phot2_distros):\n",
    "    hist1D(ax4[i], MC_df, distro, cuts=(MC_df.Truth==1))\n",
    "    \n",
    "for i, distro in enumerate(phot2_t_distros):\n",
    "    ax=ax4[i].twinx()\n",
    "\n",
    "    hist1D(ax, MC_df, distro, cuts=(MC_df.Truth==1), color='brown', lalpha=0.7)"
   ]
  },
  {
   "cell_type": "markdown",
   "id": "average-frontier",
   "metadata": {},
   "source": [
    "## Particle Distributions - 'Trimmed'\n",
    "Truth-Matched Distributions for each final-state particle, with some additional cuts so isolate desired events:\n",
    "\n",
    "   * 3$\\sigma$ $\\pi_{0}$-mass cut\n",
    "   * Neutrons\n",
    "      * CND only\n",
    "      * |p| > 350 MeV\n",
    "   * Photons\n",
    "      * Require hit in the PCAL"
   ]
  },
  {
   "cell_type": "code",
   "execution_count": 14,
   "id": "similar-heater",
   "metadata": {},
   "outputs": [],
   "source": [
    "cuts = [\n",
    "    (MC_df.Pi0flag_cut_3sigPi0IM == 1),\n",
    "    ((MC_df.Pi0rec_status > 3990) & (MC_df.Pi0rec_status < 4150)),\n",
    "    (MC_df.Pi0rec_magP >= 0.35),\n",
    "    (MC_df.hitPCAL == 1),\n",
    "    (MC_df.Truth==1)\n",
    "]\n",
    "\n",
    "cut = ft.reduce(lambda x, y: x & y, cuts[:])\n"
   ]
  },
  {
   "cell_type": "code",
   "execution_count": 15,
   "id": "deadly-telephone",
   "metadata": {},
   "outputs": [
    {
     "data": {
      "application/vnd.jupyter.widget-view+json": {
       "model_id": "faed150ecc234117b5cf58442410e4b0",
       "version_major": 2,
       "version_minor": 0
      },
      "text/plain": [
       "Canvas(toolbar=Toolbar(toolitems=[('Home', 'Reset original view', 'home', 'home'), ('Back', 'Back to previous …"
      ]
     },
     "metadata": {},
     "output_type": "display_data"
    }
   ],
   "source": [
    "fig5, ax5 = plt.subplots(2,4, figsize=(15,10))\n",
    "ax5=ax5.flatten()\n",
    "\n",
    "fig5.suptitle('electrons', fontsize=16)\n",
    "\n",
    "for i, distro in enumerate(e_distros):\n",
    "    hist1D(ax5[i], MC_df, distro, cuts=cut)\n",
    "\n",
    "for i, distro in enumerate(e_t_distros):\n",
    "    ax=ax5[i].twinx()\n",
    "\n",
    "    hist1D(ax, MC_df, distro, cuts=cut, color='brown', lalpha=0.7)"
   ]
  },
  {
   "cell_type": "code",
   "execution_count": 16,
   "id": "rubber-plain",
   "metadata": {},
   "outputs": [
    {
     "data": {
      "application/vnd.jupyter.widget-view+json": {
       "model_id": "fcb029a1eff04f29b8594dfaf596c9ad",
       "version_major": 2,
       "version_minor": 0
      },
      "text/plain": [
       "Canvas(toolbar=Toolbar(toolitems=[('Home', 'Reset original view', 'home', 'home'), ('Back', 'Back to previous …"
      ]
     },
     "metadata": {},
     "output_type": "display_data"
    }
   ],
   "source": [
    "fig6, ax6 = plt.subplots(2,4, figsize=(15,10))\n",
    "ax6=ax6.flatten()\n",
    "\n",
    "fig6.suptitle('neutrons', fontsize=16)\n",
    "\n",
    "for i, distro in enumerate(neut_distros):\n",
    "    hist1D(ax6[i], MC_df, distro, cuts=cut)\n",
    "    \n",
    "for i, distro in enumerate(neut_t_distros):\n",
    "    ax=ax6[i].twinx()\n",
    "\n",
    "    hist1D(ax, MC_df, distro, cuts=cut, color='brown', lalpha=0.7)"
   ]
  },
  {
   "cell_type": "code",
   "execution_count": 18,
   "id": "refined-wells",
   "metadata": {},
   "outputs": [
    {
     "data": {
      "application/vnd.jupyter.widget-view+json": {
       "model_id": "b8bd8a000c524599910f63f8349d7599",
       "version_major": 2,
       "version_minor": 0
      },
      "text/plain": [
       "Canvas(toolbar=Toolbar(toolitems=[('Home', 'Reset original view', 'home', 'home'), ('Back', 'Back to previous …"
      ]
     },
     "metadata": {},
     "output_type": "display_data"
    }
   ],
   "source": [
    "fig7, ax7 = plt.subplots(2,4, figsize=(15,10))\n",
    "ax7=ax7.flatten()\n",
    "\n",
    "fig7.suptitle('photons (1)', fontsize=16)\n",
    "\n",
    "for i, distro in enumerate(phot1_distros):\n",
    "    hist1D(ax7[i], MC_df, distro, cuts=cut)\n",
    "    \n",
    "for i, distro in enumerate(phot1_t_distros):\n",
    "    ax=ax7[i].twinx()\n",
    "\n",
    "    hist1D(ax, MC_df, distro, cuts=cut, color='brown', lalpha=0.7)"
   ]
  },
  {
   "cell_type": "code",
   "execution_count": 20,
   "id": "commercial-matter",
   "metadata": {},
   "outputs": [
    {
     "data": {
      "application/vnd.jupyter.widget-view+json": {
       "model_id": "6285347153cf4e93895f5976fba05017",
       "version_major": 2,
       "version_minor": 0
      },
      "text/plain": [
       "Canvas(toolbar=Toolbar(toolitems=[('Home', 'Reset original view', 'home', 'home'), ('Back', 'Back to previous …"
      ]
     },
     "metadata": {},
     "output_type": "display_data"
    }
   ],
   "source": [
    "fig8, ax8 = plt.subplots(2,4, figsize=(15,10))\n",
    "ax8=ax8.flatten()\n",
    "\n",
    "fig8.suptitle('photons (2)', fontsize=16)\n",
    "\n",
    "for i, distro in enumerate(phot2_distros):\n",
    "    hist1D(ax8[i], MC_df, distro, cuts=cut)\n",
    "    \n",
    "for i, distro in enumerate(phot2_t_distros):\n",
    "    ax=ax8[i].twinx()\n",
    "\n",
    "    hist1D(ax, MC_df, distro, cuts=cut, color='brown', lalpha=0.7)"
   ]
  },
  {
   "cell_type": "markdown",
   "id": "valuable-japanese",
   "metadata": {},
   "source": [
    "## Differences"
   ]
  },
  {
   "cell_type": "code",
   "execution_count": 21,
   "id": "liable-flour",
   "metadata": {},
   "outputs": [],
   "source": [
    "e_diff = [\n",
    "    ['deltaPi0e_px', (100, -1, 1), r\"$\\delta p_{x}$\"],\n",
    "    ['deltaPi0e_py', (100, -1, 1), r\"$\\delta p_{y}$\"],\n",
    "    ['deltaPi0e_pz', (100, -1, 1), r\"$\\delta p_{z}$\"],\n",
    "    ['deltaPi0e_E', (100, -1, 1), r\"$\\delta E$\"],\n",
    "    ['deltaPi0e_magP', (100, -1, 1), r\"$\\delta |p|$\"],\n",
    "    ['deltaPi0e_pT', (100, -1, 1), r\"$\\delta p_{T}$\"],\n",
    "    ['deltaPi0e_theta', (100, -1, 1), r\"$\\delta \\theta$\"],\n",
    "    ['deltaPi0e_phi', (100, -2, 2), r\"$\\delta \\phi$\"]\n",
    "]"
   ]
  },
  {
   "cell_type": "code",
   "execution_count": 22,
   "id": "provincial-blank",
   "metadata": {},
   "outputs": [
    {
     "data": {
      "application/vnd.jupyter.widget-view+json": {
       "model_id": "96c1c05888c54a8f86cdadaae9432a8c",
       "version_major": 2,
       "version_minor": 0
      },
      "text/plain": [
       "Canvas(toolbar=Toolbar(toolitems=[('Home', 'Reset original view', 'home', 'home'), ('Back', 'Back to previous …"
      ]
     },
     "metadata": {},
     "output_type": "display_data"
    }
   ],
   "source": [
    "fig9, ax9 = plt.subplots(2,4, figsize=(15,10))\n",
    "ax9=ax9.flatten()\n",
    "\n",
    "fig9.suptitle('electron (rec - gen)', fontsize=16)\n",
    "\n",
    "for i, distro in enumerate(e_diff):\n",
    "    hist1D(ax9[i], MC_df, distro, cuts=cut, color='orangered', lalpha=0.7)"
   ]
  },
  {
   "cell_type": "code",
   "execution_count": 24,
   "id": "ignored-postcard",
   "metadata": {},
   "outputs": [],
   "source": [
    "neut_diff = [\n",
    "    ['deltaPi0rec_px', (100, -1, 1), r\"$\\delta p_{x}$\"],\n",
    "    ['deltaPi0rec_py', (100, -1, 1), r\"$\\delta p_{y}$\"],\n",
    "    ['deltaPi0rec_pz', (100, -1, 1), r\"$\\delta p_{z}$\"],\n",
    "    ['deltaPi0rec_E', (100, -1, 1), r\"$\\delta E$\"],\n",
    "    ['deltaPi0rec_magP', (100, -1, 1), r\"$\\delta |p|$\"],\n",
    "    ['deltaPi0rec_pT', (100, -1, 1), r\"$\\delta p_{T}$\"],\n",
    "    ['deltaPi0rec_theta', (100, -10, 10), r\"$\\delta \\theta$\"],\n",
    "    ['deltaPi0rec_phi', (100, -20, 20), r\"$\\delta \\phi$\"]\n",
    "]"
   ]
  },
  {
   "cell_type": "code",
   "execution_count": 25,
   "id": "voluntary-fantasy",
   "metadata": {},
   "outputs": [
    {
     "data": {
      "application/vnd.jupyter.widget-view+json": {
       "model_id": "ca2cab6cf21841abad5cfd8c9cdc919e",
       "version_major": 2,
       "version_minor": 0
      },
      "text/plain": [
       "Canvas(toolbar=Toolbar(toolitems=[('Home', 'Reset original view', 'home', 'home'), ('Back', 'Back to previous …"
      ]
     },
     "metadata": {},
     "output_type": "display_data"
    }
   ],
   "source": [
    "fig10, ax10 = plt.subplots(2,4, figsize=(15,10))\n",
    "ax10=ax10.flatten()\n",
    "\n",
    "fig10.suptitle('neutron (rec - gen)', fontsize=16)\n",
    "\n",
    "for i, distro in enumerate(neut_diff):\n",
    "    hist1D(ax10[i], MC_df, distro, cuts=cut, color='orangered', lalpha=0.7)"
   ]
  },
  {
   "cell_type": "code",
   "execution_count": 26,
   "id": "racial-spencer",
   "metadata": {},
   "outputs": [
    {
     "data": {
      "application/vnd.jupyter.widget-view+json": {
       "model_id": "12a22daadae64d4a85455705e305532b",
       "version_major": 2,
       "version_minor": 0
      },
      "text/plain": [
       "Canvas(toolbar=Toolbar(toolitems=[('Home', 'Reset original view', 'home', 'home'), ('Back', 'Back to previous …"
      ]
     },
     "metadata": {},
     "output_type": "display_data"
    }
   ],
   "source": [
    "neut_angles= [\n",
    "    \n",
    "    [\"deltaPi0rec_theta\", (200, -40, 50), r\"$\\delta\\theta$ $(^{\\circ})$\"],\n",
    "    [\"deltaPi0rec_phi\", (200, -60, 60), r\"$\\delta\\phi$ $(^{\\circ})$\"]\n",
    "]\n",
    "\n",
    "fig10b, ax10b = plt.subplots(1,2, figsize=(10,5))\n",
    "ax10b=ax10b.flatten()\n",
    "\n",
    "fig10b.suptitle('neutron (rec - gen) - wide range angles', fontsize=16)\n",
    "\n",
    "for i, distro in enumerate(neut_angles):\n",
    "    hist1D(ax10b[i], MC_df, distro, cuts=cut, color='orangered', lalpha=0.7)"
   ]
  },
  {
   "cell_type": "code",
   "execution_count": 27,
   "id": "original-conference",
   "metadata": {},
   "outputs": [],
   "source": [
    "phot1_diff = [\n",
    "    ['deltaPi0phot1_px', (100, -1, 1), r\"$\\delta p_{x}$\"],\n",
    "    ['deltaPi0phot1_py', (100, -1, 1), r\"$\\delta p_{y}$\"],\n",
    "    ['deltaPi0phot1_pz', (100, -1, 1), r\"$\\delta p_{z}$\"],\n",
    "    ['deltaPi0phot1_E', (100, -1, 1), r\"$\\delta E$\"],\n",
    "    ['deltaPi0phot1_magP', (100, -1, 1), r\"$\\delta |p|$\"],\n",
    "    ['deltaPi0phot1_pT', (100, -1, 1), r\"$\\delta p_{T}$\"],\n",
    "    ['deltaPi0phot1_theta', (100, -5, 5), r\"$\\delta \\theta$\"],\n",
    "    ['deltaPi0phot1_phi', (100, -5, 5), r\"$\\delta \\phi$\"]\n",
    "]"
   ]
  },
  {
   "cell_type": "code",
   "execution_count": 28,
   "id": "successful-immune",
   "metadata": {},
   "outputs": [
    {
     "data": {
      "application/vnd.jupyter.widget-view+json": {
       "model_id": "5b62ab06f1b6482599562f638b683a6c",
       "version_major": 2,
       "version_minor": 0
      },
      "text/plain": [
       "Canvas(toolbar=Toolbar(toolitems=[('Home', 'Reset original view', 'home', 'home'), ('Back', 'Back to previous …"
      ]
     },
     "metadata": {},
     "output_type": "display_data"
    }
   ],
   "source": [
    "fig11, ax11 = plt.subplots(2,4, figsize=(15,10))\n",
    "ax11=ax11.flatten()\n",
    "\n",
    "fig11.suptitle('photon(1) (rec - gen)', fontsize=16)\n",
    "\n",
    "for i, distro in enumerate(phot1_diff):\n",
    "    hist1D(ax11[i], MC_df, distro, cuts=cut, color='orangered', lalpha=0.7)"
   ]
  },
  {
   "cell_type": "code",
   "execution_count": 29,
   "id": "complex-fruit",
   "metadata": {},
   "outputs": [],
   "source": [
    "phot2_diff = [\n",
    "    ['deltaPi0phot2_px', (100, -1, 1), r\"$\\delta p_{x}$\"],\n",
    "    ['deltaPi0phot2_py', (100, -1, 1), r\"$\\delta p_{y}$\"],\n",
    "    ['deltaPi0phot2_pz', (100, -1, 1), r\"$\\delta p_{z}$\"],\n",
    "    ['deltaPi0phot2_E', (100, -1, 1), r\"$\\delta E$\"],\n",
    "    ['deltaPi0phot2_magP', (100, -1, 1), r\"$\\delta |p|$\"],\n",
    "    ['deltaPi0phot2_pT', (100, -1, 1), r\"$\\delta p_{T}$\"],\n",
    "    ['deltaPi0phot2_theta', (100, -5, 5), r\"$\\delta \\theta$\"],\n",
    "    ['deltaPi0phot2_phi', (100, -5, 5), r\"$\\delta \\phi$\"]\n",
    "]"
   ]
  },
  {
   "cell_type": "code",
   "execution_count": 30,
   "id": "amber-recruitment",
   "metadata": {},
   "outputs": [
    {
     "data": {
      "application/vnd.jupyter.widget-view+json": {
       "model_id": "67326b385baa4ab6ad5920cdb2d541b2",
       "version_major": 2,
       "version_minor": 0
      },
      "text/plain": [
       "Canvas(toolbar=Toolbar(toolitems=[('Home', 'Reset original view', 'home', 'home'), ('Back', 'Back to previous …"
      ]
     },
     "metadata": {},
     "output_type": "display_data"
    }
   ],
   "source": [
    "fig11, ax11 = plt.subplots(2,4, figsize=(15,10))\n",
    "ax11=ax11.flatten()\n",
    "\n",
    "fig11.suptitle('photon(2) (rec - gen)', fontsize=16)\n",
    "\n",
    "for i, distro in enumerate(phot1_diff):\n",
    "    hist1D(ax11[i], MC_df, distro, cuts=cut, color='orangered', lalpha=0.7)"
   ]
  },
  {
   "cell_type": "code",
   "execution_count": 31,
   "id": "young-omaha",
   "metadata": {},
   "outputs": [],
   "source": [
    "import sys\n",
    "sys.path.append(\"/home/pauln/code/nicks_plot_utils\")"
   ]
  },
  {
   "cell_type": "code",
   "execution_count": 32,
   "id": "attractive-clone",
   "metadata": {},
   "outputs": [],
   "source": [
    "from nicks_plot_utils import Hist1D as h1d\n",
    "from nicks_plot_utils import Hist2D as h2d"
   ]
  },
  {
   "cell_type": "code",
   "execution_count": 33,
   "id": "ranking-words",
   "metadata": {},
   "outputs": [],
   "source": [
    "plt.style.use('seaborn')\n",
    "plt.rcParams['axes.grid'] = True\n",
    "plt.rcParams['axes.formatter.limits'] = (-3,3)\n",
    "plt.rcParams['axes.formatter.use_mathtext'] = True\n",
    "plt.rcParams['font.size']= 16\n",
    "plt.rcParams['axes.labelsize'] = 14\n",
    "plt.rcParams['axes.titlesize'] = 14\n",
    "plt.rcParams['xtick.labelsize'] = 10\n",
    "plt.rcParams['ytick.labelsize'] = 10"
   ]
  },
  {
   "cell_type": "code",
   "execution_count": 34,
   "id": "parallel-austria",
   "metadata": {},
   "outputs": [],
   "source": [
    "neut_diff = [\n",
    "    ['deltaPi0rec_px', (100, -.5, .5), r\"$\\delta p_{x}$\"],\n",
    "    ['deltaPi0rec_py', (100, -.5, .5), r\"$\\delta p_{y}$\"],\n",
    "    ['deltaPi0rec_pz', (100, -.5, .5), r\"$\\delta p_{z}$\"],\n",
    "    ['deltaPi0rec_E', (100, -.5, .5), r\"$\\delta E$\"],\n",
    "    ['deltaPi0rec_magP', (100, -.5, .5), r\"$\\delta |p|$\"],\n",
    "    ['deltaPi0rec_pT', (100, -.5, .5), r\"$\\delta p_{T}$\"],\n",
    "    ['deltaPi0rec_theta', (100, -7, 7), r\"$\\delta \\theta$\"]\n",
    "]"
   ]
  },
  {
   "cell_type": "code",
   "execution_count": 35,
   "id": "comprehensive-graphics",
   "metadata": {},
   "outputs": [],
   "source": [
    "phi_2Ds = []\n",
    "# phi_xrange=[-10,50]\n",
    "# phi_xbins=100\n",
    "\n",
    "for distro in neut_diff:\n",
    "    var = distro[0]\n",
    "    rb = distro[1]\n",
    "    lbl= distro[2]\n",
    "    \n",
    "    h2 = h2d(xrange=[-10,50], xbins=100, yrange=[rb[1],rb[2]], ybins=rb[0], xname=r\"$\\delta \\phi$\", yname=lbl)\n",
    "    h2.fill(MC_df[\"deltaPi0rec_phi\"][cut], MC_df[var][cut])\n",
    "    \n",
    "    phi_2Ds.append(h2)\n",
    "\n"
   ]
  },
  {
   "cell_type": "code",
   "execution_count": 36,
   "id": "middle-steps",
   "metadata": {},
   "outputs": [],
   "source": [
    "neut_diff = [\n",
    "    ['deltaPi0rec_px', (100, -.5, .5), r\"$\\delta p_{x}$\"],\n",
    "    ['deltaPi0rec_py', (100, -.5, .5), r\"$\\delta p_{y}$\"],\n",
    "    ['deltaPi0rec_pz', (100, -.5, .5), r\"$\\delta p_{z}$\"],\n",
    "    ['deltaPi0rec_E', (100, -.5, .5), r\"$\\delta E$\"],\n",
    "    ['deltaPi0rec_magP', (100, -.5, .5), r\"$\\delta |p|$\"],\n",
    "    ['deltaPi0rec_pT', (100, -.5, .5), r\"$\\delta p_{T}$\"],\n",
    "    ['deltaPi0rec_phi', (100, -10, 50), r\"$\\delta \\phi$\"]\n",
    "]"
   ]
  },
  {
   "cell_type": "code",
   "execution_count": 37,
   "id": "completed-blanket",
   "metadata": {},
   "outputs": [],
   "source": [
    "theta_2Ds = []\n",
    "# phi_xrange=[-10,50]\n",
    "# phi_xbins=100\n",
    "\n",
    "for distro in neut_diff:\n",
    "    var = distro[0]\n",
    "    rb = distro[1]\n",
    "    lbl= distro[2]\n",
    "    \n",
    "    h2 = h2d(xrange=[-15,15], xbins=100, yrange=[rb[1],rb[2]], ybins=rb[0], xname=r\"$\\delta \\theta$\", yname=lbl)\n",
    "    h2.fill(MC_df[\"deltaPi0rec_theta\"][cut], MC_df[var][cut])\n",
    "    \n",
    "    theta_2Ds.append(h2)\n",
    "\n"
   ]
  },
  {
   "cell_type": "code",
   "execution_count": 39,
   "id": "temporal-profile",
   "metadata": {},
   "outputs": [
    {
     "data": {
      "application/vnd.jupyter.widget-view+json": {
       "model_id": "a7cccc0e10e945ee86c2305dcb2b6e85",
       "version_major": 2,
       "version_minor": 0
      },
      "text/plain": [
       "Canvas(toolbar=Toolbar(toolitems=[('Home', 'Reset original view', 'home', 'home'), ('Back', 'Back to previous …"
      ]
     },
     "metadata": {},
     "output_type": "display_data"
    }
   ],
   "source": [
    "fig,ax = plt.subplots(7,2, figsize=(15,25))\n",
    "\n",
    "for i,plot in enumerate(zip(phi_2Ds, theta_2Ds)):\n",
    "    plot[0].plot(ax=ax[i][0], density=False)\n",
    "    plot[1].plot(ax=ax[i][1], density=False)\n",
    "    \n",
    "plt.tight_layout()"
   ]
  },
  {
   "cell_type": "markdown",
   "id": "loaded-stanley",
   "metadata": {},
   "source": [
    "## Some follow up plots:"
   ]
  },
  {
   "cell_type": "code",
   "execution_count": 40,
   "id": "tight-invention",
   "metadata": {},
   "outputs": [
    {
     "data": {
      "text/plain": [
       "Histogram(\n",
       "  Regular(100, -30, 80),\n",
       "  Regular(100, 0, 1.75),\n",
       "  storage=Double()) # Sum: 273294.0 (316187.0 with flow)"
      ]
     },
     "execution_count": 40,
     "metadata": {},
     "output_type": "execute_result"
    }
   ],
   "source": [
    "dphi_theta = h2d(xrange=[-10,50], xbins=100, yrange=[0,70], ybins=100, xname=r\"$\\delta \\phi$\", yname=r\"$\\theta$\")\n",
    "dphi_theta.fill(MC_df[\"deltaPi0rec_phi\"][(MC_df.Truth == 1)], MC_df[\"Pi0rec_theta\"][(MC_df.Truth == 1)])\n",
    "\n",
    "dphi_p = h2d(xrange=[-30,80], xbins=100, yrange=[0,1.75], ybins=100, xname=r\"$\\delta \\phi$\", yname=r\"$|p|$\")\n",
    "dphi_p.fill(MC_df[\"deltaPi0rec_phi\"][(MC_df.Truth == 1)], MC_df[\"Pi0rec_magP\"][(MC_df.Truth == 1)])"
   ]
  },
  {
   "cell_type": "code",
   "execution_count": 41,
   "id": "south-idaho",
   "metadata": {},
   "outputs": [
    {
     "data": {
      "text/plain": [
       "Histogram(\n",
       "  Regular(100, -30, 80),\n",
       "  Regular(100, 0, 1.75),\n",
       "  storage=Double()) # Sum: 140899.0 (150651.0 with flow)"
      ]
     },
     "execution_count": 41,
     "metadata": {},
     "output_type": "execute_result"
    }
   ],
   "source": [
    "dphi_theta_cut = h2d(xrange=[-10,50], xbins=100, yrange=[0,70], ybins=100, xname=r\"$\\delta \\phi (cut)$\", yname=r\"$\\theta (cut)$\")\n",
    "dphi_theta_cut.fill(MC_df[\"deltaPi0rec_phi\"][cut], MC_df[\"Pi0rec_theta\"][cut])\n",
    "\n",
    "dphi_p_cut = h2d(xrange=[-30,80], xbins=100, yrange=[0,1.75], ybins=100, xname=r\"$\\delta \\phi (cut)$\", yname=r\"$|p| (cut)$\")\n",
    "dphi_p_cut.fill(MC_df[\"deltaPi0rec_phi\"][cut], MC_df[\"Pi0rec_magP\"][cut])"
   ]
  },
  {
   "cell_type": "code",
   "execution_count": 42,
   "id": "improved-flooring",
   "metadata": {},
   "outputs": [],
   "source": [
    "n_1D_Phi = h1d(data=MC_df[\"deltaPi0rec_phi\"][cut], xrange=[-30, 80], bins=100)\n"
   ]
  },
  {
   "cell_type": "code",
   "execution_count": 43,
   "id": "above-sucking",
   "metadata": {},
   "outputs": [
    {
     "data": {
      "application/vnd.jupyter.widget-view+json": {
       "model_id": "1051cd64a5c34cff9f4f6983d02c4be9",
       "version_major": 2,
       "version_minor": 0
      },
      "text/plain": [
       "Canvas(toolbar=Toolbar(toolitems=[('Home', 'Reset original view', 'home', 'home'), ('Back', 'Back to previous …"
      ]
     },
     "metadata": {},
     "output_type": "display_data"
    },
    {
     "name": "stderr",
     "output_type": "stream",
     "text": [
      "No handles with labels found to put in legend.\n"
     ]
    },
    {
     "data": {
      "text/plain": [
       "<matplotlib.collections.QuadMesh at 0x7f2a2858fd50>"
      ]
     },
     "execution_count": 43,
     "metadata": {},
     "output_type": "execute_result"
    }
   ],
   "source": [
    "fig, ax = plt.subplots(2,2, figsize=(17,15))\n",
    "ax=ax.flatten()\n",
    "\n",
    "dphi_theta.plot(ax=ax[0], density=False)\n",
    "dphi_p.plot(ax=ax[1], density=False)\n",
    "dphi_theta_cut.plot(ax=ax[2], density=False)\n",
    "n_1D_Phi.histogram(ax=ax[3], density=True, color=\"brown\")\n",
    "dphi_p_cut.plot(ax=ax[3], density=False)\n"
   ]
  },
  {
   "cell_type": "code",
   "execution_count": 44,
   "id": "cosmetic-brass",
   "metadata": {},
   "outputs": [
    {
     "data": {
      "application/vnd.jupyter.widget-view+json": {
       "model_id": "2b709e2caa054678bade0e041774fbef",
       "version_major": 2,
       "version_minor": 0
      },
      "text/plain": [
       "Canvas(toolbar=Toolbar(toolitems=[('Home', 'Reset original view', 'home', 'home'), ('Back', 'Back to previous …"
      ]
     },
     "metadata": {},
     "output_type": "display_data"
    }
   ],
   "source": [
    "fig, ax = plt.subplots(1, 3, figsize=(15,5))\n",
    "\n",
    "hist1D(ax[0], MC_df, [\"truPi0rec_phi\", (130, -180, 180), r\"$neutron$ $\\phi$ - [all truth]\"], color='brown', lalpha=.7)\n",
    "\n",
    "axb=ax[1].twinx()\n",
    "hist1D(ax[1], MC_df, [\"Pi0rec_phi\", (48, -180, 180), r\"$neutron$ $\\phi$ -  [truth & True==1]\"], cuts = (MC_df.Truth == 1))\n",
    "hist1D(axb, MC_df, [\"truPi0rec_phi\", (130, -180, 180), r\"$neutron$ $\\phi$ -  [truth & True==1]\"], cuts = (MC_df.Truth == 1), color='brown', lalpha=.7)\n",
    "\n",
    "hist1D(ax[2], MC_df, [\"Pi0rec_phi\", (48, -180, 180), r\"$neutron$ $\\phi$ -  [truth & True==1]\"], cuts = (MC_df.Truth == 1))\n",
    "axc=ax[2].twinx()\n",
    "hist1D(axc, MC_df, [\"truPi0rec_phi\", (48, -180, 180), r\"$neutron$ $\\phi$ - [truth  & True==1]\"], cuts = (MC_df.Truth == 1), color='brown', lalpha=.7)\n",
    "\n",
    "\n",
    "\n",
    "#def hist1D(ax, df, var, bins = None, cuts=None, y_err=False, color=None, lalpha=1, falpha=0.4, normed=False, filled = False, density = False, params={}):\n"
   ]
  },
  {
   "cell_type": "code",
   "execution_count": 45,
   "id": "declared-geometry",
   "metadata": {},
   "outputs": [],
   "source": [
    "dphi_truPhi = h2d(\n",
    "    ydata=MC_df[\"deltaPi0rec_phi\"][(MC_df.Truth == 1)],\n",
    "    xdata=MC_df[\"truPi0rec_phi\"][(MC_df.Truth == 1)],\n",
    "    yrange=[-10,50], \n",
    "    ybins=100, \n",
    "    xrange=[-180,180], \n",
    "    xbins=48, \n",
    "    yname=r\"$\\delta \\phi (cut)$\", \n",
    "    xname=r\"$true\\ \\phi$\"\n",
    ")\n",
    "\n",
    "dphi_Phi = h2d(\n",
    "    ydata=MC_df[\"deltaPi0rec_phi\"][(MC_df.Truth == 1)],\n",
    "    xdata=MC_df[\"Pi0rec_phi\"][(MC_df.Truth == 1)],\n",
    "    yrange=[-10,50], \n",
    "    ybins=100, \n",
    "    xrange=[-180,180], \n",
    "    xbins=48, \n",
    "    yname=r\"$\\delta \\phi (cut)$\", \n",
    "    xname=r\"$truth-matched\\ \\phi$\"\n",
    ")\n",
    "\n",
    "# n_1D_Phi = h1d(data=MC_df[\"Pi0rec_phi\"][(MC_df.Truth == 1)],\n",
    "#                xrange=[-180, 180],\n",
    "#                bins=48)\n",
    "# n_1D_truPhi = h1d(data=MC_df[\"truPi0rec_phi\"][(MC_df.Truth == 1)],\n",
    "#                xrange=[-180, 180],\n",
    "#                bins=48)"
   ]
  },
  {
   "cell_type": "code",
   "execution_count": 46,
   "id": "entitled-harris",
   "metadata": {},
   "outputs": [
    {
     "name": "stderr",
     "output_type": "stream",
     "text": [
      "/w/work3/home/pauln/conda-envs/pi0-ana/lib/python3.7/site-packages/ipykernel_launcher.py:1: RuntimeWarning: More than 20 figures have been opened. Figures created through the pyplot interface (`matplotlib.pyplot.figure`) are retained until explicitly closed and may consume too much memory. (To control this warning, see the rcParam `figure.max_open_warning`).\n",
      "  \"\"\"Entry point for launching an IPython kernel.\n"
     ]
    },
    {
     "data": {
      "application/vnd.jupyter.widget-view+json": {
       "model_id": "6c87e594df0c4590a6918c3c7e8b52cc",
       "version_major": 2,
       "version_minor": 0
      },
      "text/plain": [
       "Canvas(toolbar=Toolbar(toolitems=[('Home', 'Reset original view', 'home', 'home'), ('Back', 'Back to previous …"
      ]
     },
     "metadata": {},
     "output_type": "display_data"
    },
    {
     "data": {
      "text/plain": [
       "<matplotlib.collections.QuadMesh at 0x7f2a279f6750>"
      ]
     },
     "execution_count": 46,
     "metadata": {},
     "output_type": "execute_result"
    }
   ],
   "source": [
    "fig,ax = plt.subplots(2,2, figsize=(12,10))\n",
    "ax=ax.flatten()\n",
    "\n",
    "hist1D(ax[0], MC_df, [\"truPi0rec_phi\", (48, -180, 180), r\"$neutron$ $\\phi$ - [truth  & True==1]\"], cuts = (MC_df.Truth == 1), color='brown', lalpha=.7)\n",
    "hist1D(ax[1], MC_df, [\"Pi0rec_phi\", (48, -180, 180), r\"$neutron$ $\\phi$ -  [truth & True==1]\"], cuts = (MC_df.Truth == 1))\n",
    "\n",
    "dphi_truPhi.plot(ax=ax[2], density=False, colorbar=False)\n",
    "dphi_Phi.plot(ax=ax[3], density=False, colorbar=False)"
   ]
  },
  {
   "cell_type": "code",
   "execution_count": 47,
   "id": "norwegian-stuart",
   "metadata": {},
   "outputs": [
    {
     "data": {
      "application/vnd.jupyter.widget-view+json": {
       "model_id": "39685268a23d445096bd88248fbd25b3",
       "version_major": 2,
       "version_minor": 0
      },
      "text/plain": [
       "Canvas(toolbar=Toolbar(toolitems=[('Home', 'Reset original view', 'home', 'home'), ('Back', 'Back to previous …"
      ]
     },
     "metadata": {},
     "output_type": "display_data"
    }
   ],
   "source": [
    "fig,ax = plt.subplots(1,2, figsize=(12,6))\n",
    "\n",
    "\n",
    "dphi_truPhi.plot(ax=ax[0], density=False, colorbar=False)\n",
    "ax0=ax[0].twinx()\n",
    "ax0.grid(False)\n",
    "hist1D(ax0, MC_df, [\"truPi0rec_phi\", (48, -180, 180), r\"$neutron$ $\\phi$ - [truth  & True==1]\"], cuts = (MC_df.Truth == 1), color='brown', lalpha=.7)\n",
    "\n",
    "\n",
    "dphi_Phi.plot(ax=ax[1], density=False, colorbar=False)\n",
    "ax1=ax[1].twinx()\n",
    "ax1.grid(False)\n",
    "hist1D(ax1, MC_df, [\"Pi0rec_phi\", (48, -180, 180), r\"$neutron$ $\\phi$ -  [truth & True==1]\"], cuts = (MC_df.Truth == 1), color=\"blue\", lalpha=.5)\n",
    "\n"
   ]
  },
  {
   "cell_type": "code",
   "execution_count": 48,
   "id": "automatic-border",
   "metadata": {},
   "outputs": [],
   "source": [
    "dphi_truPhi = h2d(\n",
    "    ydata=MC_df[\"deltaPi0rec_phi\"][(MC_df.Truth == 1)],\n",
    "    xdata=MC_df[\"truPi0rec_phi\"][(MC_df.Truth == 1)],\n",
    "    yrange=[-9,9], \n",
    "    ybins=10, \n",
    "    xrange=[-180,180], \n",
    "    xbins=48, \n",
    "    yname=r\"$\\delta \\phi (cut)$\", \n",
    "    xname=r\"$true\\ \\phi$\"\n",
    ")\n",
    "\n",
    "dphi_Phi = h2d(\n",
    "    ydata=MC_df[\"deltaPi0rec_phi\"][(MC_df.Truth == 1)],\n",
    "    xdata=MC_df[\"Pi0rec_phi\"][(MC_df.Truth == 1)],\n",
    "    yrange=[-9,9], \n",
    "    ybins=10, \n",
    "    xrange=[-180,180], \n",
    "    xbins=48, \n",
    "    yname=r\"$\\delta \\phi (cut)$\", \n",
    "    xname=r\"$truth-matched\\ \\phi$\"\n",
    ")\n",
    "\n"
   ]
  },
  {
   "cell_type": "code",
   "execution_count": 49,
   "id": "received-giant",
   "metadata": {},
   "outputs": [
    {
     "data": {
      "application/vnd.jupyter.widget-view+json": {
       "model_id": "914670fbbd3e44459ce3733e998885dc",
       "version_major": 2,
       "version_minor": 0
      },
      "text/plain": [
       "Canvas(toolbar=Toolbar(toolitems=[('Home', 'Reset original view', 'home', 'home'), ('Back', 'Back to previous …"
      ]
     },
     "metadata": {},
     "output_type": "display_data"
    },
    {
     "data": {
      "text/plain": [
       "<matplotlib.collections.QuadMesh at 0x7f2a287dbe50>"
      ]
     },
     "execution_count": 49,
     "metadata": {},
     "output_type": "execute_result"
    }
   ],
   "source": [
    "fig,ax = plt.subplots(1,2, figsize=(13,5))\n",
    "dphi_truPhi.plot(ax=ax[0], density=False)\n",
    "dphi_Phi.plot(ax=ax[1], density=False)"
   ]
  },
  {
   "cell_type": "markdown",
   "id": "developed-softball",
   "metadata": {},
   "source": [
    "## Status Bank for the neutron\n",
    "Parameterises where in the detector suite an event has been detected.\n",
    "   * 4000 => CD hit\n",
    "   * \\+ 100 * N CTOF responses\n",
    "   * \\+ 10 * N CND responses \n",
    "   \n",
    "---\n",
    "\n",
    "We have: \n",
    "   * mostly CND only hits (4010)\n",
    "   * some CTOF only hits (4100)\n",
    "   * a few CTOF and CND events (4110)"
   ]
  },
  {
   "cell_type": "code",
   "execution_count": 50,
   "id": "perfect-phone",
   "metadata": {},
   "outputs": [
    {
     "data": {
      "application/vnd.jupyter.widget-view+json": {
       "model_id": "678ac90eb72b4174b616ff9432b30199",
       "version_major": 2,
       "version_minor": 0
      },
      "text/plain": [
       "Canvas(toolbar=Toolbar(toolitems=[('Home', 'Reset original view', 'home', 'home'), ('Back', 'Back to previous …"
      ]
     },
     "metadata": {},
     "output_type": "display_data"
    }
   ],
   "source": [
    "fig,ax = plt.subplots()\n",
    "hist1D(ax, MC_df, [\"Pi0rec_status\", (2000, 3950, 4150), r\"$neutron$ $status$\"], color='brown', lalpha=.7)"
   ]
  },
  {
   "cell_type": "code",
   "execution_count": 51,
   "id": "sorted-puzzle",
   "metadata": {},
   "outputs": [],
   "source": [
    "neut_diff = [\n",
    "    ['deltaPi0rec_px', (100, -1, 1), r\"$\\delta p_{x}$\"],\n",
    "    ['deltaPi0rec_py', (100, -1, 1), r\"$\\delta p_{y}$\"],\n",
    "    ['deltaPi0rec_pz', (100, -1, 1), r\"$\\delta p_{z}$\"],\n",
    "    ['deltaPi0rec_E', (100, -1, 1), r\"$\\delta E$\"],\n",
    "    ['deltaPi0rec_magP', (100, -1, 1), r\"$\\delta |p|$\"],\n",
    "    ['deltaPi0rec_pT', (100, -1, 1), r\"$\\delta p_{T}$\"],\n",
    "    ['deltaPi0rec_theta', (100, -10, 10), r\"$\\delta \\theta$\"],\n",
    "    ['deltaPi0rec_phi', (100, -20, 60), r\"$\\delta \\phi$\"]\n",
    "]"
   ]
  },
  {
   "cell_type": "code",
   "execution_count": 52,
   "id": "considerable-evolution",
   "metadata": {},
   "outputs": [
    {
     "data": {
      "application/vnd.jupyter.widget-view+json": {
       "model_id": "5f0d8f5984da416bbb520af194516cf5",
       "version_major": 2,
       "version_minor": 0
      },
      "text/plain": [
       "Canvas(toolbar=Toolbar(toolitems=[('Home', 'Reset original view', 'home', 'home'), ('Back', 'Back to previous …"
      ]
     },
     "metadata": {},
     "output_type": "display_data"
    },
    {
     "data": {
      "text/plain": [
       "<matplotlib.legend.Legend at 0x7f2a278cb390>"
      ]
     },
     "execution_count": 52,
     "metadata": {},
     "output_type": "execute_result"
    }
   ],
   "source": [
    "fig10, ax10 = plt.subplots(2,4, figsize=(15,10))\n",
    "ax10=ax10.flatten()\n",
    "\n",
    "fig10.suptitle('neutron (rec - gen)', fontsize=16)\n",
    "\n",
    "for i, distro in enumerate(neut_diff):\n",
    "    hist1D(ax10[i], MC_df, distro, cuts=cut&(MC_df.Pi0rec_status==4010), label=\"CND\", bins=50)\n",
    "    hist1D(ax10[i], MC_df, distro, cuts=cut&(MC_df.Pi0rec_status==4100), label=\"CTOF\", bins=50)\n",
    "    hist1D(ax10[i], MC_df, distro, cuts=cut&(MC_df.Pi0rec_status==4110), label=\"CND/CTOF\", bins=50)\n",
    "    \n",
    "ax10[3].legend(loc=1)"
   ]
  },
  {
   "cell_type": "code",
   "execution_count": 53,
   "id": "sexual-ethernet",
   "metadata": {},
   "outputs": [
    {
     "data": {
      "application/vnd.jupyter.widget-view+json": {
       "model_id": "efeea113da4f47348485e9d4b918257b",
       "version_major": 2,
       "version_minor": 0
      },
      "text/plain": [
       "Canvas(toolbar=Toolbar(toolitems=[('Home', 'Reset original view', 'home', 'home'), ('Back', 'Back to previous …"
      ]
     },
     "metadata": {},
     "output_type": "display_data"
    },
    {
     "data": {
      "text/plain": [
       "<matplotlib.legend.Legend at 0x7f2a27253ad0>"
      ]
     },
     "execution_count": 53,
     "metadata": {},
     "output_type": "execute_result"
    }
   ],
   "source": [
    "fig10, ax10 = plt.subplots(2,4, figsize=(15,10))\n",
    "ax10=ax10.flatten()\n",
    "\n",
    "fig10.suptitle('neutron (rec - gen)', fontsize=16)\n",
    "\n",
    "for i, distro in enumerate(neut_diff):\n",
    "    hist1D(ax10[i], MC_df, distro, cuts=cut&(MC_df.Pi0rec_status==4010), density=True, label=\"CND\", bins=50)\n",
    "    hist1D(ax10[i], MC_df, distro, cuts=cut&(MC_df.Pi0rec_status==4100), density=True, label=\"CTOF\", bins=50)\n",
    "    hist1D(ax10[i], MC_df, distro, cuts=cut&(MC_df.Pi0rec_status==4110), density=True, label=\"CND/CTOF\", bins=50)\n",
    "    \n",
    "ax10[3].legend(loc=1)"
   ]
  },
  {
   "cell_type": "code",
   "execution_count": 54,
   "id": "sexual-litigation",
   "metadata": {},
   "outputs": [],
   "source": [
    "dphi_p_stat1 = h2d(\n",
    "    xdata=MC_df[\"deltaPi0rec_phi\"][(MC_df.Truth == 1)&(MC_df.Pi0rec_status==4010)], \n",
    "    ydata=MC_df[\"Pi0rec_magP\"][(MC_df.Truth == 1)&(MC_df.Pi0rec_status==4010)], \n",
    "    xrange=[-30,80], \n",
    "    xbins=100, \n",
    "    yrange=[0,1.75], \n",
    "    ybins=100, \n",
    "    xname=r\"$\\delta \\phi (cut)$\", \n",
    "    yname=r\"$|p| (cut)$\"\n",
    ")\n",
    "\n",
    "dphi_p_stat2 = h2d(\n",
    "    xdata=MC_df[\"deltaPi0rec_phi\"][(MC_df.Truth == 1)&(MC_df.Pi0rec_status==4100)], \n",
    "    ydata=MC_df[\"Pi0rec_magP\"][(MC_df.Truth == 1)&(MC_df.Pi0rec_status==4100)], \n",
    "    xrange=[-30,80], \n",
    "    xbins=70, \n",
    "    yrange=[0,1.75], \n",
    "    ybins=70, \n",
    "    xname=r\"$\\delta \\phi (cut)$\", \n",
    "    yname=r\"$|p| (cut)$\"\n",
    ")\n",
    "\n",
    "dphi_p_stat3 = h2d(\n",
    "    xdata=MC_df[\"deltaPi0rec_phi\"][(MC_df.Truth == 1)&(MC_df.Pi0rec_status==4110)], \n",
    "    ydata=MC_df[\"Pi0rec_magP\"][(MC_df.Truth == 1)&(MC_df.Pi0rec_status==4110)], \n",
    "    xrange=[-30,80], \n",
    "    xbins=30, \n",
    "    yrange=[0,1.75], \n",
    "    ybins=30, \n",
    "    xname=r\"$\\delta \\phi (cut)$\", \n",
    "    yname=r\"$|p| (cut)$\"\n",
    ")\n"
   ]
  },
  {
   "cell_type": "code",
   "execution_count": 55,
   "id": "spatial-jamaica",
   "metadata": {},
   "outputs": [
    {
     "data": {
      "application/vnd.jupyter.widget-view+json": {
       "model_id": "30dfde069f614771ae9da753e5de35a2",
       "version_major": 2,
       "version_minor": 0
      },
      "text/plain": [
       "Canvas(toolbar=Toolbar(toolitems=[('Home', 'Reset original view', 'home', 'home'), ('Back', 'Back to previous …"
      ]
     },
     "metadata": {},
     "output_type": "display_data"
    },
    {
     "data": {
      "text/plain": [
       "<matplotlib.collections.QuadMesh at 0x7f2a26cb7a10>"
      ]
     },
     "execution_count": 55,
     "metadata": {},
     "output_type": "execute_result"
    }
   ],
   "source": [
    "fig,ax = plt.subplots(1,3, figsize=(15,5))\n",
    "\n",
    "dphi_p_stat1.plot(ax=ax[0], density=False)\n",
    "dphi_p_stat2.plot(ax=ax[1], density=False)\n",
    "dphi_p_stat3.plot(ax=ax[2], density=False)"
   ]
  },
  {
   "cell_type": "code",
   "execution_count": 56,
   "id": "unknown-bouquet",
   "metadata": {},
   "outputs": [],
   "source": [
    "dphi_phi_stat1 = h2d(\n",
    "    ydata=MC_df[\"deltaPi0rec_phi\"][(MC_df.Truth == 1)&(MC_df.Pi0rec_status==4010)], \n",
    "    xdata=MC_df[\"Pi0rec_phi\"][(MC_df.Truth == 1)&(MC_df.Pi0rec_status==4010)], \n",
    "    yrange=[-10,50], \n",
    "    ybins=80, \n",
    "    xrange=[-180,180], \n",
    "    xbins=48, \n",
    "    yname=r\"$\\delta \\phi (cut)$\", \n",
    "    xname=r\"$\\phi$\"\n",
    ")\n",
    "\n",
    "dphi_phi_stat2 = h2d(\n",
    "    ydata=MC_df[\"deltaPi0rec_phi\"][(MC_df.Truth == 1)&(MC_df.Pi0rec_status==4100)], \n",
    "    xdata=MC_df[\"Pi0rec_phi\"][(MC_df.Truth == 1)&(MC_df.Pi0rec_status==4100)], \n",
    "    yrange=[-10,50], \n",
    "    ybins=60, \n",
    "    xrange=[-180,180], \n",
    "    xbins=48, \n",
    "    yname=r\"$\\delta \\phi (cut)$\", \n",
    "    xname=r\"$\\phi$\"\n",
    ")\n",
    "\n",
    "dphi_phi_stat3 = h2d(\n",
    "    ydata=MC_df[\"deltaPi0rec_phi\"][(MC_df.Truth == 1)&(MC_df.Pi0rec_status==4110)], \n",
    "    xdata=MC_df[\"Pi0rec_phi\"][(MC_df.Truth == 1)&(MC_df.Pi0rec_status==4110)], \n",
    "    yrange=[-10,50], \n",
    "    ybins=20, \n",
    "    xrange=[-180,180], \n",
    "    xbins=48,  \n",
    "    yname=r\"$\\delta \\phi (cut)$\", \n",
    "    xname=r\"$\\phi$\"\n",
    ")\n"
   ]
  },
  {
   "cell_type": "code",
   "execution_count": 57,
   "id": "civil-agriculture",
   "metadata": {},
   "outputs": [
    {
     "data": {
      "application/vnd.jupyter.widget-view+json": {
       "model_id": "998eb4af58374c26ada5dfcf231330e4",
       "version_major": 2,
       "version_minor": 0
      },
      "text/plain": [
       "Canvas(toolbar=Toolbar(toolitems=[('Home', 'Reset original view', 'home', 'home'), ('Back', 'Back to previous …"
      ]
     },
     "metadata": {},
     "output_type": "display_data"
    },
    {
     "data": {
      "text/plain": [
       "<matplotlib.collections.QuadMesh at 0x7f2a279a1550>"
      ]
     },
     "execution_count": 57,
     "metadata": {},
     "output_type": "execute_result"
    }
   ],
   "source": [
    "fig,ax = plt.subplots(1,3, figsize=(15,5))\n",
    "\n",
    "dphi_phi_stat1.plot(ax=ax[0], density=False)\n",
    "dphi_phi_stat2.plot(ax=ax[1], density=False)\n",
    "dphi_phi_stat3.plot(ax=ax[2], density=False)"
   ]
  },
  {
   "cell_type": "code",
   "execution_count": 231,
   "id": "moral-linux",
   "metadata": {},
   "outputs": [],
   "source": [
    "dphi_Phi_stat1 = h2d(\n",
    "    ydata=MC_df[\"deltaPi0rec_phi\"][(MC_df.Truth == 1)&(MC_df.Pi0rec_status==4010)],\n",
    "    xdata=MC_df[\"Pi0rec_phi\"][(MC_df.Truth == 1)&(MC_df.Pi0rec_status==4010)],\n",
    "    yrange=[-9,9], \n",
    "    ybins=4, \n",
    "    xrange=[-180,180], \n",
    "    xbins=48, \n",
    "    yname=r\"$\\delta \\phi (cut)$\", \n",
    "    xname=r\"$truth-matched\\ \\phi$\"\n",
    ")\n",
    "\n",
    "dphi_Phi_stat2 = h2d(\n",
    "    ydata=MC_df[\"deltaPi0rec_phi\"][(MC_df.Truth == 1)&(MC_df.Pi0rec_status==4100)],\n",
    "    xdata=MC_df[\"Pi0rec_phi\"][(MC_df.Truth == 1)&(MC_df.Pi0rec_status==4100)],\n",
    "    yrange=[-9,9], \n",
    "    ybins=4, \n",
    "    xrange=[-180,180], \n",
    "    xbins=48, \n",
    "    yname=r\"$\\delta \\phi (cut)$\", \n",
    "    xname=r\"$truth-matched\\ \\phi$\"\n",
    ")\n",
    "\n",
    "dphi_Phi_stat3 = h2d(\n",
    "    ydata=MC_df[\"deltaPi0rec_phi\"][(MC_df.Truth == 1)&(MC_df.Pi0rec_status==4110)],\n",
    "    xdata=MC_df[\"Pi0rec_phi\"][(MC_df.Truth == 1)&(MC_df.Pi0rec_status==4110)],\n",
    "    yrange=[-9,9], \n",
    "    ybins=4, \n",
    "    xrange=[-180,180], \n",
    "    xbins=48, \n",
    "    yname=r\"$\\delta \\phi (cut)$\", \n",
    "    xname=r\"$truth-matched\\ \\phi$\"\n",
    ")\n",
    "\n"
   ]
  },
  {
   "cell_type": "code",
   "execution_count": 232,
   "id": "joint-nowhere",
   "metadata": {},
   "outputs": [
    {
     "data": {
      "application/vnd.jupyter.widget-view+json": {
       "model_id": "80dcf0a1f4424e7f9c2efaed338fda24",
       "version_major": 2,
       "version_minor": 0
      },
      "text/plain": [
       "Canvas(toolbar=Toolbar(toolitems=[('Home', 'Reset original view', 'home', 'home'), ('Back', 'Back to previous …"
      ]
     },
     "metadata": {},
     "output_type": "display_data"
    },
    {
     "data": {
      "text/plain": [
       "<matplotlib.collections.QuadMesh at 0x7f1ddf36d390>"
      ]
     },
     "execution_count": 232,
     "metadata": {},
     "output_type": "execute_result"
    }
   ],
   "source": [
    "fig,ax = plt.subplots(1,3, figsize=(18,5))\n",
    "\n",
    "dphi_Phi_stat1.plot(ax=ax[0], density=False)\n",
    "dphi_Phi_stat2.plot(ax=ax[1], density=False)\n",
    "dphi_Phi_stat3.plot(ax=ax[2], density=False)"
   ]
  },
  {
   "cell_type": "markdown",
   "id": "wooden-reply",
   "metadata": {},
   "source": [
    "## Adding PID matching on truth"
   ]
  },
  {
   "cell_type": "code",
   "execution_count": 83,
   "id": "entitled-behalf",
   "metadata": {},
   "outputs": [
    {
     "data": {
      "application/vnd.jupyter.widget-view+json": {
       "model_id": "73bdaf0a76ec4ad78db722b5f5a71228",
       "version_major": 2,
       "version_minor": 0
      },
      "text/plain": [
       "Canvas(toolbar=Toolbar(toolitems=[('Home', 'Reset original view', 'home', 'home'), ('Back', 'Back to previous …"
      ]
     },
     "metadata": {},
     "output_type": "display_data"
    }
   ],
   "source": [
    "fig2, ax2 = plt.subplots(2,4, figsize=(15,10))\n",
    "ax2=ax2.flatten()\n",
    "\n",
    "fig2.suptitle('neutrons', fontsize=16)\n",
    "\n",
    "for i, distro in enumerate(neut_distros):\n",
    "    hist1D(ax2[i], MC_df, distro, cuts=(MC_df.Truth==1)&(MC_df.Pi0flag_MC_neutrec==1))\n",
    "    \n",
    "for i, distro in enumerate(neut_t_distros):\n",
    "    ax=ax2[i].twinx()\n",
    "\n",
    "    hist1D(ax, MC_df, distro, cuts=(MC_df.Truth==1)&(MC_df.Pi0flag_MC_neutrec==1), color='brown', lalpha=0.7)"
   ]
  },
  {
   "cell_type": "code",
   "execution_count": 79,
   "id": "forbidden-gabriel",
   "metadata": {},
   "outputs": [
    {
     "data": {
      "application/vnd.jupyter.widget-view+json": {
       "model_id": "ad284cb944824b34aef7b40af552d015",
       "version_major": 2,
       "version_minor": 0
      },
      "text/plain": [
       "Canvas(toolbar=Toolbar(toolitems=[('Home', 'Reset original view', 'home', 'home'), ('Back', 'Back to previous …"
      ]
     },
     "metadata": {},
     "output_type": "display_data"
    }
   ],
   "source": [
    "fig6, ax6 = plt.subplots(2,4, figsize=(15,10))\n",
    "ax6=ax6.flatten()\n",
    "\n",
    "fig6.suptitle('neutrons', fontsize=16)\n",
    "\n",
    "for i, distro in enumerate(neut_distros):\n",
    "    hist1D(ax6[i], MC_df, distro, cuts=cut&(MC_df.Pi0flag_MC_neutrec==1))\n",
    "    \n",
    "for i, distro in enumerate(neut_t_distros):\n",
    "    ax=ax6[i].twinx()\n",
    "\n",
    "    hist1D(ax, MC_df, distro, cuts=cut&(MC_df.Pi0flag_MC_neutrec==1), color='brown', lalpha=0.7)"
   ]
  },
  {
   "cell_type": "code",
   "execution_count": 69,
   "id": "marine-equality",
   "metadata": {},
   "outputs": [],
   "source": [
    "neut_diff = [\n",
    "    ['deltaPi0rec_px', (100, -.5, .5), r\"$\\delta p_{x}$\"],\n",
    "    ['deltaPi0rec_py', (100, -.5, .5), r\"$\\delta p_{y}$\"],\n",
    "    ['deltaPi0rec_pz', (100, -.5, .5), r\"$\\delta p_{z}$\"],\n",
    "    ['deltaPi0rec_E', (100, -.5, .5), r\"$\\delta E$\"],\n",
    "    ['deltaPi0rec_magP', (100, -.5, .5), r\"$\\delta |p|$\"],\n",
    "    ['deltaPi0rec_pT', (100, -.5, .5), r\"$\\delta p_{T}$\"],\n",
    "    ['deltaPi0rec_theta', (100, -10, 10), r\"$\\delta \\theta$\"],    \n",
    "    ['deltaPi0rec_phi', (100, -10, 50), r\"$\\delta \\phi$\"]\n",
    "]"
   ]
  },
  {
   "cell_type": "code",
   "execution_count": 70,
   "id": "usual-namibia",
   "metadata": {},
   "outputs": [
    {
     "data": {
      "application/vnd.jupyter.widget-view+json": {
       "model_id": "26419e8f65a749ee80fbc8a8bc3ee82c",
       "version_major": 2,
       "version_minor": 0
      },
      "text/plain": [
       "Canvas(toolbar=Toolbar(toolitems=[('Home', 'Reset original view', 'home', 'home'), ('Back', 'Back to previous …"
      ]
     },
     "metadata": {},
     "output_type": "display_data"
    }
   ],
   "source": [
    "fig10, ax10 = plt.subplots(2,4, figsize=(15,10))\n",
    "ax10=ax10.flatten()\n",
    "\n",
    "fig10.suptitle('neutron (rec - gen)', fontsize=16)\n",
    "\n",
    "for i, distro in enumerate(neut_diff):\n",
    "    hist1D(ax10[i], MC_df, distro, cuts=cut&(MC_df.Pi0flag_MC_neutrec==1), color='orangered', lalpha=0.7)"
   ]
  },
  {
   "cell_type": "code",
   "execution_count": 234,
   "id": "black-neighborhood",
   "metadata": {},
   "outputs": [
    {
     "data": {
      "text/plain": [
       "Histogram(\n",
       "  Regular(100, -30, 80),\n",
       "  Regular(100, 0, 1.75),\n",
       "  storage=Double()) # Sum: 4683.0 (4779.0 with flow)"
      ]
     },
     "execution_count": 234,
     "metadata": {},
     "output_type": "execute_result"
    }
   ],
   "source": [
    "dphi_p_cut = h2d(xrange=[-30,80], xbins=100, yrange=[0,1.75], ybins=100, xname=r\"$\\delta \\phi (cut)$\", yname=r\"$|p| (cut)$\")\n",
    "dphi_p_cut.fill(MC_df[\"deltaPi0rec_phi\"][cut&(MC_df.Pi0flag_MC_neutrec==1)], MC_df[\"Pi0rec_magP\"][cut&(MC_df.Pi0flag_MC_neutrec==1)])"
   ]
  },
  {
   "cell_type": "code",
   "execution_count": 236,
   "id": "owned-rhythm",
   "metadata": {},
   "outputs": [
    {
     "data": {
      "application/vnd.jupyter.widget-view+json": {
       "model_id": "89876cfbf37549ccbf9ca09775f73988",
       "version_major": 2,
       "version_minor": 0
      },
      "text/plain": [
       "Canvas(toolbar=Toolbar(toolitems=[('Home', 'Reset original view', 'home', 'home'), ('Back', 'Back to previous …"
      ]
     },
     "metadata": {},
     "output_type": "display_data"
    },
    {
     "data": {
      "text/plain": [
       "<matplotlib.collections.QuadMesh at 0x7f1ddef7e3d0>"
      ]
     },
     "execution_count": 236,
     "metadata": {},
     "output_type": "execute_result"
    }
   ],
   "source": [
    "fig,ax = plt.subplots()\n",
    "dphi_p_cut.plot(ax=ax, density=False)"
   ]
  },
  {
   "cell_type": "code",
   "execution_count": null,
   "id": "engaged-posting",
   "metadata": {},
   "outputs": [],
   "source": []
  }
 ],
 "metadata": {
  "kernelspec": {
   "display_name": "pi0-ana",
   "language": "python",
   "name": "pi0-ana"
  },
  "language_info": {
   "codemirror_mode": {
    "name": "ipython",
    "version": 3
   },
   "file_extension": ".py",
   "mimetype": "text/x-python",
   "name": "python",
   "nbconvert_exporter": "python",
   "pygments_lexer": "ipython3",
   "version": "3.7.9"
  },
  "widgets": {
   "application/vnd.jupyter.widget-state+json": {
    "state": {
     "0227c38aff364b34bfff799d5d2e4095": {
      "model_module": "@jupyter-widgets/base",
      "model_module_version": "1.2.0",
      "model_name": "LayoutModel",
      "state": {}
     },
     "02ee260d2e3c4c3e9de5c3a1316713af": {
      "model_module": "@jupyter-widgets/base",
      "model_module_version": "1.2.0",
      "model_name": "LayoutModel",
      "state": {}
     },
     "0d6ed71b39084877bb9257a22a3286c2": {
      "model_module": "@jupyter-widgets/base",
      "model_module_version": "1.2.0",
      "model_name": "LayoutModel",
      "state": {}
     },
     "0f544c5ef0b34b638574fd681669293a": {
      "model_module": "jupyter-matplotlib",
      "model_module_version": "^0.8.3",
      "model_name": "ToolbarModel",
      "state": {
       "layout": "IPY_MODEL_165ef7f76ca04f859adcb66028408faf",
       "toolitems": [
        [
         "Home",
         "Reset original view",
         "home",
         "home"
        ],
        [
         "Back",
         "Back to previous view",
         "arrow-left",
         "back"
        ],
        [
         "Forward",
         "Forward to next view",
         "arrow-right",
         "forward"
        ],
        [
         "Pan",
         "Left button pans, Right button zooms\nx/y fixes axis, CTRL fixes aspect",
         "arrows",
         "pan"
        ],
        [
         "Zoom",
         "Zoom to rectangle\nx/y fixes axis, CTRL fixes aspect",
         "square-o",
         "zoom"
        ],
        [
         "Download",
         "Download plot",
         "floppy-o",
         "save_figure"
        ]
       ]
      }
     },
     "1051cd64a5c34cff9f4f6983d02c4be9": {
      "model_module": "jupyter-matplotlib",
      "model_module_version": "^0.8.3",
      "model_name": "MPLCanvasModel",
      "state": {
       "_cursor": "default",
       "_figure_label": "Figure 19",
       "_height": 1500,
       "_image_mode": "diff",
       "_width": 1700,
       "layout": "IPY_MODEL_dee8fe2006f84bcfb9532ee1202db38e",
       "toolbar": "IPY_MODEL_24a11198575948d4b7a58ad8891bc782",
       "toolbar_position": "left"
      }
     },
     "12993d48e65d48398fbb1a21f2fb4231": {
      "model_module": "@jupyter-widgets/base",
      "model_module_version": "1.2.0",
      "model_name": "LayoutModel",
      "state": {}
     },
     "12a22daadae64d4a85455705e305532b": {
      "model_module": "jupyter-matplotlib",
      "model_module_version": "^0.8.3",
      "model_name": "MPLCanvasModel",
      "state": {
       "_cursor": "default",
       "_figure_label": "Figure 14",
       "_height": 500,
       "_image_mode": "diff",
       "_width": 1000,
       "layout": "IPY_MODEL_413e4393f1f34b1bb3161d7a75d40324",
       "toolbar": "IPY_MODEL_ee3d5f52d0fc4a0dba16aa2761113dd2",
       "toolbar_position": "left"
      }
     },
     "1584e4313f5e4ffaaf23530d172a5613": {
      "model_module": "jupyter-matplotlib",
      "model_module_version": "^0.8.3",
      "model_name": "MPLCanvasModel",
      "state": {
       "_cursor": "default",
       "_figure_label": "Figure 1",
       "_height": 1000,
       "_image_mode": "diff",
       "_width": 1500,
       "layout": "IPY_MODEL_8afe3f8988064c578cb6a583584dee10",
       "toolbar": "IPY_MODEL_5fabe62f0d3445a79276245f19ee7394",
       "toolbar_position": "left"
      }
     },
     "165ef7f76ca04f859adcb66028408faf": {
      "model_module": "@jupyter-widgets/base",
      "model_module_version": "1.2.0",
      "model_name": "LayoutModel",
      "state": {}
     },
     "175572b4598242398df7233a432bc040": {
      "model_module": "jupyter-matplotlib",
      "model_module_version": "^0.8.3",
      "model_name": "ToolbarModel",
      "state": {
       "layout": "IPY_MODEL_f3fd4928701b4f7287b0d0ee11a9a5d1",
       "toolitems": [
        [
         "Home",
         "Reset original view",
         "home",
         "home"
        ],
        [
         "Back",
         "Back to previous view",
         "arrow-left",
         "back"
        ],
        [
         "Forward",
         "Forward to next view",
         "arrow-right",
         "forward"
        ],
        [
         "Pan",
         "Left button pans, Right button zooms\nx/y fixes axis, CTRL fixes aspect",
         "arrows",
         "pan"
        ],
        [
         "Zoom",
         "Zoom to rectangle\nx/y fixes axis, CTRL fixes aspect",
         "square-o",
         "zoom"
        ],
        [
         "Download",
         "Download plot",
         "floppy-o",
         "save_figure"
        ]
       ]
      }
     },
     "1c2aec0317324c7bade5884904cebd89": {
      "model_module": "@jupyter-widgets/base",
      "model_module_version": "1.2.0",
      "model_name": "LayoutModel",
      "state": {}
     },
     "1ce32df11788462f9c79f92dfdc748b9": {
      "model_module": "@jupyter-widgets/base",
      "model_module_version": "1.2.0",
      "model_name": "LayoutModel",
      "state": {}
     },
     "1d71b496f510409dabce8ad17c0d5d52": {
      "model_module": "@jupyter-widgets/base",
      "model_module_version": "1.2.0",
      "model_name": "LayoutModel",
      "state": {}
     },
     "2000d35677a145ecbead3d47963a80e2": {
      "model_module": "jupyter-matplotlib",
      "model_module_version": "^0.8.3",
      "model_name": "ToolbarModel",
      "state": {
       "layout": "IPY_MODEL_cccf726febad4cccba926b2ec9e53ef0",
       "toolitems": [
        [
         "Home",
         "Reset original view",
         "home",
         "home"
        ],
        [
         "Back",
         "Back to previous view",
         "arrow-left",
         "back"
        ],
        [
         "Forward",
         "Forward to next view",
         "arrow-right",
         "forward"
        ],
        [
         "Pan",
         "Left button pans, Right button zooms\nx/y fixes axis, CTRL fixes aspect",
         "arrows",
         "pan"
        ],
        [
         "Zoom",
         "Zoom to rectangle\nx/y fixes axis, CTRL fixes aspect",
         "square-o",
         "zoom"
        ],
        [
         "Download",
         "Download plot",
         "floppy-o",
         "save_figure"
        ]
       ]
      }
     },
     "201075c0233c49f9855ab4787fead6ac": {
      "model_module": "@jupyter-widgets/base",
      "model_module_version": "1.2.0",
      "model_name": "LayoutModel",
      "state": {}
     },
     "24a11198575948d4b7a58ad8891bc782": {
      "model_module": "jupyter-matplotlib",
      "model_module_version": "^0.8.3",
      "model_name": "ToolbarModel",
      "state": {
       "layout": "IPY_MODEL_fe89822e88f04ae69769684bb9d04642",
       "toolitems": [
        [
         "Home",
         "Reset original view",
         "home",
         "home"
        ],
        [
         "Back",
         "Back to previous view",
         "arrow-left",
         "back"
        ],
        [
         "Forward",
         "Forward to next view",
         "arrow-right",
         "forward"
        ],
        [
         "Pan",
         "Left button pans, Right button zooms\nx/y fixes axis, CTRL fixes aspect",
         "arrows",
         "pan"
        ],
        [
         "Zoom",
         "Zoom to rectangle\nx/y fixes axis, CTRL fixes aspect",
         "square-o",
         "zoom"
        ],
        [
         "Download",
         "Download plot",
         "floppy-o",
         "save_figure"
        ]
       ]
      }
     },
     "24b8b61c60aa454a96f61214228b77eb": {
      "model_module": "@jupyter-widgets/base",
      "model_module_version": "1.2.0",
      "model_name": "LayoutModel",
      "state": {}
     },
     "26543cd6ff6045bd827421947a7203de": {
      "model_module": "jupyter-matplotlib",
      "model_module_version": "^0.8.3",
      "model_name": "ToolbarModel",
      "state": {
       "layout": "IPY_MODEL_2fd9ab8bac2e49fc9acc01c8b81b19ed",
       "toolitems": [
        [
         "Home",
         "Reset original view",
         "home",
         "home"
        ],
        [
         "Back",
         "Back to previous view",
         "arrow-left",
         "back"
        ],
        [
         "Forward",
         "Forward to next view",
         "arrow-right",
         "forward"
        ],
        [
         "Pan",
         "Left button pans, Right button zooms\nx/y fixes axis, CTRL fixes aspect",
         "arrows",
         "pan"
        ],
        [
         "Zoom",
         "Zoom to rectangle\nx/y fixes axis, CTRL fixes aspect",
         "square-o",
         "zoom"
        ],
        [
         "Download",
         "Download plot",
         "floppy-o",
         "save_figure"
        ]
       ]
      }
     },
     "2b709e2caa054678bade0e041774fbef": {
      "model_module": "jupyter-matplotlib",
      "model_module_version": "^0.8.3",
      "model_name": "MPLCanvasModel",
      "state": {
       "_cursor": "default",
       "_figure_label": "Figure 20",
       "_height": 500,
       "_image_mode": "diff",
       "_width": 1500,
       "layout": "IPY_MODEL_964cfef73a8349a580c32f779821eb93",
       "toolbar": "IPY_MODEL_175572b4598242398df7233a432bc040",
       "toolbar_position": "left"
      }
     },
     "2bb48f5015e94984b59226614fddd578": {
      "model_module": "@jupyter-widgets/base",
      "model_module_version": "1.2.0",
      "model_name": "LayoutModel",
      "state": {}
     },
     "2fd9ab8bac2e49fc9acc01c8b81b19ed": {
      "model_module": "@jupyter-widgets/base",
      "model_module_version": "1.2.0",
      "model_name": "LayoutModel",
      "state": {}
     },
     "30dfde069f614771ae9da753e5de35a2": {
      "model_module": "jupyter-matplotlib",
      "model_module_version": "^0.8.3",
      "model_name": "MPLCanvasModel",
      "state": {
       "_cursor": "default",
       "_figure_label": "Figure 27",
       "_height": 500,
       "_image_mode": "diff",
       "_width": 1500,
       "layout": "IPY_MODEL_02ee260d2e3c4c3e9de5c3a1316713af",
       "toolbar": "IPY_MODEL_e2c2aa7b11fc4adda7e76c7aaee0ce01",
       "toolbar_position": "left"
      }
     },
     "332c5bdc13b64d57960e22c5299eb715": {
      "model_module": "jupyter-matplotlib",
      "model_module_version": "^0.8.3",
      "model_name": "ToolbarModel",
      "state": {
       "layout": "IPY_MODEL_7aa695c3791743fa9573213b51da96fd",
       "toolitems": [
        [
         "Home",
         "Reset original view",
         "home",
         "home"
        ],
        [
         "Back",
         "Back to previous view",
         "arrow-left",
         "back"
        ],
        [
         "Forward",
         "Forward to next view",
         "arrow-right",
         "forward"
        ],
        [
         "Pan",
         "Left button pans, Right button zooms\nx/y fixes axis, CTRL fixes aspect",
         "arrows",
         "pan"
        ],
        [
         "Zoom",
         "Zoom to rectangle\nx/y fixes axis, CTRL fixes aspect",
         "square-o",
         "zoom"
        ],
        [
         "Download",
         "Download plot",
         "floppy-o",
         "save_figure"
        ]
       ]
      }
     },
     "34504fc4e031438eb48eec41567abae9": {
      "model_module": "@jupyter-widgets/base",
      "model_module_version": "1.2.0",
      "model_name": "LayoutModel",
      "state": {}
     },
     "39685268a23d445096bd88248fbd25b3": {
      "model_module": "jupyter-matplotlib",
      "model_module_version": "^0.8.3",
      "model_name": "MPLCanvasModel",
      "state": {
       "_cursor": "default",
       "_figure_label": "Figure 22",
       "_height": 600,
       "_image_mode": "diff",
       "_width": 1200,
       "layout": "IPY_MODEL_f31f2ca3080d41c08b5a4c30a2cc0366",
       "toolbar": "IPY_MODEL_2000d35677a145ecbead3d47963a80e2",
       "toolbar_position": "left"
      }
     },
     "3ae583612ea64a65aa916a0e4a3f638e": {
      "model_module": "@jupyter-widgets/base",
      "model_module_version": "1.2.0",
      "model_name": "LayoutModel",
      "state": {}
     },
     "3bbeb86657fe499f855507d920785a92": {
      "model_module": "@jupyter-widgets/base",
      "model_module_version": "1.2.0",
      "model_name": "LayoutModel",
      "state": {}
     },
     "404a14fa8730454287e0ae43ad010ad7": {
      "model_module": "@jupyter-widgets/base",
      "model_module_version": "1.2.0",
      "model_name": "LayoutModel",
      "state": {}
     },
     "413e4393f1f34b1bb3161d7a75d40324": {
      "model_module": "@jupyter-widgets/base",
      "model_module_version": "1.2.0",
      "model_name": "LayoutModel",
      "state": {}
     },
     "4178014cf8ac4e51bf9872b1f91d94ac": {
      "model_module": "jupyter-matplotlib",
      "model_module_version": "^0.8.3",
      "model_name": "ToolbarModel",
      "state": {
       "layout": "IPY_MODEL_555870c2f9514748ad55c399255ba5c8",
       "toolitems": [
        [
         "Home",
         "Reset original view",
         "home",
         "home"
        ],
        [
         "Back",
         "Back to previous view",
         "arrow-left",
         "back"
        ],
        [
         "Forward",
         "Forward to next view",
         "arrow-right",
         "forward"
        ],
        [
         "Pan",
         "Left button pans, Right button zooms\nx/y fixes axis, CTRL fixes aspect",
         "arrows",
         "pan"
        ],
        [
         "Zoom",
         "Zoom to rectangle\nx/y fixes axis, CTRL fixes aspect",
         "square-o",
         "zoom"
        ],
        [
         "Download",
         "Download plot",
         "floppy-o",
         "save_figure"
        ]
       ]
      }
     },
     "418ae3ee1e474e05a46fac7aeb076668": {
      "model_module": "@jupyter-widgets/base",
      "model_module_version": "1.2.0",
      "model_name": "LayoutModel",
      "state": {}
     },
     "44ad15cc512642608929716f61905724": {
      "model_module": "@jupyter-widgets/base",
      "model_module_version": "1.2.0",
      "model_name": "LayoutModel",
      "state": {}
     },
     "45f7d772d30d4a4ba4482288d43e43c7": {
      "model_module": "jupyter-matplotlib",
      "model_module_version": "^0.8.3",
      "model_name": "ToolbarModel",
      "state": {
       "layout": "IPY_MODEL_f68588b6e9444b10a6ea0d7edf1c07ce",
       "toolitems": [
        [
         "Home",
         "Reset original view",
         "home",
         "home"
        ],
        [
         "Back",
         "Back to previous view",
         "arrow-left",
         "back"
        ],
        [
         "Forward",
         "Forward to next view",
         "arrow-right",
         "forward"
        ],
        [
         "Pan",
         "Left button pans, Right button zooms\nx/y fixes axis, CTRL fixes aspect",
         "arrows",
         "pan"
        ],
        [
         "Zoom",
         "Zoom to rectangle\nx/y fixes axis, CTRL fixes aspect",
         "square-o",
         "zoom"
        ],
        [
         "Download",
         "Download plot",
         "floppy-o",
         "save_figure"
        ]
       ]
      }
     },
     "4632b878b3834ef1bfc4d4e090837468": {
      "model_module": "@jupyter-widgets/base",
      "model_module_version": "1.2.0",
      "model_name": "LayoutModel",
      "state": {}
     },
     "4bba0393a8dc49a9bc0fa3ed2ce451d0": {
      "model_module": "@jupyter-widgets/base",
      "model_module_version": "1.2.0",
      "model_name": "LayoutModel",
      "state": {}
     },
     "4c214d0743f4423c920e3398df63c1db": {
      "model_module": "@jupyter-widgets/base",
      "model_module_version": "1.2.0",
      "model_name": "LayoutModel",
      "state": {}
     },
     "4dad5a0220f0474bb7a6354c9b1d221b": {
      "model_module": "jupyter-matplotlib",
      "model_module_version": "^0.8.3",
      "model_name": "ToolbarModel",
      "state": {
       "layout": "IPY_MODEL_dc55e9ecdb214a8099c62a109f6440d7",
       "toolitems": [
        [
         "Home",
         "Reset original view",
         "home",
         "home"
        ],
        [
         "Back",
         "Back to previous view",
         "arrow-left",
         "back"
        ],
        [
         "Forward",
         "Forward to next view",
         "arrow-right",
         "forward"
        ],
        [
         "Pan",
         "Left button pans, Right button zooms\nx/y fixes axis, CTRL fixes aspect",
         "arrows",
         "pan"
        ],
        [
         "Zoom",
         "Zoom to rectangle\nx/y fixes axis, CTRL fixes aspect",
         "square-o",
         "zoom"
        ],
        [
         "Download",
         "Download plot",
         "floppy-o",
         "save_figure"
        ]
       ]
      }
     },
     "4e96f6aa5bfc46ad9e80bc4a4a81a4aa": {
      "model_module": "jupyter-matplotlib",
      "model_module_version": "^0.8.3",
      "model_name": "ToolbarModel",
      "state": {
       "layout": "IPY_MODEL_404a14fa8730454287e0ae43ad010ad7",
       "toolitems": [
        [
         "Home",
         "Reset original view",
         "home",
         "home"
        ],
        [
         "Back",
         "Back to previous view",
         "arrow-left",
         "back"
        ],
        [
         "Forward",
         "Forward to next view",
         "arrow-right",
         "forward"
        ],
        [
         "Pan",
         "Left button pans, Right button zooms\nx/y fixes axis, CTRL fixes aspect",
         "arrows",
         "pan"
        ],
        [
         "Zoom",
         "Zoom to rectangle\nx/y fixes axis, CTRL fixes aspect",
         "square-o",
         "zoom"
        ],
        [
         "Download",
         "Download plot",
         "floppy-o",
         "save_figure"
        ]
       ]
      }
     },
     "51053f18c9a24eb18e96fda50661570c": {
      "model_module": "jupyter-matplotlib",
      "model_module_version": "^0.8.3",
      "model_name": "ToolbarModel",
      "state": {
       "layout": "IPY_MODEL_cdea025d0f0e4e0497bf1fd9c973ae36",
       "toolitems": [
        [
         "Home",
         "Reset original view",
         "home",
         "home"
        ],
        [
         "Back",
         "Back to previous view",
         "arrow-left",
         "back"
        ],
        [
         "Forward",
         "Forward to next view",
         "arrow-right",
         "forward"
        ],
        [
         "Pan",
         "Left button pans, Right button zooms\nx/y fixes axis, CTRL fixes aspect",
         "arrows",
         "pan"
        ],
        [
         "Zoom",
         "Zoom to rectangle\nx/y fixes axis, CTRL fixes aspect",
         "square-o",
         "zoom"
        ],
        [
         "Download",
         "Download plot",
         "floppy-o",
         "save_figure"
        ]
       ]
      }
     },
     "513693d349904431b8ce1e1048d37f24": {
      "model_module": "@jupyter-widgets/base",
      "model_module_version": "1.2.0",
      "model_name": "LayoutModel",
      "state": {}
     },
     "555870c2f9514748ad55c399255ba5c8": {
      "model_module": "@jupyter-widgets/base",
      "model_module_version": "1.2.0",
      "model_name": "LayoutModel",
      "state": {}
     },
     "56eb30bac61b42e6a995757027c4a312": {
      "model_module": "jupyter-matplotlib",
      "model_module_version": "^0.8.3",
      "model_name": "MPLCanvasModel",
      "state": {
       "_cursor": "default",
       "_figure_label": "Figure 2",
       "_height": 1000,
       "_image_mode": "diff",
       "_width": 1500,
       "layout": "IPY_MODEL_4c214d0743f4423c920e3398df63c1db",
       "toolbar": "IPY_MODEL_51053f18c9a24eb18e96fda50661570c",
       "toolbar_position": "left"
      }
     },
     "58e2a5db4b954845b36ae9480acac8c9": {
      "model_module": "@jupyter-widgets/base",
      "model_module_version": "1.2.0",
      "model_name": "LayoutModel",
      "state": {}
     },
     "5b62ab06f1b6482599562f638b683a6c": {
      "model_module": "jupyter-matplotlib",
      "model_module_version": "^0.8.3",
      "model_name": "MPLCanvasModel",
      "state": {
       "_cursor": "default",
       "_figure_label": "Figure 15",
       "_height": 1000,
       "_image_mode": "diff",
       "_width": 1500,
       "layout": "IPY_MODEL_f884f650ce684e9c8165e69af19efbe8",
       "toolbar": "IPY_MODEL_e4a2aa72cd5649f3badc95f81a7fae48",
       "toolbar_position": "left"
      }
     },
     "5d3c7ce61f7d4a568741a3174be9ddcd": {
      "model_module": "jupyter-matplotlib",
      "model_module_version": "^0.8.3",
      "model_name": "MPLCanvasModel",
      "state": {
       "_cursor": "default",
       "_figure_label": "Figure 7",
       "_height": 1000,
       "_image_mode": "diff",
       "_width": 1500,
       "layout": "IPY_MODEL_847d1d73c1c144d5a2be5b79a1203daa",
       "toolbar": "IPY_MODEL_ff85cf415abc4b2eb0572544beffb0b9",
       "toolbar_position": "left"
      }
     },
     "5f0d8f5984da416bbb520af194516cf5": {
      "model_module": "jupyter-matplotlib",
      "model_module_version": "^0.8.3",
      "model_name": "MPLCanvasModel",
      "state": {
       "_cursor": "default",
       "_figure_label": "Figure 25",
       "_height": 1000,
       "_image_mode": "diff",
       "_width": 1500,
       "layout": "IPY_MODEL_4bba0393a8dc49a9bc0fa3ed2ce451d0",
       "toolbar": "IPY_MODEL_d7d0ac2eb9df4cc1a511df5863ceee99",
       "toolbar_position": "left"
      }
     },
     "5fabe62f0d3445a79276245f19ee7394": {
      "model_module": "jupyter-matplotlib",
      "model_module_version": "^0.8.3",
      "model_name": "ToolbarModel",
      "state": {
       "layout": "IPY_MODEL_911c04e30fd241a1a2692372a027ff3d",
       "toolitems": [
        [
         "Home",
         "Reset original view",
         "home",
         "home"
        ],
        [
         "Back",
         "Back to previous view",
         "arrow-left",
         "back"
        ],
        [
         "Forward",
         "Forward to next view",
         "arrow-right",
         "forward"
        ],
        [
         "Pan",
         "Left button pans, Right button zooms\nx/y fixes axis, CTRL fixes aspect",
         "arrows",
         "pan"
        ],
        [
         "Zoom",
         "Zoom to rectangle\nx/y fixes axis, CTRL fixes aspect",
         "square-o",
         "zoom"
        ],
        [
         "Download",
         "Download plot",
         "floppy-o",
         "save_figure"
        ]
       ]
      }
     },
     "60b3674701c04df8b0486b570a7df342": {
      "model_module": "@jupyter-widgets/base",
      "model_module_version": "1.2.0",
      "model_name": "LayoutModel",
      "state": {}
     },
     "6285347153cf4e93895f5976fba05017": {
      "model_module": "jupyter-matplotlib",
      "model_module_version": "^0.8.3",
      "model_name": "MPLCanvasModel",
      "state": {
       "_cursor": "default",
       "_figure_label": "Figure 10",
       "_height": 1000,
       "_image_mode": "diff",
       "_width": 1500,
       "layout": "IPY_MODEL_e68e3272be2041e98728c4c802c60d08",
       "toolbar": "IPY_MODEL_86317565abfe4509bfa36277abed000b",
       "toolbar_position": "left"
      }
     },
     "67326b385baa4ab6ad5920cdb2d541b2": {
      "model_module": "jupyter-matplotlib",
      "model_module_version": "^0.8.3",
      "model_name": "MPLCanvasModel",
      "state": {
       "_cursor": "default",
       "_figure_label": "Figure 16",
       "_height": 1000,
       "_image_mode": "diff",
       "_width": 1500,
       "layout": "IPY_MODEL_bf67e2b48d734e43be48c197898250f7",
       "toolbar": "IPY_MODEL_f0977f00cc0a42a9bd292bf23d6dcdb1",
       "toolbar_position": "left"
      }
     },
     "678ac90eb72b4174b616ff9432b30199": {
      "model_module": "jupyter-matplotlib",
      "model_module_version": "^0.8.3",
      "model_name": "MPLCanvasModel",
      "state": {
       "_cursor": "default",
       "_figure_label": "Figure 24",
       "_height": 550,
       "_image_mode": "diff",
       "_width": 800,
       "layout": "IPY_MODEL_bf3fb6fe89d84de0acb14364d8c0a92d",
       "toolbar": "IPY_MODEL_0f544c5ef0b34b638574fd681669293a",
       "toolbar_position": "left"
      }
     },
     "6c87e594df0c4590a6918c3c7e8b52cc": {
      "model_module": "jupyter-matplotlib",
      "model_module_version": "^0.8.3",
      "model_name": "MPLCanvasModel",
      "state": {
       "_cursor": "default",
       "_figure_label": "Figure 21",
       "_height": 1000,
       "_image_mode": "diff",
       "_width": 1200,
       "layout": "IPY_MODEL_24b8b61c60aa454a96f61214228b77eb",
       "toolbar": "IPY_MODEL_e5ca08d78e324cbe84a7f6614637c2d2",
       "toolbar_position": "left"
      }
     },
     "7aa695c3791743fa9573213b51da96fd": {
      "model_module": "@jupyter-widgets/base",
      "model_module_version": "1.2.0",
      "model_name": "LayoutModel",
      "state": {}
     },
     "7facb09bef2e429c91b8549cd6cb3fe0": {
      "model_module": "jupyter-matplotlib",
      "model_module_version": "^0.8.3",
      "model_name": "ToolbarModel",
      "state": {
       "layout": "IPY_MODEL_60b3674701c04df8b0486b570a7df342",
       "toolitems": [
        [
         "Home",
         "Reset original view",
         "home",
         "home"
        ],
        [
         "Back",
         "Back to previous view",
         "arrow-left",
         "back"
        ],
        [
         "Forward",
         "Forward to next view",
         "arrow-right",
         "forward"
        ],
        [
         "Pan",
         "Left button pans, Right button zooms\nx/y fixes axis, CTRL fixes aspect",
         "arrows",
         "pan"
        ],
        [
         "Zoom",
         "Zoom to rectangle\nx/y fixes axis, CTRL fixes aspect",
         "square-o",
         "zoom"
        ],
        [
         "Download",
         "Download plot",
         "floppy-o",
         "save_figure"
        ]
       ]
      }
     },
     "80a35bc1b3354bd6b3bd15613ee82d2d": {
      "model_module": "@jupyter-widgets/base",
      "model_module_version": "1.2.0",
      "model_name": "LayoutModel",
      "state": {}
     },
     "814eb6cc5f8c49eda4eb0c13723cd06d": {
      "model_module": "jupyter-matplotlib",
      "model_module_version": "^0.8.3",
      "model_name": "MPLCanvasModel",
      "state": {
       "layout": "IPY_MODEL_1d71b496f510409dabce8ad17c0d5d52",
       "toolbar": "IPY_MODEL_f0739d16cf0743ff988e07bd60dd8fd9",
       "toolbar_position": "left"
      }
     },
     "847d1d73c1c144d5a2be5b79a1203daa": {
      "model_module": "@jupyter-widgets/base",
      "model_module_version": "1.2.0",
      "model_name": "LayoutModel",
      "state": {}
     },
     "86317565abfe4509bfa36277abed000b": {
      "model_module": "jupyter-matplotlib",
      "model_module_version": "^0.8.3",
      "model_name": "ToolbarModel",
      "state": {
       "layout": "IPY_MODEL_513693d349904431b8ce1e1048d37f24",
       "toolitems": [
        [
         "Home",
         "Reset original view",
         "home",
         "home"
        ],
        [
         "Back",
         "Back to previous view",
         "arrow-left",
         "back"
        ],
        [
         "Forward",
         "Forward to next view",
         "arrow-right",
         "forward"
        ],
        [
         "Pan",
         "Left button pans, Right button zooms\nx/y fixes axis, CTRL fixes aspect",
         "arrows",
         "pan"
        ],
        [
         "Zoom",
         "Zoom to rectangle\nx/y fixes axis, CTRL fixes aspect",
         "square-o",
         "zoom"
        ],
        [
         "Download",
         "Download plot",
         "floppy-o",
         "save_figure"
        ]
       ]
      }
     },
     "8864dad1538e4c4cba60f93a610bd28b": {
      "model_module": "jupyter-matplotlib",
      "model_module_version": "^0.8.3",
      "model_name": "MPLCanvasModel",
      "state": {
       "_cursor": "default",
       "_figure_label": "Figure 3",
       "_height": 1000,
       "_image_mode": "diff",
       "_width": 1500,
       "layout": "IPY_MODEL_3bbeb86657fe499f855507d920785a92",
       "toolbar": "IPY_MODEL_d8bccbd032e24d21808ea0e8f5d05f27",
       "toolbar_position": "left"
      }
     },
     "8a2a444fb9d74e239849c05fa4d6be85": {
      "model_module": "@jupyter-widgets/base",
      "model_module_version": "1.2.0",
      "model_name": "LayoutModel",
      "state": {}
     },
     "8afe3f8988064c578cb6a583584dee10": {
      "model_module": "@jupyter-widgets/base",
      "model_module_version": "1.2.0",
      "model_name": "LayoutModel",
      "state": {}
     },
     "911c04e30fd241a1a2692372a027ff3d": {
      "model_module": "@jupyter-widgets/base",
      "model_module_version": "1.2.0",
      "model_name": "LayoutModel",
      "state": {}
     },
     "914670fbbd3e44459ce3733e998885dc": {
      "model_module": "jupyter-matplotlib",
      "model_module_version": "^0.8.3",
      "model_name": "MPLCanvasModel",
      "state": {
       "_cursor": "default",
       "_figure_label": "Figure 23",
       "_height": 500,
       "_image_mode": "diff",
       "_width": 1300,
       "layout": "IPY_MODEL_d1ab3ffcc0674f0188c329c1d705f3e8",
       "toolbar": "IPY_MODEL_4e96f6aa5bfc46ad9e80bc4a4a81a4aa",
       "toolbar_position": "left"
      }
     },
     "964cfef73a8349a580c32f779821eb93": {
      "model_module": "@jupyter-widgets/base",
      "model_module_version": "1.2.0",
      "model_name": "LayoutModel",
      "state": {}
     },
     "96c1c05888c54a8f86cdadaae9432a8c": {
      "model_module": "jupyter-matplotlib",
      "model_module_version": "^0.8.3",
      "model_name": "MPLCanvasModel",
      "state": {
       "_cursor": "default",
       "_figure_label": "Figure 11",
       "_height": 1000,
       "_image_mode": "diff",
       "_width": 1500,
       "layout": "IPY_MODEL_3ae583612ea64a65aa916a0e4a3f638e",
       "toolbar": "IPY_MODEL_7facb09bef2e429c91b8549cd6cb3fe0",
       "toolbar_position": "left"
      }
     },
     "97da2fa1a1064b82946317a557f792fa": {
      "model_module": "@jupyter-widgets/base",
      "model_module_version": "1.2.0",
      "model_name": "LayoutModel",
      "state": {}
     },
     "998eb4af58374c26ada5dfcf231330e4": {
      "model_module": "jupyter-matplotlib",
      "model_module_version": "^0.8.3",
      "model_name": "MPLCanvasModel",
      "state": {
       "_cursor": "default",
       "_figure_label": "Figure 28",
       "_height": 500,
       "_image_mode": "diff",
       "_width": 1500,
       "layout": "IPY_MODEL_8a2a444fb9d74e239849c05fa4d6be85",
       "toolbar": "IPY_MODEL_9bc9d0e190774856831f76526cf31c64",
       "toolbar_position": "left"
      }
     },
     "9bc9d0e190774856831f76526cf31c64": {
      "model_module": "jupyter-matplotlib",
      "model_module_version": "^0.8.3",
      "model_name": "ToolbarModel",
      "state": {
       "layout": "IPY_MODEL_be25d06405f94bdeade48770612ad88c",
       "toolitems": [
        [
         "Home",
         "Reset original view",
         "home",
         "home"
        ],
        [
         "Back",
         "Back to previous view",
         "arrow-left",
         "back"
        ],
        [
         "Forward",
         "Forward to next view",
         "arrow-right",
         "forward"
        ],
        [
         "Pan",
         "Left button pans, Right button zooms\nx/y fixes axis, CTRL fixes aspect",
         "arrows",
         "pan"
        ],
        [
         "Zoom",
         "Zoom to rectangle\nx/y fixes axis, CTRL fixes aspect",
         "square-o",
         "zoom"
        ],
        [
         "Download",
         "Download plot",
         "floppy-o",
         "save_figure"
        ]
       ]
      }
     },
     "9f8beba17e574704a409e02327ff7a4b": {
      "model_module": "jupyter-matplotlib",
      "model_module_version": "^0.8.3",
      "model_name": "ToolbarModel",
      "state": {
       "layout": "IPY_MODEL_a630477f6f654a15a8a7a5581ce2d297",
       "toolitems": [
        [
         "Home",
         "Reset original view",
         "home",
         "home"
        ],
        [
         "Back",
         "Back to previous view",
         "arrow-left",
         "back"
        ],
        [
         "Forward",
         "Forward to next view",
         "arrow-right",
         "forward"
        ],
        [
         "Pan",
         "Left button pans, Right button zooms\nx/y fixes axis, CTRL fixes aspect",
         "arrows",
         "pan"
        ],
        [
         "Zoom",
         "Zoom to rectangle\nx/y fixes axis, CTRL fixes aspect",
         "square-o",
         "zoom"
        ],
        [
         "Download",
         "Download plot",
         "floppy-o",
         "save_figure"
        ]
       ]
      }
     },
     "a01e65b5b35b496d89608a344f83ea94": {
      "model_module": "@jupyter-widgets/base",
      "model_module_version": "1.2.0",
      "model_name": "LayoutModel",
      "state": {}
     },
     "a630477f6f654a15a8a7a5581ce2d297": {
      "model_module": "@jupyter-widgets/base",
      "model_module_version": "1.2.0",
      "model_name": "LayoutModel",
      "state": {}
     },
     "a7cccc0e10e945ee86c2305dcb2b6e85": {
      "model_module": "jupyter-matplotlib",
      "model_module_version": "^0.8.3",
      "model_name": "MPLCanvasModel",
      "state": {
       "_cursor": "default",
       "_figure_label": "Figure 18",
       "_height": 2500,
       "_image_mode": "diff",
       "_width": 1500,
       "layout": "IPY_MODEL_418ae3ee1e474e05a46fac7aeb076668",
       "toolbar": "IPY_MODEL_9f8beba17e574704a409e02327ff7a4b",
       "toolbar_position": "left"
      }
     },
     "b4cf44f3a7bd4ba9937a1b650519863f": {
      "model_module": "@jupyter-widgets/base",
      "model_module_version": "1.2.0",
      "model_name": "LayoutModel",
      "state": {}
     },
     "b8bd8a000c524599910f63f8349d7599": {
      "model_module": "jupyter-matplotlib",
      "model_module_version": "^0.8.3",
      "model_name": "MPLCanvasModel",
      "state": {
       "_cursor": "default",
       "_figure_label": "Figure 8",
       "_height": 1000,
       "_image_mode": "diff",
       "_width": 1500,
       "layout": "IPY_MODEL_cc75fe5a8c0948c892cac75b939d395b",
       "toolbar": "IPY_MODEL_4dad5a0220f0474bb7a6354c9b1d221b",
       "toolbar_position": "left"
      }
     },
     "bb148409870f4a6cabafd695d507894c": {
      "model_module": "@jupyter-widgets/base",
      "model_module_version": "1.2.0",
      "model_name": "LayoutModel",
      "state": {}
     },
     "be25d06405f94bdeade48770612ad88c": {
      "model_module": "@jupyter-widgets/base",
      "model_module_version": "1.2.0",
      "model_name": "LayoutModel",
      "state": {}
     },
     "bf3fb6fe89d84de0acb14364d8c0a92d": {
      "model_module": "@jupyter-widgets/base",
      "model_module_version": "1.2.0",
      "model_name": "LayoutModel",
      "state": {}
     },
     "bf67e2b48d734e43be48c197898250f7": {
      "model_module": "@jupyter-widgets/base",
      "model_module_version": "1.2.0",
      "model_name": "LayoutModel",
      "state": {}
     },
     "c8808813b0e0492d85f30e821ca553c0": {
      "model_module": "@jupyter-widgets/base",
      "model_module_version": "1.2.0",
      "model_name": "LayoutModel",
      "state": {}
     },
     "ca2cab6cf21841abad5cfd8c9cdc919e": {
      "model_module": "jupyter-matplotlib",
      "model_module_version": "^0.8.3",
      "model_name": "MPLCanvasModel",
      "state": {
       "_cursor": "default",
       "_figure_label": "Figure 13",
       "_height": 1000,
       "_image_mode": "diff",
       "_width": 1500,
       "layout": "IPY_MODEL_0227c38aff364b34bfff799d5d2e4095",
       "toolbar": "IPY_MODEL_ee2aae4ffc3743459d03019c3cac5370",
       "toolbar_position": "left"
      }
     },
     "cc75fe5a8c0948c892cac75b939d395b": {
      "model_module": "@jupyter-widgets/base",
      "model_module_version": "1.2.0",
      "model_name": "LayoutModel",
      "state": {}
     },
     "cccf726febad4cccba926b2ec9e53ef0": {
      "model_module": "@jupyter-widgets/base",
      "model_module_version": "1.2.0",
      "model_name": "LayoutModel",
      "state": {}
     },
     "cdea025d0f0e4e0497bf1fd9c973ae36": {
      "model_module": "@jupyter-widgets/base",
      "model_module_version": "1.2.0",
      "model_name": "LayoutModel",
      "state": {}
     },
     "d1ab3ffcc0674f0188c329c1d705f3e8": {
      "model_module": "@jupyter-widgets/base",
      "model_module_version": "1.2.0",
      "model_name": "LayoutModel",
      "state": {}
     },
     "d7d0ac2eb9df4cc1a511df5863ceee99": {
      "model_module": "jupyter-matplotlib",
      "model_module_version": "^0.8.3",
      "model_name": "ToolbarModel",
      "state": {
       "layout": "IPY_MODEL_44ad15cc512642608929716f61905724",
       "toolitems": [
        [
         "Home",
         "Reset original view",
         "home",
         "home"
        ],
        [
         "Back",
         "Back to previous view",
         "arrow-left",
         "back"
        ],
        [
         "Forward",
         "Forward to next view",
         "arrow-right",
         "forward"
        ],
        [
         "Pan",
         "Left button pans, Right button zooms\nx/y fixes axis, CTRL fixes aspect",
         "arrows",
         "pan"
        ],
        [
         "Zoom",
         "Zoom to rectangle\nx/y fixes axis, CTRL fixes aspect",
         "square-o",
         "zoom"
        ],
        [
         "Download",
         "Download plot",
         "floppy-o",
         "save_figure"
        ]
       ]
      }
     },
     "d8bccbd032e24d21808ea0e8f5d05f27": {
      "model_module": "jupyter-matplotlib",
      "model_module_version": "^0.8.3",
      "model_name": "ToolbarModel",
      "state": {
       "layout": "IPY_MODEL_80a35bc1b3354bd6b3bd15613ee82d2d",
       "toolitems": [
        [
         "Home",
         "Reset original view",
         "home",
         "home"
        ],
        [
         "Back",
         "Back to previous view",
         "arrow-left",
         "back"
        ],
        [
         "Forward",
         "Forward to next view",
         "arrow-right",
         "forward"
        ],
        [
         "Pan",
         "Left button pans, Right button zooms\nx/y fixes axis, CTRL fixes aspect",
         "arrows",
         "pan"
        ],
        [
         "Zoom",
         "Zoom to rectangle\nx/y fixes axis, CTRL fixes aspect",
         "square-o",
         "zoom"
        ],
        [
         "Download",
         "Download plot",
         "floppy-o",
         "save_figure"
        ]
       ]
      }
     },
     "d98211fbfdd649f9a0b93fff8cded171": {
      "model_module": "@jupyter-widgets/base",
      "model_module_version": "1.2.0",
      "model_name": "LayoutModel",
      "state": {}
     },
     "db1636aab6a24134b1a9d3a7b6cf4eda": {
      "model_module": "jupyter-matplotlib",
      "model_module_version": "^0.8.3",
      "model_name": "MPLCanvasModel",
      "state": {
       "_cursor": "default",
       "_figure_label": "Figure 4",
       "_height": 1000,
       "_image_mode": "diff",
       "_width": 1500,
       "layout": "IPY_MODEL_c8808813b0e0492d85f30e821ca553c0",
       "toolbar": "IPY_MODEL_26543cd6ff6045bd827421947a7203de",
       "toolbar_position": "left"
      }
     },
     "dc55e9ecdb214a8099c62a109f6440d7": {
      "model_module": "@jupyter-widgets/base",
      "model_module_version": "1.2.0",
      "model_name": "LayoutModel",
      "state": {}
     },
     "dee8fe2006f84bcfb9532ee1202db38e": {
      "model_module": "@jupyter-widgets/base",
      "model_module_version": "1.2.0",
      "model_name": "LayoutModel",
      "state": {}
     },
     "e2c2aa7b11fc4adda7e76c7aaee0ce01": {
      "model_module": "jupyter-matplotlib",
      "model_module_version": "^0.8.3",
      "model_name": "ToolbarModel",
      "state": {
       "layout": "IPY_MODEL_4632b878b3834ef1bfc4d4e090837468",
       "toolitems": [
        [
         "Home",
         "Reset original view",
         "home",
         "home"
        ],
        [
         "Back",
         "Back to previous view",
         "arrow-left",
         "back"
        ],
        [
         "Forward",
         "Forward to next view",
         "arrow-right",
         "forward"
        ],
        [
         "Pan",
         "Left button pans, Right button zooms\nx/y fixes axis, CTRL fixes aspect",
         "arrows",
         "pan"
        ],
        [
         "Zoom",
         "Zoom to rectangle\nx/y fixes axis, CTRL fixes aspect",
         "square-o",
         "zoom"
        ],
        [
         "Download",
         "Download plot",
         "floppy-o",
         "save_figure"
        ]
       ]
      }
     },
     "e4926c04841e4e9ca08dc82ebcbc7c01": {
      "model_module": "jupyter-matplotlib",
      "model_module_version": "^0.8.3",
      "model_name": "ToolbarModel",
      "state": {
       "layout": "IPY_MODEL_34504fc4e031438eb48eec41567abae9",
       "toolitems": [
        [
         "Home",
         "Reset original view",
         "home",
         "home"
        ],
        [
         "Back",
         "Back to previous view",
         "arrow-left",
         "back"
        ],
        [
         "Forward",
         "Forward to next view",
         "arrow-right",
         "forward"
        ],
        [
         "Pan",
         "Left button pans, Right button zooms\nx/y fixes axis, CTRL fixes aspect",
         "arrows",
         "pan"
        ],
        [
         "Zoom",
         "Zoom to rectangle\nx/y fixes axis, CTRL fixes aspect",
         "square-o",
         "zoom"
        ],
        [
         "Download",
         "Download plot",
         "floppy-o",
         "save_figure"
        ]
       ]
      }
     },
     "e4a2aa72cd5649f3badc95f81a7fae48": {
      "model_module": "jupyter-matplotlib",
      "model_module_version": "^0.8.3",
      "model_name": "ToolbarModel",
      "state": {
       "layout": "IPY_MODEL_e7065446e8544786a2e99e085b4483ac",
       "toolitems": [
        [
         "Home",
         "Reset original view",
         "home",
         "home"
        ],
        [
         "Back",
         "Back to previous view",
         "arrow-left",
         "back"
        ],
        [
         "Forward",
         "Forward to next view",
         "arrow-right",
         "forward"
        ],
        [
         "Pan",
         "Left button pans, Right button zooms\nx/y fixes axis, CTRL fixes aspect",
         "arrows",
         "pan"
        ],
        [
         "Zoom",
         "Zoom to rectangle\nx/y fixes axis, CTRL fixes aspect",
         "square-o",
         "zoom"
        ],
        [
         "Download",
         "Download plot",
         "floppy-o",
         "save_figure"
        ]
       ]
      }
     },
     "e5700d301c424a2ea306baa11f72e6f8": {
      "model_module": "jupyter-matplotlib",
      "model_module_version": "^0.8.3",
      "model_name": "ToolbarModel",
      "state": {
       "layout": "IPY_MODEL_2bb48f5015e94984b59226614fddd578",
       "toolitems": [
        [
         "Home",
         "Reset original view",
         "home",
         "home"
        ],
        [
         "Back",
         "Back to previous view",
         "arrow-left",
         "back"
        ],
        [
         "Forward",
         "Forward to next view",
         "arrow-right",
         "forward"
        ],
        [
         "Pan",
         "Left button pans, Right button zooms\nx/y fixes axis, CTRL fixes aspect",
         "arrows",
         "pan"
        ],
        [
         "Zoom",
         "Zoom to rectangle\nx/y fixes axis, CTRL fixes aspect",
         "square-o",
         "zoom"
        ],
        [
         "Download",
         "Download plot",
         "floppy-o",
         "save_figure"
        ]
       ]
      }
     },
     "e5ca08d78e324cbe84a7f6614637c2d2": {
      "model_module": "jupyter-matplotlib",
      "model_module_version": "^0.8.3",
      "model_name": "ToolbarModel",
      "state": {
       "layout": "IPY_MODEL_1ce32df11788462f9c79f92dfdc748b9",
       "toolitems": [
        [
         "Home",
         "Reset original view",
         "home",
         "home"
        ],
        [
         "Back",
         "Back to previous view",
         "arrow-left",
         "back"
        ],
        [
         "Forward",
         "Forward to next view",
         "arrow-right",
         "forward"
        ],
        [
         "Pan",
         "Left button pans, Right button zooms\nx/y fixes axis, CTRL fixes aspect",
         "arrows",
         "pan"
        ],
        [
         "Zoom",
         "Zoom to rectangle\nx/y fixes axis, CTRL fixes aspect",
         "square-o",
         "zoom"
        ],
        [
         "Download",
         "Download plot",
         "floppy-o",
         "save_figure"
        ]
       ]
      }
     },
     "e68e3272be2041e98728c4c802c60d08": {
      "model_module": "@jupyter-widgets/base",
      "model_module_version": "1.2.0",
      "model_name": "LayoutModel",
      "state": {}
     },
     "e6dbd5fa67a5477c9cb17aeace49d5c2": {
      "model_module": "jupyter-matplotlib",
      "model_module_version": "^0.8.3",
      "model_name": "MPLCanvasModel",
      "state": {
       "_cursor": "default",
       "_figure_label": "Figure 17",
       "_height": 2500,
       "_image_mode": "diff",
       "_width": 1500,
       "layout": "IPY_MODEL_1c2aec0317324c7bade5884904cebd89",
       "toolbar": "IPY_MODEL_4178014cf8ac4e51bf9872b1f91d94ac",
       "toolbar_position": "left"
      }
     },
     "e7065446e8544786a2e99e085b4483ac": {
      "model_module": "@jupyter-widgets/base",
      "model_module_version": "1.2.0",
      "model_name": "LayoutModel",
      "state": {}
     },
     "ee2aae4ffc3743459d03019c3cac5370": {
      "model_module": "jupyter-matplotlib",
      "model_module_version": "^0.8.3",
      "model_name": "ToolbarModel",
      "state": {
       "layout": "IPY_MODEL_0d6ed71b39084877bb9257a22a3286c2",
       "toolitems": [
        [
         "Home",
         "Reset original view",
         "home",
         "home"
        ],
        [
         "Back",
         "Back to previous view",
         "arrow-left",
         "back"
        ],
        [
         "Forward",
         "Forward to next view",
         "arrow-right",
         "forward"
        ],
        [
         "Pan",
         "Left button pans, Right button zooms\nx/y fixes axis, CTRL fixes aspect",
         "arrows",
         "pan"
        ],
        [
         "Zoom",
         "Zoom to rectangle\nx/y fixes axis, CTRL fixes aspect",
         "square-o",
         "zoom"
        ],
        [
         "Download",
         "Download plot",
         "floppy-o",
         "save_figure"
        ]
       ]
      }
     },
     "ee3d5f52d0fc4a0dba16aa2761113dd2": {
      "model_module": "jupyter-matplotlib",
      "model_module_version": "^0.8.3",
      "model_name": "ToolbarModel",
      "state": {
       "layout": "IPY_MODEL_bb148409870f4a6cabafd695d507894c",
       "toolitems": [
        [
         "Home",
         "Reset original view",
         "home",
         "home"
        ],
        [
         "Back",
         "Back to previous view",
         "arrow-left",
         "back"
        ],
        [
         "Forward",
         "Forward to next view",
         "arrow-right",
         "forward"
        ],
        [
         "Pan",
         "Left button pans, Right button zooms\nx/y fixes axis, CTRL fixes aspect",
         "arrows",
         "pan"
        ],
        [
         "Zoom",
         "Zoom to rectangle\nx/y fixes axis, CTRL fixes aspect",
         "square-o",
         "zoom"
        ],
        [
         "Download",
         "Download plot",
         "floppy-o",
         "save_figure"
        ]
       ]
      }
     },
     "efeea113da4f47348485e9d4b918257b": {
      "model_module": "jupyter-matplotlib",
      "model_module_version": "^0.8.3",
      "model_name": "MPLCanvasModel",
      "state": {
       "_cursor": "default",
       "_figure_label": "Figure 26",
       "_height": 1000,
       "_image_mode": "diff",
       "_width": 1500,
       "layout": "IPY_MODEL_12993d48e65d48398fbb1a21f2fb4231",
       "toolbar": "IPY_MODEL_332c5bdc13b64d57960e22c5299eb715",
       "toolbar_position": "left"
      }
     },
     "f0739d16cf0743ff988e07bd60dd8fd9": {
      "model_module": "jupyter-matplotlib",
      "model_module_version": "^0.8.3",
      "model_name": "ToolbarModel",
      "state": {
       "layout": "IPY_MODEL_97da2fa1a1064b82946317a557f792fa",
       "toolitems": [
        [
         "Home",
         "Reset original view",
         "home",
         "home"
        ],
        [
         "Back",
         "Back to previous view",
         "arrow-left",
         "back"
        ],
        [
         "Forward",
         "Forward to next view",
         "arrow-right",
         "forward"
        ],
        [
         "Pan",
         "Left button pans, Right button zooms\nx/y fixes axis, CTRL fixes aspect",
         "arrows",
         "pan"
        ],
        [
         "Zoom",
         "Zoom to rectangle\nx/y fixes axis, CTRL fixes aspect",
         "square-o",
         "zoom"
        ],
        [
         "Download",
         "Download plot",
         "floppy-o",
         "save_figure"
        ]
       ]
      }
     },
     "f0977f00cc0a42a9bd292bf23d6dcdb1": {
      "model_module": "jupyter-matplotlib",
      "model_module_version": "^0.8.3",
      "model_name": "ToolbarModel",
      "state": {
       "layout": "IPY_MODEL_b4cf44f3a7bd4ba9937a1b650519863f",
       "toolitems": [
        [
         "Home",
         "Reset original view",
         "home",
         "home"
        ],
        [
         "Back",
         "Back to previous view",
         "arrow-left",
         "back"
        ],
        [
         "Forward",
         "Forward to next view",
         "arrow-right",
         "forward"
        ],
        [
         "Pan",
         "Left button pans, Right button zooms\nx/y fixes axis, CTRL fixes aspect",
         "arrows",
         "pan"
        ],
        [
         "Zoom",
         "Zoom to rectangle\nx/y fixes axis, CTRL fixes aspect",
         "square-o",
         "zoom"
        ],
        [
         "Download",
         "Download plot",
         "floppy-o",
         "save_figure"
        ]
       ]
      }
     },
     "f31f2ca3080d41c08b5a4c30a2cc0366": {
      "model_module": "@jupyter-widgets/base",
      "model_module_version": "1.2.0",
      "model_name": "LayoutModel",
      "state": {}
     },
     "f3fd4928701b4f7287b0d0ee11a9a5d1": {
      "model_module": "@jupyter-widgets/base",
      "model_module_version": "1.2.0",
      "model_name": "LayoutModel",
      "state": {}
     },
     "f68588b6e9444b10a6ea0d7edf1c07ce": {
      "model_module": "@jupyter-widgets/base",
      "model_module_version": "1.2.0",
      "model_name": "LayoutModel",
      "state": {}
     },
     "f884f650ce684e9c8165e69af19efbe8": {
      "model_module": "@jupyter-widgets/base",
      "model_module_version": "1.2.0",
      "model_name": "LayoutModel",
      "state": {}
     },
     "faed150ecc234117b5cf58442410e4b0": {
      "model_module": "jupyter-matplotlib",
      "model_module_version": "^0.8.3",
      "model_name": "MPLCanvasModel",
      "state": {
       "_cursor": "default",
       "_figure_label": "Figure 5",
       "_height": 1000,
       "_image_mode": "diff",
       "_width": 1500,
       "layout": "IPY_MODEL_a01e65b5b35b496d89608a344f83ea94",
       "toolbar": "IPY_MODEL_e4926c04841e4e9ca08dc82ebcbc7c01",
       "toolbar_position": "left"
      }
     },
     "fcb029a1eff04f29b8594dfaf596c9ad": {
      "model_module": "jupyter-matplotlib",
      "model_module_version": "^0.8.3",
      "model_name": "MPLCanvasModel",
      "state": {
       "_cursor": "default",
       "_figure_label": "Figure 6",
       "_height": 1000,
       "_image_mode": "diff",
       "_message": "x=−0.01 y=7.1e+02",
       "_width": 1500,
       "layout": "IPY_MODEL_58e2a5db4b954845b36ae9480acac8c9",
       "toolbar": "IPY_MODEL_45f7d772d30d4a4ba4482288d43e43c7",
       "toolbar_position": "left"
      }
     },
     "fcee59a0f9dd48fe897be48bef0c452b": {
      "model_module": "jupyter-matplotlib",
      "model_module_version": "^0.8.3",
      "model_name": "MPLCanvasModel",
      "state": {
       "_cursor": "default",
       "_figure_label": "Figure 9",
       "_height": 1000,
       "_image_mode": "diff",
       "_width": 1500,
       "layout": "IPY_MODEL_201075c0233c49f9855ab4787fead6ac",
       "toolbar": "IPY_MODEL_e5700d301c424a2ea306baa11f72e6f8",
       "toolbar_position": "left"
      }
     },
     "fe89822e88f04ae69769684bb9d04642": {
      "model_module": "@jupyter-widgets/base",
      "model_module_version": "1.2.0",
      "model_name": "LayoutModel",
      "state": {}
     },
     "ff85cf415abc4b2eb0572544beffb0b9": {
      "model_module": "jupyter-matplotlib",
      "model_module_version": "^0.8.3",
      "model_name": "ToolbarModel",
      "state": {
       "layout": "IPY_MODEL_d98211fbfdd649f9a0b93fff8cded171",
       "toolitems": [
        [
         "Home",
         "Reset original view",
         "home",
         "home"
        ],
        [
         "Back",
         "Back to previous view",
         "arrow-left",
         "back"
        ],
        [
         "Forward",
         "Forward to next view",
         "arrow-right",
         "forward"
        ],
        [
         "Pan",
         "Left button pans, Right button zooms\nx/y fixes axis, CTRL fixes aspect",
         "arrows",
         "pan"
        ],
        [
         "Zoom",
         "Zoom to rectangle\nx/y fixes axis, CTRL fixes aspect",
         "square-o",
         "zoom"
        ],
        [
         "Download",
         "Download plot",
         "floppy-o",
         "save_figure"
        ]
       ]
      }
     }
    },
    "version_major": 2,
    "version_minor": 0
   }
  }
 },
 "nbformat": 4,
 "nbformat_minor": 5
}
