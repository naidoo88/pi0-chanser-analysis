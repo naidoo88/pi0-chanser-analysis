{
 "cells": [
  {
   "cell_type": "markdown",
   "id": "painful-airport",
   "metadata": {},
   "source": [
    "# MC Truth vs. Recon study\n",
    "Take a look at (the difference between) the reconstructed and truth values for final-state kinematic components."
   ]
  },
  {
   "cell_type": "code",
   "execution_count": 2,
   "id": "molecular-stupid",
   "metadata": {},
   "outputs": [],
   "source": [
    "import numpy as np\n",
    "import pandas as pd\n",
    "import uproot\n",
    "import boost_histogram as bh\n",
    "import functools as ft\n",
    "import matplotlib.pyplot as plt\n",
    "import matplotlib.colors as cols\n",
    "# %matplotlib notebook\n",
    "%matplotlib widget"
   ]
  },
  {
   "cell_type": "code",
   "execution_count": 3,
   "id": "rocky-price",
   "metadata": {},
   "outputs": [],
   "source": [
    "plt.style.use('seaborn')\n",
    "plt.rcParams['axes.grid'] = True\n",
    "plt.rcParams['axes.formatter.limits'] = (-3,3)\n",
    "plt.rcParams['axes.formatter.use_mathtext'] = True\n",
    "plt.rcParams['font.size']= 16\n",
    "plt.rcParams['axes.labelsize'] = 14\n",
    "plt.rcParams['axes.titlesize'] = 14\n",
    "plt.rcParams['xtick.labelsize'] = 10\n",
    "plt.rcParams['ytick.labelsize'] = 10"
   ]
  },
  {
   "cell_type": "code",
   "execution_count": 57,
   "id": "waiting-substitute",
   "metadata": {},
   "outputs": [],
   "source": [
    "#data_root_file = \"/w/work3/home/pauln/analysis/processed/chanser_ANAsub/pauln/Pi0_PID_fullcomb/FinalState.root\"\n",
    "MC_root_file = \"/w/work3/home/pauln/analysis/processed/chanser_MCsub/pauln/Pi0_PID_fullcomb/FinalState.root\"\n",
    "\n",
    "tree= \"FINALOUTTREE\"\n",
    "\n",
    "# data = uproot.open(data_root_file)[tree]\n",
    "# data_df = data.pandas.df()\n",
    "\n",
    "data = uproot.open(MC_root_file)[tree]\n",
    "MC_df = data.pandas.df()"
   ]
  },
  {
   "cell_type": "code",
   "execution_count": 168,
   "id": "cross-attitude",
   "metadata": {},
   "outputs": [],
   "source": [
    "def hist1D(ax, df, var, bins = None, cuts=None, y_err=False, color=None, lalpha=1, falpha=0.4, normed=False, filled = False, density = False, params={}, label=None):\n",
    "    #select next color in colormap for use in line and fill.\n",
    "    if color is None:\n",
    "        color = next(ax._get_lines.prop_cycler)['color']\n",
    "    \n",
    "    if cuts is not None: \n",
    "        data = df[var[0]][cuts]\n",
    "    else:\n",
    "        data = df[var[0]]\n",
    "        \n",
    "    #calculate area under the curve if wanting normalised plot    \n",
    "    weights = None\n",
    "    if normed is True:\n",
    "        entries, edges = np.histogram(\n",
    "            data,\n",
    "            range = (var[1][1], var[1][2]),\n",
    "            bins = var[1][0]        \n",
    "        )\n",
    "      \n",
    "        integral = sum(np.diff(edges)*entries)\n",
    "        weights = np.ones_like(data)/integral\n",
    "        \n",
    "    if bins is None: \n",
    "        bins = var[1][0]\n",
    "    \n",
    "    #Draw histogram\n",
    "    entries,edges,_ = ax.hist(data,\n",
    "    range = (var[1][1], var[1][2]),\n",
    "    bins = bins,\n",
    "    density = density,\n",
    "    weights=weights,\n",
    "    histtype = 'step',\n",
    "    linewidth = 1.5,\n",
    "    alpha=lalpha,\n",
    "    color = color,\n",
    "    label=label,\n",
    "    **params\n",
    "    )\n",
    " \n",
    "    #fill area under histo if set\n",
    "    if filled is True:\n",
    "        # brute-force: drawing it again to allow separate alpha(opacity) to be used\n",
    "        h = ax.hist(data,\n",
    "            range = (var[1][1], var[1][2]),\n",
    "            bins = bins,\n",
    "            density = density,\n",
    "            weights=weights,\n",
    "            histtype = 'step',\n",
    "            linewidth = None,\n",
    "            fill = True,\n",
    "            alpha = falpha,\n",
    "            color = color\n",
    "            )\n",
    "        \n",
    "    #error bars    \n",
    "    if y_err is True:\n",
    "        if normed is True: \n",
    "            yerr = np.sqrt(entries)/integral\n",
    "            entries = entries/integral\n",
    "        else:\n",
    "            entries, edges = np.histogram(\n",
    "                data,\n",
    "                range = (var[1][1], var[1][2]),\n",
    "                bins = bins       \n",
    "            )\n",
    "            yerr = np.sqrt(entries)\n",
    "            \n",
    "        bin_width = edges[1]-edges[0]\n",
    "        bin_centers = edges[:-1] + bin_width/2\n",
    "        ax.errorbar(bin_centers, entries, yerr=yerr, color='r', ls='', alpha=0.6, label='err', elinewidth=0.6)\n",
    "        \n",
    "        \n",
    "    #deal with automatic y-axis scaling funk\n",
    "    # if normed is True:\n",
    "    #     #axes = plt.gca()\n",
    "    #     ax.set_ylim([0,max(entries/integral)*1.1])\n",
    "\n",
    "    ax.set_xlabel(var[2])\n",
    "    ax.set_xlim(var[1][1], var[1][2])\n",
    "\n",
    "    \n",
    "    return #(entries, edges, yerr)"
   ]
  },
  {
   "cell_type": "code",
   "execution_count": 58,
   "id": "entitled-devil",
   "metadata": {},
   "outputs": [
    {
     "data": {
      "text/plain": [
       "['Pi0helicity',\n",
       " 'Pi0W2',\n",
       " 'Pi0Q2',\n",
       " 'Pi0xB',\n",
       " 'Pi0tneg',\n",
       " 'Pi0tneg_pi0',\n",
       " 'Pi0dtneg',\n",
       " 'Pi0IM_g1g2',\n",
       " 'Pi0MM2_total',\n",
       " 'Pi0MP_total',\n",
       " 'Pi0ME_total',\n",
       " 'Pi0MPt_total',\n",
       " 'Pi0pi0coneangle',\n",
       " 'Pi0eg1coneangle',\n",
       " 'Pi0eg2coneangle',\n",
       " 'Pi0recoilconeangle',\n",
       " 'Pi0MP_rec_recoil',\n",
       " 'Pi0MPt_rec_recoil',\n",
       " 'Pi0MM_rec_recoil',\n",
       " 'Pi0MM2_rec_recoil',\n",
       " 'Pi0MP_rec_spectator',\n",
       " 'Pi0MPt_rec_spectator',\n",
       " 'Pi0MM_rec_spectator',\n",
       " 'Pi0MM2_rec_spectator',\n",
       " 'Pi0phi_Nvg',\n",
       " 'Pi0phi_Nnew',\n",
       " 'Pi0phi_vgnew',\n",
       " 'Pi0cop_Nvg_vgnew',\n",
       " 'Pi0cop_Nvg_Nnew',\n",
       " 'Pi0cop_Nnew_vgnew',\n",
       " 'Pi0recon_recoil_T',\n",
       " 'Pi0recoil_T',\n",
       " 'Pi0dneutT',\n",
       " 'Pi0rec_px',\n",
       " 'Pi0rec_py',\n",
       " 'Pi0rec_pz',\n",
       " 'Pi0rec_E',\n",
       " 'Pi0rec_magP',\n",
       " 'Pi0rec_pT',\n",
       " 'Pi0rec_theta',\n",
       " 'Pi0rec_phi',\n",
       " 'Pi0rec_status',\n",
       " 'Pi0rec_PID',\n",
       " 'Pi0e_px',\n",
       " 'Pi0e_py',\n",
       " 'Pi0e_pz',\n",
       " 'Pi0e_E',\n",
       " 'Pi0e_magP',\n",
       " 'Pi0e_pT',\n",
       " 'Pi0e_theta',\n",
       " 'Pi0e_phi',\n",
       " 'Pi0e_status',\n",
       " 'Pi0phot1_px',\n",
       " 'Pi0phot1_py',\n",
       " 'Pi0phot1_pz',\n",
       " 'Pi0phot1_E',\n",
       " 'Pi0phot1_magP',\n",
       " 'Pi0phot1_pT',\n",
       " 'Pi0phot1_theta',\n",
       " 'Pi0phot1_phi',\n",
       " 'Pi0phot1_status',\n",
       " 'Pi0phot2_px',\n",
       " 'Pi0phot2_py',\n",
       " 'Pi0phot2_pz',\n",
       " 'Pi0phot2_E',\n",
       " 'Pi0phot2_magP',\n",
       " 'Pi0phot2_pT',\n",
       " 'Pi0phot2_theta',\n",
       " 'Pi0phot2_phi',\n",
       " 'Pi0phot2_status',\n",
       " 'Pi0rec_Beta',\n",
       " 'Pi0phot1_Beta',\n",
       " 'Pi0phot2_Beta',\n",
       " 'Pi0e_sampfrac',\n",
       " 'Pi0rcdb_Ebeam',\n",
       " 'Pi0flag_photon1_FT',\n",
       " 'Pi0flag_photon1_FD',\n",
       " 'Pi0flag_photon2_FT',\n",
       " 'Pi0flag_photon2_FD',\n",
       " 'Pi0flag_cut_3sigPi0IM',\n",
       " 'Pi0flag_MC_neutrec',\n",
       " 'truPi0helicity',\n",
       " 'truPi0W2',\n",
       " 'truPi0Q2',\n",
       " 'truPi0xB',\n",
       " 'truPi0tneg',\n",
       " 'truPi0tneg_pi0',\n",
       " 'truPi0dtneg',\n",
       " 'truPi0IM_g1g2',\n",
       " 'truPi0MM2_total',\n",
       " 'truPi0MP_total',\n",
       " 'truPi0ME_total',\n",
       " 'truPi0MPt_total',\n",
       " 'truPi0pi0coneangle',\n",
       " 'truPi0eg1coneangle',\n",
       " 'truPi0eg2coneangle',\n",
       " 'truPi0recoilconeangle',\n",
       " 'truPi0MP_rec_recoil',\n",
       " 'truPi0MPt_rec_recoil',\n",
       " 'truPi0MM_rec_recoil',\n",
       " 'truPi0MM2_rec_recoil',\n",
       " 'truPi0MP_rec_spectator',\n",
       " 'truPi0MPt_rec_spectator',\n",
       " 'truPi0MM_rec_spectator',\n",
       " 'truPi0MM2_rec_spectator',\n",
       " 'truPi0phi_Nvg',\n",
       " 'truPi0phi_Nnew',\n",
       " 'truPi0phi_vgnew',\n",
       " 'truPi0cop_Nvg_vgnew',\n",
       " 'truPi0cop_Nvg_Nnew',\n",
       " 'truPi0cop_Nnew_vgnew',\n",
       " 'truPi0recon_recoil_T',\n",
       " 'truPi0recoil_T',\n",
       " 'truPi0dneutT',\n",
       " 'truPi0rec_px',\n",
       " 'truPi0rec_py',\n",
       " 'truPi0rec_pz',\n",
       " 'truPi0rec_E',\n",
       " 'truPi0rec_magP',\n",
       " 'truPi0rec_pT',\n",
       " 'truPi0rec_theta',\n",
       " 'truPi0rec_phi',\n",
       " 'truPi0rec_status',\n",
       " 'truPi0rec_PID',\n",
       " 'truPi0e_px',\n",
       " 'truPi0e_py',\n",
       " 'truPi0e_pz',\n",
       " 'truPi0e_E',\n",
       " 'truPi0e_magP',\n",
       " 'truPi0e_pT',\n",
       " 'truPi0e_theta',\n",
       " 'truPi0e_phi',\n",
       " 'truPi0e_status',\n",
       " 'truPi0phot1_px',\n",
       " 'truPi0phot1_py',\n",
       " 'truPi0phot1_pz',\n",
       " 'truPi0phot1_E',\n",
       " 'truPi0phot1_magP',\n",
       " 'truPi0phot1_pT',\n",
       " 'truPi0phot1_theta',\n",
       " 'truPi0phot1_phi',\n",
       " 'truPi0phot1_status',\n",
       " 'truPi0phot2_px',\n",
       " 'truPi0phot2_py',\n",
       " 'truPi0phot2_pz',\n",
       " 'truPi0phot2_E',\n",
       " 'truPi0phot2_magP',\n",
       " 'truPi0phot2_pT',\n",
       " 'truPi0phot2_theta',\n",
       " 'truPi0phot2_phi',\n",
       " 'truPi0phot2_status',\n",
       " 'truPi0rec_Beta',\n",
       " 'truPi0phot1_Beta',\n",
       " 'truPi0phot2_Beta',\n",
       " 'truPi0e_sampfrac',\n",
       " 'truPi0rcdb_Ebeam',\n",
       " 'truPi0flag_photon1_FT',\n",
       " 'truPi0flag_photon1_FD',\n",
       " 'truPi0flag_photon2_FT',\n",
       " 'truPi0flag_photon2_FD',\n",
       " 'truPi0flag_cut_3sigPi0IM',\n",
       " 'truPi0flag_MC_neutrec',\n",
       " 'Topo',\n",
       " 'NPerm',\n",
       " 'Truth',\n",
       " 'ZeroKins',\n",
       " 'hitPCAL']"
      ]
     },
     "execution_count": 58,
     "metadata": {},
     "output_type": "execute_result"
    }
   ],
   "source": [
    "list(MC_df.columns)"
   ]
  },
  {
   "cell_type": "code",
   "execution_count": 60,
   "id": "assisted-football",
   "metadata": {},
   "outputs": [],
   "source": [
    "'''\n",
    "Lists through the columns in the df beginning with Pi0,\n",
    "taking the difference between this variable and the corresponding\n",
    "\"true\" value; adding this to a new column prepended \"delta\".\n",
    "'''\n",
    "\n",
    "for var in list(MC_df[[c for c in MC_df if c.startswith('Pi0')]].columns):\n",
    "    d_Str = \"delta\"+var\n",
    "    tru_Str = \"tru\"+var\n",
    "    \n",
    "    MC_df[d_Str] = MC_df[var] - MC_df[tru_Str]"
   ]
  },
  {
   "cell_type": "markdown",
   "id": "obvious-reset",
   "metadata": {},
   "source": [
    "## Particle Distributions \n",
    "\n",
    "Truth-Matched Distributions for each final-state particle."
   ]
  },
  {
   "cell_type": "code",
   "execution_count": 8,
   "id": "aquatic-musical",
   "metadata": {},
   "outputs": [],
   "source": [
    "bins = 200\n",
    "\n",
    "e_distros = [\n",
    "    [\"Pi0e_px\", (bins, -2, 2), r\"$p_{x}$ $(GeV/c^{2})$\"],\n",
    "    [\"Pi0e_py\", (bins, -2, 2), r\"$p_{y}$ $(GeV/c^{2})$\"],\n",
    "    [\"Pi0e_pz\", (bins, 0, 9), r\"$p_{z}$ $(GeV/c^{2})$\"],\n",
    "    [\"Pi0e_E\", (bins, 0, 9), r\"$E$ $(GeV)$\"],\n",
    "    [\"Pi0e_magP\", (bins, 0, 9), r\"$|p|$ $(GeV/c^{2})$\"],\n",
    "    [\"Pi0e_pT\", (bins, 0, 2), r\"$p_{T}$ $(GeV/c^{2})$\"],\n",
    "    [\"Pi0e_theta\", (bins, 0, 50), r\"$\\theta$ $(^{\\circ})$\"],\n",
    "    [\"Pi0e_phi\", (bins, -185, 185), r\"$\\phi$ $(^{\\circ})$\"]\n",
    "]\n",
    "\n",
    "e_t_distros = [\n",
    "    [\"truPi0e_px\", (bins, -2, 2), r\"$p_{x}$ $(GeV/c^{2})$\"],\n",
    "    [\"truPi0e_py\", (bins, -2, 2), r\"$p_{y}$ $(GeV/c^{2})$\"],\n",
    "    [\"truPi0e_pz\", (bins, 0, 9), r\"$p_{z}$ $(GeV/c^{2})$\"],\n",
    "    [\"truPi0e_E\", (bins, 0, 9), r\"$E$ $(GeV)$\"],\n",
    "    [\"truPi0e_magP\", (bins, 0, 9), r\"$|p|$ $(GeV/c^{2})$\"],\n",
    "    [\"truPi0e_pT\", (bins, 0, 2), r\"$p_{T}$ $(GeV/c^{2})$\"],\n",
    "    [\"truPi0e_theta\", (bins, 0, 50), r\"$\\theta$ $(^{\\circ})$\"],\n",
    "    [\"truPi0e_phi\", (bins, -185, 185), r\"$\\phi$ $(^{\\circ})$\"]\n",
    "]"
   ]
  },
  {
   "cell_type": "code",
   "execution_count": 9,
   "id": "flexible-disease",
   "metadata": {},
   "outputs": [
    {
     "data": {
      "application/vnd.jupyter.widget-view+json": {
       "model_id": "c9f0da3d3e6542738530106f18d9fc5d",
       "version_major": 2,
       "version_minor": 0
      },
      "text/plain": [
       "Canvas(toolbar=Toolbar(toolitems=[('Home', 'Reset original view', 'home', 'home'), ('Back', 'Back to previous …"
      ]
     },
     "metadata": {},
     "output_type": "display_data"
    }
   ],
   "source": [
    "fig1, ax1 = plt.subplots(2,4, figsize=(15,10))\n",
    "\n",
    "ax1=ax1.flatten()\n",
    "\n",
    "fig1.suptitle('electrons', fontsize=16)\n",
    "\n",
    "for i, distro in enumerate(e_distros):\n",
    "    hist1D(ax1[i], MC_df, distro, cuts=(MC_df.Truth==1))\n",
    "    \n",
    "for i, distro in enumerate(e_t_distros):\n",
    "    ax=ax1[i].twinx()\n",
    "\n",
    "    hist1D(ax, MC_df, distro, cuts=(MC_df.Truth==1), color='brown', lalpha=0.7)"
   ]
  },
  {
   "cell_type": "code",
   "execution_count": 72,
   "id": "senior-ceiling",
   "metadata": {},
   "outputs": [],
   "source": [
    "bins = 120\n",
    "\n",
    "neut_distros = [\n",
    "    [\"Pi0rec_px\", (bins, -2, 2), r\"$p_{x}$ $(GeV/c^{2})$\"],\n",
    "    [\"Pi0rec_py\", (bins, -2, 2), r\"$p_{y}$ $(GeV/c^{2})$\"],\n",
    "    [\"Pi0rec_pz\", (bins, 0, 2), r\"$p_{z}$ $(GeV/c^{2})$\"],\n",
    "    [\"Pi0rec_E\", (bins, 0.5, 2.5), r\"$E$ $(GeV)$\"],\n",
    "    [\"Pi0rec_magP\", (bins, 0, 2), r\"$|p|$ $(GeV/c^{2})$\"],\n",
    "    [\"Pi0rec_pT\", (bins, 0, 1.55), r\"$p_{T}$ $(GeV/c^{2})$\"],\n",
    "    [\"Pi0rec_theta\", (bins, 0, 180), r\"$\\theta$ $(^{\\circ})$\"],\n",
    "    [\"Pi0rec_phi\", (48, -180, 180), r\"$\\phi$ $(^{\\circ})$\"]\n",
    "]\n",
    "\n",
    "neut_t_distros = [\n",
    "    [\"truPi0rec_px\", (bins, -2, 2), r\"$p_{x}$ $(GeV/c^{2})$\"],\n",
    "    [\"truPi0rec_py\", (bins, -2, 2), r\"$p_{y}$ $(GeV/c^{2})$\"],\n",
    "    [\"truPi0rec_pz\", (bins, 0, 2), r\"$p_{z}$ $(GeV/c^{2})$\"],\n",
    "    [\"truPi0rec_E\", (bins, 0.5, 2.5), r\"$E$ $(GeV)$\"],\n",
    "    [\"truPi0rec_magP\", (bins, 0, 2), r\"$|p|$ $(GeV/c^{2})$\"],\n",
    "    [\"truPi0rec_pT\", (bins, 0, 1.55), r\"$p_{T}$ $(GeV/c^{2})$\"],\n",
    "    [\"truPi0rec_theta\", (bins, 0, 120), r\"$\\theta$ $(^{\\circ})$\"],\n",
    "    [\"truPi0rec_phi\", (48, -120, 180), r\"$\\phi$ $(^{\\circ})$\"]\n",
    "]"
   ]
  },
  {
   "cell_type": "code",
   "execution_count": 73,
   "id": "adjustable-petite",
   "metadata": {},
   "outputs": [
    {
     "data": {
      "application/vnd.jupyter.widget-view+json": {
       "model_id": "fb528c45b5a842a8ab30069ab19586d6",
       "version_major": 2,
       "version_minor": 0
      },
      "text/plain": [
       "Canvas(toolbar=Toolbar(toolitems=[('Home', 'Reset original view', 'home', 'home'), ('Back', 'Back to previous …"
      ]
     },
     "metadata": {},
     "output_type": "display_data"
    }
   ],
   "source": [
    "fig2, ax2 = plt.subplots(2,4, figsize=(15,10))\n",
    "ax2=ax2.flatten()\n",
    "\n",
    "fig2.suptitle('neutrons', fontsize=16)\n",
    "\n",
    "for i, distro in enumerate(neut_distros):\n",
    "    hist1D(ax2[i], MC_df, distro, cuts=(MC_df.Truth==1))\n",
    "    \n",
    "for i, distro in enumerate(neut_t_distros):\n",
    "    ax=ax2[i].twinx()\n",
    "\n",
    "    hist1D(ax, MC_df, distro, cuts=(MC_df.Truth==1), color='brown', lalpha=0.7)"
   ]
  },
  {
   "cell_type": "code",
   "execution_count": 12,
   "id": "absent-simple",
   "metadata": {},
   "outputs": [],
   "source": [
    "bins = 200\n",
    "\n",
    "phot1_distros = [\n",
    "    [\"Pi0phot1_px\", (bins, -1.75, 1.75), r\"$p_{x}$ $(GeV/c^{2})$\"],\n",
    "    [\"Pi0phot1_py\", (bins, -1.75, 1.75), r\"$p_{y}$ $(GeV/c^{2})$\"],\n",
    "    [\"Pi0phot1_pz\", (bins, 0, 8), r\"$p_{z}$ $(GeV/c^{2})$\"],\n",
    "    [\"Pi0phot1_E\", (bins, 0, 8), r\"$ E$ $(GeV)$\"],\n",
    "    [\"Pi0phot1_magP\", (bins, 0, 8), r\"$|p|$ $(GeV/c^{2})$\"],\n",
    "    [\"Pi0phot1_pT\", (bins, 0, 2), r\"$p_{T}$ $(GeV/c^{2})$\"],\n",
    "    [\"Pi0phot1_theta\", (bins, 0, 40), r\"$\\theta$ $(^{\\circ})$\"],\n",
    "    [\"Pi0phot1_phi\", (bins, -180, 180), r\"$\\phi$ $(^{\\circ})$\"]\n",
    "]\n",
    "\n",
    "phot1_t_distros = [\n",
    "    [\"truPi0phot1_px\", (bins, -1.75, 1.75), r\"$p_{x}$ $(GeV/c^{2})$\"],\n",
    "    [\"truPi0phot1_py\", (bins, -1.75, 1.75), r\"$p_{y}$ $(GeV/c^{2})$\"],\n",
    "    [\"truPi0phot1_pz\", (bins, 0, 8), r\"$p_{z}$ $(GeV/c^{2})$\"],\n",
    "    [\"truPi0phot1_E\", (bins, 0, 8), r\"$ E$ $(GeV)$\"],\n",
    "    [\"truPi0phot1_magP\", (bins, 0, 8), r\"$|p|$ $(GeV/c^{2})$\"],\n",
    "    [\"truPi0phot1_pT\", (bins, 0, 2), r\"$p_{T}$ $(GeV/c^{2})$\"],\n",
    "    [\"truPi0phot1_theta\", (bins, 0, 40), r\"$\\theta$ $(^{\\circ})$\"],\n",
    "    [\"truPi0phot1_phi\", (bins, -180, 180), r\"$\\phi$ $(^{\\circ})$\"]\n",
    "]"
   ]
  },
  {
   "cell_type": "code",
   "execution_count": 13,
   "id": "sufficient-immunology",
   "metadata": {},
   "outputs": [
    {
     "data": {
      "application/vnd.jupyter.widget-view+json": {
       "model_id": "6e273e1dc1964a3793523678616223ab",
       "version_major": 2,
       "version_minor": 0
      },
      "text/plain": [
       "Canvas(toolbar=Toolbar(toolitems=[('Home', 'Reset original view', 'home', 'home'), ('Back', 'Back to previous …"
      ]
     },
     "metadata": {},
     "output_type": "display_data"
    }
   ],
   "source": [
    "fig3, ax3 = plt.subplots(2,4, figsize=(15,10))\n",
    "ax3=ax3.flatten()\n",
    "\n",
    "fig3.suptitle('photons (1)', fontsize=16)\n",
    "\n",
    "for i, distro in enumerate(phot1_distros):\n",
    "    hist1D(ax3[i], MC_df, distro, cuts=(MC_df.Truth==1))\n",
    "    \n",
    "for i, distro in enumerate(phot1_t_distros):\n",
    "    ax=ax3[i].twinx()\n",
    "\n",
    "    hist1D(ax, MC_df, distro, cuts=(MC_df.Truth==1), color='brown', lalpha=0.7)"
   ]
  },
  {
   "cell_type": "code",
   "execution_count": 14,
   "id": "undefined-boost",
   "metadata": {},
   "outputs": [],
   "source": [
    "bins = 200\n",
    "\n",
    "phot2_distros = [\n",
    "    [\"Pi0phot2_px\", (bins, -1, 1), r\"$p_{x}$ $(GeV/c^{2})$\"],\n",
    "    [\"Pi0phot2_py\", (bins, -1, 1), r\"$p_{y}$ $(GeV/c^{2})$\"],\n",
    "    [\"Pi0phot2_pz\", (bins, 0, 4), r\"$p_{z}$ $(GeV/c^{2})$\"],\n",
    "    [\"Pi0phot2_E\", (bins, 0, 4), r\"$ E$ $(GeV)$\"],\n",
    "    [\"Pi0phot2_magP\", (bins, 0, 4), r\"$|p|$ $(GeV/c^{2})$\"],\n",
    "    [\"Pi0phot2_pT\", (bins, 0, 1), r\"$p_{T}$ $(GeV/c^{2})$\"],\n",
    "    [\"Pi0phot2_theta\", (bins, 0, 40), r\"$\\theta$ $(^{\\circ})$\"],\n",
    "    [\"Pi0phot2_phi\", (bins, -180, 180), r\"$\\phi$ $(^{\\circ})$\"]\n",
    "]\n",
    "\n",
    "phot2_t_distros = [\n",
    "    [\"truPi0phot2_px\", (bins, -1, 1), r\"$p_{x}$ $(GeV/c^{2})$\"],\n",
    "    [\"truPi0phot2_py\", (bins, -1, 1), r\"$p_{y}$ $(GeV/c^{2})$\"],\n",
    "    [\"truPi0phot2_pz\", (bins, 0, 4), r\"$p_{z}$ $(GeV/c^{2})$\"],\n",
    "    [\"truPi0phot2_E\", (bins, 0, 4), r\"$ E$ $(GeV)$\"],\n",
    "    [\"truPi0phot2_magP\", (bins, 0, 4), r\"$|p|$ $(GeV/c^{2})$\"],\n",
    "    [\"truPi0phot2_pT\", (bins, 0, 1), r\"$p_{T}$ $(GeV/c^{2})$\"],\n",
    "    [\"truPi0phot2_theta\", (bins, 0, 40), r\"$\\theta$ $(^{\\circ})$\"],\n",
    "    [\"truPi0phot2_phi\", (bins, -180, 180), r\"$\\phi$ $(^{\\circ})$\"]\n",
    "]"
   ]
  },
  {
   "cell_type": "code",
   "execution_count": 15,
   "id": "attractive-smart",
   "metadata": {},
   "outputs": [
    {
     "data": {
      "application/vnd.jupyter.widget-view+json": {
       "model_id": "274e6a3efd6440c4b0cf7affb5f83cee",
       "version_major": 2,
       "version_minor": 0
      },
      "text/plain": [
       "Canvas(toolbar=Toolbar(toolitems=[('Home', 'Reset original view', 'home', 'home'), ('Back', 'Back to previous …"
      ]
     },
     "metadata": {},
     "output_type": "display_data"
    }
   ],
   "source": [
    "fig4, ax4 = plt.subplots(2,4, figsize=(15,10))\n",
    "ax4=ax4.flatten()\n",
    "\n",
    "fig4.suptitle('photons (2)', fontsize=16)\n",
    "\n",
    "for i, distro in enumerate(phot2_distros):\n",
    "    hist1D(ax4[i], MC_df, distro, cuts=(MC_df.Truth==1))\n",
    "    \n",
    "for i, distro in enumerate(phot2_t_distros):\n",
    "    ax=ax4[i].twinx()\n",
    "\n",
    "    hist1D(ax, MC_df, distro, cuts=(MC_df.Truth==1), color='brown', lalpha=0.7)"
   ]
  },
  {
   "cell_type": "markdown",
   "id": "bearing-anxiety",
   "metadata": {},
   "source": [
    "## Particle Distributions - 'Trimmed'\n",
    "Truth-Matched Distributions for each final-state particle, with some additional cuts so isolate desired events:\n",
    "\n",
    "   * 3$\\sigma$ $\\pi_{0}$-mass cut\n",
    "   * Neutrons\n",
    "      * CND only\n",
    "      * |p| > 350 MeV\n",
    "   * Photons\n",
    "      * Require hit in the PCAL"
   ]
  },
  {
   "cell_type": "code",
   "execution_count": 75,
   "id": "fantastic-robinson",
   "metadata": {},
   "outputs": [],
   "source": [
    "cuts = [\n",
    "    (MC_df.Pi0flag_cut_3sigPi0IM == 1),\n",
    "    ((MC_df.Pi0rec_status > 3990) & (MC_df.Pi0rec_status < 4150)),\n",
    "    (MC_df.Pi0rec_magP >= 0.35),\n",
    "    (MC_df.hitPCAL == 1),\n",
    "    (MC_df.Truth==1)\n",
    "]\n",
    "\n",
    "cut = ft.reduce(lambda x, y: x & y, cuts[:])\n"
   ]
  },
  {
   "cell_type": "code",
   "execution_count": 76,
   "id": "identical-valve",
   "metadata": {},
   "outputs": [
    {
     "data": {
      "application/vnd.jupyter.widget-view+json": {
       "model_id": "2a59663dcfb04944b5cda264e570041a",
       "version_major": 2,
       "version_minor": 0
      },
      "text/plain": [
       "Canvas(toolbar=Toolbar(toolitems=[('Home', 'Reset original view', 'home', 'home'), ('Back', 'Back to previous …"
      ]
     },
     "metadata": {},
     "output_type": "display_data"
    }
   ],
   "source": [
    "fig5, ax5 = plt.subplots(2,4, figsize=(15,10))\n",
    "ax5=ax5.flatten()\n",
    "\n",
    "fig5.suptitle('electrons', fontsize=16)\n",
    "\n",
    "for i, distro in enumerate(e_distros):\n",
    "    hist1D(ax5[i], MC_df, distro, cuts=cut)\n",
    "\n",
    "for i, distro in enumerate(e_t_distros):\n",
    "    ax=ax5[i].twinx()\n",
    "\n",
    "    hist1D(ax, MC_df, distro, cuts=cut, color='brown', lalpha=0.7)"
   ]
  },
  {
   "cell_type": "code",
   "execution_count": 77,
   "id": "planned-maldives",
   "metadata": {},
   "outputs": [
    {
     "data": {
      "application/vnd.jupyter.widget-view+json": {
       "model_id": "7d40d3a2317d40d683f2317b279a0a64",
       "version_major": 2,
       "version_minor": 0
      },
      "text/plain": [
       "Canvas(toolbar=Toolbar(toolitems=[('Home', 'Reset original view', 'home', 'home'), ('Back', 'Back to previous …"
      ]
     },
     "metadata": {},
     "output_type": "display_data"
    }
   ],
   "source": [
    "fig6, ax6 = plt.subplots(2,4, figsize=(15,10))\n",
    "ax6=ax6.flatten()\n",
    "\n",
    "fig6.suptitle('neutrons', fontsize=16)\n",
    "\n",
    "for i, distro in enumerate(neut_distros):\n",
    "    hist1D(ax6[i], MC_df, distro, cuts=cut)\n",
    "    \n",
    "for i, distro in enumerate(neut_t_distros):\n",
    "    ax=ax6[i].twinx()\n",
    "\n",
    "    hist1D(ax, MC_df, distro, cuts=cut, color='brown', lalpha=0.7)"
   ]
  },
  {
   "cell_type": "code",
   "execution_count": 19,
   "id": "expired-exhibit",
   "metadata": {},
   "outputs": [
    {
     "data": {
      "application/vnd.jupyter.widget-view+json": {
       "model_id": "0ebfa64d335d4bd9b07ec49cc26f5013",
       "version_major": 2,
       "version_minor": 0
      },
      "text/plain": [
       "Canvas(toolbar=Toolbar(toolitems=[('Home', 'Reset original view', 'home', 'home'), ('Back', 'Back to previous …"
      ]
     },
     "metadata": {},
     "output_type": "display_data"
    }
   ],
   "source": [
    "fig7, ax7 = plt.subplots(2,4, figsize=(15,10))\n",
    "ax7=ax7.flatten()\n",
    "\n",
    "fig7.suptitle('photons (1)', fontsize=16)\n",
    "\n",
    "for i, distro in enumerate(phot1_distros):\n",
    "    hist1D(ax7[i], MC_df, distro, cuts=cut)\n",
    "    \n",
    "for i, distro in enumerate(phot1_t_distros):\n",
    "    ax=ax7[i].twinx()\n",
    "\n",
    "    hist1D(ax, MC_df, distro, cuts=cut, color='brown', lalpha=0.7)"
   ]
  },
  {
   "cell_type": "code",
   "execution_count": 20,
   "id": "important-helena",
   "metadata": {},
   "outputs": [
    {
     "data": {
      "application/vnd.jupyter.widget-view+json": {
       "model_id": "59378bca41704328b81ceda74f1b08fe",
       "version_major": 2,
       "version_minor": 0
      },
      "text/plain": [
       "Canvas(toolbar=Toolbar(toolitems=[('Home', 'Reset original view', 'home', 'home'), ('Back', 'Back to previous …"
      ]
     },
     "metadata": {},
     "output_type": "display_data"
    }
   ],
   "source": [
    "fig8, ax8 = plt.subplots(2,4, figsize=(15,10))\n",
    "ax8=ax8.flatten()\n",
    "\n",
    "fig8.suptitle('photons (2)', fontsize=16)\n",
    "\n",
    "for i, distro in enumerate(phot2_distros):\n",
    "    hist1D(ax8[i], MC_df, distro, cuts=cut)\n",
    "    \n",
    "for i, distro in enumerate(phot2_t_distros):\n",
    "    ax=ax8[i].twinx()\n",
    "\n",
    "    hist1D(ax, MC_df, distro, cuts=cut, color='brown', lalpha=0.7)"
   ]
  },
  {
   "cell_type": "markdown",
   "id": "exterior-drilling",
   "metadata": {},
   "source": [
    "## Differences"
   ]
  },
  {
   "cell_type": "code",
   "execution_count": 21,
   "id": "weighted-binding",
   "metadata": {},
   "outputs": [],
   "source": [
    "e_diff = [\n",
    "    ['deltaPi0e_px', (100, -1, 1), r\"$\\delta p_{x}$\"],\n",
    "    ['deltaPi0e_py', (100, -1, 1), r\"$\\delta p_{y}$\"],\n",
    "    ['deltaPi0e_pz', (100, -1, 1), r\"$\\delta p_{z}$\"],\n",
    "    ['deltaPi0e_E', (100, -1, 1), r\"$\\delta E$\"],\n",
    "    ['deltaPi0e_magP', (100, -1, 1), r\"$\\delta |p|$\"],\n",
    "    ['deltaPi0e_pT', (100, -1, 1), r\"$\\delta p_{T}$\"],\n",
    "    ['deltaPi0e_theta', (100, -1, 1), r\"$\\delta \\theta$\"],\n",
    "    ['deltaPi0e_phi', (100, -2, 2), r\"$\\delta \\phi$\"]\n",
    "]"
   ]
  },
  {
   "cell_type": "code",
   "execution_count": 22,
   "id": "automotive-command",
   "metadata": {},
   "outputs": [
    {
     "data": {
      "application/vnd.jupyter.widget-view+json": {
       "model_id": "588090ae531843d6ab69ab74a5c1617d",
       "version_major": 2,
       "version_minor": 0
      },
      "text/plain": [
       "Canvas(toolbar=Toolbar(toolitems=[('Home', 'Reset original view', 'home', 'home'), ('Back', 'Back to previous …"
      ]
     },
     "metadata": {},
     "output_type": "display_data"
    }
   ],
   "source": [
    "fig9, ax9 = plt.subplots(2,4, figsize=(15,10))\n",
    "ax9=ax9.flatten()\n",
    "\n",
    "fig9.suptitle('electron (rec - gen)', fontsize=16)\n",
    "\n",
    "for i, distro in enumerate(e_diff):\n",
    "    hist1D(ax9[i], MC_df, distro, cuts=cut, color='orangered', lalpha=0.7)"
   ]
  },
  {
   "cell_type": "code",
   "execution_count": 23,
   "id": "considered-directive",
   "metadata": {},
   "outputs": [],
   "source": [
    "neut_diff = [\n",
    "    ['deltaPi0rec_px', (100, -1, 1), r\"$\\delta p_{x}$\"],\n",
    "    ['deltaPi0rec_py', (100, -1, 1), r\"$\\delta p_{y}$\"],\n",
    "    ['deltaPi0rec_pz', (100, -1, 1), r\"$\\delta p_{z}$\"],\n",
    "    ['deltaPi0rec_E', (100, -1, 1), r\"$\\delta E$\"],\n",
    "    ['deltaPi0rec_magP', (100, -1, 1), r\"$\\delta |p|$\"],\n",
    "    ['deltaPi0rec_pT', (100, -1, 1), r\"$\\delta p_{T}$\"],\n",
    "    ['deltaPi0rec_theta', (100, -10, 10), r\"$\\delta \\theta$\"],\n",
    "    ['deltaPi0rec_phi', (100, -20, 20), r\"$\\delta \\phi$\"]\n",
    "]"
   ]
  },
  {
   "cell_type": "code",
   "execution_count": 78,
   "id": "elder-reggae",
   "metadata": {},
   "outputs": [
    {
     "data": {
      "application/vnd.jupyter.widget-view+json": {
       "model_id": "56e47ecba7d341b8bd59ceef11119c37",
       "version_major": 2,
       "version_minor": 0
      },
      "text/plain": [
       "Canvas(toolbar=Toolbar(toolitems=[('Home', 'Reset original view', 'home', 'home'), ('Back', 'Back to previous …"
      ]
     },
     "metadata": {},
     "output_type": "display_data"
    }
   ],
   "source": [
    "fig10, ax10 = plt.subplots(2,4, figsize=(15,10))\n",
    "ax10=ax10.flatten()\n",
    "\n",
    "fig10.suptitle('neutron (rec - gen)', fontsize=16)\n",
    "\n",
    "for i, distro in enumerate(neut_diff):\n",
    "    hist1D(ax10[i], MC_df, distro, cuts=cut, color='orangered', lalpha=0.7)"
   ]
  },
  {
   "cell_type": "code",
   "execution_count": 25,
   "id": "silent-machine",
   "metadata": {},
   "outputs": [
    {
     "data": {
      "application/vnd.jupyter.widget-view+json": {
       "model_id": "312a740cff4142368194928173786ae9",
       "version_major": 2,
       "version_minor": 0
      },
      "text/plain": [
       "Canvas(toolbar=Toolbar(toolitems=[('Home', 'Reset original view', 'home', 'home'), ('Back', 'Back to previous …"
      ]
     },
     "metadata": {},
     "output_type": "display_data"
    }
   ],
   "source": [
    "neut_angles= [\n",
    "    \n",
    "    [\"deltaPi0rec_theta\", (200, -40, 50), r\"$\\delta\\theta$ $(^{\\circ})$\"],\n",
    "    [\"deltaPi0rec_phi\", (200, -60, 60), r\"$\\delta\\phi$ $(^{\\circ})$\"]\n",
    "]\n",
    "\n",
    "fig10b, ax10b = plt.subplots(1,2, figsize=(10,5))\n",
    "ax10b=ax10b.flatten()\n",
    "\n",
    "fig10b.suptitle('neutron (rec - gen) - wide range angles', fontsize=16)\n",
    "\n",
    "for i, distro in enumerate(neut_angles):\n",
    "    hist1D(ax10b[i], MC_df, distro, cuts=cut, color='orangered', lalpha=0.7)"
   ]
  },
  {
   "cell_type": "code",
   "execution_count": 26,
   "id": "passive-shock",
   "metadata": {},
   "outputs": [],
   "source": [
    "phot1_diff = [\n",
    "    ['deltaPi0phot1_px', (100, -1, 1), r\"$\\delta p_{x}$\"],\n",
    "    ['deltaPi0phot1_py', (100, -1, 1), r\"$\\delta p_{y}$\"],\n",
    "    ['deltaPi0phot1_pz', (100, -1, 1), r\"$\\delta p_{z}$\"],\n",
    "    ['deltaPi0phot1_E', (100, -1, 1), r\"$\\delta E$\"],\n",
    "    ['deltaPi0phot1_magP', (100, -1, 1), r\"$\\delta |p|$\"],\n",
    "    ['deltaPi0phot1_pT', (100, -1, 1), r\"$\\delta p_{T}$\"],\n",
    "    ['deltaPi0phot1_theta', (100, -5, 5), r\"$\\delta \\theta$\"],\n",
    "    ['deltaPi0phot1_phi', (100, -5, 5), r\"$\\delta \\phi$\"]\n",
    "]"
   ]
  },
  {
   "cell_type": "code",
   "execution_count": 27,
   "id": "coastal-cancer",
   "metadata": {},
   "outputs": [
    {
     "data": {
      "application/vnd.jupyter.widget-view+json": {
       "model_id": "113769fc708a49febb0bd5ee9ea8f85d",
       "version_major": 2,
       "version_minor": 0
      },
      "text/plain": [
       "Canvas(toolbar=Toolbar(toolitems=[('Home', 'Reset original view', 'home', 'home'), ('Back', 'Back to previous …"
      ]
     },
     "metadata": {},
     "output_type": "display_data"
    }
   ],
   "source": [
    "fig11, ax11 = plt.subplots(2,4, figsize=(15,10))\n",
    "ax11=ax11.flatten()\n",
    "\n",
    "fig11.suptitle('photon(1) (rec - gen)', fontsize=16)\n",
    "\n",
    "for i, distro in enumerate(phot1_diff):\n",
    "    hist1D(ax11[i], MC_df, distro, cuts=cut, color='orangered', lalpha=0.7)"
   ]
  },
  {
   "cell_type": "code",
   "execution_count": 28,
   "id": "unnecessary-prairie",
   "metadata": {},
   "outputs": [],
   "source": [
    "phot2_diff = [\n",
    "    ['deltaPi0phot2_px', (100, -1, 1), r\"$\\delta p_{x}$\"],\n",
    "    ['deltaPi0phot2_py', (100, -1, 1), r\"$\\delta p_{y}$\"],\n",
    "    ['deltaPi0phot2_pz', (100, -1, 1), r\"$\\delta p_{z}$\"],\n",
    "    ['deltaPi0phot2_E', (100, -1, 1), r\"$\\delta E$\"],\n",
    "    ['deltaPi0phot2_magP', (100, -1, 1), r\"$\\delta |p|$\"],\n",
    "    ['deltaPi0phot2_pT', (100, -1, 1), r\"$\\delta p_{T}$\"],\n",
    "    ['deltaPi0phot2_theta', (100, -5, 5), r\"$\\delta \\theta$\"],\n",
    "    ['deltaPi0phot2_phi', (100, -5, 5), r\"$\\delta \\phi$\"]\n",
    "]"
   ]
  },
  {
   "cell_type": "code",
   "execution_count": 29,
   "id": "animated-thumb",
   "metadata": {},
   "outputs": [
    {
     "data": {
      "application/vnd.jupyter.widget-view+json": {
       "model_id": "5da43756f8b140b29879392ccbdb300e",
       "version_major": 2,
       "version_minor": 0
      },
      "text/plain": [
       "Canvas(toolbar=Toolbar(toolitems=[('Home', 'Reset original view', 'home', 'home'), ('Back', 'Back to previous …"
      ]
     },
     "metadata": {},
     "output_type": "display_data"
    }
   ],
   "source": [
    "fig11, ax11 = plt.subplots(2,4, figsize=(15,10))\n",
    "ax11=ax11.flatten()\n",
    "\n",
    "fig11.suptitle('photon(2) (rec - gen)', fontsize=16)\n",
    "\n",
    "for i, distro in enumerate(phot1_diff):\n",
    "    hist1D(ax11[i], MC_df, distro, cuts=cut, color='orangered', lalpha=0.7)"
   ]
  },
  {
   "cell_type": "code",
   "execution_count": 30,
   "id": "decimal-pizza",
   "metadata": {},
   "outputs": [],
   "source": [
    "import sys\n",
    "sys.path.append(\"/home/pauln/code/nicks_plot_utils\")"
   ]
  },
  {
   "cell_type": "code",
   "execution_count": 31,
   "id": "liberal-active",
   "metadata": {},
   "outputs": [],
   "source": [
    "from nicks_plot_utils import Hist1D as h1d\n",
    "from nicks_plot_utils import Hist2D as h2d"
   ]
  },
  {
   "cell_type": "code",
   "execution_count": 32,
   "id": "fabulous-cameroon",
   "metadata": {},
   "outputs": [],
   "source": [
    "plt.style.use('seaborn')\n",
    "plt.rcParams['axes.grid'] = True\n",
    "plt.rcParams['axes.formatter.limits'] = (-3,3)\n",
    "plt.rcParams['axes.formatter.use_mathtext'] = True\n",
    "plt.rcParams['font.size']= 16\n",
    "plt.rcParams['axes.labelsize'] = 14\n",
    "plt.rcParams['axes.titlesize'] = 14\n",
    "plt.rcParams['xtick.labelsize'] = 10\n",
    "plt.rcParams['ytick.labelsize'] = 10"
   ]
  },
  {
   "cell_type": "code",
   "execution_count": 33,
   "id": "roman-little",
   "metadata": {},
   "outputs": [],
   "source": [
    "neut_diff = [\n",
    "    ['deltaPi0rec_px', (100, -.5, .5), r\"$\\delta p_{x}$\"],\n",
    "    ['deltaPi0rec_py', (100, -.5, .5), r\"$\\delta p_{y}$\"],\n",
    "    ['deltaPi0rec_pz', (100, -.5, .5), r\"$\\delta p_{z}$\"],\n",
    "    ['deltaPi0rec_E', (100, -.5, .5), r\"$\\delta E$\"],\n",
    "    ['deltaPi0rec_magP', (100, -.5, .5), r\"$\\delta |p|$\"],\n",
    "    ['deltaPi0rec_pT', (100, -.5, .5), r\"$\\delta p_{T}$\"],\n",
    "    ['deltaPi0rec_theta', (100, -7, 7), r\"$\\delta \\theta$\"]\n",
    "]"
   ]
  },
  {
   "cell_type": "code",
   "execution_count": 34,
   "id": "treated-final",
   "metadata": {},
   "outputs": [],
   "source": [
    "phi_2Ds = []\n",
    "# phi_xrange=[-10,50]\n",
    "# phi_xbins=100\n",
    "\n",
    "for distro in neut_diff:\n",
    "    var = distro[0]\n",
    "    rb = distro[1]\n",
    "    lbl= distro[2]\n",
    "    \n",
    "    h2 = h2d(xrange=[-10,50], xbins=100, yrange=[rb[1],rb[2]], ybins=rb[0], xname=r\"$\\delta \\phi$\", yname=lbl)\n",
    "    h2.fill(MC_df[\"deltaPi0rec_phi\"][cut], MC_df[var][cut])\n",
    "    \n",
    "    phi_2Ds.append(h2)\n",
    "\n"
   ]
  },
  {
   "cell_type": "code",
   "execution_count": 35,
   "id": "amateur-reader",
   "metadata": {},
   "outputs": [],
   "source": [
    "neut_diff = [\n",
    "    ['deltaPi0rec_px', (100, -.5, .5), r\"$\\delta p_{x}$\"],\n",
    "    ['deltaPi0rec_py', (100, -.5, .5), r\"$\\delta p_{y}$\"],\n",
    "    ['deltaPi0rec_pz', (100, -.5, .5), r\"$\\delta p_{z}$\"],\n",
    "    ['deltaPi0rec_E', (100, -.5, .5), r\"$\\delta E$\"],\n",
    "    ['deltaPi0rec_magP', (100, -.5, .5), r\"$\\delta |p|$\"],\n",
    "    ['deltaPi0rec_pT', (100, -.5, .5), r\"$\\delta p_{T}$\"],\n",
    "    ['deltaPi0rec_phi', (100, -10, 50), r\"$\\delta \\phi$\"]\n",
    "]"
   ]
  },
  {
   "cell_type": "code",
   "execution_count": 36,
   "id": "raising-galaxy",
   "metadata": {},
   "outputs": [],
   "source": [
    "theta_2Ds = []\n",
    "# phi_xrange=[-10,50]\n",
    "# phi_xbins=100\n",
    "\n",
    "for distro in neut_diff:\n",
    "    var = distro[0]\n",
    "    rb = distro[1]\n",
    "    lbl= distro[2]\n",
    "    \n",
    "    h2 = h2d(xrange=[-15,15], xbins=100, yrange=[rb[1],rb[2]], ybins=rb[0], xname=r\"$\\delta \\theta$\", yname=lbl)\n",
    "    h2.fill(MC_df[\"deltaPi0rec_theta\"][cut], MC_df[var][cut])\n",
    "    \n",
    "    theta_2Ds.append(h2)\n",
    "\n"
   ]
  },
  {
   "cell_type": "code",
   "execution_count": 37,
   "id": "professional-karen",
   "metadata": {},
   "outputs": [
    {
     "data": {
      "application/vnd.jupyter.widget-view+json": {
       "model_id": "b7591f9b03204fd59d2a1c7bb2d0ec0b",
       "version_major": 2,
       "version_minor": 0
      },
      "text/plain": [
       "Canvas(toolbar=Toolbar(toolitems=[('Home', 'Reset original view', 'home', 'home'), ('Back', 'Back to previous …"
      ]
     },
     "metadata": {},
     "output_type": "display_data"
    }
   ],
   "source": [
    "fig,ax = plt.subplots(7,2, figsize=(15,25))\n",
    "\n",
    "for i,plot in enumerate(zip(phi_2Ds, theta_2Ds)):\n",
    "    plot[0].plot(ax=ax[i][0], density=False)\n",
    "    plot[1].plot(ax=ax[i][1], density=False)\n",
    "    \n",
    "plt.tight_layout()"
   ]
  },
  {
   "cell_type": "markdown",
   "id": "environmental-sleep",
   "metadata": {},
   "source": [
    "## Some follow up plots:"
   ]
  },
  {
   "cell_type": "code",
   "execution_count": 38,
   "id": "judicial-denmark",
   "metadata": {},
   "outputs": [
    {
     "data": {
      "text/plain": [
       "Histogram(\n",
       "  Regular(100, -30, 80),\n",
       "  Regular(100, 0, 1.75),\n",
       "  storage=Double()) # Sum: 218123.0 (252557.0 with flow)"
      ]
     },
     "execution_count": 38,
     "metadata": {},
     "output_type": "execute_result"
    }
   ],
   "source": [
    "dphi_theta = h2d(xrange=[-10,50], xbins=100, yrange=[0,70], ybins=100, xname=r\"$\\delta \\phi$\", yname=r\"$\\theta$\")\n",
    "dphi_theta.fill(MC_df[\"deltaPi0rec_phi\"][(MC_df.Truth == 1)], MC_df[\"Pi0rec_theta\"][(MC_df.Truth == 1)])\n",
    "\n",
    "dphi_p = h2d(xrange=[-30,80], xbins=100, yrange=[0,1.75], ybins=100, xname=r\"$\\delta \\phi$\", yname=r\"$|p|$\")\n",
    "dphi_p.fill(MC_df[\"deltaPi0rec_phi\"][(MC_df.Truth == 1)], MC_df[\"Pi0rec_magP\"][(MC_df.Truth == 1)])"
   ]
  },
  {
   "cell_type": "code",
   "execution_count": 39,
   "id": "controlling-advertiser",
   "metadata": {},
   "outputs": [
    {
     "data": {
      "text/plain": [
       "Histogram(\n",
       "  Regular(100, -30, 80),\n",
       "  Regular(100, 0, 1.75),\n",
       "  storage=Double()) # Sum: 112800.0 (120778.0 with flow)"
      ]
     },
     "execution_count": 39,
     "metadata": {},
     "output_type": "execute_result"
    }
   ],
   "source": [
    "dphi_theta_cut = h2d(xrange=[-10,50], xbins=100, yrange=[0,70], ybins=100, xname=r\"$\\delta \\phi (cut)$\", yname=r\"$\\theta (cut)$\")\n",
    "dphi_theta_cut.fill(MC_df[\"deltaPi0rec_phi\"][cut], MC_df[\"Pi0rec_theta\"][cut])\n",
    "\n",
    "dphi_p_cut = h2d(xrange=[-30,80], xbins=100, yrange=[0,1.75], ybins=100, xname=r\"$\\delta \\phi (cut)$\", yname=r\"$|p| (cut)$\")\n",
    "dphi_p_cut.fill(MC_df[\"deltaPi0rec_phi\"][cut], MC_df[\"Pi0rec_magP\"][cut])"
   ]
  },
  {
   "cell_type": "code",
   "execution_count": 46,
   "id": "equipped-gabriel",
   "metadata": {},
   "outputs": [],
   "source": [
    "n_1D_Phi = h1d(data=MC_df[\"deltaPi0rec_phi\"][cut], xrange=[-30, 80], bins=100)\n"
   ]
  },
  {
   "cell_type": "code",
   "execution_count": 56,
   "id": "premier-wheat",
   "metadata": {},
   "outputs": [
    {
     "data": {
      "application/vnd.jupyter.widget-view+json": {
       "model_id": "be1a9a4414764a39afeaef61ddbbeff5",
       "version_major": 2,
       "version_minor": 0
      },
      "text/plain": [
       "Canvas(toolbar=Toolbar(toolitems=[('Home', 'Reset original view', 'home', 'home'), ('Back', 'Back to previous …"
      ]
     },
     "metadata": {},
     "output_type": "display_data"
    },
    {
     "name": "stderr",
     "output_type": "stream",
     "text": [
      "No handles with labels found to put in legend.\n"
     ]
    },
    {
     "data": {
      "text/plain": [
       "<matplotlib.collections.QuadMesh at 0x7f1d66b8fc90>"
      ]
     },
     "execution_count": 56,
     "metadata": {},
     "output_type": "execute_result"
    }
   ],
   "source": [
    "fig, ax = plt.subplots(2,2, figsize=(17,15))\n",
    "ax=ax.flatten()\n",
    "\n",
    "dphi_theta.plot(ax=ax[0], density=False)\n",
    "dphi_p.plot(ax=ax[1], density=False)\n",
    "dphi_theta_cut.plot(ax=ax[2], density=False)\n",
    "n_1D_Phi.histogram(ax=ax[3], density=True, color=\"brown\")\n",
    "dphi_p_cut.plot(ax=ax[3], density=False)\n"
   ]
  },
  {
   "cell_type": "code",
   "execution_count": 41,
   "id": "wired-metallic",
   "metadata": {},
   "outputs": [
    {
     "data": {
      "application/vnd.jupyter.widget-view+json": {
       "model_id": "fa9eb03219a7445aaccb1226753105c4",
       "version_major": 2,
       "version_minor": 0
      },
      "text/plain": [
       "Canvas(toolbar=Toolbar(toolitems=[('Home', 'Reset original view', 'home', 'home'), ('Back', 'Back to previous …"
      ]
     },
     "metadata": {},
     "output_type": "display_data"
    }
   ],
   "source": [
    "fig, ax = plt.subplots(1, 3, figsize=(15,5))\n",
    "\n",
    "hist1D(ax[0], MC_df, [\"truPi0rec_phi\", (130, -180, 180), r\"$neutron$ $\\phi$ - [all truth]\"], color='brown', lalpha=.7)\n",
    "\n",
    "axb=ax[1].twinx()\n",
    "hist1D(ax[1], MC_df, [\"Pi0rec_phi\", (48, -180, 180), r\"$neutron$ $\\phi$ -  [truth & True==1]\"], cuts = (MC_df.Truth == 1))\n",
    "hist1D(axb, MC_df, [\"truPi0rec_phi\", (130, -180, 180), r\"$neutron$ $\\phi$ -  [truth & True==1]\"], cuts = (MC_df.Truth == 1), color='brown', lalpha=.7)\n",
    "\n",
    "hist1D(ax[2], MC_df, [\"Pi0rec_phi\", (48, -180, 180), r\"$neutron$ $\\phi$ -  [truth & True==1]\"], cuts = (MC_df.Truth == 1))\n",
    "axc=ax[2].twinx()\n",
    "hist1D(axc, MC_df, [\"truPi0rec_phi\", (48, -180, 180), r\"$neutron$ $\\phi$ - [truth  & True==1]\"], cuts = (MC_df.Truth == 1), color='brown', lalpha=.7)\n",
    "\n",
    "\n",
    "\n",
    "#def hist1D(ax, df, var, bins = None, cuts=None, y_err=False, color=None, lalpha=1, falpha=0.4, normed=False, filled = False, density = False, params={}):\n"
   ]
  },
  {
   "cell_type": "code",
   "execution_count": 158,
   "id": "mobile-austria",
   "metadata": {},
   "outputs": [],
   "source": [
    "dphi_truPhi = h2d(\n",
    "    ydata=MC_df[\"deltaPi0rec_phi\"][(MC_df.Truth == 1)],\n",
    "    xdata=MC_df[\"truPi0rec_phi\"][(MC_df.Truth == 1)],\n",
    "    yrange=[-10,50], \n",
    "    ybins=100, \n",
    "    xrange=[-180,180], \n",
    "    xbins=48, \n",
    "    yname=r\"$\\delta \\phi (cut)$\", \n",
    "    xname=r\"$true\\ \\phi$\"\n",
    ")\n",
    "\n",
    "dphi_Phi = h2d(\n",
    "    ydata=MC_df[\"deltaPi0rec_phi\"][(MC_df.Truth == 1)],\n",
    "    xdata=MC_df[\"Pi0rec_phi\"][(MC_df.Truth == 1)],\n",
    "    yrange=[-10,50], \n",
    "    ybins=100, \n",
    "    xrange=[-180,180], \n",
    "    xbins=48, \n",
    "    yname=r\"$\\delta \\phi (cut)$\", \n",
    "    xname=r\"$truth-matched\\ \\phi$\"\n",
    ")\n",
    "\n",
    "# n_1D_Phi = h1d(data=MC_df[\"Pi0rec_phi\"][(MC_df.Truth == 1)],\n",
    "#                xrange=[-180, 180],\n",
    "#                bins=48)\n",
    "# n_1D_truPhi = h1d(data=MC_df[\"truPi0rec_phi\"][(MC_df.Truth == 1)],\n",
    "#                xrange=[-180, 180],\n",
    "#                bins=48)"
   ]
  },
  {
   "cell_type": "code",
   "execution_count": 126,
   "id": "willing-therapy",
   "metadata": {},
   "outputs": [
    {
     "data": {
      "application/vnd.jupyter.widget-view+json": {
       "model_id": "c7564a77eb5d490e8d7581b5e071cf61",
       "version_major": 2,
       "version_minor": 0
      },
      "text/plain": [
       "Canvas(toolbar=Toolbar(toolitems=[('Home', 'Reset original view', 'home', 'home'), ('Back', 'Back to previous …"
      ]
     },
     "metadata": {},
     "output_type": "display_data"
    },
    {
     "data": {
      "text/plain": [
       "<matplotlib.collections.QuadMesh at 0x7f1de881d490>"
      ]
     },
     "execution_count": 126,
     "metadata": {},
     "output_type": "execute_result"
    }
   ],
   "source": [
    "fig,ax = plt.subplots(2,2, figsize=(12,10))\n",
    "ax=ax.flatten()\n",
    "\n",
    "hist1D(ax[0], MC_df, [\"truPi0rec_phi\", (48, -180, 180), r\"$neutron$ $\\phi$ - [truth  & True==1]\"], cuts = (MC_df.Truth == 1), color='brown', lalpha=.7)\n",
    "hist1D(ax[1], MC_df, [\"Pi0rec_phi\", (48, -180, 180), r\"$neutron$ $\\phi$ -  [truth & True==1]\"], cuts = (MC_df.Truth == 1))\n",
    "\n",
    "dphi_truPhi.plot(ax=ax[2], density=False, colorbar=False)\n",
    "dphi_Phi.plot(ax=ax[3], density=False, colorbar=False)"
   ]
  },
  {
   "cell_type": "code",
   "execution_count": 160,
   "id": "allied-consistency",
   "metadata": {},
   "outputs": [
    {
     "data": {
      "application/vnd.jupyter.widget-view+json": {
       "model_id": "d1c52fd4f23b4dbab85ed5fd17738bf5",
       "version_major": 2,
       "version_minor": 0
      },
      "text/plain": [
       "Canvas(toolbar=Toolbar(toolitems=[('Home', 'Reset original view', 'home', 'home'), ('Back', 'Back to previous …"
      ]
     },
     "metadata": {},
     "output_type": "display_data"
    }
   ],
   "source": [
    "fig,ax = plt.subplots(1,2, figsize=(12,6))\n",
    "\n",
    "\n",
    "dphi_truPhi.plot(ax=ax[0], density=False, colorbar=False)\n",
    "ax0=ax[0].twinx()\n",
    "ax0.grid(False)\n",
    "hist1D(ax0, MC_df, [\"truPi0rec_phi\", (48, -180, 180), r\"$neutron$ $\\phi$ - [truth  & True==1]\"], cuts = (MC_df.Truth == 1), color='brown', lalpha=.7)\n",
    "\n",
    "\n",
    "dphi_Phi.plot(ax=ax[1], density=False, colorbar=False)\n",
    "ax1=ax[1].twinx()\n",
    "ax1.grid(False)\n",
    "hist1D(ax1, MC_df, [\"Pi0rec_phi\", (48, -180, 180), r\"$neutron$ $\\phi$ -  [truth & True==1]\"], cuts = (MC_df.Truth == 1), color=\"blue\", lalpha=.5)\n",
    "\n"
   ]
  },
  {
   "cell_type": "code",
   "execution_count": 147,
   "id": "published-bracelet",
   "metadata": {},
   "outputs": [],
   "source": [
    "dphi_truPhi = h2d(\n",
    "    ydata=MC_df[\"deltaPi0rec_phi\"][(MC_df.Truth == 1)],\n",
    "    xdata=MC_df[\"truPi0rec_phi\"][(MC_df.Truth == 1)],\n",
    "    yrange=[-9,9], \n",
    "    ybins=10, \n",
    "    xrange=[-180,180], \n",
    "    xbins=48, \n",
    "    yname=r\"$\\delta \\phi (cut)$\", \n",
    "    xname=r\"$true\\ \\phi$\"\n",
    ")\n",
    "\n",
    "dphi_Phi = h2d(\n",
    "    ydata=MC_df[\"deltaPi0rec_phi\"][(MC_df.Truth == 1)],\n",
    "    xdata=MC_df[\"Pi0rec_phi\"][(MC_df.Truth == 1)],\n",
    "    yrange=[-9,9], \n",
    "    ybins=10, \n",
    "    xrange=[-180,180], \n",
    "    xbins=48, \n",
    "    yname=r\"$\\delta \\phi (cut)$\", \n",
    "    xname=r\"$truth-matched\\ \\phi$\"\n",
    ")\n",
    "\n"
   ]
  },
  {
   "cell_type": "code",
   "execution_count": 144,
   "id": "disabled-washer",
   "metadata": {},
   "outputs": [
    {
     "data": {
      "application/vnd.jupyter.widget-view+json": {
       "model_id": "d631a5990c4d4563bac0ca97801482f8",
       "version_major": 2,
       "version_minor": 0
      },
      "text/plain": [
       "Canvas(toolbar=Toolbar(toolitems=[('Home', 'Reset original view', 'home', 'home'), ('Back', 'Back to previous …"
      ]
     },
     "metadata": {},
     "output_type": "display_data"
    },
    {
     "data": {
      "text/plain": [
       "<matplotlib.collections.QuadMesh at 0x7f1de7376d50>"
      ]
     },
     "execution_count": 144,
     "metadata": {},
     "output_type": "execute_result"
    }
   ],
   "source": [
    "fig,ax = plt.subplots(1,2, figsize=(13,5))\n",
    "dphi_truPhi.plot(ax=ax[0], density=False)\n",
    "dphi_Phi.plot(ax=ax[1], density=False)"
   ]
  },
  {
   "cell_type": "markdown",
   "id": "characteristic-services",
   "metadata": {
    "jupyter": {
     "source_hidden": true
    }
   },
   "source": [
    "## Status Bank for the neutron\n",
    "Parameterises where in the detector suite an event has been detected.\n",
    "   * 4000 => CD hit\n",
    "   * \\+ 100 * N CTOF responses\n",
    "   * \\+ 10 * N CND responses \n",
    "   \n",
    "---\n",
    "\n",
    "We have: \n",
    "   * mostly CND only hits (4010)\n",
    "   * some CTOF only hits (4100)\n",
    "   * a few CTOF and CND events (4110)"
   ]
  },
  {
   "cell_type": "code",
   "execution_count": 145,
   "id": "labeled-original",
   "metadata": {
    "collapsed": true,
    "jupyter": {
     "outputs_hidden": true,
     "source_hidden": true
    }
   },
   "outputs": [
    {
     "data": {
      "application/vnd.jupyter.widget-view+json": {
       "model_id": "812a7bdb6d944a00ad061b36dc5df50a",
       "version_major": 2,
       "version_minor": 0
      },
      "text/plain": [
       "Canvas(toolbar=Toolbar(toolitems=[('Home', 'Reset original view', 'home', 'home'), ('Back', 'Back to previous …"
      ]
     },
     "metadata": {},
     "output_type": "display_data"
    }
   ],
   "source": [
    "fig,ax = plt.subplots()\n",
    "hist1D(ax, MC_df, [\"Pi0rec_status\", (2000, 3950, 4150), r\"$neutron$ $status$\"], color='brown', lalpha=.7)"
   ]
  },
  {
   "cell_type": "code",
   "execution_count": 166,
   "id": "framed-caribbean",
   "metadata": {
    "jupyter": {
     "source_hidden": true
    }
   },
   "outputs": [],
   "source": [
    "neut_diff = [\n",
    "    ['deltaPi0rec_px', (100, -1, 1), r\"$\\delta p_{x}$\"],\n",
    "    ['deltaPi0rec_py', (100, -1, 1), r\"$\\delta p_{y}$\"],\n",
    "    ['deltaPi0rec_pz', (100, -1, 1), r\"$\\delta p_{z}$\"],\n",
    "    ['deltaPi0rec_E', (100, -1, 1), r\"$\\delta E$\"],\n",
    "    ['deltaPi0rec_magP', (100, -1, 1), r\"$\\delta |p|$\"],\n",
    "    ['deltaPi0rec_pT', (100, -1, 1), r\"$\\delta p_{T}$\"],\n",
    "    ['deltaPi0rec_theta', (100, -10, 10), r\"$\\delta \\theta$\"],\n",
    "    ['deltaPi0rec_phi', (100, -20, 60), r\"$\\delta \\phi$\"]\n",
    "]"
   ]
  },
  {
   "cell_type": "code",
   "execution_count": 184,
   "id": "powerful-gateway",
   "metadata": {
    "collapsed": true,
    "jupyter": {
     "outputs_hidden": true,
     "source_hidden": true
    }
   },
   "outputs": [
    {
     "data": {
      "application/vnd.jupyter.widget-view+json": {
       "model_id": "b5f3cfbfe48c48259eaf280c8786d814",
       "version_major": 2,
       "version_minor": 0
      },
      "text/plain": [
       "Canvas(toolbar=Toolbar(toolitems=[('Home', 'Reset original view', 'home', 'home'), ('Back', 'Back to previous …"
      ]
     },
     "metadata": {},
     "output_type": "display_data"
    },
    {
     "data": {
      "text/plain": [
       "<matplotlib.legend.Legend at 0x7f1de2f8d750>"
      ]
     },
     "execution_count": 184,
     "metadata": {},
     "output_type": "execute_result"
    }
   ],
   "source": [
    "fig10, ax10 = plt.subplots(2,4, figsize=(15,10))\n",
    "ax10=ax10.flatten()\n",
    "\n",
    "fig10.suptitle('neutron (rec - gen)', fontsize=16)\n",
    "\n",
    "for i, distro in enumerate(neut_diff):\n",
    "    hist1D(ax10[i], MC_df, distro, cuts=cut&(MC_df.Pi0rec_status==4010), label=\"CND\", bins=50)\n",
    "    hist1D(ax10[i], MC_df, distro, cuts=cut&(MC_df.Pi0rec_status==4100), label=\"CTOF\", bins=50)\n",
    "    hist1D(ax10[i], MC_df, distro, cuts=cut&(MC_df.Pi0rec_status==4110), label=\"CND/CTOF\", bins=50)\n",
    "    \n",
    "ax10[3].legend(loc=1)"
   ]
  },
  {
   "cell_type": "code",
   "execution_count": 187,
   "id": "weekly-cream",
   "metadata": {
    "collapsed": true,
    "jupyter": {
     "outputs_hidden": true,
     "source_hidden": true
    }
   },
   "outputs": [
    {
     "data": {
      "application/vnd.jupyter.widget-view+json": {
       "model_id": "f894268331ac4284a24c39f3cf6fd086",
       "version_major": 2,
       "version_minor": 0
      },
      "text/plain": [
       "Canvas(toolbar=Toolbar(toolitems=[('Home', 'Reset original view', 'home', 'home'), ('Back', 'Back to previous …"
      ]
     },
     "metadata": {},
     "output_type": "display_data"
    },
    {
     "data": {
      "text/plain": [
       "<matplotlib.legend.Legend at 0x7f1de262aa50>"
      ]
     },
     "execution_count": 187,
     "metadata": {},
     "output_type": "execute_result"
    }
   ],
   "source": [
    "fig10, ax10 = plt.subplots(2,4, figsize=(15,10))\n",
    "ax10=ax10.flatten()\n",
    "\n",
    "fig10.suptitle('neutron (rec - gen)', fontsize=16)\n",
    "\n",
    "for i, distro in enumerate(neut_diff):\n",
    "    hist1D(ax10[i], MC_df, distro, cuts=cut&(MC_df.Pi0rec_status==4010), density=True, label=\"CND\", bins=50)\n",
    "    hist1D(ax10[i], MC_df, distro, cuts=cut&(MC_df.Pi0rec_status==4100), density=True, label=\"CTOF\", bins=50)\n",
    "    hist1D(ax10[i], MC_df, distro, cuts=cut&(MC_df.Pi0rec_status==4110), density=True, label=\"CND/CTOF\", bins=50)\n",
    "    \n",
    "ax10[3].legend(loc=1)"
   ]
  },
  {
   "cell_type": "code",
   "execution_count": 208,
   "id": "lovely-postage",
   "metadata": {
    "jupyter": {
     "source_hidden": true
    }
   },
   "outputs": [],
   "source": [
    "dphi_p_stat1 = h2d(\n",
    "    xdata=MC_df[\"deltaPi0rec_phi\"][(MC_df.Truth == 1)&(MC_df.Pi0rec_status==4010)], \n",
    "    ydata=MC_df[\"Pi0rec_magP\"][(MC_df.Truth == 1)&(MC_df.Pi0rec_status==4010)], \n",
    "    xrange=[-30,80], \n",
    "    xbins=100, \n",
    "    yrange=[0,1.75], \n",
    "    ybins=100, \n",
    "    xname=r\"$\\delta \\phi (cut)$\", \n",
    "    yname=r\"$|p| (cut)$\"\n",
    ")\n",
    "\n",
    "dphi_p_stat2 = h2d(\n",
    "    xdata=MC_df[\"deltaPi0rec_phi\"][(MC_df.Truth == 1)&(MC_df.Pi0rec_status==4100)], \n",
    "    ydata=MC_df[\"Pi0rec_magP\"][(MC_df.Truth == 1)&(MC_df.Pi0rec_status==4100)], \n",
    "    xrange=[-30,80], \n",
    "    xbins=70, \n",
    "    yrange=[0,1.75], \n",
    "    ybins=70, \n",
    "    xname=r\"$\\delta \\phi (cut)$\", \n",
    "    yname=r\"$|p| (cut)$\"\n",
    ")\n",
    "\n",
    "dphi_p_stat3 = h2d(\n",
    "    xdata=MC_df[\"deltaPi0rec_phi\"][(MC_df.Truth == 1)&(MC_df.Pi0rec_status==4110)], \n",
    "    ydata=MC_df[\"Pi0rec_magP\"][(MC_df.Truth == 1)&(MC_df.Pi0rec_status==4110)], \n",
    "    xrange=[-30,80], \n",
    "    xbins=30, \n",
    "    yrange=[0,1.75], \n",
    "    ybins=30, \n",
    "    xname=r\"$\\delta \\phi (cut)$\", \n",
    "    yname=r\"$|p| (cut)$\"\n",
    ")\n"
   ]
  },
  {
   "cell_type": "code",
   "execution_count": 209,
   "id": "adverse-marble",
   "metadata": {
    "collapsed": true,
    "jupyter": {
     "outputs_hidden": true,
     "source_hidden": true
    }
   },
   "outputs": [
    {
     "data": {
      "application/vnd.jupyter.widget-view+json": {
       "model_id": "91689515fe73446ea1125b79cb4c8976",
       "version_major": 2,
       "version_minor": 0
      },
      "text/plain": [
       "Canvas(toolbar=Toolbar(toolitems=[('Home', 'Reset original view', 'home', 'home'), ('Back', 'Back to previous …"
      ]
     },
     "metadata": {},
     "output_type": "display_data"
    },
    {
     "data": {
      "text/plain": [
       "<matplotlib.collections.QuadMesh at 0x7f1de06f5090>"
      ]
     },
     "execution_count": 209,
     "metadata": {},
     "output_type": "execute_result"
    }
   ],
   "source": [
    "fig,ax = plt.subplots(1,3, figsize=(15,5))\n",
    "\n",
    "dphi_p_stat1.plot(ax=ax[0], density=False)\n",
    "dphi_p_stat2.plot(ax=ax[1], density=False)\n",
    "dphi_p_stat3.plot(ax=ax[2], density=False)"
   ]
  },
  {
   "cell_type": "code",
   "execution_count": 213,
   "id": "ancient-glossary",
   "metadata": {
    "jupyter": {
     "source_hidden": true
    }
   },
   "outputs": [],
   "source": [
    "dphi_phi_stat1 = h2d(\n",
    "    ydata=MC_df[\"deltaPi0rec_phi\"][(MC_df.Truth == 1)&(MC_df.Pi0rec_status==4010)], \n",
    "    xdata=MC_df[\"Pi0rec_phi\"][(MC_df.Truth == 1)&(MC_df.Pi0rec_status==4010)], \n",
    "    yrange=[-10,50], \n",
    "    ybins=80, \n",
    "    xrange=[-180,180], \n",
    "    xbins=48, \n",
    "    yname=r\"$\\delta \\phi (cut)$\", \n",
    "    xname=r\"$\\phi$\"\n",
    ")\n",
    "\n",
    "dphi_phi_stat2 = h2d(\n",
    "    ydata=MC_df[\"deltaPi0rec_phi\"][(MC_df.Truth == 1)&(MC_df.Pi0rec_status==4100)], \n",
    "    xdata=MC_df[\"Pi0rec_phi\"][(MC_df.Truth == 1)&(MC_df.Pi0rec_status==4100)], \n",
    "    yrange=[-10,50], \n",
    "    ybins=60, \n",
    "    xrange=[-180,180], \n",
    "    xbins=48, \n",
    "    yname=r\"$\\delta \\phi (cut)$\", \n",
    "    xname=r\"$\\phi$\"\n",
    ")\n",
    "\n",
    "dphi_phi_stat3 = h2d(\n",
    "    ydata=MC_df[\"deltaPi0rec_phi\"][(MC_df.Truth == 1)&(MC_df.Pi0rec_status==4110)], \n",
    "    xdata=MC_df[\"Pi0rec_phi\"][(MC_df.Truth == 1)&(MC_df.Pi0rec_status==4110)], \n",
    "    yrange=[-10,50], \n",
    "    ybins=20, \n",
    "    xrange=[-180,180], \n",
    "    xbins=48,  \n",
    "    yname=r\"$\\delta \\phi (cut)$\", \n",
    "    xname=r\"$\\phi$\"\n",
    ")\n"
   ]
  },
  {
   "cell_type": "code",
   "execution_count": 214,
   "id": "alternative-bruce",
   "metadata": {
    "collapsed": true,
    "jupyter": {
     "outputs_hidden": true,
     "source_hidden": true
    }
   },
   "outputs": [
    {
     "data": {
      "application/vnd.jupyter.widget-view+json": {
       "model_id": "cedd2bdc348347eb9204409de4c220c1",
       "version_major": 2,
       "version_minor": 0
      },
      "text/plain": [
       "Canvas(toolbar=Toolbar(toolitems=[('Home', 'Reset original view', 'home', 'home'), ('Back', 'Back to previous …"
      ]
     },
     "metadata": {},
     "output_type": "display_data"
    },
    {
     "data": {
      "text/plain": [
       "<matplotlib.collections.QuadMesh at 0x7f1de33ef1d0>"
      ]
     },
     "execution_count": 214,
     "metadata": {},
     "output_type": "execute_result"
    }
   ],
   "source": [
    "fig,ax = plt.subplots(1,3, figsize=(15,5))\n",
    "\n",
    "dphi_phi_stat1.plot(ax=ax[0], density=False)\n",
    "dphi_phi_stat2.plot(ax=ax[1], density=False)\n",
    "dphi_phi_stat3.plot(ax=ax[2], density=False)"
   ]
  },
  {
   "cell_type": "code",
   "execution_count": 229,
   "id": "constant-diabetes",
   "metadata": {},
   "outputs": [],
   "source": [
    "dphi_Phi_stat1 = h2d(\n",
    "    ydata=MC_df[\"deltaPi0rec_phi\"][(MC_df.Truth == 1)&(MC_df.Pi0rec_status==4010)],\n",
    "    xdata=MC_df[\"Pi0rec_phi\"][(MC_df.Truth == 1)&(MC_df.Pi0rec_status==4010)],\n",
    "    yrange=[-9,9], \n",
    "    ybins=3, \n",
    "    xrange=[-180,180], \n",
    "    xbins=48, \n",
    "    yname=r\"$\\delta \\phi (cut)$\", \n",
    "    xname=r\"$truth-matched\\ \\phi$\"\n",
    ")\n",
    "\n",
    "dphi_Phi_stat2 = h2d(\n",
    "    ydata=MC_df[\"deltaPi0rec_phi\"][(MC_df.Truth == 1)&(MC_df.Pi0rec_status==4100)],\n",
    "    xdata=MC_df[\"Pi0rec_phi\"][(MC_df.Truth == 1)&(MC_df.Pi0rec_status==4100)],\n",
    "    yrange=[-9,9], \n",
    "    ybins=3, \n",
    "    xrange=[-180,180], \n",
    "    xbins=48, \n",
    "    yname=r\"$\\delta \\phi (cut)$\", \n",
    "    xname=r\"$truth-matched\\ \\phi$\"\n",
    ")\n",
    "\n",
    "dphi_Phi_stat3 = h2d(\n",
    "    ydata=MC_df[\"deltaPi0rec_phi\"][(MC_df.Truth == 1)&(MC_df.Pi0rec_status==4110)],\n",
    "    xdata=MC_df[\"Pi0rec_phi\"][(MC_df.Truth == 1)&(MC_df.Pi0rec_status==4110)],\n",
    "    yrange=[-9,9], \n",
    "    ybins=3, \n",
    "    xrange=[-180,180], \n",
    "    xbins=48, \n",
    "    yname=r\"$\\delta \\phi (cut)$\", \n",
    "    xname=r\"$truth-matched\\ \\phi$\"\n",
    ")\n",
    "\n"
   ]
  },
  {
   "cell_type": "code",
   "execution_count": 230,
   "id": "considered-plumbing",
   "metadata": {},
   "outputs": [
    {
     "data": {
      "application/vnd.jupyter.widget-view+json": {
       "model_id": "7b54aea9c74b4a1b9667853e3f49d85e",
       "version_major": 2,
       "version_minor": 0
      },
      "text/plain": [
       "Canvas(toolbar=Toolbar(toolitems=[('Home', 'Reset original view', 'home', 'home'), ('Back', 'Back to previous …"
      ]
     },
     "metadata": {},
     "output_type": "display_data"
    },
    {
     "data": {
      "text/plain": [
       "<matplotlib.collections.QuadMesh at 0x7f1ddf5c1c10>"
      ]
     },
     "execution_count": 230,
     "metadata": {},
     "output_type": "execute_result"
    }
   ],
   "source": [
    "fig,ax = plt.subplots(1,3, figsize=(18,5))\n",
    "\n",
    "dphi_Phi_stat1.plot(ax=ax[0], density=False)\n",
    "dphi_Phi_stat2.plot(ax=ax[1], density=False)\n",
    "dphi_Phi_stat3.plot(ax=ax[2], density=False)"
   ]
  },
  {
   "cell_type": "markdown",
   "id": "beneficial-deadline",
   "metadata": {},
   "source": [
    "## Adding PID matching on truth"
   ]
  },
  {
   "cell_type": "code",
   "execution_count": 83,
   "id": "centered-emperor",
   "metadata": {},
   "outputs": [
    {
     "data": {
      "application/vnd.jupyter.widget-view+json": {
       "model_id": "73bdaf0a76ec4ad78db722b5f5a71228",
       "version_major": 2,
       "version_minor": 0
      },
      "text/plain": [
       "Canvas(toolbar=Toolbar(toolitems=[('Home', 'Reset original view', 'home', 'home'), ('Back', 'Back to previous …"
      ]
     },
     "metadata": {},
     "output_type": "display_data"
    }
   ],
   "source": [
    "fig2, ax2 = plt.subplots(2,4, figsize=(15,10))\n",
    "ax2=ax2.flatten()\n",
    "\n",
    "fig2.suptitle('neutrons', fontsize=16)\n",
    "\n",
    "for i, distro in enumerate(neut_distros):\n",
    "    hist1D(ax2[i], MC_df, distro, cuts=(MC_df.Truth==1)&(MC_df.Pi0flag_MC_neutrec==1))\n",
    "    \n",
    "for i, distro in enumerate(neut_t_distros):\n",
    "    ax=ax2[i].twinx()\n",
    "\n",
    "    hist1D(ax, MC_df, distro, cuts=(MC_df.Truth==1)&(MC_df.Pi0flag_MC_neutrec==1), color='brown', lalpha=0.7)"
   ]
  },
  {
   "cell_type": "code",
   "execution_count": 79,
   "id": "inappropriate-northwest",
   "metadata": {},
   "outputs": [
    {
     "data": {
      "application/vnd.jupyter.widget-view+json": {
       "model_id": "ad284cb944824b34aef7b40af552d015",
       "version_major": 2,
       "version_minor": 0
      },
      "text/plain": [
       "Canvas(toolbar=Toolbar(toolitems=[('Home', 'Reset original view', 'home', 'home'), ('Back', 'Back to previous …"
      ]
     },
     "metadata": {},
     "output_type": "display_data"
    }
   ],
   "source": [
    "fig6, ax6 = plt.subplots(2,4, figsize=(15,10))\n",
    "ax6=ax6.flatten()\n",
    "\n",
    "fig6.suptitle('neutrons', fontsize=16)\n",
    "\n",
    "for i, distro in enumerate(neut_distros):\n",
    "    hist1D(ax6[i], MC_df, distro, cuts=cut&(MC_df.Pi0flag_MC_neutrec==1))\n",
    "    \n",
    "for i, distro in enumerate(neut_t_distros):\n",
    "    ax=ax6[i].twinx()\n",
    "\n",
    "    hist1D(ax, MC_df, distro, cuts=cut&(MC_df.Pi0flag_MC_neutrec==1), color='brown', lalpha=0.7)"
   ]
  },
  {
   "cell_type": "code",
   "execution_count": 69,
   "id": "cellular-script",
   "metadata": {},
   "outputs": [],
   "source": [
    "neut_diff = [\n",
    "    ['deltaPi0rec_px', (100, -.5, .5), r\"$\\delta p_{x}$\"],\n",
    "    ['deltaPi0rec_py', (100, -.5, .5), r\"$\\delta p_{y}$\"],\n",
    "    ['deltaPi0rec_pz', (100, -.5, .5), r\"$\\delta p_{z}$\"],\n",
    "    ['deltaPi0rec_E', (100, -.5, .5), r\"$\\delta E$\"],\n",
    "    ['deltaPi0rec_magP', (100, -.5, .5), r\"$\\delta |p|$\"],\n",
    "    ['deltaPi0rec_pT', (100, -.5, .5), r\"$\\delta p_{T}$\"],\n",
    "    ['deltaPi0rec_theta', (100, -10, 10), r\"$\\delta \\theta$\"],    \n",
    "    ['deltaPi0rec_phi', (100, -10, 50), r\"$\\delta \\phi$\"]\n",
    "]"
   ]
  },
  {
   "cell_type": "code",
   "execution_count": 70,
   "id": "imported-ottawa",
   "metadata": {},
   "outputs": [
    {
     "data": {
      "application/vnd.jupyter.widget-view+json": {
       "model_id": "26419e8f65a749ee80fbc8a8bc3ee82c",
       "version_major": 2,
       "version_minor": 0
      },
      "text/plain": [
       "Canvas(toolbar=Toolbar(toolitems=[('Home', 'Reset original view', 'home', 'home'), ('Back', 'Back to previous …"
      ]
     },
     "metadata": {},
     "output_type": "display_data"
    }
   ],
   "source": [
    "fig10, ax10 = plt.subplots(2,4, figsize=(15,10))\n",
    "ax10=ax10.flatten()\n",
    "\n",
    "fig10.suptitle('neutron (rec - gen)', fontsize=16)\n",
    "\n",
    "for i, distro in enumerate(neut_diff):\n",
    "    hist1D(ax10[i], MC_df, distro, cuts=cut&(MC_df.Pi0flag_MC_neutrec==1), color='orangered', lalpha=0.7)"
   ]
  },
  {
   "cell_type": "code",
   "execution_count": null,
   "id": "positive-induction",
   "metadata": {},
   "outputs": [],
   "source": []
  }
 ],
 "metadata": {
  "kernelspec": {
   "display_name": "pi0-ana",
   "language": "python",
   "name": "pi0-ana"
  },
  "language_info": {
   "codemirror_mode": {
    "name": "ipython",
    "version": 3
   },
   "file_extension": ".py",
   "mimetype": "text/x-python",
   "name": "python",
   "nbconvert_exporter": "python",
   "pygments_lexer": "ipython3",
   "version": "3.7.9"
  },
  "widgets": {
   "application/vnd.jupyter.widget-state+json": {
    "state": {
     "00246c52c40942c3bef53dea63acac24": {
      "model_module": "@jupyter-widgets/base",
      "model_module_version": "1.2.0",
      "model_name": "LayoutModel",
      "state": {}
     },
     "009873e64ac54f4fa77357f25f27a634": {
      "model_module": "jupyter-matplotlib",
      "model_module_version": "^0.8.3",
      "model_name": "MPLCanvasModel",
      "state": {
       "_cursor": "default",
       "_figure_label": "Figure 24",
       "_height": 550,
       "_image_mode": "diff",
       "_rubberband_y": 551,
       "_width": 800,
       "layout": "IPY_MODEL_73bcd7d4216f4cccbe0132108c237557",
       "toolbar": "IPY_MODEL_85d5e980e25f438b9b7f6b718e586a81",
       "toolbar_position": "left"
      }
     },
     "01202bbade1a4324a8e63cd9c3f71ac6": {
      "model_module": "jupyter-matplotlib",
      "model_module_version": "^0.8.3",
      "model_name": "ToolbarModel",
      "state": {
       "layout": "IPY_MODEL_6bde52f6f9a84b61988d64efd08b3504",
       "toolitems": [
        [
         "Home",
         "Reset original view",
         "home",
         "home"
        ],
        [
         "Back",
         "Back to previous view",
         "arrow-left",
         "back"
        ],
        [
         "Forward",
         "Forward to next view",
         "arrow-right",
         "forward"
        ],
        [
         "Pan",
         "Left button pans, Right button zooms\nx/y fixes axis, CTRL fixes aspect",
         "arrows",
         "pan"
        ],
        [
         "Zoom",
         "Zoom to rectangle\nx/y fixes axis, CTRL fixes aspect",
         "square-o",
         "zoom"
        ],
        [
         "Download",
         "Download plot",
         "floppy-o",
         "save_figure"
        ]
       ]
      }
     },
     "02870e6c4a224ca48150bf8743e7c048": {
      "model_module": "jupyter-matplotlib",
      "model_module_version": "^0.8.3",
      "model_name": "MPLCanvasModel",
      "state": {
       "_cursor": "default",
       "_figure_label": "Figure 61",
       "_height": 1000,
       "_width": 1200,
       "layout": "IPY_MODEL_f10dc3fab9b2470fa3868a4db48d8e59",
       "toolbar": "IPY_MODEL_b209e5902d74485a9381497c9fcbe5d0",
       "toolbar_position": "left"
      }
     },
     "02e433f7ee38413ba5925ba858cd7ed5": {
      "model_module": "@jupyter-widgets/base",
      "model_module_version": "1.2.0",
      "model_name": "LayoutModel",
      "state": {}
     },
     "031c2dbb9f764f13b79e410fbab17da1": {
      "model_module": "@jupyter-widgets/base",
      "model_module_version": "1.2.0",
      "model_name": "LayoutModel",
      "state": {}
     },
     "03472f54c3b64af595586044a44c87fb": {
      "model_module": "jupyter-matplotlib",
      "model_module_version": "^0.8.3",
      "model_name": "ToolbarModel",
      "state": {
       "layout": "IPY_MODEL_a1da4d6253eb47de8a6cf43da2b6171c",
       "toolitems": [
        [
         "Home",
         "Reset original view",
         "home",
         "home"
        ],
        [
         "Back",
         "Back to previous view",
         "arrow-left",
         "back"
        ],
        [
         "Forward",
         "Forward to next view",
         "arrow-right",
         "forward"
        ],
        [
         "Pan",
         "Left button pans, Right button zooms\nx/y fixes axis, CTRL fixes aspect",
         "arrows",
         "pan"
        ],
        [
         "Zoom",
         "Zoom to rectangle\nx/y fixes axis, CTRL fixes aspect",
         "square-o",
         "zoom"
        ],
        [
         "Download",
         "Download plot",
         "floppy-o",
         "save_figure"
        ]
       ]
      }
     },
     "044f0c1fc1f6435ab94c175179bc6f2b": {
      "model_module": "@jupyter-widgets/base",
      "model_module_version": "1.2.0",
      "model_name": "LayoutModel",
      "state": {}
     },
     "05021abb48af420896f5cf4e2967b5c3": {
      "model_module": "@jupyter-widgets/base",
      "model_module_version": "1.2.0",
      "model_name": "LayoutModel",
      "state": {}
     },
     "054275f44e874c5e866f7d9c733facdf": {
      "model_module": "@jupyter-widgets/base",
      "model_module_version": "1.2.0",
      "model_name": "LayoutModel",
      "state": {}
     },
     "0551b828ccb64b80baaded8f202cd3a2": {
      "model_module": "jupyter-matplotlib",
      "model_module_version": "^0.8.3",
      "model_name": "MPLCanvasModel",
      "state": {
       "_cursor": "default",
       "_figure_label": "Figure 66",
       "_height": 600,
       "_image_mode": "diff",
       "_width": 1200,
       "layout": "IPY_MODEL_c95ce000623b42c49d659d128a5bb584",
       "toolbar": "IPY_MODEL_3bc5c46ade4843d2bd80fc4886e018a8",
       "toolbar_position": "left"
      }
     },
     "0571d476f8d14e828a4ef4a9571b402d": {
      "model_module": "@jupyter-widgets/base",
      "model_module_version": "1.2.0",
      "model_name": "LayoutModel",
      "state": {}
     },
     "05a83d3a448f45cf9e92e014671a7a38": {
      "model_module": "@jupyter-widgets/base",
      "model_module_version": "1.2.0",
      "model_name": "LayoutModel",
      "state": {}
     },
     "05bc423798d949b587cdfb34a6e5e4e1": {
      "model_module": "jupyter-matplotlib",
      "model_module_version": "^0.8.3",
      "model_name": "MPLCanvasModel",
      "state": {
       "_cursor": "default",
       "_figure_label": "Figure 77",
       "_height": 500,
       "_width": 1000,
       "layout": "IPY_MODEL_0ac5ea23817341849cbf4038ad2d06a0",
       "toolbar": "IPY_MODEL_0785bdbef3094f76b2ef1063b0e1ae22",
       "toolbar_position": "left"
      }
     },
     "0620e1f0662342c2a46083a8c6ec8a0a": {
      "model_module": "jupyter-matplotlib",
      "model_module_version": "^0.8.3",
      "model_name": "ToolbarModel",
      "state": {
       "layout": "IPY_MODEL_6d5955be66d04de4a58393dd9453c586",
       "toolitems": [
        [
         "Home",
         "Reset original view",
         "home",
         "home"
        ],
        [
         "Back",
         "Back to previous view",
         "arrow-left",
         "back"
        ],
        [
         "Forward",
         "Forward to next view",
         "arrow-right",
         "forward"
        ],
        [
         "Pan",
         "Left button pans, Right button zooms\nx/y fixes axis, CTRL fixes aspect",
         "arrows",
         "pan"
        ],
        [
         "Zoom",
         "Zoom to rectangle\nx/y fixes axis, CTRL fixes aspect",
         "square-o",
         "zoom"
        ],
        [
         "Download",
         "Download plot",
         "floppy-o",
         "save_figure"
        ]
       ]
      }
     },
     "06507ae29c5e4ac3873e421556346cc2": {
      "model_module": "@jupyter-widgets/base",
      "model_module_version": "1.2.0",
      "model_name": "LayoutModel",
      "state": {}
     },
     "06647f331384431eb8e8d287805fd45a": {
      "model_module": "@jupyter-widgets/base",
      "model_module_version": "1.2.0",
      "model_name": "LayoutModel",
      "state": {}
     },
     "06a3611821e741d3a4c39d3536b6f357": {
      "model_module": "@jupyter-widgets/base",
      "model_module_version": "1.2.0",
      "model_name": "LayoutModel",
      "state": {}
     },
     "07020e4f23d240bcb57b6a601aed3777": {
      "model_module": "jupyter-matplotlib",
      "model_module_version": "^0.8.3",
      "model_name": "ToolbarModel",
      "state": {
       "layout": "IPY_MODEL_443d21ee955f44738ace0d848d8871a0",
       "toolitems": [
        [
         "Home",
         "Reset original view",
         "home",
         "home"
        ],
        [
         "Back",
         "Back to previous view",
         "arrow-left",
         "back"
        ],
        [
         "Forward",
         "Forward to next view",
         "arrow-right",
         "forward"
        ],
        [
         "Pan",
         "Left button pans, Right button zooms\nx/y fixes axis, CTRL fixes aspect",
         "arrows",
         "pan"
        ],
        [
         "Zoom",
         "Zoom to rectangle\nx/y fixes axis, CTRL fixes aspect",
         "square-o",
         "zoom"
        ],
        [
         "Download",
         "Download plot",
         "floppy-o",
         "save_figure"
        ]
       ]
      }
     },
     "0752bd26145744baa1966af4d9b7096a": {
      "model_module": "@jupyter-widgets/base",
      "model_module_version": "1.2.0",
      "model_name": "LayoutModel",
      "state": {}
     },
     "077d637d6be549f4aeff8e9fb173e4bf": {
      "model_module": "@jupyter-widgets/base",
      "model_module_version": "1.2.0",
      "model_name": "LayoutModel",
      "state": {}
     },
     "0785bdbef3094f76b2ef1063b0e1ae22": {
      "model_module": "jupyter-matplotlib",
      "model_module_version": "^0.8.3",
      "model_name": "ToolbarModel",
      "state": {
       "layout": "IPY_MODEL_36480ed72d034bd7bdd9bee0dadcd934",
       "toolitems": [
        [
         "Home",
         "Reset original view",
         "home",
         "home"
        ],
        [
         "Back",
         "Back to previous view",
         "arrow-left",
         "back"
        ],
        [
         "Forward",
         "Forward to next view",
         "arrow-right",
         "forward"
        ],
        [
         "Pan",
         "Left button pans, Right button zooms\nx/y fixes axis, CTRL fixes aspect",
         "arrows",
         "pan"
        ],
        [
         "Zoom",
         "Zoom to rectangle\nx/y fixes axis, CTRL fixes aspect",
         "square-o",
         "zoom"
        ],
        [
         "Download",
         "Download plot",
         "floppy-o",
         "save_figure"
        ]
       ]
      }
     },
     "07a27e90ae8643e2bd010fb951b53be5": {
      "model_module": "@jupyter-widgets/base",
      "model_module_version": "1.2.0",
      "model_name": "LayoutModel",
      "state": {}
     },
     "07e6a6a8fe164eff8fd34857a075cc90": {
      "model_module": "@jupyter-widgets/base",
      "model_module_version": "1.2.0",
      "model_name": "LayoutModel",
      "state": {}
     },
     "08866cece0dd45b9ba2710b31375330a": {
      "model_module": "@jupyter-widgets/base",
      "model_module_version": "1.2.0",
      "model_name": "LayoutModel",
      "state": {}
     },
     "08a2c2a139a84e6b87697cbd448ad594": {
      "model_module": "@jupyter-widgets/base",
      "model_module_version": "1.2.0",
      "model_name": "LayoutModel",
      "state": {}
     },
     "08f8da70c7844f45b2d6b164c30a8cd7": {
      "model_module": "jupyter-matplotlib",
      "model_module_version": "^0.8.3",
      "model_name": "ToolbarModel",
      "state": {
       "layout": "IPY_MODEL_08a2c2a139a84e6b87697cbd448ad594",
       "toolitems": [
        [
         "Home",
         "Reset original view",
         "home",
         "home"
        ],
        [
         "Back",
         "Back to previous view",
         "arrow-left",
         "back"
        ],
        [
         "Forward",
         "Forward to next view",
         "arrow-right",
         "forward"
        ],
        [
         "Pan",
         "Left button pans, Right button zooms\nx/y fixes axis, CTRL fixes aspect",
         "arrows",
         "pan"
        ],
        [
         "Zoom",
         "Zoom to rectangle\nx/y fixes axis, CTRL fixes aspect",
         "square-o",
         "zoom"
        ],
        [
         "Download",
         "Download plot",
         "floppy-o",
         "save_figure"
        ]
       ]
      }
     },
     "096642318f2841d3b28b22a8630de16b": {
      "model_module": "jupyter-matplotlib",
      "model_module_version": "^0.8.3",
      "model_name": "ToolbarModel",
      "state": {
       "layout": "IPY_MODEL_c0fb697108004fbdae672f92504e7952",
       "toolitems": [
        [
         "Home",
         "Reset original view",
         "home",
         "home"
        ],
        [
         "Back",
         "Back to previous view",
         "arrow-left",
         "back"
        ],
        [
         "Forward",
         "Forward to next view",
         "arrow-right",
         "forward"
        ],
        [
         "Pan",
         "Left button pans, Right button zooms\nx/y fixes axis, CTRL fixes aspect",
         "arrows",
         "pan"
        ],
        [
         "Zoom",
         "Zoom to rectangle\nx/y fixes axis, CTRL fixes aspect",
         "square-o",
         "zoom"
        ],
        [
         "Download",
         "Download plot",
         "floppy-o",
         "save_figure"
        ]
       ]
      }
     },
     "0a1192f090d24d25a4a8742fc0d438fe": {
      "model_module": "jupyter-matplotlib",
      "model_module_version": "^0.8.3",
      "model_name": "ToolbarModel",
      "state": {
       "layout": "IPY_MODEL_7e42dd09efad4deb84309f872ea6e88e",
       "toolitems": [
        [
         "Home",
         "Reset original view",
         "home",
         "home"
        ],
        [
         "Back",
         "Back to previous view",
         "arrow-left",
         "back"
        ],
        [
         "Forward",
         "Forward to next view",
         "arrow-right",
         "forward"
        ],
        [
         "Pan",
         "Left button pans, Right button zooms\nx/y fixes axis, CTRL fixes aspect",
         "arrows",
         "pan"
        ],
        [
         "Zoom",
         "Zoom to rectangle\nx/y fixes axis, CTRL fixes aspect",
         "square-o",
         "zoom"
        ],
        [
         "Download",
         "Download plot",
         "floppy-o",
         "save_figure"
        ]
       ]
      }
     },
     "0a14181db8a74d39b5c0564bf3a8c6b8": {
      "model_module": "@jupyter-widgets/base",
      "model_module_version": "1.2.0",
      "model_name": "LayoutModel",
      "state": {}
     },
     "0a3ca1e4b64b41128b58bfb76731f306": {
      "model_module": "jupyter-matplotlib",
      "model_module_version": "^0.8.3",
      "model_name": "ToolbarModel",
      "state": {
       "layout": "IPY_MODEL_603d7992e2e94cd990b686939474a0c4",
       "toolitems": [
        [
         "Home",
         "Reset original view",
         "home",
         "home"
        ],
        [
         "Back",
         "Back to previous view",
         "arrow-left",
         "back"
        ],
        [
         "Forward",
         "Forward to next view",
         "arrow-right",
         "forward"
        ],
        [
         "Pan",
         "Left button pans, Right button zooms\nx/y fixes axis, CTRL fixes aspect",
         "arrows",
         "pan"
        ],
        [
         "Zoom",
         "Zoom to rectangle\nx/y fixes axis, CTRL fixes aspect",
         "square-o",
         "zoom"
        ],
        [
         "Download",
         "Download plot",
         "floppy-o",
         "save_figure"
        ]
       ]
      }
     },
     "0a848072296540b589657165245fc8bd": {
      "model_module": "@jupyter-widgets/base",
      "model_module_version": "1.2.0",
      "model_name": "LayoutModel",
      "state": {}
     },
     "0aa3c69d18e74bd5a4bf4db5ee0129b0": {
      "model_module": "@jupyter-widgets/base",
      "model_module_version": "1.2.0",
      "model_name": "LayoutModel",
      "state": {}
     },
     "0ac5ea23817341849cbf4038ad2d06a0": {
      "model_module": "@jupyter-widgets/base",
      "model_module_version": "1.2.0",
      "model_name": "LayoutModel",
      "state": {}
     },
     "0ac743ad0a6c4297b438e40b19e88a40": {
      "model_module": "@jupyter-widgets/base",
      "model_module_version": "1.2.0",
      "model_name": "LayoutModel",
      "state": {}
     },
     "0c9e45dc730140f0a189fbe1826c7435": {
      "model_module": "@jupyter-widgets/base",
      "model_module_version": "1.2.0",
      "model_name": "LayoutModel",
      "state": {}
     },
     "0cdc0e26941a4b169e1b9af1855c1348": {
      "model_module": "jupyter-matplotlib",
      "model_module_version": "^0.8.3",
      "model_name": "MPLCanvasModel",
      "state": {
       "_cursor": "default",
       "_figure_label": "Figure 40",
       "_height": 1000,
       "_message": "x=−0.16 y=668.",
       "_width": 1500,
       "layout": "IPY_MODEL_d6cfb3c5d82a42b0a62ad2b439b8209c",
       "toolbar": "IPY_MODEL_5edfe4575905467a91cc111881b2d9dc",
       "toolbar_position": "left"
      }
     },
     "0d8059dddcb04a7ca17cb8cf31c0fb89": {
      "model_module": "jupyter-matplotlib",
      "model_module_version": "^0.8.3",
      "model_name": "ToolbarModel",
      "state": {
       "layout": "IPY_MODEL_cab45c44a07f4e2fbd190338477a8b61",
       "toolitems": [
        [
         "Home",
         "Reset original view",
         "home",
         "home"
        ],
        [
         "Back",
         "Back to previous view",
         "arrow-left",
         "back"
        ],
        [
         "Forward",
         "Forward to next view",
         "arrow-right",
         "forward"
        ],
        [
         "Pan",
         "Left button pans, Right button zooms\nx/y fixes axis, CTRL fixes aspect",
         "arrows",
         "pan"
        ],
        [
         "Zoom",
         "Zoom to rectangle\nx/y fixes axis, CTRL fixes aspect",
         "square-o",
         "zoom"
        ],
        [
         "Download",
         "Download plot",
         "floppy-o",
         "save_figure"
        ]
       ]
      }
     },
     "0d977a57f5574e679a71b8a696bb9c49": {
      "model_module": "@jupyter-widgets/base",
      "model_module_version": "1.2.0",
      "model_name": "LayoutModel",
      "state": {}
     },
     "0e5b49d81c4b46bf8b2fa918775cb07a": {
      "model_module": "@jupyter-widgets/base",
      "model_module_version": "1.2.0",
      "model_name": "LayoutModel",
      "state": {}
     },
     "0ebfa64d335d4bd9b07ec49cc26f5013": {
      "model_module": "jupyter-matplotlib",
      "model_module_version": "^0.8.3",
      "model_name": "MPLCanvasModel",
      "state": {
       "_cursor": "default",
       "_figure_label": "Figure 7",
       "_height": 1000,
       "_image_mode": "diff",
       "_message": "x=1.078 y=1085.",
       "_width": 1500,
       "layout": "IPY_MODEL_a077b552eacd42c6bcda62d0129e40fc",
       "toolbar": "IPY_MODEL_01202bbade1a4324a8e63cd9c3f71ac6",
       "toolbar_position": "left"
      }
     },
     "0efb09718d314cf7bfdc17fb136e76ae": {
      "model_module": "jupyter-matplotlib",
      "model_module_version": "^0.8.3",
      "model_name": "ToolbarModel",
      "state": {
       "layout": "IPY_MODEL_b4dd7da6ebcc4ad6ac7a9a123178ac07",
       "toolitems": [
        [
         "Home",
         "Reset original view",
         "home",
         "home"
        ],
        [
         "Back",
         "Back to previous view",
         "arrow-left",
         "back"
        ],
        [
         "Forward",
         "Forward to next view",
         "arrow-right",
         "forward"
        ],
        [
         "Pan",
         "Left button pans, Right button zooms\nx/y fixes axis, CTRL fixes aspect",
         "arrows",
         "pan"
        ],
        [
         "Zoom",
         "Zoom to rectangle\nx/y fixes axis, CTRL fixes aspect",
         "square-o",
         "zoom"
        ],
        [
         "Download",
         "Download plot",
         "floppy-o",
         "save_figure"
        ]
       ]
      }
     },
     "0f265db714554d4787cd398416966ca5": {
      "model_module": "jupyter-matplotlib",
      "model_module_version": "^0.8.3",
      "model_name": "ToolbarModel",
      "state": {
       "layout": "IPY_MODEL_dcd3a89ef9fd499fb98c5d90a050b9d8",
       "toolitems": [
        [
         "Home",
         "Reset original view",
         "home",
         "home"
        ],
        [
         "Back",
         "Back to previous view",
         "arrow-left",
         "back"
        ],
        [
         "Forward",
         "Forward to next view",
         "arrow-right",
         "forward"
        ],
        [
         "Pan",
         "Left button pans, Right button zooms\nx/y fixes axis, CTRL fixes aspect",
         "arrows",
         "pan"
        ],
        [
         "Zoom",
         "Zoom to rectangle\nx/y fixes axis, CTRL fixes aspect",
         "square-o",
         "zoom"
        ],
        [
         "Download",
         "Download plot",
         "floppy-o",
         "save_figure"
        ]
       ]
      }
     },
     "0f668ff8e133466c9fe6573fd7d4e15b": {
      "model_module": "jupyter-matplotlib",
      "model_module_version": "^0.8.3",
      "model_name": "MPLCanvasModel",
      "state": {
       "_cursor": "default",
       "_figure_label": "Figure 89",
       "_height": 600,
       "_image_mode": "diff",
       "_width": 1200,
       "layout": "IPY_MODEL_c2770fb69d3549a0a266143beffc6c7f",
       "toolbar": "IPY_MODEL_4118bda7c79a48f195b98b884032905a",
       "toolbar_position": "left"
      }
     },
     "1043d6f547ac41d8a7630cc87b2b2104": {
      "model_module": "@jupyter-widgets/base",
      "model_module_version": "1.2.0",
      "model_name": "LayoutModel",
      "state": {}
     },
     "113769fc708a49febb0bd5ee9ea8f85d": {
      "model_module": "jupyter-matplotlib",
      "model_module_version": "^0.8.3",
      "model_name": "MPLCanvasModel",
      "state": {
       "_cursor": "default",
       "_figure_label": "Figure 12",
       "_height": 1000,
       "_width": 1500,
       "layout": "IPY_MODEL_05021abb48af420896f5cf4e2967b5c3",
       "toolbar": "IPY_MODEL_90949c0c427146b59a5018e0a0112961",
       "toolbar_position": "left"
      }
     },
     "11e12a52fb3d4f239f84c1f12c8e5c3c": {
      "model_module": "jupyter-matplotlib",
      "model_module_version": "^0.8.3",
      "model_name": "MPLCanvasModel",
      "state": {
       "_cursor": "default",
       "_figure_label": "Figure 28",
       "_height": 1000,
       "_message": "x=0.341 y=144.",
       "_width": 1500,
       "layout": "IPY_MODEL_9d949dd8dd6945f19797bb4533b9171e",
       "toolbar": "IPY_MODEL_80759e53da534199bd4087f918907a39",
       "toolbar_position": "left"
      }
     },
     "122b07438be24cccb91b6acb2a48131b": {
      "model_module": "jupyter-matplotlib",
      "model_module_version": "^0.8.3",
      "model_name": "ToolbarModel",
      "state": {
       "layout": "IPY_MODEL_910ff6a399b645efbc226892c7b6cb36",
       "toolitems": [
        [
         "Home",
         "Reset original view",
         "home",
         "home"
        ],
        [
         "Back",
         "Back to previous view",
         "arrow-left",
         "back"
        ],
        [
         "Forward",
         "Forward to next view",
         "arrow-right",
         "forward"
        ],
        [
         "Pan",
         "Left button pans, Right button zooms\nx/y fixes axis, CTRL fixes aspect",
         "arrows",
         "pan"
        ],
        [
         "Zoom",
         "Zoom to rectangle\nx/y fixes axis, CTRL fixes aspect",
         "square-o",
         "zoom"
        ],
        [
         "Download",
         "Download plot",
         "floppy-o",
         "save_figure"
        ]
       ]
      }
     },
     "1311d495e11a43a9bb4cd9752fdcceec": {
      "model_module": "jupyter-matplotlib",
      "model_module_version": "^0.8.3",
      "model_name": "MPLCanvasModel",
      "state": {
       "_cursor": "default",
       "_figure_label": "Figure 111",
       "_height": 1000,
       "_width": 1500,
       "layout": "IPY_MODEL_ea2ed1b5f17842bbae58b5f0151f0140",
       "toolbar": "IPY_MODEL_55c88e5d50664e9193ac19403f6c4bd9",
       "toolbar_position": "left"
      }
     },
     "133949567720442c95622b2de38cd7e0": {
      "model_module": "@jupyter-widgets/base",
      "model_module_version": "1.2.0",
      "model_name": "LayoutModel",
      "state": {}
     },
     "13510d3f6f3440a5b2bef5fcf3fbdb2b": {
      "model_module": "jupyter-matplotlib",
      "model_module_version": "^0.8.3",
      "model_name": "ToolbarModel",
      "state": {
       "layout": "IPY_MODEL_d0dcd80449524b1286795f9ae3104d0e",
       "toolitems": [
        [
         "Home",
         "Reset original view",
         "home",
         "home"
        ],
        [
         "Back",
         "Back to previous view",
         "arrow-left",
         "back"
        ],
        [
         "Forward",
         "Forward to next view",
         "arrow-right",
         "forward"
        ],
        [
         "Pan",
         "Left button pans, Right button zooms\nx/y fixes axis, CTRL fixes aspect",
         "arrows",
         "pan"
        ],
        [
         "Zoom",
         "Zoom to rectangle\nx/y fixes axis, CTRL fixes aspect",
         "square-o",
         "zoom"
        ],
        [
         "Download",
         "Download plot",
         "floppy-o",
         "save_figure"
        ]
       ]
      }
     },
     "1395225ab8524d038093b92bd6a59dad": {
      "model_module": "jupyter-matplotlib",
      "model_module_version": "^0.8.3",
      "model_name": "MPLCanvasModel",
      "state": {
       "_cursor": "default",
       "_figure_label": "Figure 93",
       "_height": 1000,
       "_width": 1500,
       "layout": "IPY_MODEL_238d898edd2949d7b7d7c972ed3a9707",
       "toolbar": "IPY_MODEL_ae77681b07a44ac0aba2a70ee6d3ef1b",
       "toolbar_position": "left"
      }
     },
     "15f0263234114829894d3bd945c9a162": {
      "model_module": "jupyter-matplotlib",
      "model_module_version": "^0.8.3",
      "model_name": "MPLCanvasModel",
      "state": {
       "_cursor": "default",
       "_figure_label": "Figure 65",
       "_height": 1000,
       "_image_mode": "diff",
       "_width": 600,
       "layout": "IPY_MODEL_3768716ab4fb41a1a113e0285b18e9e2",
       "toolbar": "IPY_MODEL_67f48cd79f1643488ab816a3bde29290",
       "toolbar_position": "left"
      }
     },
     "18f2649b934e4d39ade8d27cea33451a": {
      "model_module": "jupyter-matplotlib",
      "model_module_version": "^0.8.3",
      "model_name": "MPLCanvasModel",
      "state": {
       "_cursor": "default",
       "_figure_label": "Figure 15",
       "_height": 1500,
       "_width": 1700,
       "layout": "IPY_MODEL_1043d6f547ac41d8a7630cc87b2b2104",
       "toolbar": "IPY_MODEL_c5dc6f07064145fcad4537f8d615f802",
       "toolbar_position": "left"
      }
     },
     "190118079cc4440192e71457239228de": {
      "model_module": "@jupyter-widgets/base",
      "model_module_version": "1.2.0",
      "model_name": "LayoutModel",
      "state": {}
     },
     "1b22a5fbc28049b09e385d833f4e0cc9": {
      "model_module": "jupyter-matplotlib",
      "model_module_version": "^0.8.3",
      "model_name": "ToolbarModel",
      "state": {
       "layout": "IPY_MODEL_133949567720442c95622b2de38cd7e0",
       "toolitems": [
        [
         "Home",
         "Reset original view",
         "home",
         "home"
        ],
        [
         "Back",
         "Back to previous view",
         "arrow-left",
         "back"
        ],
        [
         "Forward",
         "Forward to next view",
         "arrow-right",
         "forward"
        ],
        [
         "Pan",
         "Left button pans, Right button zooms\nx/y fixes axis, CTRL fixes aspect",
         "arrows",
         "pan"
        ],
        [
         "Zoom",
         "Zoom to rectangle\nx/y fixes axis, CTRL fixes aspect",
         "square-o",
         "zoom"
        ],
        [
         "Download",
         "Download plot",
         "floppy-o",
         "save_figure"
        ]
       ]
      }
     },
     "1bd70565b57045ab9199e81e4774cbdb": {
      "model_module": "jupyter-matplotlib",
      "model_module_version": "^0.8.3",
      "model_name": "ToolbarModel",
      "state": {
       "layout": "IPY_MODEL_ca8a664f982d45088e8adafb8745b451",
       "toolitems": [
        [
         "Home",
         "Reset original view",
         "home",
         "home"
        ],
        [
         "Back",
         "Back to previous view",
         "arrow-left",
         "back"
        ],
        [
         "Forward",
         "Forward to next view",
         "arrow-right",
         "forward"
        ],
        [
         "Pan",
         "Left button pans, Right button zooms\nx/y fixes axis, CTRL fixes aspect",
         "arrows",
         "pan"
        ],
        [
         "Zoom",
         "Zoom to rectangle\nx/y fixes axis, CTRL fixes aspect",
         "square-o",
         "zoom"
        ],
        [
         "Download",
         "Download plot",
         "floppy-o",
         "save_figure"
        ]
       ]
      }
     },
     "1c1959803a4e41e2977e0492fa7ad695": {
      "model_module": "jupyter-matplotlib",
      "model_module_version": "^0.8.3",
      "model_name": "MPLCanvasModel",
      "state": {
       "_cursor": "default",
       "_figure_label": "Figure 20",
       "_height": 1500,
       "_width": 1700,
       "layout": "IPY_MODEL_a341e25d77e84ef0b532813d072849f8",
       "toolbar": "IPY_MODEL_13510d3f6f3440a5b2bef5fcf3fbdb2b",
       "toolbar_position": "left"
      }
     },
     "1ca025e05f7b450599472fd0baf9d32d": {
      "model_module": "jupyter-matplotlib",
      "model_module_version": "^0.8.3",
      "model_name": "ToolbarModel",
      "state": {
       "layout": "IPY_MODEL_551cc691d2d84808bdaaf43d26dc06cd",
       "toolitems": [
        [
         "Home",
         "Reset original view",
         "home",
         "home"
        ],
        [
         "Back",
         "Back to previous view",
         "arrow-left",
         "back"
        ],
        [
         "Forward",
         "Forward to next view",
         "arrow-right",
         "forward"
        ],
        [
         "Pan",
         "Left button pans, Right button zooms\nx/y fixes axis, CTRL fixes aspect",
         "arrows",
         "pan"
        ],
        [
         "Zoom",
         "Zoom to rectangle\nx/y fixes axis, CTRL fixes aspect",
         "square-o",
         "zoom"
        ],
        [
         "Download",
         "Download plot",
         "floppy-o",
         "save_figure"
        ]
       ]
      }
     },
     "1cced96f47414b368fc52da856f70882": {
      "model_module": "@jupyter-widgets/base",
      "model_module_version": "1.2.0",
      "model_name": "LayoutModel",
      "state": {}
     },
     "1daf69ffcd3246eea0e2ef8a4fc23170": {
      "model_module": "@jupyter-widgets/base",
      "model_module_version": "1.2.0",
      "model_name": "LayoutModel",
      "state": {}
     },
     "1e2e907015d84d29b33d84aad0281fad": {
      "model_module": "@jupyter-widgets/base",
      "model_module_version": "1.2.0",
      "model_name": "LayoutModel",
      "state": {}
     },
     "1e5f988892c3465ca00d5d2b4944bf72": {
      "model_module": "@jupyter-widgets/base",
      "model_module_version": "1.2.0",
      "model_name": "LayoutModel",
      "state": {}
     },
     "1f71cd399fd841b6b09505a490e16f6e": {
      "model_module": "@jupyter-widgets/base",
      "model_module_version": "1.2.0",
      "model_name": "LayoutModel",
      "state": {}
     },
     "1f965a7361804e4d9f465ab6baf7d137": {
      "model_module": "@jupyter-widgets/base",
      "model_module_version": "1.2.0",
      "model_name": "LayoutModel",
      "state": {}
     },
     "20210b5aa1df471fb7bef6f82e952b2c": {
      "model_module": "@jupyter-widgets/base",
      "model_module_version": "1.2.0",
      "model_name": "LayoutModel",
      "state": {}
     },
     "20c7876124734e8585b22c92d1f087bb": {
      "model_module": "@jupyter-widgets/base",
      "model_module_version": "1.2.0",
      "model_name": "LayoutModel",
      "state": {}
     },
     "2170bafbe07246319e24a0cd1cc0db92": {
      "model_module": "jupyter-matplotlib",
      "model_module_version": "^0.8.3",
      "model_name": "ToolbarModel",
      "state": {
       "layout": "IPY_MODEL_3df2717f3cca47b69cba924df4bdff73",
       "toolitems": [
        [
         "Home",
         "Reset original view",
         "home",
         "home"
        ],
        [
         "Back",
         "Back to previous view",
         "arrow-left",
         "back"
        ],
        [
         "Forward",
         "Forward to next view",
         "arrow-right",
         "forward"
        ],
        [
         "Pan",
         "Left button pans, Right button zooms\nx/y fixes axis, CTRL fixes aspect",
         "arrows",
         "pan"
        ],
        [
         "Zoom",
         "Zoom to rectangle\nx/y fixes axis, CTRL fixes aspect",
         "square-o",
         "zoom"
        ],
        [
         "Download",
         "Download plot",
         "floppy-o",
         "save_figure"
        ]
       ]
      }
     },
     "223182e7efba4f11ba02411d5740292b": {
      "model_module": "jupyter-matplotlib",
      "model_module_version": "^0.8.3",
      "model_name": "MPLCanvasModel",
      "state": {
       "_cursor": "default",
       "_figure_label": "Figure 55",
       "_height": 500,
       "_width": 1000,
       "layout": "IPY_MODEL_710fd4a390654d218552fa03340a2e13",
       "toolbar": "IPY_MODEL_afd7cce8d9f34e68ae1569206dcb9b25",
       "toolbar_position": "left"
      }
     },
     "22735ca11ed84df2b3e4cee61679ba6c": {
      "model_module": "@jupyter-widgets/base",
      "model_module_version": "1.2.0",
      "model_name": "LayoutModel",
      "state": {}
     },
     "236533f4393c4af1963fc9bb87421052": {
      "model_module": "jupyter-matplotlib",
      "model_module_version": "^0.8.3",
      "model_name": "ToolbarModel",
      "state": {
       "layout": "IPY_MODEL_e9a9dc7b71cc4cc49ef1aa2ceed301ed",
       "toolitems": [
        [
         "Home",
         "Reset original view",
         "home",
         "home"
        ],
        [
         "Back",
         "Back to previous view",
         "arrow-left",
         "back"
        ],
        [
         "Forward",
         "Forward to next view",
         "arrow-right",
         "forward"
        ],
        [
         "Pan",
         "Left button pans, Right button zooms\nx/y fixes axis, CTRL fixes aspect",
         "arrows",
         "pan"
        ],
        [
         "Zoom",
         "Zoom to rectangle\nx/y fixes axis, CTRL fixes aspect",
         "square-o",
         "zoom"
        ],
        [
         "Download",
         "Download plot",
         "floppy-o",
         "save_figure"
        ]
       ]
      }
     },
     "238d898edd2949d7b7d7c972ed3a9707": {
      "model_module": "@jupyter-widgets/base",
      "model_module_version": "1.2.0",
      "model_name": "LayoutModel",
      "state": {}
     },
     "23bbcaf112fb4efd9645d394a34347f5": {
      "model_module": "@jupyter-widgets/base",
      "model_module_version": "1.2.0",
      "model_name": "LayoutModel",
      "state": {}
     },
     "2581bae8ffab402490cb75379a7daa36": {
      "model_module": "jupyter-matplotlib",
      "model_module_version": "^0.8.3",
      "model_name": "MPLCanvasModel",
      "state": {
       "_cursor": "default",
       "_figure_label": "Figure 129",
       "_height": 500,
       "_width": 1500,
       "layout": "IPY_MODEL_e557807717c64efb975cdaf0836e6329",
       "toolbar": "IPY_MODEL_cf21219f99b149b4adb1ead066a97995",
       "toolbar_position": "left"
      }
     },
     "2620b087efb143b9b6f87cbbf3bba714": {
      "model_module": "jupyter-matplotlib",
      "model_module_version": "^0.8.3",
      "model_name": "ToolbarModel",
      "state": {
       "layout": "IPY_MODEL_4c5953386b614c98841d1b5f8376aa98",
       "toolitems": [
        [
         "Home",
         "Reset original view",
         "home",
         "home"
        ],
        [
         "Back",
         "Back to previous view",
         "arrow-left",
         "back"
        ],
        [
         "Forward",
         "Forward to next view",
         "arrow-right",
         "forward"
        ],
        [
         "Pan",
         "Left button pans, Right button zooms\nx/y fixes axis, CTRL fixes aspect",
         "arrows",
         "pan"
        ],
        [
         "Zoom",
         "Zoom to rectangle\nx/y fixes axis, CTRL fixes aspect",
         "square-o",
         "zoom"
        ],
        [
         "Download",
         "Download plot",
         "floppy-o",
         "save_figure"
        ]
       ]
      }
     },
     "2640676df24c4ce89e1b22caef5deae3": {
      "model_module": "@jupyter-widgets/base",
      "model_module_version": "1.2.0",
      "model_name": "LayoutModel",
      "state": {}
     },
     "26419e8f65a749ee80fbc8a8bc3ee82c": {
      "model_module": "jupyter-matplotlib",
      "model_module_version": "^0.8.3",
      "model_name": "MPLCanvasModel",
      "state": {
       "_cursor": "default",
       "_figure_label": "Figure 32",
       "_height": 1000,
       "_width": 1500,
       "layout": "IPY_MODEL_a77c66a3cd744fd687669eea3cd65e36",
       "toolbar": "IPY_MODEL_5d44339bbc8b4a1bb61cf1be9878f5b1",
       "toolbar_position": "left"
      }
     },
     "274e6a3efd6440c4b0cf7affb5f83cee": {
      "model_module": "jupyter-matplotlib",
      "model_module_version": "^0.8.3",
      "model_name": "MPLCanvasModel",
      "state": {
       "_cursor": "default",
       "_figure_label": "Figure 4",
       "_height": 1000,
       "_image_mode": "diff",
       "_message": "x=9.3 y=2111.",
       "_width": 1500,
       "layout": "IPY_MODEL_526c1847bea84e72a4d594386547a5ed",
       "toolbar": "IPY_MODEL_236533f4393c4af1963fc9bb87421052",
       "toolbar_position": "left"
      }
     },
     "279722cfbc70470ebaf1a040b6ac2d77": {
      "model_module": "jupyter-matplotlib",
      "model_module_version": "^0.8.3",
      "model_name": "ToolbarModel",
      "state": {
       "layout": "IPY_MODEL_9851098c9ce44b67b66fe93ac94a561c",
       "toolitems": [
        [
         "Home",
         "Reset original view",
         "home",
         "home"
        ],
        [
         "Back",
         "Back to previous view",
         "arrow-left",
         "back"
        ],
        [
         "Forward",
         "Forward to next view",
         "arrow-right",
         "forward"
        ],
        [
         "Pan",
         "Left button pans, Right button zooms\nx/y fixes axis, CTRL fixes aspect",
         "arrows",
         "pan"
        ],
        [
         "Zoom",
         "Zoom to rectangle\nx/y fixes axis, CTRL fixes aspect",
         "square-o",
         "zoom"
        ],
        [
         "Download",
         "Download plot",
         "floppy-o",
         "save_figure"
        ]
       ]
      }
     },
     "281beabc3f1f4efaa90e03bdaba416f4": {
      "model_module": "jupyter-matplotlib",
      "model_module_version": "^0.8.3",
      "model_name": "MPLCanvasModel",
      "state": {
       "_cursor": "default",
       "_figure_label": "Figure 35",
       "_height": 1000,
       "_width": 1500,
       "layout": "IPY_MODEL_8f06ccf3828b4d1d99df5138a85c804e",
       "toolbar": "IPY_MODEL_4ff4c2e23fa245c480e2f0e2a8a14c49",
       "toolbar_position": "left"
      }
     },
     "28bfdbdd0d2549e29b0eb6cf7c703bfa": {
      "model_module": "@jupyter-widgets/base",
      "model_module_version": "1.2.0",
      "model_name": "LayoutModel",
      "state": {}
     },
     "296503b1877d4ca4b104da9e346296cf": {
      "model_module": "@jupyter-widgets/base",
      "model_module_version": "1.2.0",
      "model_name": "LayoutModel",
      "state": {}
     },
     "29f38051d3074a0fae4df0465f6dfbf3": {
      "model_module": "@jupyter-widgets/base",
      "model_module_version": "1.2.0",
      "model_name": "LayoutModel",
      "state": {}
     },
     "2a59663dcfb04944b5cda264e570041a": {
      "model_module": "jupyter-matplotlib",
      "model_module_version": "^0.8.3",
      "model_name": "MPLCanvasModel",
      "state": {
       "_cursor": "default",
       "_figure_label": "Figure 36",
       "_height": 1000,
       "_image_mode": "diff",
       "_width": 1500,
       "layout": "IPY_MODEL_28bfdbdd0d2549e29b0eb6cf7c703bfa",
       "toolbar": "IPY_MODEL_c16993f2f4c2447199fe2ece5ad600b2",
       "toolbar_position": "left"
      }
     },
     "2b1734772d1e40d3b9a6f4c3875bfa26": {
      "model_module": "jupyter-matplotlib",
      "model_module_version": "^0.8.3",
      "model_name": "MPLCanvasModel",
      "state": {
       "_cursor": "default",
       "_figure_label": "Figure 23",
       "_height": 550,
       "_width": 800,
       "layout": "IPY_MODEL_dfaf4bc9bff14493a22458ffdff1704e",
       "toolbar": "IPY_MODEL_5fd8d0db6f38410a97aa27953ca9ac0b",
       "toolbar_position": "left"
      }
     },
     "2b59df4979f7468987083bf35d59552f": {
      "model_module": "@jupyter-widgets/base",
      "model_module_version": "1.2.0",
      "model_name": "LayoutModel",
      "state": {}
     },
     "2b6245f25d344e2695aa80b725dd7d19": {
      "model_module": "@jupyter-widgets/base",
      "model_module_version": "1.2.0",
      "model_name": "LayoutModel",
      "state": {}
     },
     "2bd40391d4de4071b83c4218685db276": {
      "model_module": "jupyter-matplotlib",
      "model_module_version": "^0.8.3",
      "model_name": "MPLCanvasModel",
      "state": {
       "_cursor": "default",
       "_figure_label": "Figure 120",
       "_height": 500,
       "_message": "x=1.116 y=69.8",
       "_width": 1500,
       "layout": "IPY_MODEL_2ecf04b776e24a10b913fad8f60a6be2",
       "toolbar": "IPY_MODEL_a0bef798b74640559acd1c8139d12d3b",
       "toolbar_position": "left"
      }
     },
     "2c0c9fc2286f4345a2f0665f6c8a0115": {
      "model_module": "jupyter-matplotlib",
      "model_module_version": "^0.8.3",
      "model_name": "ToolbarModel",
      "state": {
       "layout": "IPY_MODEL_0d977a57f5574e679a71b8a696bb9c49",
       "toolitems": [
        [
         "Home",
         "Reset original view",
         "home",
         "home"
        ],
        [
         "Back",
         "Back to previous view",
         "arrow-left",
         "back"
        ],
        [
         "Forward",
         "Forward to next view",
         "arrow-right",
         "forward"
        ],
        [
         "Pan",
         "Left button pans, Right button zooms\nx/y fixes axis, CTRL fixes aspect",
         "arrows",
         "pan"
        ],
        [
         "Zoom",
         "Zoom to rectangle\nx/y fixes axis, CTRL fixes aspect",
         "square-o",
         "zoom"
        ],
        [
         "Download",
         "Download plot",
         "floppy-o",
         "save_figure"
        ]
       ]
      }
     },
     "2c91025d0a2449c999bab8ead9589d3d": {
      "model_module": "jupyter-matplotlib",
      "model_module_version": "^0.8.3",
      "model_name": "MPLCanvasModel",
      "state": {
       "_cursor": "default",
       "_figure_label": "Figure 131",
       "_height": 500,
       "_width": 1500,
       "layout": "IPY_MODEL_07a27e90ae8643e2bd010fb951b53be5",
       "toolbar": "IPY_MODEL_0d8059dddcb04a7ca17cb8cf31c0fb89",
       "toolbar_position": "left"
      }
     },
     "2cef2cf0df07431fb718cf0a5e78957d": {
      "model_module": "@jupyter-widgets/base",
      "model_module_version": "1.2.0",
      "model_name": "LayoutModel",
      "state": {}
     },
     "2cf7e911f9cd40c1893041c2c513a40b": {
      "model_module": "jupyter-matplotlib",
      "model_module_version": "^0.8.3",
      "model_name": "MPLCanvasModel",
      "state": {
       "_cursor": "default",
       "_figure_label": "Figure 110",
       "_height": 1000,
       "_width": 1500,
       "layout": "IPY_MODEL_e76334fadda14602bdcc0c5f3defd9af",
       "toolbar": "IPY_MODEL_abcd4689f2694962a66955efd17647f2",
       "toolbar_position": "left"
      }
     },
     "2d54caaa46ff42388557e261a5fd159b": {
      "model_module": "jupyter-matplotlib",
      "model_module_version": "^0.8.3",
      "model_name": "MPLCanvasModel",
      "state": {
       "_cursor": "default",
       "_figure_label": "Figure 30",
       "_height": 1000,
       "_width": 1500,
       "layout": "IPY_MODEL_dfb8b86b3adf4a26999822c81d8d4725",
       "toolbar": "IPY_MODEL_dcc9df6d1cb94ff293d787fb027de17a",
       "toolbar_position": "left"
      }
     },
     "2ecf04b776e24a10b913fad8f60a6be2": {
      "model_module": "@jupyter-widgets/base",
      "model_module_version": "1.2.0",
      "model_name": "LayoutModel",
      "state": {}
     },
     "2f30d20f9ecc4c07a18324f6f36058b1": {
      "model_module": "@jupyter-widgets/base",
      "model_module_version": "1.2.0",
      "model_name": "LayoutModel",
      "state": {}
     },
     "2fee4e29e89b496f9b86aedb23be8787": {
      "model_module": "@jupyter-widgets/base",
      "model_module_version": "1.2.0",
      "model_name": "LayoutModel",
      "state": {}
     },
     "303de3ffc43f44c583b3c34ccd119eff": {
      "model_module": "@jupyter-widgets/base",
      "model_module_version": "1.2.0",
      "model_name": "LayoutModel",
      "state": {}
     },
     "304fd2b1ac394307b47a327b5d1c9b18": {
      "model_module": "@jupyter-widgets/base",
      "model_module_version": "1.2.0",
      "model_name": "LayoutModel",
      "state": {}
     },
     "309e456c799e4fb4b41589e98540fccf": {
      "model_module": "@jupyter-widgets/base",
      "model_module_version": "1.2.0",
      "model_name": "LayoutModel",
      "state": {}
     },
     "312a740cff4142368194928173786ae9": {
      "model_module": "jupyter-matplotlib",
      "model_module_version": "^0.8.3",
      "model_name": "MPLCanvasModel",
      "state": {
       "_cursor": "default",
       "_figure_label": "Figure 11",
       "_height": 500,
       "_width": 1000,
       "layout": "IPY_MODEL_99f9ff6e3b9542b1b925eac1658eaf05",
       "toolbar": "IPY_MODEL_72bab5aabd734e9eb8344c7f44ea0f7e",
       "toolbar_position": "left"
      }
     },
     "313f1d9da8b640ce8d93f1e51246ab8e": {
      "model_module": "@jupyter-widgets/base",
      "model_module_version": "1.2.0",
      "model_name": "LayoutModel",
      "state": {}
     },
     "321ee66f65ba4f0398f4e5a8c8b050e8": {
      "model_module": "@jupyter-widgets/base",
      "model_module_version": "1.2.0",
      "model_name": "LayoutModel",
      "state": {}
     },
     "3228a70a53584df6bfadcbbcae4854ad": {
      "model_module": "@jupyter-widgets/base",
      "model_module_version": "1.2.0",
      "model_name": "LayoutModel",
      "state": {}
     },
     "3277795365614c5fadc65933ca7ff34a": {
      "model_module": "jupyter-matplotlib",
      "model_module_version": "^0.8.3",
      "model_name": "MPLCanvasModel",
      "state": {
       "_cursor": "default",
       "_figure_label": "Figure 91",
       "_height": 600,
       "_image_mode": "diff",
       "_width": 1200,
       "layout": "IPY_MODEL_49c27f2220b64b5b96c5a53086e3eab5",
       "toolbar": "IPY_MODEL_9d782a3f8f67460598c53a319744215f",
       "toolbar_position": "left"
      }
     },
     "32a030fde39e493f9e5e9c25f87af394": {
      "model_module": "@jupyter-widgets/base",
      "model_module_version": "1.2.0",
      "model_name": "LayoutModel",
      "state": {}
     },
     "32b5ada1c7704cac97df99b8c7e2f8a6": {
      "model_module": "@jupyter-widgets/base",
      "model_module_version": "1.2.0",
      "model_name": "LayoutModel",
      "state": {}
     },
     "32d251764a8c4d15984fe2bbe3d26b3b": {
      "model_module": "@jupyter-widgets/base",
      "model_module_version": "1.2.0",
      "model_name": "LayoutModel",
      "state": {}
     },
     "333af060ce9641448a9a50966de3d803": {
      "model_module": "@jupyter-widgets/base",
      "model_module_version": "1.2.0",
      "model_name": "LayoutModel",
      "state": {}
     },
     "3444dae271d5404398529f485e4345ea": {
      "model_module": "@jupyter-widgets/base",
      "model_module_version": "1.2.0",
      "model_name": "LayoutModel",
      "state": {}
     },
     "35bbef1e50b649d3a5a739d195052e21": {
      "model_module": "@jupyter-widgets/base",
      "model_module_version": "1.2.0",
      "model_name": "LayoutModel",
      "state": {}
     },
     "36480ed72d034bd7bdd9bee0dadcd934": {
      "model_module": "@jupyter-widgets/base",
      "model_module_version": "1.2.0",
      "model_name": "LayoutModel",
      "state": {}
     },
     "36f1c91243954b2cb6185bb94562888b": {
      "model_module": "@jupyter-widgets/base",
      "model_module_version": "1.2.0",
      "model_name": "LayoutModel",
      "state": {}
     },
     "372734fc1f3c46c0ac31729291a9364b": {
      "model_module": "jupyter-matplotlib",
      "model_module_version": "^0.8.3",
      "model_name": "ToolbarModel",
      "state": {
       "layout": "IPY_MODEL_715f061339fb4555bd0f7ac44fee4a4f",
       "toolitems": [
        [
         "Home",
         "Reset original view",
         "home",
         "home"
        ],
        [
         "Back",
         "Back to previous view",
         "arrow-left",
         "back"
        ],
        [
         "Forward",
         "Forward to next view",
         "arrow-right",
         "forward"
        ],
        [
         "Pan",
         "Left button pans, Right button zooms\nx/y fixes axis, CTRL fixes aspect",
         "arrows",
         "pan"
        ],
        [
         "Zoom",
         "Zoom to rectangle\nx/y fixes axis, CTRL fixes aspect",
         "square-o",
         "zoom"
        ],
        [
         "Download",
         "Download plot",
         "floppy-o",
         "save_figure"
        ]
       ]
      }
     },
     "3768716ab4fb41a1a113e0285b18e9e2": {
      "model_module": "@jupyter-widgets/base",
      "model_module_version": "1.2.0",
      "model_name": "LayoutModel",
      "state": {}
     },
     "385327165bd24fcaa3c8a6b1fc932297": {
      "model_module": "jupyter-matplotlib",
      "model_module_version": "^0.8.3",
      "model_name": "MPLCanvasModel",
      "state": {
       "_cursor": "default",
       "_figure_label": "Figure 119",
       "_height": 500,
       "_width": 1500,
       "layout": "IPY_MODEL_48982722586447e789fe964d590ee0ea",
       "toolbar": "IPY_MODEL_52d4571df0d444ecb96e507e9f84c107",
       "toolbar_position": "left"
      }
     },
     "3894547e8e68404ab812fc1a30af2d3e": {
      "model_module": "jupyter-matplotlib",
      "model_module_version": "^0.8.3",
      "model_name": "MPLCanvasModel",
      "state": {
       "_cursor": "default",
       "_figure_label": "Figure 56",
       "_height": 500,
       "_width": 1000,
       "layout": "IPY_MODEL_22735ca11ed84df2b3e4cee61679ba6c",
       "toolbar": "IPY_MODEL_f00528f9f1a544abb44015468086f217",
       "toolbar_position": "left"
      }
     },
     "390b870c6561473ab5733b9ec116ce3d": {
      "model_module": "@jupyter-widgets/base",
      "model_module_version": "1.2.0",
      "model_name": "LayoutModel",
      "state": {}
     },
     "39d1f14eef6444158cea03ac109fb4e5": {
      "model_module": "@jupyter-widgets/base",
      "model_module_version": "1.2.0",
      "model_name": "LayoutModel",
      "state": {}
     },
     "3a12dbe726654fdda7ef1e3ce79d9e9d": {
      "model_module": "@jupyter-widgets/base",
      "model_module_version": "1.2.0",
      "model_name": "LayoutModel",
      "state": {}
     },
     "3a82abe1a3254d8da6eab35c21f7e2a9": {
      "model_module": "jupyter-matplotlib",
      "model_module_version": "^0.8.3",
      "model_name": "MPLCanvasModel",
      "state": {
       "_cursor": "default",
       "_figure_label": "Figure 69",
       "_height": 600,
       "_image_mode": "diff",
       "_width": 1200,
       "layout": "IPY_MODEL_75774a42b1cf4d809e5be6f935d88d62",
       "toolbar": "IPY_MODEL_791d45ee12ed483992a9f0b23db76619",
       "toolbar_position": "left"
      }
     },
     "3b25321d3c3245ee9f5aff531e70cd45": {
      "model_module": "@jupyter-widgets/base",
      "model_module_version": "1.2.0",
      "model_name": "LayoutModel",
      "state": {}
     },
     "3b9dbd109d8f4af7972af9bba6567649": {
      "model_module": "jupyter-matplotlib",
      "model_module_version": "^0.8.3",
      "model_name": "MPLCanvasModel",
      "state": {
       "_cursor": "default",
       "_figure_label": "Figure 10",
       "_height": 1000,
       "_width": 1500,
       "layout": "IPY_MODEL_838ef16b6c9844a0a7c7e792366dd56e",
       "toolbar": "IPY_MODEL_4f19a1271d8b4cc28f9b8d51aecdb7ec",
       "toolbar_position": "left"
      }
     },
     "3bc5c46ade4843d2bd80fc4886e018a8": {
      "model_module": "jupyter-matplotlib",
      "model_module_version": "^0.8.3",
      "model_name": "ToolbarModel",
      "state": {
       "layout": "IPY_MODEL_39d1f14eef6444158cea03ac109fb4e5",
       "toolitems": [
        [
         "Home",
         "Reset original view",
         "home",
         "home"
        ],
        [
         "Back",
         "Back to previous view",
         "arrow-left",
         "back"
        ],
        [
         "Forward",
         "Forward to next view",
         "arrow-right",
         "forward"
        ],
        [
         "Pan",
         "Left button pans, Right button zooms\nx/y fixes axis, CTRL fixes aspect",
         "arrows",
         "pan"
        ],
        [
         "Zoom",
         "Zoom to rectangle\nx/y fixes axis, CTRL fixes aspect",
         "square-o",
         "zoom"
        ],
        [
         "Download",
         "Download plot",
         "floppy-o",
         "save_figure"
        ]
       ]
      }
     },
     "3bef468b9abf43a9b863df407677e0b5": {
      "model_module": "jupyter-matplotlib",
      "model_module_version": "^0.8.3",
      "model_name": "ToolbarModel",
      "state": {
       "layout": "IPY_MODEL_cc58de3d972b4f699703f5876d626fe2",
       "toolitems": [
        [
         "Home",
         "Reset original view",
         "home",
         "home"
        ],
        [
         "Back",
         "Back to previous view",
         "arrow-left",
         "back"
        ],
        [
         "Forward",
         "Forward to next view",
         "arrow-right",
         "forward"
        ],
        [
         "Pan",
         "Left button pans, Right button zooms\nx/y fixes axis, CTRL fixes aspect",
         "arrows",
         "pan"
        ],
        [
         "Zoom",
         "Zoom to rectangle\nx/y fixes axis, CTRL fixes aspect",
         "square-o",
         "zoom"
        ],
        [
         "Download",
         "Download plot",
         "floppy-o",
         "save_figure"
        ]
       ]
      }
     },
     "3c6b4553f64d4cf18cb17a09d961bea9": {
      "model_module": "@jupyter-widgets/base",
      "model_module_version": "1.2.0",
      "model_name": "LayoutModel",
      "state": {}
     },
     "3c755b1c42e3401b9de1bbe6be6218eb": {
      "model_module": "@jupyter-widgets/base",
      "model_module_version": "1.2.0",
      "model_name": "LayoutModel",
      "state": {}
     },
     "3c841175959e485896107f13f11d916c": {
      "model_module": "jupyter-matplotlib",
      "model_module_version": "^0.8.3",
      "model_name": "MPLCanvasModel",
      "state": {
       "_cursor": "default",
       "_figure_label": "Figure 114",
       "_height": 1000,
       "_width": 1500,
       "layout": "IPY_MODEL_4ea7610995274e61aecb30df208ac54e",
       "toolbar": "IPY_MODEL_e876502221644ed5ad367908cceea844",
       "toolbar_position": "left"
      }
     },
     "3d02f58f1795424e81bdb885715896ee": {
      "model_module": "@jupyter-widgets/base",
      "model_module_version": "1.2.0",
      "model_name": "LayoutModel",
      "state": {}
     },
     "3d08f72eed504386b4f10a78ea40c6b6": {
      "model_module": "@jupyter-widgets/base",
      "model_module_version": "1.2.0",
      "model_name": "LayoutModel",
      "state": {}
     },
     "3d292a5aa970490c84162ec53b28851b": {
      "model_module": "jupyter-matplotlib",
      "model_module_version": "^0.8.3",
      "model_name": "ToolbarModel",
      "state": {
       "layout": "IPY_MODEL_2b59df4979f7468987083bf35d59552f",
       "toolitems": [
        [
         "Home",
         "Reset original view",
         "home",
         "home"
        ],
        [
         "Back",
         "Back to previous view",
         "arrow-left",
         "back"
        ],
        [
         "Forward",
         "Forward to next view",
         "arrow-right",
         "forward"
        ],
        [
         "Pan",
         "Left button pans, Right button zooms\nx/y fixes axis, CTRL fixes aspect",
         "arrows",
         "pan"
        ],
        [
         "Zoom",
         "Zoom to rectangle\nx/y fixes axis, CTRL fixes aspect",
         "square-o",
         "zoom"
        ],
        [
         "Download",
         "Download plot",
         "floppy-o",
         "save_figure"
        ]
       ]
      }
     },
     "3df2717f3cca47b69cba924df4bdff73": {
      "model_module": "@jupyter-widgets/base",
      "model_module_version": "1.2.0",
      "model_name": "LayoutModel",
      "state": {}
     },
     "3e1224227c094f818c2f943d817c83a4": {
      "model_module": "@jupyter-widgets/base",
      "model_module_version": "1.2.0",
      "model_name": "LayoutModel",
      "state": {}
     },
     "3e693543216249038fe6eb42d32de8d5": {
      "model_module": "@jupyter-widgets/base",
      "model_module_version": "1.2.0",
      "model_name": "LayoutModel",
      "state": {}
     },
     "3eacedbd362e469aa099dee31d95a5b9": {
      "model_module": "jupyter-matplotlib",
      "model_module_version": "^0.8.3",
      "model_name": "ToolbarModel",
      "state": {
       "layout": "IPY_MODEL_bc872e4445744bd48f4fd85bdddf3ab6",
       "toolitems": [
        [
         "Home",
         "Reset original view",
         "home",
         "home"
        ],
        [
         "Back",
         "Back to previous view",
         "arrow-left",
         "back"
        ],
        [
         "Forward",
         "Forward to next view",
         "arrow-right",
         "forward"
        ],
        [
         "Pan",
         "Left button pans, Right button zooms\nx/y fixes axis, CTRL fixes aspect",
         "arrows",
         "pan"
        ],
        [
         "Zoom",
         "Zoom to rectangle\nx/y fixes axis, CTRL fixes aspect",
         "square-o",
         "zoom"
        ],
        [
         "Download",
         "Download plot",
         "floppy-o",
         "save_figure"
        ]
       ]
      }
     },
     "3ee67435e60a478dbdd50fde486d7e81": {
      "model_module": "jupyter-matplotlib",
      "model_module_version": "^0.8.3",
      "model_name": "ToolbarModel",
      "state": {
       "layout": "IPY_MODEL_becebe71375c4e5dbb596ef4fe7f6709",
       "toolitems": [
        [
         "Home",
         "Reset original view",
         "home",
         "home"
        ],
        [
         "Back",
         "Back to previous view",
         "arrow-left",
         "back"
        ],
        [
         "Forward",
         "Forward to next view",
         "arrow-right",
         "forward"
        ],
        [
         "Pan",
         "Left button pans, Right button zooms\nx/y fixes axis, CTRL fixes aspect",
         "arrows",
         "pan"
        ],
        [
         "Zoom",
         "Zoom to rectangle\nx/y fixes axis, CTRL fixes aspect",
         "square-o",
         "zoom"
        ],
        [
         "Download",
         "Download plot",
         "floppy-o",
         "save_figure"
        ]
       ]
      }
     },
     "3ff4b254254c4836b97b915961fbea99": {
      "model_module": "@jupyter-widgets/base",
      "model_module_version": "1.2.0",
      "model_name": "LayoutModel",
      "state": {}
     },
     "40257762ac644cb3bc12f64e29da2703": {
      "model_module": "jupyter-matplotlib",
      "model_module_version": "^0.8.3",
      "model_name": "MPLCanvasModel",
      "state": {
       "layout": "IPY_MODEL_f567af3ba74c43abb9f2d6bd117ac94a",
       "toolbar": "IPY_MODEL_2620b087efb143b9b6f87cbbf3bba714",
       "toolbar_position": "left"
      }
     },
     "4028134c6ff743c3ac458a754158b8de": {
      "model_module": "@jupyter-widgets/base",
      "model_module_version": "1.2.0",
      "model_name": "LayoutModel",
      "state": {}
     },
     "4118bda7c79a48f195b98b884032905a": {
      "model_module": "jupyter-matplotlib",
      "model_module_version": "^0.8.3",
      "model_name": "ToolbarModel",
      "state": {
       "layout": "IPY_MODEL_0ac743ad0a6c4297b438e40b19e88a40",
       "toolitems": [
        [
         "Home",
         "Reset original view",
         "home",
         "home"
        ],
        [
         "Back",
         "Back to previous view",
         "arrow-left",
         "back"
        ],
        [
         "Forward",
         "Forward to next view",
         "arrow-right",
         "forward"
        ],
        [
         "Pan",
         "Left button pans, Right button zooms\nx/y fixes axis, CTRL fixes aspect",
         "arrows",
         "pan"
        ],
        [
         "Zoom",
         "Zoom to rectangle\nx/y fixes axis, CTRL fixes aspect",
         "square-o",
         "zoom"
        ],
        [
         "Download",
         "Download plot",
         "floppy-o",
         "save_figure"
        ]
       ]
      }
     },
     "418c79fe810d4a36b398bba2de0732ca": {
      "model_module": "jupyter-matplotlib",
      "model_module_version": "^0.8.3",
      "model_name": "MPLCanvasModel",
      "state": {
       "_cursor": "default",
       "_figure_label": "Figure 117",
       "_height": 500,
       "_width": 1500,
       "layout": "IPY_MODEL_458e56c80c854525b3903959308af606",
       "toolbar": "IPY_MODEL_68e9fd1b78034908963e15954efbce8c",
       "toolbar_position": "left"
      }
     },
     "41cc96fc092843dd90f955cf9dfb1f1e": {
      "model_module": "jupyter-matplotlib",
      "model_module_version": "^0.8.3",
      "model_name": "ToolbarModel",
      "state": {
       "_current_action": "zoom",
       "layout": "IPY_MODEL_fa3cde3cdb9b4569bec3fdd484d0af30",
       "toolitems": [
        [
         "Home",
         "Reset original view",
         "home",
         "home"
        ],
        [
         "Back",
         "Back to previous view",
         "arrow-left",
         "back"
        ],
        [
         "Forward",
         "Forward to next view",
         "arrow-right",
         "forward"
        ],
        [
         "Pan",
         "Left button pans, Right button zooms\nx/y fixes axis, CTRL fixes aspect",
         "arrows",
         "pan"
        ],
        [
         "Zoom",
         "Zoom to rectangle\nx/y fixes axis, CTRL fixes aspect",
         "square-o",
         "zoom"
        ],
        [
         "Download",
         "Download plot",
         "floppy-o",
         "save_figure"
        ]
       ]
      }
     },
     "41d7aba3ebf8483c89241ca961b22fc1": {
      "model_module": "@jupyter-widgets/base",
      "model_module_version": "1.2.0",
      "model_name": "LayoutModel",
      "state": {}
     },
     "41dd9a3571cb48d0b3e40389739d256f": {
      "model_module": "jupyter-matplotlib",
      "model_module_version": "^0.8.3",
      "model_name": "ToolbarModel",
      "state": {
       "layout": "IPY_MODEL_d1f6ef6928de429c95b4578af37638ee",
       "toolitems": [
        [
         "Home",
         "Reset original view",
         "home",
         "home"
        ],
        [
         "Back",
         "Back to previous view",
         "arrow-left",
         "back"
        ],
        [
         "Forward",
         "Forward to next view",
         "arrow-right",
         "forward"
        ],
        [
         "Pan",
         "Left button pans, Right button zooms\nx/y fixes axis, CTRL fixes aspect",
         "arrows",
         "pan"
        ],
        [
         "Zoom",
         "Zoom to rectangle\nx/y fixes axis, CTRL fixes aspect",
         "square-o",
         "zoom"
        ],
        [
         "Download",
         "Download plot",
         "floppy-o",
         "save_figure"
        ]
       ]
      }
     },
     "4280fbb8dd4a4e30a66ab74730fe9239": {
      "model_module": "jupyter-matplotlib",
      "model_module_version": "^0.8.3",
      "model_name": "MPLCanvasModel",
      "state": {
       "_cursor": "default",
       "_figure_label": "Figure 100",
       "_height": 1000,
       "_width": 1500,
       "layout": "IPY_MODEL_a0a77ba74ffa47c4bb00f758a286883c",
       "toolbar": "IPY_MODEL_8e45b6e49dfe4b0fa1eba2e84a9830c4",
       "toolbar_position": "left"
      }
     },
     "433ec074c96c403995865e424d4da947": {
      "model_module": "@jupyter-widgets/base",
      "model_module_version": "1.2.0",
      "model_name": "LayoutModel",
      "state": {}
     },
     "440091b9342d42a3b0f55eb26b1ff8ce": {
      "model_module": "jupyter-matplotlib",
      "model_module_version": "^0.8.3",
      "model_name": "ToolbarModel",
      "state": {
       "layout": "IPY_MODEL_e9237a535251446bb94b0412b8f6fbd3",
       "toolitems": [
        [
         "Home",
         "Reset original view",
         "home",
         "home"
        ],
        [
         "Back",
         "Back to previous view",
         "arrow-left",
         "back"
        ],
        [
         "Forward",
         "Forward to next view",
         "arrow-right",
         "forward"
        ],
        [
         "Pan",
         "Left button pans, Right button zooms\nx/y fixes axis, CTRL fixes aspect",
         "arrows",
         "pan"
        ],
        [
         "Zoom",
         "Zoom to rectangle\nx/y fixes axis, CTRL fixes aspect",
         "square-o",
         "zoom"
        ],
        [
         "Download",
         "Download plot",
         "floppy-o",
         "save_figure"
        ]
       ]
      }
     },
     "443d21ee955f44738ace0d848d8871a0": {
      "model_module": "@jupyter-widgets/base",
      "model_module_version": "1.2.0",
      "model_name": "LayoutModel",
      "state": {}
     },
     "449dd019c96248ceb1dabf60d08e99e5": {
      "model_module": "@jupyter-widgets/base",
      "model_module_version": "1.2.0",
      "model_name": "LayoutModel",
      "state": {}
     },
     "44e5dc81b91747428abe7fc5e1e85ec7": {
      "model_module": "@jupyter-widgets/base",
      "model_module_version": "1.2.0",
      "model_name": "LayoutModel",
      "state": {}
     },
     "44eb2b5e6d734775b48fa633bc880908": {
      "model_module": "jupyter-matplotlib",
      "model_module_version": "^0.8.3",
      "model_name": "MPLCanvasModel",
      "state": {
       "_cursor": "default",
       "_figure_label": "Figure 62",
       "_height": 1000,
       "_image_mode": "diff",
       "_message": "x=−69.3 y=6314.",
       "_width": 1200,
       "layout": "IPY_MODEL_b34631e4074b4cb4a34d9addb9c9a022",
       "toolbar": "IPY_MODEL_ba5ba5c758674e5784248155f801a619",
       "toolbar_position": "left"
      }
     },
     "4569f9c56b1a4503b3c7283754829e47": {
      "model_module": "jupyter-matplotlib",
      "model_module_version": "^0.8.3",
      "model_name": "ToolbarModel",
      "state": {
       "layout": "IPY_MODEL_3228a70a53584df6bfadcbbcae4854ad",
       "toolitems": [
        [
         "Home",
         "Reset original view",
         "home",
         "home"
        ],
        [
         "Back",
         "Back to previous view",
         "arrow-left",
         "back"
        ],
        [
         "Forward",
         "Forward to next view",
         "arrow-right",
         "forward"
        ],
        [
         "Pan",
         "Left button pans, Right button zooms\nx/y fixes axis, CTRL fixes aspect",
         "arrows",
         "pan"
        ],
        [
         "Zoom",
         "Zoom to rectangle\nx/y fixes axis, CTRL fixes aspect",
         "square-o",
         "zoom"
        ],
        [
         "Download",
         "Download plot",
         "floppy-o",
         "save_figure"
        ]
       ]
      }
     },
     "458e56c80c854525b3903959308af606": {
      "model_module": "@jupyter-widgets/base",
      "model_module_version": "1.2.0",
      "model_name": "LayoutModel",
      "state": {}
     },
     "45d423c931b64e9bba9ff3c8d9aff4bb": {
      "model_module": "@jupyter-widgets/base",
      "model_module_version": "1.2.0",
      "model_name": "LayoutModel",
      "state": {}
     },
     "46143e0244504c54ad3de5216528bfe4": {
      "model_module": "jupyter-matplotlib",
      "model_module_version": "^0.8.3",
      "model_name": "MPLCanvasModel",
      "state": {
       "_cursor": "default",
       "_figure_label": "Figure 126",
       "_height": 500,
       "_width": 1500,
       "layout": "IPY_MODEL_df631029692a4cf2a399d4df0e9d0ad7",
       "toolbar": "IPY_MODEL_c6eaff882bc64ba8855c819137b66869",
       "toolbar_position": "left"
      }
     },
     "461f56c11a324a61b5412f70d975c2c5": {
      "model_module": "jupyter-matplotlib",
      "model_module_version": "^0.8.3",
      "model_name": "ToolbarModel",
      "state": {
       "layout": "IPY_MODEL_9dca9c5afd2c4737960cb552da498313",
       "toolitems": [
        [
         "Home",
         "Reset original view",
         "home",
         "home"
        ],
        [
         "Back",
         "Back to previous view",
         "arrow-left",
         "back"
        ],
        [
         "Forward",
         "Forward to next view",
         "arrow-right",
         "forward"
        ],
        [
         "Pan",
         "Left button pans, Right button zooms\nx/y fixes axis, CTRL fixes aspect",
         "arrows",
         "pan"
        ],
        [
         "Zoom",
         "Zoom to rectangle\nx/y fixes axis, CTRL fixes aspect",
         "square-o",
         "zoom"
        ],
        [
         "Download",
         "Download plot",
         "floppy-o",
         "save_figure"
        ]
       ]
      }
     },
     "4718244b1f164d08b080585a0a2f1e0d": {
      "model_module": "@jupyter-widgets/base",
      "model_module_version": "1.2.0",
      "model_name": "LayoutModel",
      "state": {}
     },
     "48982722586447e789fe964d590ee0ea": {
      "model_module": "@jupyter-widgets/base",
      "model_module_version": "1.2.0",
      "model_name": "LayoutModel",
      "state": {}
     },
     "49a890bc870041968b9463c7039bf5e0": {
      "model_module": "jupyter-matplotlib",
      "model_module_version": "^0.8.3",
      "model_name": "ToolbarModel",
      "state": {
       "layout": "IPY_MODEL_afb3596f9f0249d6ac43c3a903702eaa",
       "toolitems": [
        [
         "Home",
         "Reset original view",
         "home",
         "home"
        ],
        [
         "Back",
         "Back to previous view",
         "arrow-left",
         "back"
        ],
        [
         "Forward",
         "Forward to next view",
         "arrow-right",
         "forward"
        ],
        [
         "Pan",
         "Left button pans, Right button zooms\nx/y fixes axis, CTRL fixes aspect",
         "arrows",
         "pan"
        ],
        [
         "Zoom",
         "Zoom to rectangle\nx/y fixes axis, CTRL fixes aspect",
         "square-o",
         "zoom"
        ],
        [
         "Download",
         "Download plot",
         "floppy-o",
         "save_figure"
        ]
       ]
      }
     },
     "49c27f2220b64b5b96c5a53086e3eab5": {
      "model_module": "@jupyter-widgets/base",
      "model_module_version": "1.2.0",
      "model_name": "LayoutModel",
      "state": {}
     },
     "49d1929009734bdca6dabb13f1d086ac": {
      "model_module": "jupyter-matplotlib",
      "model_module_version": "^0.8.3",
      "model_name": "ToolbarModel",
      "state": {
       "layout": "IPY_MODEL_f1a7a76daf284d4988a45d2f5e499a12",
       "toolitems": [
        [
         "Home",
         "Reset original view",
         "home",
         "home"
        ],
        [
         "Back",
         "Back to previous view",
         "arrow-left",
         "back"
        ],
        [
         "Forward",
         "Forward to next view",
         "arrow-right",
         "forward"
        ],
        [
         "Pan",
         "Left button pans, Right button zooms\nx/y fixes axis, CTRL fixes aspect",
         "arrows",
         "pan"
        ],
        [
         "Zoom",
         "Zoom to rectangle\nx/y fixes axis, CTRL fixes aspect",
         "square-o",
         "zoom"
        ],
        [
         "Download",
         "Download plot",
         "floppy-o",
         "save_figure"
        ]
       ]
      }
     },
     "4a5e4a2deaba4ad1a05ed57b42cab0b6": {
      "model_module": "@jupyter-widgets/base",
      "model_module_version": "1.2.0",
      "model_name": "LayoutModel",
      "state": {}
     },
     "4a6ec2eb3cff4eecaf1b3ee5f19b82e8": {
      "model_module": "jupyter-matplotlib",
      "model_module_version": "^0.8.3",
      "model_name": "ToolbarModel",
      "state": {
       "layout": "IPY_MODEL_e123c2422df94ee5a00d96d41e2d014f",
       "toolitems": [
        [
         "Home",
         "Reset original view",
         "home",
         "home"
        ],
        [
         "Back",
         "Back to previous view",
         "arrow-left",
         "back"
        ],
        [
         "Forward",
         "Forward to next view",
         "arrow-right",
         "forward"
        ],
        [
         "Pan",
         "Left button pans, Right button zooms\nx/y fixes axis, CTRL fixes aspect",
         "arrows",
         "pan"
        ],
        [
         "Zoom",
         "Zoom to rectangle\nx/y fixes axis, CTRL fixes aspect",
         "square-o",
         "zoom"
        ],
        [
         "Download",
         "Download plot",
         "floppy-o",
         "save_figure"
        ]
       ]
      }
     },
     "4a7ed60abb754e1cab4d4660bd98a2d6": {
      "model_module": "jupyter-matplotlib",
      "model_module_version": "^0.8.3",
      "model_name": "MPLCanvasModel",
      "state": {
       "_cursor": "default",
       "_figure_label": "Figure 41",
       "_height": 1000,
       "_image_mode": "diff",
       "_width": 1500,
       "layout": "IPY_MODEL_79338bc9d9b9467ea4e47c12404cf5b6",
       "toolbar": "IPY_MODEL_ac3f65f2853d4e478ae6ce064253d957",
       "toolbar_position": "left"
      }
     },
     "4a9b2d6e35604dbab004b6b715b3df4e": {
      "model_module": "jupyter-matplotlib",
      "model_module_version": "^0.8.3",
      "model_name": "MPLCanvasModel",
      "state": {
       "_cursor": "default",
       "_figure_label": "Figure 108",
       "_height": 1000,
       "_width": 1500,
       "layout": "IPY_MODEL_dc921998e0f143ad962202f8427031c6",
       "toolbar": "IPY_MODEL_78b3a86d97ea4ca8a0ccdd0ffa5119e5",
       "toolbar_position": "left"
      }
     },
     "4ac6de4d7bef4a61bdbd0cd1eba3fe2c": {
      "model_module": "@jupyter-widgets/base",
      "model_module_version": "1.2.0",
      "model_name": "LayoutModel",
      "state": {}
     },
     "4b919677d1b5455eb125359d3a3101b4": {
      "model_module": "jupyter-matplotlib",
      "model_module_version": "^0.8.3",
      "model_name": "MPLCanvasModel",
      "state": {
       "_cursor": "default",
       "_figure_label": "Figure 74",
       "_height": 600,
       "_image_mode": "diff",
       "_width": 1200,
       "layout": "IPY_MODEL_f497c6e51da3485dbf7f2a0bf5af5c0e",
       "toolbar": "IPY_MODEL_adec5baccc20411c8183e36e8d7d8ab3",
       "toolbar_position": "left"
      }
     },
     "4c13f9d7550d47a1a2d8338614c71fa5": {
      "model_module": "jupyter-matplotlib",
      "model_module_version": "^0.8.3",
      "model_name": "ToolbarModel",
      "state": {
       "layout": "IPY_MODEL_a12cfb7d41724daa8b145b0e21b851e4",
       "toolitems": [
        [
         "Home",
         "Reset original view",
         "home",
         "home"
        ],
        [
         "Back",
         "Back to previous view",
         "arrow-left",
         "back"
        ],
        [
         "Forward",
         "Forward to next view",
         "arrow-right",
         "forward"
        ],
        [
         "Pan",
         "Left button pans, Right button zooms\nx/y fixes axis, CTRL fixes aspect",
         "arrows",
         "pan"
        ],
        [
         "Zoom",
         "Zoom to rectangle\nx/y fixes axis, CTRL fixes aspect",
         "square-o",
         "zoom"
        ],
        [
         "Download",
         "Download plot",
         "floppy-o",
         "save_figure"
        ]
       ]
      }
     },
     "4c5953386b614c98841d1b5f8376aa98": {
      "model_module": "@jupyter-widgets/base",
      "model_module_version": "1.2.0",
      "model_name": "LayoutModel",
      "state": {}
     },
     "4ca0b9aa714e43d0955c901695d7c0bf": {
      "model_module": "@jupyter-widgets/base",
      "model_module_version": "1.2.0",
      "model_name": "LayoutModel",
      "state": {}
     },
     "4d2055e67b2e409784821e3ba1db25cf": {
      "model_module": "jupyter-matplotlib",
      "model_module_version": "^0.8.3",
      "model_name": "ToolbarModel",
      "state": {
       "layout": "IPY_MODEL_32d251764a8c4d15984fe2bbe3d26b3b",
       "toolitems": [
        [
         "Home",
         "Reset original view",
         "home",
         "home"
        ],
        [
         "Back",
         "Back to previous view",
         "arrow-left",
         "back"
        ],
        [
         "Forward",
         "Forward to next view",
         "arrow-right",
         "forward"
        ],
        [
         "Pan",
         "Left button pans, Right button zooms\nx/y fixes axis, CTRL fixes aspect",
         "arrows",
         "pan"
        ],
        [
         "Zoom",
         "Zoom to rectangle\nx/y fixes axis, CTRL fixes aspect",
         "square-o",
         "zoom"
        ],
        [
         "Download",
         "Download plot",
         "floppy-o",
         "save_figure"
        ]
       ]
      }
     },
     "4d2a62c9c70b457c861998b5c5b456be": {
      "model_module": "@jupyter-widgets/base",
      "model_module_version": "1.2.0",
      "model_name": "LayoutModel",
      "state": {}
     },
     "4d3149a1f4e3451aa9ca88642dfda34c": {
      "model_module": "jupyter-matplotlib",
      "model_module_version": "^0.8.3",
      "model_name": "MPLCanvasModel",
      "state": {
       "_cursor": "default",
       "_figure_label": "Figure 73",
       "_height": 600,
       "_image_mode": "diff",
       "_width": 1200,
       "layout": "IPY_MODEL_ca51ef74bcc64b189f72ff42fe14bb06",
       "toolbar": "IPY_MODEL_4569f9c56b1a4503b3c7283754829e47",
       "toolbar_position": "left"
      }
     },
     "4d4365a2cd864f6dae732cbaf9ba079e": {
      "model_module": "jupyter-matplotlib",
      "model_module_version": "^0.8.3",
      "model_name": "ToolbarModel",
      "state": {
       "layout": "IPY_MODEL_0e5b49d81c4b46bf8b2fa918775cb07a",
       "toolitems": [
        [
         "Home",
         "Reset original view",
         "home",
         "home"
        ],
        [
         "Back",
         "Back to previous view",
         "arrow-left",
         "back"
        ],
        [
         "Forward",
         "Forward to next view",
         "arrow-right",
         "forward"
        ],
        [
         "Pan",
         "Left button pans, Right button zooms\nx/y fixes axis, CTRL fixes aspect",
         "arrows",
         "pan"
        ],
        [
         "Zoom",
         "Zoom to rectangle\nx/y fixes axis, CTRL fixes aspect",
         "square-o",
         "zoom"
        ],
        [
         "Download",
         "Download plot",
         "floppy-o",
         "save_figure"
        ]
       ]
      }
     },
     "4db1b09b2d5c4e05887118527a8e4b99": {
      "model_module": "@jupyter-widgets/base",
      "model_module_version": "1.2.0",
      "model_name": "LayoutModel",
      "state": {}
     },
     "4e5066da42cb43799f0f1062c1a88c73": {
      "model_module": "jupyter-matplotlib",
      "model_module_version": "^0.8.3",
      "model_name": "ToolbarModel",
      "state": {
       "layout": "IPY_MODEL_32b5ada1c7704cac97df99b8c7e2f8a6",
       "toolitems": [
        [
         "Home",
         "Reset original view",
         "home",
         "home"
        ],
        [
         "Back",
         "Back to previous view",
         "arrow-left",
         "back"
        ],
        [
         "Forward",
         "Forward to next view",
         "arrow-right",
         "forward"
        ],
        [
         "Pan",
         "Left button pans, Right button zooms\nx/y fixes axis, CTRL fixes aspect",
         "arrows",
         "pan"
        ],
        [
         "Zoom",
         "Zoom to rectangle\nx/y fixes axis, CTRL fixes aspect",
         "square-o",
         "zoom"
        ],
        [
         "Download",
         "Download plot",
         "floppy-o",
         "save_figure"
        ]
       ]
      }
     },
     "4ea7610995274e61aecb30df208ac54e": {
      "model_module": "@jupyter-widgets/base",
      "model_module_version": "1.2.0",
      "model_name": "LayoutModel",
      "state": {}
     },
     "4f19a1271d8b4cc28f9b8d51aecdb7ec": {
      "model_module": "jupyter-matplotlib",
      "model_module_version": "^0.8.3",
      "model_name": "ToolbarModel",
      "state": {
       "layout": "IPY_MODEL_3a12dbe726654fdda7ef1e3ce79d9e9d",
       "toolitems": [
        [
         "Home",
         "Reset original view",
         "home",
         "home"
        ],
        [
         "Back",
         "Back to previous view",
         "arrow-left",
         "back"
        ],
        [
         "Forward",
         "Forward to next view",
         "arrow-right",
         "forward"
        ],
        [
         "Pan",
         "Left button pans, Right button zooms\nx/y fixes axis, CTRL fixes aspect",
         "arrows",
         "pan"
        ],
        [
         "Zoom",
         "Zoom to rectangle\nx/y fixes axis, CTRL fixes aspect",
         "square-o",
         "zoom"
        ],
        [
         "Download",
         "Download plot",
         "floppy-o",
         "save_figure"
        ]
       ]
      }
     },
     "4f6496b0b8d34f18983efa7a505d2992": {
      "model_module": "@jupyter-widgets/base",
      "model_module_version": "1.2.0",
      "model_name": "LayoutModel",
      "state": {}
     },
     "4fe16a61545b4698be1f1fc34c99751e": {
      "model_module": "jupyter-matplotlib",
      "model_module_version": "^0.8.3",
      "model_name": "ToolbarModel",
      "state": {
       "layout": "IPY_MODEL_3444dae271d5404398529f485e4345ea",
       "toolitems": [
        [
         "Home",
         "Reset original view",
         "home",
         "home"
        ],
        [
         "Back",
         "Back to previous view",
         "arrow-left",
         "back"
        ],
        [
         "Forward",
         "Forward to next view",
         "arrow-right",
         "forward"
        ],
        [
         "Pan",
         "Left button pans, Right button zooms\nx/y fixes axis, CTRL fixes aspect",
         "arrows",
         "pan"
        ],
        [
         "Zoom",
         "Zoom to rectangle\nx/y fixes axis, CTRL fixes aspect",
         "square-o",
         "zoom"
        ],
        [
         "Download",
         "Download plot",
         "floppy-o",
         "save_figure"
        ]
       ]
      }
     },
     "4ff4c2e23fa245c480e2f0e2a8a14c49": {
      "model_module": "jupyter-matplotlib",
      "model_module_version": "^0.8.3",
      "model_name": "ToolbarModel",
      "state": {
       "layout": "IPY_MODEL_35bbef1e50b649d3a5a739d195052e21",
       "toolitems": [
        [
         "Home",
         "Reset original view",
         "home",
         "home"
        ],
        [
         "Back",
         "Back to previous view",
         "arrow-left",
         "back"
        ],
        [
         "Forward",
         "Forward to next view",
         "arrow-right",
         "forward"
        ],
        [
         "Pan",
         "Left button pans, Right button zooms\nx/y fixes axis, CTRL fixes aspect",
         "arrows",
         "pan"
        ],
        [
         "Zoom",
         "Zoom to rectangle\nx/y fixes axis, CTRL fixes aspect",
         "square-o",
         "zoom"
        ],
        [
         "Download",
         "Download plot",
         "floppy-o",
         "save_figure"
        ]
       ]
      }
     },
     "50c38fbba53c4b098c12f96b46c79ed8": {
      "model_module": "@jupyter-widgets/base",
      "model_module_version": "1.2.0",
      "model_name": "LayoutModel",
      "state": {}
     },
     "51080652101f486b94d9a21228307be7": {
      "model_module": "@jupyter-widgets/base",
      "model_module_version": "1.2.0",
      "model_name": "LayoutModel",
      "state": {}
     },
     "5183671483d2481dbe829b8f1ea8e1a1": {
      "model_module": "@jupyter-widgets/base",
      "model_module_version": "1.2.0",
      "model_name": "LayoutModel",
      "state": {}
     },
     "526c1847bea84e72a4d594386547a5ed": {
      "model_module": "@jupyter-widgets/base",
      "model_module_version": "1.2.0",
      "model_name": "LayoutModel",
      "state": {}
     },
     "52d4571df0d444ecb96e507e9f84c107": {
      "model_module": "jupyter-matplotlib",
      "model_module_version": "^0.8.3",
      "model_name": "ToolbarModel",
      "state": {
       "layout": "IPY_MODEL_08866cece0dd45b9ba2710b31375330a",
       "toolitems": [
        [
         "Home",
         "Reset original view",
         "home",
         "home"
        ],
        [
         "Back",
         "Back to previous view",
         "arrow-left",
         "back"
        ],
        [
         "Forward",
         "Forward to next view",
         "arrow-right",
         "forward"
        ],
        [
         "Pan",
         "Left button pans, Right button zooms\nx/y fixes axis, CTRL fixes aspect",
         "arrows",
         "pan"
        ],
        [
         "Zoom",
         "Zoom to rectangle\nx/y fixes axis, CTRL fixes aspect",
         "square-o",
         "zoom"
        ],
        [
         "Download",
         "Download plot",
         "floppy-o",
         "save_figure"
        ]
       ]
      }
     },
     "53cb56425c1e4d35bb8e55984247eeeb": {
      "model_module": "jupyter-matplotlib",
      "model_module_version": "^0.8.3",
      "model_name": "MPLCanvasModel",
      "state": {
       "_cursor": "default",
       "_figure_label": "Figure 96",
       "_height": 1000,
       "_width": 1500,
       "layout": "IPY_MODEL_bccab395fbe646999bbb6e74156e2cb3",
       "toolbar": "IPY_MODEL_2170bafbe07246319e24a0cd1cc0db92",
       "toolbar_position": "left"
      }
     },
     "551cc691d2d84808bdaaf43d26dc06cd": {
      "model_module": "@jupyter-widgets/base",
      "model_module_version": "1.2.0",
      "model_name": "LayoutModel",
      "state": {}
     },
     "55c88e5d50664e9193ac19403f6c4bd9": {
      "model_module": "jupyter-matplotlib",
      "model_module_version": "^0.8.3",
      "model_name": "ToolbarModel",
      "state": {
       "layout": "IPY_MODEL_777a1fd8e6be496cbfd2a8d1d6d55dfd",
       "toolitems": [
        [
         "Home",
         "Reset original view",
         "home",
         "home"
        ],
        [
         "Back",
         "Back to previous view",
         "arrow-left",
         "back"
        ],
        [
         "Forward",
         "Forward to next view",
         "arrow-right",
         "forward"
        ],
        [
         "Pan",
         "Left button pans, Right button zooms\nx/y fixes axis, CTRL fixes aspect",
         "arrows",
         "pan"
        ],
        [
         "Zoom",
         "Zoom to rectangle\nx/y fixes axis, CTRL fixes aspect",
         "square-o",
         "zoom"
        ],
        [
         "Download",
         "Download plot",
         "floppy-o",
         "save_figure"
        ]
       ]
      }
     },
     "560c01a79c7a4b108d1e10b0c13c3ae7": {
      "model_module": "@jupyter-widgets/base",
      "model_module_version": "1.2.0",
      "model_name": "LayoutModel",
      "state": {}
     },
     "56e47ecba7d341b8bd59ceef11119c37": {
      "model_module": "jupyter-matplotlib",
      "model_module_version": "^0.8.3",
      "model_name": "MPLCanvasModel",
      "state": {
       "_cursor": "default",
       "_figure_label": "Figure 38",
       "_height": 1000,
       "_message": "x=−0.197 y=2533.",
       "_width": 1500,
       "layout": "IPY_MODEL_f8d80fe0119b48b4a632ad9d4b177046",
       "toolbar": "IPY_MODEL_943994245ca74741813d58d4cf25cb0f",
       "toolbar_position": "left"
      }
     },
     "588090ae531843d6ab69ab74a5c1617d": {
      "model_module": "jupyter-matplotlib",
      "model_module_version": "^0.8.3",
      "model_name": "MPLCanvasModel",
      "state": {
       "_cursor": "default",
       "_figure_label": "Figure 9",
       "_height": 1000,
       "_width": 1500,
       "layout": "IPY_MODEL_50c38fbba53c4b098c12f96b46c79ed8",
       "toolbar": "IPY_MODEL_bd87a228b5654bd8a617beeaca536e0f",
       "toolbar_position": "left"
      }
     },
     "59378bca41704328b81ceda74f1b08fe": {
      "model_module": "jupyter-matplotlib",
      "model_module_version": "^0.8.3",
      "model_name": "MPLCanvasModel",
      "state": {
       "_cursor": "default",
       "_figure_label": "Figure 8",
       "_height": 1000,
       "_width": 1500,
       "layout": "IPY_MODEL_75c4c77b63ff4c03872fff37c3946f96",
       "toolbar": "IPY_MODEL_096642318f2841d3b28b22a8630de16b",
       "toolbar_position": "left"
      }
     },
     "595ffa72e3ed43c6994cc7126fa6ef83": {
      "model_module": "@jupyter-widgets/base",
      "model_module_version": "1.2.0",
      "model_name": "LayoutModel",
      "state": {}
     },
     "59ef4ec244dc4f4fb24f19b98076a16c": {
      "model_module": "@jupyter-widgets/base",
      "model_module_version": "1.2.0",
      "model_name": "LayoutModel",
      "state": {}
     },
     "5a6c06dd530e4631990455db978c1fb6": {
      "model_module": "jupyter-matplotlib",
      "model_module_version": "^0.8.3",
      "model_name": "MPLCanvasModel",
      "state": {
       "_cursor": "default",
       "_figure_label": "Figure 21",
       "_height": 1500,
       "_width": 1700,
       "layout": "IPY_MODEL_f634cb5f1c1541499e12e467731b9d89",
       "toolbar": "IPY_MODEL_c43e41e9f95b444180097d4c81790865",
       "toolbar_position": "left"
      }
     },
     "5acb95d6bcef4f90832f70fd4a3e7590": {
      "model_module": "jupyter-matplotlib",
      "model_module_version": "^0.8.3",
      "model_name": "ToolbarModel",
      "state": {
       "layout": "IPY_MODEL_2f30d20f9ecc4c07a18324f6f36058b1",
       "toolitems": [
        [
         "Home",
         "Reset original view",
         "home",
         "home"
        ],
        [
         "Back",
         "Back to previous view",
         "arrow-left",
         "back"
        ],
        [
         "Forward",
         "Forward to next view",
         "arrow-right",
         "forward"
        ],
        [
         "Pan",
         "Left button pans, Right button zooms\nx/y fixes axis, CTRL fixes aspect",
         "arrows",
         "pan"
        ],
        [
         "Zoom",
         "Zoom to rectangle\nx/y fixes axis, CTRL fixes aspect",
         "square-o",
         "zoom"
        ],
        [
         "Download",
         "Download plot",
         "floppy-o",
         "save_figure"
        ]
       ]
      }
     },
     "5ad4cf035e4b47c4b528b0903482a39e": {
      "model_module": "@jupyter-widgets/base",
      "model_module_version": "1.2.0",
      "model_name": "LayoutModel",
      "state": {}
     },
     "5b3772998a8d48ada05e3d03607af08f": {
      "model_module": "jupyter-matplotlib",
      "model_module_version": "^0.8.3",
      "model_name": "MPLCanvasModel",
      "state": {
       "_cursor": "default",
       "_figure_label": "Figure 45",
       "_height": 500,
       "_message": "x=1.1 y=11.9",
       "_width": 1000,
       "layout": "IPY_MODEL_de5476bde5a549ddb1462f58e3441a2b",
       "toolbar": "IPY_MODEL_6cf35ee740434da9a6082e443a24b965",
       "toolbar_position": "left"
      }
     },
     "5ca8f22eed224879b9bf435132f33334": {
      "model_module": "@jupyter-widgets/base",
      "model_module_version": "1.2.0",
      "model_name": "LayoutModel",
      "state": {}
     },
     "5cbefab7c24e442791a5b5f0fd1f3409": {
      "model_module": "jupyter-matplotlib",
      "model_module_version": "^0.8.3",
      "model_name": "MPLCanvasModel",
      "state": {
       "_cursor": "default",
       "_figure_label": "Figure 63",
       "_height": 1000,
       "_image_mode": "diff",
       "_width": 1200,
       "layout": "IPY_MODEL_75367b8f67484d54b00e5652efa4ce67",
       "toolbar": "IPY_MODEL_8d7d11e5f5f8441cae1e1c6c67a7bdfa",
       "toolbar_position": "left"
      }
     },
     "5d44339bbc8b4a1bb61cf1be9878f5b1": {
      "model_module": "jupyter-matplotlib",
      "model_module_version": "^0.8.3",
      "model_name": "ToolbarModel",
      "state": {
       "layout": "IPY_MODEL_99ccd424a2a947ecb9ed0033d0327b5f",
       "toolitems": [
        [
         "Home",
         "Reset original view",
         "home",
         "home"
        ],
        [
         "Back",
         "Back to previous view",
         "arrow-left",
         "back"
        ],
        [
         "Forward",
         "Forward to next view",
         "arrow-right",
         "forward"
        ],
        [
         "Pan",
         "Left button pans, Right button zooms\nx/y fixes axis, CTRL fixes aspect",
         "arrows",
         "pan"
        ],
        [
         "Zoom",
         "Zoom to rectangle\nx/y fixes axis, CTRL fixes aspect",
         "square-o",
         "zoom"
        ],
        [
         "Download",
         "Download plot",
         "floppy-o",
         "save_figure"
        ]
       ]
      }
     },
     "5d9ca3337e2b400ea6b8dc1394d7cacd": {
      "model_module": "jupyter-matplotlib",
      "model_module_version": "^0.8.3",
      "model_name": "MPLCanvasModel",
      "state": {
       "_cursor": "default",
       "_figure_label": "Figure 18",
       "_height": 1500,
       "_width": 1700,
       "layout": "IPY_MODEL_b4a2d9d9b37c45879dbe3f042dca6337",
       "toolbar": "IPY_MODEL_41dd9a3571cb48d0b3e40389739d256f",
       "toolbar_position": "left"
      }
     },
     "5da43756f8b140b29879392ccbdb300e": {
      "model_module": "jupyter-matplotlib",
      "model_module_version": "^0.8.3",
      "model_name": "MPLCanvasModel",
      "state": {
       "_cursor": "default",
       "_figure_label": "Figure 13",
       "_height": 1000,
       "_message": "x=−0.031 y=1.44e+03",
       "_width": 1500,
       "layout": "IPY_MODEL_f43f27d8f3f84aa3924b569da1298397",
       "toolbar": "IPY_MODEL_a212d5dff5af48cda8b03adc958509bf",
       "toolbar_position": "left"
      }
     },
     "5edfe4575905467a91cc111881b2d9dc": {
      "model_module": "jupyter-matplotlib",
      "model_module_version": "^0.8.3",
      "model_name": "ToolbarModel",
      "state": {
       "layout": "IPY_MODEL_20210b5aa1df471fb7bef6f82e952b2c",
       "toolitems": [
        [
         "Home",
         "Reset original view",
         "home",
         "home"
        ],
        [
         "Back",
         "Back to previous view",
         "arrow-left",
         "back"
        ],
        [
         "Forward",
         "Forward to next view",
         "arrow-right",
         "forward"
        ],
        [
         "Pan",
         "Left button pans, Right button zooms\nx/y fixes axis, CTRL fixes aspect",
         "arrows",
         "pan"
        ],
        [
         "Zoom",
         "Zoom to rectangle\nx/y fixes axis, CTRL fixes aspect",
         "square-o",
         "zoom"
        ],
        [
         "Download",
         "Download plot",
         "floppy-o",
         "save_figure"
        ]
       ]
      }
     },
     "5f597e6f72d24319a81bc7ac556db143": {
      "model_module": "@jupyter-widgets/base",
      "model_module_version": "1.2.0",
      "model_name": "LayoutModel",
      "state": {}
     },
     "5fb4ab14c66445339c350c55ce8a613b": {
      "model_module": "@jupyter-widgets/base",
      "model_module_version": "1.2.0",
      "model_name": "LayoutModel",
      "state": {}
     },
     "5fd8d0db6f38410a97aa27953ca9ac0b": {
      "model_module": "jupyter-matplotlib",
      "model_module_version": "^0.8.3",
      "model_name": "ToolbarModel",
      "state": {
       "layout": "IPY_MODEL_8eb311a59fec46998cf53b6dded13450",
       "toolitems": [
        [
         "Home",
         "Reset original view",
         "home",
         "home"
        ],
        [
         "Back",
         "Back to previous view",
         "arrow-left",
         "back"
        ],
        [
         "Forward",
         "Forward to next view",
         "arrow-right",
         "forward"
        ],
        [
         "Pan",
         "Left button pans, Right button zooms\nx/y fixes axis, CTRL fixes aspect",
         "arrows",
         "pan"
        ],
        [
         "Zoom",
         "Zoom to rectangle\nx/y fixes axis, CTRL fixes aspect",
         "square-o",
         "zoom"
        ],
        [
         "Download",
         "Download plot",
         "floppy-o",
         "save_figure"
        ]
       ]
      }
     },
     "603d7992e2e94cd990b686939474a0c4": {
      "model_module": "@jupyter-widgets/base",
      "model_module_version": "1.2.0",
      "model_name": "LayoutModel",
      "state": {}
     },
     "60ffbec172a34b6b83bbc75236d0fce7": {
      "model_module": "jupyter-matplotlib",
      "model_module_version": "^0.8.3",
      "model_name": "MPLCanvasModel",
      "state": {
       "_cursor": "default",
       "_figure_label": "Figure 50",
       "_height": 500,
       "_width": 1000,
       "layout": "IPY_MODEL_6ebec2a1852d49a0892157443d5e7d42",
       "toolbar": "IPY_MODEL_4c13f9d7550d47a1a2d8338614c71fa5",
       "toolbar_position": "left"
      }
     },
     "636af9ea10f44f708f700fa2ec54724f": {
      "model_module": "jupyter-matplotlib",
      "model_module_version": "^0.8.3",
      "model_name": "MPLCanvasModel",
      "state": {
       "_cursor": "default",
       "_figure_label": "Figure 133",
       "_height": 500,
       "_width": 1800,
       "layout": "IPY_MODEL_64f0f7a3e745434396958089949bcae4",
       "toolbar": "IPY_MODEL_e6c6409247c14990a830bdc6461d4fb8",
       "toolbar_position": "left"
      }
     },
     "6378b9eec0c24d67810367391ac59bbd": {
      "model_module": "jupyter-matplotlib",
      "model_module_version": "^0.8.3",
      "model_name": "MPLCanvasModel",
      "state": {
       "_cursor": "default",
       "_figure_label": "Figure 88",
       "_height": 600,
       "_image_mode": "diff",
       "_width": 1200,
       "layout": "IPY_MODEL_a13c3fc4044e44ebafc5252725db5c84",
       "toolbar": "IPY_MODEL_b95951deb7ee409eafdbe274b5c5b9e4",
       "toolbar_position": "left"
      }
     },
     "64f0f7a3e745434396958089949bcae4": {
      "model_module": "@jupyter-widgets/base",
      "model_module_version": "1.2.0",
      "model_name": "LayoutModel",
      "state": {}
     },
     "651a97dca124470c99ae49880b59dc60": {
      "model_module": "@jupyter-widgets/base",
      "model_module_version": "1.2.0",
      "model_name": "LayoutModel",
      "state": {}
     },
     "653d6b18db124851a53c58033d1d41bd": {
      "model_module": "jupyter-matplotlib",
      "model_module_version": "^0.8.3",
      "model_name": "ToolbarModel",
      "state": {
       "layout": "IPY_MODEL_45d423c931b64e9bba9ff3c8d9aff4bb",
       "toolitems": [
        [
         "Home",
         "Reset original view",
         "home",
         "home"
        ],
        [
         "Back",
         "Back to previous view",
         "arrow-left",
         "back"
        ],
        [
         "Forward",
         "Forward to next view",
         "arrow-right",
         "forward"
        ],
        [
         "Pan",
         "Left button pans, Right button zooms\nx/y fixes axis, CTRL fixes aspect",
         "arrows",
         "pan"
        ],
        [
         "Zoom",
         "Zoom to rectangle\nx/y fixes axis, CTRL fixes aspect",
         "square-o",
         "zoom"
        ],
        [
         "Download",
         "Download plot",
         "floppy-o",
         "save_figure"
        ]
       ]
      }
     },
     "659eaa0848d84d76810962eb1f9d23e7": {
      "model_module": "jupyter-matplotlib",
      "model_module_version": "^0.8.3",
      "model_name": "ToolbarModel",
      "state": {
       "layout": "IPY_MODEL_d09bfff4c2f540acb7e6d5108c15db15",
       "toolitems": [
        [
         "Home",
         "Reset original view",
         "home",
         "home"
        ],
        [
         "Back",
         "Back to previous view",
         "arrow-left",
         "back"
        ],
        [
         "Forward",
         "Forward to next view",
         "arrow-right",
         "forward"
        ],
        [
         "Pan",
         "Left button pans, Right button zooms\nx/y fixes axis, CTRL fixes aspect",
         "arrows",
         "pan"
        ],
        [
         "Zoom",
         "Zoom to rectangle\nx/y fixes axis, CTRL fixes aspect",
         "square-o",
         "zoom"
        ],
        [
         "Download",
         "Download plot",
         "floppy-o",
         "save_figure"
        ]
       ]
      }
     },
     "66965732ea674cb89cc0ec474aaebd20": {
      "model_module": "jupyter-matplotlib",
      "model_module_version": "^0.8.3",
      "model_name": "ToolbarModel",
      "state": {
       "layout": "IPY_MODEL_79c68ffa374045debdf31b74cd663354",
       "toolitems": [
        [
         "Home",
         "Reset original view",
         "home",
         "home"
        ],
        [
         "Back",
         "Back to previous view",
         "arrow-left",
         "back"
        ],
        [
         "Forward",
         "Forward to next view",
         "arrow-right",
         "forward"
        ],
        [
         "Pan",
         "Left button pans, Right button zooms\nx/y fixes axis, CTRL fixes aspect",
         "arrows",
         "pan"
        ],
        [
         "Zoom",
         "Zoom to rectangle\nx/y fixes axis, CTRL fixes aspect",
         "square-o",
         "zoom"
        ],
        [
         "Download",
         "Download plot",
         "floppy-o",
         "save_figure"
        ]
       ]
      }
     },
     "674e0ff6f7b54daa98d46dcb5a8b7a60": {
      "model_module": "jupyter-matplotlib",
      "model_module_version": "^0.8.3",
      "model_name": "ToolbarModel",
      "state": {
       "layout": "IPY_MODEL_732ec7625140432d9dbf8640cf71a8f6",
       "toolitems": [
        [
         "Home",
         "Reset original view",
         "home",
         "home"
        ],
        [
         "Back",
         "Back to previous view",
         "arrow-left",
         "back"
        ],
        [
         "Forward",
         "Forward to next view",
         "arrow-right",
         "forward"
        ],
        [
         "Pan",
         "Left button pans, Right button zooms\nx/y fixes axis, CTRL fixes aspect",
         "arrows",
         "pan"
        ],
        [
         "Zoom",
         "Zoom to rectangle\nx/y fixes axis, CTRL fixes aspect",
         "square-o",
         "zoom"
        ],
        [
         "Download",
         "Download plot",
         "floppy-o",
         "save_figure"
        ]
       ]
      }
     },
     "67591785305041438ea2405cae651b1f": {
      "model_module": "@jupyter-widgets/base",
      "model_module_version": "1.2.0",
      "model_name": "LayoutModel",
      "state": {}
     },
     "676734b792224beea0dd2416a5190538": {
      "model_module": "jupyter-matplotlib",
      "model_module_version": "^0.8.3",
      "model_name": "ToolbarModel",
      "state": {
       "layout": "IPY_MODEL_b08e828b0d5d4e9b83eb8495167d31d8",
       "toolitems": [
        [
         "Home",
         "Reset original view",
         "home",
         "home"
        ],
        [
         "Back",
         "Back to previous view",
         "arrow-left",
         "back"
        ],
        [
         "Forward",
         "Forward to next view",
         "arrow-right",
         "forward"
        ],
        [
         "Pan",
         "Left button pans, Right button zooms\nx/y fixes axis, CTRL fixes aspect",
         "arrows",
         "pan"
        ],
        [
         "Zoom",
         "Zoom to rectangle\nx/y fixes axis, CTRL fixes aspect",
         "square-o",
         "zoom"
        ],
        [
         "Download",
         "Download plot",
         "floppy-o",
         "save_figure"
        ]
       ]
      }
     },
     "67ba43c83abe41949998da3f7290cdae": {
      "model_module": "@jupyter-widgets/base",
      "model_module_version": "1.2.0",
      "model_name": "LayoutModel",
      "state": {}
     },
     "67d8d65ec6f44d1f91ebc2f72ee41f5d": {
      "model_module": "jupyter-matplotlib",
      "model_module_version": "^0.8.3",
      "model_name": "ToolbarModel",
      "state": {
       "layout": "IPY_MODEL_c443d1a517114c60ac3e1b9819b1aa33",
       "toolitems": [
        [
         "Home",
         "Reset original view",
         "home",
         "home"
        ],
        [
         "Back",
         "Back to previous view",
         "arrow-left",
         "back"
        ],
        [
         "Forward",
         "Forward to next view",
         "arrow-right",
         "forward"
        ],
        [
         "Pan",
         "Left button pans, Right button zooms\nx/y fixes axis, CTRL fixes aspect",
         "arrows",
         "pan"
        ],
        [
         "Zoom",
         "Zoom to rectangle\nx/y fixes axis, CTRL fixes aspect",
         "square-o",
         "zoom"
        ],
        [
         "Download",
         "Download plot",
         "floppy-o",
         "save_figure"
        ]
       ]
      }
     },
     "67f48cd79f1643488ab816a3bde29290": {
      "model_module": "jupyter-matplotlib",
      "model_module_version": "^0.8.3",
      "model_name": "ToolbarModel",
      "state": {
       "layout": "IPY_MODEL_333af060ce9641448a9a50966de3d803",
       "toolitems": [
        [
         "Home",
         "Reset original view",
         "home",
         "home"
        ],
        [
         "Back",
         "Back to previous view",
         "arrow-left",
         "back"
        ],
        [
         "Forward",
         "Forward to next view",
         "arrow-right",
         "forward"
        ],
        [
         "Pan",
         "Left button pans, Right button zooms\nx/y fixes axis, CTRL fixes aspect",
         "arrows",
         "pan"
        ],
        [
         "Zoom",
         "Zoom to rectangle\nx/y fixes axis, CTRL fixes aspect",
         "square-o",
         "zoom"
        ],
        [
         "Download",
         "Download plot",
         "floppy-o",
         "save_figure"
        ]
       ]
      }
     },
     "68dfd2a447b043d4b725660bb69826c5": {
      "model_module": "jupyter-matplotlib",
      "model_module_version": "^0.8.3",
      "model_name": "MPLCanvasModel",
      "state": {
       "_cursor": "default",
       "_figure_label": "Figure 57",
       "_height": 500,
       "_width": 1000,
       "layout": "IPY_MODEL_ff98ea8a20ca417faf2f5be6b75a9f6a",
       "toolbar": "IPY_MODEL_0a1192f090d24d25a4a8742fc0d438fe",
       "toolbar_position": "left"
      }
     },
     "68e9fd1b78034908963e15954efbce8c": {
      "model_module": "jupyter-matplotlib",
      "model_module_version": "^0.8.3",
      "model_name": "ToolbarModel",
      "state": {
       "layout": "IPY_MODEL_cf98908a1fed4790a74c97faf6c2d0e2",
       "toolitems": [
        [
         "Home",
         "Reset original view",
         "home",
         "home"
        ],
        [
         "Back",
         "Back to previous view",
         "arrow-left",
         "back"
        ],
        [
         "Forward",
         "Forward to next view",
         "arrow-right",
         "forward"
        ],
        [
         "Pan",
         "Left button pans, Right button zooms\nx/y fixes axis, CTRL fixes aspect",
         "arrows",
         "pan"
        ],
        [
         "Zoom",
         "Zoom to rectangle\nx/y fixes axis, CTRL fixes aspect",
         "square-o",
         "zoom"
        ],
        [
         "Download",
         "Download plot",
         "floppy-o",
         "save_figure"
        ]
       ]
      }
     },
     "69f2e025c98e4512b3f1a5f85f1017e3": {
      "model_module": "jupyter-matplotlib",
      "model_module_version": "^0.8.3",
      "model_name": "MPLCanvasModel",
      "state": {
       "_cursor": "default",
       "_figure_label": "Figure 109",
       "_height": 1000,
       "_width": 1500,
       "layout": "IPY_MODEL_6aecbfe6ce174d909cfbe47f6369a7a5",
       "toolbar": "IPY_MODEL_e1d1a86f8e3e406eb527d6a39622b3ad",
       "toolbar_position": "left"
      }
     },
     "6a3b684e804340dab6be37c93a22aefc": {
      "model_module": "@jupyter-widgets/base",
      "model_module_version": "1.2.0",
      "model_name": "LayoutModel",
      "state": {}
     },
     "6a957693bd554ce0850efb6453c04044": {
      "model_module": "jupyter-matplotlib",
      "model_module_version": "^0.8.3",
      "model_name": "ToolbarModel",
      "state": {
       "layout": "IPY_MODEL_adbd2679bdbc436d941cbcb016707ed9",
       "toolitems": [
        [
         "Home",
         "Reset original view",
         "home",
         "home"
        ],
        [
         "Back",
         "Back to previous view",
         "arrow-left",
         "back"
        ],
        [
         "Forward",
         "Forward to next view",
         "arrow-right",
         "forward"
        ],
        [
         "Pan",
         "Left button pans, Right button zooms\nx/y fixes axis, CTRL fixes aspect",
         "arrows",
         "pan"
        ],
        [
         "Zoom",
         "Zoom to rectangle\nx/y fixes axis, CTRL fixes aspect",
         "square-o",
         "zoom"
        ],
        [
         "Download",
         "Download plot",
         "floppy-o",
         "save_figure"
        ]
       ]
      }
     },
     "6aecbfe6ce174d909cfbe47f6369a7a5": {
      "model_module": "@jupyter-widgets/base",
      "model_module_version": "1.2.0",
      "model_name": "LayoutModel",
      "state": {}
     },
     "6afb5364698547f8a72592e9d04a035c": {
      "model_module": "jupyter-matplotlib",
      "model_module_version": "^0.8.3",
      "model_name": "MPLCanvasModel",
      "state": {
       "_cursor": "default",
       "_figure_label": "Figure 132",
       "_height": 500,
       "_width": 2000,
       "layout": "IPY_MODEL_190118079cc4440192e71457239228de",
       "toolbar": "IPY_MODEL_d2c2d0c3fd8b409dbd397b2a5354fd65",
       "toolbar_position": "left"
      }
     },
     "6b1bc23a6b624c86a6e19d8675a0d07c": {
      "model_module": "jupyter-matplotlib",
      "model_module_version": "^0.8.3",
      "model_name": "ToolbarModel",
      "state": {
       "layout": "IPY_MODEL_9ec0f87e2a8840f8aeea243addfcadd4",
       "toolitems": [
        [
         "Home",
         "Reset original view",
         "home",
         "home"
        ],
        [
         "Back",
         "Back to previous view",
         "arrow-left",
         "back"
        ],
        [
         "Forward",
         "Forward to next view",
         "arrow-right",
         "forward"
        ],
        [
         "Pan",
         "Left button pans, Right button zooms\nx/y fixes axis, CTRL fixes aspect",
         "arrows",
         "pan"
        ],
        [
         "Zoom",
         "Zoom to rectangle\nx/y fixes axis, CTRL fixes aspect",
         "square-o",
         "zoom"
        ],
        [
         "Download",
         "Download plot",
         "floppy-o",
         "save_figure"
        ]
       ]
      }
     },
     "6bde52f6f9a84b61988d64efd08b3504": {
      "model_module": "@jupyter-widgets/base",
      "model_module_version": "1.2.0",
      "model_name": "LayoutModel",
      "state": {}
     },
     "6c08eed1f8654a42ae536df0e64aafdc": {
      "model_module": "jupyter-matplotlib",
      "model_module_version": "^0.8.3",
      "model_name": "ToolbarModel",
      "state": {
       "layout": "IPY_MODEL_f9e6596fc38841e0a15a394be822c144",
       "toolitems": [
        [
         "Home",
         "Reset original view",
         "home",
         "home"
        ],
        [
         "Back",
         "Back to previous view",
         "arrow-left",
         "back"
        ],
        [
         "Forward",
         "Forward to next view",
         "arrow-right",
         "forward"
        ],
        [
         "Pan",
         "Left button pans, Right button zooms\nx/y fixes axis, CTRL fixes aspect",
         "arrows",
         "pan"
        ],
        [
         "Zoom",
         "Zoom to rectangle\nx/y fixes axis, CTRL fixes aspect",
         "square-o",
         "zoom"
        ],
        [
         "Download",
         "Download plot",
         "floppy-o",
         "save_figure"
        ]
       ]
      }
     },
     "6ca6e29a987e431fb53572a0d8ccffbc": {
      "model_module": "jupyter-matplotlib",
      "model_module_version": "^0.8.3",
      "model_name": "ToolbarModel",
      "state": {
       "layout": "IPY_MODEL_4db1b09b2d5c4e05887118527a8e4b99",
       "toolitems": [
        [
         "Home",
         "Reset original view",
         "home",
         "home"
        ],
        [
         "Back",
         "Back to previous view",
         "arrow-left",
         "back"
        ],
        [
         "Forward",
         "Forward to next view",
         "arrow-right",
         "forward"
        ],
        [
         "Pan",
         "Left button pans, Right button zooms\nx/y fixes axis, CTRL fixes aspect",
         "arrows",
         "pan"
        ],
        [
         "Zoom",
         "Zoom to rectangle\nx/y fixes axis, CTRL fixes aspect",
         "square-o",
         "zoom"
        ],
        [
         "Download",
         "Download plot",
         "floppy-o",
         "save_figure"
        ]
       ]
      }
     },
     "6cd59056eef24447a44216795391e148": {
      "model_module": "jupyter-matplotlib",
      "model_module_version": "^0.8.3",
      "model_name": "MPLCanvasModel",
      "state": {
       "layout": "IPY_MODEL_fa58525ab7be493ab333117120abf1b8",
       "toolbar": "IPY_MODEL_a3ef59b0b43f4a0494782c849b28f1b9",
       "toolbar_position": "left"
      }
     },
     "6cf35ee740434da9a6082e443a24b965": {
      "model_module": "jupyter-matplotlib",
      "model_module_version": "^0.8.3",
      "model_name": "ToolbarModel",
      "state": {
       "layout": "IPY_MODEL_c264b697bc284d9abcd644b335df10d0",
       "toolitems": [
        [
         "Home",
         "Reset original view",
         "home",
         "home"
        ],
        [
         "Back",
         "Back to previous view",
         "arrow-left",
         "back"
        ],
        [
         "Forward",
         "Forward to next view",
         "arrow-right",
         "forward"
        ],
        [
         "Pan",
         "Left button pans, Right button zooms\nx/y fixes axis, CTRL fixes aspect",
         "arrows",
         "pan"
        ],
        [
         "Zoom",
         "Zoom to rectangle\nx/y fixes axis, CTRL fixes aspect",
         "square-o",
         "zoom"
        ],
        [
         "Download",
         "Download plot",
         "floppy-o",
         "save_figure"
        ]
       ]
      }
     },
     "6d5955be66d04de4a58393dd9453c586": {
      "model_module": "@jupyter-widgets/base",
      "model_module_version": "1.2.0",
      "model_name": "LayoutModel",
      "state": {}
     },
     "6d5fc20569f041b3b8449f55435e9208": {
      "model_module": "jupyter-matplotlib",
      "model_module_version": "^0.8.3",
      "model_name": "MPLCanvasModel",
      "state": {
       "_cursor": "default",
       "_figure_label": "Figure 51",
       "_height": 500,
       "_message": "x=−7.28 y=154.0",
       "_width": 1000,
       "layout": "IPY_MODEL_e23e899230d247968a0a317da0fe73bb",
       "toolbar": "IPY_MODEL_4a6ec2eb3cff4eecaf1b3ee5f19b82e8",
       "toolbar_position": "left"
      }
     },
     "6e273e1dc1964a3793523678616223ab": {
      "model_module": "jupyter-matplotlib",
      "model_module_version": "^0.8.3",
      "model_name": "MPLCanvasModel",
      "state": {
       "_cursor": "default",
       "_figure_label": "Figure 3",
       "_height": 1000,
       "_image_mode": "diff",
       "_width": 1500,
       "layout": "IPY_MODEL_d1c9942a7f86411a88286da6fa13f3ad",
       "toolbar": "IPY_MODEL_8dde7e448c704359abbe6927e73ce320",
       "toolbar_position": "left"
      }
     },
     "6e5dedc2a885476a882a77ef9e7ebb1c": {
      "model_module": "jupyter-matplotlib",
      "model_module_version": "^0.8.3",
      "model_name": "ToolbarModel",
      "state": {
       "layout": "IPY_MODEL_7d782b0a05954598b6924681496700f7",
       "toolitems": [
        [
         "Home",
         "Reset original view",
         "home",
         "home"
        ],
        [
         "Back",
         "Back to previous view",
         "arrow-left",
         "back"
        ],
        [
         "Forward",
         "Forward to next view",
         "arrow-right",
         "forward"
        ],
        [
         "Pan",
         "Left button pans, Right button zooms\nx/y fixes axis, CTRL fixes aspect",
         "arrows",
         "pan"
        ],
        [
         "Zoom",
         "Zoom to rectangle\nx/y fixes axis, CTRL fixes aspect",
         "square-o",
         "zoom"
        ],
        [
         "Download",
         "Download plot",
         "floppy-o",
         "save_figure"
        ]
       ]
      }
     },
     "6ea12f9d413342e096236b2a5a913f18": {
      "model_module": "jupyter-matplotlib",
      "model_module_version": "^0.8.3",
      "model_name": "MPLCanvasModel",
      "state": {
       "layout": "IPY_MODEL_05a83d3a448f45cf9e92e014671a7a38",
       "toolbar": "IPY_MODEL_a2b8286bbc8d43dcbeb442724d32b2ab",
       "toolbar_position": "left"
      }
     },
     "6ebec2a1852d49a0892157443d5e7d42": {
      "model_module": "@jupyter-widgets/base",
      "model_module_version": "1.2.0",
      "model_name": "LayoutModel",
      "state": {}
     },
     "6fa228899efa464984b8bf17e58a4cc5": {
      "model_module": "@jupyter-widgets/base",
      "model_module_version": "1.2.0",
      "model_name": "LayoutModel",
      "state": {}
     },
     "701cc0ca6abc4ed698e8d5f38031e505": {
      "model_module": "jupyter-matplotlib",
      "model_module_version": "^0.8.3",
      "model_name": "MPLCanvasModel",
      "state": {
       "_cursor": "default",
       "_figure_label": "Figure 86",
       "_height": 600,
       "_width": 1200,
       "layout": "IPY_MODEL_51080652101f486b94d9a21228307be7",
       "toolbar": "IPY_MODEL_2c0c9fc2286f4345a2f0665f6c8a0115",
       "toolbar_position": "left"
      }
     },
     "70fbe2e5b4a7402a9e8d747b9dc817ec": {
      "model_module": "jupyter-matplotlib",
      "model_module_version": "^0.8.3",
      "model_name": "ToolbarModel",
      "state": {
       "layout": "IPY_MODEL_1f71cd399fd841b6b09505a490e16f6e",
       "toolitems": [
        [
         "Home",
         "Reset original view",
         "home",
         "home"
        ],
        [
         "Back",
         "Back to previous view",
         "arrow-left",
         "back"
        ],
        [
         "Forward",
         "Forward to next view",
         "arrow-right",
         "forward"
        ],
        [
         "Pan",
         "Left button pans, Right button zooms\nx/y fixes axis, CTRL fixes aspect",
         "arrows",
         "pan"
        ],
        [
         "Zoom",
         "Zoom to rectangle\nx/y fixes axis, CTRL fixes aspect",
         "square-o",
         "zoom"
        ],
        [
         "Download",
         "Download plot",
         "floppy-o",
         "save_figure"
        ]
       ]
      }
     },
     "710fd4a390654d218552fa03340a2e13": {
      "model_module": "@jupyter-widgets/base",
      "model_module_version": "1.2.0",
      "model_name": "LayoutModel",
      "state": {}
     },
     "715f061339fb4555bd0f7ac44fee4a4f": {
      "model_module": "@jupyter-widgets/base",
      "model_module_version": "1.2.0",
      "model_name": "LayoutModel",
      "state": {}
     },
     "726faabd8c9b46d4b9eb52fffa1a365e": {
      "model_module": "jupyter-matplotlib",
      "model_module_version": "^0.8.3",
      "model_name": "MPLCanvasModel",
      "state": {
       "_cursor": "default",
       "_figure_label": "Figure 107",
       "_height": 1000,
       "_message": "x=−0.098 y=1.963e+04",
       "_width": 1500,
       "layout": "IPY_MODEL_98e7af777103417d9ad5e7e452fa87b5",
       "toolbar": "IPY_MODEL_6c08eed1f8654a42ae536df0e64aafdc",
       "toolbar_position": "left"
      }
     },
     "72bab5aabd734e9eb8344c7f44ea0f7e": {
      "model_module": "jupyter-matplotlib",
      "model_module_version": "^0.8.3",
      "model_name": "ToolbarModel",
      "state": {
       "layout": "IPY_MODEL_d18bd65b25a045cc8aea64bddf15081b",
       "toolitems": [
        [
         "Home",
         "Reset original view",
         "home",
         "home"
        ],
        [
         "Back",
         "Back to previous view",
         "arrow-left",
         "back"
        ],
        [
         "Forward",
         "Forward to next view",
         "arrow-right",
         "forward"
        ],
        [
         "Pan",
         "Left button pans, Right button zooms\nx/y fixes axis, CTRL fixes aspect",
         "arrows",
         "pan"
        ],
        [
         "Zoom",
         "Zoom to rectangle\nx/y fixes axis, CTRL fixes aspect",
         "square-o",
         "zoom"
        ],
        [
         "Download",
         "Download plot",
         "floppy-o",
         "save_figure"
        ]
       ]
      }
     },
     "72ddd43fbdf94ee09897dacb3059fe68": {
      "model_module": "jupyter-matplotlib",
      "model_module_version": "^0.8.3",
      "model_name": "ToolbarModel",
      "state": {
       "layout": "IPY_MODEL_78939b9ad0ba4de095defac60faaaa69",
       "toolitems": [
        [
         "Home",
         "Reset original view",
         "home",
         "home"
        ],
        [
         "Back",
         "Back to previous view",
         "arrow-left",
         "back"
        ],
        [
         "Forward",
         "Forward to next view",
         "arrow-right",
         "forward"
        ],
        [
         "Pan",
         "Left button pans, Right button zooms\nx/y fixes axis, CTRL fixes aspect",
         "arrows",
         "pan"
        ],
        [
         "Zoom",
         "Zoom to rectangle\nx/y fixes axis, CTRL fixes aspect",
         "square-o",
         "zoom"
        ],
        [
         "Download",
         "Download plot",
         "floppy-o",
         "save_figure"
        ]
       ]
      }
     },
     "732ec7625140432d9dbf8640cf71a8f6": {
      "model_module": "@jupyter-widgets/base",
      "model_module_version": "1.2.0",
      "model_name": "LayoutModel",
      "state": {}
     },
     "738e90656a0b4f88b2355e25ab3a5f40": {
      "model_module": "@jupyter-widgets/base",
      "model_module_version": "1.2.0",
      "model_name": "LayoutModel",
      "state": {}
     },
     "73bcd7d4216f4cccbe0132108c237557": {
      "model_module": "@jupyter-widgets/base",
      "model_module_version": "1.2.0",
      "model_name": "LayoutModel",
      "state": {}
     },
     "73bdaf0a76ec4ad78db722b5f5a71228": {
      "model_module": "jupyter-matplotlib",
      "model_module_version": "^0.8.3",
      "model_name": "MPLCanvasModel",
      "state": {
       "_cursor": "default",
       "_figure_label": "Figure 43",
       "_height": 1000,
       "_image_mode": "diff",
       "_message": "x=1.487 y=1167.",
       "_width": 1500,
       "layout": "IPY_MODEL_f5bed27e319c452ebaf6fee907736f5f",
       "toolbar": "IPY_MODEL_4fe16a61545b4698be1f1fc34c99751e",
       "toolbar_position": "left"
      }
     },
     "75367b8f67484d54b00e5652efa4ce67": {
      "model_module": "@jupyter-widgets/base",
      "model_module_version": "1.2.0",
      "model_name": "LayoutModel",
      "state": {}
     },
     "75774a42b1cf4d809e5be6f935d88d62": {
      "model_module": "@jupyter-widgets/base",
      "model_module_version": "1.2.0",
      "model_name": "LayoutModel",
      "state": {}
     },
     "75af168488a44c5aa8df324838e5394f": {
      "model_module": "jupyter-matplotlib",
      "model_module_version": "^0.8.3",
      "model_name": "ToolbarModel",
      "state": {
       "layout": "IPY_MODEL_313f1d9da8b640ce8d93f1e51246ab8e",
       "toolitems": [
        [
         "Home",
         "Reset original view",
         "home",
         "home"
        ],
        [
         "Back",
         "Back to previous view",
         "arrow-left",
         "back"
        ],
        [
         "Forward",
         "Forward to next view",
         "arrow-right",
         "forward"
        ],
        [
         "Pan",
         "Left button pans, Right button zooms\nx/y fixes axis, CTRL fixes aspect",
         "arrows",
         "pan"
        ],
        [
         "Zoom",
         "Zoom to rectangle\nx/y fixes axis, CTRL fixes aspect",
         "square-o",
         "zoom"
        ],
        [
         "Download",
         "Download plot",
         "floppy-o",
         "save_figure"
        ]
       ]
      }
     },
     "75c4c77b63ff4c03872fff37c3946f96": {
      "model_module": "@jupyter-widgets/base",
      "model_module_version": "1.2.0",
      "model_name": "LayoutModel",
      "state": {}
     },
     "7624a716542048459b4e871842df7189": {
      "model_module": "@jupyter-widgets/base",
      "model_module_version": "1.2.0",
      "model_name": "LayoutModel",
      "state": {}
     },
     "777a1fd8e6be496cbfd2a8d1d6d55dfd": {
      "model_module": "@jupyter-widgets/base",
      "model_module_version": "1.2.0",
      "model_name": "LayoutModel",
      "state": {}
     },
     "78939b9ad0ba4de095defac60faaaa69": {
      "model_module": "@jupyter-widgets/base",
      "model_module_version": "1.2.0",
      "model_name": "LayoutModel",
      "state": {}
     },
     "78b3a86d97ea4ca8a0ccdd0ffa5119e5": {
      "model_module": "jupyter-matplotlib",
      "model_module_version": "^0.8.3",
      "model_name": "ToolbarModel",
      "state": {
       "layout": "IPY_MODEL_d70be7d459584eba96914874b055f339",
       "toolitems": [
        [
         "Home",
         "Reset original view",
         "home",
         "home"
        ],
        [
         "Back",
         "Back to previous view",
         "arrow-left",
         "back"
        ],
        [
         "Forward",
         "Forward to next view",
         "arrow-right",
         "forward"
        ],
        [
         "Pan",
         "Left button pans, Right button zooms\nx/y fixes axis, CTRL fixes aspect",
         "arrows",
         "pan"
        ],
        [
         "Zoom",
         "Zoom to rectangle\nx/y fixes axis, CTRL fixes aspect",
         "square-o",
         "zoom"
        ],
        [
         "Download",
         "Download plot",
         "floppy-o",
         "save_figure"
        ]
       ]
      }
     },
     "7906d5d50b0547c5a9cb7d44c57412f1": {
      "model_module": "@jupyter-widgets/base",
      "model_module_version": "1.2.0",
      "model_name": "LayoutModel",
      "state": {}
     },
     "791d45ee12ed483992a9f0b23db76619": {
      "model_module": "jupyter-matplotlib",
      "model_module_version": "^0.8.3",
      "model_name": "ToolbarModel",
      "state": {
       "layout": "IPY_MODEL_a5e3141662cb474bb06865450c62a552",
       "toolitems": [
        [
         "Home",
         "Reset original view",
         "home",
         "home"
        ],
        [
         "Back",
         "Back to previous view",
         "arrow-left",
         "back"
        ],
        [
         "Forward",
         "Forward to next view",
         "arrow-right",
         "forward"
        ],
        [
         "Pan",
         "Left button pans, Right button zooms\nx/y fixes axis, CTRL fixes aspect",
         "arrows",
         "pan"
        ],
        [
         "Zoom",
         "Zoom to rectangle\nx/y fixes axis, CTRL fixes aspect",
         "square-o",
         "zoom"
        ],
        [
         "Download",
         "Download plot",
         "floppy-o",
         "save_figure"
        ]
       ]
      }
     },
     "79338bc9d9b9467ea4e47c12404cf5b6": {
      "model_module": "@jupyter-widgets/base",
      "model_module_version": "1.2.0",
      "model_name": "LayoutModel",
      "state": {}
     },
     "795bcd0ead0342a882a967427f042dc8": {
      "model_module": "jupyter-matplotlib",
      "model_module_version": "^0.8.3",
      "model_name": "MPLCanvasModel",
      "state": {
       "_cursor": "default",
       "_figure_label": "Figure 102",
       "_height": 1000,
       "_width": 1500,
       "layout": "IPY_MODEL_84d38bf6c0ba4457b0554695ac25ffe2",
       "toolbar": "IPY_MODEL_659eaa0848d84d76810962eb1f9d23e7",
       "toolbar_position": "left"
      }
     },
     "79c68ffa374045debdf31b74cd663354": {
      "model_module": "@jupyter-widgets/base",
      "model_module_version": "1.2.0",
      "model_name": "LayoutModel",
      "state": {}
     },
     "7a2cf26db2a4478ea0101d9879bcade9": {
      "model_module": "@jupyter-widgets/base",
      "model_module_version": "1.2.0",
      "model_name": "LayoutModel",
      "state": {}
     },
     "7b54aea9c74b4a1b9667853e3f49d85e": {
      "model_module": "jupyter-matplotlib",
      "model_module_version": "^0.8.3",
      "model_name": "MPLCanvasModel",
      "state": {
       "_cursor": "default",
       "_figure_label": "Figure 136",
       "_height": 500,
       "_message": "x=84. y=6.72",
       "_width": 1800,
       "layout": "IPY_MODEL_b0eca495bbf7472bbe33221097a2b604",
       "toolbar": "IPY_MODEL_0f265db714554d4787cd398416966ca5",
       "toolbar_position": "left"
      }
     },
     "7b5e6e13a84c4ac8b41bcb4690a01007": {
      "model_module": "jupyter-matplotlib",
      "model_module_version": "^0.8.3",
      "model_name": "MPLCanvasModel",
      "state": {
       "_cursor": "default",
       "_figure_label": "Figure 71",
       "_height": 600,
       "_image_mode": "diff",
       "_message": "x=−151.3 y=5.60e+03",
       "_width": 1200,
       "layout": "IPY_MODEL_f7afcd20318b476f8b8b9b9435299c4b",
       "toolbar": "IPY_MODEL_9767b121612f477eada600abede14995",
       "toolbar_position": "left"
      }
     },
     "7c8bb6f14e184ec9a25a34e67731718d": {
      "model_module": "jupyter-matplotlib",
      "model_module_version": "^0.8.3",
      "model_name": "MPLCanvasModel",
      "state": {
       "_cursor": "default",
       "_figure_label": "Figure 97",
       "_height": 1000,
       "_width": 1500,
       "layout": "IPY_MODEL_67591785305041438ea2405cae651b1f",
       "toolbar": "IPY_MODEL_919913149b9e406a9484878978646622",
       "toolbar_position": "left"
      }
     },
     "7d40d3a2317d40d683f2317b279a0a64": {
      "model_module": "jupyter-matplotlib",
      "model_module_version": "^0.8.3",
      "model_name": "MPLCanvasModel",
      "state": {
       "_cursor": "default",
       "_figure_label": "Figure 37",
       "_height": 1000,
       "_message": "x=62.7 y=9.20e+03",
       "_width": 1500,
       "layout": "IPY_MODEL_83a7710ce40247248ed0e62b87e654f2",
       "toolbar": "IPY_MODEL_6b1bc23a6b624c86a6e19d8675a0d07c",
       "toolbar_position": "left"
      }
     },
     "7d782b0a05954598b6924681496700f7": {
      "model_module": "@jupyter-widgets/base",
      "model_module_version": "1.2.0",
      "model_name": "LayoutModel",
      "state": {}
     },
     "7e42dd09efad4deb84309f872ea6e88e": {
      "model_module": "@jupyter-widgets/base",
      "model_module_version": "1.2.0",
      "model_name": "LayoutModel",
      "state": {}
     },
     "7e8ada41f44f4b19967788323206ae6d": {
      "model_module": "jupyter-matplotlib",
      "model_module_version": "^0.8.3",
      "model_name": "ToolbarModel",
      "state": {
       "layout": "IPY_MODEL_9f700741cda4434ca9bcfe821f06660b",
       "toolitems": [
        [
         "Home",
         "Reset original view",
         "home",
         "home"
        ],
        [
         "Back",
         "Back to previous view",
         "arrow-left",
         "back"
        ],
        [
         "Forward",
         "Forward to next view",
         "arrow-right",
         "forward"
        ],
        [
         "Pan",
         "Left button pans, Right button zooms\nx/y fixes axis, CTRL fixes aspect",
         "arrows",
         "pan"
        ],
        [
         "Zoom",
         "Zoom to rectangle\nx/y fixes axis, CTRL fixes aspect",
         "square-o",
         "zoom"
        ],
        [
         "Download",
         "Download plot",
         "floppy-o",
         "save_figure"
        ]
       ]
      }
     },
     "7fe95d15362841b2b3a44533ef50f0ab": {
      "model_module": "jupyter-matplotlib",
      "model_module_version": "^0.8.3",
      "model_name": "MPLCanvasModel",
      "state": {
       "_cursor": "default",
       "_figure_label": "Figure 31",
       "_height": 1000,
       "_width": 1500,
       "layout": "IPY_MODEL_00246c52c40942c3bef53dea63acac24",
       "toolbar": "IPY_MODEL_c38fce364eeb4e88a92631ecb36e00cf",
       "toolbar_position": "left"
      }
     },
     "7ffb0e0c7ff14bc3a88d9b27dff4f17b": {
      "model_module": "@jupyter-widgets/base",
      "model_module_version": "1.2.0",
      "model_name": "LayoutModel",
      "state": {}
     },
     "80759e53da534199bd4087f918907a39": {
      "model_module": "jupyter-matplotlib",
      "model_module_version": "^0.8.3",
      "model_name": "ToolbarModel",
      "state": {
       "layout": "IPY_MODEL_0a848072296540b589657165245fc8bd",
       "toolitems": [
        [
         "Home",
         "Reset original view",
         "home",
         "home"
        ],
        [
         "Back",
         "Back to previous view",
         "arrow-left",
         "back"
        ],
        [
         "Forward",
         "Forward to next view",
         "arrow-right",
         "forward"
        ],
        [
         "Pan",
         "Left button pans, Right button zooms\nx/y fixes axis, CTRL fixes aspect",
         "arrows",
         "pan"
        ],
        [
         "Zoom",
         "Zoom to rectangle\nx/y fixes axis, CTRL fixes aspect",
         "square-o",
         "zoom"
        ],
        [
         "Download",
         "Download plot",
         "floppy-o",
         "save_figure"
        ]
       ]
      }
     },
     "812a7bdb6d944a00ad061b36dc5df50a": {
      "model_module": "jupyter-matplotlib",
      "model_module_version": "^0.8.3",
      "model_name": "MPLCanvasModel",
      "state": {
       "_cursor": "default",
       "_figure_label": "Figure 83",
       "_height": 550,
       "_message": "x=4064.8 y=1.135e+06",
       "_width": 800,
       "layout": "IPY_MODEL_20c7876124734e8585b22c92d1f087bb",
       "toolbar": "IPY_MODEL_676734b792224beea0dd2416a5190538",
       "toolbar_position": "left"
      }
     },
     "8139f56593484051a4bb73165483f778": {
      "model_module": "@jupyter-widgets/base",
      "model_module_version": "1.2.0",
      "model_name": "LayoutModel",
      "state": {}
     },
     "8158c88bf3ea47f3bb3d016c03a96fa1": {
      "model_module": "@jupyter-widgets/base",
      "model_module_version": "1.2.0",
      "model_name": "LayoutModel",
      "state": {}
     },
     "817787518db14e7dbb98fb03acfc6a0c": {
      "model_module": "jupyter-matplotlib",
      "model_module_version": "^0.8.3",
      "model_name": "MPLCanvasModel",
      "state": {
       "_cursor": "default",
       "_figure_label": "Figure 101",
       "_height": 1000,
       "_width": 1500,
       "layout": "IPY_MODEL_433ec074c96c403995865e424d4da947",
       "toolbar": "IPY_MODEL_d6c1b3dd8dbb48f79b7e9790cc497cbc",
       "toolbar_position": "left"
      }
     },
     "838ef16b6c9844a0a7c7e792366dd56e": {
      "model_module": "@jupyter-widgets/base",
      "model_module_version": "1.2.0",
      "model_name": "LayoutModel",
      "state": {}
     },
     "83a7710ce40247248ed0e62b87e654f2": {
      "model_module": "@jupyter-widgets/base",
      "model_module_version": "1.2.0",
      "model_name": "LayoutModel",
      "state": {}
     },
     "84d38bf6c0ba4457b0554695ac25ffe2": {
      "model_module": "@jupyter-widgets/base",
      "model_module_version": "1.2.0",
      "model_name": "LayoutModel",
      "state": {}
     },
     "856860bdb3834491b07a8d9be01bed3c": {
      "model_module": "@jupyter-widgets/base",
      "model_module_version": "1.2.0",
      "model_name": "LayoutModel",
      "state": {}
     },
     "85d5e980e25f438b9b7f6b718e586a81": {
      "model_module": "jupyter-matplotlib",
      "model_module_version": "^0.8.3",
      "model_name": "ToolbarModel",
      "state": {
       "layout": "IPY_MODEL_cf5fa7c6dd9b498c8f4002ac3f437d22",
       "toolitems": [
        [
         "Home",
         "Reset original view",
         "home",
         "home"
        ],
        [
         "Back",
         "Back to previous view",
         "arrow-left",
         "back"
        ],
        [
         "Forward",
         "Forward to next view",
         "arrow-right",
         "forward"
        ],
        [
         "Pan",
         "Left button pans, Right button zooms\nx/y fixes axis, CTRL fixes aspect",
         "arrows",
         "pan"
        ],
        [
         "Zoom",
         "Zoom to rectangle\nx/y fixes axis, CTRL fixes aspect",
         "square-o",
         "zoom"
        ],
        [
         "Download",
         "Download plot",
         "floppy-o",
         "save_figure"
        ]
       ]
      }
     },
     "8690b39feacc478dbb7f43b9e91601f9": {
      "model_module": "jupyter-matplotlib",
      "model_module_version": "^0.8.3",
      "model_name": "MPLCanvasModel",
      "state": {
       "_cursor": "default",
       "_figure_label": "Figure 25",
       "_height": 483,
       "_image_mode": "diff",
       "_message": "zoom rect",
       "_rubberband_y": 484,
       "_width": 1073,
       "layout": "IPY_MODEL_f59c5b96e5d94946aed22ccd983385b7",
       "toolbar": "IPY_MODEL_41cc96fc092843dd90f955cf9dfb1f1e",
       "toolbar_position": "left"
      }
     },
     "86b207cc88a44c3ea8b86f5f4ec702a6": {
      "model_module": "@jupyter-widgets/base",
      "model_module_version": "1.2.0",
      "model_name": "LayoutModel",
      "state": {}
     },
     "86ebeaee509848c5ae932da2e2e35c66": {
      "model_module": "jupyter-matplotlib",
      "model_module_version": "^0.8.3",
      "model_name": "ToolbarModel",
      "state": {
       "layout": "IPY_MODEL_595ffa72e3ed43c6994cc7126fa6ef83",
       "toolitems": [
        [
         "Home",
         "Reset original view",
         "home",
         "home"
        ],
        [
         "Back",
         "Back to previous view",
         "arrow-left",
         "back"
        ],
        [
         "Forward",
         "Forward to next view",
         "arrow-right",
         "forward"
        ],
        [
         "Pan",
         "Left button pans, Right button zooms\nx/y fixes axis, CTRL fixes aspect",
         "arrows",
         "pan"
        ],
        [
         "Zoom",
         "Zoom to rectangle\nx/y fixes axis, CTRL fixes aspect",
         "square-o",
         "zoom"
        ],
        [
         "Download",
         "Download plot",
         "floppy-o",
         "save_figure"
        ]
       ]
      }
     },
     "8c7f4d05a007415da9f18ecec56f80ac": {
      "model_module": "@jupyter-widgets/base",
      "model_module_version": "1.2.0",
      "model_name": "LayoutModel",
      "state": {}
     },
     "8c9c6c1c6e3d415e9d9aff39e29d35bf": {
      "model_module": "jupyter-matplotlib",
      "model_module_version": "^0.8.3",
      "model_name": "MPLCanvasModel",
      "state": {
       "_cursor": "default",
       "_figure_label": "Figure 121",
       "_height": 500,
       "_message": "x=72. y=39.5",
       "_width": 1500,
       "layout": "IPY_MODEL_c3658bfdfd004a6a8e17b7f73981344d",
       "toolbar": "IPY_MODEL_e75c57158d4249528852ad45bac9cd29",
       "toolbar_position": "left"
      }
     },
     "8d7d11e5f5f8441cae1e1c6c67a7bdfa": {
      "model_module": "jupyter-matplotlib",
      "model_module_version": "^0.8.3",
      "model_name": "ToolbarModel",
      "state": {
       "layout": "IPY_MODEL_36f1c91243954b2cb6185bb94562888b",
       "toolitems": [
        [
         "Home",
         "Reset original view",
         "home",
         "home"
        ],
        [
         "Back",
         "Back to previous view",
         "arrow-left",
         "back"
        ],
        [
         "Forward",
         "Forward to next view",
         "arrow-right",
         "forward"
        ],
        [
         "Pan",
         "Left button pans, Right button zooms\nx/y fixes axis, CTRL fixes aspect",
         "arrows",
         "pan"
        ],
        [
         "Zoom",
         "Zoom to rectangle\nx/y fixes axis, CTRL fixes aspect",
         "square-o",
         "zoom"
        ],
        [
         "Download",
         "Download plot",
         "floppy-o",
         "save_figure"
        ]
       ]
      }
     },
     "8dde7e448c704359abbe6927e73ce320": {
      "model_module": "jupyter-matplotlib",
      "model_module_version": "^0.8.3",
      "model_name": "ToolbarModel",
      "state": {
       "layout": "IPY_MODEL_651a97dca124470c99ae49880b59dc60",
       "toolitems": [
        [
         "Home",
         "Reset original view",
         "home",
         "home"
        ],
        [
         "Back",
         "Back to previous view",
         "arrow-left",
         "back"
        ],
        [
         "Forward",
         "Forward to next view",
         "arrow-right",
         "forward"
        ],
        [
         "Pan",
         "Left button pans, Right button zooms\nx/y fixes axis, CTRL fixes aspect",
         "arrows",
         "pan"
        ],
        [
         "Zoom",
         "Zoom to rectangle\nx/y fixes axis, CTRL fixes aspect",
         "square-o",
         "zoom"
        ],
        [
         "Download",
         "Download plot",
         "floppy-o",
         "save_figure"
        ]
       ]
      }
     },
     "8dfb9428888641ebb8dd649078ba20a2": {
      "model_module": "jupyter-matplotlib",
      "model_module_version": "^0.8.3",
      "model_name": "ToolbarModel",
      "state": {
       "layout": "IPY_MODEL_67ba43c83abe41949998da3f7290cdae",
       "toolitems": [
        [
         "Home",
         "Reset original view",
         "home",
         "home"
        ],
        [
         "Back",
         "Back to previous view",
         "arrow-left",
         "back"
        ],
        [
         "Forward",
         "Forward to next view",
         "arrow-right",
         "forward"
        ],
        [
         "Pan",
         "Left button pans, Right button zooms\nx/y fixes axis, CTRL fixes aspect",
         "arrows",
         "pan"
        ],
        [
         "Zoom",
         "Zoom to rectangle\nx/y fixes axis, CTRL fixes aspect",
         "square-o",
         "zoom"
        ],
        [
         "Download",
         "Download plot",
         "floppy-o",
         "save_figure"
        ]
       ]
      }
     },
     "8e45b6e49dfe4b0fa1eba2e84a9830c4": {
      "model_module": "jupyter-matplotlib",
      "model_module_version": "^0.8.3",
      "model_name": "ToolbarModel",
      "state": {
       "layout": "IPY_MODEL_e484e6ab68ad4df1801a778f123f163e",
       "toolitems": [
        [
         "Home",
         "Reset original view",
         "home",
         "home"
        ],
        [
         "Back",
         "Back to previous view",
         "arrow-left",
         "back"
        ],
        [
         "Forward",
         "Forward to next view",
         "arrow-right",
         "forward"
        ],
        [
         "Pan",
         "Left button pans, Right button zooms\nx/y fixes axis, CTRL fixes aspect",
         "arrows",
         "pan"
        ],
        [
         "Zoom",
         "Zoom to rectangle\nx/y fixes axis, CTRL fixes aspect",
         "square-o",
         "zoom"
        ],
        [
         "Download",
         "Download plot",
         "floppy-o",
         "save_figure"
        ]
       ]
      }
     },
     "8eb311a59fec46998cf53b6dded13450": {
      "model_module": "@jupyter-widgets/base",
      "model_module_version": "1.2.0",
      "model_name": "LayoutModel",
      "state": {}
     },
     "8f06ccf3828b4d1d99df5138a85c804e": {
      "model_module": "@jupyter-widgets/base",
      "model_module_version": "1.2.0",
      "model_name": "LayoutModel",
      "state": {}
     },
     "8fa57a1d6b054986b2c379cdc3d1c0b6": {
      "model_module": "@jupyter-widgets/base",
      "model_module_version": "1.2.0",
      "model_name": "LayoutModel",
      "state": {}
     },
     "90949c0c427146b59a5018e0a0112961": {
      "model_module": "jupyter-matplotlib",
      "model_module_version": "^0.8.3",
      "model_name": "ToolbarModel",
      "state": {
       "layout": "IPY_MODEL_fc7a559772e545598fc4679e1cba36a9",
       "toolitems": [
        [
         "Home",
         "Reset original view",
         "home",
         "home"
        ],
        [
         "Back",
         "Back to previous view",
         "arrow-left",
         "back"
        ],
        [
         "Forward",
         "Forward to next view",
         "arrow-right",
         "forward"
        ],
        [
         "Pan",
         "Left button pans, Right button zooms\nx/y fixes axis, CTRL fixes aspect",
         "arrows",
         "pan"
        ],
        [
         "Zoom",
         "Zoom to rectangle\nx/y fixes axis, CTRL fixes aspect",
         "square-o",
         "zoom"
        ],
        [
         "Download",
         "Download plot",
         "floppy-o",
         "save_figure"
        ]
       ]
      }
     },
     "910ff6a399b645efbc226892c7b6cb36": {
      "model_module": "@jupyter-widgets/base",
      "model_module_version": "1.2.0",
      "model_name": "LayoutModel",
      "state": {}
     },
     "912c977335754654bef3c737bca0c04b": {
      "model_module": "@jupyter-widgets/base",
      "model_module_version": "1.2.0",
      "model_name": "LayoutModel",
      "state": {}
     },
     "91689515fe73446ea1125b79cb4c8976": {
      "model_module": "jupyter-matplotlib",
      "model_module_version": "^0.8.3",
      "model_name": "MPLCanvasModel",
      "state": {
       "_cursor": "default",
       "_figure_label": "Figure 125",
       "_height": 500,
       "_message": "x=47.0 y=0.979",
       "_width": 1500,
       "layout": "IPY_MODEL_0752bd26145744baa1966af4d9b7096a",
       "toolbar": "IPY_MODEL_cb6759fe8f544a3eae47b33ffb962b9e",
       "toolbar_position": "left"
      }
     },
     "91835ff427cb485481380161177565fb": {
      "model_module": "jupyter-matplotlib",
      "model_module_version": "^0.8.3",
      "model_name": "MPLCanvasModel",
      "state": {
       "_cursor": "default",
       "_figure_label": "Figure 130",
       "_height": 500,
       "_width": 1500,
       "layout": "IPY_MODEL_303de3ffc43f44c583b3c34ccd119eff",
       "toolbar": "IPY_MODEL_3eacedbd362e469aa099dee31d95a5b9",
       "toolbar_position": "left"
      }
     },
     "919913149b9e406a9484878978646622": {
      "model_module": "jupyter-matplotlib",
      "model_module_version": "^0.8.3",
      "model_name": "ToolbarModel",
      "state": {
       "layout": "IPY_MODEL_44e5dc81b91747428abe7fc5e1e85ec7",
       "toolitems": [
        [
         "Home",
         "Reset original view",
         "home",
         "home"
        ],
        [
         "Back",
         "Back to previous view",
         "arrow-left",
         "back"
        ],
        [
         "Forward",
         "Forward to next view",
         "arrow-right",
         "forward"
        ],
        [
         "Pan",
         "Left button pans, Right button zooms\nx/y fixes axis, CTRL fixes aspect",
         "arrows",
         "pan"
        ],
        [
         "Zoom",
         "Zoom to rectangle\nx/y fixes axis, CTRL fixes aspect",
         "square-o",
         "zoom"
        ],
        [
         "Download",
         "Download plot",
         "floppy-o",
         "save_figure"
        ]
       ]
      }
     },
     "91d21bbb8917454baecd069eae0393dc": {
      "model_module": "@jupyter-widgets/base",
      "model_module_version": "1.2.0",
      "model_name": "LayoutModel",
      "state": {}
     },
     "9249df8181d643b5be03ee28fd9671f5": {
      "model_module": "@jupyter-widgets/base",
      "model_module_version": "1.2.0",
      "model_name": "LayoutModel",
      "state": {}
     },
     "937960240eab4ef09a30218e63faa933": {
      "model_module": "jupyter-matplotlib",
      "model_module_version": "^0.8.3",
      "model_name": "MPLCanvasModel",
      "state": {
       "_cursor": "default",
       "_figure_label": "Figure 116",
       "_height": 500,
       "_message": "x=75.6 y=1.707",
       "_width": 1500,
       "layout": "IPY_MODEL_b61f076c5d3f4bfd96ba1b4d8962df0b",
       "toolbar": "IPY_MODEL_1ca025e05f7b450599472fd0baf9d32d",
       "toolbar_position": "left"
      }
     },
     "943994245ca74741813d58d4cf25cb0f": {
      "model_module": "jupyter-matplotlib",
      "model_module_version": "^0.8.3",
      "model_name": "ToolbarModel",
      "state": {
       "layout": "IPY_MODEL_bc230ba09f2c43219084ee3c7c24302e",
       "toolitems": [
        [
         "Home",
         "Reset original view",
         "home",
         "home"
        ],
        [
         "Back",
         "Back to previous view",
         "arrow-left",
         "back"
        ],
        [
         "Forward",
         "Forward to next view",
         "arrow-right",
         "forward"
        ],
        [
         "Pan",
         "Left button pans, Right button zooms\nx/y fixes axis, CTRL fixes aspect",
         "arrows",
         "pan"
        ],
        [
         "Zoom",
         "Zoom to rectangle\nx/y fixes axis, CTRL fixes aspect",
         "square-o",
         "zoom"
        ],
        [
         "Download",
         "Download plot",
         "floppy-o",
         "save_figure"
        ]
       ]
      }
     },
     "957cf36e4b004cbf871a08aa9b02e5b0": {
      "model_module": "jupyter-matplotlib",
      "model_module_version": "^0.8.3",
      "model_name": "MPLCanvasModel",
      "state": {
       "_cursor": "default",
       "_figure_label": "Figure 72",
       "_height": 600,
       "_image_mode": "diff",
       "_width": 1200,
       "layout": "IPY_MODEL_c696d9dc702d4f68b325dd63a607daa2",
       "toolbar": "IPY_MODEL_e081281fc27a4e5abc030aab6e449b80",
       "toolbar_position": "left"
      }
     },
     "96704182893a43a399933e76458c7400": {
      "model_module": "jupyter-matplotlib",
      "model_module_version": "^0.8.3",
      "model_name": "MPLCanvasModel",
      "state": {
       "_cursor": "default",
       "_figure_label": "Figure 76",
       "_height": 500,
       "_message": "x=69. y=−2.04",
       "_width": 1000,
       "layout": "IPY_MODEL_2cef2cf0df07431fb718cf0a5e78957d",
       "toolbar": "IPY_MODEL_cd5d9c16abda4e9393a1b2a814c5b20b",
       "toolbar_position": "left"
      }
     },
     "96cad3cfddf144c8a5d373e43ba6d10e": {
      "model_module": "jupyter-matplotlib",
      "model_module_version": "^0.8.3",
      "model_name": "MPLCanvasModel",
      "state": {
       "_cursor": "default",
       "_figure_label": "Figure 105",
       "_height": 1000,
       "_width": 1500,
       "layout": "IPY_MODEL_2640676df24c4ce89e1b22caef5deae3",
       "toolbar": "IPY_MODEL_4d4365a2cd864f6dae732cbaf9ba079e",
       "toolbar_position": "left"
      }
     },
     "96fb5a50cfd6472cb24057cb8e9ecb12": {
      "model_module": "jupyter-matplotlib",
      "model_module_version": "^0.8.3",
      "model_name": "ToolbarModel",
      "state": {
       "layout": "IPY_MODEL_7906d5d50b0547c5a9cb7d44c57412f1",
       "toolitems": [
        [
         "Home",
         "Reset original view",
         "home",
         "home"
        ],
        [
         "Back",
         "Back to previous view",
         "arrow-left",
         "back"
        ],
        [
         "Forward",
         "Forward to next view",
         "arrow-right",
         "forward"
        ],
        [
         "Pan",
         "Left button pans, Right button zooms\nx/y fixes axis, CTRL fixes aspect",
         "arrows",
         "pan"
        ],
        [
         "Zoom",
         "Zoom to rectangle\nx/y fixes axis, CTRL fixes aspect",
         "square-o",
         "zoom"
        ],
        [
         "Download",
         "Download plot",
         "floppy-o",
         "save_figure"
        ]
       ]
      }
     },
     "973bbe974a3d4a238fefecd044db9477": {
      "model_module": "@jupyter-widgets/base",
      "model_module_version": "1.2.0",
      "model_name": "LayoutModel",
      "state": {}
     },
     "9767b121612f477eada600abede14995": {
      "model_module": "jupyter-matplotlib",
      "model_module_version": "^0.8.3",
      "model_name": "ToolbarModel",
      "state": {
       "layout": "IPY_MODEL_296503b1877d4ca4b104da9e346296cf",
       "toolitems": [
        [
         "Home",
         "Reset original view",
         "home",
         "home"
        ],
        [
         "Back",
         "Back to previous view",
         "arrow-left",
         "back"
        ],
        [
         "Forward",
         "Forward to next view",
         "arrow-right",
         "forward"
        ],
        [
         "Pan",
         "Left button pans, Right button zooms\nx/y fixes axis, CTRL fixes aspect",
         "arrows",
         "pan"
        ],
        [
         "Zoom",
         "Zoom to rectangle\nx/y fixes axis, CTRL fixes aspect",
         "square-o",
         "zoom"
        ],
        [
         "Download",
         "Download plot",
         "floppy-o",
         "save_figure"
        ]
       ]
      }
     },
     "9851098c9ce44b67b66fe93ac94a561c": {
      "model_module": "@jupyter-widgets/base",
      "model_module_version": "1.2.0",
      "model_name": "LayoutModel",
      "state": {}
     },
     "98b99e0810c64e288372553b44790b56": {
      "model_module": "@jupyter-widgets/base",
      "model_module_version": "1.2.0",
      "model_name": "LayoutModel",
      "state": {}
     },
     "98e7af777103417d9ad5e7e452fa87b5": {
      "model_module": "@jupyter-widgets/base",
      "model_module_version": "1.2.0",
      "model_name": "LayoutModel",
      "state": {}
     },
     "99ccd424a2a947ecb9ed0033d0327b5f": {
      "model_module": "@jupyter-widgets/base",
      "model_module_version": "1.2.0",
      "model_name": "LayoutModel",
      "state": {}
     },
     "99f9ff6e3b9542b1b925eac1658eaf05": {
      "model_module": "@jupyter-widgets/base",
      "model_module_version": "1.2.0",
      "model_name": "LayoutModel",
      "state": {}
     },
     "9acde3a094f14e48b68529638a0a549b": {
      "model_module": "jupyter-matplotlib",
      "model_module_version": "^0.8.3",
      "model_name": "ToolbarModel",
      "state": {
       "layout": "IPY_MODEL_de6cdb9593c44e12941cf790e93ad7ad",
       "toolitems": [
        [
         "Home",
         "Reset original view",
         "home",
         "home"
        ],
        [
         "Back",
         "Back to previous view",
         "arrow-left",
         "back"
        ],
        [
         "Forward",
         "Forward to next view",
         "arrow-right",
         "forward"
        ],
        [
         "Pan",
         "Left button pans, Right button zooms\nx/y fixes axis, CTRL fixes aspect",
         "arrows",
         "pan"
        ],
        [
         "Zoom",
         "Zoom to rectangle\nx/y fixes axis, CTRL fixes aspect",
         "square-o",
         "zoom"
        ],
        [
         "Download",
         "Download plot",
         "floppy-o",
         "save_figure"
        ]
       ]
      }
     },
     "9c864c691fae4a53831337928f507ba1": {
      "model_module": "@jupyter-widgets/base",
      "model_module_version": "1.2.0",
      "model_name": "LayoutModel",
      "state": {}
     },
     "9d782a3f8f67460598c53a319744215f": {
      "model_module": "jupyter-matplotlib",
      "model_module_version": "^0.8.3",
      "model_name": "ToolbarModel",
      "state": {
       "layout": "IPY_MODEL_9e881e7403404b938e7265742dcacb50",
       "toolitems": [
        [
         "Home",
         "Reset original view",
         "home",
         "home"
        ],
        [
         "Back",
         "Back to previous view",
         "arrow-left",
         "back"
        ],
        [
         "Forward",
         "Forward to next view",
         "arrow-right",
         "forward"
        ],
        [
         "Pan",
         "Left button pans, Right button zooms\nx/y fixes axis, CTRL fixes aspect",
         "arrows",
         "pan"
        ],
        [
         "Zoom",
         "Zoom to rectangle\nx/y fixes axis, CTRL fixes aspect",
         "square-o",
         "zoom"
        ],
        [
         "Download",
         "Download plot",
         "floppy-o",
         "save_figure"
        ]
       ]
      }
     },
     "9d949dd8dd6945f19797bb4533b9171e": {
      "model_module": "@jupyter-widgets/base",
      "model_module_version": "1.2.0",
      "model_name": "LayoutModel",
      "state": {}
     },
     "9dca9c5afd2c4737960cb552da498313": {
      "model_module": "@jupyter-widgets/base",
      "model_module_version": "1.2.0",
      "model_name": "LayoutModel",
      "state": {}
     },
     "9e881e7403404b938e7265742dcacb50": {
      "model_module": "@jupyter-widgets/base",
      "model_module_version": "1.2.0",
      "model_name": "LayoutModel",
      "state": {}
     },
     "9ec0f87e2a8840f8aeea243addfcadd4": {
      "model_module": "@jupyter-widgets/base",
      "model_module_version": "1.2.0",
      "model_name": "LayoutModel",
      "state": {}
     },
     "9f700741cda4434ca9bcfe821f06660b": {
      "model_module": "@jupyter-widgets/base",
      "model_module_version": "1.2.0",
      "model_name": "LayoutModel",
      "state": {}
     },
     "9fe42c4a5bc849929d69c3d82e2aea25": {
      "model_module": "jupyter-matplotlib",
      "model_module_version": "^0.8.3",
      "model_name": "ToolbarModel",
      "state": {
       "layout": "IPY_MODEL_4028134c6ff743c3ac458a754158b8de",
       "toolitems": [
        [
         "Home",
         "Reset original view",
         "home",
         "home"
        ],
        [
         "Back",
         "Back to previous view",
         "arrow-left",
         "back"
        ],
        [
         "Forward",
         "Forward to next view",
         "arrow-right",
         "forward"
        ],
        [
         "Pan",
         "Left button pans, Right button zooms\nx/y fixes axis, CTRL fixes aspect",
         "arrows",
         "pan"
        ],
        [
         "Zoom",
         "Zoom to rectangle\nx/y fixes axis, CTRL fixes aspect",
         "square-o",
         "zoom"
        ],
        [
         "Download",
         "Download plot",
         "floppy-o",
         "save_figure"
        ]
       ]
      }
     },
     "a022160d17de47f0ac4a74b096080fcb": {
      "model_module": "@jupyter-widgets/base",
      "model_module_version": "1.2.0",
      "model_name": "LayoutModel",
      "state": {}
     },
     "a0696e2d32774acba54fee5694c5010a": {
      "model_module": "jupyter-matplotlib",
      "model_module_version": "^0.8.3",
      "model_name": "MPLCanvasModel",
      "state": {
       "_cursor": "default",
       "_figure_label": "Figure 99",
       "_height": 1000,
       "_width": 1500,
       "layout": "IPY_MODEL_b231ba379cae457289eef2bb839e648c",
       "toolbar": "IPY_MODEL_f93c97bc856a435fa2b3635f4106c548",
       "toolbar_position": "left"
      }
     },
     "a077b552eacd42c6bcda62d0129e40fc": {
      "model_module": "@jupyter-widgets/base",
      "model_module_version": "1.2.0",
      "model_name": "LayoutModel",
      "state": {}
     },
     "a0a77ba74ffa47c4bb00f758a286883c": {
      "model_module": "@jupyter-widgets/base",
      "model_module_version": "1.2.0",
      "model_name": "LayoutModel",
      "state": {}
     },
     "a0bef798b74640559acd1c8139d12d3b": {
      "model_module": "jupyter-matplotlib",
      "model_module_version": "^0.8.3",
      "model_name": "ToolbarModel",
      "state": {
       "layout": "IPY_MODEL_ee8b18ea2a614529815a9a0388e90da9",
       "toolitems": [
        [
         "Home",
         "Reset original view",
         "home",
         "home"
        ],
        [
         "Back",
         "Back to previous view",
         "arrow-left",
         "back"
        ],
        [
         "Forward",
         "Forward to next view",
         "arrow-right",
         "forward"
        ],
        [
         "Pan",
         "Left button pans, Right button zooms\nx/y fixes axis, CTRL fixes aspect",
         "arrows",
         "pan"
        ],
        [
         "Zoom",
         "Zoom to rectangle\nx/y fixes axis, CTRL fixes aspect",
         "square-o",
         "zoom"
        ],
        [
         "Download",
         "Download plot",
         "floppy-o",
         "save_figure"
        ]
       ]
      }
     },
     "a12cfb7d41724daa8b145b0e21b851e4": {
      "model_module": "@jupyter-widgets/base",
      "model_module_version": "1.2.0",
      "model_name": "LayoutModel",
      "state": {}
     },
     "a13c3fc4044e44ebafc5252725db5c84": {
      "model_module": "@jupyter-widgets/base",
      "model_module_version": "1.2.0",
      "model_name": "LayoutModel",
      "state": {}
     },
     "a1da4d6253eb47de8a6cf43da2b6171c": {
      "model_module": "@jupyter-widgets/base",
      "model_module_version": "1.2.0",
      "model_name": "LayoutModel",
      "state": {}
     },
     "a212d5dff5af48cda8b03adc958509bf": {
      "model_module": "jupyter-matplotlib",
      "model_module_version": "^0.8.3",
      "model_name": "ToolbarModel",
      "state": {
       "layout": "IPY_MODEL_973bbe974a3d4a238fefecd044db9477",
       "toolitems": [
        [
         "Home",
         "Reset original view",
         "home",
         "home"
        ],
        [
         "Back",
         "Back to previous view",
         "arrow-left",
         "back"
        ],
        [
         "Forward",
         "Forward to next view",
         "arrow-right",
         "forward"
        ],
        [
         "Pan",
         "Left button pans, Right button zooms\nx/y fixes axis, CTRL fixes aspect",
         "arrows",
         "pan"
        ],
        [
         "Zoom",
         "Zoom to rectangle\nx/y fixes axis, CTRL fixes aspect",
         "square-o",
         "zoom"
        ],
        [
         "Download",
         "Download plot",
         "floppy-o",
         "save_figure"
        ]
       ]
      }
     },
     "a2b8286bbc8d43dcbeb442724d32b2ab": {
      "model_module": "jupyter-matplotlib",
      "model_module_version": "^0.8.3",
      "model_name": "ToolbarModel",
      "state": {
       "layout": "IPY_MODEL_23bbcaf112fb4efd9645d394a34347f5",
       "toolitems": [
        [
         "Home",
         "Reset original view",
         "home",
         "home"
        ],
        [
         "Back",
         "Back to previous view",
         "arrow-left",
         "back"
        ],
        [
         "Forward",
         "Forward to next view",
         "arrow-right",
         "forward"
        ],
        [
         "Pan",
         "Left button pans, Right button zooms\nx/y fixes axis, CTRL fixes aspect",
         "arrows",
         "pan"
        ],
        [
         "Zoom",
         "Zoom to rectangle\nx/y fixes axis, CTRL fixes aspect",
         "square-o",
         "zoom"
        ],
        [
         "Download",
         "Download plot",
         "floppy-o",
         "save_figure"
        ]
       ]
      }
     },
     "a31f29bb8dbb44818e889cfccbd05991": {
      "model_module": "jupyter-matplotlib",
      "model_module_version": "^0.8.3",
      "model_name": "MPLCanvasModel",
      "state": {
       "_cursor": "default",
       "_figure_label": "Figure 49",
       "_height": 500,
       "_message": "x=34.1 y=−103.1",
       "_width": 1000,
       "layout": "IPY_MODEL_b8dc4aa9521d44a6b42021b52b70df97",
       "toolbar": "IPY_MODEL_72ddd43fbdf94ee09897dacb3059fe68",
       "toolbar_position": "left"
      }
     },
     "a341e25d77e84ef0b532813d072849f8": {
      "model_module": "@jupyter-widgets/base",
      "model_module_version": "1.2.0",
      "model_name": "LayoutModel",
      "state": {}
     },
     "a372d744cd1b4a04acaa70078a3997b2": {
      "model_module": "@jupyter-widgets/base",
      "model_module_version": "1.2.0",
      "model_name": "LayoutModel",
      "state": {}
     },
     "a3ef59b0b43f4a0494782c849b28f1b9": {
      "model_module": "jupyter-matplotlib",
      "model_module_version": "^0.8.3",
      "model_name": "ToolbarModel",
      "state": {
       "layout": "IPY_MODEL_449dd019c96248ceb1dabf60d08e99e5",
       "toolitems": [
        [
         "Home",
         "Reset original view",
         "home",
         "home"
        ],
        [
         "Back",
         "Back to previous view",
         "arrow-left",
         "back"
        ],
        [
         "Forward",
         "Forward to next view",
         "arrow-right",
         "forward"
        ],
        [
         "Pan",
         "Left button pans, Right button zooms\nx/y fixes axis, CTRL fixes aspect",
         "arrows",
         "pan"
        ],
        [
         "Zoom",
         "Zoom to rectangle\nx/y fixes axis, CTRL fixes aspect",
         "square-o",
         "zoom"
        ],
        [
         "Download",
         "Download plot",
         "floppy-o",
         "save_figure"
        ]
       ]
      }
     },
     "a5709deb9ec940fcabfd136424ee7389": {
      "model_module": "@jupyter-widgets/base",
      "model_module_version": "1.2.0",
      "model_name": "LayoutModel",
      "state": {}
     },
     "a59887aaa65c49d99612f1a145324ac5": {
      "model_module": "jupyter-matplotlib",
      "model_module_version": "^0.8.3",
      "model_name": "MPLCanvasModel",
      "state": {
       "_cursor": "default",
       "_figure_label": "Figure 118",
       "_height": 500,
       "_width": 1500,
       "layout": "IPY_MODEL_de4cbe17b8154c0e94b1075fc7e55e19",
       "toolbar": "IPY_MODEL_75af168488a44c5aa8df324838e5394f",
       "toolbar_position": "left"
      }
     },
     "a5e3141662cb474bb06865450c62a552": {
      "model_module": "@jupyter-widgets/base",
      "model_module_version": "1.2.0",
      "model_name": "LayoutModel",
      "state": {}
     },
     "a60adf0e008743a98e19dc809d59c5b8": {
      "model_module": "jupyter-matplotlib",
      "model_module_version": "^0.8.3",
      "model_name": "MPLCanvasModel",
      "state": {
       "_cursor": "default",
       "_figure_label": "Figure 94",
       "_height": 1000,
       "_width": 1500,
       "layout": "IPY_MODEL_b45fe8e039e143ddb4ecfb927fc36800",
       "toolbar": "IPY_MODEL_8dfb9428888641ebb8dd649078ba20a2",
       "toolbar_position": "left"
      }
     },
     "a69122259c88432c83888dad1ee46692": {
      "model_module": "jupyter-matplotlib",
      "model_module_version": "^0.8.3",
      "model_name": "ToolbarModel",
      "state": {
       "layout": "IPY_MODEL_4d2a62c9c70b457c861998b5c5b456be",
       "toolitems": [
        [
         "Home",
         "Reset original view",
         "home",
         "home"
        ],
        [
         "Back",
         "Back to previous view",
         "arrow-left",
         "back"
        ],
        [
         "Forward",
         "Forward to next view",
         "arrow-right",
         "forward"
        ],
        [
         "Pan",
         "Left button pans, Right button zooms\nx/y fixes axis, CTRL fixes aspect",
         "arrows",
         "pan"
        ],
        [
         "Zoom",
         "Zoom to rectangle\nx/y fixes axis, CTRL fixes aspect",
         "square-o",
         "zoom"
        ],
        [
         "Download",
         "Download plot",
         "floppy-o",
         "save_figure"
        ]
       ]
      }
     },
     "a77c66a3cd744fd687669eea3cd65e36": {
      "model_module": "@jupyter-widgets/base",
      "model_module_version": "1.2.0",
      "model_name": "LayoutModel",
      "state": {}
     },
     "a8c6ba1c1bbb43408355b7995dd178c7": {
      "model_module": "@jupyter-widgets/base",
      "model_module_version": "1.2.0",
      "model_name": "LayoutModel",
      "state": {}
     },
     "a91061ae95bb4144a9ecbe45b032f32f": {
      "model_module": "@jupyter-widgets/base",
      "model_module_version": "1.2.0",
      "model_name": "LayoutModel",
      "state": {}
     },
     "aa3021c03a214cbf8fb1b2cd5f82428d": {
      "model_module": "jupyter-matplotlib",
      "model_module_version": "^0.8.3",
      "model_name": "MPLCanvasModel",
      "state": {
       "_cursor": "default",
       "_figure_label": "Figure 64",
       "_height": 1000,
       "_image_mode": "diff",
       "_width": 1200,
       "layout": "IPY_MODEL_2fee4e29e89b496f9b86aedb23be8787",
       "toolbar": "IPY_MODEL_9fe42c4a5bc849929d69c3d82e2aea25",
       "toolbar_position": "left"
      }
     },
     "aa663b7d35cb4dfc9358de371b07ede3": {
      "model_module": "@jupyter-widgets/base",
      "model_module_version": "1.2.0",
      "model_name": "LayoutModel",
      "state": {}
     },
     "aa8d01dc2c734683b3edbe4f1fb74f12": {
      "model_module": "@jupyter-widgets/base",
      "model_module_version": "1.2.0",
      "model_name": "LayoutModel",
      "state": {}
     },
     "abcd4689f2694962a66955efd17647f2": {
      "model_module": "jupyter-matplotlib",
      "model_module_version": "^0.8.3",
      "model_name": "ToolbarModel",
      "state": {
       "layout": "IPY_MODEL_6a3b684e804340dab6be37c93a22aefc",
       "toolitems": [
        [
         "Home",
         "Reset original view",
         "home",
         "home"
        ],
        [
         "Back",
         "Back to previous view",
         "arrow-left",
         "back"
        ],
        [
         "Forward",
         "Forward to next view",
         "arrow-right",
         "forward"
        ],
        [
         "Pan",
         "Left button pans, Right button zooms\nx/y fixes axis, CTRL fixes aspect",
         "arrows",
         "pan"
        ],
        [
         "Zoom",
         "Zoom to rectangle\nx/y fixes axis, CTRL fixes aspect",
         "square-o",
         "zoom"
        ],
        [
         "Download",
         "Download plot",
         "floppy-o",
         "save_figure"
        ]
       ]
      }
     },
     "ac3f65f2853d4e478ae6ce064253d957": {
      "model_module": "jupyter-matplotlib",
      "model_module_version": "^0.8.3",
      "model_name": "ToolbarModel",
      "state": {
       "layout": "IPY_MODEL_a8c6ba1c1bbb43408355b7995dd178c7",
       "toolitems": [
        [
         "Home",
         "Reset original view",
         "home",
         "home"
        ],
        [
         "Back",
         "Back to previous view",
         "arrow-left",
         "back"
        ],
        [
         "Forward",
         "Forward to next view",
         "arrow-right",
         "forward"
        ],
        [
         "Pan",
         "Left button pans, Right button zooms\nx/y fixes axis, CTRL fixes aspect",
         "arrows",
         "pan"
        ],
        [
         "Zoom",
         "Zoom to rectangle\nx/y fixes axis, CTRL fixes aspect",
         "square-o",
         "zoom"
        ],
        [
         "Download",
         "Download plot",
         "floppy-o",
         "save_figure"
        ]
       ]
      }
     },
     "ace316137cfa4042be1879af7aeb1503": {
      "model_module": "jupyter-matplotlib",
      "model_module_version": "^0.8.3",
      "model_name": "MPLCanvasModel",
      "state": {
       "_cursor": "default",
       "_figure_label": "Figure 124",
       "_height": 500,
       "_width": 1500,
       "layout": "IPY_MODEL_41d7aba3ebf8483c89241ca961b22fc1",
       "toolbar": "IPY_MODEL_b4c8a552471e414b85e6f711b0cdf6c3",
       "toolbar_position": "left"
      }
     },
     "aceccb7db39e42cbafcebc33be14b84e": {
      "model_module": "@jupyter-widgets/base",
      "model_module_version": "1.2.0",
      "model_name": "LayoutModel",
      "state": {}
     },
     "ad284cb944824b34aef7b40af552d015": {
      "model_module": "jupyter-matplotlib",
      "model_module_version": "^0.8.3",
      "model_name": "MPLCanvasModel",
      "state": {
       "_cursor": "default",
       "_figure_label": "Figure 39",
       "_height": 1000,
       "_image_mode": "diff",
       "_width": 1500,
       "layout": "IPY_MODEL_031c2dbb9f764f13b79e410fbab17da1",
       "toolbar": "IPY_MODEL_bab7c0340b16477c91c468a30a39f1c1",
       "toolbar_position": "left"
      }
     },
     "adb9cf28b4264d9faaa442b3df40c3cc": {
      "model_module": "jupyter-matplotlib",
      "model_module_version": "^0.8.3",
      "model_name": "MPLCanvasModel",
      "state": {
       "_cursor": "default",
       "_figure_label": "Figure 46",
       "_height": 500,
       "_width": 1000,
       "layout": "IPY_MODEL_738e90656a0b4f88b2355e25ab3a5f40",
       "toolbar": "IPY_MODEL_d1d096bc1d93429baaf56cdeb7330a97",
       "toolbar_position": "left"
      }
     },
     "adbd2679bdbc436d941cbcb016707ed9": {
      "model_module": "@jupyter-widgets/base",
      "model_module_version": "1.2.0",
      "model_name": "LayoutModel",
      "state": {}
     },
     "adec5baccc20411c8183e36e8d7d8ab3": {
      "model_module": "jupyter-matplotlib",
      "model_module_version": "^0.8.3",
      "model_name": "ToolbarModel",
      "state": {
       "layout": "IPY_MODEL_3c6b4553f64d4cf18cb17a09d961bea9",
       "toolitems": [
        [
         "Home",
         "Reset original view",
         "home",
         "home"
        ],
        [
         "Back",
         "Back to previous view",
         "arrow-left",
         "back"
        ],
        [
         "Forward",
         "Forward to next view",
         "arrow-right",
         "forward"
        ],
        [
         "Pan",
         "Left button pans, Right button zooms\nx/y fixes axis, CTRL fixes aspect",
         "arrows",
         "pan"
        ],
        [
         "Zoom",
         "Zoom to rectangle\nx/y fixes axis, CTRL fixes aspect",
         "square-o",
         "zoom"
        ],
        [
         "Download",
         "Download plot",
         "floppy-o",
         "save_figure"
        ]
       ]
      }
     },
     "ae77681b07a44ac0aba2a70ee6d3ef1b": {
      "model_module": "jupyter-matplotlib",
      "model_module_version": "^0.8.3",
      "model_name": "ToolbarModel",
      "state": {
       "layout": "IPY_MODEL_3c755b1c42e3401b9de1bbe6be6218eb",
       "toolitems": [
        [
         "Home",
         "Reset original view",
         "home",
         "home"
        ],
        [
         "Back",
         "Back to previous view",
         "arrow-left",
         "back"
        ],
        [
         "Forward",
         "Forward to next view",
         "arrow-right",
         "forward"
        ],
        [
         "Pan",
         "Left button pans, Right button zooms\nx/y fixes axis, CTRL fixes aspect",
         "arrows",
         "pan"
        ],
        [
         "Zoom",
         "Zoom to rectangle\nx/y fixes axis, CTRL fixes aspect",
         "square-o",
         "zoom"
        ],
        [
         "Download",
         "Download plot",
         "floppy-o",
         "save_figure"
        ]
       ]
      }
     },
     "aebf9e923f7c478aabcb1838c9174334": {
      "model_module": "jupyter-matplotlib",
      "model_module_version": "^0.8.3",
      "model_name": "MPLCanvasModel",
      "state": {
       "_cursor": "default",
       "_figure_label": "Figure 19",
       "_height": 1500,
       "_width": 1700,
       "layout": "IPY_MODEL_d15453d8624f413197fb8c0f0a544ba4",
       "toolbar": "IPY_MODEL_4d2055e67b2e409784821e3ba1db25cf",
       "toolbar_position": "left"
      }
     },
     "af2976beecc14605967a45b2788f9187": {
      "model_module": "jupyter-matplotlib",
      "model_module_version": "^0.8.3",
      "model_name": "MPLCanvasModel",
      "state": {
       "_cursor": "default",
       "_figure_label": "Figure 44",
       "_height": 500,
       "_message": "x=29.0 y=67.1",
       "_width": 1000,
       "layout": "IPY_MODEL_c6e54f87eee3487294afa9b692c7e7b9",
       "toolbar": "IPY_MODEL_3ee67435e60a478dbdd50fde486d7e81",
       "toolbar_position": "left"
      }
     },
     "afb3596f9f0249d6ac43c3a903702eaa": {
      "model_module": "@jupyter-widgets/base",
      "model_module_version": "1.2.0",
      "model_name": "LayoutModel",
      "state": {}
     },
     "afd7cce8d9f34e68ae1569206dcb9b25": {
      "model_module": "jupyter-matplotlib",
      "model_module_version": "^0.8.3",
      "model_name": "ToolbarModel",
      "state": {
       "layout": "IPY_MODEL_ddcbdaa8e1e54c3495f15523b7dba9be",
       "toolitems": [
        [
         "Home",
         "Reset original view",
         "home",
         "home"
        ],
        [
         "Back",
         "Back to previous view",
         "arrow-left",
         "back"
        ],
        [
         "Forward",
         "Forward to next view",
         "arrow-right",
         "forward"
        ],
        [
         "Pan",
         "Left button pans, Right button zooms\nx/y fixes axis, CTRL fixes aspect",
         "arrows",
         "pan"
        ],
        [
         "Zoom",
         "Zoom to rectangle\nx/y fixes axis, CTRL fixes aspect",
         "square-o",
         "zoom"
        ],
        [
         "Download",
         "Download plot",
         "floppy-o",
         "save_figure"
        ]
       ]
      }
     },
     "b0639522ca9b4aa7b6c6ae4561b95dd5": {
      "model_module": "jupyter-matplotlib",
      "model_module_version": "^0.8.3",
      "model_name": "ToolbarModel",
      "state": {
       "layout": "IPY_MODEL_ddb2c29bd16e4aff97af258b8ae278c6",
       "toolitems": [
        [
         "Home",
         "Reset original view",
         "home",
         "home"
        ],
        [
         "Back",
         "Back to previous view",
         "arrow-left",
         "back"
        ],
        [
         "Forward",
         "Forward to next view",
         "arrow-right",
         "forward"
        ],
        [
         "Pan",
         "Left button pans, Right button zooms\nx/y fixes axis, CTRL fixes aspect",
         "arrows",
         "pan"
        ],
        [
         "Zoom",
         "Zoom to rectangle\nx/y fixes axis, CTRL fixes aspect",
         "square-o",
         "zoom"
        ],
        [
         "Download",
         "Download plot",
         "floppy-o",
         "save_figure"
        ]
       ]
      }
     },
     "b08e828b0d5d4e9b83eb8495167d31d8": {
      "model_module": "@jupyter-widgets/base",
      "model_module_version": "1.2.0",
      "model_name": "LayoutModel",
      "state": {}
     },
     "b0e90f933e394a54a8f992267fae6e1c": {
      "model_module": "jupyter-matplotlib",
      "model_module_version": "^0.8.3",
      "model_name": "MPLCanvasModel",
      "state": {
       "_cursor": "default",
       "_figure_label": "Figure 60",
       "_height": 1000,
       "_width": 1200,
       "layout": "IPY_MODEL_7ffb0e0c7ff14bc3a88d9b27dff4f17b",
       "toolbar": "IPY_MODEL_03472f54c3b64af595586044a44c87fb",
       "toolbar_position": "left"
      }
     },
     "b0eca495bbf7472bbe33221097a2b604": {
      "model_module": "@jupyter-widgets/base",
      "model_module_version": "1.2.0",
      "model_name": "LayoutModel",
      "state": {}
     },
     "b209e5902d74485a9381497c9fcbe5d0": {
      "model_module": "jupyter-matplotlib",
      "model_module_version": "^0.8.3",
      "model_name": "ToolbarModel",
      "state": {
       "layout": "IPY_MODEL_8c7f4d05a007415da9f18ecec56f80ac",
       "toolitems": [
        [
         "Home",
         "Reset original view",
         "home",
         "home"
        ],
        [
         "Back",
         "Back to previous view",
         "arrow-left",
         "back"
        ],
        [
         "Forward",
         "Forward to next view",
         "arrow-right",
         "forward"
        ],
        [
         "Pan",
         "Left button pans, Right button zooms\nx/y fixes axis, CTRL fixes aspect",
         "arrows",
         "pan"
        ],
        [
         "Zoom",
         "Zoom to rectangle\nx/y fixes axis, CTRL fixes aspect",
         "square-o",
         "zoom"
        ],
        [
         "Download",
         "Download plot",
         "floppy-o",
         "save_figure"
        ]
       ]
      }
     },
     "b231ba379cae457289eef2bb839e648c": {
      "model_module": "@jupyter-widgets/base",
      "model_module_version": "1.2.0",
      "model_name": "LayoutModel",
      "state": {}
     },
     "b34631e4074b4cb4a34d9addb9c9a022": {
      "model_module": "@jupyter-widgets/base",
      "model_module_version": "1.2.0",
      "model_name": "LayoutModel",
      "state": {}
     },
     "b45fe8e039e143ddb4ecfb927fc36800": {
      "model_module": "@jupyter-widgets/base",
      "model_module_version": "1.2.0",
      "model_name": "LayoutModel",
      "state": {}
     },
     "b4a2d9d9b37c45879dbe3f042dca6337": {
      "model_module": "@jupyter-widgets/base",
      "model_module_version": "1.2.0",
      "model_name": "LayoutModel",
      "state": {}
     },
     "b4c8a552471e414b85e6f711b0cdf6c3": {
      "model_module": "jupyter-matplotlib",
      "model_module_version": "^0.8.3",
      "model_name": "ToolbarModel",
      "state": {
       "layout": "IPY_MODEL_4a5e4a2deaba4ad1a05ed57b42cab0b6",
       "toolitems": [
        [
         "Home",
         "Reset original view",
         "home",
         "home"
        ],
        [
         "Back",
         "Back to previous view",
         "arrow-left",
         "back"
        ],
        [
         "Forward",
         "Forward to next view",
         "arrow-right",
         "forward"
        ],
        [
         "Pan",
         "Left button pans, Right button zooms\nx/y fixes axis, CTRL fixes aspect",
         "arrows",
         "pan"
        ],
        [
         "Zoom",
         "Zoom to rectangle\nx/y fixes axis, CTRL fixes aspect",
         "square-o",
         "zoom"
        ],
        [
         "Download",
         "Download plot",
         "floppy-o",
         "save_figure"
        ]
       ]
      }
     },
     "b4dd7da6ebcc4ad6ac7a9a123178ac07": {
      "model_module": "@jupyter-widgets/base",
      "model_module_version": "1.2.0",
      "model_name": "LayoutModel",
      "state": {}
     },
     "b5e36a8229c9452c8846ea3589dc5891": {
      "model_module": "jupyter-matplotlib",
      "model_module_version": "^0.8.3",
      "model_name": "MPLCanvasModel",
      "state": {
       "_cursor": "default",
       "_figure_label": "Figure 128",
       "_height": 500,
       "_message": "x=−124. y=4.58",
       "_width": 1500,
       "layout": "IPY_MODEL_3b25321d3c3245ee9f5aff531e70cd45",
       "toolbar": "IPY_MODEL_0a3ca1e4b64b41128b58bfb76731f306",
       "toolbar_position": "left"
      }
     },
     "b5f3cfbfe48c48259eaf280c8786d814": {
      "model_module": "jupyter-matplotlib",
      "model_module_version": "^0.8.3",
      "model_name": "MPLCanvasModel",
      "state": {
       "_cursor": "default",
       "_figure_label": "Figure 112",
       "_height": 1000,
       "_width": 1500,
       "layout": "IPY_MODEL_ddb6031470a24e52bcbd3954fe379d8c",
       "toolbar": "IPY_MODEL_dfe001347348414b9cfb514562015ed4",
       "toolbar_position": "left"
      }
     },
     "b61f076c5d3f4bfd96ba1b4d8962df0b": {
      "model_module": "@jupyter-widgets/base",
      "model_module_version": "1.2.0",
      "model_name": "LayoutModel",
      "state": {}
     },
     "b67cc511530c4ddca26fd6c8b38cdbc1": {
      "model_module": "jupyter-matplotlib",
      "model_module_version": "^0.8.3",
      "model_name": "MPLCanvasModel",
      "state": {
       "_cursor": "default",
       "_figure_label": "Figure 122",
       "_height": 500,
       "_width": 1500,
       "layout": "IPY_MODEL_4ac6de4d7bef4a61bdbd0cd1eba3fe2c",
       "toolbar": "IPY_MODEL_d7b1ebed45e24518aebaf81a87acaa67",
       "toolbar_position": "left"
      }
     },
     "b6b514ed51ca4f2da8516933aa8faf05": {
      "model_module": "jupyter-matplotlib",
      "model_module_version": "^0.8.3",
      "model_name": "ToolbarModel",
      "state": {
       "layout": "IPY_MODEL_7a2cf26db2a4478ea0101d9879bcade9",
       "toolitems": [
        [
         "Home",
         "Reset original view",
         "home",
         "home"
        ],
        [
         "Back",
         "Back to previous view",
         "arrow-left",
         "back"
        ],
        [
         "Forward",
         "Forward to next view",
         "arrow-right",
         "forward"
        ],
        [
         "Pan",
         "Left button pans, Right button zooms\nx/y fixes axis, CTRL fixes aspect",
         "arrows",
         "pan"
        ],
        [
         "Zoom",
         "Zoom to rectangle\nx/y fixes axis, CTRL fixes aspect",
         "square-o",
         "zoom"
        ],
        [
         "Download",
         "Download plot",
         "floppy-o",
         "save_figure"
        ]
       ]
      }
     },
     "b7591f9b03204fd59d2a1c7bb2d0ec0b": {
      "model_module": "jupyter-matplotlib",
      "model_module_version": "^0.8.3",
      "model_name": "MPLCanvasModel",
      "state": {
       "_cursor": "default",
       "_figure_label": "Figure 14",
       "_height": 2500,
       "_width": 1500,
       "layout": "IPY_MODEL_f47986069d594d248a519210d0313b77",
       "toolbar": "IPY_MODEL_1bd70565b57045ab9199e81e4774cbdb",
       "toolbar_position": "left"
      }
     },
     "b7c06e45675f467893b9e468d50fe405": {
      "model_module": "jupyter-matplotlib",
      "model_module_version": "^0.8.3",
      "model_name": "MPLCanvasModel",
      "state": {
       "_cursor": "default",
       "_figure_label": "Figure 59",
       "_height": 1000,
       "_width": 1200,
       "layout": "IPY_MODEL_a372d744cd1b4a04acaa70078a3997b2",
       "toolbar": "IPY_MODEL_1b22a5fbc28049b09e385d833f4e0cc9",
       "toolbar_position": "left"
      }
     },
     "b8dc4aa9521d44a6b42021b52b70df97": {
      "model_module": "@jupyter-widgets/base",
      "model_module_version": "1.2.0",
      "model_name": "LayoutModel",
      "state": {}
     },
     "b936c6136d9b43f29532c3bd7ddebcd6": {
      "model_module": "jupyter-matplotlib",
      "model_module_version": "^0.8.3",
      "model_name": "ToolbarModel",
      "state": {
       "layout": "IPY_MODEL_3e693543216249038fe6eb42d32de8d5",
       "toolitems": [
        [
         "Home",
         "Reset original view",
         "home",
         "home"
        ],
        [
         "Back",
         "Back to previous view",
         "arrow-left",
         "back"
        ],
        [
         "Forward",
         "Forward to next view",
         "arrow-right",
         "forward"
        ],
        [
         "Pan",
         "Left button pans, Right button zooms\nx/y fixes axis, CTRL fixes aspect",
         "arrows",
         "pan"
        ],
        [
         "Zoom",
         "Zoom to rectangle\nx/y fixes axis, CTRL fixes aspect",
         "square-o",
         "zoom"
        ],
        [
         "Download",
         "Download plot",
         "floppy-o",
         "save_figure"
        ]
       ]
      }
     },
     "b95951deb7ee409eafdbe274b5c5b9e4": {
      "model_module": "jupyter-matplotlib",
      "model_module_version": "^0.8.3",
      "model_name": "ToolbarModel",
      "state": {
       "layout": "IPY_MODEL_3e1224227c094f818c2f943d817c83a4",
       "toolitems": [
        [
         "Home",
         "Reset original view",
         "home",
         "home"
        ],
        [
         "Back",
         "Back to previous view",
         "arrow-left",
         "back"
        ],
        [
         "Forward",
         "Forward to next view",
         "arrow-right",
         "forward"
        ],
        [
         "Pan",
         "Left button pans, Right button zooms\nx/y fixes axis, CTRL fixes aspect",
         "arrows",
         "pan"
        ],
        [
         "Zoom",
         "Zoom to rectangle\nx/y fixes axis, CTRL fixes aspect",
         "square-o",
         "zoom"
        ],
        [
         "Download",
         "Download plot",
         "floppy-o",
         "save_figure"
        ]
       ]
      }
     },
     "ba5ba5c758674e5784248155f801a619": {
      "model_module": "jupyter-matplotlib",
      "model_module_version": "^0.8.3",
      "model_name": "ToolbarModel",
      "state": {
       "layout": "IPY_MODEL_a5709deb9ec940fcabfd136424ee7389",
       "toolitems": [
        [
         "Home",
         "Reset original view",
         "home",
         "home"
        ],
        [
         "Back",
         "Back to previous view",
         "arrow-left",
         "back"
        ],
        [
         "Forward",
         "Forward to next view",
         "arrow-right",
         "forward"
        ],
        [
         "Pan",
         "Left button pans, Right button zooms\nx/y fixes axis, CTRL fixes aspect",
         "arrows",
         "pan"
        ],
        [
         "Zoom",
         "Zoom to rectangle\nx/y fixes axis, CTRL fixes aspect",
         "square-o",
         "zoom"
        ],
        [
         "Download",
         "Download plot",
         "floppy-o",
         "save_figure"
        ]
       ]
      }
     },
     "bab7c0340b16477c91c468a30a39f1c1": {
      "model_module": "jupyter-matplotlib",
      "model_module_version": "^0.8.3",
      "model_name": "ToolbarModel",
      "state": {
       "layout": "IPY_MODEL_e000596cd2774b919c48a46738e41056",
       "toolitems": [
        [
         "Home",
         "Reset original view",
         "home",
         "home"
        ],
        [
         "Back",
         "Back to previous view",
         "arrow-left",
         "back"
        ],
        [
         "Forward",
         "Forward to next view",
         "arrow-right",
         "forward"
        ],
        [
         "Pan",
         "Left button pans, Right button zooms\nx/y fixes axis, CTRL fixes aspect",
         "arrows",
         "pan"
        ],
        [
         "Zoom",
         "Zoom to rectangle\nx/y fixes axis, CTRL fixes aspect",
         "square-o",
         "zoom"
        ],
        [
         "Download",
         "Download plot",
         "floppy-o",
         "save_figure"
        ]
       ]
      }
     },
     "bc0a74354bae4cfe8081912eef23c08d": {
      "model_module": "jupyter-matplotlib",
      "model_module_version": "^0.8.3",
      "model_name": "MPLCanvasModel",
      "state": {
       "_cursor": "default",
       "_figure_label": "Figure 84",
       "_height": 600,
       "_image_mode": "diff",
       "_width": 1200,
       "layout": "IPY_MODEL_912c977335754654bef3c737bca0c04b",
       "toolbar": "IPY_MODEL_49a890bc870041968b9463c7039bf5e0",
       "toolbar_position": "left"
      }
     },
     "bc230ba09f2c43219084ee3c7c24302e": {
      "model_module": "@jupyter-widgets/base",
      "model_module_version": "1.2.0",
      "model_name": "LayoutModel",
      "state": {}
     },
     "bc872e4445744bd48f4fd85bdddf3ab6": {
      "model_module": "@jupyter-widgets/base",
      "model_module_version": "1.2.0",
      "model_name": "LayoutModel",
      "state": {}
     },
     "bccab395fbe646999bbb6e74156e2cb3": {
      "model_module": "@jupyter-widgets/base",
      "model_module_version": "1.2.0",
      "model_name": "LayoutModel",
      "state": {}
     },
     "bd10c80f21484864be8dd3845336b00c": {
      "model_module": "jupyter-matplotlib",
      "model_module_version": "^0.8.3",
      "model_name": "MPLCanvasModel",
      "state": {
       "_cursor": "default",
       "_figure_label": "Figure 53",
       "_height": 500,
       "_width": 1000,
       "layout": "IPY_MODEL_e8b6137832bf447b8d8ae87ab52be626",
       "toolbar": "IPY_MODEL_e11d6ebdfd4e41efb9f958618c33eeca",
       "toolbar_position": "left"
      }
     },
     "bd87a228b5654bd8a617beeaca536e0f": {
      "model_module": "jupyter-matplotlib",
      "model_module_version": "^0.8.3",
      "model_name": "ToolbarModel",
      "state": {
       "layout": "IPY_MODEL_8158c88bf3ea47f3bb3d016c03a96fa1",
       "toolitems": [
        [
         "Home",
         "Reset original view",
         "home",
         "home"
        ],
        [
         "Back",
         "Back to previous view",
         "arrow-left",
         "back"
        ],
        [
         "Forward",
         "Forward to next view",
         "arrow-right",
         "forward"
        ],
        [
         "Pan",
         "Left button pans, Right button zooms\nx/y fixes axis, CTRL fixes aspect",
         "arrows",
         "pan"
        ],
        [
         "Zoom",
         "Zoom to rectangle\nx/y fixes axis, CTRL fixes aspect",
         "square-o",
         "zoom"
        ],
        [
         "Download",
         "Download plot",
         "floppy-o",
         "save_figure"
        ]
       ]
      }
     },
     "be1a9a4414764a39afeaef61ddbbeff5": {
      "model_module": "jupyter-matplotlib",
      "model_module_version": "^0.8.3",
      "model_name": "MPLCanvasModel",
      "state": {
       "_cursor": "default",
       "_figure_label": "Figure 26",
       "_height": 1500,
       "_width": 1700,
       "layout": "IPY_MODEL_0aa3c69d18e74bd5a4bf4db5ee0129b0",
       "toolbar": "IPY_MODEL_49d1929009734bdca6dabb13f1d086ac",
       "toolbar_position": "left"
      }
     },
     "becebe71375c4e5dbb596ef4fe7f6709": {
      "model_module": "@jupyter-widgets/base",
      "model_module_version": "1.2.0",
      "model_name": "LayoutModel",
      "state": {}
     },
     "bf1d9860351c43a190039c09f6f6fc8b": {
      "model_module": "@jupyter-widgets/base",
      "model_module_version": "1.2.0",
      "model_name": "LayoutModel",
      "state": {}
     },
     "c0fb697108004fbdae672f92504e7952": {
      "model_module": "@jupyter-widgets/base",
      "model_module_version": "1.2.0",
      "model_name": "LayoutModel",
      "state": {}
     },
     "c159baa48fac41549d7f05a6be35fc5e": {
      "model_module": "@jupyter-widgets/base",
      "model_module_version": "1.2.0",
      "model_name": "LayoutModel",
      "state": {}
     },
     "c16993f2f4c2447199fe2ece5ad600b2": {
      "model_module": "jupyter-matplotlib",
      "model_module_version": "^0.8.3",
      "model_name": "ToolbarModel",
      "state": {
       "layout": "IPY_MODEL_aceccb7db39e42cbafcebc33be14b84e",
       "toolitems": [
        [
         "Home",
         "Reset original view",
         "home",
         "home"
        ],
        [
         "Back",
         "Back to previous view",
         "arrow-left",
         "back"
        ],
        [
         "Forward",
         "Forward to next view",
         "arrow-right",
         "forward"
        ],
        [
         "Pan",
         "Left button pans, Right button zooms\nx/y fixes axis, CTRL fixes aspect",
         "arrows",
         "pan"
        ],
        [
         "Zoom",
         "Zoom to rectangle\nx/y fixes axis, CTRL fixes aspect",
         "square-o",
         "zoom"
        ],
        [
         "Download",
         "Download plot",
         "floppy-o",
         "save_figure"
        ]
       ]
      }
     },
     "c1cc74e0d20f4695b6bd20a610dcb1de": {
      "model_module": "jupyter-matplotlib",
      "model_module_version": "^0.8.3",
      "model_name": "ToolbarModel",
      "state": {
       "layout": "IPY_MODEL_6fa228899efa464984b8bf17e58a4cc5",
       "toolitems": [
        [
         "Home",
         "Reset original view",
         "home",
         "home"
        ],
        [
         "Back",
         "Back to previous view",
         "arrow-left",
         "back"
        ],
        [
         "Forward",
         "Forward to next view",
         "arrow-right",
         "forward"
        ],
        [
         "Pan",
         "Left button pans, Right button zooms\nx/y fixes axis, CTRL fixes aspect",
         "arrows",
         "pan"
        ],
        [
         "Zoom",
         "Zoom to rectangle\nx/y fixes axis, CTRL fixes aspect",
         "square-o",
         "zoom"
        ],
        [
         "Download",
         "Download plot",
         "floppy-o",
         "save_figure"
        ]
       ]
      }
     },
     "c264b697bc284d9abcd644b335df10d0": {
      "model_module": "@jupyter-widgets/base",
      "model_module_version": "1.2.0",
      "model_name": "LayoutModel",
      "state": {}
     },
     "c2770fb69d3549a0a266143beffc6c7f": {
      "model_module": "@jupyter-widgets/base",
      "model_module_version": "1.2.0",
      "model_name": "LayoutModel",
      "state": {}
     },
     "c29fcc617d474eea9d6da726b807869b": {
      "model_module": "@jupyter-widgets/base",
      "model_module_version": "1.2.0",
      "model_name": "LayoutModel",
      "state": {}
     },
     "c3658bfdfd004a6a8e17b7f73981344d": {
      "model_module": "@jupyter-widgets/base",
      "model_module_version": "1.2.0",
      "model_name": "LayoutModel",
      "state": {}
     },
     "c36e2dbe71fc42e2855ceb906ef59fa1": {
      "model_module": "jupyter-matplotlib",
      "model_module_version": "^0.8.3",
      "model_name": "MPLCanvasModel",
      "state": {
       "_cursor": "default",
       "_figure_label": "Figure 22",
       "_height": 1500,
       "_width": 1700,
       "layout": "IPY_MODEL_aa8d01dc2c734683b3edbe4f1fb74f12",
       "toolbar": "IPY_MODEL_d9f4299dd12341e6ad0debd5f5816bb8",
       "toolbar_position": "left"
      }
     },
     "c37a0d7ac9f544189e4cdbbed796f0a1": {
      "model_module": "jupyter-matplotlib",
      "model_module_version": "^0.8.3",
      "model_name": "MPLCanvasModel",
      "state": {
       "_cursor": "default",
       "_figure_label": "Figure 80",
       "_height": 500,
       "_message": "x=129.0 y=6.91",
       "_width": 1300,
       "layout": "IPY_MODEL_4f6496b0b8d34f18983efa7a505d2992",
       "toolbar": "IPY_MODEL_4e5066da42cb43799f0f1062c1a88c73",
       "toolbar_position": "left"
      }
     },
     "c38fce364eeb4e88a92631ecb36e00cf": {
      "model_module": "jupyter-matplotlib",
      "model_module_version": "^0.8.3",
      "model_name": "ToolbarModel",
      "state": {
       "layout": "IPY_MODEL_4ca0b9aa714e43d0955c901695d7c0bf",
       "toolitems": [
        [
         "Home",
         "Reset original view",
         "home",
         "home"
        ],
        [
         "Back",
         "Back to previous view",
         "arrow-left",
         "back"
        ],
        [
         "Forward",
         "Forward to next view",
         "arrow-right",
         "forward"
        ],
        [
         "Pan",
         "Left button pans, Right button zooms\nx/y fixes axis, CTRL fixes aspect",
         "arrows",
         "pan"
        ],
        [
         "Zoom",
         "Zoom to rectangle\nx/y fixes axis, CTRL fixes aspect",
         "square-o",
         "zoom"
        ],
        [
         "Download",
         "Download plot",
         "floppy-o",
         "save_figure"
        ]
       ]
      }
     },
     "c43e41e9f95b444180097d4c81790865": {
      "model_module": "jupyter-matplotlib",
      "model_module_version": "^0.8.3",
      "model_name": "ToolbarModel",
      "state": {
       "layout": "IPY_MODEL_1cced96f47414b368fc52da856f70882",
       "toolitems": [
        [
         "Home",
         "Reset original view",
         "home",
         "home"
        ],
        [
         "Back",
         "Back to previous view",
         "arrow-left",
         "back"
        ],
        [
         "Forward",
         "Forward to next view",
         "arrow-right",
         "forward"
        ],
        [
         "Pan",
         "Left button pans, Right button zooms\nx/y fixes axis, CTRL fixes aspect",
         "arrows",
         "pan"
        ],
        [
         "Zoom",
         "Zoom to rectangle\nx/y fixes axis, CTRL fixes aspect",
         "square-o",
         "zoom"
        ],
        [
         "Download",
         "Download plot",
         "floppy-o",
         "save_figure"
        ]
       ]
      }
     },
     "c443d1a517114c60ac3e1b9819b1aa33": {
      "model_module": "@jupyter-widgets/base",
      "model_module_version": "1.2.0",
      "model_name": "LayoutModel",
      "state": {}
     },
     "c5dc6f07064145fcad4537f8d615f802": {
      "model_module": "jupyter-matplotlib",
      "model_module_version": "^0.8.3",
      "model_name": "ToolbarModel",
      "state": {
       "layout": "IPY_MODEL_7624a716542048459b4e871842df7189",
       "toolitems": [
        [
         "Home",
         "Reset original view",
         "home",
         "home"
        ],
        [
         "Back",
         "Back to previous view",
         "arrow-left",
         "back"
        ],
        [
         "Forward",
         "Forward to next view",
         "arrow-right",
         "forward"
        ],
        [
         "Pan",
         "Left button pans, Right button zooms\nx/y fixes axis, CTRL fixes aspect",
         "arrows",
         "pan"
        ],
        [
         "Zoom",
         "Zoom to rectangle\nx/y fixes axis, CTRL fixes aspect",
         "square-o",
         "zoom"
        ],
        [
         "Download",
         "Download plot",
         "floppy-o",
         "save_figure"
        ]
       ]
      }
     },
     "c618ba5558c44906a60d5af4cbc3da83": {
      "model_module": "jupyter-matplotlib",
      "model_module_version": "^0.8.3",
      "model_name": "MPLCanvasModel",
      "state": {
       "_cursor": "default",
       "_figure_label": "Figure 6",
       "_height": 1000,
       "_image_mode": "diff",
       "_width": 1500,
       "layout": "IPY_MODEL_07e6a6a8fe164eff8fd34857a075cc90",
       "toolbar": "IPY_MODEL_122b07438be24cccb91b6acb2a48131b",
       "toolbar_position": "left"
      }
     },
     "c696d9dc702d4f68b325dd63a607daa2": {
      "model_module": "@jupyter-widgets/base",
      "model_module_version": "1.2.0",
      "model_name": "LayoutModel",
      "state": {}
     },
     "c6b1c37b6f9d45778652c1df978fe925": {
      "model_module": "jupyter-matplotlib",
      "model_module_version": "^0.8.3",
      "model_name": "MPLCanvasModel",
      "state": {
       "_cursor": "default",
       "_figure_label": "Figure 75",
       "_height": 600,
       "_image_mode": "diff",
       "_width": 1200,
       "layout": "IPY_MODEL_06a3611821e741d3a4c39d3536b6f357",
       "toolbar": "IPY_MODEL_b0639522ca9b4aa7b6c6ae4561b95dd5",
       "toolbar_position": "left"
      }
     },
     "c6d702ef72cd4d3e8a1de10afd48e540": {
      "model_module": "@jupyter-widgets/base",
      "model_module_version": "1.2.0",
      "model_name": "LayoutModel",
      "state": {}
     },
     "c6e54f87eee3487294afa9b692c7e7b9": {
      "model_module": "@jupyter-widgets/base",
      "model_module_version": "1.2.0",
      "model_name": "LayoutModel",
      "state": {}
     },
     "c6eaff882bc64ba8855c819137b66869": {
      "model_module": "jupyter-matplotlib",
      "model_module_version": "^0.8.3",
      "model_name": "ToolbarModel",
      "state": {
       "layout": "IPY_MODEL_0c9e45dc730140f0a189fbe1826c7435",
       "toolitems": [
        [
         "Home",
         "Reset original view",
         "home",
         "home"
        ],
        [
         "Back",
         "Back to previous view",
         "arrow-left",
         "back"
        ],
        [
         "Forward",
         "Forward to next view",
         "arrow-right",
         "forward"
        ],
        [
         "Pan",
         "Left button pans, Right button zooms\nx/y fixes axis, CTRL fixes aspect",
         "arrows",
         "pan"
        ],
        [
         "Zoom",
         "Zoom to rectangle\nx/y fixes axis, CTRL fixes aspect",
         "square-o",
         "zoom"
        ],
        [
         "Download",
         "Download plot",
         "floppy-o",
         "save_figure"
        ]
       ]
      }
     },
     "c7564a77eb5d490e8d7581b5e071cf61": {
      "model_module": "jupyter-matplotlib",
      "model_module_version": "^0.8.3",
      "model_name": "MPLCanvasModel",
      "state": {
       "_cursor": "default",
       "_figure_label": "Figure 70",
       "_height": 1000,
       "_width": 1200,
       "layout": "IPY_MODEL_f060d76733be4c1c9381d2fba33e6a6f",
       "toolbar": "IPY_MODEL_a69122259c88432c83888dad1ee46692",
       "toolbar_position": "left"
      }
     },
     "c81765dbe1e94696a65a01509c8acd39": {
      "model_module": "jupyter-matplotlib",
      "model_module_version": "^0.8.3",
      "model_name": "MPLCanvasModel",
      "state": {
       "_cursor": "default",
       "_figure_label": "Figure 52",
       "_height": 500,
       "_width": 1000,
       "layout": "IPY_MODEL_1f965a7361804e4d9f465ab6baf7d137",
       "toolbar": "IPY_MODEL_5acb95d6bcef4f90832f70fd4a3e7590",
       "toolbar_position": "left"
      }
     },
     "c89fa5adcf0d4090a3fded9b6d3d5f6f": {
      "model_module": "jupyter-matplotlib",
      "model_module_version": "^0.8.3",
      "model_name": "MPLCanvasModel",
      "state": {
       "_cursor": "default",
       "_figure_label": "Figure 79",
       "_height": 500,
       "_width": 1000,
       "layout": "IPY_MODEL_560c01a79c7a4b108d1e10b0c13c3ae7",
       "toolbar": "IPY_MODEL_f31b2f234a094e98bddb36a82ae1666e",
       "toolbar_position": "left"
      }
     },
     "c95ce000623b42c49d659d128a5bb584": {
      "model_module": "@jupyter-widgets/base",
      "model_module_version": "1.2.0",
      "model_name": "LayoutModel",
      "state": {}
     },
     "c9f0da3d3e6542738530106f18d9fc5d": {
      "model_module": "jupyter-matplotlib",
      "model_module_version": "^0.8.3",
      "model_name": "MPLCanvasModel",
      "state": {
       "_cursor": "default",
       "_figure_label": "Figure 1",
       "_height": 1000,
       "_width": 1500,
       "layout": "IPY_MODEL_2b6245f25d344e2695aa80b725dd7d19",
       "toolbar": "IPY_MODEL_67d8d65ec6f44d1f91ebc2f72ee41f5d",
       "toolbar_position": "left"
      }
     },
     "ca51ef74bcc64b189f72ff42fe14bb06": {
      "model_module": "@jupyter-widgets/base",
      "model_module_version": "1.2.0",
      "model_name": "LayoutModel",
      "state": {}
     },
     "ca8a664f982d45088e8adafb8745b451": {
      "model_module": "@jupyter-widgets/base",
      "model_module_version": "1.2.0",
      "model_name": "LayoutModel",
      "state": {}
     },
     "cab45c44a07f4e2fbd190338477a8b61": {
      "model_module": "@jupyter-widgets/base",
      "model_module_version": "1.2.0",
      "model_name": "LayoutModel",
      "state": {}
     },
     "cb6759fe8f544a3eae47b33ffb962b9e": {
      "model_module": "jupyter-matplotlib",
      "model_module_version": "^0.8.3",
      "model_name": "ToolbarModel",
      "state": {
       "layout": "IPY_MODEL_02e433f7ee38413ba5925ba858cd7ed5",
       "toolitems": [
        [
         "Home",
         "Reset original view",
         "home",
         "home"
        ],
        [
         "Back",
         "Back to previous view",
         "arrow-left",
         "back"
        ],
        [
         "Forward",
         "Forward to next view",
         "arrow-right",
         "forward"
        ],
        [
         "Pan",
         "Left button pans, Right button zooms\nx/y fixes axis, CTRL fixes aspect",
         "arrows",
         "pan"
        ],
        [
         "Zoom",
         "Zoom to rectangle\nx/y fixes axis, CTRL fixes aspect",
         "square-o",
         "zoom"
        ],
        [
         "Download",
         "Download plot",
         "floppy-o",
         "save_figure"
        ]
       ]
      }
     },
     "cb67ea4b62c04462a609b593e236ea07": {
      "model_module": "jupyter-matplotlib",
      "model_module_version": "^0.8.3",
      "model_name": "MPLCanvasModel",
      "state": {
       "_cursor": "default",
       "_figure_label": "Figure 2",
       "_height": 1000,
       "_width": 1500,
       "layout": "IPY_MODEL_856860bdb3834491b07a8d9be01bed3c",
       "toolbar": "IPY_MODEL_461f56c11a324a61b5412f70d975c2c5",
       "toolbar_position": "left"
      }
     },
     "cc58de3d972b4f699703f5876d626fe2": {
      "model_module": "@jupyter-widgets/base",
      "model_module_version": "1.2.0",
      "model_name": "LayoutModel",
      "state": {}
     },
     "cd28388fb34f4eec88e4ff4d11256231": {
      "model_module": "@jupyter-widgets/base",
      "model_module_version": "1.2.0",
      "model_name": "LayoutModel",
      "state": {}
     },
     "cd4c314d2c21451fb58f8e8dd0b97409": {
      "model_module": "jupyter-matplotlib",
      "model_module_version": "^0.8.3",
      "model_name": "MPLCanvasModel",
      "state": {
       "_cursor": "default",
       "_figure_label": "Figure 78",
       "_height": 500,
       "_width": 1000,
       "layout": "IPY_MODEL_5f597e6f72d24319a81bc7ac556db143",
       "toolbar": "IPY_MODEL_70fbe2e5b4a7402a9e8d747b9dc817ec",
       "toolbar_position": "left"
      }
     },
     "cd5d9c16abda4e9393a1b2a814c5b20b": {
      "model_module": "jupyter-matplotlib",
      "model_module_version": "^0.8.3",
      "model_name": "ToolbarModel",
      "state": {
       "layout": "IPY_MODEL_aa663b7d35cb4dfc9358de371b07ede3",
       "toolitems": [
        [
         "Home",
         "Reset original view",
         "home",
         "home"
        ],
        [
         "Back",
         "Back to previous view",
         "arrow-left",
         "back"
        ],
        [
         "Forward",
         "Forward to next view",
         "arrow-right",
         "forward"
        ],
        [
         "Pan",
         "Left button pans, Right button zooms\nx/y fixes axis, CTRL fixes aspect",
         "arrows",
         "pan"
        ],
        [
         "Zoom",
         "Zoom to rectangle\nx/y fixes axis, CTRL fixes aspect",
         "square-o",
         "zoom"
        ],
        [
         "Download",
         "Download plot",
         "floppy-o",
         "save_figure"
        ]
       ]
      }
     },
     "ce46c5848cd64757acbb5e3bcb63ec04": {
      "model_module": "@jupyter-widgets/base",
      "model_module_version": "1.2.0",
      "model_name": "LayoutModel",
      "state": {}
     },
     "cedd2bdc348347eb9204409de4c220c1": {
      "model_module": "jupyter-matplotlib",
      "model_module_version": "^0.8.3",
      "model_name": "MPLCanvasModel",
      "state": {
       "_cursor": "default",
       "_figure_label": "Figure 127",
       "_height": 500,
       "_width": 1500,
       "layout": "IPY_MODEL_8fa57a1d6b054986b2c379cdc3d1c0b6",
       "toolbar": "IPY_MODEL_e0dbf94393c0493c96a07d5837997c98",
       "toolbar_position": "left"
      }
     },
     "cf21219f99b149b4adb1ead066a97995": {
      "model_module": "jupyter-matplotlib",
      "model_module_version": "^0.8.3",
      "model_name": "ToolbarModel",
      "state": {
       "layout": "IPY_MODEL_d5a0bb63cd40474fb29862a396ce19a8",
       "toolitems": [
        [
         "Home",
         "Reset original view",
         "home",
         "home"
        ],
        [
         "Back",
         "Back to previous view",
         "arrow-left",
         "back"
        ],
        [
         "Forward",
         "Forward to next view",
         "arrow-right",
         "forward"
        ],
        [
         "Pan",
         "Left button pans, Right button zooms\nx/y fixes axis, CTRL fixes aspect",
         "arrows",
         "pan"
        ],
        [
         "Zoom",
         "Zoom to rectangle\nx/y fixes axis, CTRL fixes aspect",
         "square-o",
         "zoom"
        ],
        [
         "Download",
         "Download plot",
         "floppy-o",
         "save_figure"
        ]
       ]
      }
     },
     "cf5fa7c6dd9b498c8f4002ac3f437d22": {
      "model_module": "@jupyter-widgets/base",
      "model_module_version": "1.2.0",
      "model_name": "LayoutModel",
      "state": {}
     },
     "cf98908a1fed4790a74c97faf6c2d0e2": {
      "model_module": "@jupyter-widgets/base",
      "model_module_version": "1.2.0",
      "model_name": "LayoutModel",
      "state": {}
     },
     "d09bfff4c2f540acb7e6d5108c15db15": {
      "model_module": "@jupyter-widgets/base",
      "model_module_version": "1.2.0",
      "model_name": "LayoutModel",
      "state": {}
     },
     "d0dcd80449524b1286795f9ae3104d0e": {
      "model_module": "@jupyter-widgets/base",
      "model_module_version": "1.2.0",
      "model_name": "LayoutModel",
      "state": {}
     },
     "d15453d8624f413197fb8c0f0a544ba4": {
      "model_module": "@jupyter-widgets/base",
      "model_module_version": "1.2.0",
      "model_name": "LayoutModel",
      "state": {}
     },
     "d18bd65b25a045cc8aea64bddf15081b": {
      "model_module": "@jupyter-widgets/base",
      "model_module_version": "1.2.0",
      "model_name": "LayoutModel",
      "state": {}
     },
     "d1c52fd4f23b4dbab85ed5fd17738bf5": {
      "model_module": "jupyter-matplotlib",
      "model_module_version": "^0.8.3",
      "model_name": "MPLCanvasModel",
      "state": {
       "_cursor": "default",
       "_figure_label": "Figure 92",
       "_height": 600,
       "_image_mode": "diff",
       "_width": 1200,
       "layout": "IPY_MODEL_59ef4ec244dc4f4fb24f19b98076a16c",
       "toolbar": "IPY_MODEL_6ca6e29a987e431fb53572a0d8ccffbc",
       "toolbar_position": "left"
      }
     },
     "d1c9942a7f86411a88286da6fa13f3ad": {
      "model_module": "@jupyter-widgets/base",
      "model_module_version": "1.2.0",
      "model_name": "LayoutModel",
      "state": {}
     },
     "d1d096bc1d93429baaf56cdeb7330a97": {
      "model_module": "jupyter-matplotlib",
      "model_module_version": "^0.8.3",
      "model_name": "ToolbarModel",
      "state": {
       "layout": "IPY_MODEL_a91061ae95bb4144a9ecbe45b032f32f",
       "toolitems": [
        [
         "Home",
         "Reset original view",
         "home",
         "home"
        ],
        [
         "Back",
         "Back to previous view",
         "arrow-left",
         "back"
        ],
        [
         "Forward",
         "Forward to next view",
         "arrow-right",
         "forward"
        ],
        [
         "Pan",
         "Left button pans, Right button zooms\nx/y fixes axis, CTRL fixes aspect",
         "arrows",
         "pan"
        ],
        [
         "Zoom",
         "Zoom to rectangle\nx/y fixes axis, CTRL fixes aspect",
         "square-o",
         "zoom"
        ],
        [
         "Download",
         "Download plot",
         "floppy-o",
         "save_figure"
        ]
       ]
      }
     },
     "d1f6ef6928de429c95b4578af37638ee": {
      "model_module": "@jupyter-widgets/base",
      "model_module_version": "1.2.0",
      "model_name": "LayoutModel",
      "state": {}
     },
     "d2c2d0c3fd8b409dbd397b2a5354fd65": {
      "model_module": "jupyter-matplotlib",
      "model_module_version": "^0.8.3",
      "model_name": "ToolbarModel",
      "state": {
       "layout": "IPY_MODEL_06647f331384431eb8e8d287805fd45a",
       "toolitems": [
        [
         "Home",
         "Reset original view",
         "home",
         "home"
        ],
        [
         "Back",
         "Back to previous view",
         "arrow-left",
         "back"
        ],
        [
         "Forward",
         "Forward to next view",
         "arrow-right",
         "forward"
        ],
        [
         "Pan",
         "Left button pans, Right button zooms\nx/y fixes axis, CTRL fixes aspect",
         "arrows",
         "pan"
        ],
        [
         "Zoom",
         "Zoom to rectangle\nx/y fixes axis, CTRL fixes aspect",
         "square-o",
         "zoom"
        ],
        [
         "Download",
         "Download plot",
         "floppy-o",
         "save_figure"
        ]
       ]
      }
     },
     "d4959093b6cc450a8426fcbe3f3e7176": {
      "model_module": "@jupyter-widgets/base",
      "model_module_version": "1.2.0",
      "model_name": "LayoutModel",
      "state": {}
     },
     "d5a0bb63cd40474fb29862a396ce19a8": {
      "model_module": "@jupyter-widgets/base",
      "model_module_version": "1.2.0",
      "model_name": "LayoutModel",
      "state": {}
     },
     "d631a5990c4d4563bac0ca97801482f8": {
      "model_module": "jupyter-matplotlib",
      "model_module_version": "^0.8.3",
      "model_name": "MPLCanvasModel",
      "state": {
       "_cursor": "default",
       "_figure_label": "Figure 82",
       "_height": 500,
       "_width": 1300,
       "layout": "IPY_MODEL_0571d476f8d14e828a4ef4a9571b402d",
       "toolbar": "IPY_MODEL_440091b9342d42a3b0f55eb26b1ff8ce",
       "toolbar_position": "left"
      }
     },
     "d6c1b3dd8dbb48f79b7e9790cc497cbc": {
      "model_module": "jupyter-matplotlib",
      "model_module_version": "^0.8.3",
      "model_name": "ToolbarModel",
      "state": {
       "layout": "IPY_MODEL_29f38051d3074a0fae4df0465f6dfbf3",
       "toolitems": [
        [
         "Home",
         "Reset original view",
         "home",
         "home"
        ],
        [
         "Back",
         "Back to previous view",
         "arrow-left",
         "back"
        ],
        [
         "Forward",
         "Forward to next view",
         "arrow-right",
         "forward"
        ],
        [
         "Pan",
         "Left button pans, Right button zooms\nx/y fixes axis, CTRL fixes aspect",
         "arrows",
         "pan"
        ],
        [
         "Zoom",
         "Zoom to rectangle\nx/y fixes axis, CTRL fixes aspect",
         "square-o",
         "zoom"
        ],
        [
         "Download",
         "Download plot",
         "floppy-o",
         "save_figure"
        ]
       ]
      }
     },
     "d6cfb3c5d82a42b0a62ad2b439b8209c": {
      "model_module": "@jupyter-widgets/base",
      "model_module_version": "1.2.0",
      "model_name": "LayoutModel",
      "state": {}
     },
     "d6fb3d68037e470b837d2c7c252e358e": {
      "model_module": "jupyter-matplotlib",
      "model_module_version": "^0.8.3",
      "model_name": "MPLCanvasModel",
      "state": {
       "_cursor": "default",
       "_figure_label": "Figure 106",
       "_height": 1000,
       "_width": 1500,
       "layout": "IPY_MODEL_1e5f988892c3465ca00d5d2b4944bf72",
       "toolbar": "IPY_MODEL_b6b514ed51ca4f2da8516933aa8faf05",
       "toolbar_position": "left"
      }
     },
     "d70be7d459584eba96914874b055f339": {
      "model_module": "@jupyter-widgets/base",
      "model_module_version": "1.2.0",
      "model_name": "LayoutModel",
      "state": {}
     },
     "d742a81912934848a0a49f3bf7ab6cdd": {
      "model_module": "@jupyter-widgets/base",
      "model_module_version": "1.2.0",
      "model_name": "LayoutModel",
      "state": {}
     },
     "d76ae6a18def408282a58fafbbd72454": {
      "model_module": "jupyter-matplotlib",
      "model_module_version": "^0.8.3",
      "model_name": "MPLCanvasModel",
      "state": {
       "_cursor": "default",
       "_figure_label": "Figure 17",
       "_height": 500,
       "_width": 1000,
       "layout": "IPY_MODEL_5ca8f22eed224879b9bf435132f33334",
       "toolbar": "IPY_MODEL_3bef468b9abf43a9b863df407677e0b5",
       "toolbar_position": "left"
      }
     },
     "d7a6fdc9de2545afb3b269e1ce78496d": {
      "model_module": "jupyter-matplotlib",
      "model_module_version": "^0.8.3",
      "model_name": "MPLCanvasModel",
      "state": {
       "_cursor": "default",
       "_figure_label": "Figure 5",
       "_height": 1000,
       "_image_mode": "diff",
       "_message": "x=−1.90 y=1013.",
       "_width": 1500,
       "layout": "IPY_MODEL_054275f44e874c5e866f7d9c733facdf",
       "toolbar": "IPY_MODEL_66965732ea674cb89cc0ec474aaebd20",
       "toolbar_position": "left"
      }
     },
     "d7b1ebed45e24518aebaf81a87acaa67": {
      "model_module": "jupyter-matplotlib",
      "model_module_version": "^0.8.3",
      "model_name": "ToolbarModel",
      "state": {
       "layout": "IPY_MODEL_5183671483d2481dbe829b8f1ea8e1a1",
       "toolitems": [
        [
         "Home",
         "Reset original view",
         "home",
         "home"
        ],
        [
         "Back",
         "Back to previous view",
         "arrow-left",
         "back"
        ],
        [
         "Forward",
         "Forward to next view",
         "arrow-right",
         "forward"
        ],
        [
         "Pan",
         "Left button pans, Right button zooms\nx/y fixes axis, CTRL fixes aspect",
         "arrows",
         "pan"
        ],
        [
         "Zoom",
         "Zoom to rectangle\nx/y fixes axis, CTRL fixes aspect",
         "square-o",
         "zoom"
        ],
        [
         "Download",
         "Download plot",
         "floppy-o",
         "save_figure"
        ]
       ]
      }
     },
     "d9f4299dd12341e6ad0debd5f5816bb8": {
      "model_module": "jupyter-matplotlib",
      "model_module_version": "^0.8.3",
      "model_name": "ToolbarModel",
      "state": {
       "layout": "IPY_MODEL_0a14181db8a74d39b5c0564bf3a8c6b8",
       "toolitems": [
        [
         "Home",
         "Reset original view",
         "home",
         "home"
        ],
        [
         "Back",
         "Back to previous view",
         "arrow-left",
         "back"
        ],
        [
         "Forward",
         "Forward to next view",
         "arrow-right",
         "forward"
        ],
        [
         "Pan",
         "Left button pans, Right button zooms\nx/y fixes axis, CTRL fixes aspect",
         "arrows",
         "pan"
        ],
        [
         "Zoom",
         "Zoom to rectangle\nx/y fixes axis, CTRL fixes aspect",
         "square-o",
         "zoom"
        ],
        [
         "Download",
         "Download plot",
         "floppy-o",
         "save_figure"
        ]
       ]
      }
     },
     "da9580461f374b30af1f04c784928505": {
      "model_module": "@jupyter-widgets/base",
      "model_module_version": "1.2.0",
      "model_name": "LayoutModel",
      "state": {}
     },
     "dac825a1d57d45b9bbe3d5334f7e3e22": {
      "model_module": "jupyter-matplotlib",
      "model_module_version": "^0.8.3",
      "model_name": "MPLCanvasModel",
      "state": {
       "_cursor": "default",
       "_figure_label": "Figure 48",
       "_height": 500,
       "_message": "x=1.07 y=94.2",
       "_width": 1000,
       "layout": "IPY_MODEL_cd28388fb34f4eec88e4ff4d11256231",
       "toolbar": "IPY_MODEL_0efb09718d314cf7bfdc17fb136e76ae",
       "toolbar_position": "left"
      }
     },
     "dbeff9b80f674aa394e4d521bf2c5e3f": {
      "model_module": "@jupyter-widgets/base",
      "model_module_version": "1.2.0",
      "model_name": "LayoutModel",
      "state": {}
     },
     "dc921998e0f143ad962202f8427031c6": {
      "model_module": "@jupyter-widgets/base",
      "model_module_version": "1.2.0",
      "model_name": "LayoutModel",
      "state": {}
     },
     "dcc9df6d1cb94ff293d787fb027de17a": {
      "model_module": "jupyter-matplotlib",
      "model_module_version": "^0.8.3",
      "model_name": "ToolbarModel",
      "state": {
       "layout": "IPY_MODEL_86b207cc88a44c3ea8b86f5f4ec702a6",
       "toolitems": [
        [
         "Home",
         "Reset original view",
         "home",
         "home"
        ],
        [
         "Back",
         "Back to previous view",
         "arrow-left",
         "back"
        ],
        [
         "Forward",
         "Forward to next view",
         "arrow-right",
         "forward"
        ],
        [
         "Pan",
         "Left button pans, Right button zooms\nx/y fixes axis, CTRL fixes aspect",
         "arrows",
         "pan"
        ],
        [
         "Zoom",
         "Zoom to rectangle\nx/y fixes axis, CTRL fixes aspect",
         "square-o",
         "zoom"
        ],
        [
         "Download",
         "Download plot",
         "floppy-o",
         "save_figure"
        ]
       ]
      }
     },
     "dcd3a89ef9fd499fb98c5d90a050b9d8": {
      "model_module": "@jupyter-widgets/base",
      "model_module_version": "1.2.0",
      "model_name": "LayoutModel",
      "state": {}
     },
     "dd646e553eea4060b95e4bf02df7299f": {
      "model_module": "jupyter-matplotlib",
      "model_module_version": "^0.8.3",
      "model_name": "ToolbarModel",
      "state": {
       "layout": "IPY_MODEL_f4a5af008df1456a9c0da57a0200edf3",
       "toolitems": [
        [
         "Home",
         "Reset original view",
         "home",
         "home"
        ],
        [
         "Back",
         "Back to previous view",
         "arrow-left",
         "back"
        ],
        [
         "Forward",
         "Forward to next view",
         "arrow-right",
         "forward"
        ],
        [
         "Pan",
         "Left button pans, Right button zooms\nx/y fixes axis, CTRL fixes aspect",
         "arrows",
         "pan"
        ],
        [
         "Zoom",
         "Zoom to rectangle\nx/y fixes axis, CTRL fixes aspect",
         "square-o",
         "zoom"
        ],
        [
         "Download",
         "Download plot",
         "floppy-o",
         "save_figure"
        ]
       ]
      }
     },
     "dd66fb4cf8054454a49e056f6c3c9359": {
      "model_module": "jupyter-matplotlib",
      "model_module_version": "^0.8.3",
      "model_name": "MPLCanvasModel",
      "state": {
       "layout": "IPY_MODEL_9249df8181d643b5be03ee28fd9671f5",
       "toolbar": "IPY_MODEL_07020e4f23d240bcb57b6a601aed3777",
       "toolbar_position": "left"
      }
     },
     "dd941151dd904409aad6264165b291ed": {
      "model_module": "jupyter-matplotlib",
      "model_module_version": "^0.8.3",
      "model_name": "MPLCanvasModel",
      "state": {
       "_cursor": "default",
       "_figure_label": "Figure 68",
       "_height": 500,
       "_message": "x=44. y=3.05",
       "_width": 1000,
       "layout": "IPY_MODEL_9c864c691fae4a53831337928f507ba1",
       "toolbar": "IPY_MODEL_0620e1f0662342c2a46083a8c6ec8a0a",
       "toolbar_position": "left"
      }
     },
     "ddb2c29bd16e4aff97af258b8ae278c6": {
      "model_module": "@jupyter-widgets/base",
      "model_module_version": "1.2.0",
      "model_name": "LayoutModel",
      "state": {}
     },
     "ddb6031470a24e52bcbd3954fe379d8c": {
      "model_module": "@jupyter-widgets/base",
      "model_module_version": "1.2.0",
      "model_name": "LayoutModel",
      "state": {}
     },
     "ddcbdaa8e1e54c3495f15523b7dba9be": {
      "model_module": "@jupyter-widgets/base",
      "model_module_version": "1.2.0",
      "model_name": "LayoutModel",
      "state": {}
     },
     "dde95ea8f42448b48316acc9814a8258": {
      "model_module": "jupyter-matplotlib",
      "model_module_version": "^0.8.3",
      "model_name": "MPLCanvasModel",
      "state": {
       "_cursor": "default",
       "_figure_label": "Figure 98",
       "_height": 1000,
       "_width": 1500,
       "layout": "IPY_MODEL_c6d702ef72cd4d3e8a1de10afd48e540",
       "toolbar": "IPY_MODEL_dd646e553eea4060b95e4bf02df7299f",
       "toolbar_position": "left"
      }
     },
     "de4cbe17b8154c0e94b1075fc7e55e19": {
      "model_module": "@jupyter-widgets/base",
      "model_module_version": "1.2.0",
      "model_name": "LayoutModel",
      "state": {}
     },
     "de5476bde5a549ddb1462f58e3441a2b": {
      "model_module": "@jupyter-widgets/base",
      "model_module_version": "1.2.0",
      "model_name": "LayoutModel",
      "state": {}
     },
     "de6cdb9593c44e12941cf790e93ad7ad": {
      "model_module": "@jupyter-widgets/base",
      "model_module_version": "1.2.0",
      "model_name": "LayoutModel",
      "state": {}
     },
     "de7cdb4765854a218f0c46cdcf5dbf59": {
      "model_module": "jupyter-matplotlib",
      "model_module_version": "^0.8.3",
      "model_name": "MPLCanvasModel",
      "state": {
       "_cursor": "default",
       "_figure_label": "Figure 29",
       "_height": 1000,
       "_message": "x=0.349 y=480.",
       "_width": 1500,
       "layout": "IPY_MODEL_f5065e520a384d65afafc1c7d48fe4b2",
       "toolbar": "IPY_MODEL_7e8ada41f44f4b19967788323206ae6d",
       "toolbar_position": "left"
      }
     },
     "df631029692a4cf2a399d4df0e9d0ad7": {
      "model_module": "@jupyter-widgets/base",
      "model_module_version": "1.2.0",
      "model_name": "LayoutModel",
      "state": {}
     },
     "dfaf4bc9bff14493a22458ffdff1704e": {
      "model_module": "@jupyter-widgets/base",
      "model_module_version": "1.2.0",
      "model_name": "LayoutModel",
      "state": {}
     },
     "dfb8b86b3adf4a26999822c81d8d4725": {
      "model_module": "@jupyter-widgets/base",
      "model_module_version": "1.2.0",
      "model_name": "LayoutModel",
      "state": {}
     },
     "dfe001347348414b9cfb514562015ed4": {
      "model_module": "jupyter-matplotlib",
      "model_module_version": "^0.8.3",
      "model_name": "ToolbarModel",
      "state": {
       "layout": "IPY_MODEL_4718244b1f164d08b080585a0a2f1e0d",
       "toolitems": [
        [
         "Home",
         "Reset original view",
         "home",
         "home"
        ],
        [
         "Back",
         "Back to previous view",
         "arrow-left",
         "back"
        ],
        [
         "Forward",
         "Forward to next view",
         "arrow-right",
         "forward"
        ],
        [
         "Pan",
         "Left button pans, Right button zooms\nx/y fixes axis, CTRL fixes aspect",
         "arrows",
         "pan"
        ],
        [
         "Zoom",
         "Zoom to rectangle\nx/y fixes axis, CTRL fixes aspect",
         "square-o",
         "zoom"
        ],
        [
         "Download",
         "Download plot",
         "floppy-o",
         "save_figure"
        ]
       ]
      }
     },
     "e000596cd2774b919c48a46738e41056": {
      "model_module": "@jupyter-widgets/base",
      "model_module_version": "1.2.0",
      "model_name": "LayoutModel",
      "state": {}
     },
     "e081281fc27a4e5abc030aab6e449b80": {
      "model_module": "jupyter-matplotlib",
      "model_module_version": "^0.8.3",
      "model_name": "ToolbarModel",
      "state": {
       "layout": "IPY_MODEL_e92e434ed8774d2abffd62d3316fce07",
       "toolitems": [
        [
         "Home",
         "Reset original view",
         "home",
         "home"
        ],
        [
         "Back",
         "Back to previous view",
         "arrow-left",
         "back"
        ],
        [
         "Forward",
         "Forward to next view",
         "arrow-right",
         "forward"
        ],
        [
         "Pan",
         "Left button pans, Right button zooms\nx/y fixes axis, CTRL fixes aspect",
         "arrows",
         "pan"
        ],
        [
         "Zoom",
         "Zoom to rectangle\nx/y fixes axis, CTRL fixes aspect",
         "square-o",
         "zoom"
        ],
        [
         "Download",
         "Download plot",
         "floppy-o",
         "save_figure"
        ]
       ]
      }
     },
     "e0dbf94393c0493c96a07d5837997c98": {
      "model_module": "jupyter-matplotlib",
      "model_module_version": "^0.8.3",
      "model_name": "ToolbarModel",
      "state": {
       "layout": "IPY_MODEL_8139f56593484051a4bb73165483f778",
       "toolitems": [
        [
         "Home",
         "Reset original view",
         "home",
         "home"
        ],
        [
         "Back",
         "Back to previous view",
         "arrow-left",
         "back"
        ],
        [
         "Forward",
         "Forward to next view",
         "arrow-right",
         "forward"
        ],
        [
         "Pan",
         "Left button pans, Right button zooms\nx/y fixes axis, CTRL fixes aspect",
         "arrows",
         "pan"
        ],
        [
         "Zoom",
         "Zoom to rectangle\nx/y fixes axis, CTRL fixes aspect",
         "square-o",
         "zoom"
        ],
        [
         "Download",
         "Download plot",
         "floppy-o",
         "save_figure"
        ]
       ]
      }
     },
     "e11d6ebdfd4e41efb9f958618c33eeca": {
      "model_module": "jupyter-matplotlib",
      "model_module_version": "^0.8.3",
      "model_name": "ToolbarModel",
      "state": {
       "layout": "IPY_MODEL_06507ae29c5e4ac3873e421556346cc2",
       "toolitems": [
        [
         "Home",
         "Reset original view",
         "home",
         "home"
        ],
        [
         "Back",
         "Back to previous view",
         "arrow-left",
         "back"
        ],
        [
         "Forward",
         "Forward to next view",
         "arrow-right",
         "forward"
        ],
        [
         "Pan",
         "Left button pans, Right button zooms\nx/y fixes axis, CTRL fixes aspect",
         "arrows",
         "pan"
        ],
        [
         "Zoom",
         "Zoom to rectangle\nx/y fixes axis, CTRL fixes aspect",
         "square-o",
         "zoom"
        ],
        [
         "Download",
         "Download plot",
         "floppy-o",
         "save_figure"
        ]
       ]
      }
     },
     "e123c2422df94ee5a00d96d41e2d014f": {
      "model_module": "@jupyter-widgets/base",
      "model_module_version": "1.2.0",
      "model_name": "LayoutModel",
      "state": {}
     },
     "e1d1a86f8e3e406eb527d6a39622b3ad": {
      "model_module": "jupyter-matplotlib",
      "model_module_version": "^0.8.3",
      "model_name": "ToolbarModel",
      "state": {
       "layout": "IPY_MODEL_1e2e907015d84d29b33d84aad0281fad",
       "toolitems": [
        [
         "Home",
         "Reset original view",
         "home",
         "home"
        ],
        [
         "Back",
         "Back to previous view",
         "arrow-left",
         "back"
        ],
        [
         "Forward",
         "Forward to next view",
         "arrow-right",
         "forward"
        ],
        [
         "Pan",
         "Left button pans, Right button zooms\nx/y fixes axis, CTRL fixes aspect",
         "arrows",
         "pan"
        ],
        [
         "Zoom",
         "Zoom to rectangle\nx/y fixes axis, CTRL fixes aspect",
         "square-o",
         "zoom"
        ],
        [
         "Download",
         "Download plot",
         "floppy-o",
         "save_figure"
        ]
       ]
      }
     },
     "e23e899230d247968a0a317da0fe73bb": {
      "model_module": "@jupyter-widgets/base",
      "model_module_version": "1.2.0",
      "model_name": "LayoutModel",
      "state": {}
     },
     "e2594fea5d454a46b2fa627de4ea7b20": {
      "model_module": "jupyter-matplotlib",
      "model_module_version": "^0.8.3",
      "model_name": "ToolbarModel",
      "state": {
       "layout": "IPY_MODEL_3d08f72eed504386b4f10a78ea40c6b6",
       "toolitems": [
        [
         "Home",
         "Reset original view",
         "home",
         "home"
        ],
        [
         "Back",
         "Back to previous view",
         "arrow-left",
         "back"
        ],
        [
         "Forward",
         "Forward to next view",
         "arrow-right",
         "forward"
        ],
        [
         "Pan",
         "Left button pans, Right button zooms\nx/y fixes axis, CTRL fixes aspect",
         "arrows",
         "pan"
        ],
        [
         "Zoom",
         "Zoom to rectangle\nx/y fixes axis, CTRL fixes aspect",
         "square-o",
         "zoom"
        ],
        [
         "Download",
         "Download plot",
         "floppy-o",
         "save_figure"
        ]
       ]
      }
     },
     "e45b857c5c7d4e63963deea8d25530df": {
      "model_module": "jupyter-matplotlib",
      "model_module_version": "^0.8.3",
      "model_name": "MPLCanvasModel",
      "state": {
       "_cursor": "default",
       "_figure_label": "Figure 123",
       "_height": 500,
       "_width": 1500,
       "layout": "IPY_MODEL_077d637d6be549f4aeff8e9fb173e4bf",
       "toolbar": "IPY_MODEL_f02108ce5f494f888ef04022547205b3",
       "toolbar_position": "left"
      }
     },
     "e484e6ab68ad4df1801a778f123f163e": {
      "model_module": "@jupyter-widgets/base",
      "model_module_version": "1.2.0",
      "model_name": "LayoutModel",
      "state": {}
     },
     "e557807717c64efb975cdaf0836e6329": {
      "model_module": "@jupyter-widgets/base",
      "model_module_version": "1.2.0",
      "model_name": "LayoutModel",
      "state": {}
     },
     "e580f380a4c04a8387c0968e55e47bdd": {
      "model_module": "jupyter-matplotlib",
      "model_module_version": "^0.8.3",
      "model_name": "MPLCanvasModel",
      "state": {
       "_cursor": "default",
       "_figure_label": "Figure 104",
       "_height": 1000,
       "_width": 1500,
       "layout": "IPY_MODEL_32a030fde39e493f9e5e9c25f87af394",
       "toolbar": "IPY_MODEL_ffe4a48080914f67aec26634ca74afa7",
       "toolbar_position": "left"
      }
     },
     "e6c6409247c14990a830bdc6461d4fb8": {
      "model_module": "jupyter-matplotlib",
      "model_module_version": "^0.8.3",
      "model_name": "ToolbarModel",
      "state": {
       "layout": "IPY_MODEL_321ee66f65ba4f0398f4e5a8c8b050e8",
       "toolitems": [
        [
         "Home",
         "Reset original view",
         "home",
         "home"
        ],
        [
         "Back",
         "Back to previous view",
         "arrow-left",
         "back"
        ],
        [
         "Forward",
         "Forward to next view",
         "arrow-right",
         "forward"
        ],
        [
         "Pan",
         "Left button pans, Right button zooms\nx/y fixes axis, CTRL fixes aspect",
         "arrows",
         "pan"
        ],
        [
         "Zoom",
         "Zoom to rectangle\nx/y fixes axis, CTRL fixes aspect",
         "square-o",
         "zoom"
        ],
        [
         "Download",
         "Download plot",
         "floppy-o",
         "save_figure"
        ]
       ]
      }
     },
     "e75c57158d4249528852ad45bac9cd29": {
      "model_module": "jupyter-matplotlib",
      "model_module_version": "^0.8.3",
      "model_name": "ToolbarModel",
      "state": {
       "layout": "IPY_MODEL_390b870c6561473ab5733b9ec116ce3d",
       "toolitems": [
        [
         "Home",
         "Reset original view",
         "home",
         "home"
        ],
        [
         "Back",
         "Back to previous view",
         "arrow-left",
         "back"
        ],
        [
         "Forward",
         "Forward to next view",
         "arrow-right",
         "forward"
        ],
        [
         "Pan",
         "Left button pans, Right button zooms\nx/y fixes axis, CTRL fixes aspect",
         "arrows",
         "pan"
        ],
        [
         "Zoom",
         "Zoom to rectangle\nx/y fixes axis, CTRL fixes aspect",
         "square-o",
         "zoom"
        ],
        [
         "Download",
         "Download plot",
         "floppy-o",
         "save_figure"
        ]
       ]
      }
     },
     "e76334fadda14602bdcc0c5f3defd9af": {
      "model_module": "@jupyter-widgets/base",
      "model_module_version": "1.2.0",
      "model_name": "LayoutModel",
      "state": {}
     },
     "e876502221644ed5ad367908cceea844": {
      "model_module": "jupyter-matplotlib",
      "model_module_version": "^0.8.3",
      "model_name": "ToolbarModel",
      "state": {
       "layout": "IPY_MODEL_ebaceee75e114099b3689003020e20a1",
       "toolitems": [
        [
         "Home",
         "Reset original view",
         "home",
         "home"
        ],
        [
         "Back",
         "Back to previous view",
         "arrow-left",
         "back"
        ],
        [
         "Forward",
         "Forward to next view",
         "arrow-right",
         "forward"
        ],
        [
         "Pan",
         "Left button pans, Right button zooms\nx/y fixes axis, CTRL fixes aspect",
         "arrows",
         "pan"
        ],
        [
         "Zoom",
         "Zoom to rectangle\nx/y fixes axis, CTRL fixes aspect",
         "square-o",
         "zoom"
        ],
        [
         "Download",
         "Download plot",
         "floppy-o",
         "save_figure"
        ]
       ]
      }
     },
     "e8b6137832bf447b8d8ae87ab52be626": {
      "model_module": "@jupyter-widgets/base",
      "model_module_version": "1.2.0",
      "model_name": "LayoutModel",
      "state": {}
     },
     "e9237a535251446bb94b0412b8f6fbd3": {
      "model_module": "@jupyter-widgets/base",
      "model_module_version": "1.2.0",
      "model_name": "LayoutModel",
      "state": {}
     },
     "e92e434ed8774d2abffd62d3316fce07": {
      "model_module": "@jupyter-widgets/base",
      "model_module_version": "1.2.0",
      "model_name": "LayoutModel",
      "state": {}
     },
     "e9a9dc7b71cc4cc49ef1aa2ceed301ed": {
      "model_module": "@jupyter-widgets/base",
      "model_module_version": "1.2.0",
      "model_name": "LayoutModel",
      "state": {}
     },
     "ea248c6d933a441e969924cbe144fef2": {
      "model_module": "jupyter-matplotlib",
      "model_module_version": "^0.8.3",
      "model_name": "MPLCanvasModel",
      "state": {
       "_cursor": "default",
       "_figure_label": "Figure 67",
       "_height": 500,
       "_width": 1000,
       "layout": "IPY_MODEL_c159baa48fac41549d7f05a6be35fc5e",
       "toolbar": "IPY_MODEL_08f8da70c7844f45b2d6b164c30a8cd7",
       "toolbar_position": "left"
      }
     },
     "ea2ed1b5f17842bbae58b5f0151f0140": {
      "model_module": "@jupyter-widgets/base",
      "model_module_version": "1.2.0",
      "model_name": "LayoutModel",
      "state": {}
     },
     "eabc55351c9c45ac94698676999e671b": {
      "model_module": "jupyter-matplotlib",
      "model_module_version": "^0.8.3",
      "model_name": "MPLCanvasModel",
      "state": {
       "_cursor": "default",
       "_figure_label": "Figure 95",
       "_height": 1000,
       "_width": 1500,
       "layout": "IPY_MODEL_d4959093b6cc450a8426fcbe3f3e7176",
       "toolbar": "IPY_MODEL_9acde3a094f14e48b68529638a0a549b",
       "toolbar_position": "left"
      }
     },
     "eb3d28304cc142d09db049e3ada7f6d2": {
      "model_module": "jupyter-matplotlib",
      "model_module_version": "^0.8.3",
      "model_name": "MPLCanvasModel",
      "state": {
       "_cursor": "default",
       "_figure_label": "Figure 90",
       "_height": 600,
       "_width": 1200,
       "layout": "IPY_MODEL_f0a990b12108417b9fb58f201345c824",
       "toolbar": "IPY_MODEL_653d6b18db124851a53c58033d1d41bd",
       "toolbar_position": "left"
      }
     },
     "ebaceee75e114099b3689003020e20a1": {
      "model_module": "@jupyter-widgets/base",
      "model_module_version": "1.2.0",
      "model_name": "LayoutModel",
      "state": {}
     },
     "ecd24e212e9f40978973cab3edf0c455": {
      "model_module": "jupyter-matplotlib",
      "model_module_version": "^0.8.3",
      "model_name": "MPLCanvasModel",
      "state": {
       "_cursor": "default",
       "_figure_label": "Figure 42",
       "_height": 1000,
       "_width": 1500,
       "layout": "IPY_MODEL_dbeff9b80f674aa394e4d521bf2c5e3f",
       "toolbar": "IPY_MODEL_c1cc74e0d20f4695b6bd20a610dcb1de",
       "toolbar_position": "left"
      }
     },
     "ee8b18ea2a614529815a9a0388e90da9": {
      "model_module": "@jupyter-widgets/base",
      "model_module_version": "1.2.0",
      "model_name": "LayoutModel",
      "state": {}
     },
     "ef50771fd9fa4ca1aeed70628ab6e255": {
      "model_module": "jupyter-matplotlib",
      "model_module_version": "^0.8.3",
      "model_name": "MPLCanvasModel",
      "state": {
       "_cursor": "default",
       "_figure_label": "Figure 85",
       "_height": 600,
       "_image_mode": "diff",
       "_message": "x=−17.4 y=5.13e+03",
       "_width": 1200,
       "layout": "IPY_MODEL_044f0c1fc1f6435ab94c175179bc6f2b",
       "toolbar": "IPY_MODEL_b936c6136d9b43f29532c3bd7ddebcd6",
       "toolbar_position": "left"
      }
     },
     "efdb20e43c1e4d4aa98a648a39fe946c": {
      "model_module": "jupyter-matplotlib",
      "model_module_version": "^0.8.3",
      "model_name": "MPLCanvasModel",
      "state": {
       "_cursor": "default",
       "_figure_label": "Figure 81",
       "_height": 500,
       "_message": "x=37.7 y=8.31",
       "_width": 1300,
       "layout": "IPY_MODEL_309e456c799e4fb4b41589e98540fccf",
       "toolbar": "IPY_MODEL_e2594fea5d454a46b2fa627de4ea7b20",
       "toolbar_position": "left"
      }
     },
     "f00528f9f1a544abb44015468086f217": {
      "model_module": "jupyter-matplotlib",
      "model_module_version": "^0.8.3",
      "model_name": "ToolbarModel",
      "state": {
       "layout": "IPY_MODEL_3d02f58f1795424e81bdb885715896ee",
       "toolitems": [
        [
         "Home",
         "Reset original view",
         "home",
         "home"
        ],
        [
         "Back",
         "Back to previous view",
         "arrow-left",
         "back"
        ],
        [
         "Forward",
         "Forward to next view",
         "arrow-right",
         "forward"
        ],
        [
         "Pan",
         "Left button pans, Right button zooms\nx/y fixes axis, CTRL fixes aspect",
         "arrows",
         "pan"
        ],
        [
         "Zoom",
         "Zoom to rectangle\nx/y fixes axis, CTRL fixes aspect",
         "square-o",
         "zoom"
        ],
        [
         "Download",
         "Download plot",
         "floppy-o",
         "save_figure"
        ]
       ]
      }
     },
     "f02108ce5f494f888ef04022547205b3": {
      "model_module": "jupyter-matplotlib",
      "model_module_version": "^0.8.3",
      "model_name": "ToolbarModel",
      "state": {
       "layout": "IPY_MODEL_da9580461f374b30af1f04c784928505",
       "toolitems": [
        [
         "Home",
         "Reset original view",
         "home",
         "home"
        ],
        [
         "Back",
         "Back to previous view",
         "arrow-left",
         "back"
        ],
        [
         "Forward",
         "Forward to next view",
         "arrow-right",
         "forward"
        ],
        [
         "Pan",
         "Left button pans, Right button zooms\nx/y fixes axis, CTRL fixes aspect",
         "arrows",
         "pan"
        ],
        [
         "Zoom",
         "Zoom to rectangle\nx/y fixes axis, CTRL fixes aspect",
         "square-o",
         "zoom"
        ],
        [
         "Download",
         "Download plot",
         "floppy-o",
         "save_figure"
        ]
       ]
      }
     },
     "f060d76733be4c1c9381d2fba33e6a6f": {
      "model_module": "@jupyter-widgets/base",
      "model_module_version": "1.2.0",
      "model_name": "LayoutModel",
      "state": {}
     },
     "f0a990b12108417b9fb58f201345c824": {
      "model_module": "@jupyter-widgets/base",
      "model_module_version": "1.2.0",
      "model_name": "LayoutModel",
      "state": {}
     },
     "f10dc3fab9b2470fa3868a4db48d8e59": {
      "model_module": "@jupyter-widgets/base",
      "model_module_version": "1.2.0",
      "model_name": "LayoutModel",
      "state": {}
     },
     "f1a7a76daf284d4988a45d2f5e499a12": {
      "model_module": "@jupyter-widgets/base",
      "model_module_version": "1.2.0",
      "model_name": "LayoutModel",
      "state": {}
     },
     "f1e80000a2b84d6f9ea06a24a63b8448": {
      "model_module": "jupyter-matplotlib",
      "model_module_version": "^0.8.3",
      "model_name": "MPLCanvasModel",
      "state": {
       "_cursor": "default",
       "_figure_label": "Figure 135",
       "_height": 500,
       "_message": "x=99. y=0.08",
       "_width": 1800,
       "layout": "IPY_MODEL_5fb4ab14c66445339c350c55ce8a613b",
       "toolbar": "IPY_MODEL_674e0ff6f7b54daa98d46dcb5a8b7a60",
       "toolbar_position": "left"
      }
     },
     "f24c273f580a43bb96eb4deac77eedbc": {
      "model_module": "jupyter-matplotlib",
      "model_module_version": "^0.8.3",
      "model_name": "MPLCanvasModel",
      "state": {
       "_cursor": "default",
       "_figure_label": "Figure 87",
       "_height": 600,
       "_image_mode": "diff",
       "_message": "x=61.9 y=5.42e+03",
       "_width": 1200,
       "layout": "IPY_MODEL_ce46c5848cd64757acbb5e3bcb63ec04",
       "toolbar": "IPY_MODEL_372734fc1f3c46c0ac31729291a9364b",
       "toolbar_position": "left"
      }
     },
     "f313221534dd44e79e0667265dce3a0a": {
      "model_module": "jupyter-matplotlib",
      "model_module_version": "^0.8.3",
      "model_name": "ToolbarModel",
      "state": {
       "layout": "IPY_MODEL_304fd2b1ac394307b47a327b5d1c9b18",
       "toolitems": [
        [
         "Home",
         "Reset original view",
         "home",
         "home"
        ],
        [
         "Back",
         "Back to previous view",
         "arrow-left",
         "back"
        ],
        [
         "Forward",
         "Forward to next view",
         "arrow-right",
         "forward"
        ],
        [
         "Pan",
         "Left button pans, Right button zooms\nx/y fixes axis, CTRL fixes aspect",
         "arrows",
         "pan"
        ],
        [
         "Zoom",
         "Zoom to rectangle\nx/y fixes axis, CTRL fixes aspect",
         "square-o",
         "zoom"
        ],
        [
         "Download",
         "Download plot",
         "floppy-o",
         "save_figure"
        ]
       ]
      }
     },
     "f31b2f234a094e98bddb36a82ae1666e": {
      "model_module": "jupyter-matplotlib",
      "model_module_version": "^0.8.3",
      "model_name": "ToolbarModel",
      "state": {
       "layout": "IPY_MODEL_f5f604578cda47b4bcdcf7498786cd4a",
       "toolitems": [
        [
         "Home",
         "Reset original view",
         "home",
         "home"
        ],
        [
         "Back",
         "Back to previous view",
         "arrow-left",
         "back"
        ],
        [
         "Forward",
         "Forward to next view",
         "arrow-right",
         "forward"
        ],
        [
         "Pan",
         "Left button pans, Right button zooms\nx/y fixes axis, CTRL fixes aspect",
         "arrows",
         "pan"
        ],
        [
         "Zoom",
         "Zoom to rectangle\nx/y fixes axis, CTRL fixes aspect",
         "square-o",
         "zoom"
        ],
        [
         "Download",
         "Download plot",
         "floppy-o",
         "save_figure"
        ]
       ]
      }
     },
     "f4099a33adb54b9aaf545b565526d0ae": {
      "model_module": "jupyter-matplotlib",
      "model_module_version": "^0.8.3",
      "model_name": "MPLCanvasModel",
      "state": {
       "_cursor": "default",
       "_figure_label": "Figure 134",
       "_height": 500,
       "_width": 1800,
       "layout": "IPY_MODEL_c29fcc617d474eea9d6da726b807869b",
       "toolbar": "IPY_MODEL_6a957693bd554ce0850efb6453c04044",
       "toolbar_position": "left"
      }
     },
     "f43f27d8f3f84aa3924b569da1298397": {
      "model_module": "@jupyter-widgets/base",
      "model_module_version": "1.2.0",
      "model_name": "LayoutModel",
      "state": {}
     },
     "f47986069d594d248a519210d0313b77": {
      "model_module": "@jupyter-widgets/base",
      "model_module_version": "1.2.0",
      "model_name": "LayoutModel",
      "state": {}
     },
     "f497c6e51da3485dbf7f2a0bf5af5c0e": {
      "model_module": "@jupyter-widgets/base",
      "model_module_version": "1.2.0",
      "model_name": "LayoutModel",
      "state": {}
     },
     "f4a5af008df1456a9c0da57a0200edf3": {
      "model_module": "@jupyter-widgets/base",
      "model_module_version": "1.2.0",
      "model_name": "LayoutModel",
      "state": {}
     },
     "f5065e520a384d65afafc1c7d48fe4b2": {
      "model_module": "@jupyter-widgets/base",
      "model_module_version": "1.2.0",
      "model_name": "LayoutModel",
      "state": {}
     },
     "f567af3ba74c43abb9f2d6bd117ac94a": {
      "model_module": "@jupyter-widgets/base",
      "model_module_version": "1.2.0",
      "model_name": "LayoutModel",
      "state": {}
     },
     "f590887ef47d43f39d52cf545ba607d8": {
      "model_module": "jupyter-matplotlib",
      "model_module_version": "^0.8.3",
      "model_name": "MPLCanvasModel",
      "state": {
       "_cursor": "default",
       "_figure_label": "Figure 54",
       "_height": 500,
       "_width": 1000,
       "layout": "IPY_MODEL_5ad4cf035e4b47c4b528b0903482a39e",
       "toolbar": "IPY_MODEL_6e5dedc2a885476a882a77ef9e7ebb1c",
       "toolbar_position": "left"
      }
     },
     "f59c5b96e5d94946aed22ccd983385b7": {
      "model_module": "@jupyter-widgets/base",
      "model_module_version": "1.2.0",
      "model_name": "LayoutModel",
      "state": {}
     },
     "f5bed27e319c452ebaf6fee907736f5f": {
      "model_module": "@jupyter-widgets/base",
      "model_module_version": "1.2.0",
      "model_name": "LayoutModel",
      "state": {}
     },
     "f5f604578cda47b4bcdcf7498786cd4a": {
      "model_module": "@jupyter-widgets/base",
      "model_module_version": "1.2.0",
      "model_name": "LayoutModel",
      "state": {}
     },
     "f634cb5f1c1541499e12e467731b9d89": {
      "model_module": "@jupyter-widgets/base",
      "model_module_version": "1.2.0",
      "model_name": "LayoutModel",
      "state": {}
     },
     "f7afcd20318b476f8b8b9b9435299c4b": {
      "model_module": "@jupyter-widgets/base",
      "model_module_version": "1.2.0",
      "model_name": "LayoutModel",
      "state": {}
     },
     "f894268331ac4284a24c39f3cf6fd086": {
      "model_module": "jupyter-matplotlib",
      "model_module_version": "^0.8.3",
      "model_name": "MPLCanvasModel",
      "state": {
       "_cursor": "default",
       "_figure_label": "Figure 115",
       "_height": 1000,
       "_image_mode": "diff",
       "_message": "x=0.887 y=1.159",
       "_width": 1500,
       "layout": "IPY_MODEL_d742a81912934848a0a49f3bf7ab6cdd",
       "toolbar": "IPY_MODEL_f313221534dd44e79e0667265dce3a0a",
       "toolbar_position": "left"
      }
     },
     "f8d80fe0119b48b4a632ad9d4b177046": {
      "model_module": "@jupyter-widgets/base",
      "model_module_version": "1.2.0",
      "model_name": "LayoutModel",
      "state": {}
     },
     "f93c97bc856a435fa2b3635f4106c548": {
      "model_module": "jupyter-matplotlib",
      "model_module_version": "^0.8.3",
      "model_name": "ToolbarModel",
      "state": {
       "layout": "IPY_MODEL_91d21bbb8917454baecd069eae0393dc",
       "toolitems": [
        [
         "Home",
         "Reset original view",
         "home",
         "home"
        ],
        [
         "Back",
         "Back to previous view",
         "arrow-left",
         "back"
        ],
        [
         "Forward",
         "Forward to next view",
         "arrow-right",
         "forward"
        ],
        [
         "Pan",
         "Left button pans, Right button zooms\nx/y fixes axis, CTRL fixes aspect",
         "arrows",
         "pan"
        ],
        [
         "Zoom",
         "Zoom to rectangle\nx/y fixes axis, CTRL fixes aspect",
         "square-o",
         "zoom"
        ],
        [
         "Download",
         "Download plot",
         "floppy-o",
         "save_figure"
        ]
       ]
      }
     },
     "f9e6596fc38841e0a15a394be822c144": {
      "model_module": "@jupyter-widgets/base",
      "model_module_version": "1.2.0",
      "model_name": "LayoutModel",
      "state": {}
     },
     "fa3cde3cdb9b4569bec3fdd484d0af30": {
      "model_module": "@jupyter-widgets/base",
      "model_module_version": "1.2.0",
      "model_name": "LayoutModel",
      "state": {}
     },
     "fa58525ab7be493ab333117120abf1b8": {
      "model_module": "@jupyter-widgets/base",
      "model_module_version": "1.2.0",
      "model_name": "LayoutModel",
      "state": {}
     },
     "fa9eb03219a7445aaccb1226753105c4": {
      "model_module": "jupyter-matplotlib",
      "model_module_version": "^0.8.3",
      "model_name": "MPLCanvasModel",
      "state": {
       "_cursor": "default",
       "_figure_label": "Figure 16",
       "_height": 500,
       "_image_mode": "diff",
       "_message": "x=−99. y=1.746e+04",
       "_width": 1500,
       "layout": "IPY_MODEL_bf1d9860351c43a190039c09f6f6fc8b",
       "toolbar": "IPY_MODEL_86ebeaee509848c5ae932da2e2e35c66",
       "toolbar_position": "left"
      }
     },
     "fb528c45b5a842a8ab30069ab19586d6": {
      "model_module": "jupyter-matplotlib",
      "model_module_version": "^0.8.3",
      "model_name": "MPLCanvasModel",
      "state": {
       "_cursor": "default",
       "_figure_label": "Figure 34",
       "_height": 1000,
       "_width": 1500,
       "layout": "IPY_MODEL_1daf69ffcd3246eea0e2ef8a4fc23170",
       "toolbar": "IPY_MODEL_279722cfbc70470ebaf1a040b6ac2d77",
       "toolbar_position": "left"
      }
     },
     "fc7a559772e545598fc4679e1cba36a9": {
      "model_module": "@jupyter-widgets/base",
      "model_module_version": "1.2.0",
      "model_name": "LayoutModel",
      "state": {}
     },
     "fcb5c613d3084969ac21e18ee8b3181d": {
      "model_module": "jupyter-matplotlib",
      "model_module_version": "^0.8.3",
      "model_name": "MPLCanvasModel",
      "state": {
       "_cursor": "default",
       "_figure_label": "Figure 47",
       "_height": 500,
       "_width": 1000,
       "layout": "IPY_MODEL_98b99e0810c64e288372553b44790b56",
       "toolbar": "IPY_MODEL_3d292a5aa970490c84162ec53b28851b",
       "toolbar_position": "left"
      }
     },
     "fd4f98e18ecb428e95d106899ba1a7c3": {
      "model_module": "jupyter-matplotlib",
      "model_module_version": "^0.8.3",
      "model_name": "MPLCanvasModel",
      "state": {
       "_cursor": "default",
       "_figure_label": "Figure 33",
       "_height": 1000,
       "_width": 1500,
       "layout": "IPY_MODEL_a022160d17de47f0ac4a74b096080fcb",
       "toolbar": "IPY_MODEL_96fb5a50cfd6472cb24057cb8e9ecb12",
       "toolbar_position": "left"
      }
     },
     "ff98ea8a20ca417faf2f5be6b75a9f6a": {
      "model_module": "@jupyter-widgets/base",
      "model_module_version": "1.2.0",
      "model_name": "LayoutModel",
      "state": {}
     },
     "ffe4a48080914f67aec26634ca74afa7": {
      "model_module": "jupyter-matplotlib",
      "model_module_version": "^0.8.3",
      "model_name": "ToolbarModel",
      "state": {
       "layout": "IPY_MODEL_3ff4b254254c4836b97b915961fbea99",
       "toolitems": [
        [
         "Home",
         "Reset original view",
         "home",
         "home"
        ],
        [
         "Back",
         "Back to previous view",
         "arrow-left",
         "back"
        ],
        [
         "Forward",
         "Forward to next view",
         "arrow-right",
         "forward"
        ],
        [
         "Pan",
         "Left button pans, Right button zooms\nx/y fixes axis, CTRL fixes aspect",
         "arrows",
         "pan"
        ],
        [
         "Zoom",
         "Zoom to rectangle\nx/y fixes axis, CTRL fixes aspect",
         "square-o",
         "zoom"
        ],
        [
         "Download",
         "Download plot",
         "floppy-o",
         "save_figure"
        ]
       ]
      }
     }
    },
    "version_major": 2,
    "version_minor": 0
   }
  }
 },
 "nbformat": 4,
 "nbformat_minor": 5
}
