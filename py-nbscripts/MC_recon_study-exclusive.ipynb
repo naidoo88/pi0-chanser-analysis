{
 "cells": [
  {
   "cell_type": "markdown",
   "id": "impressed-indicator",
   "metadata": {},
   "source": [
    "# MC Truth vs. Recon study\n",
    "Take a look at (the difference between) the reconstructed and truth values for final-state kinematic components."
   ]
  },
  {
   "cell_type": "code",
   "execution_count": 1,
   "id": "breathing-procedure",
   "metadata": {},
   "outputs": [],
   "source": [
    "import numpy as np\n",
    "import pandas as pd\n",
    "import uproot\n",
    "import boost_histogram as bh\n",
    "import functools as ft\n",
    "import matplotlib.pyplot as plt\n",
    "import matplotlib.colors as cols\n",
    "# %matplotlib notebook\n",
    "%matplotlib widget"
   ]
  },
  {
   "cell_type": "code",
   "execution_count": 2,
   "id": "accepting-chapter",
   "metadata": {},
   "outputs": [],
   "source": [
    "plt.style.use('seaborn')\n",
    "plt.rcParams['axes.grid'] = True\n",
    "plt.rcParams['axes.formatter.limits'] = (-3,3)\n",
    "plt.rcParams['axes.formatter.use_mathtext'] = True\n",
    "plt.rcParams['font.size']= 16\n",
    "plt.rcParams['axes.labelsize'] = 14\n",
    "plt.rcParams['axes.titlesize'] = 14\n",
    "plt.rcParams['xtick.labelsize'] = 10\n",
    "plt.rcParams['ytick.labelsize'] = 10"
   ]
  },
  {
   "cell_type": "code",
   "execution_count": 3,
   "id": "loaded-atlas",
   "metadata": {},
   "outputs": [],
   "source": [
    "#data_root_file = \"/w/work3/home/pauln/analysis/processed/chanser_ANAsub/pauln/Pi0_PID_fullcomb/FinalState.root\"\n",
    "MC_root_file = \"/w/work3/home/pauln/analysis/processed/chanser_MCsub/pauln/Pi0_PID_exclcomb/FinalState.root\"\n",
    "\n",
    "tree= \"FINALOUTTREE\"\n",
    "\n",
    "# data = uproot.open(data_root_file)[tree]\n",
    "# data_df = data.pandas.df()\n",
    "\n",
    "data = uproot.open(MC_root_file)[tree]\n",
    "MC_df = data.pandas.df()"
   ]
  },
  {
   "cell_type": "code",
   "execution_count": 4,
   "id": "orange-bulletin",
   "metadata": {},
   "outputs": [],
   "source": [
    "def hist1D(ax, df, var, bins = None, cuts=None, y_err=False, color=None, lalpha=1, falpha=0.4, normed=False, filled = False, density = False, params={}, label=None):\n",
    "    #select next color in colormap for use in line and fill.\n",
    "    if color is None:\n",
    "        color = next(ax._get_lines.prop_cycler)['color']\n",
    "    \n",
    "    if cuts is not None: \n",
    "        data = df[var[0]][cuts]\n",
    "    else:\n",
    "        data = df[var[0]]\n",
    "        \n",
    "    #calculate area under the curve if wanting normalised plot    \n",
    "    weights = None\n",
    "    if normed is True:\n",
    "        entries, edges = np.histogram(\n",
    "            data,\n",
    "            range = (var[1][1], var[1][2]),\n",
    "            bins = var[1][0]        \n",
    "        )\n",
    "      \n",
    "        integral = sum(np.diff(edges)*entries)\n",
    "        weights = np.ones_like(data)/integral\n",
    "        \n",
    "    if bins is None: \n",
    "        bins = var[1][0]\n",
    "    \n",
    "    #Draw histogram\n",
    "    entries,edges,_ = ax.hist(data,\n",
    "    range = (var[1][1], var[1][2]),\n",
    "    bins = bins,\n",
    "    density = density,\n",
    "    weights=weights,\n",
    "    histtype = 'step',\n",
    "    linewidth = 1.5,\n",
    "    alpha=lalpha,\n",
    "    color = color,\n",
    "    label=label,\n",
    "    **params\n",
    "    )\n",
    " \n",
    "    #fill area under histo if set\n",
    "    if filled is True:\n",
    "        # brute-force: drawing it again to allow separate alpha(opacity) to be used\n",
    "        h = ax.hist(data,\n",
    "            range = (var[1][1], var[1][2]),\n",
    "            bins = bins,\n",
    "            density = density,\n",
    "            weights=weights,\n",
    "            histtype = 'step',\n",
    "            linewidth = None,\n",
    "            fill = True,\n",
    "            alpha = falpha,\n",
    "            color = color\n",
    "            )\n",
    "        \n",
    "    #error bars    \n",
    "    if y_err is True:\n",
    "        if normed is True: \n",
    "            yerr = np.sqrt(entries)/integral\n",
    "            entries = entries/integral\n",
    "        else:\n",
    "            entries, edges = np.histogram(\n",
    "                data,\n",
    "                range = (var[1][1], var[1][2]),\n",
    "                bins = bins       \n",
    "            )\n",
    "            yerr = np.sqrt(entries)\n",
    "            \n",
    "        bin_width = edges[1]-edges[0]\n",
    "        bin_centers = edges[:-1] + bin_width/2\n",
    "        ax.errorbar(bin_centers, entries, yerr=yerr, color='r', ls='', alpha=0.6, label='err', elinewidth=0.6)\n",
    "        \n",
    "        \n",
    "    #deal with automatic y-axis scaling funk\n",
    "    # if normed is True:\n",
    "    #     #axes = plt.gca()\n",
    "    #     ax.set_ylim([0,max(entries/integral)*1.1])\n",
    "\n",
    "    ax.set_xlabel(var[2])\n",
    "    ax.set_xlim(var[1][1], var[1][2])\n",
    "\n",
    "    \n",
    "    return #(entries, edges, yerr)"
   ]
  },
  {
   "cell_type": "code",
   "execution_count": 5,
   "id": "caring-neighbor",
   "metadata": {},
   "outputs": [],
   "source": [
    "#list(MC_df.columns)"
   ]
  },
  {
   "cell_type": "code",
   "execution_count": 6,
   "id": "fuzzy-third",
   "metadata": {},
   "outputs": [],
   "source": [
    "'''\n",
    "Lists through the columns in the df beginning with Pi0,\n",
    "taking the difference between this variable and the corresponding\n",
    "\"true\" value; adding this to a new column prepended \"delta\".\n",
    "'''\n",
    "\n",
    "for var in list(MC_df[[c for c in MC_df if c.startswith('Pi0')]].columns):\n",
    "    d_Str = \"delta\"+var\n",
    "    tru_Str = \"tru\"+var\n",
    "    \n",
    "    MC_df[d_Str] = MC_df[var] - MC_df[tru_Str]"
   ]
  },
  {
   "cell_type": "markdown",
   "id": "automotive-vietnam",
   "metadata": {},
   "source": [
    "## Particle Distributions \n",
    "\n",
    "Truth-Matched Distributions for each final-state particle."
   ]
  },
  {
   "cell_type": "code",
   "execution_count": 63,
   "id": "entire-alexandria",
   "metadata": {},
   "outputs": [],
   "source": [
    "bins = 200\n",
    "\n",
    "e_distros = [\n",
    "    [\"Pi0e_px\", (bins, -2, 2), r\"$p_{x}$ $(GeV/c^{2})$\"],\n",
    "    [\"Pi0e_py\", (bins, -2, 2), r\"$p_{y}$ $(GeV/c^{2})$\"],\n",
    "    [\"Pi0e_pz\", (bins, 0, 9), r\"$p_{z}$ $(GeV/c^{2})$\"],\n",
    "    [\"Pi0e_E\", (bins, 0, 9), r\"$E$ $(GeV)$\"],\n",
    "    [\"Pi0e_magP\", (bins, 0, 9), r\"$|p|$ $(GeV/c^{2})$\"],\n",
    "    [\"Pi0e_pT\", (bins, 0, 2), r\"$p_{T}$ $(GeV/c^{2})$\"],\n",
    "    [\"Pi0e_theta\", (bins, 0, 50), r\"$\\theta$ $(^{\\circ})$\"],\n",
    "    [\"Pi0e_phi\", (bins, -185, 185), r\"$\\phi$ $(^{\\circ})$\"]\n",
    "]\n",
    "\n",
    "e_t_distros = [\n",
    "    [\"truPi0e_px\", (bins, -2, 2), r\"$p_{x}$ $(GeV/c^{2})$\"],\n",
    "    [\"truPi0e_py\", (bins, -2, 2), r\"$p_{y}$ $(GeV/c^{2})$\"],\n",
    "    [\"truPi0e_pz\", (bins, 0, 9), r\"$p_{z}$ $(GeV/c^{2})$\"],\n",
    "    [\"truPi0e_E\", (bins, 0, 9), r\"$E$ $(GeV)$\"],\n",
    "    [\"truPi0e_magP\", (bins, 0, 9), r\"$|p|$ $(GeV/c^{2})$\"],\n",
    "    [\"truPi0e_pT\", (bins, 0, 2), r\"$p_{T}$ $(GeV/c^{2})$\"],\n",
    "    [\"truPi0e_theta\", (bins, 0, 50), r\"$\\theta$ $(^{\\circ})$\"],\n",
    "    [\"truPi0e_phi\", (bins, -185, 185), r\"$\\phi$ $(^{\\circ})$\"]\n",
    "]"
   ]
  },
  {
   "cell_type": "code",
   "execution_count": 64,
   "id": "fifty-harbor",
   "metadata": {},
   "outputs": [
    {
     "data": {
      "application/vnd.jupyter.widget-view+json": {
       "model_id": "4894613c64ef4881ac69399251357ea8",
       "version_major": 2,
       "version_minor": 0
      },
      "text/plain": [
       "Canvas(toolbar=Toolbar(toolitems=[('Home', 'Reset original view', 'home', 'home'), ('Back', 'Back to previous …"
      ]
     },
     "metadata": {},
     "output_type": "display_data"
    }
   ],
   "source": [
    "fig1, ax1 = plt.subplots(2,4, figsize=(15,10))\n",
    "\n",
    "ax1=ax1.flatten()\n",
    "\n",
    "fig1.suptitle('electrons', fontsize=16)\n",
    "\n",
    "for i, distro in enumerate(e_distros):\n",
    "    hist1D(ax1[i], MC_df, distro, cuts=(MC_df.Truth==1))\n",
    "    \n",
    "for i, distro in enumerate(e_t_distros):\n",
    "    ax=ax1[i].twinx()\n",
    "\n",
    "    hist1D(ax, MC_df, distro, cuts=(MC_df.Truth==1), color='brown', lalpha=0.7)"
   ]
  },
  {
   "cell_type": "code",
   "execution_count": 65,
   "id": "organizational-meaning",
   "metadata": {},
   "outputs": [],
   "source": [
    "bins = 120\n",
    "\n",
    "neut_distros = [\n",
    "    [\"Pi0rec_px\", (bins, -2, 2), r\"$p_{x}$ $(GeV/c^{2})$\"],\n",
    "    [\"Pi0rec_py\", (bins, -2, 2), r\"$p_{y}$ $(GeV/c^{2})$\"],\n",
    "    [\"Pi0rec_pz\", (bins, 0, 2), r\"$p_{z}$ $(GeV/c^{2})$\"],\n",
    "    [\"Pi0rec_E\", (bins, 0.5, 2.5), r\"$E$ $(GeV)$\"],\n",
    "    [\"Pi0rec_magP\", (bins, 0, 2), r\"$|p|$ $(GeV/c^{2})$\"],\n",
    "    [\"Pi0rec_pT\", (bins, 0, 1.55), r\"$p_{T}$ $(GeV/c^{2})$\"],\n",
    "    [\"Pi0rec_theta\", (bins, 0, 180), r\"$\\theta$ $(^{\\circ})$\"],\n",
    "    [\"Pi0rec_phi\", (48, -180, 180), r\"$\\phi$ $(^{\\circ})$\"]\n",
    "]\n",
    "\n",
    "neut_t_distros = [\n",
    "    [\"truPi0rec_px\", (bins, -2, 2), r\"$p_{x}$ $(GeV/c^{2})$\"],\n",
    "    [\"truPi0rec_py\", (bins, -2, 2), r\"$p_{y}$ $(GeV/c^{2})$\"],\n",
    "    [\"truPi0rec_pz\", (bins, 0, 2), r\"$p_{z}$ $(GeV/c^{2})$\"],\n",
    "    [\"truPi0rec_E\", (bins, 0.5, 2.5), r\"$E$ $(GeV)$\"],\n",
    "    [\"truPi0rec_magP\", (bins, 0, 2), r\"$|p|$ $(GeV/c^{2})$\"],\n",
    "    [\"truPi0rec_pT\", (bins, 0, 1.55), r\"$p_{T}$ $(GeV/c^{2})$\"],\n",
    "    [\"truPi0rec_theta\", (bins, 0, 120), r\"$\\theta$ $(^{\\circ})$\"],\n",
    "    [\"truPi0rec_phi\", (48, -120, 180), r\"$\\phi$ $(^{\\circ})$\"]\n",
    "]"
   ]
  },
  {
   "cell_type": "code",
   "execution_count": 66,
   "id": "discrete-beast",
   "metadata": {},
   "outputs": [
    {
     "data": {
      "application/vnd.jupyter.widget-view+json": {
       "model_id": "c9b012865e3a4e8e82c5834d11645229",
       "version_major": 2,
       "version_minor": 0
      },
      "text/plain": [
       "Canvas(toolbar=Toolbar(toolitems=[('Home', 'Reset original view', 'home', 'home'), ('Back', 'Back to previous …"
      ]
     },
     "metadata": {},
     "output_type": "display_data"
    }
   ],
   "source": [
    "fig2, ax2 = plt.subplots(2,4, figsize=(15,10))\n",
    "ax2=ax2.flatten()\n",
    "\n",
    "fig2.suptitle('neutrons', fontsize=16)\n",
    "\n",
    "for i, distro in enumerate(neut_distros):\n",
    "    hist1D(ax2[i], MC_df, distro, cuts=(MC_df.Truth==1))\n",
    "    \n",
    "for i, distro in enumerate(neut_t_distros):\n",
    "    ax=ax2[i].twinx()\n",
    "\n",
    "    hist1D(ax, MC_df, distro, cuts=(MC_df.Truth==1), color='brown', lalpha=0.7)"
   ]
  },
  {
   "cell_type": "code",
   "execution_count": 67,
   "id": "unsigned-physics",
   "metadata": {},
   "outputs": [],
   "source": [
    "bins = 200\n",
    "\n",
    "phot1_distros = [\n",
    "    [\"Pi0phot1_px\", (bins, -1.75, 1.75), r\"$p_{x}$ $(GeV/c^{2})$\"],\n",
    "    [\"Pi0phot1_py\", (bins, -1.75, 1.75), r\"$p_{y}$ $(GeV/c^{2})$\"],\n",
    "    [\"Pi0phot1_pz\", (bins, 0, 8), r\"$p_{z}$ $(GeV/c^{2})$\"],\n",
    "    [\"Pi0phot1_E\", (bins, 0, 8), r\"$ E$ $(GeV)$\"],\n",
    "    [\"Pi0phot1_magP\", (bins, 0, 8), r\"$|p|$ $(GeV/c^{2})$\"],\n",
    "    [\"Pi0phot1_pT\", (bins, 0, 2), r\"$p_{T}$ $(GeV/c^{2})$\"],\n",
    "    [\"Pi0phot1_theta\", (bins, 0, 40), r\"$\\theta$ $(^{\\circ})$\"],\n",
    "    [\"Pi0phot1_phi\", (bins, -180, 180), r\"$\\phi$ $(^{\\circ})$\"]\n",
    "]\n",
    "\n",
    "phot1_t_distros = [\n",
    "    [\"truPi0phot1_px\", (bins, -1.75, 1.75), r\"$p_{x}$ $(GeV/c^{2})$\"],\n",
    "    [\"truPi0phot1_py\", (bins, -1.75, 1.75), r\"$p_{y}$ $(GeV/c^{2})$\"],\n",
    "    [\"truPi0phot1_pz\", (bins, 0, 8), r\"$p_{z}$ $(GeV/c^{2})$\"],\n",
    "    [\"truPi0phot1_E\", (bins, 0, 8), r\"$ E$ $(GeV)$\"],\n",
    "    [\"truPi0phot1_magP\", (bins, 0, 8), r\"$|p|$ $(GeV/c^{2})$\"],\n",
    "    [\"truPi0phot1_pT\", (bins, 0, 2), r\"$p_{T}$ $(GeV/c^{2})$\"],\n",
    "    [\"truPi0phot1_theta\", (bins, 0, 40), r\"$\\theta$ $(^{\\circ})$\"],\n",
    "    [\"truPi0phot1_phi\", (bins, -180, 180), r\"$\\phi$ $(^{\\circ})$\"]\n",
    "]"
   ]
  },
  {
   "cell_type": "code",
   "execution_count": 68,
   "id": "atomic-easter",
   "metadata": {},
   "outputs": [
    {
     "data": {
      "application/vnd.jupyter.widget-view+json": {
       "model_id": "58dc769f233c4398a8aeab4967367f84",
       "version_major": 2,
       "version_minor": 0
      },
      "text/plain": [
       "Canvas(toolbar=Toolbar(toolitems=[('Home', 'Reset original view', 'home', 'home'), ('Back', 'Back to previous …"
      ]
     },
     "metadata": {},
     "output_type": "display_data"
    }
   ],
   "source": [
    "fig3, ax3 = plt.subplots(2,4, figsize=(15,10))\n",
    "ax3=ax3.flatten()\n",
    "\n",
    "fig3.suptitle('photons (1)', fontsize=16)\n",
    "\n",
    "for i, distro in enumerate(phot1_distros):\n",
    "    hist1D(ax3[i], MC_df, distro, cuts=(MC_df.Truth==1))\n",
    "    \n",
    "for i, distro in enumerate(phot1_t_distros):\n",
    "    ax=ax3[i].twinx()\n",
    "\n",
    "    hist1D(ax, MC_df, distro, cuts=(MC_df.Truth==1), color='brown', lalpha=0.7)"
   ]
  },
  {
   "cell_type": "code",
   "execution_count": 69,
   "id": "experienced-tobacco",
   "metadata": {},
   "outputs": [],
   "source": [
    "bins = 200\n",
    "\n",
    "phot2_distros = [\n",
    "    [\"Pi0phot2_px\", (bins, -1, 1), r\"$p_{x}$ $(GeV/c^{2})$\"],\n",
    "    [\"Pi0phot2_py\", (bins, -1, 1), r\"$p_{y}$ $(GeV/c^{2})$\"],\n",
    "    [\"Pi0phot2_pz\", (bins, 0, 4), r\"$p_{z}$ $(GeV/c^{2})$\"],\n",
    "    [\"Pi0phot2_E\", (bins, 0, 4), r\"$ E$ $(GeV)$\"],\n",
    "    [\"Pi0phot2_magP\", (bins, 0, 4), r\"$|p|$ $(GeV/c^{2})$\"],\n",
    "    [\"Pi0phot2_pT\", (bins, 0, 1), r\"$p_{T}$ $(GeV/c^{2})$\"],\n",
    "    [\"Pi0phot2_theta\", (bins, 0, 40), r\"$\\theta$ $(^{\\circ})$\"],\n",
    "    [\"Pi0phot2_phi\", (bins, -180, 180), r\"$\\phi$ $(^{\\circ})$\"]\n",
    "]\n",
    "\n",
    "phot2_t_distros = [\n",
    "    [\"truPi0phot2_px\", (bins, -1, 1), r\"$p_{x}$ $(GeV/c^{2})$\"],\n",
    "    [\"truPi0phot2_py\", (bins, -1, 1), r\"$p_{y}$ $(GeV/c^{2})$\"],\n",
    "    [\"truPi0phot2_pz\", (bins, 0, 4), r\"$p_{z}$ $(GeV/c^{2})$\"],\n",
    "    [\"truPi0phot2_E\", (bins, 0, 4), r\"$ E$ $(GeV)$\"],\n",
    "    [\"truPi0phot2_magP\", (bins, 0, 4), r\"$|p|$ $(GeV/c^{2})$\"],\n",
    "    [\"truPi0phot2_pT\", (bins, 0, 1), r\"$p_{T}$ $(GeV/c^{2})$\"],\n",
    "    [\"truPi0phot2_theta\", (bins, 0, 40), r\"$\\theta$ $(^{\\circ})$\"],\n",
    "    [\"truPi0phot2_phi\", (bins, -180, 180), r\"$\\phi$ $(^{\\circ})$\"]\n",
    "]"
   ]
  },
  {
   "cell_type": "code",
   "execution_count": 70,
   "id": "spare-seminar",
   "metadata": {},
   "outputs": [
    {
     "data": {
      "application/vnd.jupyter.widget-view+json": {
       "model_id": "b9ad3c04948c4adb89726aeb1a2b7581",
       "version_major": 2,
       "version_minor": 0
      },
      "text/plain": [
       "Canvas(toolbar=Toolbar(toolitems=[('Home', 'Reset original view', 'home', 'home'), ('Back', 'Back to previous …"
      ]
     },
     "metadata": {},
     "output_type": "display_data"
    }
   ],
   "source": [
    "fig4, ax4 = plt.subplots(2,4, figsize=(15,10))\n",
    "ax4=ax4.flatten()\n",
    "\n",
    "fig4.suptitle('photons (2)', fontsize=16)\n",
    "\n",
    "for i, distro in enumerate(phot2_distros):\n",
    "    hist1D(ax4[i], MC_df, distro, cuts=(MC_df.Truth==1))\n",
    "    \n",
    "for i, distro in enumerate(phot2_t_distros):\n",
    "    ax=ax4[i].twinx()\n",
    "\n",
    "    hist1D(ax, MC_df, distro, cuts=(MC_df.Truth==1), color='brown', lalpha=0.7)"
   ]
  },
  {
   "cell_type": "markdown",
   "id": "breathing-revision",
   "metadata": {},
   "source": [
    "## Particle Distributions - 'Trimmed'\n",
    "Truth-Matched Distributions for each final-state particle, with some additional cuts so isolate desired events:\n",
    "\n",
    "   * 3$\\sigma$ $\\pi_{0}$-mass cut\n",
    "   * Neutrons\n",
    "      * CND only\n",
    "      * |p| > 350 MeV\n",
    "   * Photons\n",
    "      * Require hit in the PCAL"
   ]
  },
  {
   "cell_type": "code",
   "execution_count": 71,
   "id": "viral-reverse",
   "metadata": {},
   "outputs": [],
   "source": [
    "cuts = [\n",
    "    (MC_df.Pi0flag_cut_3sigPi0IM == 1),\n",
    "    ((MC_df.Pi0rec_status > 3990) & (MC_df.Pi0rec_status < 4150)),\n",
    "    (MC_df.Pi0rec_magP >= 0.35),\n",
    "    (MC_df.hitPCAL == 1),\n",
    "    (MC_df.Truth==1)\n",
    "]\n",
    "\n",
    "cut = ft.reduce(lambda x, y: x & y, cuts[:])\n"
   ]
  },
  {
   "cell_type": "code",
   "execution_count": 72,
   "id": "metallic-universe",
   "metadata": {},
   "outputs": [
    {
     "data": {
      "application/vnd.jupyter.widget-view+json": {
       "model_id": "04eb5ee18c894129855e9a202f66a5df",
       "version_major": 2,
       "version_minor": 0
      },
      "text/plain": [
       "Canvas(toolbar=Toolbar(toolitems=[('Home', 'Reset original view', 'home', 'home'), ('Back', 'Back to previous …"
      ]
     },
     "metadata": {},
     "output_type": "display_data"
    }
   ],
   "source": [
    "fig5, ax5 = plt.subplots(2,4, figsize=(15,10))\n",
    "ax5=ax5.flatten()\n",
    "\n",
    "fig5.suptitle('electrons', fontsize=16)\n",
    "\n",
    "for i, distro in enumerate(e_distros):\n",
    "    hist1D(ax5[i], MC_df, distro, cuts=cut)\n",
    "\n",
    "for i, distro in enumerate(e_t_distros):\n",
    "    ax=ax5[i].twinx()\n",
    "\n",
    "    hist1D(ax, MC_df, distro, cuts=cut, color='brown', lalpha=0.7)"
   ]
  },
  {
   "cell_type": "code",
   "execution_count": 73,
   "id": "congressional-rhythm",
   "metadata": {},
   "outputs": [
    {
     "data": {
      "application/vnd.jupyter.widget-view+json": {
       "model_id": "8d20ddaacb8a45859dd6a8620487c64c",
       "version_major": 2,
       "version_minor": 0
      },
      "text/plain": [
       "Canvas(toolbar=Toolbar(toolitems=[('Home', 'Reset original view', 'home', 'home'), ('Back', 'Back to previous …"
      ]
     },
     "metadata": {},
     "output_type": "display_data"
    }
   ],
   "source": [
    "fig6, ax6 = plt.subplots(2,4, figsize=(15,10))\n",
    "ax6=ax6.flatten()\n",
    "\n",
    "fig6.suptitle('neutrons', fontsize=16)\n",
    "\n",
    "for i, distro in enumerate(neut_distros):\n",
    "    hist1D(ax6[i], MC_df, distro, cuts=cut)\n",
    "    \n",
    "for i, distro in enumerate(neut_t_distros):\n",
    "    ax=ax6[i].twinx()\n",
    "\n",
    "    hist1D(ax, MC_df, distro, cuts=cut, color='brown', lalpha=0.7)"
   ]
  },
  {
   "cell_type": "code",
   "execution_count": 74,
   "id": "bridal-pricing",
   "metadata": {},
   "outputs": [
    {
     "data": {
      "application/vnd.jupyter.widget-view+json": {
       "model_id": "a6e3667453cd438b8ad3fc3965f99798",
       "version_major": 2,
       "version_minor": 0
      },
      "text/plain": [
       "Canvas(toolbar=Toolbar(toolitems=[('Home', 'Reset original view', 'home', 'home'), ('Back', 'Back to previous …"
      ]
     },
     "metadata": {},
     "output_type": "display_data"
    }
   ],
   "source": [
    "fig7, ax7 = plt.subplots(2,4, figsize=(15,10))\n",
    "ax7=ax7.flatten()\n",
    "\n",
    "fig7.suptitle('photons (1)', fontsize=16)\n",
    "\n",
    "for i, distro in enumerate(phot1_distros):\n",
    "    hist1D(ax7[i], MC_df, distro, cuts=cut)\n",
    "    \n",
    "for i, distro in enumerate(phot1_t_distros):\n",
    "    ax=ax7[i].twinx()\n",
    "\n",
    "    hist1D(ax, MC_df, distro, cuts=cut, color='brown', lalpha=0.7)"
   ]
  },
  {
   "cell_type": "code",
   "execution_count": 75,
   "id": "modular-savannah",
   "metadata": {},
   "outputs": [
    {
     "data": {
      "application/vnd.jupyter.widget-view+json": {
       "model_id": "450c182eb3ed4d599307e88bf5361bb6",
       "version_major": 2,
       "version_minor": 0
      },
      "text/plain": [
       "Canvas(toolbar=Toolbar(toolitems=[('Home', 'Reset original view', 'home', 'home'), ('Back', 'Back to previous …"
      ]
     },
     "metadata": {},
     "output_type": "display_data"
    }
   ],
   "source": [
    "fig8, ax8 = plt.subplots(2,4, figsize=(15,10))\n",
    "ax8=ax8.flatten()\n",
    "\n",
    "fig8.suptitle('photons (2)', fontsize=16)\n",
    "\n",
    "for i, distro in enumerate(phot2_distros):\n",
    "    hist1D(ax8[i], MC_df, distro, cuts=cut)\n",
    "    \n",
    "for i, distro in enumerate(phot2_t_distros):\n",
    "    ax=ax8[i].twinx()\n",
    "\n",
    "    hist1D(ax, MC_df, distro, cuts=cut, color='brown', lalpha=0.7)"
   ]
  },
  {
   "cell_type": "markdown",
   "id": "smart-draft",
   "metadata": {},
   "source": [
    "## Differences"
   ]
  },
  {
   "cell_type": "code",
   "execution_count": 76,
   "id": "jewish-sitting",
   "metadata": {},
   "outputs": [],
   "source": [
    "e_diff = [\n",
    "    ['deltaPi0e_px', (100, -1, 1), r\"$\\delta p_{x}$\"],\n",
    "    ['deltaPi0e_py', (100, -1, 1), r\"$\\delta p_{y}$\"],\n",
    "    ['deltaPi0e_pz', (100, -1, 1), r\"$\\delta p_{z}$\"],\n",
    "    ['deltaPi0e_E', (100, -1, 1), r\"$\\delta E$\"],\n",
    "    ['deltaPi0e_magP', (100, -1, 1), r\"$\\delta |p|$\"],\n",
    "    ['deltaPi0e_pT', (100, -1, 1), r\"$\\delta p_{T}$\"],\n",
    "    ['deltaPi0e_theta', (100, -1, 1), r\"$\\delta \\theta$\"],\n",
    "    ['deltaPi0e_phi', (100, -2, 2), r\"$\\delta \\phi$\"]\n",
    "]"
   ]
  },
  {
   "cell_type": "code",
   "execution_count": 77,
   "id": "eastern-summer",
   "metadata": {},
   "outputs": [
    {
     "data": {
      "application/vnd.jupyter.widget-view+json": {
       "model_id": "e98773d87e3e43a88e322122f3917648",
       "version_major": 2,
       "version_minor": 0
      },
      "text/plain": [
       "Canvas(toolbar=Toolbar(toolitems=[('Home', 'Reset original view', 'home', 'home'), ('Back', 'Back to previous …"
      ]
     },
     "metadata": {},
     "output_type": "display_data"
    }
   ],
   "source": [
    "fig9, ax9 = plt.subplots(2,4, figsize=(15,10))\n",
    "ax9=ax9.flatten()\n",
    "\n",
    "fig9.suptitle('electron (rec - gen)', fontsize=16)\n",
    "\n",
    "for i, distro in enumerate(e_diff):\n",
    "    hist1D(ax9[i], MC_df, distro, cuts=cut, color='orangered', lalpha=0.7)"
   ]
  },
  {
   "cell_type": "code",
   "execution_count": 78,
   "id": "controlled-keeping",
   "metadata": {},
   "outputs": [],
   "source": [
    "neut_diff = [\n",
    "    ['deltaPi0rec_px', (100, -1, 1), r\"$\\delta p_{x}$\"],\n",
    "    ['deltaPi0rec_py', (100, -1, 1), r\"$\\delta p_{y}$\"],\n",
    "    ['deltaPi0rec_pz', (100, -1, 1), r\"$\\delta p_{z}$\"],\n",
    "    ['deltaPi0rec_E', (100, -1, 1), r\"$\\delta E$\"],\n",
    "    ['deltaPi0rec_magP', (100, -1, 1), r\"$\\delta |p|$\"],\n",
    "    ['deltaPi0rec_pT', (100, -1, 1), r\"$\\delta p_{T}$\"],\n",
    "    ['deltaPi0rec_theta', (100, -10, 10), r\"$\\delta \\theta$\"],\n",
    "    ['deltaPi0rec_phi', (100, -20, 20), r\"$\\delta \\phi$\"]\n",
    "]"
   ]
  },
  {
   "cell_type": "code",
   "execution_count": 79,
   "id": "played-matter",
   "metadata": {},
   "outputs": [
    {
     "data": {
      "application/vnd.jupyter.widget-view+json": {
       "model_id": "9c082be5728a46409c22f70574d73c63",
       "version_major": 2,
       "version_minor": 0
      },
      "text/plain": [
       "Canvas(toolbar=Toolbar(toolitems=[('Home', 'Reset original view', 'home', 'home'), ('Back', 'Back to previous …"
      ]
     },
     "metadata": {},
     "output_type": "display_data"
    }
   ],
   "source": [
    "fig10, ax10 = plt.subplots(2,4, figsize=(15,10))\n",
    "ax10=ax10.flatten()\n",
    "\n",
    "fig10.suptitle('neutron (rec - gen)', fontsize=16)\n",
    "\n",
    "for i, distro in enumerate(neut_diff):\n",
    "    hist1D(ax10[i], MC_df, distro, cuts=cut, color='orangered', lalpha=0.7)"
   ]
  },
  {
   "cell_type": "code",
   "execution_count": 80,
   "id": "champion-snapshot",
   "metadata": {},
   "outputs": [
    {
     "data": {
      "application/vnd.jupyter.widget-view+json": {
       "model_id": "009e8cd02b47455e8182c04f6b166fcd",
       "version_major": 2,
       "version_minor": 0
      },
      "text/plain": [
       "Canvas(toolbar=Toolbar(toolitems=[('Home', 'Reset original view', 'home', 'home'), ('Back', 'Back to previous …"
      ]
     },
     "metadata": {},
     "output_type": "display_data"
    }
   ],
   "source": [
    "neut_angles= [\n",
    "    \n",
    "    [\"deltaPi0rec_theta\", (200, -40, 50), r\"$\\delta\\theta$ $(^{\\circ})$\"],\n",
    "    [\"deltaPi0rec_phi\", (200, -60, 60), r\"$\\delta\\phi$ $(^{\\circ})$\"]\n",
    "]\n",
    "\n",
    "fig10b, ax10b = plt.subplots(1,2, figsize=(10,5))\n",
    "ax10b=ax10b.flatten()\n",
    "\n",
    "fig10b.suptitle('neutron (rec - gen) - wide range angles', fontsize=16)\n",
    "\n",
    "for i, distro in enumerate(neut_angles):\n",
    "    hist1D(ax10b[i], MC_df, distro, cuts=cut, color='orangered', lalpha=0.7)"
   ]
  },
  {
   "cell_type": "code",
   "execution_count": 81,
   "id": "elder-laser",
   "metadata": {},
   "outputs": [],
   "source": [
    "phot1_diff = [\n",
    "    ['deltaPi0phot1_px', (100, -1, 1), r\"$\\delta p_{x}$\"],\n",
    "    ['deltaPi0phot1_py', (100, -1, 1), r\"$\\delta p_{y}$\"],\n",
    "    ['deltaPi0phot1_pz', (100, -1, 1), r\"$\\delta p_{z}$\"],\n",
    "    ['deltaPi0phot1_E', (100, -1, 1), r\"$\\delta E$\"],\n",
    "    ['deltaPi0phot1_magP', (100, -1, 1), r\"$\\delta |p|$\"],\n",
    "    ['deltaPi0phot1_pT', (100, -1, 1), r\"$\\delta p_{T}$\"],\n",
    "    ['deltaPi0phot1_theta', (100, -5, 5), r\"$\\delta \\theta$\"],\n",
    "    ['deltaPi0phot1_phi', (100, -5, 5), r\"$\\delta \\phi$\"]\n",
    "]"
   ]
  },
  {
   "cell_type": "code",
   "execution_count": 82,
   "id": "fitted-converter",
   "metadata": {},
   "outputs": [
    {
     "data": {
      "application/vnd.jupyter.widget-view+json": {
       "model_id": "feab1fb4a4a4432886da27bfc1950810",
       "version_major": 2,
       "version_minor": 0
      },
      "text/plain": [
       "Canvas(toolbar=Toolbar(toolitems=[('Home', 'Reset original view', 'home', 'home'), ('Back', 'Back to previous …"
      ]
     },
     "metadata": {},
     "output_type": "display_data"
    }
   ],
   "source": [
    "fig11, ax11 = plt.subplots(2,4, figsize=(15,10))\n",
    "ax11=ax11.flatten()\n",
    "\n",
    "fig11.suptitle('photon(1) (rec - gen)', fontsize=16)\n",
    "\n",
    "for i, distro in enumerate(phot1_diff):\n",
    "    hist1D(ax11[i], MC_df, distro, cuts=cut, color='orangered', lalpha=0.7)"
   ]
  },
  {
   "cell_type": "code",
   "execution_count": 83,
   "id": "productive-instrumentation",
   "metadata": {},
   "outputs": [],
   "source": [
    "phot2_diff = [\n",
    "    ['deltaPi0phot2_px', (100, -1, 1), r\"$\\delta p_{x}$\"],\n",
    "    ['deltaPi0phot2_py', (100, -1, 1), r\"$\\delta p_{y}$\"],\n",
    "    ['deltaPi0phot2_pz', (100, -1, 1), r\"$\\delta p_{z}$\"],\n",
    "    ['deltaPi0phot2_E', (100, -1, 1), r\"$\\delta E$\"],\n",
    "    ['deltaPi0phot2_magP', (100, -1, 1), r\"$\\delta |p|$\"],\n",
    "    ['deltaPi0phot2_pT', (100, -1, 1), r\"$\\delta p_{T}$\"],\n",
    "    ['deltaPi0phot2_theta', (100, -5, 5), r\"$\\delta \\theta$\"],\n",
    "    ['deltaPi0phot2_phi', (100, -5, 5), r\"$\\delta \\phi$\"]\n",
    "]"
   ]
  },
  {
   "cell_type": "code",
   "execution_count": 84,
   "id": "printable-monkey",
   "metadata": {},
   "outputs": [
    {
     "data": {
      "application/vnd.jupyter.widget-view+json": {
       "model_id": "a65b2679fd6c48bfbc5ca2b842449578",
       "version_major": 2,
       "version_minor": 0
      },
      "text/plain": [
       "Canvas(toolbar=Toolbar(toolitems=[('Home', 'Reset original view', 'home', 'home'), ('Back', 'Back to previous …"
      ]
     },
     "metadata": {},
     "output_type": "display_data"
    }
   ],
   "source": [
    "fig11, ax11 = plt.subplots(2,4, figsize=(15,10))\n",
    "ax11=ax11.flatten()\n",
    "\n",
    "fig11.suptitle('photon(2) (rec - gen)', fontsize=16)\n",
    "\n",
    "for i, distro in enumerate(phot1_diff):\n",
    "    hist1D(ax11[i], MC_df, distro, cuts=cut, color='orangered', lalpha=0.7)"
   ]
  },
  {
   "cell_type": "code",
   "execution_count": 85,
   "id": "increasing-maryland",
   "metadata": {},
   "outputs": [],
   "source": [
    "import sys\n",
    "sys.path.append(\"/home/pauln/code/nicks_plot_utils\")"
   ]
  },
  {
   "cell_type": "code",
   "execution_count": 86,
   "id": "conservative-processor",
   "metadata": {},
   "outputs": [],
   "source": [
    "from nicks_plot_utils import Hist1D as h1d\n",
    "from nicks_plot_utils import Hist2D as h2d"
   ]
  },
  {
   "cell_type": "code",
   "execution_count": 87,
   "id": "minute-picture",
   "metadata": {},
   "outputs": [],
   "source": [
    "plt.style.use('seaborn')\n",
    "plt.rcParams['axes.grid'] = True\n",
    "plt.rcParams['axes.formatter.limits'] = (-3,3)\n",
    "plt.rcParams['axes.formatter.use_mathtext'] = True\n",
    "plt.rcParams['font.size']= 16\n",
    "plt.rcParams['axes.labelsize'] = 14\n",
    "plt.rcParams['axes.titlesize'] = 14\n",
    "plt.rcParams['xtick.labelsize'] = 10\n",
    "plt.rcParams['ytick.labelsize'] = 10"
   ]
  },
  {
   "cell_type": "code",
   "execution_count": 88,
   "id": "standing-output",
   "metadata": {},
   "outputs": [],
   "source": [
    "neut_diff = [\n",
    "    ['deltaPi0rec_px', (100, -.5, .5), r\"$\\delta p_{x}$\"],\n",
    "    ['deltaPi0rec_py', (100, -.5, .5), r\"$\\delta p_{y}$\"],\n",
    "    ['deltaPi0rec_pz', (100, -.5, .5), r\"$\\delta p_{z}$\"],\n",
    "    ['deltaPi0rec_E', (100, -.5, .5), r\"$\\delta E$\"],\n",
    "    ['deltaPi0rec_magP', (100, -.5, .5), r\"$\\delta |p|$\"],\n",
    "    ['deltaPi0rec_pT', (100, -.5, .5), r\"$\\delta p_{T}$\"],\n",
    "    ['deltaPi0rec_theta', (100, -7, 7), r\"$\\delta \\theta$\"]\n",
    "]"
   ]
  },
  {
   "cell_type": "code",
   "execution_count": 89,
   "id": "hollywood-transition",
   "metadata": {},
   "outputs": [],
   "source": [
    "phi_2Ds = []\n",
    "# phi_xrange=[-10,50]\n",
    "# phi_xbins=100\n",
    "\n",
    "for distro in neut_diff:\n",
    "    var = distro[0]\n",
    "    rb = distro[1]\n",
    "    lbl= distro[2]\n",
    "    \n",
    "    h2 = h2d(xrange=[-10,50], xbins=100, yrange=[rb[1],rb[2]], ybins=rb[0], xname=r\"$\\delta \\phi$\", yname=lbl)\n",
    "    h2.fill(MC_df[\"deltaPi0rec_phi\"][cut], MC_df[var][cut])\n",
    "    \n",
    "    phi_2Ds.append(h2)\n",
    "\n"
   ]
  },
  {
   "cell_type": "code",
   "execution_count": 90,
   "id": "tracked-translation",
   "metadata": {},
   "outputs": [],
   "source": [
    "neut_diff = [\n",
    "    ['deltaPi0rec_px', (100, -.5, .5), r\"$\\delta p_{x}$\"],\n",
    "    ['deltaPi0rec_py', (100, -.5, .5), r\"$\\delta p_{y}$\"],\n",
    "    ['deltaPi0rec_pz', (100, -.5, .5), r\"$\\delta p_{z}$\"],\n",
    "    ['deltaPi0rec_E', (100, -.5, .5), r\"$\\delta E$\"],\n",
    "    ['deltaPi0rec_magP', (100, -.5, .5), r\"$\\delta |p|$\"],\n",
    "    ['deltaPi0rec_pT', (100, -.5, .5), r\"$\\delta p_{T}$\"],\n",
    "    ['deltaPi0rec_phi', (100, -10, 50), r\"$\\delta \\phi$\"]\n",
    "]"
   ]
  },
  {
   "cell_type": "code",
   "execution_count": 91,
   "id": "atlantic-superintendent",
   "metadata": {},
   "outputs": [],
   "source": [
    "theta_2Ds = []\n",
    "# phi_xrange=[-10,50]\n",
    "# phi_xbins=100\n",
    "\n",
    "for distro in neut_diff:\n",
    "    var = distro[0]\n",
    "    rb = distro[1]\n",
    "    lbl= distro[2]\n",
    "    \n",
    "    h2 = h2d(xrange=[-15,15], xbins=100, yrange=[rb[1],rb[2]], ybins=rb[0], xname=r\"$\\delta \\theta$\", yname=lbl)\n",
    "    h2.fill(MC_df[\"deltaPi0rec_theta\"][cut], MC_df[var][cut])\n",
    "    \n",
    "    theta_2Ds.append(h2)\n",
    "\n"
   ]
  },
  {
   "cell_type": "code",
   "execution_count": 92,
   "id": "wanted-charm",
   "metadata": {},
   "outputs": [
    {
     "data": {
      "application/vnd.jupyter.widget-view+json": {
       "model_id": "20cb5565cf024bc99c77b42102af8ac2",
       "version_major": 2,
       "version_minor": 0
      },
      "text/plain": [
       "Canvas(toolbar=Toolbar(toolitems=[('Home', 'Reset original view', 'home', 'home'), ('Back', 'Back to previous …"
      ]
     },
     "metadata": {},
     "output_type": "display_data"
    }
   ],
   "source": [
    "fig,ax = plt.subplots(7,2, figsize=(15,25))\n",
    "\n",
    "for i,plot in enumerate(zip(phi_2Ds, theta_2Ds)):\n",
    "    plot[0].plot(ax=ax[i][0], density=False)\n",
    "    plot[1].plot(ax=ax[i][1], density=False)\n",
    "    \n",
    "plt.tight_layout()"
   ]
  },
  {
   "cell_type": "markdown",
   "id": "empty-plasma",
   "metadata": {},
   "source": [
    "## Some follow up plots:"
   ]
  },
  {
   "cell_type": "code",
   "execution_count": 93,
   "id": "blank-format",
   "metadata": {},
   "outputs": [
    {
     "data": {
      "text/plain": [
       "Histogram(\n",
       "  Regular(100, -30, 80),\n",
       "  Regular(100, 0, 1.75),\n",
       "  storage=Double()) # Sum: 100275.0 (113067.0 with flow)"
      ]
     },
     "execution_count": 93,
     "metadata": {},
     "output_type": "execute_result"
    }
   ],
   "source": [
    "dphi_theta = h2d(xrange=[-10,50], xbins=100, yrange=[0,70], ybins=100, xname=r\"$\\delta \\phi$\", yname=r\"$\\theta$\")\n",
    "dphi_theta.fill(MC_df[\"deltaPi0rec_phi\"][(MC_df.Truth == 1)], MC_df[\"Pi0rec_theta\"][(MC_df.Truth == 1)])\n",
    "\n",
    "dphi_p = h2d(xrange=[-30,80], xbins=100, yrange=[0,1.75], ybins=100, xname=r\"$\\delta \\phi$\", yname=r\"$|p|$\")\n",
    "dphi_p.fill(MC_df[\"deltaPi0rec_phi\"][(MC_df.Truth == 1)], MC_df[\"Pi0rec_magP\"][(MC_df.Truth == 1)])"
   ]
  },
  {
   "cell_type": "code",
   "execution_count": 94,
   "id": "occupied-plaintiff",
   "metadata": {},
   "outputs": [
    {
     "data": {
      "text/plain": [
       "Histogram(\n",
       "  Regular(100, -30, 80),\n",
       "  Regular(100, 0, 1.75),\n",
       "  storage=Double()) # Sum: 61408.0 (65737.0 with flow)"
      ]
     },
     "execution_count": 94,
     "metadata": {},
     "output_type": "execute_result"
    }
   ],
   "source": [
    "dphi_theta_cut = h2d(xrange=[-10,50], xbins=100, yrange=[0,70], ybins=100, xname=r\"$\\delta \\phi (cut)$\", yname=r\"$\\theta (cut)$\")\n",
    "dphi_theta_cut.fill(MC_df[\"deltaPi0rec_phi\"][cut], MC_df[\"Pi0rec_theta\"][cut])\n",
    "\n",
    "dphi_p_cut = h2d(xrange=[-30,80], xbins=100, yrange=[0,1.75], ybins=100, xname=r\"$\\delta \\phi (cut)$\", yname=r\"$|p| (cut)$\")\n",
    "dphi_p_cut.fill(MC_df[\"deltaPi0rec_phi\"][cut], MC_df[\"Pi0rec_magP\"][cut])"
   ]
  },
  {
   "cell_type": "code",
   "execution_count": 95,
   "id": "respiratory-nursing",
   "metadata": {},
   "outputs": [],
   "source": [
    "n_1D_Phi = h1d(data=MC_df[\"deltaPi0rec_phi\"][cut], xrange=[-30, 80], bins=100)\n"
   ]
  },
  {
   "cell_type": "code",
   "execution_count": 96,
   "id": "numerous-content",
   "metadata": {},
   "outputs": [
    {
     "data": {
      "application/vnd.jupyter.widget-view+json": {
       "model_id": "b74dab39cdd141849092a9b3aaef3fa9",
       "version_major": 2,
       "version_minor": 0
      },
      "text/plain": [
       "Canvas(toolbar=Toolbar(toolitems=[('Home', 'Reset original view', 'home', 'home'), ('Back', 'Back to previous …"
      ]
     },
     "metadata": {},
     "output_type": "display_data"
    },
    {
     "name": "stderr",
     "output_type": "stream",
     "text": [
      "No handles with labels found to put in legend.\n"
     ]
    },
    {
     "data": {
      "text/plain": [
       "<matplotlib.collections.QuadMesh at 0x7f298171ba50>"
      ]
     },
     "execution_count": 96,
     "metadata": {},
     "output_type": "execute_result"
    }
   ],
   "source": [
    "fig, ax = plt.subplots(2,2, figsize=(17,15))\n",
    "ax=ax.flatten()\n",
    "\n",
    "dphi_theta.plot(ax=ax[0], density=False)\n",
    "dphi_p.plot(ax=ax[1], density=False)\n",
    "dphi_theta_cut.plot(ax=ax[2], density=False)\n",
    "n_1D_Phi.histogram(ax=ax[3], density=True, color=\"brown\")\n",
    "dphi_p_cut.plot(ax=ax[3], density=False)\n"
   ]
  },
  {
   "cell_type": "code",
   "execution_count": 97,
   "id": "weighted-database",
   "metadata": {},
   "outputs": [
    {
     "data": {
      "application/vnd.jupyter.widget-view+json": {
       "model_id": "dd094943ccd94063b17a3eb26760e31e",
       "version_major": 2,
       "version_minor": 0
      },
      "text/plain": [
       "Canvas(toolbar=Toolbar(toolitems=[('Home', 'Reset original view', 'home', 'home'), ('Back', 'Back to previous …"
      ]
     },
     "metadata": {},
     "output_type": "display_data"
    }
   ],
   "source": [
    "fig, ax = plt.subplots(1, 3, figsize=(15,5))\n",
    "\n",
    "hist1D(ax[0], MC_df, [\"truPi0rec_phi\", (130, -180, 180), r\"$neutron$ $\\phi$ - [all truth]\"], color='brown', lalpha=.7)\n",
    "\n",
    "axb=ax[1].twinx()\n",
    "hist1D(ax[1], MC_df, [\"Pi0rec_phi\", (48, -180, 180), r\"$neutron$ $\\phi$ -  [truth & True==1]\"], cuts = (MC_df.Truth == 1))\n",
    "hist1D(axb, MC_df, [\"truPi0rec_phi\", (130, -180, 180), r\"$neutron$ $\\phi$ -  [truth & True==1]\"], cuts = (MC_df.Truth == 1), color='brown', lalpha=.7)\n",
    "\n",
    "hist1D(ax[2], MC_df, [\"Pi0rec_phi\", (48, -180, 180), r\"$neutron$ $\\phi$ -  [truth & True==1]\"], cuts = (MC_df.Truth == 1))\n",
    "axc=ax[2].twinx()\n",
    "hist1D(axc, MC_df, [\"truPi0rec_phi\", (48, -180, 180), r\"$neutron$ $\\phi$ - [truth  & True==1]\"], cuts = (MC_df.Truth == 1), color='brown', lalpha=.7)\n",
    "\n",
    "\n",
    "\n",
    "#def hist1D(ax, df, var, bins = None, cuts=None, y_err=False, color=None, lalpha=1, falpha=0.4, normed=False, filled = False, density = False, params={}):\n"
   ]
  },
  {
   "cell_type": "code",
   "execution_count": 98,
   "id": "federal-circumstances",
   "metadata": {},
   "outputs": [],
   "source": [
    "dphi_truPhi = h2d(\n",
    "    ydata=MC_df[\"deltaPi0rec_phi\"][(MC_df.Truth == 1)],\n",
    "    xdata=MC_df[\"truPi0rec_phi\"][(MC_df.Truth == 1)],\n",
    "    yrange=[-10,50], \n",
    "    ybins=100, \n",
    "    xrange=[-180,180], \n",
    "    xbins=48, \n",
    "    yname=r\"$\\delta \\phi (cut)$\", \n",
    "    xname=r\"$true\\ \\phi$\"\n",
    ")\n",
    "\n",
    "dphi_Phi = h2d(\n",
    "    ydata=MC_df[\"deltaPi0rec_phi\"][(MC_df.Truth == 1)],\n",
    "    xdata=MC_df[\"Pi0rec_phi\"][(MC_df.Truth == 1)],\n",
    "    yrange=[-10,50], \n",
    "    ybins=100, \n",
    "    xrange=[-180,180], \n",
    "    xbins=48, \n",
    "    yname=r\"$\\delta \\phi (cut)$\", \n",
    "    xname=r\"$truth-matched\\ \\phi$\"\n",
    ")\n",
    "\n",
    "# n_1D_Phi = h1d(data=MC_df[\"Pi0rec_phi\"][(MC_df.Truth == 1)],\n",
    "#                xrange=[-180, 180],\n",
    "#                bins=48)\n",
    "# n_1D_truPhi = h1d(data=MC_df[\"truPi0rec_phi\"][(MC_df.Truth == 1)],\n",
    "#                xrange=[-180, 180],\n",
    "#                bins=48)"
   ]
  },
  {
   "cell_type": "code",
   "execution_count": 99,
   "id": "hindu-closure",
   "metadata": {},
   "outputs": [
    {
     "data": {
      "application/vnd.jupyter.widget-view+json": {
       "model_id": "70804172c2574082b04cfc57ee0fb0ee",
       "version_major": 2,
       "version_minor": 0
      },
      "text/plain": [
       "Canvas(toolbar=Toolbar(toolitems=[('Home', 'Reset original view', 'home', 'home'), ('Back', 'Back to previous …"
      ]
     },
     "metadata": {},
     "output_type": "display_data"
    },
    {
     "data": {
      "text/plain": [
       "<matplotlib.collections.QuadMesh at 0x7f2980c84d10>"
      ]
     },
     "execution_count": 99,
     "metadata": {},
     "output_type": "execute_result"
    }
   ],
   "source": [
    "fig,ax = plt.subplots(2,2, figsize=(12,10))\n",
    "ax=ax.flatten()\n",
    "\n",
    "hist1D(ax[0], MC_df, [\"truPi0rec_phi\", (48, -180, 180), r\"$neutron$ $\\phi$ - [truth  & True==1]\"], cuts = (MC_df.Truth == 1), color='brown', lalpha=.7)\n",
    "hist1D(ax[1], MC_df, [\"Pi0rec_phi\", (48, -180, 180), r\"$neutron$ $\\phi$ -  [truth & True==1]\"], cuts = (MC_df.Truth == 1))\n",
    "\n",
    "dphi_truPhi.plot(ax=ax[2], density=False, colorbar=False)\n",
    "dphi_Phi.plot(ax=ax[3], density=False, colorbar=False)"
   ]
  },
  {
   "cell_type": "code",
   "execution_count": 100,
   "id": "following-matthew",
   "metadata": {},
   "outputs": [
    {
     "data": {
      "application/vnd.jupyter.widget-view+json": {
       "model_id": "c7a7191b773941c7bff96d7dbe1e15be",
       "version_major": 2,
       "version_minor": 0
      },
      "text/plain": [
       "Canvas(toolbar=Toolbar(toolitems=[('Home', 'Reset original view', 'home', 'home'), ('Back', 'Back to previous …"
      ]
     },
     "metadata": {},
     "output_type": "display_data"
    }
   ],
   "source": [
    "fig,ax = plt.subplots(1,2, figsize=(12,6))\n",
    "\n",
    "\n",
    "dphi_truPhi.plot(ax=ax[0], density=False, colorbar=False)\n",
    "ax0=ax[0].twinx()\n",
    "ax0.grid(False)\n",
    "hist1D(ax0, MC_df, [\"truPi0rec_phi\", (48, -180, 180), r\"$neutron$ $\\phi$ - [truth  & True==1]\"], cuts = (MC_df.Truth == 1), color='brown', lalpha=.7)\n",
    "\n",
    "\n",
    "dphi_Phi.plot(ax=ax[1], density=False, colorbar=False)\n",
    "ax1=ax[1].twinx()\n",
    "ax1.grid(False)\n",
    "hist1D(ax1, MC_df, [\"Pi0rec_phi\", (48, -180, 180), r\"$neutron$ $\\phi$ -  [truth & True==1]\"], cuts = (MC_df.Truth == 1), color=\"blue\", lalpha=.5)\n",
    "\n"
   ]
  },
  {
   "cell_type": "code",
   "execution_count": 101,
   "id": "transsexual-snake",
   "metadata": {},
   "outputs": [],
   "source": [
    "dphi_truPhi = h2d(\n",
    "    ydata=MC_df[\"deltaPi0rec_phi\"][(MC_df.Truth == 1)],\n",
    "    xdata=MC_df[\"truPi0rec_phi\"][(MC_df.Truth == 1)],\n",
    "    yrange=[-9,9], \n",
    "    ybins=10, \n",
    "    xrange=[-180,180], \n",
    "    xbins=48, \n",
    "    yname=r\"$\\delta \\phi (cut)$\", \n",
    "    xname=r\"$true\\ \\phi$\"\n",
    ")\n",
    "\n",
    "dphi_Phi = h2d(\n",
    "    ydata=MC_df[\"deltaPi0rec_phi\"][(MC_df.Truth == 1)],\n",
    "    xdata=MC_df[\"Pi0rec_phi\"][(MC_df.Truth == 1)],\n",
    "    yrange=[-9,9], \n",
    "    ybins=10, \n",
    "    xrange=[-180,180], \n",
    "    xbins=48, \n",
    "    yname=r\"$\\delta \\phi (cut)$\", \n",
    "    xname=r\"$truth-matched\\ \\phi$\"\n",
    ")\n",
    "\n"
   ]
  },
  {
   "cell_type": "code",
   "execution_count": 102,
   "id": "popular-angel",
   "metadata": {},
   "outputs": [
    {
     "data": {
      "application/vnd.jupyter.widget-view+json": {
       "model_id": "01660410d3b14e26b31dafc283fbe33c",
       "version_major": 2,
       "version_minor": 0
      },
      "text/plain": [
       "Canvas(toolbar=Toolbar(toolitems=[('Home', 'Reset original view', 'home', 'home'), ('Back', 'Back to previous …"
      ]
     },
     "metadata": {},
     "output_type": "display_data"
    },
    {
     "data": {
      "text/plain": [
       "<matplotlib.collections.QuadMesh at 0x7f298084ff50>"
      ]
     },
     "execution_count": 102,
     "metadata": {},
     "output_type": "execute_result"
    }
   ],
   "source": [
    "fig,ax = plt.subplots(1,2, figsize=(13,5))\n",
    "dphi_truPhi.plot(ax=ax[0], density=False)\n",
    "dphi_Phi.plot(ax=ax[1], density=False)"
   ]
  },
  {
   "cell_type": "markdown",
   "id": "quarterly-period",
   "metadata": {},
   "source": [
    "## Status Bank for the neutron\n",
    "Parameterises where in the detector suite an event has been detected.\n",
    "   * 4000 => CD hit\n",
    "   * \\+ 100 * N CTOF responses\n",
    "   * \\+ 10 * N CND responses \n",
    "   \n",
    "---\n",
    "\n",
    "We have: \n",
    "   * mostly CND only hits (4010)\n",
    "   * some CTOF only hits (4100)\n",
    "   * a few CTOF and CND events (4110)"
   ]
  },
  {
   "cell_type": "code",
   "execution_count": 103,
   "id": "controlling-gambling",
   "metadata": {},
   "outputs": [
    {
     "data": {
      "application/vnd.jupyter.widget-view+json": {
       "model_id": "b95a7014fb994b6ea1beaf74452af1c0",
       "version_major": 2,
       "version_minor": 0
      },
      "text/plain": [
       "Canvas(toolbar=Toolbar(toolitems=[('Home', 'Reset original view', 'home', 'home'), ('Back', 'Back to previous …"
      ]
     },
     "metadata": {},
     "output_type": "display_data"
    }
   ],
   "source": [
    "fig,ax = plt.subplots()\n",
    "hist1D(ax, MC_df, [\"Pi0rec_status\", (2000, 3950, 4150), r\"$neutron$ $status$\"], color='brown', lalpha=.7)"
   ]
  },
  {
   "cell_type": "code",
   "execution_count": 104,
   "id": "coral-apparel",
   "metadata": {},
   "outputs": [],
   "source": [
    "neut_diff = [\n",
    "    ['deltaPi0rec_px', (100, -1, 1), r\"$\\delta p_{x}$\"],\n",
    "    ['deltaPi0rec_py', (100, -1, 1), r\"$\\delta p_{y}$\"],\n",
    "    ['deltaPi0rec_pz', (100, -1, 1), r\"$\\delta p_{z}$\"],\n",
    "    ['deltaPi0rec_E', (100, -1, 1), r\"$\\delta E$\"],\n",
    "    ['deltaPi0rec_magP', (100, -1, 1), r\"$\\delta |p|$\"],\n",
    "    ['deltaPi0rec_pT', (100, -1, 1), r\"$\\delta p_{T}$\"],\n",
    "    ['deltaPi0rec_theta', (100, -10, 10), r\"$\\delta \\theta$\"],\n",
    "    ['deltaPi0rec_phi', (100, -20, 60), r\"$\\delta \\phi$\"]\n",
    "]"
   ]
  },
  {
   "cell_type": "code",
   "execution_count": 105,
   "id": "dental-federal",
   "metadata": {},
   "outputs": [
    {
     "data": {
      "application/vnd.jupyter.widget-view+json": {
       "model_id": "38f7ddc9964b4b83b677043b22c7d297",
       "version_major": 2,
       "version_minor": 0
      },
      "text/plain": [
       "Canvas(toolbar=Toolbar(toolitems=[('Home', 'Reset original view', 'home', 'home'), ('Back', 'Back to previous …"
      ]
     },
     "metadata": {},
     "output_type": "display_data"
    },
    {
     "data": {
      "text/plain": [
       "<matplotlib.legend.Legend at 0x7f2980627410>"
      ]
     },
     "execution_count": 105,
     "metadata": {},
     "output_type": "execute_result"
    }
   ],
   "source": [
    "fig10, ax10 = plt.subplots(2,4, figsize=(15,10))\n",
    "ax10=ax10.flatten()\n",
    "\n",
    "fig10.suptitle('neutron (rec - gen)', fontsize=16)\n",
    "\n",
    "for i, distro in enumerate(neut_diff):\n",
    "    hist1D(ax10[i], MC_df, distro, cuts=cut&(MC_df.Pi0rec_status==4010), label=\"CND\", bins=50)\n",
    "    hist1D(ax10[i], MC_df, distro, cuts=cut&(MC_df.Pi0rec_status==4100), label=\"CTOF\", bins=50)\n",
    "    hist1D(ax10[i], MC_df, distro, cuts=cut&(MC_df.Pi0rec_status==4110), label=\"CND/CTOF\", bins=50)\n",
    "    \n",
    "ax10[3].legend(loc=1)"
   ]
  },
  {
   "cell_type": "code",
   "execution_count": 106,
   "id": "multiple-picture",
   "metadata": {},
   "outputs": [
    {
     "data": {
      "application/vnd.jupyter.widget-view+json": {
       "model_id": "12c7174b094b4c4d84994d46d2dfd925",
       "version_major": 2,
       "version_minor": 0
      },
      "text/plain": [
       "Canvas(toolbar=Toolbar(toolitems=[('Home', 'Reset original view', 'home', 'home'), ('Back', 'Back to previous …"
      ]
     },
     "metadata": {},
     "output_type": "display_data"
    },
    {
     "data": {
      "text/plain": [
       "<matplotlib.legend.Legend at 0x7f29801f28d0>"
      ]
     },
     "execution_count": 106,
     "metadata": {},
     "output_type": "execute_result"
    }
   ],
   "source": [
    "fig10, ax10 = plt.subplots(2,4, figsize=(15,10))\n",
    "ax10=ax10.flatten()\n",
    "\n",
    "fig10.suptitle('neutron (rec - gen)', fontsize=16)\n",
    "\n",
    "for i, distro in enumerate(neut_diff):\n",
    "    hist1D(ax10[i], MC_df, distro, cuts=cut&(MC_df.Pi0rec_status==4010), density=True, label=\"CND\", bins=50)\n",
    "    hist1D(ax10[i], MC_df, distro, cuts=cut&(MC_df.Pi0rec_status==4100), density=True, label=\"CTOF\", bins=50)\n",
    "    hist1D(ax10[i], MC_df, distro, cuts=cut&(MC_df.Pi0rec_status==4110), density=True, label=\"CND/CTOF\", bins=50)\n",
    "    \n",
    "ax10[3].legend(loc=1)"
   ]
  },
  {
   "cell_type": "code",
   "execution_count": 107,
   "id": "sharp-timothy",
   "metadata": {},
   "outputs": [],
   "source": [
    "dphi_p_stat1 = h2d(\n",
    "    xdata=MC_df[\"deltaPi0rec_phi\"][(MC_df.Truth == 1)&(MC_df.Pi0rec_status==4010)], \n",
    "    ydata=MC_df[\"Pi0rec_magP\"][(MC_df.Truth == 1)&(MC_df.Pi0rec_status==4010)], \n",
    "    xrange=[-30,80], \n",
    "    xbins=100, \n",
    "    yrange=[0,1.75], \n",
    "    ybins=100, \n",
    "    xname=r\"$\\delta \\phi (cut)$\", \n",
    "    yname=r\"$|p| (cut)$\"\n",
    ")\n",
    "\n",
    "dphi_p_stat2 = h2d(\n",
    "    xdata=MC_df[\"deltaPi0rec_phi\"][(MC_df.Truth == 1)&(MC_df.Pi0rec_status==4100)], \n",
    "    ydata=MC_df[\"Pi0rec_magP\"][(MC_df.Truth == 1)&(MC_df.Pi0rec_status==4100)], \n",
    "    xrange=[-30,80], \n",
    "    xbins=70, \n",
    "    yrange=[0,1.75], \n",
    "    ybins=70, \n",
    "    xname=r\"$\\delta \\phi (cut)$\", \n",
    "    yname=r\"$|p| (cut)$\"\n",
    ")\n",
    "\n",
    "dphi_p_stat3 = h2d(\n",
    "    xdata=MC_df[\"deltaPi0rec_phi\"][(MC_df.Truth == 1)&(MC_df.Pi0rec_status==4110)], \n",
    "    ydata=MC_df[\"Pi0rec_magP\"][(MC_df.Truth == 1)&(MC_df.Pi0rec_status==4110)], \n",
    "    xrange=[-30,80], \n",
    "    xbins=30, \n",
    "    yrange=[0,1.75], \n",
    "    ybins=30, \n",
    "    xname=r\"$\\delta \\phi (cut)$\", \n",
    "    yname=r\"$|p| (cut)$\"\n",
    ")\n"
   ]
  },
  {
   "cell_type": "code",
   "execution_count": 108,
   "id": "meaningful-homework",
   "metadata": {},
   "outputs": [
    {
     "data": {
      "application/vnd.jupyter.widget-view+json": {
       "model_id": "556dd3c0782146bf819f0f3ffe4f20cb",
       "version_major": 2,
       "version_minor": 0
      },
      "text/plain": [
       "Canvas(toolbar=Toolbar(toolitems=[('Home', 'Reset original view', 'home', 'home'), ('Back', 'Back to previous …"
      ]
     },
     "metadata": {},
     "output_type": "display_data"
    },
    {
     "data": {
      "text/plain": [
       "<matplotlib.collections.QuadMesh at 0x7f2982e96790>"
      ]
     },
     "execution_count": 108,
     "metadata": {},
     "output_type": "execute_result"
    }
   ],
   "source": [
    "fig,ax = plt.subplots(1,3, figsize=(15,5))\n",
    "\n",
    "dphi_p_stat1.plot(ax=ax[0], density=False)\n",
    "dphi_p_stat2.plot(ax=ax[1], density=False)\n",
    "dphi_p_stat3.plot(ax=ax[2], density=False)"
   ]
  },
  {
   "cell_type": "code",
   "execution_count": 109,
   "id": "hungarian-albuquerque",
   "metadata": {},
   "outputs": [],
   "source": [
    "dphi_phi_stat1 = h2d(\n",
    "    ydata=MC_df[\"deltaPi0rec_phi\"][(MC_df.Truth == 1)&(MC_df.Pi0rec_status==4010)], \n",
    "    xdata=MC_df[\"Pi0rec_phi\"][(MC_df.Truth == 1)&(MC_df.Pi0rec_status==4010)], \n",
    "    yrange=[-10,50], \n",
    "    ybins=80, \n",
    "    xrange=[-180,180], \n",
    "    xbins=48, \n",
    "    yname=r\"$\\delta \\phi (cut)$\", \n",
    "    xname=r\"$\\phi$\"\n",
    ")\n",
    "\n",
    "dphi_phi_stat2 = h2d(\n",
    "    ydata=MC_df[\"deltaPi0rec_phi\"][(MC_df.Truth == 1)&(MC_df.Pi0rec_status==4100)], \n",
    "    xdata=MC_df[\"Pi0rec_phi\"][(MC_df.Truth == 1)&(MC_df.Pi0rec_status==4100)], \n",
    "    yrange=[-10,50], \n",
    "    ybins=60, \n",
    "    xrange=[-180,180], \n",
    "    xbins=48, \n",
    "    yname=r\"$\\delta \\phi (cut)$\", \n",
    "    xname=r\"$\\phi$\"\n",
    ")\n",
    "\n",
    "dphi_phi_stat3 = h2d(\n",
    "    ydata=MC_df[\"deltaPi0rec_phi\"][(MC_df.Truth == 1)&(MC_df.Pi0rec_status==4110)], \n",
    "    xdata=MC_df[\"Pi0rec_phi\"][(MC_df.Truth == 1)&(MC_df.Pi0rec_status==4110)], \n",
    "    yrange=[-10,50], \n",
    "    ybins=20, \n",
    "    xrange=[-180,180], \n",
    "    xbins=48,  \n",
    "    yname=r\"$\\delta \\phi (cut)$\", \n",
    "    xname=r\"$\\phi$\"\n",
    ")\n"
   ]
  },
  {
   "cell_type": "code",
   "execution_count": 110,
   "id": "chief-upgrade",
   "metadata": {},
   "outputs": [
    {
     "data": {
      "application/vnd.jupyter.widget-view+json": {
       "model_id": "8772d9c04eda4bd5850ea7b6c0f95e58",
       "version_major": 2,
       "version_minor": 0
      },
      "text/plain": [
       "Canvas(toolbar=Toolbar(toolitems=[('Home', 'Reset original view', 'home', 'home'), ('Back', 'Back to previous …"
      ]
     },
     "metadata": {},
     "output_type": "display_data"
    },
    {
     "data": {
      "text/plain": [
       "<matplotlib.collections.QuadMesh at 0x7f29806a0250>"
      ]
     },
     "execution_count": 110,
     "metadata": {},
     "output_type": "execute_result"
    }
   ],
   "source": [
    "fig,ax = plt.subplots(1,3, figsize=(15,5))\n",
    "\n",
    "dphi_phi_stat1.plot(ax=ax[0], density=False)\n",
    "dphi_phi_stat2.plot(ax=ax[1], density=False)\n",
    "dphi_phi_stat3.plot(ax=ax[2], density=False)"
   ]
  },
  {
   "cell_type": "code",
   "execution_count": 111,
   "id": "radio-spanish",
   "metadata": {},
   "outputs": [],
   "source": [
    "dphi_Phi_stat1 = h2d(\n",
    "    ydata=MC_df[\"deltaPi0rec_phi\"][(MC_df.Truth == 1)&(MC_df.Pi0rec_status==4010)],\n",
    "    xdata=MC_df[\"Pi0rec_phi\"][(MC_df.Truth == 1)&(MC_df.Pi0rec_status==4010)],\n",
    "    yrange=[-9,9], \n",
    "    ybins=4, \n",
    "    xrange=[-180,180], \n",
    "    xbins=48, \n",
    "    yname=r\"$\\delta \\phi (cut)$\", \n",
    "    xname=r\"$truth-matched\\ \\phi$\"\n",
    ")\n",
    "\n",
    "dphi_Phi_stat2 = h2d(\n",
    "    ydata=MC_df[\"deltaPi0rec_phi\"][(MC_df.Truth == 1)&(MC_df.Pi0rec_status==4100)],\n",
    "    xdata=MC_df[\"Pi0rec_phi\"][(MC_df.Truth == 1)&(MC_df.Pi0rec_status==4100)],\n",
    "    yrange=[-9,9], \n",
    "    ybins=4, \n",
    "    xrange=[-180,180], \n",
    "    xbins=48, \n",
    "    yname=r\"$\\delta \\phi (cut)$\", \n",
    "    xname=r\"$truth-matched\\ \\phi$\"\n",
    ")\n",
    "\n",
    "dphi_Phi_stat3 = h2d(\n",
    "    ydata=MC_df[\"deltaPi0rec_phi\"][(MC_df.Truth == 1)&(MC_df.Pi0rec_status==4110)],\n",
    "    xdata=MC_df[\"Pi0rec_phi\"][(MC_df.Truth == 1)&(MC_df.Pi0rec_status==4110)],\n",
    "    yrange=[-9,9], \n",
    "    ybins=4, \n",
    "    xrange=[-180,180], \n",
    "    xbins=48, \n",
    "    yname=r\"$\\delta \\phi (cut)$\", \n",
    "    xname=r\"$truth-matched\\ \\phi$\"\n",
    ")\n",
    "\n"
   ]
  },
  {
   "cell_type": "code",
   "execution_count": 112,
   "id": "adverse-moses",
   "metadata": {},
   "outputs": [
    {
     "data": {
      "application/vnd.jupyter.widget-view+json": {
       "model_id": "0a1a59483662413aad8f9827490605a7",
       "version_major": 2,
       "version_minor": 0
      },
      "text/plain": [
       "Canvas(toolbar=Toolbar(toolitems=[('Home', 'Reset original view', 'home', 'home'), ('Back', 'Back to previous …"
      ]
     },
     "metadata": {},
     "output_type": "display_data"
    },
    {
     "data": {
      "text/plain": [
       "<matplotlib.collections.QuadMesh at 0x7f297fdb6790>"
      ]
     },
     "execution_count": 112,
     "metadata": {},
     "output_type": "execute_result"
    }
   ],
   "source": [
    "fig,ax = plt.subplots(1,3, figsize=(18,5))\n",
    "\n",
    "dphi_Phi_stat1.plot(ax=ax[0], density=False)\n",
    "dphi_Phi_stat2.plot(ax=ax[1], density=False)\n",
    "dphi_Phi_stat3.plot(ax=ax[2], density=False)"
   ]
  },
  {
   "cell_type": "markdown",
   "id": "understanding-search",
   "metadata": {},
   "source": [
    "## Adding PID matching on truth"
   ]
  },
  {
   "cell_type": "code",
   "execution_count": 113,
   "id": "opponent-input",
   "metadata": {},
   "outputs": [
    {
     "data": {
      "application/vnd.jupyter.widget-view+json": {
       "model_id": "8d15fece794e48638ad0637ef8e982f5",
       "version_major": 2,
       "version_minor": 0
      },
      "text/plain": [
       "Canvas(toolbar=Toolbar(toolitems=[('Home', 'Reset original view', 'home', 'home'), ('Back', 'Back to previous …"
      ]
     },
     "metadata": {},
     "output_type": "display_data"
    }
   ],
   "source": [
    "fig2, ax2 = plt.subplots(2,4, figsize=(15,10))\n",
    "ax2=ax2.flatten()\n",
    "\n",
    "fig2.suptitle('neutrons', fontsize=16)\n",
    "\n",
    "for i, distro in enumerate(neut_distros):\n",
    "    hist1D(ax2[i], MC_df, distro, cuts=(MC_df.Truth==1)&(MC_df.Pi0flag_MC_neutrec==1))\n",
    "    \n",
    "for i, distro in enumerate(neut_t_distros):\n",
    "    ax=ax2[i].twinx()\n",
    "\n",
    "    hist1D(ax, MC_df, distro, cuts=(MC_df.Truth==1)&(MC_df.Pi0flag_MC_neutrec==1), color='brown', lalpha=0.7)"
   ]
  },
  {
   "cell_type": "code",
   "execution_count": 114,
   "id": "decent-sheriff",
   "metadata": {},
   "outputs": [
    {
     "data": {
      "application/vnd.jupyter.widget-view+json": {
       "model_id": "493d31a9f50a4aa79f5f5a454694af13",
       "version_major": 2,
       "version_minor": 0
      },
      "text/plain": [
       "Canvas(toolbar=Toolbar(toolitems=[('Home', 'Reset original view', 'home', 'home'), ('Back', 'Back to previous …"
      ]
     },
     "metadata": {},
     "output_type": "display_data"
    }
   ],
   "source": [
    "fig6, ax6 = plt.subplots(2,4, figsize=(15,10))\n",
    "ax6=ax6.flatten()\n",
    "\n",
    "fig6.suptitle('neutrons', fontsize=16)\n",
    "\n",
    "for i, distro in enumerate(neut_distros):\n",
    "    hist1D(ax6[i], MC_df, distro, cuts=cut&(MC_df.Pi0flag_MC_neutrec==1))\n",
    "    \n",
    "for i, distro in enumerate(neut_t_distros):\n",
    "    ax=ax6[i].twinx()\n",
    "\n",
    "    hist1D(ax, MC_df, distro, cuts=cut&(MC_df.Pi0flag_MC_neutrec==1), color='brown', lalpha=0.7)"
   ]
  },
  {
   "cell_type": "code",
   "execution_count": 115,
   "id": "productive-colors",
   "metadata": {},
   "outputs": [],
   "source": [
    "neut_diff = [\n",
    "    ['deltaPi0rec_px', (100, -.5, .5), r\"$\\delta p_{x}$\"],\n",
    "    ['deltaPi0rec_py', (100, -.5, .5), r\"$\\delta p_{y}$\"],\n",
    "    ['deltaPi0rec_pz', (100, -.5, .5), r\"$\\delta p_{z}$\"],\n",
    "    ['deltaPi0rec_E', (100, -.5, .5), r\"$\\delta E$\"],\n",
    "    ['deltaPi0rec_magP', (100, -.5, .5), r\"$\\delta |p|$\"],\n",
    "    ['deltaPi0rec_pT', (100, -.5, .5), r\"$\\delta p_{T}$\"],\n",
    "    ['deltaPi0rec_theta', (100, -10, 10), r\"$\\delta \\theta$\"],    \n",
    "    ['deltaPi0rec_phi', (100, -10, 50), r\"$\\delta \\phi$\"]\n",
    "]"
   ]
  },
  {
   "cell_type": "code",
   "execution_count": 116,
   "id": "complex-multimedia",
   "metadata": {},
   "outputs": [
    {
     "data": {
      "application/vnd.jupyter.widget-view+json": {
       "model_id": "6a9bd4ab0c874538aab9d59e008a5390",
       "version_major": 2,
       "version_minor": 0
      },
      "text/plain": [
       "Canvas(toolbar=Toolbar(toolitems=[('Home', 'Reset original view', 'home', 'home'), ('Back', 'Back to previous …"
      ]
     },
     "metadata": {},
     "output_type": "display_data"
    }
   ],
   "source": [
    "fig10, ax10 = plt.subplots(2,4, figsize=(15,10))\n",
    "ax10=ax10.flatten()\n",
    "\n",
    "fig10.suptitle('neutron (rec - gen)', fontsize=16)\n",
    "\n",
    "for i, distro in enumerate(neut_diff):\n",
    "    hist1D(ax10[i], MC_df, distro, cuts=cut&(MC_df.Pi0flag_MC_neutrec==1), color='orangered', lalpha=0.7)"
   ]
  },
  {
   "cell_type": "code",
   "execution_count": 117,
   "id": "cutting-country",
   "metadata": {},
   "outputs": [
    {
     "data": {
      "text/plain": [
       "Histogram(\n",
       "  Regular(100, -30, 80),\n",
       "  Regular(100, 0, 1.75),\n",
       "  storage=Double()) # Sum: 2183.0 (2218.0 with flow)"
      ]
     },
     "execution_count": 117,
     "metadata": {},
     "output_type": "execute_result"
    }
   ],
   "source": [
    "dphi_p_cut = h2d(xrange=[-30,80], xbins=100, yrange=[0,1.75], ybins=100, xname=r\"$\\delta \\phi (cut)$\", yname=r\"$|p| (cut)$\")\n",
    "dphi_p_cut.fill(MC_df[\"deltaPi0rec_phi\"][cut&(MC_df.Pi0flag_MC_neutrec==1)], MC_df[\"Pi0rec_magP\"][cut&(MC_df.Pi0flag_MC_neutrec==1)])"
   ]
  },
  {
   "cell_type": "code",
   "execution_count": 118,
   "id": "horizontal-direction",
   "metadata": {},
   "outputs": [
    {
     "data": {
      "application/vnd.jupyter.widget-view+json": {
       "model_id": "5cc729e261bb415997f553585778bf3f",
       "version_major": 2,
       "version_minor": 0
      },
      "text/plain": [
       "Canvas(toolbar=Toolbar(toolitems=[('Home', 'Reset original view', 'home', 'home'), ('Back', 'Back to previous …"
      ]
     },
     "metadata": {},
     "output_type": "display_data"
    },
    {
     "data": {
      "text/plain": [
       "<matplotlib.collections.QuadMesh at 0x7f297ebcc9d0>"
      ]
     },
     "execution_count": 118,
     "metadata": {},
     "output_type": "execute_result"
    }
   ],
   "source": [
    "fig,ax = plt.subplots()\n",
    "dphi_p_cut.plot(ax=ax, density=False)"
   ]
  },
  {
   "cell_type": "code",
   "execution_count": null,
   "id": "referenced-expression",
   "metadata": {},
   "outputs": [],
   "source": []
  },
  {
   "cell_type": "markdown",
   "id": "historical-compatibility",
   "metadata": {},
   "source": [
    "## Status Bank with PID added"
   ]
  },
  {
   "cell_type": "code",
   "execution_count": 119,
   "id": "secondary-montana",
   "metadata": {},
   "outputs": [
    {
     "data": {
      "application/vnd.jupyter.widget-view+json": {
       "model_id": "9a09cfcd92e841b0898f547c39f8c466",
       "version_major": 2,
       "version_minor": 0
      },
      "text/plain": [
       "Canvas(toolbar=Toolbar(toolitems=[('Home', 'Reset original view', 'home', 'home'), ('Back', 'Back to previous …"
      ]
     },
     "metadata": {},
     "output_type": "display_data"
    },
    {
     "data": {
      "text/plain": [
       "<matplotlib.legend.Legend at 0x7f297e84b850>"
      ]
     },
     "execution_count": 119,
     "metadata": {},
     "output_type": "execute_result"
    }
   ],
   "source": [
    "fig,ax = plt.subplots()\n",
    "hist1D(ax, MC_df, [\"Pi0rec_status\", (2000, 3950, 4150), r\"$neutron$ $status$\"], cuts=(MC_df.Truth==1), color='black', label=\"Truth-Matched\")\n",
    "ax2=ax.twinx()\n",
    "hist1D(ax2, MC_df, [\"Pi0rec_status\", (2000, 3950, 4150), r\"$neutron$ $status$\"], cuts=(MC_df.Truth==1)&(MC_df.Pi0flag_MC_neutrec==1), color='red', lalpha=.5, label=\"Truth-Matched with PID\")\n",
    "\n",
    "ax.legend(loc=2)\n",
    "ax2.legend()"
   ]
  },
  {
   "cell_type": "code",
   "execution_count": 120,
   "id": "athletic-today",
   "metadata": {},
   "outputs": [],
   "source": [
    "neut_diff = [\n",
    "    ['deltaPi0rec_px', (100, -1, 1), r\"$\\delta p_{x}$\"],\n",
    "    ['deltaPi0rec_py', (100, -1, 1), r\"$\\delta p_{y}$\"],\n",
    "    ['deltaPi0rec_pz', (100, -1, 1), r\"$\\delta p_{z}$\"],\n",
    "    ['deltaPi0rec_E', (100, -1, 1), r\"$\\delta E$\"],\n",
    "    ['deltaPi0rec_magP', (100, -1, 1), r\"$\\delta |p|$\"],\n",
    "    ['deltaPi0rec_pT', (100, -1, 1), r\"$\\delta p_{T}$\"],\n",
    "    ['deltaPi0rec_theta', (100, -10, 10), r\"$\\delta \\theta$\"],\n",
    "    ['deltaPi0rec_phi', (100, -20, 60), r\"$\\delta \\phi$\"]\n",
    "]"
   ]
  },
  {
   "cell_type": "code",
   "execution_count": 121,
   "id": "extended-elimination",
   "metadata": {},
   "outputs": [
    {
     "data": {
      "application/vnd.jupyter.widget-view+json": {
       "model_id": "a7ae3468b60c4d0e9c72869a8388623f",
       "version_major": 2,
       "version_minor": 0
      },
      "text/plain": [
       "Canvas(toolbar=Toolbar(toolitems=[('Home', 'Reset original view', 'home', 'home'), ('Back', 'Back to previous …"
      ]
     },
     "metadata": {},
     "output_type": "display_data"
    },
    {
     "data": {
      "text/plain": [
       "<matplotlib.legend.Legend at 0x7f297e64ed90>"
      ]
     },
     "execution_count": 121,
     "metadata": {},
     "output_type": "execute_result"
    }
   ],
   "source": [
    "fig10, ax10 = plt.subplots(2,4, figsize=(15,10))\n",
    "ax10=ax10.flatten()\n",
    "\n",
    "fig10.suptitle('neutron (rec - gen) - with PUID', fontsize=16)\n",
    "\n",
    "for i, distro in enumerate(neut_diff):\n",
    "    hist1D(ax10[i], MC_df, distro, cuts=cut&(MC_df.Pi0rec_status==4010)&(MC_df.Pi0flag_MC_neutrec==1), label=\"CND\", bins=50)\n",
    "    hist1D(ax10[i], MC_df, distro, cuts=cut&(MC_df.Pi0rec_status==4100)&(MC_df.Pi0flag_MC_neutrec==1), label=\"CTOF\", bins=50)\n",
    "    hist1D(ax10[i], MC_df, distro, cuts=cut&(MC_df.Pi0rec_status==4110)&(MC_df.Pi0flag_MC_neutrec==1), label=\"CND/CTOF\", bins=50)\n",
    "    \n",
    "ax10[3].legend(loc=1)"
   ]
  },
  {
   "cell_type": "code",
   "execution_count": 122,
   "id": "serious-circuit",
   "metadata": {},
   "outputs": [
    {
     "data": {
      "application/vnd.jupyter.widget-view+json": {
       "model_id": "f6c1f0d29fa64b939768bbe86693e40c",
       "version_major": 2,
       "version_minor": 0
      },
      "text/plain": [
       "Canvas(toolbar=Toolbar(toolitems=[('Home', 'Reset original view', 'home', 'home'), ('Back', 'Back to previous …"
      ]
     },
     "metadata": {},
     "output_type": "display_data"
    },
    {
     "data": {
      "text/plain": [
       "<matplotlib.legend.Legend at 0x7f297e2d77d0>"
      ]
     },
     "execution_count": 122,
     "metadata": {},
     "output_type": "execute_result"
    }
   ],
   "source": [
    "fig10, ax10 = plt.subplots(2,4, figsize=(15,10))\n",
    "ax10=ax10.flatten()\n",
    "\n",
    "fig10.suptitle('neutron (rec - gen) - with PID', fontsize=16)\n",
    "\n",
    "for i, distro in enumerate(neut_diff):\n",
    "    hist1D(ax10[i], MC_df, distro, cuts=cut&(MC_df.Pi0rec_status==4010)&(MC_df.Pi0flag_MC_neutrec==1), density=True, label=\"CND\", bins=50)\n",
    "    hist1D(ax10[i], MC_df, distro, cuts=cut&(MC_df.Pi0rec_status==4100)&(MC_df.Pi0flag_MC_neutrec==1), density=True, label=\"CTOF\", bins=50)\n",
    "    hist1D(ax10[i], MC_df, distro, cuts=cut&(MC_df.Pi0rec_status==4110)&(MC_df.Pi0flag_MC_neutrec==1), density=True, label=\"CND/CTOF\", bins=25)\n",
    "    \n",
    "ax10[3].legend(loc=1)"
   ]
  },
  {
   "cell_type": "code",
   "execution_count": null,
   "id": "hungarian-symbol",
   "metadata": {},
   "outputs": [],
   "source": []
  },
  {
   "cell_type": "code",
   "execution_count": null,
   "id": "corrected-economy",
   "metadata": {},
   "outputs": [],
   "source": []
  }
 ],
 "metadata": {
  "kernelspec": {
   "display_name": "pi0-ana",
   "language": "python",
   "name": "pi0-ana"
  },
  "language_info": {
   "codemirror_mode": {
    "name": "ipython",
    "version": 3
   },
   "file_extension": ".py",
   "mimetype": "text/x-python",
   "name": "python",
   "nbconvert_exporter": "python",
   "pygments_lexer": "ipython3",
   "version": "3.7.9"
  },
  "widgets": {
   "application/vnd.jupyter.widget-state+json": {
    "state": {},
    "version_major": 2,
    "version_minor": 0
   }
  }
 },
 "nbformat": 4,
 "nbformat_minor": 5
}
