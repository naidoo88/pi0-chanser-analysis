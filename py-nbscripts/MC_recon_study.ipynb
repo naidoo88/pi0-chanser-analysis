{
 "cells": [
  {
   "cell_type": "markdown",
   "id": "biblical-logan",
   "metadata": {},
   "source": [
    "# MC Truth vs. Recon study\n",
    "Take a look at (the difference between) the reconstructed and truth values for final-state kinematic components."
   ]
  },
  {
   "cell_type": "code",
   "execution_count": 2,
   "id": "waiting-syndrome",
   "metadata": {},
   "outputs": [],
   "source": [
    "import numpy as np\n",
    "import pandas as pd\n",
    "import uproot\n",
    "import boost_histogram as bh\n",
    "import functools as ft\n",
    "import matplotlib.pyplot as plt\n",
    "import matplotlib.colors as cols\n",
    "# %matplotlib notebook\n",
    "%matplotlib widget"
   ]
  },
  {
   "cell_type": "code",
   "execution_count": 2,
   "id": "future-cable",
   "metadata": {},
   "outputs": [],
   "source": [
    "plt.style.use('seaborn')\n",
    "plt.rcParams['axes.grid'] = True\n",
    "plt.rcParams['axes.formatter.limits'] = (-3,3)\n",
    "plt.rcParams['axes.formatter.use_mathtext'] = True\n",
    "plt.rcParams['font.size']= 16\n",
    "plt.rcParams['axes.labelsize'] = 14\n",
    "plt.rcParams['axes.titlesize'] = 14\n",
    "plt.rcParams['xtick.labelsize'] = 10\n",
    "plt.rcParams['ytick.labelsize'] = 10"
   ]
  },
  {
   "cell_type": "code",
   "execution_count": 3,
   "id": "linear-lindsay",
   "metadata": {},
   "outputs": [],
   "source": [
    "#data_root_file = \"/w/work3/home/pauln/analysis/processed/chanser_ANAsub/pauln/Pi0_PID_fullcomb/FinalState.root\"\n",
    "MC_root_file = \"/w/work3/home/pauln/analysis/processed/chanser_MCsub/pauln/Pi0_PID_fullcomb/FinalState.root\"\n",
    "\n",
    "tree= \"FINALOUTTREE\"\n",
    "\n",
    "# data = uproot.open(data_root_file)[tree]\n",
    "# data_df = data.pandas.df()\n",
    "\n",
    "data = uproot.open(MC_root_file)[tree]\n",
    "MC_df = data.pandas.df()"
   ]
  },
  {
   "cell_type": "code",
   "execution_count": 4,
   "id": "difficult-spending",
   "metadata": {},
   "outputs": [],
   "source": [
    "def hist1D(ax, df, var, bins = None, cuts=None, y_err=False, color=None, lalpha=1, falpha=0.4, normed=False, filled = False, density = False, params={}, label=None):\n",
    "    #select next color in colormap for use in line and fill.\n",
    "    if color is None:\n",
    "        color = next(ax._get_lines.prop_cycler)['color']\n",
    "    \n",
    "    if cuts is not None: \n",
    "        data = df[var[0]][cuts]\n",
    "    else:\n",
    "        data = df[var[0]]\n",
    "        \n",
    "    #calculate area under the curve if wanting normalised plot    \n",
    "    weights = None\n",
    "    if normed is True:\n",
    "        entries, edges = np.histogram(\n",
    "            data,\n",
    "            range = (var[1][1], var[1][2]),\n",
    "            bins = var[1][0]        \n",
    "        )\n",
    "      \n",
    "        integral = sum(np.diff(edges)*entries)\n",
    "        weights = np.ones_like(data)/integral\n",
    "        \n",
    "    if bins is None: \n",
    "        bins = var[1][0]\n",
    "    \n",
    "    #Draw histogram\n",
    "    entries,edges,_ = ax.hist(data,\n",
    "    range = (var[1][1], var[1][2]),\n",
    "    bins = bins,\n",
    "    density = density,\n",
    "    weights=weights,\n",
    "    histtype = 'step',\n",
    "    linewidth = 1.5,\n",
    "    alpha=lalpha,\n",
    "    color = color,\n",
    "    label=label,\n",
    "    **params\n",
    "    )\n",
    " \n",
    "    #fill area under histo if set\n",
    "    if filled is True:\n",
    "        # brute-force: drawing it again to allow separate alpha(opacity) to be used\n",
    "        h = ax.hist(data,\n",
    "            range = (var[1][1], var[1][2]),\n",
    "            bins = bins,\n",
    "            density = density,\n",
    "            weights=weights,\n",
    "            histtype = 'step',\n",
    "            linewidth = None,\n",
    "            fill = True,\n",
    "            alpha = falpha,\n",
    "            color = color\n",
    "            )\n",
    "        \n",
    "    #error bars    \n",
    "    if y_err is True:\n",
    "        if normed is True: \n",
    "            yerr = np.sqrt(entries)/integral\n",
    "            entries = entries/integral\n",
    "        else:\n",
    "            entries, edges = np.histogram(\n",
    "                data,\n",
    "                range = (var[1][1], var[1][2]),\n",
    "                bins = bins       \n",
    "            )\n",
    "            yerr = np.sqrt(entries)\n",
    "            \n",
    "        bin_width = edges[1]-edges[0]\n",
    "        bin_centers = edges[:-1] + bin_width/2\n",
    "        ax.errorbar(bin_centers, entries, yerr=yerr, color='r', ls='', alpha=0.6, label='err', elinewidth=0.6)\n",
    "        \n",
    "        \n",
    "    #deal with automatic y-axis scaling funk\n",
    "    # if normed is True:\n",
    "    #     #axes = plt.gca()\n",
    "    #     ax.set_ylim([0,max(entries/integral)*1.1])\n",
    "\n",
    "    ax.set_xlabel(var[2])\n",
    "    ax.set_xlim(var[1][1], var[1][2])\n",
    "\n",
    "    \n",
    "    return #(entries, edges, yerr)"
   ]
  },
  {
   "cell_type": "code",
   "execution_count": null,
   "id": "photographic-terrain",
   "metadata": {},
   "outputs": [],
   "source": [
    "#list(MC_df.columns)"
   ]
  },
  {
   "cell_type": "code",
   "execution_count": 5,
   "id": "cloudy-anger",
   "metadata": {},
   "outputs": [],
   "source": [
    "'''\n",
    "Lists through the columns in the df beginning with Pi0,\n",
    "taking the difference between this variable and the corresponding\n",
    "\"true\" value; adding this to a new column prepended \"delta\".\n",
    "'''\n",
    "\n",
    "for var in list(MC_df[[c for c in MC_df if c.startswith('Pi0')]].columns):\n",
    "    d_Str = \"delta\"+var\n",
    "    tru_Str = \"tru\"+var\n",
    "    \n",
    "    MC_df[d_Str] = MC_df[var] - MC_df[tru_Str]"
   ]
  },
  {
   "cell_type": "markdown",
   "id": "further-morocco",
   "metadata": {},
   "source": [
    "## Particle Distributions \n",
    "\n",
    "Truth-Matched Distributions for each final-state particle."
   ]
  },
  {
   "cell_type": "code",
   "execution_count": 11,
   "id": "collectible-brook",
   "metadata": {},
   "outputs": [],
   "source": [
    "bins = 200\n",
    "\n",
    "e_distros = [\n",
    "    [\"Pi0e_px\", (bins, -2, 2), r\"$p_{x}$ $(GeV/c^{2})$\"],\n",
    "    [\"Pi0e_py\", (bins, -2, 2), r\"$p_{y}$ $(GeV/c^{2})$\"],\n",
    "    [\"Pi0e_pz\", (bins, 0, 9), r\"$p_{z}$ $(GeV/c^{2})$\"],\n",
    "    [\"Pi0e_E\", (bins, 0, 9), r\"$E$ $(GeV)$\"],\n",
    "    [\"Pi0e_magP\", (bins, 0, 9), r\"$|p|$ $(GeV/c^{2})$\"],\n",
    "    [\"Pi0e_pT\", (bins, 0, 2), r\"$p_{T}$ $(GeV/c^{2})$\"],\n",
    "    [\"Pi0e_theta\", (bins, 0, 50), r\"$\\theta$ $(^{\\circ})$\"],\n",
    "    [\"Pi0e_phi\", (bins, -185, 185), r\"$\\phi$ $(^{\\circ})$\"]\n",
    "]\n",
    "\n",
    "e_t_distros = [\n",
    "    [\"truPi0e_px\", (bins, -2, 2), r\"$p_{x}$ $(GeV/c^{2})$\"],\n",
    "    [\"truPi0e_py\", (bins, -2, 2), r\"$p_{y}$ $(GeV/c^{2})$\"],\n",
    "    [\"truPi0e_pz\", (bins, 0, 9), r\"$p_{z}$ $(GeV/c^{2})$\"],\n",
    "    [\"truPi0e_E\", (bins, 0, 9), r\"$E$ $(GeV)$\"],\n",
    "    [\"truPi0e_magP\", (bins, 0, 9), r\"$|p|$ $(GeV/c^{2})$\"],\n",
    "    [\"truPi0e_pT\", (bins, 0, 2), r\"$p_{T}$ $(GeV/c^{2})$\"],\n",
    "    [\"truPi0e_theta\", (bins, 0, 50), r\"$\\theta$ $(^{\\circ})$\"],\n",
    "    [\"truPi0e_phi\", (bins, -185, 185), r\"$\\phi$ $(^{\\circ})$\"]\n",
    "]"
   ]
  },
  {
   "cell_type": "code",
   "execution_count": 24,
   "id": "welsh-amsterdam",
   "metadata": {},
   "outputs": [
    {
     "data": {
      "application/vnd.jupyter.widget-view+json": {
       "model_id": "f1ba69ff30d6404c948276bc795ce15a",
       "version_major": 2,
       "version_minor": 0
      },
      "text/plain": [
       "Canvas(toolbar=Toolbar(toolitems=[('Home', 'Reset original view', 'home', 'home'), ('Back', 'Back to previous …"
      ]
     },
     "metadata": {},
     "output_type": "display_data"
    }
   ],
   "source": [
    "fig1, ax1 = plt.subplots(2,4, figsize=(15,10))\n",
    "\n",
    "ax1=ax1.flatten()\n",
    "\n",
    "fig1.suptitle('electrons', fontsize=16)\n",
    "\n",
    "for i, distro in enumerate(e_distros):\n",
    "    hist1D(ax1[i], MC_df, distro, cuts=(MC_df.Truth==1))\n",
    "    \n",
    "for i, distro in enumerate(e_t_distros):\n",
    "    ax=ax1[i].twinx()\n",
    "\n",
    "    hist1D(ax, MC_df, distro, cuts=(MC_df.Truth==1), color='brown', lalpha=0.7)"
   ]
  },
  {
   "cell_type": "code",
   "execution_count": 13,
   "id": "needed-xerox",
   "metadata": {},
   "outputs": [],
   "source": [
    "bins = 120\n",
    "\n",
    "neut_distros = [\n",
    "    [\"Pi0rec_px\", (bins, -2, 2), r\"$p_{x}$ $(GeV/c^{2})$\"],\n",
    "    [\"Pi0rec_py\", (bins, -2, 2), r\"$p_{y}$ $(GeV/c^{2})$\"],\n",
    "    [\"Pi0rec_pz\", (bins, 0, 2), r\"$p_{z}$ $(GeV/c^{2})$\"],\n",
    "    [\"Pi0rec_E\", (bins, 0.5, 2.5), r\"$E$ $(GeV)$\"],\n",
    "    [\"Pi0rec_magP\", (bins, 0, 2), r\"$|p|$ $(GeV/c^{2})$\"],\n",
    "    [\"Pi0rec_pT\", (bins, 0, 1.55), r\"$p_{T}$ $(GeV/c^{2})$\"],\n",
    "    [\"Pi0rec_theta\", (bins, 0, 180), r\"$\\theta$ $(^{\\circ})$\"],\n",
    "    [\"Pi0rec_phi\", (48, -180, 180), r\"$\\phi$ $(^{\\circ})$\"]\n",
    "]\n",
    "\n",
    "neut_t_distros = [\n",
    "    [\"truPi0rec_px\", (bins, -2, 2), r\"$p_{x}$ $(GeV/c^{2})$\"],\n",
    "    [\"truPi0rec_py\", (bins, -2, 2), r\"$p_{y}$ $(GeV/c^{2})$\"],\n",
    "    [\"truPi0rec_pz\", (bins, 0, 2), r\"$p_{z}$ $(GeV/c^{2})$\"],\n",
    "    [\"truPi0rec_E\", (bins, 0.5, 2.5), r\"$E$ $(GeV)$\"],\n",
    "    [\"truPi0rec_magP\", (bins, 0, 2), r\"$|p|$ $(GeV/c^{2})$\"],\n",
    "    [\"truPi0rec_pT\", (bins, 0, 1.55), r\"$p_{T}$ $(GeV/c^{2})$\"],\n",
    "    [\"truPi0rec_theta\", (bins, 0, 120), r\"$\\theta$ $(^{\\circ})$\"],\n",
    "    [\"truPi0rec_phi\", (48, -120, 180), r\"$\\phi$ $(^{\\circ})$\"]\n",
    "]"
   ]
  },
  {
   "cell_type": "code",
   "execution_count": 25,
   "id": "dressed-johnson",
   "metadata": {},
   "outputs": [
    {
     "data": {
      "application/vnd.jupyter.widget-view+json": {
       "model_id": "856097ba961044c4b6293604a88b2717",
       "version_major": 2,
       "version_minor": 0
      },
      "text/plain": [
       "Canvas(toolbar=Toolbar(toolitems=[('Home', 'Reset original view', 'home', 'home'), ('Back', 'Back to previous …"
      ]
     },
     "metadata": {},
     "output_type": "display_data"
    }
   ],
   "source": [
    "fig2, ax2 = plt.subplots(2,4, figsize=(15,10))\n",
    "ax2=ax2.flatten()\n",
    "\n",
    "fig2.suptitle('neutrons', fontsize=16)\n",
    "\n",
    "for i, distro in enumerate(neut_distros):\n",
    "    hist1D(ax2[i], MC_df, distro, cuts=(MC_df.Truth==1))\n",
    "    \n",
    "for i, distro in enumerate(neut_t_distros):\n",
    "    ax=ax2[i].twinx()\n",
    "\n",
    "    hist1D(ax, MC_df, distro, cuts=(MC_df.Truth==1), color='brown', lalpha=0.7)"
   ]
  },
  {
   "cell_type": "code",
   "execution_count": 15,
   "id": "military-forestry",
   "metadata": {},
   "outputs": [],
   "source": [
    "bins = 200\n",
    "\n",
    "phot1_distros = [\n",
    "    [\"Pi0phot1_px\", (bins, -1.75, 1.75), r\"$p_{x}$ $(GeV/c^{2})$\"],\n",
    "    [\"Pi0phot1_py\", (bins, -1.75, 1.75), r\"$p_{y}$ $(GeV/c^{2})$\"],\n",
    "    [\"Pi0phot1_pz\", (bins, 0, 8), r\"$p_{z}$ $(GeV/c^{2})$\"],\n",
    "    [\"Pi0phot1_E\", (bins, 0, 8), r\"$ E$ $(GeV)$\"],\n",
    "    [\"Pi0phot1_magP\", (bins, 0, 8), r\"$|p|$ $(GeV/c^{2})$\"],\n",
    "    [\"Pi0phot1_pT\", (bins, 0, 2), r\"$p_{T}$ $(GeV/c^{2})$\"],\n",
    "    [\"Pi0phot1_theta\", (bins, 0, 40), r\"$\\theta$ $(^{\\circ})$\"],\n",
    "    [\"Pi0phot1_phi\", (bins, -180, 180), r\"$\\phi$ $(^{\\circ})$\"]\n",
    "]\n",
    "\n",
    "phot1_t_distros = [\n",
    "    [\"truPi0phot1_px\", (bins, -1.75, 1.75), r\"$p_{x}$ $(GeV/c^{2})$\"],\n",
    "    [\"truPi0phot1_py\", (bins, -1.75, 1.75), r\"$p_{y}$ $(GeV/c^{2})$\"],\n",
    "    [\"truPi0phot1_pz\", (bins, 0, 8), r\"$p_{z}$ $(GeV/c^{2})$\"],\n",
    "    [\"truPi0phot1_E\", (bins, 0, 8), r\"$ E$ $(GeV)$\"],\n",
    "    [\"truPi0phot1_magP\", (bins, 0, 8), r\"$|p|$ $(GeV/c^{2})$\"],\n",
    "    [\"truPi0phot1_pT\", (bins, 0, 2), r\"$p_{T}$ $(GeV/c^{2})$\"],\n",
    "    [\"truPi0phot1_theta\", (bins, 0, 40), r\"$\\theta$ $(^{\\circ})$\"],\n",
    "    [\"truPi0phot1_phi\", (bins, -180, 180), r\"$\\phi$ $(^{\\circ})$\"]\n",
    "]"
   ]
  },
  {
   "cell_type": "code",
   "execution_count": 26,
   "id": "perfect-borough",
   "metadata": {},
   "outputs": [
    {
     "data": {
      "application/vnd.jupyter.widget-view+json": {
       "model_id": "c7a01506a1744d20b89d3574ccf345b1",
       "version_major": 2,
       "version_minor": 0
      },
      "text/plain": [
       "Canvas(toolbar=Toolbar(toolitems=[('Home', 'Reset original view', 'home', 'home'), ('Back', 'Back to previous …"
      ]
     },
     "metadata": {},
     "output_type": "display_data"
    }
   ],
   "source": [
    "fig3, ax3 = plt.subplots(2,4, figsize=(15,10))\n",
    "ax3=ax3.flatten()\n",
    "\n",
    "fig3.suptitle('photons (1)', fontsize=16)\n",
    "\n",
    "for i, distro in enumerate(phot1_distros):\n",
    "    hist1D(ax3[i], MC_df, distro, cuts=(MC_df.Truth==1))\n",
    "    \n",
    "for i, distro in enumerate(phot1_t_distros):\n",
    "    ax=ax3[i].twinx()\n",
    "\n",
    "    hist1D(ax, MC_df, distro, cuts=(MC_df.Truth==1), color='brown', lalpha=0.7)"
   ]
  },
  {
   "cell_type": "code",
   "execution_count": 17,
   "id": "appointed-waterproof",
   "metadata": {},
   "outputs": [],
   "source": [
    "bins = 200\n",
    "\n",
    "phot2_distros = [\n",
    "    [\"Pi0phot2_px\", (bins, -1, 1), r\"$p_{x}$ $(GeV/c^{2})$\"],\n",
    "    [\"Pi0phot2_py\", (bins, -1, 1), r\"$p_{y}$ $(GeV/c^{2})$\"],\n",
    "    [\"Pi0phot2_pz\", (bins, 0, 4), r\"$p_{z}$ $(GeV/c^{2})$\"],\n",
    "    [\"Pi0phot2_E\", (bins, 0, 4), r\"$ E$ $(GeV)$\"],\n",
    "    [\"Pi0phot2_magP\", (bins, 0, 4), r\"$|p|$ $(GeV/c^{2})$\"],\n",
    "    [\"Pi0phot2_pT\", (bins, 0, 1), r\"$p_{T}$ $(GeV/c^{2})$\"],\n",
    "    [\"Pi0phot2_theta\", (bins, 0, 40), r\"$\\theta$ $(^{\\circ})$\"],\n",
    "    [\"Pi0phot2_phi\", (bins, -180, 180), r\"$\\phi$ $(^{\\circ})$\"]\n",
    "]\n",
    "\n",
    "phot2_t_distros = [\n",
    "    [\"truPi0phot2_px\", (bins, -1, 1), r\"$p_{x}$ $(GeV/c^{2})$\"],\n",
    "    [\"truPi0phot2_py\", (bins, -1, 1), r\"$p_{y}$ $(GeV/c^{2})$\"],\n",
    "    [\"truPi0phot2_pz\", (bins, 0, 4), r\"$p_{z}$ $(GeV/c^{2})$\"],\n",
    "    [\"truPi0phot2_E\", (bins, 0, 4), r\"$ E$ $(GeV)$\"],\n",
    "    [\"truPi0phot2_magP\", (bins, 0, 4), r\"$|p|$ $(GeV/c^{2})$\"],\n",
    "    [\"truPi0phot2_pT\", (bins, 0, 1), r\"$p_{T}$ $(GeV/c^{2})$\"],\n",
    "    [\"truPi0phot2_theta\", (bins, 0, 40), r\"$\\theta$ $(^{\\circ})$\"],\n",
    "    [\"truPi0phot2_phi\", (bins, -180, 180), r\"$\\phi$ $(^{\\circ})$\"]\n",
    "]"
   ]
  },
  {
   "cell_type": "code",
   "execution_count": 27,
   "id": "baking-baking",
   "metadata": {},
   "outputs": [
    {
     "data": {
      "application/vnd.jupyter.widget-view+json": {
       "model_id": "0a49fcad6c1b4ad89fea2f10439fc34f",
       "version_major": 2,
       "version_minor": 0
      },
      "text/plain": [
       "Canvas(toolbar=Toolbar(toolitems=[('Home', 'Reset original view', 'home', 'home'), ('Back', 'Back to previous …"
      ]
     },
     "metadata": {},
     "output_type": "display_data"
    }
   ],
   "source": [
    "fig4, ax4 = plt.subplots(2,4, figsize=(15,10))\n",
    "ax4=ax4.flatten()\n",
    "\n",
    "fig4.suptitle('photons (2)', fontsize=16)\n",
    "\n",
    "for i, distro in enumerate(phot2_distros):\n",
    "    hist1D(ax4[i], MC_df, distro, cuts=(MC_df.Truth==1))\n",
    "    \n",
    "for i, distro in enumerate(phot2_t_distros):\n",
    "    ax=ax4[i].twinx()\n",
    "\n",
    "    hist1D(ax, MC_df, distro, cuts=(MC_df.Truth==1), color='brown', lalpha=0.7)"
   ]
  },
  {
   "cell_type": "markdown",
   "id": "major-outreach",
   "metadata": {},
   "source": [
    "## Particle Distributions - 'Trimmed'\n",
    "Truth-Matched Distributions for each final-state particle, with some additional cuts so isolate desired events:\n",
    "\n",
    "   * 3$\\sigma$ $\\pi_{0}$-mass cut\n",
    "   * Neutrons\n",
    "      * CND only\n",
    "      * |p| > 350 MeV\n",
    "   * Photons\n",
    "      * Require hit in the PCAL"
   ]
  },
  {
   "cell_type": "code",
   "execution_count": 19,
   "id": "under-mystery",
   "metadata": {},
   "outputs": [],
   "source": [
    "cuts = [\n",
    "    (MC_df.Pi0flag_cut_3sigPi0IM == 1),\n",
    "    ((MC_df.Pi0rec_status > 3990) & (MC_df.Pi0rec_status < 4150)),\n",
    "    (MC_df.Pi0rec_magP >= 0.35),\n",
    "    (MC_df.hitPCAL == 1),\n",
    "    (MC_df.Truth==1)\n",
    "]\n",
    "\n",
    "cut = ft.reduce(lambda x, y: x & y, cuts[:])\n"
   ]
  },
  {
   "cell_type": "code",
   "execution_count": 20,
   "id": "stainless-progress",
   "metadata": {},
   "outputs": [
    {
     "data": {
      "application/vnd.jupyter.widget-view+json": {
       "model_id": "22e388f9015d46588a7c36e6aa7b0109",
       "version_major": 2,
       "version_minor": 0
      },
      "text/plain": [
       "Canvas(toolbar=Toolbar(toolitems=[('Home', 'Reset original view', 'home', 'home'), ('Back', 'Back to previous …"
      ]
     },
     "metadata": {},
     "output_type": "display_data"
    },
    {
     "data": {
      "text/plain": [
       "<matplotlib.legend.Legend at 0x7f1b9d3cf5d0>"
      ]
     },
     "execution_count": 20,
     "metadata": {},
     "output_type": "execute_result"
    }
   ],
   "source": [
    "fig5, ax5 = plt.subplots(2,4, figsize=(15,10))\n",
    "ax5=ax5.flatten()\n",
    "\n",
    "fig5.suptitle('electrons', fontsize=16)\n",
    "\n",
    "for i, distro in enumerate(e_distros):\n",
    "    hist1D(ax5[i], MC_df, distro, cuts=cut, label=\"Truth-Matched\")\n",
    "\n",
    "for i, distro in enumerate(e_t_distros):\n",
    "    ax=ax5[i].twinx()\n",
    "\n",
    "    hist1D(ax, MC_df, distro, cuts=cut, color='brown', lalpha=0.7, label=\"Generated\")\n",
    "    \n",
    "lines_1, labels_1 = ax5[0].get_legend_handles_labels()\n",
    "lines_2, labels_2 = ax.get_legend_handles_labels()\n",
    "\n",
    "\n",
    "lines = lines_1 + lines_2\n",
    "labels = labels_1 + labels_2\n",
    "\n",
    "\n",
    "ax5[3].legend(lines, labels, loc=2)\n",
    "ax5[4].legend(lines, labels, loc=2)\n",
    "\n",
    "\n",
    "\n",
    "    \n",
    "# for i in "
   ]
  },
  {
   "cell_type": "code",
   "execution_count": 21,
   "id": "separated-jersey",
   "metadata": {},
   "outputs": [
    {
     "data": {
      "application/vnd.jupyter.widget-view+json": {
       "model_id": "c00d1086906f43dc81e180d0fa03e68e",
       "version_major": 2,
       "version_minor": 0
      },
      "text/plain": [
       "Canvas(toolbar=Toolbar(toolitems=[('Home', 'Reset original view', 'home', 'home'), ('Back', 'Back to previous …"
      ]
     },
     "metadata": {},
     "output_type": "display_data"
    },
    {
     "data": {
      "text/plain": [
       "<matplotlib.legend.Legend at 0x7f1b7257df50>"
      ]
     },
     "execution_count": 21,
     "metadata": {},
     "output_type": "execute_result"
    }
   ],
   "source": [
    "fig6, ax6 = plt.subplots(2,4, figsize=(15,10))\n",
    "ax6=ax6.flatten()\n",
    "\n",
    "fig6.suptitle('neutrons', fontsize=16)\n",
    "\n",
    "for i, distro in enumerate(neut_distros):\n",
    "    hist1D(ax6[i], MC_df, distro, cuts=cut, label=\"Truth-Matched\")\n",
    "    \n",
    "for i, distro in enumerate(neut_t_distros):\n",
    "    ax=ax6[i].twinx()\n",
    "\n",
    "    hist1D(ax, MC_df, distro, cuts=cut, color='brown', lalpha=0.7, label=\"Generated\")\n",
    "    \n",
    "lines_1, labels_1 = ax6[0].get_legend_handles_labels()\n",
    "lines_2, labels_2 = ax.get_legend_handles_labels()\n",
    "\n",
    "\n",
    "lines = lines_1 + lines_2\n",
    "labels = labels_1 + labels_2\n",
    "\n",
    "\n",
    "ax6[3].legend(lines, labels, loc=1)\n",
    "ax6[4].legend(lines, labels, loc=1)"
   ]
  },
  {
   "cell_type": "code",
   "execution_count": 22,
   "id": "restricted-aquatic",
   "metadata": {},
   "outputs": [
    {
     "data": {
      "application/vnd.jupyter.widget-view+json": {
       "model_id": "8e860d66ace1405dbdd3a19b729835ac",
       "version_major": 2,
       "version_minor": 0
      },
      "text/plain": [
       "Canvas(toolbar=Toolbar(toolitems=[('Home', 'Reset original view', 'home', 'home'), ('Back', 'Back to previous …"
      ]
     },
     "metadata": {},
     "output_type": "display_data"
    },
    {
     "data": {
      "text/plain": [
       "<matplotlib.legend.Legend at 0x7f1b72062a50>"
      ]
     },
     "execution_count": 22,
     "metadata": {},
     "output_type": "execute_result"
    }
   ],
   "source": [
    "fig7, ax7 = plt.subplots(2,4, figsize=(15,10))\n",
    "ax7=ax7.flatten()\n",
    "\n",
    "fig7.suptitle('photons (1)', fontsize=16)\n",
    "\n",
    "for i, distro in enumerate(phot1_distros):\n",
    "    hist1D(ax7[i], MC_df, distro, cuts=cut, label=\"Truth-Matched\")\n",
    "    \n",
    "for i, distro in enumerate(phot1_t_distros):\n",
    "    ax=ax7[i].twinx()\n",
    "\n",
    "    hist1D(ax, MC_df, distro, cuts=cut, color='brown', lalpha=0.7, label=\"Generated\")\n",
    "    \n",
    "lines_1, labels_1 = ax7[0].get_legend_handles_labels()\n",
    "lines_2, labels_2 = ax.get_legend_handles_labels()\n",
    "\n",
    "lines = lines_1 + lines_2\n",
    "labels = labels_1 + labels_2\n",
    "\n",
    "\n",
    "ax7[3].legend(lines, labels, loc=1)\n",
    "ax7[4].legend(lines, labels, loc=1)"
   ]
  },
  {
   "cell_type": "code",
   "execution_count": 23,
   "id": "appropriate-parcel",
   "metadata": {},
   "outputs": [
    {
     "data": {
      "application/vnd.jupyter.widget-view+json": {
       "model_id": "d87e1deb4b7f47b4bd174ca04c08dbb8",
       "version_major": 2,
       "version_minor": 0
      },
      "text/plain": [
       "Canvas(toolbar=Toolbar(toolitems=[('Home', 'Reset original view', 'home', 'home'), ('Back', 'Back to previous …"
      ]
     },
     "metadata": {},
     "output_type": "display_data"
    },
    {
     "data": {
      "text/plain": [
       "<matplotlib.legend.Legend at 0x7f1b6abd7dd0>"
      ]
     },
     "execution_count": 23,
     "metadata": {},
     "output_type": "execute_result"
    }
   ],
   "source": [
    "fig8, ax8 = plt.subplots(2,4, figsize=(15,10))\n",
    "ax8=ax8.flatten()\n",
    "\n",
    "fig8.suptitle('photons (2)', fontsize=16)\n",
    "\n",
    "for i, distro in enumerate(phot2_distros):\n",
    "    hist1D(ax8[i], MC_df, distro, cuts=cut, label=\"Truth-Matched\")\n",
    "    \n",
    "for i, distro in enumerate(phot2_t_distros):\n",
    "    ax=ax8[i].twinx()\n",
    "\n",
    "    hist1D(ax, MC_df, distro, cuts=cut, color='brown', lalpha=0.7, label=\"Generated\")\n",
    "    \n",
    "    \n",
    "lines_1, labels_1 = ax8[0].get_legend_handles_labels()\n",
    "lines_2, labels_2 = ax.get_legend_handles_labels()\n",
    "\n",
    "lines = lines_1 + lines_2\n",
    "labels = labels_1 + labels_2\n",
    "\n",
    "\n",
    "ax8[3].legend(lines, labels, loc=1)\n",
    "ax8[4].legend(lines, labels, loc=1)"
   ]
  },
  {
   "cell_type": "markdown",
   "id": "special-supplement",
   "metadata": {},
   "source": [
    "## Differences"
   ]
  },
  {
   "cell_type": "code",
   "execution_count": 78,
   "id": "generous-pound",
   "metadata": {},
   "outputs": [],
   "source": [
    "e_diff = [\n",
    "    ['deltaPi0e_px', (100, -1, 1), r\"$\\delta p_{x}$\"],\n",
    "    ['deltaPi0e_py', (100, -1, 1), r\"$\\delta p_{y}$\"],\n",
    "    ['deltaPi0e_pz', (100, -1, 1), r\"$\\delta p_{z}$\"],\n",
    "    ['deltaPi0e_E', (100, -1, 1), r\"$\\delta E$\"],\n",
    "    ['deltaPi0e_magP', (100, -1, 1), r\"$\\delta |p|$\"],\n",
    "    ['deltaPi0e_pT', (100, -1, 1), r\"$\\delta p_{T}$\"],\n",
    "    ['deltaPi0e_theta', (100, -1, 1), r\"$\\delta \\theta$\"],\n",
    "    ['deltaPi0e_phi', (100, -2, 2), r\"$\\delta \\phi$\"]\n",
    "]"
   ]
  },
  {
   "cell_type": "code",
   "execution_count": 79,
   "id": "flexible-astrology",
   "metadata": {},
   "outputs": [
    {
     "data": {
      "application/vnd.jupyter.widget-view+json": {
       "model_id": "ec79206dcf4a429abc349437a0c85a4e",
       "version_major": 2,
       "version_minor": 0
      },
      "text/plain": [
       "Canvas(toolbar=Toolbar(toolitems=[('Home', 'Reset original view', 'home', 'home'), ('Back', 'Back to previous …"
      ]
     },
     "metadata": {},
     "output_type": "display_data"
    }
   ],
   "source": [
    "fig9, ax9 = plt.subplots(2,4, figsize=(15,10))\n",
    "ax9=ax9.flatten()\n",
    "\n",
    "fig9.suptitle('electron (rec - gen)', fontsize=16)\n",
    "\n",
    "for i, distro in enumerate(e_diff):\n",
    "    hist1D(ax9[i], MC_df, distro, cuts=cut, color='orangered', lalpha=0.7)"
   ]
  },
  {
   "cell_type": "code",
   "execution_count": 80,
   "id": "million-impossible",
   "metadata": {},
   "outputs": [],
   "source": [
    "neut_diff = [\n",
    "    ['deltaPi0rec_px', (100, -1, 1), r\"$\\delta p_{x}$\"],\n",
    "    ['deltaPi0rec_py', (100, -1, 1), r\"$\\delta p_{y}$\"],\n",
    "    ['deltaPi0rec_pz', (100, -1, 1), r\"$\\delta p_{z}$\"],\n",
    "    ['deltaPi0rec_E', (100, -1, 1), r\"$\\delta E$\"],\n",
    "    ['deltaPi0rec_magP', (100, -1, 1), r\"$\\delta |p|$\"],\n",
    "    ['deltaPi0rec_pT', (100, -1, 1), r\"$\\delta p_{T}$\"],\n",
    "    ['deltaPi0rec_theta', (100, -10, 10), r\"$\\delta \\theta$\"],\n",
    "    ['deltaPi0rec_phi', (100, -20, 20), r\"$\\delta \\phi$\"]\n",
    "]"
   ]
  },
  {
   "cell_type": "code",
   "execution_count": 81,
   "id": "juvenile-external",
   "metadata": {},
   "outputs": [
    {
     "data": {
      "application/vnd.jupyter.widget-view+json": {
       "model_id": "19d41a2ec7cb410f9d3279d577dd8f47",
       "version_major": 2,
       "version_minor": 0
      },
      "text/plain": [
       "Canvas(toolbar=Toolbar(toolitems=[('Home', 'Reset original view', 'home', 'home'), ('Back', 'Back to previous …"
      ]
     },
     "metadata": {},
     "output_type": "display_data"
    }
   ],
   "source": [
    "fig10, ax10 = plt.subplots(2,4, figsize=(15,10))\n",
    "ax10=ax10.flatten()\n",
    "\n",
    "fig10.suptitle('neutron (rec - gen)', fontsize=16)\n",
    "\n",
    "for i, distro in enumerate(neut_diff):\n",
    "    hist1D(ax10[i], MC_df, distro, cuts=cut, color='orangered', lalpha=0.7)"
   ]
  },
  {
   "cell_type": "code",
   "execution_count": 82,
   "id": "educated-settlement",
   "metadata": {},
   "outputs": [
    {
     "data": {
      "application/vnd.jupyter.widget-view+json": {
       "model_id": "7bfd809d3dcb477ca0e06bea35977e77",
       "version_major": 2,
       "version_minor": 0
      },
      "text/plain": [
       "Canvas(toolbar=Toolbar(toolitems=[('Home', 'Reset original view', 'home', 'home'), ('Back', 'Back to previous …"
      ]
     },
     "metadata": {},
     "output_type": "display_data"
    }
   ],
   "source": [
    "neut_angles= [\n",
    "    \n",
    "    [\"deltaPi0rec_theta\", (200, -40, 50), r\"$\\delta\\theta$ $(^{\\circ})$\"],\n",
    "    [\"deltaPi0rec_phi\", (200, -60, 60), r\"$\\delta\\phi$ $(^{\\circ})$\"]\n",
    "]\n",
    "\n",
    "fig10b, ax10b = plt.subplots(1,2, figsize=(10,5))\n",
    "ax10b=ax10b.flatten()\n",
    "\n",
    "fig10b.suptitle('neutron (rec - gen) - wide range angles', fontsize=16)\n",
    "\n",
    "for i, distro in enumerate(neut_angles):\n",
    "    hist1D(ax10b[i], MC_df, distro, cuts=cut, color='orangered', lalpha=0.7)"
   ]
  },
  {
   "cell_type": "code",
   "execution_count": 84,
   "id": "royal-amendment",
   "metadata": {},
   "outputs": [],
   "source": [
    "phot1_diff = [\n",
    "    ['deltaPi0phot1_px', (100, -1, 1), r\"$\\delta p_{x}$\"],\n",
    "    ['deltaPi0phot1_py', (100, -1, 1), r\"$\\delta p_{y}$\"],\n",
    "    ['deltaPi0phot1_pz', (100, -1, 1), r\"$\\delta p_{z}$\"],\n",
    "    ['deltaPi0phot1_E', (100, -1, 1), r\"$\\delta E$\"],\n",
    "    ['deltaPi0phot1_magP', (100, -1, 1), r\"$\\delta |p|$\"],\n",
    "    ['deltaPi0phot1_pT', (100, -1, 1), r\"$\\delta p_{T}$\"],\n",
    "    ['deltaPi0phot1_theta', (100, -5, 5), r\"$\\delta \\theta$\"],\n",
    "    ['deltaPi0phot1_phi', (100, -5, 5), r\"$\\delta \\phi$\"]\n",
    "]"
   ]
  },
  {
   "cell_type": "code",
   "execution_count": 85,
   "id": "confirmed-drove",
   "metadata": {},
   "outputs": [
    {
     "data": {
      "application/vnd.jupyter.widget-view+json": {
       "model_id": "06eb1c9cd3c24c34b6d362861e5a34d6",
       "version_major": 2,
       "version_minor": 0
      },
      "text/plain": [
       "Canvas(toolbar=Toolbar(toolitems=[('Home', 'Reset original view', 'home', 'home'), ('Back', 'Back to previous …"
      ]
     },
     "metadata": {},
     "output_type": "display_data"
    }
   ],
   "source": [
    "fig11, ax11 = plt.subplots(2,4, figsize=(15,10))\n",
    "ax11=ax11.flatten()\n",
    "\n",
    "fig11.suptitle('photon(1) (rec - gen)', fontsize=16)\n",
    "\n",
    "for i, distro in enumerate(phot1_diff):\n",
    "    hist1D(ax11[i], MC_df, distro, cuts=cut, color='orangered', lalpha=0.7)"
   ]
  },
  {
   "cell_type": "code",
   "execution_count": 86,
   "id": "compound-devices",
   "metadata": {},
   "outputs": [],
   "source": [
    "phot2_diff = [\n",
    "    ['deltaPi0phot2_px', (100, -1, 1), r\"$\\delta p_{x}$\"],\n",
    "    ['deltaPi0phot2_py', (100, -1, 1), r\"$\\delta p_{y}$\"],\n",
    "    ['deltaPi0phot2_pz', (100, -1, 1), r\"$\\delta p_{z}$\"],\n",
    "    ['deltaPi0phot2_E', (100, -1, 1), r\"$\\delta E$\"],\n",
    "    ['deltaPi0phot2_magP', (100, -1, 1), r\"$\\delta |p|$\"],\n",
    "    ['deltaPi0phot2_pT', (100, -1, 1), r\"$\\delta p_{T}$\"],\n",
    "    ['deltaPi0phot2_theta', (100, -5, 5), r\"$\\delta \\theta$\"],\n",
    "    ['deltaPi0phot2_phi', (100, -5, 5), r\"$\\delta \\phi$\"]\n",
    "]"
   ]
  },
  {
   "cell_type": "code",
   "execution_count": 87,
   "id": "cloudy-castle",
   "metadata": {},
   "outputs": [
    {
     "data": {
      "application/vnd.jupyter.widget-view+json": {
       "model_id": "5291ac32980845ad9209d2a8a33b2b03",
       "version_major": 2,
       "version_minor": 0
      },
      "text/plain": [
       "Canvas(toolbar=Toolbar(toolitems=[('Home', 'Reset original view', 'home', 'home'), ('Back', 'Back to previous …"
      ]
     },
     "metadata": {},
     "output_type": "display_data"
    }
   ],
   "source": [
    "fig11, ax11 = plt.subplots(2,4, figsize=(15,10))\n",
    "ax11=ax11.flatten()\n",
    "\n",
    "fig11.suptitle('photon(2) (rec - gen)', fontsize=16)\n",
    "\n",
    "for i, distro in enumerate(phot1_diff):\n",
    "    hist1D(ax11[i], MC_df, distro, cuts=cut, color='orangered', lalpha=0.7)"
   ]
  },
  {
   "cell_type": "code",
   "execution_count": 4,
   "id": "precious-pricing",
   "metadata": {},
   "outputs": [],
   "source": [
    "import sys\n",
    "sys.path.append(\"/home/pauln/code/nicks_plot_utils\")"
   ]
  },
  {
   "cell_type": "code",
   "execution_count": 5,
   "id": "sought-pregnancy",
   "metadata": {},
   "outputs": [],
   "source": [
    "from nicks_plot_utils import Hist1D as h1d\n",
    "from nicks_plot_utils import Hist2D as h2d"
   ]
  },
  {
   "cell_type": "code",
   "execution_count": 90,
   "id": "parliamentary-slovakia",
   "metadata": {},
   "outputs": [],
   "source": [
    "plt.style.use('seaborn')\n",
    "plt.rcParams['axes.grid'] = True\n",
    "plt.rcParams['axes.formatter.limits'] = (-3,3)\n",
    "plt.rcParams['axes.formatter.use_mathtext'] = True\n",
    "plt.rcParams['font.size']= 16\n",
    "plt.rcParams['axes.labelsize'] = 14\n",
    "plt.rcParams['axes.titlesize'] = 14\n",
    "plt.rcParams['xtick.labelsize'] = 10\n",
    "plt.rcParams['ytick.labelsize'] = 10"
   ]
  },
  {
   "cell_type": "code",
   "execution_count": 91,
   "id": "canadian-holocaust",
   "metadata": {},
   "outputs": [],
   "source": [
    "neut_diff = [\n",
    "    ['deltaPi0rec_px', (100, -.5, .5), r\"$\\delta p_{x}$\"],\n",
    "    ['deltaPi0rec_py', (100, -.5, .5), r\"$\\delta p_{y}$\"],\n",
    "    ['deltaPi0rec_pz', (100, -.5, .5), r\"$\\delta p_{z}$\"],\n",
    "    ['deltaPi0rec_E', (100, -.5, .5), r\"$\\delta E$\"],\n",
    "    ['deltaPi0rec_magP', (100, -.5, .5), r\"$\\delta |p|$\"],\n",
    "    ['deltaPi0rec_pT', (100, -.5, .5), r\"$\\delta p_{T}$\"],\n",
    "    ['deltaPi0rec_theta', (100, -7, 7), r\"$\\delta \\theta$\"]\n",
    "]"
   ]
  },
  {
   "cell_type": "code",
   "execution_count": 92,
   "id": "every-actress",
   "metadata": {},
   "outputs": [],
   "source": [
    "phi_2Ds = []\n",
    "# phi_xrange=[-10,50]\n",
    "# phi_xbins=100\n",
    "\n",
    "for distro in neut_diff:\n",
    "    var = distro[0]\n",
    "    rb = distro[1]\n",
    "    lbl= distro[2]\n",
    "    \n",
    "    h2 = h2d(xrange=[-10,50], xbins=100, yrange=[rb[1],rb[2]], ybins=rb[0], xname=r\"$\\delta \\phi$\", yname=lbl)\n",
    "    h2.fill(MC_df[\"deltaPi0rec_phi\"][cut], MC_df[var][cut])\n",
    "    \n",
    "    phi_2Ds.append(h2)\n",
    "\n"
   ]
  },
  {
   "cell_type": "code",
   "execution_count": 93,
   "id": "above-accreditation",
   "metadata": {},
   "outputs": [],
   "source": [
    "neut_diff = [\n",
    "    ['deltaPi0rec_px', (100, -.5, .5), r\"$\\delta p_{x}$\"],\n",
    "    ['deltaPi0rec_py', (100, -.5, .5), r\"$\\delta p_{y}$\"],\n",
    "    ['deltaPi0rec_pz', (100, -.5, .5), r\"$\\delta p_{z}$\"],\n",
    "    ['deltaPi0rec_E', (100, -.5, .5), r\"$\\delta E$\"],\n",
    "    ['deltaPi0rec_magP', (100, -.5, .5), r\"$\\delta |p|$\"],\n",
    "    ['deltaPi0rec_pT', (100, -.5, .5), r\"$\\delta p_{T}$\"],\n",
    "    ['deltaPi0rec_phi', (100, -10, 50), r\"$\\delta \\phi$\"]\n",
    "]"
   ]
  },
  {
   "cell_type": "code",
   "execution_count": 94,
   "id": "electoral-bundle",
   "metadata": {},
   "outputs": [],
   "source": [
    "theta_2Ds = []\n",
    "# phi_xrange=[-10,50]\n",
    "# phi_xbins=100\n",
    "\n",
    "for distro in neut_diff:\n",
    "    var = distro[0]\n",
    "    rb = distro[1]\n",
    "    lbl= distro[2]\n",
    "    \n",
    "    h2 = h2d(xrange=[-15,15], xbins=100, yrange=[rb[1],rb[2]], ybins=rb[0], xname=r\"$\\delta \\theta$\", yname=lbl)\n",
    "    h2.fill(MC_df[\"deltaPi0rec_theta\"][cut], MC_df[var][cut])\n",
    "    \n",
    "    theta_2Ds.append(h2)\n",
    "\n"
   ]
  },
  {
   "cell_type": "code",
   "execution_count": 95,
   "id": "special-asthma",
   "metadata": {},
   "outputs": [
    {
     "data": {
      "application/vnd.jupyter.widget-view+json": {
       "model_id": "5276c44c8a444792a9571f1ad91cf90c",
       "version_major": 2,
       "version_minor": 0
      },
      "text/plain": [
       "Canvas(toolbar=Toolbar(toolitems=[('Home', 'Reset original view', 'home', 'home'), ('Back', 'Back to previous …"
      ]
     },
     "metadata": {},
     "output_type": "display_data"
    }
   ],
   "source": [
    "fig,ax = plt.subplots(7,2, figsize=(15,25))\n",
    "\n",
    "for i,plot in enumerate(zip(phi_2Ds, theta_2Ds)):\n",
    "    plot[0].plot(ax=ax[i][0], density=False)\n",
    "    plot[1].plot(ax=ax[i][1], density=False)\n",
    "    \n",
    "plt.tight_layout()"
   ]
  },
  {
   "cell_type": "markdown",
   "id": "bright-mongolia",
   "metadata": {},
   "source": [
    "## Some follow up plots:"
   ]
  },
  {
   "cell_type": "code",
   "execution_count": 96,
   "id": "instrumental-theology",
   "metadata": {},
   "outputs": [
    {
     "data": {
      "text/plain": [
       "Histogram(\n",
       "  Regular(100, -30, 80),\n",
       "  Regular(100, 0, 1.75),\n",
       "  storage=Double()) # Sum: 273294.0 (316187.0 with flow)"
      ]
     },
     "execution_count": 96,
     "metadata": {},
     "output_type": "execute_result"
    }
   ],
   "source": [
    "dphi_theta = h2d(xrange=[-10,50], xbins=100, yrange=[0,70], ybins=100, xname=r\"$\\delta \\phi$\", yname=r\"$\\theta$\")\n",
    "dphi_theta.fill(MC_df[\"deltaPi0rec_phi\"][(MC_df.Truth == 1)], MC_df[\"Pi0rec_theta\"][(MC_df.Truth == 1)])\n",
    "\n",
    "dphi_p = h2d(xrange=[-30,80], xbins=100, yrange=[0,1.75], ybins=100, xname=r\"$\\delta \\phi$\", yname=r\"$|p|$\")\n",
    "dphi_p.fill(MC_df[\"deltaPi0rec_phi\"][(MC_df.Truth == 1)], MC_df[\"Pi0rec_magP\"][(MC_df.Truth == 1)])"
   ]
  },
  {
   "cell_type": "code",
   "execution_count": 185,
   "id": "floppy-still",
   "metadata": {},
   "outputs": [
    {
     "data": {
      "text/plain": [
       "Histogram(\n",
       "  Regular(100, -30, 80),\n",
       "  Regular(100, 0, 1.75),\n",
       "  storage=Double()) # Sum: 140899.0 (150651.0 with flow)"
      ]
     },
     "execution_count": 185,
     "metadata": {},
     "output_type": "execute_result"
    }
   ],
   "source": [
    "dphi_theta_cut = h2d(xrange=[-10,50], xbins=100, yrange=[0,70], ybins=100, xname=r\"$\\delta \\phi (cut)$\", yname=r\"$\\theta (cut)$\")\n",
    "dphi_theta_cut.fill(MC_df[\"deltaPi0rec_phi\"][cut], MC_df[\"Pi0rec_theta\"][cut])\n",
    "\n",
    "dphi_p_cut = h2d(xrange=[-30,80], xbins=100, yrange=[0,1.75], ybins=100, xname=r\"$\\delta \\phi$\", yname=r\"$|p|$\")\n",
    "dphi_p_cut.fill(MC_df[\"deltaPi0rec_phi\"][cut], MC_df[\"Pi0rec_magP\"][cut])"
   ]
  },
  {
   "cell_type": "code",
   "execution_count": 98,
   "id": "pretty-desert",
   "metadata": {},
   "outputs": [],
   "source": [
    "n_1D_Phi = h1d(data=MC_df[\"deltaPi0rec_phi\"][cut], xrange=[-30, 80], bins=100)\n"
   ]
  },
  {
   "cell_type": "code",
   "execution_count": 186,
   "id": "planned-drain",
   "metadata": {},
   "outputs": [
    {
     "data": {
      "application/vnd.jupyter.widget-view+json": {
       "model_id": "c0a66468eeec4d4da225bd95e7dd8ecd",
       "version_major": 2,
       "version_minor": 0
      },
      "text/plain": [
       "Canvas(toolbar=Toolbar(toolitems=[('Home', 'Reset original view', 'home', 'home'), ('Back', 'Back to previous …"
      ]
     },
     "metadata": {},
     "output_type": "display_data"
    },
    {
     "data": {
      "text/plain": [
       "<matplotlib.collections.QuadMesh at 0x7f2a15a35c50>"
      ]
     },
     "execution_count": 186,
     "metadata": {},
     "output_type": "execute_result"
    }
   ],
   "source": [
    "fig, ax = plt.subplots(2,2, figsize=(17,15))\n",
    "ax=ax.flatten()\n",
    "\n",
    "dphi_theta.plot(ax=ax[0], density=False)\n",
    "dphi_p.plot(ax=ax[1], density=False)\n",
    "dphi_theta_cut.plot(ax=ax[2], density=False)\n",
    "#n_1D_Phi.histogram(ax=ax[3], density=True, color=\"brown\")\n",
    "dphi_p_cut.plot(ax=ax[3], density=False)\n"
   ]
  },
  {
   "cell_type": "code",
   "execution_count": 184,
   "id": "residential-mistake",
   "metadata": {},
   "outputs": [
    {
     "data": {
      "application/vnd.jupyter.widget-view+json": {
       "model_id": "f8dcec036bf948919c9d321c7f2fd3c7",
       "version_major": 2,
       "version_minor": 0
      },
      "text/plain": [
       "Canvas(toolbar=Toolbar(toolitems=[('Home', 'Reset original view', 'home', 'home'), ('Back', 'Back to previous …"
      ]
     },
     "metadata": {},
     "output_type": "display_data"
    },
    {
     "data": {
      "text/plain": [
       "<matplotlib.legend.Legend at 0x7f2a15eeed10>"
      ]
     },
     "execution_count": 184,
     "metadata": {},
     "output_type": "execute_result"
    }
   ],
   "source": [
    "fig, ax = plt.subplots(1, 3, figsize=(15,5))\n",
    "\n",
    "hist1D(ax[0], MC_df, [\"truPi0rec_phi\", (130, -180, 180), r\"$neutron$ $\\phi$ - [all truth]\"], color='brown', lalpha=.7)\n",
    "\n",
    "axb=ax[1].twinx()\n",
    "hist1D(ax[1], MC_df, [\"Pi0rec_phi\", (48, -180, 180), r\"$neutron$ $\\phi$\"], cuts = cut&(MC_df.Truth == 1), label=\"Truth-Matched\")\n",
    "hist1D(axb, MC_df, [\"truPi0rec_phi\", (48, -180, 180), r\"$neutron$ $\\phi$\"], cuts = cut&(MC_df.Truth == 1), color='brown', lalpha=.7, label=\"Generated\")\n",
    "\n",
    "hist1D(ax[2], MC_df, [\"Pi0rec_phi\", (48, -180, 180), r\"$neutron$ $\\phi$\"], cuts = cut&(MC_df.Truth == 1)&(MC_df.Pi0flag_MC_neutrec==1), label=\"Truth-Matched + PID\")\n",
    "axc=ax[2].twinx()\n",
    "hist1D(axc, MC_df, [\"truPi0rec_phi\", (48, -180, 180), r\"$neutron$ $\\phi$\"], cuts = cut&(MC_df.Truth == 1)&(MC_df.Pi0flag_MC_neutrec==1), color='brown', lalpha=.7, label=\"Generated\")\n",
    "\n",
    "\n",
    "lines_1, labels_1 = ax[1].get_legend_handles_labels()\n",
    "lines_2, labels_2 = axb.get_legend_handles_labels()\n",
    "\n",
    "lines = lines_1 + lines_2\n",
    "labels = labels_1 + labels_2\n",
    "\n",
    "\n",
    "ax[1].legend(lines, labels, loc=3)\n",
    "\n",
    "lines_1, labels_1 = ax[2].get_legend_handles_labels()\n",
    "lines_2, labels_2 = axc.get_legend_handles_labels()\n",
    "\n",
    "lines = lines_1 + lines_2\n",
    "labels = labels_1 + labels_2\n",
    "\n",
    "\n",
    "ax[2].legend(lines, labels, loc=3)\n",
    "#def hist1D(ax, df, var, bins = None, cuts=None, y_err=False, color=None, lalpha=1, falpha=0.4, normed=False, filled = False, density = False, params={}):\n"
   ]
  },
  {
   "cell_type": "code",
   "execution_count": 192,
   "id": "rapid-welsh",
   "metadata": {},
   "outputs": [],
   "source": [
    "dphi_truPhi = h2d(\n",
    "    ydata=MC_df[\"deltaPi0rec_phi\"][(MC_df.Truth == 1)],\n",
    "    xdata=MC_df[\"truPi0rec_phi\"][(MC_df.Truth == 1)],\n",
    "    yrange=[-10,50], \n",
    "    ybins=100, \n",
    "    xrange=[-180,180], \n",
    "    xbins=48, \n",
    "    yname=r\"$\\delta \\phi (cut)$\", \n",
    "    xname=r\"$true\\ \\phi$\"\n",
    ")\n",
    "\n",
    "dphi_Phi = h2d(\n",
    "    ydata=MC_df[\"deltaPi0rec_phi\"][cut&(MC_df.Truth == 1)],\n",
    "    xdata=MC_df[\"Pi0rec_phi\"][cut&(MC_df.Truth == 1)],\n",
    "    yrange=[-10,50], \n",
    "    ybins=100, \n",
    "    xrange=[-180,180], \n",
    "    xbins=48, \n",
    "    yname=r\"$\\delta \\phi$\", \n",
    "    xname=r\"$\\phi$\"\n",
    ")\n",
    "\n",
    "# n_1D_Phi = h1d(data=MC_df[\"Pi0rec_phi\"][(MC_df.Truth == 1)],\n",
    "#                xrange=[-180, 180],\n",
    "#                bins=48)\n",
    "# n_1D_truPhi = h1d(data=MC_df[\"truPi0rec_phi\"][(MC_df.Truth == 1)],\n",
    "#                xrange=[-180, 180],\n",
    "#                bins=48)"
   ]
  },
  {
   "cell_type": "code",
   "execution_count": 193,
   "id": "uniform-explosion",
   "metadata": {},
   "outputs": [
    {
     "data": {
      "application/vnd.jupyter.widget-view+json": {
       "model_id": "b078a4d2bbad4d9788ec55442f4290d7",
       "version_major": 2,
       "version_minor": 0
      },
      "text/plain": [
       "Canvas(toolbar=Toolbar(toolitems=[('Home', 'Reset original view', 'home', 'home'), ('Back', 'Back to previous …"
      ]
     },
     "metadata": {},
     "output_type": "display_data"
    },
    {
     "data": {
      "text/plain": [
       "<matplotlib.collections.QuadMesh at 0x7f2a15027850>"
      ]
     },
     "execution_count": 193,
     "metadata": {},
     "output_type": "execute_result"
    }
   ],
   "source": [
    "fig,ax = plt.subplots(2,2, figsize=(12,10))\n",
    "ax=ax.flatten()\n",
    "\n",
    "hist1D(ax[0], MC_df, [\"truPi0rec_phi\", (48, -180, 180), r\"$neutron$ $\\phi$ - [truth  & True==1]\"], cuts = cut&(MC_df.Truth == 1), color='brown', lalpha=.7)\n",
    "hist1D(ax[1], MC_df, [\"Pi0rec_phi\", (48, -180, 180), r\"$neutron$ $\\phi$ -  [truth & True==1]\"], cuts = cut&(MC_df.Truth == 1))\n",
    "\n",
    "dphi_truPhi.plot(ax=ax[2], density=False, colorbar=False)\n",
    "dphi_Phi.plot(ax=ax[3], density=False, colorbar=False)"
   ]
  },
  {
   "cell_type": "code",
   "execution_count": 104,
   "id": "weird-inspection",
   "metadata": {},
   "outputs": [
    {
     "data": {
      "application/vnd.jupyter.widget-view+json": {
       "model_id": "0cfe50d44ea146fbbafe4cf0cdf8a979",
       "version_major": 2,
       "version_minor": 0
      },
      "text/plain": [
       "Canvas(toolbar=Toolbar(toolitems=[('Home', 'Reset original view', 'home', 'home'), ('Back', 'Back to previous …"
      ]
     },
     "metadata": {},
     "output_type": "display_data"
    }
   ],
   "source": [
    "fig,ax = plt.subplots(1,2, figsize=(12,6))\n",
    "\n",
    "\n",
    "dphi_truPhi.plot(ax=ax[0], density=False, colorbar=False)\n",
    "ax0=ax[0].twinx()\n",
    "ax0.grid(False)\n",
    "hist1D(ax0, MC_df, [\"truPi0rec_phi\", (48, -180, 180), r\"$neutron$ $\\phi$ - [truth  & True==1]\"], cuts = (MC_df.Truth == 1), color='brown', lalpha=.7)\n",
    "\n",
    "\n",
    "dphi_Phi.plot(ax=ax[1], density=False, colorbar=False)\n",
    "ax1=ax[1].twinx()\n",
    "ax1.grid(False)\n",
    "hist1D(ax1, MC_df, [\"Pi0rec_phi\", (48, -180, 180), r\"$neutron$ $\\phi$ -  [truth & True==1]\"], cuts = (MC_df.Truth == 1), color=\"blue\", lalpha=.5)\n",
    "\n"
   ]
  },
  {
   "cell_type": "code",
   "execution_count": 105,
   "id": "discrete-classroom",
   "metadata": {},
   "outputs": [],
   "source": [
    "dphi_truPhi = h2d(\n",
    "    ydata=MC_df[\"deltaPi0rec_phi\"][(MC_df.Truth == 1)],\n",
    "    xdata=MC_df[\"truPi0rec_phi\"][(MC_df.Truth == 1)],\n",
    "    yrange=[-9,9], \n",
    "    ybins=10, \n",
    "    xrange=[-180,180], \n",
    "    xbins=48, \n",
    "    yname=r\"$\\delta \\phi (cut)$\", \n",
    "    xname=r\"$true\\ \\phi$\"\n",
    ")\n",
    "\n",
    "dphi_Phi = h2d(\n",
    "    ydata=MC_df[\"deltaPi0rec_phi\"][(MC_df.Truth == 1)],\n",
    "    xdata=MC_df[\"Pi0rec_phi\"][(MC_df.Truth == 1)],\n",
    "    yrange=[-9,9], \n",
    "    ybins=10, \n",
    "    xrange=[-180,180], \n",
    "    xbins=48, \n",
    "    yname=r\"$\\delta \\phi (cut)$\", \n",
    "    xname=r\"$truth-matched\\ \\phi$\"\n",
    ")\n",
    "\n"
   ]
  },
  {
   "cell_type": "code",
   "execution_count": 106,
   "id": "quick-narrow",
   "metadata": {},
   "outputs": [
    {
     "data": {
      "application/vnd.jupyter.widget-view+json": {
       "model_id": "da91ddb1f7e44e28a82eee0d59fa7e3d",
       "version_major": 2,
       "version_minor": 0
      },
      "text/plain": [
       "Canvas(toolbar=Toolbar(toolitems=[('Home', 'Reset original view', 'home', 'home'), ('Back', 'Back to previous …"
      ]
     },
     "metadata": {},
     "output_type": "display_data"
    },
    {
     "data": {
      "text/plain": [
       "<matplotlib.collections.QuadMesh at 0x7f2a20812210>"
      ]
     },
     "execution_count": 106,
     "metadata": {},
     "output_type": "execute_result"
    }
   ],
   "source": [
    "fig,ax = plt.subplots(1,2, figsize=(13,5))\n",
    "dphi_truPhi.plot(ax=ax[0], density=False)\n",
    "dphi_Phi.plot(ax=ax[1], density=False)"
   ]
  },
  {
   "cell_type": "markdown",
   "id": "indoor-routine",
   "metadata": {},
   "source": [
    "## Status Bank for the neutron\n",
    "Parameterises where in the detector suite an event has been detected.\n",
    "   * 4000 => CD hit\n",
    "   * \\+ 100 * N CTOF responses\n",
    "   * \\+ 10 * N CND responses \n",
    "   \n",
    "---\n",
    "\n",
    "We have: \n",
    "   * mostly CND only hits (4010)\n",
    "   * some CTOF only hits (4100)\n",
    "   * a few CTOF and CND events (4110)"
   ]
  },
  {
   "cell_type": "code",
   "execution_count": 107,
   "id": "incomplete-oklahoma",
   "metadata": {},
   "outputs": [
    {
     "data": {
      "application/vnd.jupyter.widget-view+json": {
       "model_id": "648c4add27354b648a7e4250551af37a",
       "version_major": 2,
       "version_minor": 0
      },
      "text/plain": [
       "Canvas(toolbar=Toolbar(toolitems=[('Home', 'Reset original view', 'home', 'home'), ('Back', 'Back to previous …"
      ]
     },
     "metadata": {},
     "output_type": "display_data"
    }
   ],
   "source": [
    "fig,ax = plt.subplots()\n",
    "hist1D(ax, MC_df, [\"Pi0rec_status\", (2000, 3950, 4150), r\"$neutron$ $status$\"], color='brown', lalpha=.7)"
   ]
  },
  {
   "cell_type": "code",
   "execution_count": 108,
   "id": "accurate-zealand",
   "metadata": {},
   "outputs": [],
   "source": [
    "neut_diff = [\n",
    "    ['deltaPi0rec_px', (100, -1, 1), r\"$\\delta p_{x}$\"],\n",
    "    ['deltaPi0rec_py', (100, -1, 1), r\"$\\delta p_{y}$\"],\n",
    "    ['deltaPi0rec_pz', (100, -1, 1), r\"$\\delta p_{z}$\"],\n",
    "    ['deltaPi0rec_E', (100, -1, 1), r\"$\\delta E$\"],\n",
    "    ['deltaPi0rec_magP', (100, -1, 1), r\"$\\delta |p|$\"],\n",
    "    ['deltaPi0rec_pT', (100, -1, 1), r\"$\\delta p_{T}$\"],\n",
    "    ['deltaPi0rec_theta', (100, -10, 10), r\"$\\delta \\theta$\"],\n",
    "    ['deltaPi0rec_phi', (100, -20, 60), r\"$\\delta \\phi$\"]\n",
    "]"
   ]
  },
  {
   "cell_type": "code",
   "execution_count": 109,
   "id": "sticky-maryland",
   "metadata": {},
   "outputs": [
    {
     "data": {
      "application/vnd.jupyter.widget-view+json": {
       "model_id": "9aa4fbd579754ab6ab80c58cc2cd110c",
       "version_major": 2,
       "version_minor": 0
      },
      "text/plain": [
       "Canvas(toolbar=Toolbar(toolitems=[('Home', 'Reset original view', 'home', 'home'), ('Back', 'Back to previous …"
      ]
     },
     "metadata": {},
     "output_type": "display_data"
    },
    {
     "data": {
      "text/plain": [
       "<matplotlib.legend.Legend at 0x7f2a205039d0>"
      ]
     },
     "execution_count": 109,
     "metadata": {},
     "output_type": "execute_result"
    }
   ],
   "source": [
    "fig10, ax10 = plt.subplots(2,4, figsize=(15,10))\n",
    "ax10=ax10.flatten()\n",
    "\n",
    "fig10.suptitle('neutron (rec - gen)', fontsize=16)\n",
    "\n",
    "for i, distro in enumerate(neut_diff):\n",
    "    hist1D(ax10[i], MC_df, distro, cuts=cut&(MC_df.Pi0rec_status==4010), label=\"CND\", bins=50)\n",
    "    hist1D(ax10[i], MC_df, distro, cuts=cut&(MC_df.Pi0rec_status==4100), label=\"CTOF\", bins=50)\n",
    "    hist1D(ax10[i], MC_df, distro, cuts=cut&(MC_df.Pi0rec_status==4110), label=\"CND/CTOF\", bins=50)\n",
    "    \n",
    "ax10[3].legend(loc=1)"
   ]
  },
  {
   "cell_type": "code",
   "execution_count": 110,
   "id": "fiscal-morgan",
   "metadata": {},
   "outputs": [
    {
     "data": {
      "application/vnd.jupyter.widget-view+json": {
       "model_id": "379336e0a0a24219a7e1e7486a9fe4c0",
       "version_major": 2,
       "version_minor": 0
      },
      "text/plain": [
       "Canvas(toolbar=Toolbar(toolitems=[('Home', 'Reset original view', 'home', 'home'), ('Back', 'Back to previous …"
      ]
     },
     "metadata": {},
     "output_type": "display_data"
    },
    {
     "data": {
      "text/plain": [
       "<matplotlib.legend.Legend at 0x7f2a201a7990>"
      ]
     },
     "execution_count": 110,
     "metadata": {},
     "output_type": "execute_result"
    }
   ],
   "source": [
    "fig10, ax10 = plt.subplots(2,4, figsize=(15,10))\n",
    "ax10=ax10.flatten()\n",
    "\n",
    "fig10.suptitle('neutron (rec - gen)', fontsize=16)\n",
    "\n",
    "for i, distro in enumerate(neut_diff):\n",
    "    hist1D(ax10[i], MC_df, distro, cuts=cut&(MC_df.Pi0rec_status==4010), density=True, label=\"CND\", bins=50)\n",
    "    hist1D(ax10[i], MC_df, distro, cuts=cut&(MC_df.Pi0rec_status==4100), density=True, label=\"CTOF\", bins=50)\n",
    "    hist1D(ax10[i], MC_df, distro, cuts=cut&(MC_df.Pi0rec_status==4110), density=True, label=\"CND/CTOF\", bins=50)\n",
    "    \n",
    "ax10[3].legend(loc=1)"
   ]
  },
  {
   "cell_type": "code",
   "execution_count": 111,
   "id": "perceived-bridge",
   "metadata": {},
   "outputs": [],
   "source": [
    "dphi_p_stat1 = h2d(\n",
    "    xdata=MC_df[\"deltaPi0rec_phi\"][(MC_df.Truth == 1)&(MC_df.Pi0rec_status==4010)], \n",
    "    ydata=MC_df[\"Pi0rec_magP\"][(MC_df.Truth == 1)&(MC_df.Pi0rec_status==4010)], \n",
    "    xrange=[-30,80], \n",
    "    xbins=100, \n",
    "    yrange=[0,1.75], \n",
    "    ybins=100, \n",
    "    xname=r\"$\\delta \\phi (cut)$\", \n",
    "    yname=r\"$|p| (cut)$\"\n",
    ")\n",
    "\n",
    "dphi_p_stat2 = h2d(\n",
    "    xdata=MC_df[\"deltaPi0rec_phi\"][(MC_df.Truth == 1)&(MC_df.Pi0rec_status==4100)], \n",
    "    ydata=MC_df[\"Pi0rec_magP\"][(MC_df.Truth == 1)&(MC_df.Pi0rec_status==4100)], \n",
    "    xrange=[-30,80], \n",
    "    xbins=70, \n",
    "    yrange=[0,1.75], \n",
    "    ybins=70, \n",
    "    xname=r\"$\\delta \\phi (cut)$\", \n",
    "    yname=r\"$|p| (cut)$\"\n",
    ")\n",
    "\n",
    "dphi_p_stat3 = h2d(\n",
    "    xdata=MC_df[\"deltaPi0rec_phi\"][(MC_df.Truth == 1)&(MC_df.Pi0rec_status==4110)], \n",
    "    ydata=MC_df[\"Pi0rec_magP\"][(MC_df.Truth == 1)&(MC_df.Pi0rec_status==4110)], \n",
    "    xrange=[-30,80], \n",
    "    xbins=30, \n",
    "    yrange=[0,1.75], \n",
    "    ybins=30, \n",
    "    xname=r\"$\\delta \\phi (cut)$\", \n",
    "    yname=r\"$|p| (cut)$\"\n",
    ")\n"
   ]
  },
  {
   "cell_type": "code",
   "execution_count": 112,
   "id": "artificial-victory",
   "metadata": {},
   "outputs": [
    {
     "data": {
      "application/vnd.jupyter.widget-view+json": {
       "model_id": "227a512ee4dd432e948afe8fba850785",
       "version_major": 2,
       "version_minor": 0
      },
      "text/plain": [
       "Canvas(toolbar=Toolbar(toolitems=[('Home', 'Reset original view', 'home', 'home'), ('Back', 'Back to previous …"
      ]
     },
     "metadata": {},
     "output_type": "display_data"
    },
    {
     "data": {
      "text/plain": [
       "<matplotlib.collections.QuadMesh at 0x7f2a1fc3d710>"
      ]
     },
     "execution_count": 112,
     "metadata": {},
     "output_type": "execute_result"
    }
   ],
   "source": [
    "fig,ax = plt.subplots(1,3, figsize=(15,5))\n",
    "\n",
    "dphi_p_stat1.plot(ax=ax[0], density=False)\n",
    "dphi_p_stat2.plot(ax=ax[1], density=False)\n",
    "dphi_p_stat3.plot(ax=ax[2], density=False)"
   ]
  },
  {
   "cell_type": "code",
   "execution_count": 151,
   "id": "dominican-china",
   "metadata": {},
   "outputs": [],
   "source": [
    "dphi_phi_stat1 = h2d(\n",
    "    ydata=MC_df[\"deltaPi0rec_phi\"][cut&(MC_df.Truth == 1)&(MC_df.Pi0rec_status==4010)], \n",
    "    xdata=MC_df[\"Pi0rec_phi\"][cut&(MC_df.Truth == 1)&(MC_df.Pi0rec_status==4010)], \n",
    "    yrange=[-10,50], \n",
    "    ybins=80, \n",
    "    xrange=[-180,180], \n",
    "    xbins=48, \n",
    "    yname=r\"$\\delta \\phi$\", \n",
    "    xname=r\"$\\phi$\"\n",
    ")\n",
    "\n",
    "dphi_phi_stat2 = h2d(\n",
    "    ydata=MC_df[\"deltaPi0rec_phi\"][cut&(MC_df.Truth == 1)&(MC_df.Pi0rec_status==4100)], \n",
    "    xdata=MC_df[\"Pi0rec_phi\"][cut&(MC_df.Truth == 1)&(MC_df.Pi0rec_status==4100)], \n",
    "    yrange=[-10,50], \n",
    "    ybins=60, \n",
    "    xrange=[-180,180], \n",
    "    xbins=48, \n",
    "    yname=r\"$\\delta \\phi$\", \n",
    "    xname=r\"$\\phi$\"\n",
    ")\n",
    "\n",
    "dphi_phi_stat3 = h2d(\n",
    "    ydata=MC_df[\"deltaPi0rec_phi\"][cut&(MC_df.Truth == 1)&(MC_df.Pi0rec_status==4110)], \n",
    "    xdata=MC_df[\"Pi0rec_phi\"][cut&(MC_df.Truth == 1)&(MC_df.Pi0rec_status==4110)], \n",
    "    yrange=[-10,50], \n",
    "    ybins=20, \n",
    "    xrange=[-180,180], \n",
    "    xbins=48,  \n",
    "    yname=r\"$\\delta \\phi$\", \n",
    "    xname=r\"$\\phi$\"\n",
    ")\n"
   ]
  },
  {
   "cell_type": "code",
   "execution_count": 152,
   "id": "acting-invasion",
   "metadata": {},
   "outputs": [
    {
     "data": {
      "application/vnd.jupyter.widget-view+json": {
       "model_id": "087489e29d59494995c6e77173dda125",
       "version_major": 2,
       "version_minor": 0
      },
      "text/plain": [
       "Canvas(toolbar=Toolbar(toolitems=[('Home', 'Reset original view', 'home', 'home'), ('Back', 'Back to previous …"
      ]
     },
     "metadata": {},
     "output_type": "display_data"
    },
    {
     "data": {
      "text/plain": [
       "<matplotlib.collections.QuadMesh at 0x7f2a1bd62390>"
      ]
     },
     "execution_count": 152,
     "metadata": {},
     "output_type": "execute_result"
    }
   ],
   "source": [
    "fig,ax = plt.subplots(1,3, figsiWhat do you see on the MC that needs to be understood?ze=(15,5))\n",
    "\n",
    "dphi_phi_stat1.plot(ax=ax[0], density=False)\n",
    "dphi_phi_stat2.plot(ax=ax[1], density=False)\n",
    "dphi_phi_stat3.plot(ax=ax[2], density=False)"
   ]
  },
  {
   "cell_type": "code",
   "execution_count": 149,
   "id": "aggregate-affiliation",
   "metadata": {},
   "outputs": [],
   "source": [
    "dphi_phi_stat1 = h2d(\n",
    "    ydata=MC_df[\"deltaPi0rec_phi\"][(MC_df.Truth == 1)&(MC_df.Pi0rec_status==4010)&cut], \n",
    "    xdata=MC_df[\"Pi0rec_phi\"][(MC_df.Truth == 1)&(MC_df.Pi0rec_status==4010)&cut], \n",
    "    yrange=[-10,50], \n",
    "    ybins=80, \n",
    "    xrange=[-180,180], \n",
    "    xbins=48, \n",
    "    yname=r\"$\\delta \\phi (cut)$\", \n",
    "    xname=r\"$\\phi (cut)$\"\n",
    ")\n",
    "\n",
    "dphi_phi_stat2 = h2d(\n",
    "    ydata=MC_df[\"deltaPi0rec_phi\"][(MC_df.Truth == 1)&(MC_df.Pi0rec_status==4100)&cut], \n",
    "    xdata=MC_df[\"Pi0rec_phi\"][(MC_df.Truth == 1)&(MC_df.Pi0rec_status==4100)&cut], \n",
    "    yrange=[-10,50], \n",
    "    ybins=60, \n",
    "    xrange=[-180,180], \n",
    "    xbins=48, \n",
    "    yname=r\"$\\delta \\phi (cut)$\", \n",
    "    xname=r\"$\\phi (cut)$\"\n",
    ")\n",
    "\n",
    "dphi_phi_stat3 = h2d(\n",
    "    ydata=MC_df[\"deltaPi0rec_phi\"][(MC_df.Truth == 1)&(MC_df.Pi0rec_status==4110)&cut], \n",
    "    xdata=MC_df[\"Pi0rec_phi\"][(MC_df.Truth == 1)&(MC_df.Pi0rec_status==4110)&cut], \n",
    "    yrange=[-10,50], \n",
    "    ybins=20, \n",
    "    xrange=[-180,180], \n",
    "    xbins=48,  \n",
    "    yname=r\"$\\delta \\phi (cut)$\", \n",
    "    xname=r\"$\\phi (cut)$\"\n",
    ")\n"
   ]
  },
  {
   "cell_type": "code",
   "execution_count": 187,
   "id": "assigned-integral",
   "metadata": {},
   "outputs": [
    {
     "data": {
      "application/vnd.jupyter.widget-view+json": {
       "model_id": "f6e9b923b7464960ba4ad91568e4dad6",
       "version_major": 2,
       "version_minor": 0
      },
      "text/plain": [
       "Canvas(toolbar=Toolbar(toolitems=[('Home', 'Reset original view', 'home', 'home'), ('Back', 'Back to previous …"
      ]
     },
     "metadata": {},
     "output_type": "display_data"
    }
   ],
   "source": [
    "fig,ax = plt.subplots(1,3, figsize=(15,5))\n",
    "\n",
    "dphi_phi_stat1.plot(ax=ax[0], density=False)\n",
    "dphi_phi_stat2.plot(ax=ax[1], density=False)\n",
    "dphi_phi_stat3.plot(ax=ax[2], density=False)\n",
    "\n",
    "plt.tight_layout()"
   ]
  },
  {
   "cell_type": "code",
   "execution_count": 115,
   "id": "mexican-vaccine",
   "metadata": {},
   "outputs": [],
   "source": [
    "dphi_Phi_stat1 = h2d(\n",
    "    ydata=MC_df[\"deltaPi0rec_phi\"][(MC_df.Truth == 1)&(MC_df.Pi0rec_status==4010)],\n",
    "    xdata=MC_df[\"Pi0rec_phi\"][(MC_df.Truth == 1)&(MC_df.Pi0rec_status==4010)],\n",
    "    yrange=[-9,9], \n",
    "    ybins=4, \n",
    "    xrange=[-180,180], \n",
    "    xbins=48, \n",
    "    yname=r\"$\\delta \\phi (cut)$\", \n",
    "    xname=r\"$truth-matched\\ \\phi$\"\n",
    ")\n",
    "\n",
    "dphi_Phi_stat2 = h2d(\n",
    "    ydata=MC_df[\"deltaPi0rec_phi\"][(MC_df.Truth == 1)&(MC_df.Pi0rec_status==4100)],\n",
    "    xdata=MC_df[\"Pi0rec_phi\"][(MC_df.Truth == 1)&(MC_df.Pi0rec_status==4100)],\n",
    "    yrange=[-9,9], \n",
    "    ybins=4, \n",
    "    xrange=[-180,180], \n",
    "    xbins=48, \n",
    "    yname=r\"$\\delta \\phi (cut)$\", \n",
    "    xname=r\"$truth-matched\\ \\phi$\"\n",
    ")\n",
    "\n",
    "dphi_Phi_stat3 = h2d(\n",
    "    ydata=MC_df[\"deltaPi0rec_phi\"][(MC_df.Truth == 1)&(MC_df.Pi0rec_status==4110)],\n",
    "    xdata=MC_df[\"Pi0rec_phi\"][(MC_df.Truth == 1)&(MC_df.Pi0rec_status==4110)],\n",
    "    yrange=[-9,9], \n",
    "    ybins=4, \n",
    "    xrange=[-180,180], \n",
    "    xbins=48, \n",
    "    yname=r\"$\\delta \\phi (cut)$\", \n",
    "    xname=r\"$truth-matched\\ \\phi$\"\n",
    ")\n",
    "\n"
   ]
  },
  {
   "cell_type": "code",
   "execution_count": 116,
   "id": "useful-priest",
   "metadata": {},
   "outputs": [
    {
     "data": {
      "application/vnd.jupyter.widget-view+json": {
       "model_id": "f64c87c13be64a8b821dbb1ca75692d9",
       "version_major": 2,
       "version_minor": 0
      },
      "text/plain": [
       "Canvas(toolbar=Toolbar(toolitems=[('Home', 'Reset original view', 'home', 'home'), ('Back', 'Back to previous …"
      ]
     },
     "metadata": {},
     "output_type": "display_data"
    },
    {
     "data": {
      "text/plain": [
       "<matplotlib.collections.QuadMesh at 0x7f2a1f704d50>"
      ]
     },
     "execution_count": 116,
     "metadata": {},
     "output_type": "execute_result"
    }
   ],
   "source": [
    "fig,ax = plt.subplots(1,3, figsize=(18,5))\n",
    "\n",
    "dphi_Phi_stat1.plot(ax=ax[0], density=False)\n",
    "dphi_Phi_stat2.plot(ax=ax[1], density=False)\n",
    "dphi_Phi_stat3.plot(ax=ax[2], density=False)"
   ]
  },
  {
   "cell_type": "markdown",
   "id": "invisible-corps",
   "metadata": {},
   "source": [
    "## Adding PID matching on truth"
   ]
  },
  {
   "cell_type": "code",
   "execution_count": 117,
   "id": "intellectual-pharmacy",
   "metadata": {},
   "outputs": [
    {
     "data": {
      "application/vnd.jupyter.widget-view+json": {
       "model_id": "61fa228991b640b5829738d6800c558c",
       "version_major": 2,
       "version_minor": 0
      },
      "text/plain": [
       "Canvas(toolbar=Toolbar(toolitems=[('Home', 'Reset original view', 'home', 'home'), ('Back', 'Back to previous …"
      ]
     },
     "metadata": {},
     "output_type": "display_data"
    }
   ],
   "source": [
    "fig2, ax2 = plt.subplots(2,4, figsize=(15,10))\n",
    "ax2=ax2.flatten()\n",
    "\n",
    "fig2.suptitle('neutrons', fontsize=16)\n",
    "\n",
    "for i, distro in enumerate(neut_distros):\n",
    "    hist1D(ax2[i], MC_df, distro, cuts=(MC_df.Truth==1)&(MC_df.Pi0flag_MC_neutrec==1))\n",
    "    \n",
    "for i, distro in enumerate(neut_t_distros):\n",
    "    ax=ax2[i].twinx()\n",
    "\n",
    "    hist1D(ax, MC_df, distro, cuts=(MC_df.Truth==1)&(MC_df.Pi0flag_MC_neutrec==1), color='brown', lalpha=0.7)"
   ]
  },
  {
   "cell_type": "code",
   "execution_count": 168,
   "id": "veterinary-committee",
   "metadata": {},
   "outputs": [
    {
     "data": {
      "application/vnd.jupyter.widget-view+json": {
       "model_id": "1db0142d514449a8b2146587c83d3a67",
       "version_major": 2,
       "version_minor": 0
      },
      "text/plain": [
       "Canvas(toolbar=Toolbar(toolitems=[('Home', 'Reset original view', 'home', 'home'), ('Back', 'Back to previous …"
      ]
     },
     "metadata": {},
     "output_type": "display_data"
    },
    {
     "data": {
      "text/plain": [
       "<matplotlib.legend.Legend at 0x7f2a182b7290>"
      ]
     },
     "execution_count": 168,
     "metadata": {},
     "output_type": "execute_result"
    }
   ],
   "source": [
    "PID_fullcombfig6, ax6 = plt.subplots(2,4, figsize=(15,10))\n",
    "ax6=ax6.flatten()\n",
    "\n",
    "fig6.suptitle('neutrons', fontsize=16)\n",
    "\n",
    "for i, distro in enumerate(neut_distros):\n",
    "    hist1D(ax6[i], MC_df, distro, cuts=cut&(MC_df.Pi0flag_MC_neutrec==1), label=\"Truth & PID\")\n",
    "    \n",
    "for i, distro in enumerate(neut_t_distros):\n",
    "    ax=ax6[i].twinx()\n",
    "\n",
    "    hist1D(ax, MC_df, distro, cuts=cut&(MC_df.Pi0flag_MC_neutrec==1), color='brown', lalpha=0.7, label=\"Generated\")\n",
    "    \n",
    "lines_1, labels_1 = ax6[0].get_legend_handles_labels()\n",
    "lines_2, labels_2 = ax.get_legend_handles_labels()\n",
    "\n",
    "lines = lines_1 + lines_2\n",
    "labels = labels_1 + labels_2\n",
    "\n",
    "\n",
    "ax6[3].legend(lines, labels, loc=1)\n",
    "ax6[4].legend(lines, labels, loc=1)"
   ]
  },
  {
   "cell_type": "code",
   "execution_count": 119,
   "id": "modern-worst",
   "metadata": {},
   "outputs": [],
   "source": [
    "neut_diff = [\n",
    "    ['deltaPi0rec_px', (100, -.5, .5), r\"$\\delta p_{x}$\"],\n",
    "    ['deltaPi0rec_py', (100, -.5, .5), r\"$\\delta p_{y}$\"],\n",
    "    ['deltaPi0rec_pz', (100, -.5, .5), r\"$\\delta p_{z}$\"],\n",
    "    ['deltaPi0rec_E', (100, -.5, .5), r\"$\\delta E$\"],\n",
    "    ['deltaPi0rec_magP', (100, -.5, .5), r\"$\\delta |p|$\"],\n",
    "    ['deltaPi0rec_pT', (100, -.5, .5), r\"$\\delta p_{T}$\"],\n",
    "    ['deltaPi0rec_theta', (100, -10, 10), r\"$\\delta \\theta$\"],    \n",
    "    ['deltaPi0rec_phi', (100, -10, 50), r\"$\\delta \\phi$\"]\n",
    "]"
   ]
  },
  {
   "cell_type": "code",
   "execution_count": 120,
   "id": "motivated-microwave",
   "metadata": {},
   "outputs": [
    {
     "data": {
      "application/vnd.jupyter.widget-view+json": {
       "model_id": "d5485ce807834fe1989219a2f724b885",
       "version_major": 2,
       "version_minor": 0
      },
      "text/plain": [
       "Canvas(toolbar=Toolbar(toolitems=[('Home', 'Reset original view', 'home', 'home'), ('Back', 'Back to previous …"
      ]
     },
     "metadata": {},
     "output_type": "display_data"
    }
   ],
   "source": [
    "fig10, ax10 = plt.subplots(2,4, figsize=(15,10))\n",
    "ax10=ax10.flatten()\n",
    "\n",
    "fig10.suptitle('neutron (rec - gen)', fontsize=16)\n",
    "\n",
    "for i, distro in enumerate(neut_diff):\n",
    "    hist1D(ax10[i], MC_df, distro, cuts=cut&(MC_df.Pi0flag_MC_neutrec==1), color='orangered', lalpha=0.7)"
   ]
  },
  {
   "cell_type": "code",
   "execution_count": 121,
   "id": "fluid-brook",
   "metadata": {},
   "outputs": [
    {
     "data": {
      "text/plain": [
       "Histogram(\n",
       "  Regular(100, -30, 80),\n",
       "  Regular(100, 0, 1.75),\n",
       "  storage=Double()) # Sum: 5920.0 (6040.0 with flow)"
      ]
     },
     "execution_count": 121,
     "metadata": {},
     "output_type": "execute_result"
    }
   ],
   "source": [
    "dphi_p_cut = h2d(xrange=[-30,80], xbins=100, yrange=[0,1.75], ybins=100, xname=r\"$\\delta \\phi (cut)$\", yname=r\"$|p| (cut)$\")\n",
    "dphi_p_cut.fill(MC_df[\"deltaPi0rec_phi\"][cut&(MC_df.Pi0flag_MC_neutrec==1)], MC_df[\"Pi0rec_magP\"][cut&(MC_df.Pi0flag_MC_neutrec==1)])"
   ]
  },
  {
   "cell_type": "code",
   "execution_count": 122,
   "id": "lonely-technical",
   "metadata": {},
   "outputs": [
    {
     "data": {
      "application/vnd.jupyter.widget-view+json": {
       "model_id": "9f92954525744c6b9ea198db04ca821a",
       "version_major": 2,
       "version_minor": 0
      },
      "text/plain": [
       "Canvas(toolbar=Toolbar(toolitems=[('Home', 'Reset original view', 'home', 'home'), ('Back', 'Back to previous …"
      ]
     },
     "metadata": {},
     "output_type": "display_data"
    },
    {
     "data": {
      "text/plain": [
       "<matplotlib.collections.QuadMesh at 0x7f2a1eb42050>"
      ]
     },
     "execution_count": 122,
     "metadata": {},
     "output_type": "execute_result"
    }
   ],
   "source": [
    "fig,ax = plt.subplots()\n",
    "dphi_p_cut.plot(ax=ax, density=False)"
   ]
  },
  {
   "cell_type": "code",
   "execution_count": null,
   "id": "enormous-diana",
   "metadata": {},
   "outputs": [],
   "source": []
  },
  {
   "cell_type": "markdown",
   "id": "numeric-wales",
   "metadata": {},
   "source": [
    "## Status Bank with PID added"
   ]
  },
  {
   "cell_type": "code",
   "execution_count": 146,
   "id": "touched-juvenile",
   "metadata": {},
   "outputs": [
    {
     "data": {
      "application/vnd.jupyter.widget-view+json": {
       "model_id": "a4f58e5bd3c345648c6da27a1525fe6e",
       "version_major": 2,
       "version_minor": 0
      },
      "text/plain": [
       "Canvas(toolbar=Toolbar(toolitems=[('Home', 'Reset original view', 'home', 'home'), ('Back', 'Back to previous …"
      ]
     },
     "metadata": {},
     "output_type": "display_data"
    },
    {
     "data": {
      "text/plain": [
       "<matplotlib.legend.Legend at 0x7f2a201e52d0>"
      ]
     },
     "execution_count": 146,
     "metadata": {},
     "output_type": "execute_result"
    }
   ],
   "source": [
    "fig,ax = plt.subplots()\n",
    "hist1D(ax, MC_df, [\"Pi0rec_status\", (2000, 3950, 4150), r\"$neutron$ $status$\"], cuts=(MC_df.Truth==1), color='black', label=\"Truth-Matched\")\n",
    "ax2=ax.twinx()\n",
    "hist1D(ax2, MC_df, [\"Pi0rec_status\", (2000, 3950, 4150), r\"$neutron$ $status$\"], cuts=(MC_df.Truth==1)&(MC_df.Pi0flag_MC_neutrec==1), color='red', lalpha=.5, label=\"Truth-Matched with PID\")\n",
    "\n",
    "ax.legend(loc=2)\n",
    "ax2.legend()"
   ]
  },
  {
   "cell_type": "code",
   "execution_count": 140,
   "id": "wrong-fancy",
   "metadata": {},
   "outputs": [],
   "source": [
    "neut_diff = [\n",
    "    ['deltaPi0rec_px', (100, -1, 1), r\"$\\delta p_{x}$\"],\n",
    "    ['deltaPi0rec_py', (100, -1, 1), r\"$\\delta p_{y}$\"],\n",
    "    ['deltaPi0rec_pz', (100, -1, 1), r\"$\\delta p_{z}$\"],\n",
    "    ['deltaPi0rec_E', (100, -1, 1), r\"$\\delta E$\"],\n",
    "    ['deltaPi0rec_magP', (100, -1, 1), r\"$\\delta |p|$\"],\n",
    "    ['deltaPi0rec_pT', (100, -1, 1), r\"$\\delta p_{T}$\"],\n",
    "    ['deltaPi0rec_theta', (100, -10, 10), r\"$\\delta \\theta$\"],\n",
    "    ['deltaPi0rec_phi', (100, -20, 60), r\"$\\delta \\phi$\"]\n",
    "]"
   ]
  },
  {
   "cell_type": "code",
   "execution_count": 135,
   "id": "decimal-boxing",
   "metadata": {},
   "outputs": [
    {
     "data": {
      "application/vnd.jupyter.widget-view+json": {
       "model_id": "be174296c23643cb8bf64453a7e6ab8a",
       "version_major": 2,
       "version_minor": 0
      },
      "text/plain": [
       "Canvas(toolbar=Toolbar(toolitems=[('Home', 'Reset original view', 'home', 'home'), ('Back', 'Back to previous …"
      ]
     },
     "metadata": {},
     "output_type": "display_data"
    },
    {
     "data": {
      "text/plain": [
       "<matplotlib.legend.Legend at 0x7f2a1de4f510>"
      ]
     },
     "execution_count": 135,
     "metadata": {},
     "output_type": "execute_result"
    }
   ],
   "source": [
    "fig10, ax10 = plt.subplots(2,4, figsize=(15,10))\n",
    "ax10=ax10.flatten()\n",
    "\n",
    "fig10.suptitle('neutron (rec - gen) - with PUID', fontsize=16)\n",
    "\n",
    "for i, distro in enumerate(neut_diff):\n",
    "    hist1D(ax10[i], MC_df, distro, cuts=cut&(MC_df.Pi0rec_status==4010)&(MC_df.Pi0flag_MC_neutrec==1), label=\"CND\", bins=50)\n",
    "    hist1D(ax10[i], MC_df, distro, cuts=cut&(MC_df.Pi0rec_status==4100)&(MC_df.Pi0flag_MC_neutrec==1), label=\"CTOF\", bins=50)\n",
    "    hist1D(ax10[i], MC_df, distro, cuts=cut&(MC_df.Pi0rec_status==4110)&(MC_df.Pi0flag_MC_neutrec==1), label=\"CND/CTOF\", bins=50)\n",
    "    \n",
    "ax10[3].legend(loc=1)"
   ]
  },
  {
   "cell_type": "code",
   "execution_count": 194,
   "id": "twenty-moscow",
   "metadata": {},
   "outputs": [
    {
     "data": {
      "application/vnd.jupyter.widget-view+json": {
       "model_id": "b34bde9510a84dab9f2e676dc1ab4128",
       "version_major": 2,
       "version_minor": 0
      },
      "text/plain": [
       "Canvas(toolbar=Toolbar(toolitems=[('Home', 'Reset original view', 'home', 'home'), ('Back', 'Back to previous …"
      ]
     },
     "metadata": {},
     "output_type": "display_data"
    },
    {
     "data": {
      "text/plain": [
       "<matplotlib.legend.Legend at 0x7f2a14dcefd0>"
      ]
     },
     "execution_count": 194,
     "metadata": {},
     "output_type": "execute_result"
    }
   ],
   "source": [
    "fig10, ax10 = plt.subplots(2,4, figsize=(15,10))\n",
    "ax10=ax10.flatten()\n",
    "\n",
    "fig10.suptitle('neutron (rec - gen) - with PID', fontsize=16)\n",
    "\n",
    "for i, distro in enumerate(neut_diff):\n",
    "    hist1D(ax10[i], MC_df, distro, cuts=cut&(MC_df.Pi0rec_status==4010)&(MC_df.Pi0flag_MC_neutrec==1), density=True, label=\"CND\", bins=50)\n",
    "    hist1D(ax10[i], MC_df, distro, cuts=cut&(MC_df.Pi0rec_status==4100)&(MC_df.Pi0flag_MC_neutrec==1), density=True, label=\"CTOF\", bins=50)\n",
    "    hist1D(ax10[i], MC_df, distro, cuts=cut&(MC_df.Pi0rec_status==4110)&(MC_df.Pi0flag_MC_neutrec==1), density=True, label=\"CND/CTOF\", bins=25)\n",
    "    \n",
    "ax10[3].legend(loc=1)"
   ]
  },
  {
   "cell_type": "code",
   "execution_count": 6,
   "id": "stretch-translation",
   "metadata": {},
   "outputs": [],
   "source": [
    "MC_root_file = \"/w/work3/home/pauln/analysis/processed/chanser_MC15/pauln/Pi0_PID_fullcomb/FinalState.root\"\n",
    "\n",
    "tree= \"FINALOUTTREE\"\n",
    "\n",
    "data = uproot.open(MC_root_file)[tree]\n",
    "MC15_df = data.pandas.df()"
   ]
  },
  {
   "cell_type": "code",
   "execution_count": 46,
   "id": "national-mountain",
   "metadata": {},
   "outputs": [
    {
     "data": {
      "text/plain": [
       "['Pi0helicity',\n",
       " 'Pi0W2',\n",
       " 'Pi0Q2',\n",
       " 'Pi0xB',\n",
       " 'Pi0tneg',\n",
       " 'Pi0tneg_pi0',\n",
       " 'Pi0dtneg',\n",
       " 'Pi0IM_g1g2',\n",
       " 'Pi0MM2_total',\n",
       " 'Pi0MP_total',\n",
       " 'Pi0ME_total',\n",
       " 'Pi0MPt_total',\n",
       " 'Pi0pi0coneangle',\n",
       " 'Pi0eg1coneangle',\n",
       " 'Pi0eg2coneangle',\n",
       " 'Pi0recoilconeangle',\n",
       " 'Pi0MP_rec_recoil',\n",
       " 'Pi0MPt_rec_recoil',\n",
       " 'Pi0MM_rec_recoil',\n",
       " 'Pi0MM2_rec_recoil',\n",
       " 'Pi0MP_rec_spectator',\n",
       " 'Pi0MPt_rec_spectator',\n",
       " 'Pi0MM_rec_spectator',\n",
       " 'Pi0MM2_rec_spectator',\n",
       " 'Pi0phi_Nvg',\n",
       " 'Pi0phi_Nnew',\n",
       " 'Pi0phi_vgnew',\n",
       " 'Pi0cop_Nvg_vgnew',\n",
       " 'Pi0cop_Nvg_Nnew',\n",
       " 'Pi0cop_Nnew_vgnew',\n",
       " 'Pi0recon_recoil_T',\n",
       " 'Pi0recoil_T',\n",
       " 'Pi0dneutT',\n",
       " 'Pi0rec_px',\n",
       " 'Pi0rec_py',\n",
       " 'Pi0rec_pz',\n",
       " 'Pi0rec_E',\n",
       " 'Pi0rec_magP',\n",
       " 'Pi0rec_pT',\n",
       " 'Pi0rec_theta',\n",
       " 'Pi0rec_phi',\n",
       " 'Pi0rec_status',\n",
       " 'Pi0rec_PID',\n",
       " 'Pi0e_px',\n",
       " 'Pi0e_py',\n",
       " 'Pi0e_pz',\n",
       " 'Pi0e_E',\n",
       " 'Pi0e_magP',\n",
       " 'Pi0e_pT',\n",
       " 'Pi0e_theta',\n",
       " 'Pi0e_phi',\n",
       " 'Pi0e_status',\n",
       " 'Pi0phot1_px',\n",
       " 'Pi0phot1_py',\n",
       " 'Pi0phot1_pz',\n",
       " 'Pi0phot1_E',\n",
       " 'Pi0phot1_magP',\n",
       " 'Pi0phot1_pT',\n",
       " 'Pi0phot1_theta',\n",
       " 'Pi0phot1_phi',\n",
       " 'Pi0phot1_status',\n",
       " 'Pi0phot2_px',\n",
       " 'Pi0phot2_py',\n",
       " 'Pi0phot2_pz',\n",
       " 'Pi0phot2_E',\n",
       " 'Pi0phot2_magP',\n",
       " 'Pi0phot2_pT',\n",
       " 'Pi0phot2_theta',\n",
       " 'Pi0phot2_phi',\n",
       " 'Pi0phot2_status',\n",
       " 'Pi0rec_Beta',\n",
       " 'Pi0phot1_Beta',\n",
       " 'Pi0phot2_Beta',\n",
       " 'Pi0e_sampfrac',\n",
       " 'Pi0rcdb_Ebeam',\n",
       " 'Pi0flag_photon1_FT',\n",
       " 'Pi0flag_photon1_FD',\n",
       " 'Pi0flag_photon2_FT',\n",
       " 'Pi0flag_photon2_FD',\n",
       " 'Pi0flag_cut_3sigPi0IM',\n",
       " 'Pi0flag_MC_neutrec',\n",
       " 'truPi0helicity',\n",
       " 'truPi0W2',\n",
       " 'truPi0Q2',\n",
       " 'truPi0xB',\n",
       " 'truPi0tneg',\n",
       " 'truPi0tneg_pi0',\n",
       " 'truPi0dtneg',\n",
       " 'truPi0IM_g1g2',\n",
       " 'truPi0MM2_total',\n",
       " 'truPi0MP_total',\n",
       " 'truPi0ME_total',\n",
       " 'truPi0MPt_total',\n",
       " 'truPi0pi0coneangle',\n",
       " 'truPi0eg1coneangle',\n",
       " 'truPi0eg2coneangle',\n",
       " 'truPi0recoilconeangle',\n",
       " 'truPi0MP_rec_recoil',\n",
       " 'truPi0MPt_rec_recoil',\n",
       " 'truPi0MM_rec_recoil',\n",
       " 'truPi0MM2_rec_recoil',\n",
       " 'truPi0MP_rec_spectator',\n",
       " 'truPi0MPt_rec_spectator',\n",
       " 'truPi0MM_rec_spectator',\n",
       " 'truPi0MM2_rec_spectator',\n",
       " 'truPi0phi_Nvg',\n",
       " 'truPi0phi_Nnew',\n",
       " 'truPi0phi_vgnew',\n",
       " 'truPi0cop_Nvg_vgnew',\n",
       " 'truPi0cop_Nvg_Nnew',\n",
       " 'truPi0cop_Nnew_vgnew',\n",
       " 'truPi0recon_recoil_T',\n",
       " 'truPi0recoil_T',\n",
       " 'truPi0dneutT',\n",
       " 'truPi0rec_px',\n",
       " 'truPi0rec_py',\n",
       " 'truPi0rec_pz',\n",
       " 'truPi0rec_E',\n",
       " 'truPi0rec_magP',\n",
       " 'truPi0rec_pT',\n",
       " 'truPi0rec_theta',\n",
       " 'truPi0rec_phi',\n",
       " 'truPi0rec_status',\n",
       " 'truPi0rec_PID',\n",
       " 'truPi0e_px',\n",
       " 'truPi0e_py',\n",
       " 'truPi0e_pz',\n",
       " 'truPi0e_E',\n",
       " 'truPi0e_magP',\n",
       " 'truPi0e_pT',\n",
       " 'truPi0e_theta',\n",
       " 'truPi0e_phi',\n",
       " 'truPi0e_status',\n",
       " 'truPi0phot1_px',\n",
       " 'truPi0phot1_py',\n",
       " 'truPi0phot1_pz',\n",
       " 'truPi0phot1_E',\n",
       " 'truPi0phot1_magP',\n",
       " 'truPi0phot1_pT',\n",
       " 'truPi0phot1_theta',\n",
       " 'truPi0phot1_phi',\n",
       " 'truPi0phot1_status',\n",
       " 'truPi0phot2_px',\n",
       " 'truPi0phot2_py',\n",
       " 'truPi0phot2_pz',\n",
       " 'truPi0phot2_E',\n",
       " 'truPi0phot2_magP',\n",
       " 'truPi0phot2_pT',\n",
       " 'truPi0phot2_theta',\n",
       " 'truPi0phot2_phi',\n",
       " 'truPi0phot2_status',\n",
       " 'truPi0rec_Beta',\n",
       " 'truPi0phot1_Beta',\n",
       " 'truPi0phot2_Beta',\n",
       " 'truPi0e_sampfrac',\n",
       " 'truPi0rcdb_Ebeam',\n",
       " 'truPi0flag_photon1_FT',\n",
       " 'truPi0flag_photon1_FD',\n",
       " 'truPi0flag_photon2_FT',\n",
       " 'truPi0flag_photon2_FD',\n",
       " 'truPi0flag_cut_3sigPi0IM',\n",
       " 'truPi0flag_MC_neutrec',\n",
       " 'Topo',\n",
       " 'NPerm',\n",
       " 'Truth',\n",
       " 'ZeroKins',\n",
       " 'hitPCAL']"
      ]
     },
     "execution_count": 46,
     "metadata": {},
     "output_type": "execute_result"
    }
   ],
   "source": [
    "list(MC15_df.columns)"
   ]
  },
  {
   "cell_type": "code",
   "execution_count": 11,
   "id": "elementary-decline",
   "metadata": {},
   "outputs": [
    {
     "data": {
      "text/plain": [
       "64164"
      ]
     },
     "execution_count": 11,
     "metadata": {},
     "output_type": "execute_result"
    }
   ],
   "source": [
    "len(MC15_df['truPi0flag_MC_neutrec'][MC15_df.Truth==1])"
   ]
  },
  {
   "cell_type": "code",
   "execution_count": 203,
   "id": "convinced-consent",
   "metadata": {},
   "outputs": [
    {
     "data": {
      "text/plain": [
       "9865"
      ]
     },
     "execution_count": 203,
     "metadata": {},
     "output_type": "execute_result"
    }
   ],
   "source": [
    "len(MC15_df['truPi0flag_MC_neutrec'][(MC15_df.Truth==1)&(MC15_df.Pi0flag_MC_neutrec==1)])"
   ]
  },
  {
   "cell_type": "code",
   "execution_count": 205,
   "id": "demographic-heart",
   "metadata": {},
   "outputs": [
    {
     "data": {
      "text/plain": [
       "54299"
      ]
     },
     "execution_count": 205,
     "metadata": {},
     "output_type": "execute_result"
    }
   ],
   "source": [
    "len(MC15_df['truPi0flag_MC_neutrec'][(MC15_df.Truth==1)&(MC15_df.Pi0flag_MC_neutrec==0)])"
   ]
  },
  {
   "cell_type": "code",
   "execution_count": 204,
   "id": "arbitrary-retreat",
   "metadata": {},
   "outputs": [
    {
     "data": {
      "text/plain": [
       "986841"
      ]
     },
     "execution_count": 204,
     "metadata": {},
     "output_type": "execute_result"
    }
   ],
   "source": [
    "len(MC15_df['truPi0flag_MC_neutrec'])"
   ]
  },
  {
   "cell_type": "code",
   "execution_count": null,
   "id": "cheap-rouge",
   "metadata": {},
   "outputs": [],
   "source": []
  },
  {
   "cell_type": "code",
   "execution_count": 206,
   "id": "industrial-neutral",
   "metadata": {},
   "outputs": [
    {
     "data": {
      "text/plain": [
       "41218"
      ]
     },
     "execution_count": 206,
     "metadata": {},
     "output_type": "execute_result"
    }
   ],
   "source": [
    "len(MC15_df['truPi0flag_MC_neutrec'][(MC15_df.Truth==1)&(MC_df.Pi0rec_status > 3990) & (MC_df.Pi0rec_status < 4150)])"
   ]
  },
  {
   "cell_type": "code",
   "execution_count": 207,
   "id": "instant-clinic",
   "metadata": {},
   "outputs": [
    {
     "data": {
      "text/plain": [
       "6399"
      ]
     },
     "execution_count": 207,
     "metadata": {},
     "output_type": "execute_result"
    }
   ],
   "source": [
    "len(MC15_df['truPi0flag_MC_neutrec'][(MC15_df.Truth==1)&(MC15_df.Pi0flag_MC_neutrec==1)&(MC_df.Pi0rec_status > 3990) & (MC_df.Pi0rec_status < 4150)])"
   ]
  },
  {
   "cell_type": "code",
   "execution_count": 208,
   "id": "functioning-material",
   "metadata": {},
   "outputs": [
    {
     "data": {
      "text/plain": [
       "34819"
      ]
     },
     "execution_count": 208,
     "metadata": {},
     "output_type": "execute_result"
    }
   ],
   "source": [
    "len(MC15_df['truPi0flag_MC_neutrec'][(MC15_df.Truth==1)&(MC15_df.Pi0flag_MC_neutrec==0)&(MC_df.Pi0rec_status > 3990) & (MC_df.Pi0rec_status < 4150)])"
   ]
  },
  {
   "cell_type": "markdown",
   "id": "different-humor",
   "metadata": {},
   "source": [
    "Is PCAL hit flag culling FT photons?"
   ]
  },
  {
   "cell_type": "code",
   "execution_count": 9,
   "id": "breeding-northwest",
   "metadata": {},
   "outputs": [],
   "source": [
    "photon1_theta1 = h1d(data=MC15_df[\"Pi0phot1_theta\"][(MC15_df.Truth == 1)],#&(MC15_df.Pi0flag_MC_neutrec==0)],\n",
    "               xrange=[0, 70],\n",
    "               bins=200)\n",
    "\n",
    "photon1_theta2 = h1d(data=MC15_df[\"Pi0phot1_theta\"][(MC15_df.Truth == 1)&(MC15_df.hitPCAL == 1)],#&(MC_df.Pi0flag_MC_neutrec==0)],\n",
    "               xrange=[0, 70],\n",
    "               bins=200)"
   ]
  },
  {
   "cell_type": "code",
   "execution_count": 10,
   "id": "smooth-glance",
   "metadata": {},
   "outputs": [
    {
     "data": {
      "application/vnd.jupyter.widget-view+json": {
       "model_id": "0ef566d241414b5b9d429faddb0c1e0a",
       "version_major": 2,
       "version_minor": 0
      },
      "text/plain": [
       "Canvas(toolbar=Toolbar(toolitems=[('Home', 'Reset original view', 'home', 'home'), ('Back', 'Back to previous …"
      ]
     },
     "metadata": {},
     "output_type": "display_data"
    },
    {
     "data": {
      "text/plain": [
       "[<matplotlib.lines.Line2D at 0x7fa623db7510>]"
      ]
     },
     "execution_count": 10,
     "metadata": {},
     "output_type": "execute_result"
    }
   ],
   "source": [
    "fig, ax = plt.subplots(figsize=(5,5))\n",
    "\n",
    "photon1_theta1.histogram(ax=ax, label=\"truth only\", density=False)\n",
    "photon1_theta2.histogram(ax=ax, label=\"hitPCAL flag\", density=False)"
   ]
  },
  {
   "cell_type": "code",
   "execution_count": null,
   "id": "loving-demand",
   "metadata": {},
   "outputs": [],
   "source": []
  }
 ],
 "metadata": {
  "kernelspec": {
   "display_name": "pi0-ana",
   "language": "python",
   "name": "pi0-ana"
  },
  "language_info": {
   "codemirror_mode": {
    "name": "ipython",
    "version": 3
   },
   "file_extension": ".py",
   "mimetype": "text/x-python",
   "name": "python",
   "nbconvert_exporter": "python",
   "pygments_lexer": "ipython3",
   "version": "3.7.9"
  },
  "widgets": {
   "application/vnd.jupyter.widget-state+json": {
    "state": {},
    "version_major": 2,
    "version_minor": 0
   }
  }
 },
 "nbformat": 4,
 "nbformat_minor": 5
}
