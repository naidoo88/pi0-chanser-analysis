{
 "cells": [
  {
   "cell_type": "markdown",
   "id": "intermediate-chambers",
   "metadata": {},
   "source": [
    "# MC Truth vs. Recon study\n",
    "Take a look at (the difference between) the reconstructed and truth values for final-state kinematic components."
   ]
  },
  {
   "cell_type": "code",
   "execution_count": 1,
   "id": "amber-liechtenstein",
   "metadata": {},
   "outputs": [],
   "source": [
    "import numpy as np\n",
    "import pandas as pd\n",
    "import uproot\n",
    "import boost_histogram as bh\n",
    "import functools as ft\n",
    "import matplotlib.pyplot as plt\n",
    "import matplotlib.colors as cols\n",
    "# %matplotlib notebook\n",
    "%matplotlib widget"
   ]
  },
  {
   "cell_type": "code",
   "execution_count": 2,
   "id": "biblical-killer",
   "metadata": {},
   "outputs": [],
   "source": [
    "plt.style.use('seaborn')\n",
    "plt.rcParams['axes.grid'] = True\n",
    "plt.rcParams['axes.formatter.limits'] = (-3,3)\n",
    "plt.rcParams['axes.formatter.use_mathtext'] = True\n",
    "plt.rcParams['font.size']= 16\n",
    "plt.rcParams['axes.labelsize'] = 14\n",
    "plt.rcParams['axes.titlesize'] = 14\n",
    "plt.rcParams['xtick.labelsize'] = 10\n",
    "plt.rcParams['ytick.labelsize'] = 10"
   ]
  },
  {
   "cell_type": "code",
   "execution_count": 3,
   "id": "controlling-communist",
   "metadata": {},
   "outputs": [],
   "source": [
    "#data_root_file = \"/w/work3/home/pauln/analysis/processed/chanser_ANAsub/pauln/Pi0_PID_fullcomb/FinalState.root\"\n",
    "MC_root_file = \"/w/work3/home/pauln/analysis/processed/chanser_MCsub/pauln/Pi0_PID_fullcomb/FinalState.root\"\n",
    "\n",
    "tree= \"FINALOUTTREE\"\n",
    "\n",
    "# data = uproot.open(data_root_file)[tree]\n",
    "# data_df = data.pandas.df()\n",
    "\n",
    "data = uproot.open(MC_root_file)[tree]\n",
    "MC_df = data.pandas.df()"
   ]
  },
  {
   "cell_type": "code",
   "execution_count": 4,
   "id": "bottom-thumbnail",
   "metadata": {},
   "outputs": [],
   "source": [
    "def hist1D(ax, df, var, bins = None, cuts=None, y_err=False, color=None, lalpha=1, falpha=0.4, normed=False, filled = False, density = False, params={}, label=None):\n",
    "    #select next color in colormap for use in line and fill.\n",
    "    if color is None:\n",
    "        color = next(ax._get_lines.prop_cycler)['color']\n",
    "    \n",
    "    if cuts is not None: \n",
    "        data = df[var[0]][cuts]\n",
    "    else:\n",
    "        data = df[var[0]]\n",
    "        \n",
    "    #calculate area under the curve if wanting normalised plot    \n",
    "    weights = None\n",
    "    if normed is True:\n",
    "        entries, edges = np.histogram(\n",
    "            data,\n",
    "            range = (var[1][1], var[1][2]),\n",
    "            bins = var[1][0]        \n",
    "        )\n",
    "      \n",
    "        integral = sum(np.diff(edges)*entries)\n",
    "        weights = np.ones_like(data)/integral\n",
    "        \n",
    "    if bins is None: \n",
    "        bins = var[1][0]\n",
    "    \n",
    "    #Draw histogram\n",
    "    entries,edges,_ = ax.hist(data,\n",
    "    range = (var[1][1], var[1][2]),\n",
    "    bins = bins,\n",
    "    density = density,\n",
    "    weights=weights,\n",
    "    histtype = 'step',\n",
    "    linewidth = 1.5,\n",
    "    alpha=lalpha,\n",
    "    color = color,\n",
    "    label=label,\n",
    "    **params\n",
    "    )\n",
    " \n",
    "    #fill area under histo if set\n",
    "    if filled is True:\n",
    "        # brute-force: drawing it again to allow separate alpha(opacity) to be used\n",
    "        h = ax.hist(data,\n",
    "            range = (var[1][1], var[1][2]),\n",
    "            bins = bins,\n",
    "            density = density,\n",
    "            weights=weights,\n",
    "            histtype = 'step',\n",
    "            linewidth = None,\n",
    "            fill = True,\n",
    "            alpha = falpha,\n",
    "            color = color\n",
    "            )\n",
    "        \n",
    "    #error bars    \n",
    "    if y_err is True:\n",
    "        if normed is True: \n",
    "            yerr = np.sqrt(entries)/integral\n",
    "            entries = entries/integral\n",
    "        else:\n",
    "            entries, edges = np.histogram(\n",
    "                data,\n",
    "                range = (var[1][1], var[1][2]),\n",
    "                bins = bins       \n",
    "            )\n",
    "            yerr = np.sqrt(entries)\n",
    "            \n",
    "        bin_width = edges[1]-edges[0]\n",
    "        bin_centers = edges[:-1] + bin_width/2\n",
    "        ax.errorbar(bin_centers, entries, yerr=yerr, color='r', ls='', alpha=0.6, label='err', elinewidth=0.6)\n",
    "        \n",
    "        \n",
    "    #deal with automatic y-axis scaling funk\n",
    "    # if normed is True:\n",
    "    #     #axes = plt.gca()\n",
    "    #     ax.set_ylim([0,max(entries/integral)*1.1])\n",
    "\n",
    "    ax.set_xlabel(var[2])\n",
    "    ax.set_xlim(var[1][1], var[1][2])\n",
    "\n",
    "    \n",
    "    return #(entries, edges, yerr)"
   ]
  },
  {
   "cell_type": "code",
   "execution_count": null,
   "id": "limiting-guard",
   "metadata": {},
   "outputs": [],
   "source": [
    "#list(MC_df.columns)"
   ]
  },
  {
   "cell_type": "code",
   "execution_count": 5,
   "id": "following-hungarian",
   "metadata": {},
   "outputs": [],
   "source": [
    "'''\n",
    "Lists through the columns in the df beginning with Pi0,\n",
    "taking the difference between this variable and the corresponding\n",
    "\"true\" value; adding this to a new column prepended \"delta\".\n",
    "'''\n",
    "\n",
    "for var in list(MC_df[[c for c in MC_df if c.startswith('Pi0')]].columns):\n",
    "    d_Str = \"delta\"+var\n",
    "    tru_Str = \"tru\"+var\n",
    "    \n",
    "    MC_df[d_Str] = MC_df[var] - MC_df[tru_Str]"
   ]
  },
  {
   "cell_type": "markdown",
   "id": "lucky-citizen",
   "metadata": {},
   "source": [
    "## Particle Distributions \n",
    "\n",
    "Truth-Matched Distributions for each final-state particle."
   ]
  },
  {
   "cell_type": "code",
   "execution_count": 11,
   "id": "fiscal-locking",
   "metadata": {},
   "outputs": [],
   "source": [
    "bins = 200\n",
    "\n",
    "e_distros = [\n",
    "    [\"Pi0e_px\", (bins, -2, 2), r\"$p_{x}$ $(GeV/c^{2})$\"],\n",
    "    [\"Pi0e_py\", (bins, -2, 2), r\"$p_{y}$ $(GeV/c^{2})$\"],\n",
    "    [\"Pi0e_pz\", (bins, 0, 9), r\"$p_{z}$ $(GeV/c^{2})$\"],\n",
    "    [\"Pi0e_E\", (bins, 0, 9), r\"$E$ $(GeV)$\"],\n",
    "    [\"Pi0e_magP\", (bins, 0, 9), r\"$|p|$ $(GeV/c^{2})$\"],\n",
    "    [\"Pi0e_pT\", (bins, 0, 2), r\"$p_{T}$ $(GeV/c^{2})$\"],\n",
    "    [\"Pi0e_theta\", (bins, 0, 50), r\"$\\theta$ $(^{\\circ})$\"],\n",
    "    [\"Pi0e_phi\", (bins, -185, 185), r\"$\\phi$ $(^{\\circ})$\"]\n",
    "]\n",
    "\n",
    "e_t_distros = [\n",
    "    [\"truPi0e_px\", (bins, -2, 2), r\"$p_{x}$ $(GeV/c^{2})$\"],\n",
    "    [\"truPi0e_py\", (bins, -2, 2), r\"$p_{y}$ $(GeV/c^{2})$\"],\n",
    "    [\"truPi0e_pz\", (bins, 0, 9), r\"$p_{z}$ $(GeV/c^{2})$\"],\n",
    "    [\"truPi0e_E\", (bins, 0, 9), r\"$E$ $(GeV)$\"],\n",
    "    [\"truPi0e_magP\", (bins, 0, 9), r\"$|p|$ $(GeV/c^{2})$\"],\n",
    "    [\"truPi0e_pT\", (bins, 0, 2), r\"$p_{T}$ $(GeV/c^{2})$\"],\n",
    "    [\"truPi0e_theta\", (bins, 0, 50), r\"$\\theta$ $(^{\\circ})$\"],\n",
    "    [\"truPi0e_phi\", (bins, -185, 185), r\"$\\phi$ $(^{\\circ})$\"]\n",
    "]"
   ]
  },
  {
   "cell_type": "code",
   "execution_count": 24,
   "id": "refined-truck",
   "metadata": {},
   "outputs": [
    {
     "data": {
      "application/vnd.jupyter.widget-view+json": {
       "model_id": "f1ba69ff30d6404c948276bc795ce15a",
       "version_major": 2,
       "version_minor": 0
      },
      "text/plain": [
       "Canvas(toolbar=Toolbar(toolitems=[('Home', 'Reset original view', 'home', 'home'), ('Back', 'Back to previous …"
      ]
     },
     "metadata": {},
     "output_type": "display_data"
    }
   ],
   "source": [
    "fig1, ax1 = plt.subplots(2,4, figsize=(15,10))\n",
    "\n",
    "ax1=ax1.flatten()\n",
    "\n",
    "fig1.suptitle('electrons', fontsize=16)\n",
    "\n",
    "for i, distro in enumerate(e_distros):\n",
    "    hist1D(ax1[i], MC_df, distro, cuts=(MC_df.Truth==1))\n",
    "    \n",
    "for i, distro in enumerate(e_t_distros):\n",
    "    ax=ax1[i].twinx()\n",
    "\n",
    "    hist1D(ax, MC_df, distro, cuts=(MC_df.Truth==1), color='brown', lalpha=0.7)"
   ]
  },
  {
   "cell_type": "code",
   "execution_count": 13,
   "id": "discrete-instrumentation",
   "metadata": {},
   "outputs": [],
   "source": [
    "bins = 120\n",
    "\n",
    "neut_distros = [\n",
    "    [\"Pi0rec_px\", (bins, -2, 2), r\"$p_{x}$ $(GeV/c^{2})$\"],\n",
    "    [\"Pi0rec_py\", (bins, -2, 2), r\"$p_{y}$ $(GeV/c^{2})$\"],\n",
    "    [\"Pi0rec_pz\", (bins, 0, 2), r\"$p_{z}$ $(GeV/c^{2})$\"],\n",
    "    [\"Pi0rec_E\", (bins, 0.5, 2.5), r\"$E$ $(GeV)$\"],\n",
    "    [\"Pi0rec_magP\", (bins, 0, 2), r\"$|p|$ $(GeV/c^{2})$\"],\n",
    "    [\"Pi0rec_pT\", (bins, 0, 1.55), r\"$p_{T}$ $(GeV/c^{2})$\"],\n",
    "    [\"Pi0rec_theta\", (bins, 0, 180), r\"$\\theta$ $(^{\\circ})$\"],\n",
    "    [\"Pi0rec_phi\", (48, -180, 180), r\"$\\phi$ $(^{\\circ})$\"]\n",
    "]\n",
    "\n",
    "neut_t_distros = [\n",
    "    [\"truPi0rec_px\", (bins, -2, 2), r\"$p_{x}$ $(GeV/c^{2})$\"],\n",
    "    [\"truPi0rec_py\", (bins, -2, 2), r\"$p_{y}$ $(GeV/c^{2})$\"],\n",
    "    [\"truPi0rec_pz\", (bins, 0, 2), r\"$p_{z}$ $(GeV/c^{2})$\"],\n",
    "    [\"truPi0rec_E\", (bins, 0.5, 2.5), r\"$E$ $(GeV)$\"],\n",
    "    [\"truPi0rec_magP\", (bins, 0, 2), r\"$|p|$ $(GeV/c^{2})$\"],\n",
    "    [\"truPi0rec_pT\", (bins, 0, 1.55), r\"$p_{T}$ $(GeV/c^{2})$\"],\n",
    "    [\"truPi0rec_theta\", (bins, 0, 120), r\"$\\theta$ $(^{\\circ})$\"],\n",
    "    [\"truPi0rec_phi\", (48, -120, 180), r\"$\\phi$ $(^{\\circ})$\"]\n",
    "]"
   ]
  },
  {
   "cell_type": "code",
   "execution_count": 25,
   "id": "bibliographic-robertson",
   "metadata": {},
   "outputs": [
    {
     "data": {
      "application/vnd.jupyter.widget-view+json": {
       "model_id": "856097ba961044c4b6293604a88b2717",
       "version_major": 2,
       "version_minor": 0
      },
      "text/plain": [
       "Canvas(toolbar=Toolbar(toolitems=[('Home', 'Reset original view', 'home', 'home'), ('Back', 'Back to previous …"
      ]
     },
     "metadata": {},
     "output_type": "display_data"
    }
   ],
   "source": [
    "fig2, ax2 = plt.subplots(2,4, figsize=(15,10))\n",
    "ax2=ax2.flatten()\n",
    "\n",
    "fig2.suptitle('neutrons', fontsize=16)\n",
    "\n",
    "for i, distro in enumerate(neut_distros):\n",
    "    hist1D(ax2[i], MC_df, distro, cuts=(MC_df.Truth==1))\n",
    "    \n",
    "for i, distro in enumerate(neut_t_distros):\n",
    "    ax=ax2[i].twinx()\n",
    "\n",
    "    hist1D(ax, MC_df, distro, cuts=(MC_df.Truth==1), color='brown', lalpha=0.7)"
   ]
  },
  {
   "cell_type": "code",
   "execution_count": 15,
   "id": "prerequisite-richardson",
   "metadata": {},
   "outputs": [],
   "source": [
    "bins = 200\n",
    "\n",
    "phot1_distros = [\n",
    "    [\"Pi0phot1_px\", (bins, -1.75, 1.75), r\"$p_{x}$ $(GeV/c^{2})$\"],\n",
    "    [\"Pi0phot1_py\", (bins, -1.75, 1.75), r\"$p_{y}$ $(GeV/c^{2})$\"],\n",
    "    [\"Pi0phot1_pz\", (bins, 0, 8), r\"$p_{z}$ $(GeV/c^{2})$\"],\n",
    "    [\"Pi0phot1_E\", (bins, 0, 8), r\"$ E$ $(GeV)$\"],\n",
    "    [\"Pi0phot1_magP\", (bins, 0, 8), r\"$|p|$ $(GeV/c^{2})$\"],\n",
    "    [\"Pi0phot1_pT\", (bins, 0, 2), r\"$p_{T}$ $(GeV/c^{2})$\"],\n",
    "    [\"Pi0phot1_theta\", (bins, 0, 40), r\"$\\theta$ $(^{\\circ})$\"],\n",
    "    [\"Pi0phot1_phi\", (bins, -180, 180), r\"$\\phi$ $(^{\\circ})$\"]\n",
    "]\n",
    "\n",
    "phot1_t_distros = [\n",
    "    [\"truPi0phot1_px\", (bins, -1.75, 1.75), r\"$p_{x}$ $(GeV/c^{2})$\"],\n",
    "    [\"truPi0phot1_py\", (bins, -1.75, 1.75), r\"$p_{y}$ $(GeV/c^{2})$\"],\n",
    "    [\"truPi0phot1_pz\", (bins, 0, 8), r\"$p_{z}$ $(GeV/c^{2})$\"],\n",
    "    [\"truPi0phot1_E\", (bins, 0, 8), r\"$ E$ $(GeV)$\"],\n",
    "    [\"truPi0phot1_magP\", (bins, 0, 8), r\"$|p|$ $(GeV/c^{2})$\"],\n",
    "    [\"truPi0phot1_pT\", (bins, 0, 2), r\"$p_{T}$ $(GeV/c^{2})$\"],\n",
    "    [\"truPi0phot1_theta\", (bins, 0, 40), r\"$\\theta$ $(^{\\circ})$\"],\n",
    "    [\"truPi0phot1_phi\", (bins, -180, 180), r\"$\\phi$ $(^{\\circ})$\"]\n",
    "]"
   ]
  },
  {
   "cell_type": "code",
   "execution_count": 26,
   "id": "spiritual-aviation",
   "metadata": {},
   "outputs": [
    {
     "data": {
      "application/vnd.jupyter.widget-view+json": {
       "model_id": "c7a01506a1744d20b89d3574ccf345b1",
       "version_major": 2,
       "version_minor": 0
      },
      "text/plain": [
       "Canvas(toolbar=Toolbar(toolitems=[('Home', 'Reset original view', 'home', 'home'), ('Back', 'Back to previous …"
      ]
     },
     "metadata": {},
     "output_type": "display_data"
    }
   ],
   "source": [
    "fig3, ax3 = plt.subplots(2,4, figsize=(15,10))\n",
    "ax3=ax3.flatten()\n",
    "\n",
    "fig3.suptitle('photons (1)', fontsize=16)\n",
    "\n",
    "for i, distro in enumerate(phot1_distros):\n",
    "    hist1D(ax3[i], MC_df, distro, cuts=(MC_df.Truth==1))\n",
    "    \n",
    "for i, distro in enumerate(phot1_t_distros):\n",
    "    ax=ax3[i].twinx()\n",
    "\n",
    "    hist1D(ax, MC_df, distro, cuts=(MC_df.Truth==1), color='brown', lalpha=0.7)"
   ]
  },
  {
   "cell_type": "code",
   "execution_count": 17,
   "id": "boxed-drink",
   "metadata": {},
   "outputs": [],
   "source": [
    "bins = 200\n",
    "\n",
    "phot2_distros = [\n",
    "    [\"Pi0phot2_px\", (bins, -1, 1), r\"$p_{x}$ $(GeV/c^{2})$\"],\n",
    "    [\"Pi0phot2_py\", (bins, -1, 1), r\"$p_{y}$ $(GeV/c^{2})$\"],\n",
    "    [\"Pi0phot2_pz\", (bins, 0, 4), r\"$p_{z}$ $(GeV/c^{2})$\"],\n",
    "    [\"Pi0phot2_E\", (bins, 0, 4), r\"$ E$ $(GeV)$\"],\n",
    "    [\"Pi0phot2_magP\", (bins, 0, 4), r\"$|p|$ $(GeV/c^{2})$\"],\n",
    "    [\"Pi0phot2_pT\", (bins, 0, 1), r\"$p_{T}$ $(GeV/c^{2})$\"],\n",
    "    [\"Pi0phot2_theta\", (bins, 0, 40), r\"$\\theta$ $(^{\\circ})$\"],\n",
    "    [\"Pi0phot2_phi\", (bins, -180, 180), r\"$\\phi$ $(^{\\circ})$\"]\n",
    "]\n",
    "\n",
    "phot2_t_distros = [\n",
    "    [\"truPi0phot2_px\", (bins, -1, 1), r\"$p_{x}$ $(GeV/c^{2})$\"],\n",
    "    [\"truPi0phot2_py\", (bins, -1, 1), r\"$p_{y}$ $(GeV/c^{2})$\"],\n",
    "    [\"truPi0phot2_pz\", (bins, 0, 4), r\"$p_{z}$ $(GeV/c^{2})$\"],\n",
    "    [\"truPi0phot2_E\", (bins, 0, 4), r\"$ E$ $(GeV)$\"],\n",
    "    [\"truPi0phot2_magP\", (bins, 0, 4), r\"$|p|$ $(GeV/c^{2})$\"],\n",
    "    [\"truPi0phot2_pT\", (bins, 0, 1), r\"$p_{T}$ $(GeV/c^{2})$\"],\n",
    "    [\"truPi0phot2_theta\", (bins, 0, 40), r\"$\\theta$ $(^{\\circ})$\"],\n",
    "    [\"truPi0phot2_phi\", (bins, -180, 180), r\"$\\phi$ $(^{\\circ})$\"]\n",
    "]"
   ]
  },
  {
   "cell_type": "code",
   "execution_count": 27,
   "id": "altered-photographer",
   "metadata": {},
   "outputs": [
    {
     "data": {
      "application/vnd.jupyter.widget-view+json": {
       "model_id": "0a49fcad6c1b4ad89fea2f10439fc34f",
       "version_major": 2,
       "version_minor": 0
      },
      "text/plain": [
       "Canvas(toolbar=Toolbar(toolitems=[('Home', 'Reset original view', 'home', 'home'), ('Back', 'Back to previous …"
      ]
     },
     "metadata": {},
     "output_type": "display_data"
    }
   ],
   "source": [
    "fig4, ax4 = plt.subplots(2,4, figsize=(15,10))\n",
    "ax4=ax4.flatten()\n",
    "\n",
    "fig4.suptitle('photons (2)', fontsize=16)\n",
    "\n",
    "for i, distro in enumerate(phot2_distros):\n",
    "    hist1D(ax4[i], MC_df, distro, cuts=(MC_df.Truth==1))\n",
    "    \n",
    "for i, distro in enumerate(phot2_t_distros):\n",
    "    ax=ax4[i].twinx()\n",
    "\n",
    "    hist1D(ax, MC_df, distro, cuts=(MC_df.Truth==1), color='brown', lalpha=0.7)"
   ]
  },
  {
   "cell_type": "markdown",
   "id": "polyphonic-literacy",
   "metadata": {},
   "source": [
    "## Particle Distributions - 'Trimmed'\n",
    "Truth-Matched Distributions for each final-state particle, with some additional cuts so isolate desired events:\n",
    "\n",
    "   * 3$\\sigma$ $\\pi_{0}$-mass cut\n",
    "   * Neutrons\n",
    "      * CND only\n",
    "      * |p| > 350 MeV\n",
    "   * Photons\n",
    "      * Require hit in the PCAL"
   ]
  },
  {
   "cell_type": "code",
   "execution_count": 19,
   "id": "collect-nicaragua",
   "metadata": {},
   "outputs": [],
   "source": [
    "cuts = [\n",
    "    (MC_df.Pi0flag_cut_3sigPi0IM == 1),\n",
    "    ((MC_df.Pi0rec_status > 3990) & (MC_df.Pi0rec_status < 4150)),\n",
    "    (MC_df.Pi0rec_magP >= 0.35),\n",
    "    (MC_df.hitPCAL == 1),\n",
    "    (MC_df.Truth==1)\n",
    "]\n",
    "\n",
    "cut = ft.reduce(lambda x, y: x & y, cuts[:])\n"
   ]
  },
  {
   "cell_type": "code",
   "execution_count": 20,
   "id": "blocked-grocery",
   "metadata": {},
   "outputs": [
    {
     "data": {
      "application/vnd.jupyter.widget-view+json": {
       "model_id": "22e388f9015d46588a7c36e6aa7b0109",
       "version_major": 2,
       "version_minor": 0
      },
      "text/plain": [
       "Canvas(toolbar=Toolbar(toolitems=[('Home', 'Reset original view', 'home', 'home'), ('Back', 'Back to previous …"
      ]
     },
     "metadata": {},
     "output_type": "display_data"
    },
    {
     "data": {
      "text/plain": [
       "<matplotlib.legend.Legend at 0x7f1b9d3cf5d0>"
      ]
     },
     "execution_count": 20,
     "metadata": {},
     "output_type": "execute_result"
    }
   ],
   "source": [
    "fig5, ax5 = plt.subplots(2,4, figsize=(15,10))\n",
    "ax5=ax5.flatten()\n",
    "\n",
    "fig5.suptitle('electrons', fontsize=16)\n",
    "\n",
    "for i, distro in enumerate(e_distros):\n",
    "    hist1D(ax5[i], MC_df, distro, cuts=cut, label=\"Truth-Matched\")\n",
    "\n",
    "for i, distro in enumerate(e_t_distros):\n",
    "    ax=ax5[i].twinx()\n",
    "\n",
    "    hist1D(ax, MC_df, distro, cuts=cut, color='brown', lalpha=0.7, label=\"Generated\")\n",
    "    \n",
    "lines_1, labels_1 = ax5[0].get_legend_handles_labels()\n",
    "lines_2, labels_2 = ax.get_legend_handles_labels()\n",
    "\n",
    "\n",
    "lines = lines_1 + lines_2\n",
    "labels = labels_1 + labels_2\n",
    "\n",
    "\n",
    "ax5[3].legend(lines, labels, loc=2)\n",
    "ax5[4].legend(lines, labels, loc=2)\n",
    "\n",
    "\n",
    "\n",
    "    \n",
    "# for i in "
   ]
  },
  {
   "cell_type": "code",
   "execution_count": 21,
   "id": "asian-astronomy",
   "metadata": {},
   "outputs": [
    {
     "data": {
      "application/vnd.jupyter.widget-view+json": {
       "model_id": "c00d1086906f43dc81e180d0fa03e68e",
       "version_major": 2,
       "version_minor": 0
      },
      "text/plain": [
       "Canvas(toolbar=Toolbar(toolitems=[('Home', 'Reset original view', 'home', 'home'), ('Back', 'Back to previous …"
      ]
     },
     "metadata": {},
     "output_type": "display_data"
    },
    {
     "data": {
      "text/plain": [
       "<matplotlib.legend.Legend at 0x7f1b7257df50>"
      ]
     },
     "execution_count": 21,
     "metadata": {},
     "output_type": "execute_result"
    }
   ],
   "source": [
    "fig6, ax6 = plt.subplots(2,4, figsize=(15,10))\n",
    "ax6=ax6.flatten()\n",
    "\n",
    "fig6.suptitle('neutrons', fontsize=16)\n",
    "\n",
    "for i, distro in enumerate(neut_distros):\n",
    "    hist1D(ax6[i], MC_df, distro, cuts=cut, label=\"Truth-Matched\")\n",
    "    \n",
    "for i, distro in enumerate(neut_t_distros):\n",
    "    ax=ax6[i].twinx()\n",
    "\n",
    "    hist1D(ax, MC_df, distro, cuts=cut, color='brown', lalpha=0.7, label=\"Generated\")\n",
    "    \n",
    "lines_1, labels_1 = ax6[0].get_legend_handles_labels()\n",
    "lines_2, labels_2 = ax.get_legend_handles_labels()\n",
    "\n",
    "\n",
    "lines = lines_1 + lines_2\n",
    "labels = labels_1 + labels_2\n",
    "\n",
    "\n",
    "ax6[3].legend(lines, labels, loc=1)\n",
    "ax6[4].legend(lines, labels, loc=1)"
   ]
  },
  {
   "cell_type": "code",
   "execution_count": 22,
   "id": "outdoor-bulletin",
   "metadata": {},
   "outputs": [
    {
     "data": {
      "application/vnd.jupyter.widget-view+json": {
       "model_id": "8e860d66ace1405dbdd3a19b729835ac",
       "version_major": 2,
       "version_minor": 0
      },
      "text/plain": [
       "Canvas(toolbar=Toolbar(toolitems=[('Home', 'Reset original view', 'home', 'home'), ('Back', 'Back to previous …"
      ]
     },
     "metadata": {},
     "output_type": "display_data"
    },
    {
     "data": {
      "text/plain": [
       "<matplotlib.legend.Legend at 0x7f1b72062a50>"
      ]
     },
     "execution_count": 22,
     "metadata": {},
     "output_type": "execute_result"
    }
   ],
   "source": [
    "fig7, ax7 = plt.subplots(2,4, figsize=(15,10))\n",
    "ax7=ax7.flatten()\n",
    "\n",
    "fig7.suptitle('photons (1)', fontsize=16)\n",
    "\n",
    "for i, distro in enumerate(phot1_distros):\n",
    "    hist1D(ax7[i], MC_df, distro, cuts=cut, label=\"Truth-Matched\")\n",
    "    \n",
    "for i, distro in enumerate(phot1_t_distros):\n",
    "    ax=ax7[i].twinx()\n",
    "\n",
    "    hist1D(ax, MC_df, distro, cuts=cut, color='brown', lalpha=0.7, label=\"Generated\")\n",
    "    \n",
    "lines_1, labels_1 = ax7[0].get_legend_handles_labels()\n",
    "lines_2, labels_2 = ax.get_legend_handles_labels()\n",
    "\n",
    "lines = lines_1 + lines_2\n",
    "labels = labels_1 + labels_2\n",
    "\n",
    "\n",
    "ax7[3].legend(lines, labels, loc=1)\n",
    "ax7[4].legend(lines, labels, loc=1)"
   ]
  },
  {
   "cell_type": "code",
   "execution_count": 23,
   "id": "virgin-alcohol",
   "metadata": {},
   "outputs": [
    {
     "data": {
      "application/vnd.jupyter.widget-view+json": {
       "model_id": "d87e1deb4b7f47b4bd174ca04c08dbb8",
       "version_major": 2,
       "version_minor": 0
      },
      "text/plain": [
       "Canvas(toolbar=Toolbar(toolitems=[('Home', 'Reset original view', 'home', 'home'), ('Back', 'Back to previous …"
      ]
     },
     "metadata": {},
     "output_type": "display_data"
    },
    {
     "data": {
      "text/plain": [
       "<matplotlib.legend.Legend at 0x7f1b6abd7dd0>"
      ]
     },
     "execution_count": 23,
     "metadata": {},
     "output_type": "execute_result"
    }
   ],
   "source": [
    "fig8, ax8 = plt.subplots(2,4, figsize=(15,10))\n",
    "ax8=ax8.flatten()\n",
    "\n",
    "fig8.suptitle('photons (2)', fontsize=16)\n",
    "\n",
    "for i, distro in enumerate(phot2_distros):\n",
    "    hist1D(ax8[i], MC_df, distro, cuts=cut, label=\"Truth-Matched\")\n",
    "    \n",
    "for i, distro in enumerate(phot2_t_distros):\n",
    "    ax=ax8[i].twinx()\n",
    "\n",
    "    hist1D(ax, MC_df, distro, cuts=cut, color='brown', lalpha=0.7, label=\"Generated\")\n",
    "    \n",
    "    \n",
    "lines_1, labels_1 = ax8[0].get_legend_handles_labels()\n",
    "lines_2, labels_2 = ax.get_legend_handles_labels()\n",
    "\n",
    "lines = lines_1 + lines_2\n",
    "labels = labels_1 + labels_2\n",
    "\n",
    "\n",
    "ax8[3].legend(lines, labels, loc=1)\n",
    "ax8[4].legend(lines, labels, loc=1)"
   ]
  },
  {
   "cell_type": "markdown",
   "id": "distant-terror",
   "metadata": {},
   "source": [
    "## Differences"
   ]
  },
  {
   "cell_type": "code",
   "execution_count": 78,
   "id": "short-equity",
   "metadata": {},
   "outputs": [],
   "source": [
    "e_diff = [\n",
    "    ['deltaPi0e_px', (100, -1, 1), r\"$\\delta p_{x}$\"],\n",
    "    ['deltaPi0e_py', (100, -1, 1), r\"$\\delta p_{y}$\"],\n",
    "    ['deltaPi0e_pz', (100, -1, 1), r\"$\\delta p_{z}$\"],\n",
    "    ['deltaPi0e_E', (100, -1, 1), r\"$\\delta E$\"],\n",
    "    ['deltaPi0e_magP', (100, -1, 1), r\"$\\delta |p|$\"],\n",
    "    ['deltaPi0e_pT', (100, -1, 1), r\"$\\delta p_{T}$\"],\n",
    "    ['deltaPi0e_theta', (100, -1, 1), r\"$\\delta \\theta$\"],\n",
    "    ['deltaPi0e_phi', (100, -2, 2), r\"$\\delta \\phi$\"]\n",
    "]"
   ]
  },
  {
   "cell_type": "code",
   "execution_count": 79,
   "id": "serial-official",
   "metadata": {},
   "outputs": [
    {
     "data": {
      "application/vnd.jupyter.widget-view+json": {
       "model_id": "ec79206dcf4a429abc349437a0c85a4e",
       "version_major": 2,
       "version_minor": 0
      },
      "text/plain": [
       "Canvas(toolbar=Toolbar(toolitems=[('Home', 'Reset original view', 'home', 'home'), ('Back', 'Back to previous …"
      ]
     },
     "metadata": {},
     "output_type": "display_data"
    }
   ],
   "source": [
    "fig9, ax9 = plt.subplots(2,4, figsize=(15,10))\n",
    "ax9=ax9.flatten()\n",
    "\n",
    "fig9.suptitle('electron (rec - gen)', fontsize=16)\n",
    "\n",
    "for i, distro in enumerate(e_diff):\n",
    "    hist1D(ax9[i], MC_df, distro, cuts=cut, color='orangered', lalpha=0.7)"
   ]
  },
  {
   "cell_type": "code",
   "execution_count": 80,
   "id": "floppy-scroll",
   "metadata": {},
   "outputs": [],
   "source": [
    "neut_diff = [\n",
    "    ['deltaPi0rec_px', (100, -1, 1), r\"$\\delta p_{x}$\"],\n",
    "    ['deltaPi0rec_py', (100, -1, 1), r\"$\\delta p_{y}$\"],\n",
    "    ['deltaPi0rec_pz', (100, -1, 1), r\"$\\delta p_{z}$\"],\n",
    "    ['deltaPi0rec_E', (100, -1, 1), r\"$\\delta E$\"],\n",
    "    ['deltaPi0rec_magP', (100, -1, 1), r\"$\\delta |p|$\"],\n",
    "    ['deltaPi0rec_pT', (100, -1, 1), r\"$\\delta p_{T}$\"],\n",
    "    ['deltaPi0rec_theta', (100, -10, 10), r\"$\\delta \\theta$\"],\n",
    "    ['deltaPi0rec_phi', (100, -20, 20), r\"$\\delta \\phi$\"]\n",
    "]"
   ]
  },
  {
   "cell_type": "code",
   "execution_count": 81,
   "id": "republican-hometown",
   "metadata": {},
   "outputs": [
    {
     "data": {
      "application/vnd.jupyter.widget-view+json": {
       "model_id": "19d41a2ec7cb410f9d3279d577dd8f47",
       "version_major": 2,
       "version_minor": 0
      },
      "text/plain": [
       "Canvas(toolbar=Toolbar(toolitems=[('Home', 'Reset original view', 'home', 'home'), ('Back', 'Back to previous …"
      ]
     },
     "metadata": {},
     "output_type": "display_data"
    }
   ],
   "source": [
    "fig10, ax10 = plt.subplots(2,4, figsize=(15,10))\n",
    "ax10=ax10.flatten()\n",
    "\n",
    "fig10.suptitle('neutron (rec - gen)', fontsize=16)\n",
    "\n",
    "for i, distro in enumerate(neut_diff):\n",
    "    hist1D(ax10[i], MC_df, distro, cuts=cut, color='orangered', lalpha=0.7)"
   ]
  },
  {
   "cell_type": "code",
   "execution_count": 82,
   "id": "offshore-alias",
   "metadata": {},
   "outputs": [
    {
     "data": {
      "application/vnd.jupyter.widget-view+json": {
       "model_id": "7bfd809d3dcb477ca0e06bea35977e77",
       "version_major": 2,
       "version_minor": 0
      },
      "text/plain": [
       "Canvas(toolbar=Toolbar(toolitems=[('Home', 'Reset original view', 'home', 'home'), ('Back', 'Back to previous …"
      ]
     },
     "metadata": {},
     "output_type": "display_data"
    }
   ],
   "source": [
    "neut_angles= [\n",
    "    \n",
    "    [\"deltaPi0rec_theta\", (200, -40, 50), r\"$\\delta\\theta$ $(^{\\circ})$\"],\n",
    "    [\"deltaPi0rec_phi\", (200, -60, 60), r\"$\\delta\\phi$ $(^{\\circ})$\"]\n",
    "]\n",
    "\n",
    "fig10b, ax10b = plt.subplots(1,2, figsize=(10,5))\n",
    "ax10b=ax10b.flatten()\n",
    "\n",
    "fig10b.suptitle('neutron (rec - gen) - wide range angles', fontsize=16)\n",
    "\n",
    "for i, distro in enumerate(neut_angles):\n",
    "    hist1D(ax10b[i], MC_df, distro, cuts=cut, color='orangered', lalpha=0.7)"
   ]
  },
  {
   "cell_type": "code",
   "execution_count": 84,
   "id": "complicated-mechanism",
   "metadata": {},
   "outputs": [],
   "source": [
    "phot1_diff = [\n",
    "    ['deltaPi0phot1_px', (100, -1, 1), r\"$\\delta p_{x}$\"],\n",
    "    ['deltaPi0phot1_py', (100, -1, 1), r\"$\\delta p_{y}$\"],\n",
    "    ['deltaPi0phot1_pz', (100, -1, 1), r\"$\\delta p_{z}$\"],\n",
    "    ['deltaPi0phot1_E', (100, -1, 1), r\"$\\delta E$\"],\n",
    "    ['deltaPi0phot1_magP', (100, -1, 1), r\"$\\delta |p|$\"],\n",
    "    ['deltaPi0phot1_pT', (100, -1, 1), r\"$\\delta p_{T}$\"],\n",
    "    ['deltaPi0phot1_theta', (100, -5, 5), r\"$\\delta \\theta$\"],\n",
    "    ['deltaPi0phot1_phi', (100, -5, 5), r\"$\\delta \\phi$\"]\n",
    "]"
   ]
  },
  {
   "cell_type": "code",
   "execution_count": 85,
   "id": "active-congo",
   "metadata": {},
   "outputs": [
    {
     "data": {
      "application/vnd.jupyter.widget-view+json": {
       "model_id": "06eb1c9cd3c24c34b6d362861e5a34d6",
       "version_major": 2,
       "version_minor": 0
      },
      "text/plain": [
       "Canvas(toolbar=Toolbar(toolitems=[('Home', 'Reset original view', 'home', 'home'), ('Back', 'Back to previous …"
      ]
     },
     "metadata": {},
     "output_type": "display_data"
    }
   ],
   "source": [
    "fig11, ax11 = plt.subplots(2,4, figsize=(15,10))\n",
    "ax11=ax11.flatten()\n",
    "\n",
    "fig11.suptitle('photon(1) (rec - gen)', fontsize=16)\n",
    "\n",
    "for i, distro in enumerate(phot1_diff):\n",
    "    hist1D(ax11[i], MC_df, distro, cuts=cut, color='orangered', lalpha=0.7)"
   ]
  },
  {
   "cell_type": "code",
   "execution_count": 86,
   "id": "sized-animation",
   "metadata": {},
   "outputs": [],
   "source": [
    "phot2_diff = [\n",
    "    ['deltaPi0phot2_px', (100, -1, 1), r\"$\\delta p_{x}$\"],\n",
    "    ['deltaPi0phot2_py', (100, -1, 1), r\"$\\delta p_{y}$\"],\n",
    "    ['deltaPi0phot2_pz', (100, -1, 1), r\"$\\delta p_{z}$\"],\n",
    "    ['deltaPi0phot2_E', (100, -1, 1), r\"$\\delta E$\"],\n",
    "    ['deltaPi0phot2_magP', (100, -1, 1), r\"$\\delta |p|$\"],\n",
    "    ['deltaPi0phot2_pT', (100, -1, 1), r\"$\\delta p_{T}$\"],\n",
    "    ['deltaPi0phot2_theta', (100, -5, 5), r\"$\\delta \\theta$\"],\n",
    "    ['deltaPi0phot2_phi', (100, -5, 5), r\"$\\delta \\phi$\"]\n",
    "]"
   ]
  },
  {
   "cell_type": "code",
   "execution_count": 87,
   "id": "unauthorized-throw",
   "metadata": {},
   "outputs": [
    {
     "data": {
      "application/vnd.jupyter.widget-view+json": {
       "model_id": "5291ac32980845ad9209d2a8a33b2b03",
       "version_major": 2,
       "version_minor": 0
      },
      "text/plain": [
       "Canvas(toolbar=Toolbar(toolitems=[('Home', 'Reset original view', 'home', 'home'), ('Back', 'Back to previous …"
      ]
     },
     "metadata": {},
     "output_type": "display_data"
    }
   ],
   "source": [
    "fig11, ax11 = plt.subplots(2,4, figsize=(15,10))\n",
    "ax11=ax11.flatten()\n",
    "\n",
    "fig11.suptitle('photon(2) (rec - gen)', fontsize=16)\n",
    "\n",
    "for i, distro in enumerate(phot1_diff):\n",
    "    hist1D(ax11[i], MC_df, distro, cuts=cut, color='orangered', lalpha=0.7)"
   ]
  },
  {
   "cell_type": "code",
   "execution_count": 30,
   "id": "sealed-sequence",
   "metadata": {},
   "outputs": [],
   "source": [
    "import sys\n",
    "sys.path.append(\"/home/pauln/code/nicks_plot_utils\")"
   ]
  },
  {
   "cell_type": "code",
   "execution_count": 31,
   "id": "mature-implementation",
   "metadata": {},
   "outputs": [],
   "source": [
    "from nicks_plot_utils import Hist1D as h1d\n",
    "from nicks_plot_utils import Hist2D as h2d"
   ]
  },
  {
   "cell_type": "code",
   "execution_count": 90,
   "id": "blessed-platinum",
   "metadata": {},
   "outputs": [],
   "source": [
    "plt.style.use('seaborn')\n",
    "plt.rcParams['axes.grid'] = True\n",
    "plt.rcParams['axes.formatter.limits'] = (-3,3)\n",
    "plt.rcParams['axes.formatter.use_mathtext'] = True\n",
    "plt.rcParams['font.size']= 16\n",
    "plt.rcParams['axes.labelsize'] = 14\n",
    "plt.rcParams['axes.titlesize'] = 14\n",
    "plt.rcParams['xtick.labelsize'] = 10\n",
    "plt.rcParams['ytick.labelsize'] = 10"
   ]
  },
  {
   "cell_type": "code",
   "execution_count": 91,
   "id": "specialized-vampire",
   "metadata": {},
   "outputs": [],
   "source": [
    "neut_diff = [\n",
    "    ['deltaPi0rec_px', (100, -.5, .5), r\"$\\delta p_{x}$\"],\n",
    "    ['deltaPi0rec_py', (100, -.5, .5), r\"$\\delta p_{y}$\"],\n",
    "    ['deltaPi0rec_pz', (100, -.5, .5), r\"$\\delta p_{z}$\"],\n",
    "    ['deltaPi0rec_E', (100, -.5, .5), r\"$\\delta E$\"],\n",
    "    ['deltaPi0rec_magP', (100, -.5, .5), r\"$\\delta |p|$\"],\n",
    "    ['deltaPi0rec_pT', (100, -.5, .5), r\"$\\delta p_{T}$\"],\n",
    "    ['deltaPi0rec_theta', (100, -7, 7), r\"$\\delta \\theta$\"]\n",
    "]"
   ]
  },
  {
   "cell_type": "code",
   "execution_count": 92,
   "id": "african-territory",
   "metadata": {},
   "outputs": [],
   "source": [
    "phi_2Ds = []\n",
    "# phi_xrange=[-10,50]\n",
    "# phi_xbins=100\n",
    "\n",
    "for distro in neut_diff:\n",
    "    var = distro[0]\n",
    "    rb = distro[1]\n",
    "    lbl= distro[2]\n",
    "    \n",
    "    h2 = h2d(xrange=[-10,50], xbins=100, yrange=[rb[1],rb[2]], ybins=rb[0], xname=r\"$\\delta \\phi$\", yname=lbl)\n",
    "    h2.fill(MC_df[\"deltaPi0rec_phi\"][cut], MC_df[var][cut])\n",
    "    \n",
    "    phi_2Ds.append(h2)\n",
    "\n"
   ]
  },
  {
   "cell_type": "code",
   "execution_count": 93,
   "id": "hindu-place",
   "metadata": {},
   "outputs": [],
   "source": [
    "neut_diff = [\n",
    "    ['deltaPi0rec_px', (100, -.5, .5), r\"$\\delta p_{x}$\"],\n",
    "    ['deltaPi0rec_py', (100, -.5, .5), r\"$\\delta p_{y}$\"],\n",
    "    ['deltaPi0rec_pz', (100, -.5, .5), r\"$\\delta p_{z}$\"],\n",
    "    ['deltaPi0rec_E', (100, -.5, .5), r\"$\\delta E$\"],\n",
    "    ['deltaPi0rec_magP', (100, -.5, .5), r\"$\\delta |p|$\"],\n",
    "    ['deltaPi0rec_pT', (100, -.5, .5), r\"$\\delta p_{T}$\"],\n",
    "    ['deltaPi0rec_phi', (100, -10, 50), r\"$\\delta \\phi$\"]\n",
    "]"
   ]
  },
  {
   "cell_type": "code",
   "execution_count": 94,
   "id": "needed-craft",
   "metadata": {},
   "outputs": [],
   "source": [
    "theta_2Ds = []\n",
    "# phi_xrange=[-10,50]\n",
    "# phi_xbins=100\n",
    "\n",
    "for distro in neut_diff:\n",
    "    var = distro[0]\n",
    "    rb = distro[1]\n",
    "    lbl= distro[2]\n",
    "    \n",
    "    h2 = h2d(xrange=[-15,15], xbins=100, yrange=[rb[1],rb[2]], ybins=rb[0], xname=r\"$\\delta \\theta$\", yname=lbl)\n",
    "    h2.fill(MC_df[\"deltaPi0rec_theta\"][cut], MC_df[var][cut])\n",
    "    \n",
    "    theta_2Ds.append(h2)\n",
    "\n"
   ]
  },
  {
   "cell_type": "code",
   "execution_count": 95,
   "id": "institutional-quantum",
   "metadata": {},
   "outputs": [
    {
     "data": {
      "application/vnd.jupyter.widget-view+json": {
       "model_id": "5276c44c8a444792a9571f1ad91cf90c",
       "version_major": 2,
       "version_minor": 0
      },
      "text/plain": [
       "Canvas(toolbar=Toolbar(toolitems=[('Home', 'Reset original view', 'home', 'home'), ('Back', 'Back to previous …"
      ]
     },
     "metadata": {},
     "output_type": "display_data"
    }
   ],
   "source": [
    "fig,ax = plt.subplots(7,2, figsize=(15,25))\n",
    "\n",
    "for i,plot in enumerate(zip(phi_2Ds, theta_2Ds)):\n",
    "    plot[0].plot(ax=ax[i][0], density=False)\n",
    "    plot[1].plot(ax=ax[i][1], density=False)\n",
    "    \n",
    "plt.tight_layout()"
   ]
  },
  {
   "cell_type": "markdown",
   "id": "perfect-rental",
   "metadata": {},
   "source": [
    "## Some follow up plots:"
   ]
  },
  {
   "cell_type": "code",
   "execution_count": 96,
   "id": "intermediate-stick",
   "metadata": {},
   "outputs": [
    {
     "data": {
      "text/plain": [
       "Histogram(\n",
       "  Regular(100, -30, 80),\n",
       "  Regular(100, 0, 1.75),\n",
       "  storage=Double()) # Sum: 273294.0 (316187.0 with flow)"
      ]
     },
     "execution_count": 96,
     "metadata": {},
     "output_type": "execute_result"
    }
   ],
   "source": [
    "dphi_theta = h2d(xrange=[-10,50], xbins=100, yrange=[0,70], ybins=100, xname=r\"$\\delta \\phi$\", yname=r\"$\\theta$\")\n",
    "dphi_theta.fill(MC_df[\"deltaPi0rec_phi\"][(MC_df.Truth == 1)], MC_df[\"Pi0rec_theta\"][(MC_df.Truth == 1)])\n",
    "\n",
    "dphi_p = h2d(xrange=[-30,80], xbins=100, yrange=[0,1.75], ybins=100, xname=r\"$\\delta \\phi$\", yname=r\"$|p|$\")\n",
    "dphi_p.fill(MC_df[\"deltaPi0rec_phi\"][(MC_df.Truth == 1)], MC_df[\"Pi0rec_magP\"][(MC_df.Truth == 1)])"
   ]
  },
  {
   "cell_type": "code",
   "execution_count": 185,
   "id": "dangerous-river",
   "metadata": {},
   "outputs": [
    {
     "data": {
      "text/plain": [
       "Histogram(\n",
       "  Regular(100, -30, 80),\n",
       "  Regular(100, 0, 1.75),\n",
       "  storage=Double()) # Sum: 140899.0 (150651.0 with flow)"
      ]
     },
     "execution_count": 185,
     "metadata": {},
     "output_type": "execute_result"
    }
   ],
   "source": [
    "dphi_theta_cut = h2d(xrange=[-10,50], xbins=100, yrange=[0,70], ybins=100, xname=r\"$\\delta \\phi (cut)$\", yname=r\"$\\theta (cut)$\")\n",
    "dphi_theta_cut.fill(MC_df[\"deltaPi0rec_phi\"][cut], MC_df[\"Pi0rec_theta\"][cut])\n",
    "\n",
    "dphi_p_cut = h2d(xrange=[-30,80], xbins=100, yrange=[0,1.75], ybins=100, xname=r\"$\\delta \\phi$\", yname=r\"$|p|$\")\n",
    "dphi_p_cut.fill(MC_df[\"deltaPi0rec_phi\"][cut], MC_df[\"Pi0rec_magP\"][cut])"
   ]
  },
  {
   "cell_type": "code",
   "execution_count": 98,
   "id": "piano-framing",
   "metadata": {},
   "outputs": [],
   "source": [
    "n_1D_Phi = h1d(data=MC_df[\"deltaPi0rec_phi\"][cut], xrange=[-30, 80], bins=100)\n"
   ]
  },
  {
   "cell_type": "code",
   "execution_count": 186,
   "id": "professional-worthy",
   "metadata": {},
   "outputs": [
    {
     "data": {
      "application/vnd.jupyter.widget-view+json": {
       "model_id": "c0a66468eeec4d4da225bd95e7dd8ecd",
       "version_major": 2,
       "version_minor": 0
      },
      "text/plain": [
       "Canvas(toolbar=Toolbar(toolitems=[('Home', 'Reset original view', 'home', 'home'), ('Back', 'Back to previous …"
      ]
     },
     "metadata": {},
     "output_type": "display_data"
    },
    {
     "data": {
      "text/plain": [
       "<matplotlib.collections.QuadMesh at 0x7f2a15a35c50>"
      ]
     },
     "execution_count": 186,
     "metadata": {},
     "output_type": "execute_result"
    }
   ],
   "source": [
    "fig, ax = plt.subplots(2,2, figsize=(17,15))\n",
    "ax=ax.flatten()\n",
    "\n",
    "dphi_theta.plot(ax=ax[0], density=False)\n",
    "dphi_p.plot(ax=ax[1], density=False)\n",
    "dphi_theta_cut.plot(ax=ax[2], density=False)\n",
    "#n_1D_Phi.histogram(ax=ax[3], density=True, color=\"brown\")\n",
    "dphi_p_cut.plot(ax=ax[3], density=False)\n"
   ]
  },
  {
   "cell_type": "code",
   "execution_count": 184,
   "id": "stone-cradle",
   "metadata": {},
   "outputs": [
    {
     "data": {
      "application/vnd.jupyter.widget-view+json": {
       "model_id": "f8dcec036bf948919c9d321c7f2fd3c7",
       "version_major": 2,
       "version_minor": 0
      },
      "text/plain": [
       "Canvas(toolbar=Toolbar(toolitems=[('Home', 'Reset original view', 'home', 'home'), ('Back', 'Back to previous …"
      ]
     },
     "metadata": {},
     "output_type": "display_data"
    },
    {
     "data": {
      "text/plain": [
       "<matplotlib.legend.Legend at 0x7f2a15eeed10>"
      ]
     },
     "execution_count": 184,
     "metadata": {},
     "output_type": "execute_result"
    }
   ],
   "source": [
    "fig, ax = plt.subplots(1, 3, figsize=(15,5))\n",
    "\n",
    "hist1D(ax[0], MC_df, [\"truPi0rec_phi\", (130, -180, 180), r\"$neutron$ $\\phi$ - [all truth]\"], color='brown', lalpha=.7)\n",
    "\n",
    "axb=ax[1].twinx()\n",
    "hist1D(ax[1], MC_df, [\"Pi0rec_phi\", (48, -180, 180), r\"$neutron$ $\\phi$\"], cuts = cut&(MC_df.Truth == 1), label=\"Truth-Matched\")\n",
    "hist1D(axb, MC_df, [\"truPi0rec_phi\", (48, -180, 180), r\"$neutron$ $\\phi$\"], cuts = cut&(MC_df.Truth == 1), color='brown', lalpha=.7, label=\"Generated\")\n",
    "\n",
    "hist1D(ax[2], MC_df, [\"Pi0rec_phi\", (48, -180, 180), r\"$neutron$ $\\phi$\"], cuts = cut&(MC_df.Truth == 1)&(MC_df.Pi0flag_MC_neutrec==1), label=\"Truth-Matched + PID\")\n",
    "axc=ax[2].twinx()\n",
    "hist1D(axc, MC_df, [\"truPi0rec_phi\", (48, -180, 180), r\"$neutron$ $\\phi$\"], cuts = cut&(MC_df.Truth == 1)&(MC_df.Pi0flag_MC_neutrec==1), color='brown', lalpha=.7, label=\"Generated\")\n",
    "\n",
    "\n",
    "lines_1, labels_1 = ax[1].get_legend_handles_labels()\n",
    "lines_2, labels_2 = axb.get_legend_handles_labels()\n",
    "\n",
    "lines = lines_1 + lines_2\n",
    "labels = labels_1 + labels_2\n",
    "\n",
    "\n",
    "ax[1].legend(lines, labels, loc=3)\n",
    "\n",
    "lines_1, labels_1 = ax[2].get_legend_handles_labels()\n",
    "lines_2, labels_2 = axc.get_legend_handles_labels()\n",
    "\n",
    "lines = lines_1 + lines_2\n",
    "labels = labels_1 + labels_2\n",
    "\n",
    "\n",
    "ax[2].legend(lines, labels, loc=3)\n",
    "#def hist1D(ax, df, var, bins = None, cuts=None, y_err=False, color=None, lalpha=1, falpha=0.4, normed=False, filled = False, density = False, params={}):\n"
   ]
  },
  {
   "cell_type": "code",
   "execution_count": 192,
   "id": "ranking-romania",
   "metadata": {},
   "outputs": [],
   "source": [
    "dphi_truPhi = h2d(\n",
    "    ydata=MC_df[\"deltaPi0rec_phi\"][(MC_df.Truth == 1)],\n",
    "    xdata=MC_df[\"truPi0rec_phi\"][(MC_df.Truth == 1)],\n",
    "    yrange=[-10,50], \n",
    "    ybins=100, \n",
    "    xrange=[-180,180], \n",
    "    xbins=48, \n",
    "    yname=r\"$\\delta \\phi (cut)$\", \n",
    "    xname=r\"$true\\ \\phi$\"\n",
    ")\n",
    "\n",
    "dphi_Phi = h2d(\n",
    "    ydata=MC_df[\"deltaPi0rec_phi\"][cut&(MC_df.Truth == 1)],\n",
    "    xdata=MC_df[\"Pi0rec_phi\"][cut&(MC_df.Truth == 1)],\n",
    "    yrange=[-10,50], \n",
    "    ybins=100, \n",
    "    xrange=[-180,180], \n",
    "    xbins=48, \n",
    "    yname=r\"$\\delta \\phi$\", \n",
    "    xname=r\"$\\phi$\"\n",
    ")\n",
    "\n",
    "# n_1D_Phi = h1d(data=MC_df[\"Pi0rec_phi\"][(MC_df.Truth == 1)],\n",
    "#                xrange=[-180, 180],\n",
    "#                bins=48)\n",
    "# n_1D_truPhi = h1d(data=MC_df[\"truPi0rec_phi\"][(MC_df.Truth == 1)],\n",
    "#                xrange=[-180, 180],\n",
    "#                bins=48)"
   ]
  },
  {
   "cell_type": "code",
   "execution_count": 193,
   "id": "trying-instrumentation",
   "metadata": {},
   "outputs": [
    {
     "data": {
      "application/vnd.jupyter.widget-view+json": {
       "model_id": "b078a4d2bbad4d9788ec55442f4290d7",
       "version_major": 2,
       "version_minor": 0
      },
      "text/plain": [
       "Canvas(toolbar=Toolbar(toolitems=[('Home', 'Reset original view', 'home', 'home'), ('Back', 'Back to previous …"
      ]
     },
     "metadata": {},
     "output_type": "display_data"
    },
    {
     "data": {
      "text/plain": [
       "<matplotlib.collections.QuadMesh at 0x7f2a15027850>"
      ]
     },
     "execution_count": 193,
     "metadata": {},
     "output_type": "execute_result"
    }
   ],
   "source": [
    "fig,ax = plt.subplots(2,2, figsize=(12,10))\n",
    "ax=ax.flatten()\n",
    "\n",
    "hist1D(ax[0], MC_df, [\"truPi0rec_phi\", (48, -180, 180), r\"$neutron$ $\\phi$ - [truth  & True==1]\"], cuts = cut&(MC_df.Truth == 1), color='brown', lalpha=.7)\n",
    "hist1D(ax[1], MC_df, [\"Pi0rec_phi\", (48, -180, 180), r\"$neutron$ $\\phi$ -  [truth & True==1]\"], cuts = cut&(MC_df.Truth == 1))\n",
    "\n",
    "dphi_truPhi.plot(ax=ax[2], density=False, colorbar=False)\n",
    "dphi_Phi.plot(ax=ax[3], density=False, colorbar=False)"
   ]
  },
  {
   "cell_type": "code",
   "execution_count": 104,
   "id": "strategic-bryan",
   "metadata": {},
   "outputs": [
    {
     "data": {
      "application/vnd.jupyter.widget-view+json": {
       "model_id": "0cfe50d44ea146fbbafe4cf0cdf8a979",
       "version_major": 2,
       "version_minor": 0
      },
      "text/plain": [
       "Canvas(toolbar=Toolbar(toolitems=[('Home', 'Reset original view', 'home', 'home'), ('Back', 'Back to previous …"
      ]
     },
     "metadata": {},
     "output_type": "display_data"
    }
   ],
   "source": [
    "fig,ax = plt.subplots(1,2, figsize=(12,6))\n",
    "\n",
    "\n",
    "dphi_truPhi.plot(ax=ax[0], density=False, colorbar=False)\n",
    "ax0=ax[0].twinx()\n",
    "ax0.grid(False)\n",
    "hist1D(ax0, MC_df, [\"truPi0rec_phi\", (48, -180, 180), r\"$neutron$ $\\phi$ - [truth  & True==1]\"], cuts = (MC_df.Truth == 1), color='brown', lalpha=.7)\n",
    "\n",
    "\n",
    "dphi_Phi.plot(ax=ax[1], density=False, colorbar=False)\n",
    "ax1=ax[1].twinx()\n",
    "ax1.grid(False)\n",
    "hist1D(ax1, MC_df, [\"Pi0rec_phi\", (48, -180, 180), r\"$neutron$ $\\phi$ -  [truth & True==1]\"], cuts = (MC_df.Truth == 1), color=\"blue\", lalpha=.5)\n",
    "\n"
   ]
  },
  {
   "cell_type": "code",
   "execution_count": 105,
   "id": "imported-condition",
   "metadata": {},
   "outputs": [],
   "source": [
    "dphi_truPhi = h2d(\n",
    "    ydata=MC_df[\"deltaPi0rec_phi\"][(MC_df.Truth == 1)],\n",
    "    xdata=MC_df[\"truPi0rec_phi\"][(MC_df.Truth == 1)],\n",
    "    yrange=[-9,9], \n",
    "    ybins=10, \n",
    "    xrange=[-180,180], \n",
    "    xbins=48, \n",
    "    yname=r\"$\\delta \\phi (cut)$\", \n",
    "    xname=r\"$true\\ \\phi$\"\n",
    ")\n",
    "\n",
    "dphi_Phi = h2d(\n",
    "    ydata=MC_df[\"deltaPi0rec_phi\"][(MC_df.Truth == 1)],\n",
    "    xdata=MC_df[\"Pi0rec_phi\"][(MC_df.Truth == 1)],\n",
    "    yrange=[-9,9], \n",
    "    ybins=10, \n",
    "    xrange=[-180,180], \n",
    "    xbins=48, \n",
    "    yname=r\"$\\delta \\phi (cut)$\", \n",
    "    xname=r\"$truth-matched\\ \\phi$\"\n",
    ")\n",
    "\n"
   ]
  },
  {
   "cell_type": "code",
   "execution_count": 106,
   "id": "broad-niagara",
   "metadata": {},
   "outputs": [
    {
     "data": {
      "application/vnd.jupyter.widget-view+json": {
       "model_id": "da91ddb1f7e44e28a82eee0d59fa7e3d",
       "version_major": 2,
       "version_minor": 0
      },
      "text/plain": [
       "Canvas(toolbar=Toolbar(toolitems=[('Home', 'Reset original view', 'home', 'home'), ('Back', 'Back to previous …"
      ]
     },
     "metadata": {},
     "output_type": "display_data"
    },
    {
     "data": {
      "text/plain": [
       "<matplotlib.collections.QuadMesh at 0x7f2a20812210>"
      ]
     },
     "execution_count": 106,
     "metadata": {},
     "output_type": "execute_result"
    }
   ],
   "source": [
    "fig,ax = plt.subplots(1,2, figsize=(13,5))\n",
    "dphi_truPhi.plot(ax=ax[0], density=False)\n",
    "dphi_Phi.plot(ax=ax[1], density=False)"
   ]
  },
  {
   "cell_type": "markdown",
   "id": "increasing-possibility",
   "metadata": {},
   "source": [
    "## Status Bank for the neutron\n",
    "Parameterises where in the detector suite an event has been detected.\n",
    "   * 4000 => CD hit\n",
    "   * \\+ 100 * N CTOF responses\n",
    "   * \\+ 10 * N CND responses \n",
    "   \n",
    "---\n",
    "\n",
    "We have: \n",
    "   * mostly CND only hits (4010)\n",
    "   * some CTOF only hits (4100)\n",
    "   * a few CTOF and CND events (4110)"
   ]
  },
  {
   "cell_type": "code",
   "execution_count": 107,
   "id": "unnecessary-edmonton",
   "metadata": {},
   "outputs": [
    {
     "data": {
      "application/vnd.jupyter.widget-view+json": {
       "model_id": "648c4add27354b648a7e4250551af37a",
       "version_major": 2,
       "version_minor": 0
      },
      "text/plain": [
       "Canvas(toolbar=Toolbar(toolitems=[('Home', 'Reset original view', 'home', 'home'), ('Back', 'Back to previous …"
      ]
     },
     "metadata": {},
     "output_type": "display_data"
    }
   ],
   "source": [
    "fig,ax = plt.subplots()\n",
    "hist1D(ax, MC_df, [\"Pi0rec_status\", (2000, 3950, 4150), r\"$neutron$ $status$\"], color='brown', lalpha=.7)"
   ]
  },
  {
   "cell_type": "code",
   "execution_count": 108,
   "id": "foreign-province",
   "metadata": {},
   "outputs": [],
   "source": [
    "neut_diff = [\n",
    "    ['deltaPi0rec_px', (100, -1, 1), r\"$\\delta p_{x}$\"],\n",
    "    ['deltaPi0rec_py', (100, -1, 1), r\"$\\delta p_{y}$\"],\n",
    "    ['deltaPi0rec_pz', (100, -1, 1), r\"$\\delta p_{z}$\"],\n",
    "    ['deltaPi0rec_E', (100, -1, 1), r\"$\\delta E$\"],\n",
    "    ['deltaPi0rec_magP', (100, -1, 1), r\"$\\delta |p|$\"],\n",
    "    ['deltaPi0rec_pT', (100, -1, 1), r\"$\\delta p_{T}$\"],\n",
    "    ['deltaPi0rec_theta', (100, -10, 10), r\"$\\delta \\theta$\"],\n",
    "    ['deltaPi0rec_phi', (100, -20, 60), r\"$\\delta \\phi$\"]\n",
    "]"
   ]
  },
  {
   "cell_type": "code",
   "execution_count": 109,
   "id": "usual-workstation",
   "metadata": {},
   "outputs": [
    {
     "data": {
      "application/vnd.jupyter.widget-view+json": {
       "model_id": "9aa4fbd579754ab6ab80c58cc2cd110c",
       "version_major": 2,
       "version_minor": 0
      },
      "text/plain": [
       "Canvas(toolbar=Toolbar(toolitems=[('Home', 'Reset original view', 'home', 'home'), ('Back', 'Back to previous …"
      ]
     },
     "metadata": {},
     "output_type": "display_data"
    },
    {
     "data": {
      "text/plain": [
       "<matplotlib.legend.Legend at 0x7f2a205039d0>"
      ]
     },
     "execution_count": 109,
     "metadata": {},
     "output_type": "execute_result"
    }
   ],
   "source": [
    "fig10, ax10 = plt.subplots(2,4, figsize=(15,10))\n",
    "ax10=ax10.flatten()\n",
    "\n",
    "fig10.suptitle('neutron (rec - gen)', fontsize=16)\n",
    "\n",
    "for i, distro in enumerate(neut_diff):\n",
    "    hist1D(ax10[i], MC_df, distro, cuts=cut&(MC_df.Pi0rec_status==4010), label=\"CND\", bins=50)\n",
    "    hist1D(ax10[i], MC_df, distro, cuts=cut&(MC_df.Pi0rec_status==4100), label=\"CTOF\", bins=50)\n",
    "    hist1D(ax10[i], MC_df, distro, cuts=cut&(MC_df.Pi0rec_status==4110), label=\"CND/CTOF\", bins=50)\n",
    "    \n",
    "ax10[3].legend(loc=1)"
   ]
  },
  {
   "cell_type": "code",
   "execution_count": 110,
   "id": "detailed-confirmation",
   "metadata": {},
   "outputs": [
    {
     "data": {
      "application/vnd.jupyter.widget-view+json": {
       "model_id": "379336e0a0a24219a7e1e7486a9fe4c0",
       "version_major": 2,
       "version_minor": 0
      },
      "text/plain": [
       "Canvas(toolbar=Toolbar(toolitems=[('Home', 'Reset original view', 'home', 'home'), ('Back', 'Back to previous …"
      ]
     },
     "metadata": {},
     "output_type": "display_data"
    },
    {
     "data": {
      "text/plain": [
       "<matplotlib.legend.Legend at 0x7f2a201a7990>"
      ]
     },
     "execution_count": 110,
     "metadata": {},
     "output_type": "execute_result"
    }
   ],
   "source": [
    "fig10, ax10 = plt.subplots(2,4, figsize=(15,10))\n",
    "ax10=ax10.flatten()\n",
    "\n",
    "fig10.suptitle('neutron (rec - gen)', fontsize=16)\n",
    "\n",
    "for i, distro in enumerate(neut_diff):\n",
    "    hist1D(ax10[i], MC_df, distro, cuts=cut&(MC_df.Pi0rec_status==4010), density=True, label=\"CND\", bins=50)\n",
    "    hist1D(ax10[i], MC_df, distro, cuts=cut&(MC_df.Pi0rec_status==4100), density=True, label=\"CTOF\", bins=50)\n",
    "    hist1D(ax10[i], MC_df, distro, cuts=cut&(MC_df.Pi0rec_status==4110), density=True, label=\"CND/CTOF\", bins=50)\n",
    "    \n",
    "ax10[3].legend(loc=1)"
   ]
  },
  {
   "cell_type": "code",
   "execution_count": 111,
   "id": "least-campbell",
   "metadata": {},
   "outputs": [],
   "source": [
    "dphi_p_stat1 = h2d(\n",
    "    xdata=MC_df[\"deltaPi0rec_phi\"][(MC_df.Truth == 1)&(MC_df.Pi0rec_status==4010)], \n",
    "    ydata=MC_df[\"Pi0rec_magP\"][(MC_df.Truth == 1)&(MC_df.Pi0rec_status==4010)], \n",
    "    xrange=[-30,80], \n",
    "    xbins=100, \n",
    "    yrange=[0,1.75], \n",
    "    ybins=100, \n",
    "    xname=r\"$\\delta \\phi (cut)$\", \n",
    "    yname=r\"$|p| (cut)$\"\n",
    ")\n",
    "\n",
    "dphi_p_stat2 = h2d(\n",
    "    xdata=MC_df[\"deltaPi0rec_phi\"][(MC_df.Truth == 1)&(MC_df.Pi0rec_status==4100)], \n",
    "    ydata=MC_df[\"Pi0rec_magP\"][(MC_df.Truth == 1)&(MC_df.Pi0rec_status==4100)], \n",
    "    xrange=[-30,80], \n",
    "    xbins=70, \n",
    "    yrange=[0,1.75], \n",
    "    ybins=70, \n",
    "    xname=r\"$\\delta \\phi (cut)$\", \n",
    "    yname=r\"$|p| (cut)$\"\n",
    ")\n",
    "\n",
    "dphi_p_stat3 = h2d(\n",
    "    xdata=MC_df[\"deltaPi0rec_phi\"][(MC_df.Truth == 1)&(MC_df.Pi0rec_status==4110)], \n",
    "    ydata=MC_df[\"Pi0rec_magP\"][(MC_df.Truth == 1)&(MC_df.Pi0rec_status==4110)], \n",
    "    xrange=[-30,80], \n",
    "    xbins=30, \n",
    "    yrange=[0,1.75], \n",
    "    ybins=30, \n",
    "    xname=r\"$\\delta \\phi (cut)$\", \n",
    "    yname=r\"$|p| (cut)$\"\n",
    ")\n"
   ]
  },
  {
   "cell_type": "code",
   "execution_count": 112,
   "id": "extraordinary-business",
   "metadata": {},
   "outputs": [
    {
     "data": {
      "application/vnd.jupyter.widget-view+json": {
       "model_id": "227a512ee4dd432e948afe8fba850785",
       "version_major": 2,
       "version_minor": 0
      },
      "text/plain": [
       "Canvas(toolbar=Toolbar(toolitems=[('Home', 'Reset original view', 'home', 'home'), ('Back', 'Back to previous …"
      ]
     },
     "metadata": {},
     "output_type": "display_data"
    },
    {
     "data": {
      "text/plain": [
       "<matplotlib.collections.QuadMesh at 0x7f2a1fc3d710>"
      ]
     },
     "execution_count": 112,
     "metadata": {},
     "output_type": "execute_result"
    }
   ],
   "source": [
    "fig,ax = plt.subplots(1,3, figsize=(15,5))\n",
    "\n",
    "dphi_p_stat1.plot(ax=ax[0], density=False)\n",
    "dphi_p_stat2.plot(ax=ax[1], density=False)\n",
    "dphi_p_stat3.plot(ax=ax[2], density=False)"
   ]
  },
  {
   "cell_type": "code",
   "execution_count": 151,
   "id": "complicated-brazil",
   "metadata": {},
   "outputs": [],
   "source": [
    "dphi_phi_stat1 = h2d(\n",
    "    ydata=MC_df[\"deltaPi0rec_phi\"][cut&(MC_df.Truth == 1)&(MC_df.Pi0rec_status==4010)], \n",
    "    xdata=MC_df[\"Pi0rec_phi\"][cut&(MC_df.Truth == 1)&(MC_df.Pi0rec_status==4010)], \n",
    "    yrange=[-10,50], \n",
    "    ybins=80, \n",
    "    xrange=[-180,180], \n",
    "    xbins=48, \n",
    "    yname=r\"$\\delta \\phi$\", \n",
    "    xname=r\"$\\phi$\"\n",
    ")\n",
    "\n",
    "dphi_phi_stat2 = h2d(\n",
    "    ydata=MC_df[\"deltaPi0rec_phi\"][cut&(MC_df.Truth == 1)&(MC_df.Pi0rec_status==4100)], \n",
    "    xdata=MC_df[\"Pi0rec_phi\"][cut&(MC_df.Truth == 1)&(MC_df.Pi0rec_status==4100)], \n",
    "    yrange=[-10,50], \n",
    "    ybins=60, \n",
    "    xrange=[-180,180], \n",
    "    xbins=48, \n",
    "    yname=r\"$\\delta \\phi$\", \n",
    "    xname=r\"$\\phi$\"\n",
    ")\n",
    "\n",
    "dphi_phi_stat3 = h2d(\n",
    "    ydata=MC_df[\"deltaPi0rec_phi\"][cut&(MC_df.Truth == 1)&(MC_df.Pi0rec_status==4110)], \n",
    "    xdata=MC_df[\"Pi0rec_phi\"][cut&(MC_df.Truth == 1)&(MC_df.Pi0rec_status==4110)], \n",
    "    yrange=[-10,50], \n",
    "    ybins=20, \n",
    "    xrange=[-180,180], \n",
    "    xbins=48,  \n",
    "    yname=r\"$\\delta \\phi$\", \n",
    "    xname=r\"$\\phi$\"\n",
    ")\n"
   ]
  },
  {
   "cell_type": "code",
   "execution_count": 152,
   "id": "taken-gibraltar",
   "metadata": {},
   "outputs": [
    {
     "data": {
      "application/vnd.jupyter.widget-view+json": {
       "model_id": "087489e29d59494995c6e77173dda125",
       "version_major": 2,
       "version_minor": 0
      },
      "text/plain": [
       "Canvas(toolbar=Toolbar(toolitems=[('Home', 'Reset original view', 'home', 'home'), ('Back', 'Back to previous …"
      ]
     },
     "metadata": {},
     "output_type": "display_data"
    },
    {
     "data": {
      "text/plain": [
       "<matplotlib.collections.QuadMesh at 0x7f2a1bd62390>"
      ]
     },
     "execution_count": 152,
     "metadata": {},
     "output_type": "execute_result"
    }
   ],
   "source": [
    "fig,ax = plt.subplots(1,3, figsiWhat do you see on the MC that needs to be understood?ze=(15,5))\n",
    "\n",
    "dphi_phi_stat1.plot(ax=ax[0], density=False)\n",
    "dphi_phi_stat2.plot(ax=ax[1], density=False)\n",
    "dphi_phi_stat3.plot(ax=ax[2], density=False)"
   ]
  },
  {
   "cell_type": "code",
   "execution_count": 149,
   "id": "funded-specialist",
   "metadata": {},
   "outputs": [],
   "source": [
    "dphi_phi_stat1 = h2d(\n",
    "    ydata=MC_df[\"deltaPi0rec_phi\"][(MC_df.Truth == 1)&(MC_df.Pi0rec_status==4010)&cut], \n",
    "    xdata=MC_df[\"Pi0rec_phi\"][(MC_df.Truth == 1)&(MC_df.Pi0rec_status==4010)&cut], \n",
    "    yrange=[-10,50], \n",
    "    ybins=80, \n",
    "    xrange=[-180,180], \n",
    "    xbins=48, \n",
    "    yname=r\"$\\delta \\phi (cut)$\", \n",
    "    xname=r\"$\\phi (cut)$\"\n",
    ")\n",
    "\n",
    "dphi_phi_stat2 = h2d(\n",
    "    ydata=MC_df[\"deltaPi0rec_phi\"][(MC_df.Truth == 1)&(MC_df.Pi0rec_status==4100)&cut], \n",
    "    xdata=MC_df[\"Pi0rec_phi\"][(MC_df.Truth == 1)&(MC_df.Pi0rec_status==4100)&cut], \n",
    "    yrange=[-10,50], \n",
    "    ybins=60, \n",
    "    xrange=[-180,180], \n",
    "    xbins=48, \n",
    "    yname=r\"$\\delta \\phi (cut)$\", \n",
    "    xname=r\"$\\phi (cut)$\"\n",
    ")\n",
    "\n",
    "dphi_phi_stat3 = h2d(\n",
    "    ydata=MC_df[\"deltaPi0rec_phi\"][(MC_df.Truth == 1)&(MC_df.Pi0rec_status==4110)&cut], \n",
    "    xdata=MC_df[\"Pi0rec_phi\"][(MC_df.Truth == 1)&(MC_df.Pi0rec_status==4110)&cut], \n",
    "    yrange=[-10,50], \n",
    "    ybins=20, \n",
    "    xrange=[-180,180], \n",
    "    xbins=48,  \n",
    "    yname=r\"$\\delta \\phi (cut)$\", \n",
    "    xname=r\"$\\phi (cut)$\"\n",
    ")\n"
   ]
  },
  {
   "cell_type": "code",
   "execution_count": 187,
   "id": "skilled-effect",
   "metadata": {},
   "outputs": [
    {
     "data": {
      "application/vnd.jupyter.widget-view+json": {
       "model_id": "f6e9b923b7464960ba4ad91568e4dad6",
       "version_major": 2,
       "version_minor": 0
      },
      "text/plain": [
       "Canvas(toolbar=Toolbar(toolitems=[('Home', 'Reset original view', 'home', 'home'), ('Back', 'Back to previous …"
      ]
     },
     "metadata": {},
     "output_type": "display_data"
    }
   ],
   "source": [
    "fig,ax = plt.subplots(1,3, figsize=(15,5))\n",
    "\n",
    "dphi_phi_stat1.plot(ax=ax[0], density=False)\n",
    "dphi_phi_stat2.plot(ax=ax[1], density=False)\n",
    "dphi_phi_stat3.plot(ax=ax[2], density=False)\n",
    "\n",
    "plt.tight_layout()"
   ]
  },
  {
   "cell_type": "code",
   "execution_count": 115,
   "id": "sporting-robert",
   "metadata": {},
   "outputs": [],
   "source": [
    "dphi_Phi_stat1 = h2d(\n",
    "    ydata=MC_df[\"deltaPi0rec_phi\"][(MC_df.Truth == 1)&(MC_df.Pi0rec_status==4010)],\n",
    "    xdata=MC_df[\"Pi0rec_phi\"][(MC_df.Truth == 1)&(MC_df.Pi0rec_status==4010)],\n",
    "    yrange=[-9,9], \n",
    "    ybins=4, \n",
    "    xrange=[-180,180], \n",
    "    xbins=48, \n",
    "    yname=r\"$\\delta \\phi (cut)$\", \n",
    "    xname=r\"$truth-matched\\ \\phi$\"\n",
    ")\n",
    "\n",
    "dphi_Phi_stat2 = h2d(\n",
    "    ydata=MC_df[\"deltaPi0rec_phi\"][(MC_df.Truth == 1)&(MC_df.Pi0rec_status==4100)],\n",
    "    xdata=MC_df[\"Pi0rec_phi\"][(MC_df.Truth == 1)&(MC_df.Pi0rec_status==4100)],\n",
    "    yrange=[-9,9], \n",
    "    ybins=4, \n",
    "    xrange=[-180,180], \n",
    "    xbins=48, \n",
    "    yname=r\"$\\delta \\phi (cut)$\", \n",
    "    xname=r\"$truth-matched\\ \\phi$\"\n",
    ")\n",
    "\n",
    "dphi_Phi_stat3 = h2d(\n",
    "    ydata=MC_df[\"deltaPi0rec_phi\"][(MC_df.Truth == 1)&(MC_df.Pi0rec_status==4110)],\n",
    "    xdata=MC_df[\"Pi0rec_phi\"][(MC_df.Truth == 1)&(MC_df.Pi0rec_status==4110)],\n",
    "    yrange=[-9,9], \n",
    "    ybins=4, \n",
    "    xrange=[-180,180], \n",
    "    xbins=48, \n",
    "    yname=r\"$\\delta \\phi (cut)$\", \n",
    "    xname=r\"$truth-matched\\ \\phi$\"\n",
    ")\n",
    "\n"
   ]
  },
  {
   "cell_type": "code",
   "execution_count": 116,
   "id": "removed-system",
   "metadata": {},
   "outputs": [
    {
     "data": {
      "application/vnd.jupyter.widget-view+json": {
       "model_id": "f64c87c13be64a8b821dbb1ca75692d9",
       "version_major": 2,
       "version_minor": 0
      },
      "text/plain": [
       "Canvas(toolbar=Toolbar(toolitems=[('Home', 'Reset original view', 'home', 'home'), ('Back', 'Back to previous …"
      ]
     },
     "metadata": {},
     "output_type": "display_data"
    },
    {
     "data": {
      "text/plain": [
       "<matplotlib.collections.QuadMesh at 0x7f2a1f704d50>"
      ]
     },
     "execution_count": 116,
     "metadata": {},
     "output_type": "execute_result"
    }
   ],
   "source": [
    "fig,ax = plt.subplots(1,3, figsize=(18,5))\n",
    "\n",
    "dphi_Phi_stat1.plot(ax=ax[0], density=False)\n",
    "dphi_Phi_stat2.plot(ax=ax[1], density=False)\n",
    "dphi_Phi_stat3.plot(ax=ax[2], density=False)"
   ]
  },
  {
   "cell_type": "markdown",
   "id": "bridal-addiction",
   "metadata": {},
   "source": [
    "## Adding PID matching on truth"
   ]
  },
  {
   "cell_type": "code",
   "execution_count": 117,
   "id": "simple-makeup",
   "metadata": {},
   "outputs": [
    {
     "data": {
      "application/vnd.jupyter.widget-view+json": {
       "model_id": "61fa228991b640b5829738d6800c558c",
       "version_major": 2,
       "version_minor": 0
      },
      "text/plain": [
       "Canvas(toolbar=Toolbar(toolitems=[('Home', 'Reset original view', 'home', 'home'), ('Back', 'Back to previous …"
      ]
     },
     "metadata": {},
     "output_type": "display_data"
    }
   ],
   "source": [
    "fig2, ax2 = plt.subplots(2,4, figsize=(15,10))\n",
    "ax2=ax2.flatten()\n",
    "\n",
    "fig2.suptitle('neutrons', fontsize=16)\n",
    "\n",
    "for i, distro in enumerate(neut_distros):\n",
    "    hist1D(ax2[i], MC_df, distro, cuts=(MC_df.Truth==1)&(MC_df.Pi0flag_MC_neutrec==1))\n",
    "    \n",
    "for i, distro in enumerate(neut_t_distros):\n",
    "    ax=ax2[i].twinx()\n",
    "\n",
    "    hist1D(ax, MC_df, distro, cuts=(MC_df.Truth==1)&(MC_df.Pi0flag_MC_neutrec==1), color='brown', lalpha=0.7)"
   ]
  },
  {
   "cell_type": "code",
   "execution_count": 168,
   "id": "aggregate-event",
   "metadata": {},
   "outputs": [
    {
     "data": {
      "application/vnd.jupyter.widget-view+json": {
       "model_id": "1db0142d514449a8b2146587c83d3a67",
       "version_major": 2,
       "version_minor": 0
      },
      "text/plain": [
       "Canvas(toolbar=Toolbar(toolitems=[('Home', 'Reset original view', 'home', 'home'), ('Back', 'Back to previous …"
      ]
     },
     "metadata": {},
     "output_type": "display_data"
    },
    {
     "data": {
      "text/plain": [
       "<matplotlib.legend.Legend at 0x7f2a182b7290>"
      ]
     },
     "execution_count": 168,
     "metadata": {},
     "output_type": "execute_result"
    }
   ],
   "source": [
    "fig6, ax6 = plt.subplots(2,4, figsize=(15,10))\n",
    "ax6=ax6.flatten()\n",
    "\n",
    "fig6.suptitle('neutrons', fontsize=16)\n",
    "\n",
    "for i, distro in enumerate(neut_distros):\n",
    "    hist1D(ax6[i], MC_df, distro, cuts=cut&(MC_df.Pi0flag_MC_neutrec==1), label=\"Truth & PID\")\n",
    "    \n",
    "for i, distro in enumerate(neut_t_distros):\n",
    "    ax=ax6[i].twinx()\n",
    "\n",
    "    hist1D(ax, MC_df, distro, cuts=cut&(MC_df.Pi0flag_MC_neutrec==1), color='brown', lalpha=0.7, label=\"Generated\")\n",
    "    \n",
    "lines_1, labels_1 = ax6[0].get_legend_handles_labels()\n",
    "lines_2, labels_2 = ax.get_legend_handles_labels()\n",
    "\n",
    "lines = lines_1 + lines_2\n",
    "labels = labels_1 + labels_2\n",
    "\n",
    "\n",
    "ax6[3].legend(lines, labels, loc=1)\n",
    "ax6[4].legend(lines, labels, loc=1)"
   ]
  },
  {
   "cell_type": "code",
   "execution_count": 119,
   "id": "passing-arthritis",
   "metadata": {},
   "outputs": [],
   "source": [
    "neut_diff = [\n",
    "    ['deltaPi0rec_px', (100, -.5, .5), r\"$\\delta p_{x}$\"],\n",
    "    ['deltaPi0rec_py', (100, -.5, .5), r\"$\\delta p_{y}$\"],\n",
    "    ['deltaPi0rec_pz', (100, -.5, .5), r\"$\\delta p_{z}$\"],\n",
    "    ['deltaPi0rec_E', (100, -.5, .5), r\"$\\delta E$\"],\n",
    "    ['deltaPi0rec_magP', (100, -.5, .5), r\"$\\delta |p|$\"],\n",
    "    ['deltaPi0rec_pT', (100, -.5, .5), r\"$\\delta p_{T}$\"],\n",
    "    ['deltaPi0rec_theta', (100, -10, 10), r\"$\\delta \\theta$\"],    \n",
    "    ['deltaPi0rec_phi', (100, -10, 50), r\"$\\delta \\phi$\"]\n",
    "]"
   ]
  },
  {
   "cell_type": "code",
   "execution_count": 120,
   "id": "promotional-operation",
   "metadata": {},
   "outputs": [
    {
     "data": {
      "application/vnd.jupyter.widget-view+json": {
       "model_id": "d5485ce807834fe1989219a2f724b885",
       "version_major": 2,
       "version_minor": 0
      },
      "text/plain": [
       "Canvas(toolbar=Toolbar(toolitems=[('Home', 'Reset original view', 'home', 'home'), ('Back', 'Back to previous …"
      ]
     },
     "metadata": {},
     "output_type": "display_data"
    }
   ],
   "source": [
    "fig10, ax10 = plt.subplots(2,4, figsize=(15,10))\n",
    "ax10=ax10.flatten()\n",
    "\n",
    "fig10.suptitle('neutron (rec - gen)', fontsize=16)\n",
    "\n",
    "for i, distro in enumerate(neut_diff):\n",
    "    hist1D(ax10[i], MC_df, distro, cuts=cut&(MC_df.Pi0flag_MC_neutrec==1), color='orangered', lalpha=0.7)"
   ]
  },
  {
   "cell_type": "code",
   "execution_count": 121,
   "id": "integrated-cleaning",
   "metadata": {},
   "outputs": [
    {
     "data": {
      "text/plain": [
       "Histogram(\n",
       "  Regular(100, -30, 80),\n",
       "  Regular(100, 0, 1.75),\n",
       "  storage=Double()) # Sum: 5920.0 (6040.0 with flow)"
      ]
     },
     "execution_count": 121,
     "metadata": {},
     "output_type": "execute_result"
    }
   ],
   "source": [
    "dphi_p_cut = h2d(xrange=[-30,80], xbins=100, yrange=[0,1.75], ybins=100, xname=r\"$\\delta \\phi (cut)$\", yname=r\"$|p| (cut)$\")\n",
    "dphi_p_cut.fill(MC_df[\"deltaPi0rec_phi\"][cut&(MC_df.Pi0flag_MC_neutrec==1)], MC_df[\"Pi0rec_magP\"][cut&(MC_df.Pi0flag_MC_neutrec==1)])"
   ]
  },
  {
   "cell_type": "code",
   "execution_count": 122,
   "id": "constant-broadcast",
   "metadata": {},
   "outputs": [
    {
     "data": {
      "application/vnd.jupyter.widget-view+json": {
       "model_id": "9f92954525744c6b9ea198db04ca821a",
       "version_major": 2,
       "version_minor": 0
      },
      "text/plain": [
       "Canvas(toolbar=Toolbar(toolitems=[('Home', 'Reset original view', 'home', 'home'), ('Back', 'Back to previous …"
      ]
     },
     "metadata": {},
     "output_type": "display_data"
    },
    {
     "data": {
      "text/plain": [
       "<matplotlib.collections.QuadMesh at 0x7f2a1eb42050>"
      ]
     },
     "execution_count": 122,
     "metadata": {},
     "output_type": "execute_result"
    }
   ],
   "source": [
    "fig,ax = plt.subplots()\n",
    "dphi_p_cut.plot(ax=ax, density=False)"
   ]
  },
  {
   "cell_type": "code",
   "execution_count": null,
   "id": "thick-hearts",
   "metadata": {},
   "outputs": [],
   "source": []
  },
  {
   "cell_type": "markdown",
   "id": "exceptional-atlantic",
   "metadata": {},
   "source": [
    "## Status Bank with PID added"
   ]
  },
  {
   "cell_type": "code",
   "execution_count": 146,
   "id": "unlike-simon",
   "metadata": {},
   "outputs": [
    {
     "data": {
      "application/vnd.jupyter.widget-view+json": {
       "model_id": "a4f58e5bd3c345648c6da27a1525fe6e",
       "version_major": 2,
       "version_minor": 0
      },
      "text/plain": [
       "Canvas(toolbar=Toolbar(toolitems=[('Home', 'Reset original view', 'home', 'home'), ('Back', 'Back to previous …"
      ]
     },
     "metadata": {},
     "output_type": "display_data"
    },
    {
     "data": {
      "text/plain": [
       "<matplotlib.legend.Legend at 0x7f2a201e52d0>"
      ]
     },
     "execution_count": 146,
     "metadata": {},
     "output_type": "execute_result"
    }
   ],
   "source": [
    "fig,ax = plt.subplots()\n",
    "hist1D(ax, MC_df, [\"Pi0rec_status\", (2000, 3950, 4150), r\"$neutron$ $status$\"], cuts=(MC_df.Truth==1), color='black', label=\"Truth-Matched\")\n",
    "ax2=ax.twinx()\n",
    "hist1D(ax2, MC_df, [\"Pi0rec_status\", (2000, 3950, 4150), r\"$neutron$ $status$\"], cuts=(MC_df.Truth==1)&(MC_df.Pi0flag_MC_neutrec==1), color='red', lalpha=.5, label=\"Truth-Matched with PID\")\n",
    "\n",
    "ax.legend(loc=2)\n",
    "ax2.legend()"
   ]
  },
  {
   "cell_type": "code",
   "execution_count": 140,
   "id": "anonymous-debate",
   "metadata": {},
   "outputs": [],
   "source": [
    "neut_diff = [\n",
    "    ['deltaPi0rec_px', (100, -1, 1), r\"$\\delta p_{x}$\"],\n",
    "    ['deltaPi0rec_py', (100, -1, 1), r\"$\\delta p_{y}$\"],\n",
    "    ['deltaPi0rec_pz', (100, -1, 1), r\"$\\delta p_{z}$\"],\n",
    "    ['deltaPi0rec_E', (100, -1, 1), r\"$\\delta E$\"],\n",
    "    ['deltaPi0rec_magP', (100, -1, 1), r\"$\\delta |p|$\"],\n",
    "    ['deltaPi0rec_pT', (100, -1, 1), r\"$\\delta p_{T}$\"],\n",
    "    ['deltaPi0rec_theta', (100, -10, 10), r\"$\\delta \\theta$\"],\n",
    "    ['deltaPi0rec_phi', (100, -20, 60), r\"$\\delta \\phi$\"]\n",
    "]"
   ]
  },
  {
   "cell_type": "code",
   "execution_count": 135,
   "id": "sorted-questionnaire",
   "metadata": {},
   "outputs": [
    {
     "data": {
      "application/vnd.jupyter.widget-view+json": {
       "model_id": "be174296c23643cb8bf64453a7e6ab8a",
       "version_major": 2,
       "version_minor": 0
      },
      "text/plain": [
       "Canvas(toolbar=Toolbar(toolitems=[('Home', 'Reset original view', 'home', 'home'), ('Back', 'Back to previous …"
      ]
     },
     "metadata": {},
     "output_type": "display_data"
    },
    {
     "data": {
      "text/plain": [
       "<matplotlib.legend.Legend at 0x7f2a1de4f510>"
      ]
     },
     "execution_count": 135,
     "metadata": {},
     "output_type": "execute_result"
    }
   ],
   "source": [
    "fig10, ax10 = plt.subplots(2,4, figsize=(15,10))\n",
    "ax10=ax10.flatten()\n",
    "\n",
    "fig10.suptitle('neutron (rec - gen) - with PUID', fontsize=16)\n",
    "\n",
    "for i, distro in enumerate(neut_diff):\n",
    "    hist1D(ax10[i], MC_df, distro, cuts=cut&(MC_df.Pi0rec_status==4010)&(MC_df.Pi0flag_MC_neutrec==1), label=\"CND\", bins=50)\n",
    "    hist1D(ax10[i], MC_df, distro, cuts=cut&(MC_df.Pi0rec_status==4100)&(MC_df.Pi0flag_MC_neutrec==1), label=\"CTOF\", bins=50)\n",
    "    hist1D(ax10[i], MC_df, distro, cuts=cut&(MC_df.Pi0rec_status==4110)&(MC_df.Pi0flag_MC_neutrec==1), label=\"CND/CTOF\", bins=50)\n",
    "    \n",
    "ax10[3].legend(loc=1)"
   ]
  },
  {
   "cell_type": "code",
   "execution_count": 194,
   "id": "structural-breakfast",
   "metadata": {},
   "outputs": [
    {
     "data": {
      "application/vnd.jupyter.widget-view+json": {
       "model_id": "b34bde9510a84dab9f2e676dc1ab4128",
       "version_major": 2,
       "version_minor": 0
      },
      "text/plain": [
       "Canvas(toolbar=Toolbar(toolitems=[('Home', 'Reset original view', 'home', 'home'), ('Back', 'Back to previous …"
      ]
     },
     "metadata": {},
     "output_type": "display_data"
    },
    {
     "data": {
      "text/plain": [
       "<matplotlib.legend.Legend at 0x7f2a14dcefd0>"
      ]
     },
     "execution_count": 194,
     "metadata": {},
     "output_type": "execute_result"
    }
   ],
   "source": [
    "fig10, ax10 = plt.subplots(2,4, figsize=(15,10))\n",
    "ax10=ax10.flatten()\n",
    "\n",
    "fig10.suptitle('neutron (rec - gen) - with PID', fontsize=16)\n",
    "\n",
    "for i, distro in enumerate(neut_diff):\n",
    "    hist1D(ax10[i], MC_df, distro, cuts=cut&(MC_df.Pi0rec_status==4010)&(MC_df.Pi0flag_MC_neutrec==1), density=True, label=\"CND\", bins=50)\n",
    "    hist1D(ax10[i], MC_df, distro, cuts=cut&(MC_df.Pi0rec_status==4100)&(MC_df.Pi0flag_MC_neutrec==1), density=True, label=\"CTOF\", bins=50)\n",
    "    hist1D(ax10[i], MC_df, distro, cuts=cut&(MC_df.Pi0rec_status==4110)&(MC_df.Pi0flag_MC_neutrec==1), density=True, label=\"CND/CTOF\", bins=25)\n",
    "    \n",
    "ax10[3].legend(loc=1)"
   ]
  },
  {
   "cell_type": "code",
   "execution_count": 49,
   "id": "aboriginal-architect",
   "metadata": {},
   "outputs": [],
   "source": [
    "MC_root_file = \"/w/work3/home/pauln/analysis/processed/chanser_MC15/pauln/Pi0_PID_fullcomb/FinalState.root\"\n",
    "\n",
    "tree= \"FINALOUTTREE\"\n",
    "\n",
    "data = uproot.open(MC_root_file)[tree]\n",
    "MC15_df = data.pandas.df()"
   ]
  },
  {
   "cell_type": "code",
   "execution_count": 46,
   "id": "established-institution",
   "metadata": {},
   "outputs": [
    {
     "data": {
      "text/plain": [
       "['Pi0helicity',\n",
       " 'Pi0W2',\n",
       " 'Pi0Q2',\n",
       " 'Pi0xB',\n",
       " 'Pi0tneg',\n",
       " 'Pi0tneg_pi0',\n",
       " 'Pi0dtneg',\n",
       " 'Pi0IM_g1g2',\n",
       " 'Pi0MM2_total',\n",
       " 'Pi0MP_total',\n",
       " 'Pi0ME_total',\n",
       " 'Pi0MPt_total',\n",
       " 'Pi0pi0coneangle',\n",
       " 'Pi0eg1coneangle',\n",
       " 'Pi0eg2coneangle',\n",
       " 'Pi0recoilconeangle',\n",
       " 'Pi0MP_rec_recoil',\n",
       " 'Pi0MPt_rec_recoil',\n",
       " 'Pi0MM_rec_recoil',\n",
       " 'Pi0MM2_rec_recoil',\n",
       " 'Pi0MP_rec_spectator',\n",
       " 'Pi0MPt_rec_spectator',\n",
       " 'Pi0MM_rec_spectator',\n",
       " 'Pi0MM2_rec_spectator',\n",
       " 'Pi0phi_Nvg',\n",
       " 'Pi0phi_Nnew',\n",
       " 'Pi0phi_vgnew',\n",
       " 'Pi0cop_Nvg_vgnew',\n",
       " 'Pi0cop_Nvg_Nnew',\n",
       " 'Pi0cop_Nnew_vgnew',\n",
       " 'Pi0recon_recoil_T',\n",
       " 'Pi0recoil_T',\n",
       " 'Pi0dneutT',\n",
       " 'Pi0rec_px',\n",
       " 'Pi0rec_py',\n",
       " 'Pi0rec_pz',\n",
       " 'Pi0rec_E',\n",
       " 'Pi0rec_magP',\n",
       " 'Pi0rec_pT',\n",
       " 'Pi0rec_theta',\n",
       " 'Pi0rec_phi',\n",
       " 'Pi0rec_status',\n",
       " 'Pi0rec_PID',\n",
       " 'Pi0e_px',\n",
       " 'Pi0e_py',\n",
       " 'Pi0e_pz',\n",
       " 'Pi0e_E',\n",
       " 'Pi0e_magP',\n",
       " 'Pi0e_pT',\n",
       " 'Pi0e_theta',\n",
       " 'Pi0e_phi',\n",
       " 'Pi0e_status',\n",
       " 'Pi0phot1_px',\n",
       " 'Pi0phot1_py',\n",
       " 'Pi0phot1_pz',\n",
       " 'Pi0phot1_E',\n",
       " 'Pi0phot1_magP',\n",
       " 'Pi0phot1_pT',\n",
       " 'Pi0phot1_theta',\n",
       " 'Pi0phot1_phi',\n",
       " 'Pi0phot1_status',\n",
       " 'Pi0phot2_px',\n",
       " 'Pi0phot2_py',\n",
       " 'Pi0phot2_pz',\n",
       " 'Pi0phot2_E',\n",
       " 'Pi0phot2_magP',\n",
       " 'Pi0phot2_pT',\n",
       " 'Pi0phot2_theta',\n",
       " 'Pi0phot2_phi',\n",
       " 'Pi0phot2_status',\n",
       " 'Pi0rec_Beta',\n",
       " 'Pi0phot1_Beta',\n",
       " 'Pi0phot2_Beta',\n",
       " 'Pi0e_sampfrac',\n",
       " 'Pi0rcdb_Ebeam',\n",
       " 'Pi0flag_photon1_FT',\n",
       " 'Pi0flag_photon1_FD',\n",
       " 'Pi0flag_photon2_FT',\n",
       " 'Pi0flag_photon2_FD',\n",
       " 'Pi0flag_cut_3sigPi0IM',\n",
       " 'Pi0flag_MC_neutrec',\n",
       " 'truPi0helicity',\n",
       " 'truPi0W2',\n",
       " 'truPi0Q2',\n",
       " 'truPi0xB',\n",
       " 'truPi0tneg',\n",
       " 'truPi0tneg_pi0',\n",
       " 'truPi0dtneg',\n",
       " 'truPi0IM_g1g2',\n",
       " 'truPi0MM2_total',\n",
       " 'truPi0MP_total',\n",
       " 'truPi0ME_total',\n",
       " 'truPi0MPt_total',\n",
       " 'truPi0pi0coneangle',\n",
       " 'truPi0eg1coneangle',\n",
       " 'truPi0eg2coneangle',\n",
       " 'truPi0recoilconeangle',\n",
       " 'truPi0MP_rec_recoil',\n",
       " 'truPi0MPt_rec_recoil',\n",
       " 'truPi0MM_rec_recoil',\n",
       " 'truPi0MM2_rec_recoil',\n",
       " 'truPi0MP_rec_spectator',\n",
       " 'truPi0MPt_rec_spectator',\n",
       " 'truPi0MM_rec_spectator',\n",
       " 'truPi0MM2_rec_spectator',\n",
       " 'truPi0phi_Nvg',\n",
       " 'truPi0phi_Nnew',\n",
       " 'truPi0phi_vgnew',\n",
       " 'truPi0cop_Nvg_vgnew',\n",
       " 'truPi0cop_Nvg_Nnew',\n",
       " 'truPi0cop_Nnew_vgnew',\n",
       " 'truPi0recon_recoil_T',\n",
       " 'truPi0recoil_T',\n",
       " 'truPi0dneutT',\n",
       " 'truPi0rec_px',\n",
       " 'truPi0rec_py',\n",
       " 'truPi0rec_pz',\n",
       " 'truPi0rec_E',\n",
       " 'truPi0rec_magP',\n",
       " 'truPi0rec_pT',\n",
       " 'truPi0rec_theta',\n",
       " 'truPi0rec_phi',\n",
       " 'truPi0rec_status',\n",
       " 'truPi0rec_PID',\n",
       " 'truPi0e_px',\n",
       " 'truPi0e_py',\n",
       " 'truPi0e_pz',\n",
       " 'truPi0e_E',\n",
       " 'truPi0e_magP',\n",
       " 'truPi0e_pT',\n",
       " 'truPi0e_theta',\n",
       " 'truPi0e_phi',\n",
       " 'truPi0e_status',\n",
       " 'truPi0phot1_px',\n",
       " 'truPi0phot1_py',\n",
       " 'truPi0phot1_pz',\n",
       " 'truPi0phot1_E',\n",
       " 'truPi0phot1_magP',\n",
       " 'truPi0phot1_pT',\n",
       " 'truPi0phot1_theta',\n",
       " 'truPi0phot1_phi',\n",
       " 'truPi0phot1_status',\n",
       " 'truPi0phot2_px',\n",
       " 'truPi0phot2_py',\n",
       " 'truPi0phot2_pz',\n",
       " 'truPi0phot2_E',\n",
       " 'truPi0phot2_magP',\n",
       " 'truPi0phot2_pT',\n",
       " 'truPi0phot2_theta',\n",
       " 'truPi0phot2_phi',\n",
       " 'truPi0phot2_status',\n",
       " 'truPi0rec_Beta',\n",
       " 'truPi0phot1_Beta',\n",
       " 'truPi0phot2_Beta',\n",
       " 'truPi0e_sampfrac',\n",
       " 'truPi0rcdb_Ebeam',\n",
       " 'truPi0flag_photon1_FT',\n",
       " 'truPi0flag_photon1_FD',\n",
       " 'truPi0flag_photon2_FT',\n",
       " 'truPi0flag_photon2_FD',\n",
       " 'truPi0flag_cut_3sigPi0IM',\n",
       " 'truPi0flag_MC_neutrec',\n",
       " 'Topo',\n",
       " 'NPerm',\n",
       " 'Truth',\n",
       " 'ZeroKins',\n",
       " 'hitPCAL']"
      ]
     },
     "execution_count": 46,
     "metadata": {},
     "output_type": "execute_result"
    }
   ],
   "source": [
    "list(MC15_df.columns)"
   ]
  },
  {
   "cell_type": "code",
   "execution_count": 202,
   "id": "healthy-nature",
   "metadata": {},
   "outputs": [
    {
     "data": {
      "text/plain": [
       "64164"
      ]
     },
     "execution_count": 202,
     "metadata": {},
     "output_type": "execute_result"
    }
   ],
   "source": [
    "len(MC15_df['truPi0flag_MC_neutrec'][MC15_df.Truth==1])"
   ]
  },
  {
   "cell_type": "code",
   "execution_count": 203,
   "id": "derived-government",
   "metadata": {},
   "outputs": [
    {
     "data": {
      "text/plain": [
       "9865"
      ]
     },
     "execution_count": 203,
     "metadata": {},
     "output_type": "execute_result"
    }
   ],
   "source": [
    "len(MC15_df['truPi0flag_MC_neutrec'][(MC15_df.Truth==1)&(MC15_df.Pi0flag_MC_neutrec==1)])"
   ]
  },
  {
   "cell_type": "code",
   "execution_count": 205,
   "id": "filled-scotland",
   "metadata": {},
   "outputs": [
    {
     "data": {
      "text/plain": [
       "54299"
      ]
     },
     "execution_count": 205,
     "metadata": {},
     "output_type": "execute_result"
    }
   ],
   "source": [
    "len(MC15_df['truPi0flag_MC_neutrec'][(MC15_df.Truth==1)&(MC15_df.Pi0flag_MC_neutrec==0)])"
   ]
  },
  {
   "cell_type": "code",
   "execution_count": 204,
   "id": "rolled-outreach",
   "metadata": {},
   "outputs": [
    {
     "data": {
      "text/plain": [
       "986841"
      ]
     },
     "execution_count": 204,
     "metadata": {},
     "output_type": "execute_result"
    }
   ],
   "source": [
    "len(MC15_df['truPi0flag_MC_neutrec'])"
   ]
  },
  {
   "cell_type": "code",
   "execution_count": null,
   "id": "spiritual-allowance",
   "metadata": {},
   "outputs": [],
   "source": []
  },
  {
   "cell_type": "code",
   "execution_count": 206,
   "id": "seven-batch",
   "metadata": {},
   "outputs": [
    {
     "data": {
      "text/plain": [
       "41218"
      ]
     },
     "execution_count": 206,
     "metadata": {},
     "output_type": "execute_result"
    }
   ],
   "source": [
    "len(MC15_df['truPi0flag_MC_neutrec'][(MC15_df.Truth==1)&(MC_df.Pi0rec_status > 3990) & (MC_df.Pi0rec_status < 4150)])"
   ]
  },
  {
   "cell_type": "code",
   "execution_count": 207,
   "id": "accessible-electric",
   "metadata": {},
   "outputs": [
    {
     "data": {
      "text/plain": [
       "6399"
      ]
     },
     "execution_count": 207,
     "metadata": {},
     "output_type": "execute_result"
    }
   ],
   "source": [
    "len(MC15_df['truPi0flag_MC_neutrec'][(MC15_df.Truth==1)&(MC15_df.Pi0flag_MC_neutrec==1)&(MC_df.Pi0rec_status > 3990) & (MC_df.Pi0rec_status < 4150)])"
   ]
  },
  {
   "cell_type": "code",
   "execution_count": 208,
   "id": "normal-marriage",
   "metadata": {},
   "outputs": [
    {
     "data": {
      "text/plain": [
       "34819"
      ]
     },
     "execution_count": 208,
     "metadata": {},
     "output_type": "execute_result"
    }
   ],
   "source": [
    "len(MC15_df['truPi0flag_MC_neutrec'][(MC15_df.Truth==1)&(MC15_df.Pi0flag_MC_neutrec==0)&(MC_df.Pi0rec_status > 3990) & (MC_df.Pi0rec_status < 4150)])"
   ]
  },
  {
   "cell_type": "markdown",
   "id": "designing-temperature",
   "metadata": {},
   "source": [
    "Is PCAL hit flag culling FT photons?"
   ]
  },
  {
   "cell_type": "code",
   "execution_count": 50,
   "id": "coastal-charity",
   "metadata": {},
   "outputs": [],
   "source": [
    "photon1_theta1 = h1d(data=MC_df[\"Pi0phot1_theta\"][(MC_df.Truth == 1)],#&(MC_df.Pi0flag_MC_neutrec==0)],\n",
    "               xrange=[0, 70],\n",
    "               bins=200)\n",
    "\n",
    "photon1_theta2 = h1d(data=MC_df[\"Pi0phot1_theta\"][(MC_df.Truth == 1)&(MC_df.hitPCAL == 1)],#&(MC_df.Pi0flag_MC_neutrec==0)],\n",
    "               xrange=[0, 70],\n",
    "               bins=200)"
   ]
  },
  {
   "cell_type": "code",
   "execution_count": 51,
   "id": "speaking-australian",
   "metadata": {},
   "outputs": [
    {
     "data": {
      "application/vnd.jupyter.widget-view+json": {
       "model_id": "8ba85228b05447558a138bf5000bdec6",
       "version_major": 2,
       "version_minor": 0
      },
      "text/plain": [
       "Canvas(toolbar=Toolbar(toolitems=[('Home', 'Reset original view', 'home', 'home'), ('Back', 'Back to previous …"
      ]
     },
     "metadata": {},
     "output_type": "display_data"
    },
    {
     "data": {
      "text/plain": [
       "[<matplotlib.lines.Line2D at 0x7f1b614c6a90>]"
      ]
     },
     "execution_count": 51,
     "metadata": {},
     "output_type": "execute_result"
    }
   ],
   "source": [
    "fig, ax = plt.subplots(figsize=(5,5))\n",
    "\n",
    "photon1_theta1.histogram(ax=ax, label=\"truth only\", density=False)\n",
    "photon1_theta2.histogram(ax=ax, label=\"hitPCAL flag\", density=False)"
   ]
  },
  {
   "cell_type": "code",
   "execution_count": null,
   "id": "amateur-trigger",
   "metadata": {},
   "outputs": [],
   "source": []
  }
 ],
 "metadata": {
  "kernelspec": {
   "display_name": "pi0-ana",
   "language": "python",
   "name": "pi0-ana"
  },
  "language_info": {
   "codemirror_mode": {
    "name": "ipython",
    "version": 3
   },
   "file_extension": ".py",
   "mimetype": "text/x-python",
   "name": "python",
   "nbconvert_exporter": "python",
   "pygments_lexer": "ipython3",
   "version": "3.7.9"
  },
  "widgets": {
   "application/vnd.jupyter.widget-state+json": {
    "state": {
     "0042b9eb571c4fe8822bf7ae91331d9f": {
      "model_module": "@jupyter-widgets/base",
      "model_module_version": "1.2.0",
      "model_name": "LayoutModel",
      "state": {}
     },
     "020c9a604a5c422a8b852d467de1ea6f": {
      "model_module": "jupyter-matplotlib",
      "model_module_version": "^0.8.3",
      "model_name": "ToolbarModel",
      "state": {
       "layout": "IPY_MODEL_d1840eb932564c08aaf3cdcfa2706941",
       "toolitems": [
        [
         "Home",
         "Reset original view",
         "home",
         "home"
        ],
        [
         "Back",
         "Back to previous view",
         "arrow-left",
         "back"
        ],
        [
         "Forward",
         "Forward to next view",
         "arrow-right",
         "forward"
        ],
        [
         "Pan",
         "Left button pans, Right button zooms\nx/y fixes axis, CTRL fixes aspect",
         "arrows",
         "pan"
        ],
        [
         "Zoom",
         "Zoom to rectangle\nx/y fixes axis, CTRL fixes aspect",
         "square-o",
         "zoom"
        ],
        [
         "Download",
         "Download plot",
         "floppy-o",
         "save_figure"
        ]
       ]
      }
     },
     "04f89733c33844c8a6957d59e3da6403": {
      "model_module": "@jupyter-widgets/base",
      "model_module_version": "1.2.0",
      "model_name": "LayoutModel",
      "state": {}
     },
     "075d2fb6d809494ca108899197436e85": {
      "model_module": "@jupyter-widgets/base",
      "model_module_version": "1.2.0",
      "model_name": "LayoutModel",
      "state": {}
     },
     "0a49fcad6c1b4ad89fea2f10439fc34f": {
      "model_module": "jupyter-matplotlib",
      "model_module_version": "^0.8.3",
      "model_name": "MPLCanvasModel",
      "state": {
       "_cursor": "default",
       "_figure_label": "Figure 15",
       "_height": 1000,
       "_width": 1500,
       "layout": "IPY_MODEL_1e8e8dd20b3643bc8f010bb417dea523",
       "toolbar": "IPY_MODEL_a52df9352a77485f93dad7f85318d910",
       "toolbar_position": "left"
      }
     },
     "0b26a4026b084255be48a7d847349ff7": {
      "model_module": "@jupyter-widgets/base",
      "model_module_version": "1.2.0",
      "model_name": "LayoutModel",
      "state": {}
     },
     "0b65bcb1163e479898bfab0633d97674": {
      "model_module": "@jupyter-widgets/base",
      "model_module_version": "1.2.0",
      "model_name": "LayoutModel",
      "state": {}
     },
     "172fcb256d3a4705924fce8be8bbcc70": {
      "model_module": "jupyter-matplotlib",
      "model_module_version": "^0.8.3",
      "model_name": "MPLCanvasModel",
      "state": {
       "_cursor": "default",
       "_figure_label": "Figure 7",
       "_height": 1000,
       "_message": "x=5.4 y=2.07e+03",
       "_width": 1500,
       "layout": "IPY_MODEL_89fa7c1302c34ae697852a5d11192972",
       "toolbar": "IPY_MODEL_e57c112fd1904e47a1e70195957c2310",
       "toolbar_position": "left"
      }
     },
     "195b38d4005d4f5584956bbca63f7ff0": {
      "model_module": "@jupyter-widgets/base",
      "model_module_version": "1.2.0",
      "model_name": "LayoutModel",
      "state": {}
     },
     "1e8e8dd20b3643bc8f010bb417dea523": {
      "model_module": "@jupyter-widgets/base",
      "model_module_version": "1.2.0",
      "model_name": "LayoutModel",
      "state": {}
     },
     "1fc94c3d82a948f5a6c0c3af7fa80c54": {
      "model_module": "jupyter-matplotlib",
      "model_module_version": "^0.8.3",
      "model_name": "ToolbarModel",
      "state": {
       "layout": "IPY_MODEL_f0cb39e256534eb0b5ed363400ea8580",
       "toolitems": [
        [
         "Home",
         "Reset original view",
         "home",
         "home"
        ],
        [
         "Back",
         "Back to previous view",
         "arrow-left",
         "back"
        ],
        [
         "Forward",
         "Forward to next view",
         "arrow-right",
         "forward"
        ],
        [
         "Pan",
         "Left button pans, Right button zooms\nx/y fixes axis, CTRL fixes aspect",
         "arrows",
         "pan"
        ],
        [
         "Zoom",
         "Zoom to rectangle\nx/y fixes axis, CTRL fixes aspect",
         "square-o",
         "zoom"
        ],
        [
         "Download",
         "Download plot",
         "floppy-o",
         "save_figure"
        ]
       ]
      }
     },
     "22e388f9015d46588a7c36e6aa7b0109": {
      "model_module": "jupyter-matplotlib",
      "model_module_version": "^0.8.3",
      "model_name": "MPLCanvasModel",
      "state": {
       "_cursor": "default",
       "_figure_label": "Figure 8",
       "_height": 1000,
       "_width": 1500,
       "layout": "IPY_MODEL_d4c1775421354fc5a9c43b5d3ac63d68",
       "toolbar": "IPY_MODEL_c2663b4a2b6741a8bf790cb7ecbed5d1",
       "toolbar_position": "left"
      }
     },
     "24bb1b664d8540c3a2a5e2985888e7a4": {
      "model_module": "jupyter-matplotlib",
      "model_module_version": "^0.8.3",
      "model_name": "ToolbarModel",
      "state": {
       "layout": "IPY_MODEL_d9a7ebab20384ce3bf4a1a78e807a10e",
       "toolitems": [
        [
         "Home",
         "Reset original view",
         "home",
         "home"
        ],
        [
         "Back",
         "Back to previous view",
         "arrow-left",
         "back"
        ],
        [
         "Forward",
         "Forward to next view",
         "arrow-right",
         "forward"
        ],
        [
         "Pan",
         "Left button pans, Right button zooms\nx/y fixes axis, CTRL fixes aspect",
         "arrows",
         "pan"
        ],
        [
         "Zoom",
         "Zoom to rectangle\nx/y fixes axis, CTRL fixes aspect",
         "square-o",
         "zoom"
        ],
        [
         "Download",
         "Download plot",
         "floppy-o",
         "save_figure"
        ]
       ]
      }
     },
     "260bbdee56164c47ac66911a4ba2ac0c": {
      "model_module": "@jupyter-widgets/base",
      "model_module_version": "1.2.0",
      "model_name": "LayoutModel",
      "state": {}
     },
     "275127d563f04812a4c3c1dcb3b04d05": {
      "model_module": "jupyter-matplotlib",
      "model_module_version": "^0.8.3",
      "model_name": "ToolbarModel",
      "state": {
       "layout": "IPY_MODEL_f00445b48599476eb6cacef47fdcc3ea",
       "toolitems": [
        [
         "Home",
         "Reset original view",
         "home",
         "home"
        ],
        [
         "Back",
         "Back to previous view",
         "arrow-left",
         "back"
        ],
        [
         "Forward",
         "Forward to next view",
         "arrow-right",
         "forward"
        ],
        [
         "Pan",
         "Left button pans, Right button zooms\nx/y fixes axis, CTRL fixes aspect",
         "arrows",
         "pan"
        ],
        [
         "Zoom",
         "Zoom to rectangle\nx/y fixes axis, CTRL fixes aspect",
         "square-o",
         "zoom"
        ],
        [
         "Download",
         "Download plot",
         "floppy-o",
         "save_figure"
        ]
       ]
      }
     },
     "2a104ce4ae4142899f9df0848d1779e7": {
      "model_module": "@jupyter-widgets/base",
      "model_module_version": "1.2.0",
      "model_name": "LayoutModel",
      "state": {}
     },
     "2a1188c43520448c9e2d5ea54aba39fc": {
      "model_module": "@jupyter-widgets/base",
      "model_module_version": "1.2.0",
      "model_name": "LayoutModel",
      "state": {}
     },
     "2ccc3fea4d88402e84e9f7b64bab0fa2": {
      "model_module": "@jupyter-widgets/base",
      "model_module_version": "1.2.0",
      "model_name": "LayoutModel",
      "state": {}
     },
     "2e9f2b74e5bb44369ae58c090e2ee37a": {
      "model_module": "@jupyter-widgets/base",
      "model_module_version": "1.2.0",
      "model_name": "LayoutModel",
      "state": {}
     },
     "3236b9d235ab4fde9390203abc768950": {
      "model_module": "@jupyter-widgets/base",
      "model_module_version": "1.2.0",
      "model_name": "LayoutModel",
      "state": {}
     },
     "328aed8905b8453e91bc2f51e022d4dc": {
      "model_module": "jupyter-matplotlib",
      "model_module_version": "^0.8.3",
      "model_name": "ToolbarModel",
      "state": {
       "layout": "IPY_MODEL_195b38d4005d4f5584956bbca63f7ff0",
       "toolitems": [
        [
         "Home",
         "Reset original view",
         "home",
         "home"
        ],
        [
         "Back",
         "Back to previous view",
         "arrow-left",
         "back"
        ],
        [
         "Forward",
         "Forward to next view",
         "arrow-right",
         "forward"
        ],
        [
         "Pan",
         "Left button pans, Right button zooms\nx/y fixes axis, CTRL fixes aspect",
         "arrows",
         "pan"
        ],
        [
         "Zoom",
         "Zoom to rectangle\nx/y fixes axis, CTRL fixes aspect",
         "square-o",
         "zoom"
        ],
        [
         "Download",
         "Download plot",
         "floppy-o",
         "save_figure"
        ]
       ]
      }
     },
     "3aaee10f43f44a878f85be6696cc5375": {
      "model_module": "@jupyter-widgets/base",
      "model_module_version": "1.2.0",
      "model_name": "LayoutModel",
      "state": {}
     },
     "3b86ee8e0afb41968eacc18ce6717b5b": {
      "model_module": "jupyter-matplotlib",
      "model_module_version": "^0.8.3",
      "model_name": "MPLCanvasModel",
      "state": {
       "_cursor": "default",
       "_figure_label": "Figure 21",
       "_height": 500,
       "_message": "x=58.1 y=0.578",
       "_width": 500,
       "layout": "IPY_MODEL_d42157553d324c82b941082e453d67a1",
       "toolbar": "IPY_MODEL_020c9a604a5c422a8b852d467de1ea6f",
       "toolbar_position": "left"
      }
     },
     "3c8b6e00382d4c00a91ab784b7c9481e": {
      "model_module": "@jupyter-widgets/base",
      "model_module_version": "1.2.0",
      "model_name": "LayoutModel",
      "state": {}
     },
     "3ef0d0f6681b49babe5701a52fa3c8ea": {
      "model_module": "jupyter-matplotlib",
      "model_module_version": "^0.8.3",
      "model_name": "ToolbarModel",
      "state": {
       "layout": "IPY_MODEL_84602b2725444954b03f8bb152ccf294",
       "toolitems": [
        [
         "Home",
         "Reset original view",
         "home",
         "home"
        ],
        [
         "Back",
         "Back to previous view",
         "arrow-left",
         "back"
        ],
        [
         "Forward",
         "Forward to next view",
         "arrow-right",
         "forward"
        ],
        [
         "Pan",
         "Left button pans, Right button zooms\nx/y fixes axis, CTRL fixes aspect",
         "arrows",
         "pan"
        ],
        [
         "Zoom",
         "Zoom to rectangle\nx/y fixes axis, CTRL fixes aspect",
         "square-o",
         "zoom"
        ],
        [
         "Download",
         "Download plot",
         "floppy-o",
         "save_figure"
        ]
       ]
      }
     },
     "43f540b54eff403eb7a1d1ba8485e17f": {
      "model_module": "@jupyter-widgets/base",
      "model_module_version": "1.2.0",
      "model_name": "LayoutModel",
      "state": {}
     },
     "4437bb1c0bf0450189674d43d3e1a86b": {
      "model_module": "@jupyter-widgets/base",
      "model_module_version": "1.2.0",
      "model_name": "LayoutModel",
      "state": {}
     },
     "46104119f573463996022971010912c8": {
      "model_module": "jupyter-matplotlib",
      "model_module_version": "^0.8.3",
      "model_name": "ToolbarModel",
      "state": {
       "layout": "IPY_MODEL_56ab0919bc1e49708c46e0b78bc8cebf",
       "toolitems": [
        [
         "Home",
         "Reset original view",
         "home",
         "home"
        ],
        [
         "Back",
         "Back to previous view",
         "arrow-left",
         "back"
        ],
        [
         "Forward",
         "Forward to next view",
         "arrow-right",
         "forward"
        ],
        [
         "Pan",
         "Left button pans, Right button zooms\nx/y fixes axis, CTRL fixes aspect",
         "arrows",
         "pan"
        ],
        [
         "Zoom",
         "Zoom to rectangle\nx/y fixes axis, CTRL fixes aspect",
         "square-o",
         "zoom"
        ],
        [
         "Download",
         "Download plot",
         "floppy-o",
         "save_figure"
        ]
       ]
      }
     },
     "477f1257f1d44ff08afc7a1bd2a75802": {
      "model_module": "@jupyter-widgets/base",
      "model_module_version": "1.2.0",
      "model_name": "LayoutModel",
      "state": {}
     },
     "4d0a352532fe41f5b042df87f08be35c": {
      "model_module": "@jupyter-widgets/base",
      "model_module_version": "1.2.0",
      "model_name": "LayoutModel",
      "state": {}
     },
     "4de522a1d94d445e9b65823a201cfa6d": {
      "model_module": "jupyter-matplotlib",
      "model_module_version": "^0.8.3",
      "model_name": "ToolbarModel",
      "state": {
       "layout": "IPY_MODEL_b3768b8306184124a246f1fb92467054",
       "toolitems": [
        [
         "Home",
         "Reset original view",
         "home",
         "home"
        ],
        [
         "Back",
         "Back to previous view",
         "arrow-left",
         "back"
        ],
        [
         "Forward",
         "Forward to next view",
         "arrow-right",
         "forward"
        ],
        [
         "Pan",
         "Left button pans, Right button zooms\nx/y fixes axis, CTRL fixes aspect",
         "arrows",
         "pan"
        ],
        [
         "Zoom",
         "Zoom to rectangle\nx/y fixes axis, CTRL fixes aspect",
         "square-o",
         "zoom"
        ],
        [
         "Download",
         "Download plot",
         "floppy-o",
         "save_figure"
        ]
       ]
      }
     },
     "508a7e8b63b649c3b3044d50e5572d01": {
      "model_module": "@jupyter-widgets/base",
      "model_module_version": "1.2.0",
      "model_name": "LayoutModel",
      "state": {}
     },
     "52091da42514417098b828e3fd11dbe6": {
      "model_module": "@jupyter-widgets/base",
      "model_module_version": "1.2.0",
      "model_name": "LayoutModel",
      "state": {}
     },
     "56ab0919bc1e49708c46e0b78bc8cebf": {
      "model_module": "@jupyter-widgets/base",
      "model_module_version": "1.2.0",
      "model_name": "LayoutModel",
      "state": {}
     },
     "58e5498191964fccb054b16ef90a1a13": {
      "model_module": "jupyter-matplotlib",
      "model_module_version": "^0.8.3",
      "model_name": "ToolbarModel",
      "state": {
       "layout": "IPY_MODEL_260bbdee56164c47ac66911a4ba2ac0c",
       "toolitems": [
        [
         "Home",
         "Reset original view",
         "home",
         "home"
        ],
        [
         "Back",
         "Back to previous view",
         "arrow-left",
         "back"
        ],
        [
         "Forward",
         "Forward to next view",
         "arrow-right",
         "forward"
        ],
        [
         "Pan",
         "Left button pans, Right button zooms\nx/y fixes axis, CTRL fixes aspect",
         "arrows",
         "pan"
        ],
        [
         "Zoom",
         "Zoom to rectangle\nx/y fixes axis, CTRL fixes aspect",
         "square-o",
         "zoom"
        ],
        [
         "Download",
         "Download plot",
         "floppy-o",
         "save_figure"
        ]
       ]
      }
     },
     "5a536ef653b540ff9f06fa2e95897911": {
      "model_module": "jupyter-matplotlib",
      "model_module_version": "^0.8.3",
      "model_name": "ToolbarModel",
      "state": {
       "layout": "IPY_MODEL_897c980af11d4b709db758cb5fe95e1b",
       "toolitems": [
        [
         "Home",
         "Reset original view",
         "home",
         "home"
        ],
        [
         "Back",
         "Back to previous view",
         "arrow-left",
         "back"
        ],
        [
         "Forward",
         "Forward to next view",
         "arrow-right",
         "forward"
        ],
        [
         "Pan",
         "Left button pans, Right button zooms\nx/y fixes axis, CTRL fixes aspect",
         "arrows",
         "pan"
        ],
        [
         "Zoom",
         "Zoom to rectangle\nx/y fixes axis, CTRL fixes aspect",
         "square-o",
         "zoom"
        ],
        [
         "Download",
         "Download plot",
         "floppy-o",
         "save_figure"
        ]
       ]
      }
     },
     "5e8460aa346f4b83800bd7fbcb37fdbb": {
      "model_module": "jupyter-matplotlib",
      "model_module_version": "^0.8.3",
      "model_name": "ToolbarModel",
      "state": {
       "layout": "IPY_MODEL_98755be73dcd4c878233b7d70820d571",
       "toolitems": [
        [
         "Home",
         "Reset original view",
         "home",
         "home"
        ],
        [
         "Back",
         "Back to previous view",
         "arrow-left",
         "back"
        ],
        [
         "Forward",
         "Forward to next view",
         "arrow-right",
         "forward"
        ],
        [
         "Pan",
         "Left button pans, Right button zooms\nx/y fixes axis, CTRL fixes aspect",
         "arrows",
         "pan"
        ],
        [
         "Zoom",
         "Zoom to rectangle\nx/y fixes axis, CTRL fixes aspect",
         "square-o",
         "zoom"
        ],
        [
         "Download",
         "Download plot",
         "floppy-o",
         "save_figure"
        ]
       ]
      }
     },
     "623de561d4f34074a0f6313f5f1dadbf": {
      "model_module": "jupyter-matplotlib",
      "model_module_version": "^0.8.3",
      "model_name": "ToolbarModel",
      "state": {
       "layout": "IPY_MODEL_2a1188c43520448c9e2d5ea54aba39fc",
       "toolitems": [
        [
         "Home",
         "Reset original view",
         "home",
         "home"
        ],
        [
         "Back",
         "Back to previous view",
         "arrow-left",
         "back"
        ],
        [
         "Forward",
         "Forward to next view",
         "arrow-right",
         "forward"
        ],
        [
         "Pan",
         "Left button pans, Right button zooms\nx/y fixes axis, CTRL fixes aspect",
         "arrows",
         "pan"
        ],
        [
         "Zoom",
         "Zoom to rectangle\nx/y fixes axis, CTRL fixes aspect",
         "square-o",
         "zoom"
        ],
        [
         "Download",
         "Download plot",
         "floppy-o",
         "save_figure"
        ]
       ]
      }
     },
     "65a941133b584995b30556eb73b949a8": {
      "model_module": "jupyter-matplotlib",
      "model_module_version": "^0.8.3",
      "model_name": "MPLCanvasModel",
      "state": {
       "_cursor": "default",
       "_figure_label": "Figure 1",
       "_height": 1000,
       "_width": 1500,
       "layout": "IPY_MODEL_3236b9d235ab4fde9390203abc768950",
       "toolbar": "IPY_MODEL_24bb1b664d8540c3a2a5e2985888e7a4",
       "toolbar_position": "left"
      }
     },
     "68457edc854b4abfab1e51ad4cc417b0": {
      "model_module": "@jupyter-widgets/base",
      "model_module_version": "1.2.0",
      "model_name": "LayoutModel",
      "state": {}
     },
     "6d9ceda3152f4ed18a641135060274d9": {
      "model_module": "jupyter-matplotlib",
      "model_module_version": "^0.8.3",
      "model_name": "ToolbarModel",
      "state": {
       "layout": "IPY_MODEL_7c0614737f7e421e870f9bba224c4152",
       "toolitems": [
        [
         "Home",
         "Reset original view",
         "home",
         "home"
        ],
        [
         "Back",
         "Back to previous view",
         "arrow-left",
         "back"
        ],
        [
         "Forward",
         "Forward to next view",
         "arrow-right",
         "forward"
        ],
        [
         "Pan",
         "Left button pans, Right button zooms\nx/y fixes axis, CTRL fixes aspect",
         "arrows",
         "pan"
        ],
        [
         "Zoom",
         "Zoom to rectangle\nx/y fixes axis, CTRL fixes aspect",
         "square-o",
         "zoom"
        ],
        [
         "Download",
         "Download plot",
         "floppy-o",
         "save_figure"
        ]
       ]
      }
     },
     "73c478a3e7524461b2c6fdce48a368b1": {
      "model_module": "jupyter-matplotlib",
      "model_module_version": "^0.8.3",
      "model_name": "ToolbarModel",
      "state": {
       "layout": "IPY_MODEL_834bc08dfff8480e8a3c391b8d738c43",
       "toolitems": [
        [
         "Home",
         "Reset original view",
         "home",
         "home"
        ],
        [
         "Back",
         "Back to previous view",
         "arrow-left",
         "back"
        ],
        [
         "Forward",
         "Forward to next view",
         "arrow-right",
         "forward"
        ],
        [
         "Pan",
         "Left button pans, Right button zooms\nx/y fixes axis, CTRL fixes aspect",
         "arrows",
         "pan"
        ],
        [
         "Zoom",
         "Zoom to rectangle\nx/y fixes axis, CTRL fixes aspect",
         "square-o",
         "zoom"
        ],
        [
         "Download",
         "Download plot",
         "floppy-o",
         "save_figure"
        ]
       ]
      }
     },
     "7715d1f09a0b41ca9eec2e7489c25ec2": {
      "model_module": "jupyter-matplotlib",
      "model_module_version": "^0.8.3",
      "model_name": "ToolbarModel",
      "state": {
       "layout": "IPY_MODEL_0b65bcb1163e479898bfab0633d97674",
       "toolitems": [
        [
         "Home",
         "Reset original view",
         "home",
         "home"
        ],
        [
         "Back",
         "Back to previous view",
         "arrow-left",
         "back"
        ],
        [
         "Forward",
         "Forward to next view",
         "arrow-right",
         "forward"
        ],
        [
         "Pan",
         "Left button pans, Right button zooms\nx/y fixes axis, CTRL fixes aspect",
         "arrows",
         "pan"
        ],
        [
         "Zoom",
         "Zoom to rectangle\nx/y fixes axis, CTRL fixes aspect",
         "square-o",
         "zoom"
        ],
        [
         "Download",
         "Download plot",
         "floppy-o",
         "save_figure"
        ]
       ]
      }
     },
     "7beb1b8f90b44b4ebeea091ab8a62b11": {
      "model_module": "jupyter-matplotlib",
      "model_module_version": "^0.8.3",
      "model_name": "ToolbarModel",
      "state": {
       "layout": "IPY_MODEL_4437bb1c0bf0450189674d43d3e1a86b",
       "toolitems": [
        [
         "Home",
         "Reset original view",
         "home",
         "home"
        ],
        [
         "Back",
         "Back to previous view",
         "arrow-left",
         "back"
        ],
        [
         "Forward",
         "Forward to next view",
         "arrow-right",
         "forward"
        ],
        [
         "Pan",
         "Left button pans, Right button zooms\nx/y fixes axis, CTRL fixes aspect",
         "arrows",
         "pan"
        ],
        [
         "Zoom",
         "Zoom to rectangle\nx/y fixes axis, CTRL fixes aspect",
         "square-o",
         "zoom"
        ],
        [
         "Download",
         "Download plot",
         "floppy-o",
         "save_figure"
        ]
       ]
      }
     },
     "7c0614737f7e421e870f9bba224c4152": {
      "model_module": "@jupyter-widgets/base",
      "model_module_version": "1.2.0",
      "model_name": "LayoutModel",
      "state": {}
     },
     "7f68e07d1ac44a4c86cc765e77aba882": {
      "model_module": "@jupyter-widgets/base",
      "model_module_version": "1.2.0",
      "model_name": "LayoutModel",
      "state": {}
     },
     "801c26a254424aa38ceb3445a08c0b99": {
      "model_module": "@jupyter-widgets/base",
      "model_module_version": "1.2.0",
      "model_name": "LayoutModel",
      "state": {}
     },
     "81f07a65fa6e41bda2a91fa05fdb263d": {
      "model_module": "@jupyter-widgets/base",
      "model_module_version": "1.2.0",
      "model_name": "LayoutModel",
      "state": {}
     },
     "834bc08dfff8480e8a3c391b8d738c43": {
      "model_module": "@jupyter-widgets/base",
      "model_module_version": "1.2.0",
      "model_name": "LayoutModel",
      "state": {}
     },
     "84602b2725444954b03f8bb152ccf294": {
      "model_module": "@jupyter-widgets/base",
      "model_module_version": "1.2.0",
      "model_name": "LayoutModel",
      "state": {}
     },
     "856097ba961044c4b6293604a88b2717": {
      "model_module": "jupyter-matplotlib",
      "model_module_version": "^0.8.3",
      "model_name": "MPLCanvasModel",
      "state": {
       "_cursor": "default",
       "_figure_label": "Figure 13",
       "_height": 1000,
       "_message": "x=0.680 y=2.87e+03",
       "_width": 1500,
       "layout": "IPY_MODEL_04f89733c33844c8a6957d59e3da6403",
       "toolbar": "IPY_MODEL_5e8460aa346f4b83800bd7fbcb37fdbb",
       "toolbar_position": "left"
      }
     },
     "87856925ba544bd1a2892bc40d7b159b": {
      "model_module": "@jupyter-widgets/base",
      "model_module_version": "1.2.0",
      "model_name": "LayoutModel",
      "state": {}
     },
     "897c980af11d4b709db758cb5fe95e1b": {
      "model_module": "@jupyter-widgets/base",
      "model_module_version": "1.2.0",
      "model_name": "LayoutModel",
      "state": {}
     },
     "89fa7c1302c34ae697852a5d11192972": {
      "model_module": "@jupyter-widgets/base",
      "model_module_version": "1.2.0",
      "model_name": "LayoutModel",
      "state": {}
     },
     "8a0cf14e05714622b96af3f154e6808d": {
      "model_module": "@jupyter-widgets/base",
      "model_module_version": "1.2.0",
      "model_name": "LayoutModel",
      "state": {}
     },
     "8b4f63aaf0d64c8a836e404ad6b50094": {
      "model_module": "jupyter-matplotlib",
      "model_module_version": "^0.8.3",
      "model_name": "MPLCanvasModel",
      "state": {
       "_cursor": "default",
       "_figure_label": "Figure 20",
       "_height": 500,
       "_width": 500,
       "layout": "IPY_MODEL_3aaee10f43f44a878f85be6696cc5375",
       "toolbar": "IPY_MODEL_623de561d4f34074a0f6313f5f1dadbf",
       "toolbar_position": "left"
      }
     },
     "8ba85228b05447558a138bf5000bdec6": {
      "model_module": "jupyter-matplotlib",
      "model_module_version": "^0.8.3",
      "model_name": "MPLCanvasModel",
      "state": {
       "_cursor": "default",
       "_figure_label": "Figure 25",
       "_height": 500,
       "_width": 500,
       "layout": "IPY_MODEL_978a97072b934f1dbe0dc84bd4589ac6",
       "toolbar": "IPY_MODEL_73c478a3e7524461b2c6fdce48a368b1",
       "toolbar_position": "left"
      }
     },
     "8da3dc4c60014e068745ee328c0ac05e": {
      "model_module": "jupyter-matplotlib",
      "model_module_version": "^0.8.3",
      "model_name": "MPLCanvasModel",
      "state": {
       "_cursor": "default",
       "_figure_label": "Figure 23",
       "_height": 500,
       "_message": "x=52.2 y=3.10e+03",
       "_width": 500,
       "layout": "IPY_MODEL_8a0cf14e05714622b96af3f154e6808d",
       "toolbar": "IPY_MODEL_3ef0d0f6681b49babe5701a52fa3c8ea",
       "toolbar_position": "left"
      }
     },
     "8e860d66ace1405dbdd3a19b729835ac": {
      "model_module": "jupyter-matplotlib",
      "model_module_version": "^0.8.3",
      "model_name": "MPLCanvasModel",
      "state": {
       "_cursor": "default",
       "_figure_label": "Figure 10",
       "_height": 1000,
       "_width": 1500,
       "layout": "IPY_MODEL_0042b9eb571c4fe8822bf7ae91331d9f",
       "toolbar": "IPY_MODEL_7715d1f09a0b41ca9eec2e7489c25ec2",
       "toolbar_position": "left"
      }
     },
     "911c060a11de4ac1bad4c13520f53a36": {
      "model_module": "jupyter-matplotlib",
      "model_module_version": "^0.8.3",
      "model_name": "MPLCanvasModel",
      "state": {
       "_cursor": "default",
       "_figure_label": "Figure 3",
       "_height": 1000,
       "_width": 1500,
       "layout": "IPY_MODEL_c95514cf812a4e0fab8632b4e5d268b8",
       "toolbar": "IPY_MODEL_4de522a1d94d445e9b65823a201cfa6d",
       "toolbar_position": "left"
      }
     },
     "917dc839f14d4bf9af4bfb7a97d86795": {
      "model_module": "jupyter-matplotlib",
      "model_module_version": "^0.8.3",
      "model_name": "ToolbarModel",
      "state": {
       "layout": "IPY_MODEL_b8dc09d3234042af872db96356af22c0",
       "toolitems": [
        [
         "Home",
         "Reset original view",
         "home",
         "home"
        ],
        [
         "Back",
         "Back to previous view",
         "arrow-left",
         "back"
        ],
        [
         "Forward",
         "Forward to next view",
         "arrow-right",
         "forward"
        ],
        [
         "Pan",
         "Left button pans, Right button zooms\nx/y fixes axis, CTRL fixes aspect",
         "arrows",
         "pan"
        ],
        [
         "Zoom",
         "Zoom to rectangle\nx/y fixes axis, CTRL fixes aspect",
         "square-o",
         "zoom"
        ],
        [
         "Download",
         "Download plot",
         "floppy-o",
         "save_figure"
        ]
       ]
      }
     },
     "9431653300fc4941949d03016a2b37b1": {
      "model_module": "jupyter-matplotlib",
      "model_module_version": "^0.8.3",
      "model_name": "ToolbarModel",
      "state": {
       "layout": "IPY_MODEL_81f07a65fa6e41bda2a91fa05fdb263d",
       "toolitems": [
        [
         "Home",
         "Reset original view",
         "home",
         "home"
        ],
        [
         "Back",
         "Back to previous view",
         "arrow-left",
         "back"
        ],
        [
         "Forward",
         "Forward to next view",
         "arrow-right",
         "forward"
        ],
        [
         "Pan",
         "Left button pans, Right button zooms\nx/y fixes axis, CTRL fixes aspect",
         "arrows",
         "pan"
        ],
        [
         "Zoom",
         "Zoom to rectangle\nx/y fixes axis, CTRL fixes aspect",
         "square-o",
         "zoom"
        ],
        [
         "Download",
         "Download plot",
         "floppy-o",
         "save_figure"
        ]
       ]
      }
     },
     "978a97072b934f1dbe0dc84bd4589ac6": {
      "model_module": "@jupyter-widgets/base",
      "model_module_version": "1.2.0",
      "model_name": "LayoutModel",
      "state": {}
     },
     "98755be73dcd4c878233b7d70820d571": {
      "model_module": "@jupyter-widgets/base",
      "model_module_version": "1.2.0",
      "model_name": "LayoutModel",
      "state": {}
     },
     "a3fe882b9fc24b4a9d4fb8697ae0448e": {
      "model_module": "jupyter-matplotlib",
      "model_module_version": "^0.8.3",
      "model_name": "MPLCanvasModel",
      "state": {
       "_cursor": "default",
       "_figure_label": "Figure 16",
       "_height": 900,
       "_width": 1600,
       "layout": "IPY_MODEL_e77fc740a8c249619de2f6e4f98aa508",
       "toolbar": "IPY_MODEL_7beb1b8f90b44b4ebeea091ab8a62b11",
       "toolbar_position": "left"
      }
     },
     "a52df9352a77485f93dad7f85318d910": {
      "model_module": "jupyter-matplotlib",
      "model_module_version": "^0.8.3",
      "model_name": "ToolbarModel",
      "state": {
       "layout": "IPY_MODEL_2a104ce4ae4142899f9df0848d1779e7",
       "toolitems": [
        [
         "Home",
         "Reset original view",
         "home",
         "home"
        ],
        [
         "Back",
         "Back to previous view",
         "arrow-left",
         "back"
        ],
        [
         "Forward",
         "Forward to next view",
         "arrow-right",
         "forward"
        ],
        [
         "Pan",
         "Left button pans, Right button zooms\nx/y fixes axis, CTRL fixes aspect",
         "arrows",
         "pan"
        ],
        [
         "Zoom",
         "Zoom to rectangle\nx/y fixes axis, CTRL fixes aspect",
         "square-o",
         "zoom"
        ],
        [
         "Download",
         "Download plot",
         "floppy-o",
         "save_figure"
        ]
       ]
      }
     },
     "a68c9c970768436a92022035d0e73c3b": {
      "model_module": "jupyter-matplotlib",
      "model_module_version": "^0.8.3",
      "model_name": "ToolbarModel",
      "state": {
       "layout": "IPY_MODEL_dcfef1c602a443c6b8308cab5f7b97f1",
       "toolitems": [
        [
         "Home",
         "Reset original view",
         "home",
         "home"
        ],
        [
         "Back",
         "Back to previous view",
         "arrow-left",
         "back"
        ],
        [
         "Forward",
         "Forward to next view",
         "arrow-right",
         "forward"
        ],
        [
         "Pan",
         "Left button pans, Right button zooms\nx/y fixes axis, CTRL fixes aspect",
         "arrows",
         "pan"
        ],
        [
         "Zoom",
         "Zoom to rectangle\nx/y fixes axis, CTRL fixes aspect",
         "square-o",
         "zoom"
        ],
        [
         "Download",
         "Download plot",
         "floppy-o",
         "save_figure"
        ]
       ]
      }
     },
     "b1b9489093a843278a6dc5f84b199a78": {
      "model_module": "jupyter-matplotlib",
      "model_module_version": "^0.8.3",
      "model_name": "MPLCanvasModel",
      "state": {
       "_cursor": "default",
       "_figure_label": "Figure 5",
       "_height": 1000,
       "_message": "x=0.206 y=9.09e+03",
       "_width": 1500,
       "layout": "IPY_MODEL_52091da42514417098b828e3fd11dbe6",
       "toolbar": "IPY_MODEL_9431653300fc4941949d03016a2b37b1",
       "toolbar_position": "left"
      }
     },
     "b1be95ef78284c5094af9ee03b8f1b9f": {
      "model_module": "@jupyter-widgets/base",
      "model_module_version": "1.2.0",
      "model_name": "LayoutModel",
      "state": {}
     },
     "b3768b8306184124a246f1fb92467054": {
      "model_module": "@jupyter-widgets/base",
      "model_module_version": "1.2.0",
      "model_name": "LayoutModel",
      "state": {}
     },
     "b8dc09d3234042af872db96356af22c0": {
      "model_module": "@jupyter-widgets/base",
      "model_module_version": "1.2.0",
      "model_name": "LayoutModel",
      "state": {}
     },
     "baa713bf286e43e7955ad2642d0902b6": {
      "model_module": "@jupyter-widgets/base",
      "model_module_version": "1.2.0",
      "model_name": "LayoutModel",
      "state": {}
     },
     "c00d1086906f43dc81e180d0fa03e68e": {
      "model_module": "jupyter-matplotlib",
      "model_module_version": "^0.8.3",
      "model_name": "MPLCanvasModel",
      "state": {
       "_cursor": "default",
       "_figure_label": "Figure 9",
       "_height": 1000,
       "_message": "x=29.4 y=9.39e+03",
       "_width": 1500,
       "layout": "IPY_MODEL_68457edc854b4abfab1e51ad4cc417b0",
       "toolbar": "IPY_MODEL_f87a24ca0a1e426c9065c892034ddc4a",
       "toolbar_position": "left"
      }
     },
     "c0e4932997b247c5a663b384c7878a55": {
      "model_module": "@jupyter-widgets/base",
      "model_module_version": "1.2.0",
      "model_name": "LayoutModel",
      "state": {}
     },
     "c2663b4a2b6741a8bf790cb7ecbed5d1": {
      "model_module": "jupyter-matplotlib",
      "model_module_version": "^0.8.3",
      "model_name": "ToolbarModel",
      "state": {
       "layout": "IPY_MODEL_3c8b6e00382d4c00a91ab784b7c9481e",
       "toolitems": [
        [
         "Home",
         "Reset original view",
         "home",
         "home"
        ],
        [
         "Back",
         "Back to previous view",
         "arrow-left",
         "back"
        ],
        [
         "Forward",
         "Forward to next view",
         "arrow-right",
         "forward"
        ],
        [
         "Pan",
         "Left button pans, Right button zooms\nx/y fixes axis, CTRL fixes aspect",
         "arrows",
         "pan"
        ],
        [
         "Zoom",
         "Zoom to rectangle\nx/y fixes axis, CTRL fixes aspect",
         "square-o",
         "zoom"
        ],
        [
         "Download",
         "Download plot",
         "floppy-o",
         "save_figure"
        ]
       ]
      }
     },
     "c7a01506a1744d20b89d3574ccf345b1": {
      "model_module": "jupyter-matplotlib",
      "model_module_version": "^0.8.3",
      "model_name": "MPLCanvasModel",
      "state": {
       "_cursor": "default",
       "_figure_label": "Figure 14",
       "_height": 1000,
       "_message": "x=2.37 y=6.01e+03",
       "_width": 1500,
       "layout": "IPY_MODEL_2ccc3fea4d88402e84e9f7b64bab0fa2",
       "toolbar": "IPY_MODEL_275127d563f04812a4c3c1dcb3b04d05",
       "toolbar_position": "left"
      }
     },
     "c95514cf812a4e0fab8632b4e5d268b8": {
      "model_module": "@jupyter-widgets/base",
      "model_module_version": "1.2.0",
      "model_name": "LayoutModel",
      "state": {}
     },
     "d1840eb932564c08aaf3cdcfa2706941": {
      "model_module": "@jupyter-widgets/base",
      "model_module_version": "1.2.0",
      "model_name": "LayoutModel",
      "state": {}
     },
     "d2e2433e28984430b22f803191fd367a": {
      "model_module": "jupyter-matplotlib",
      "model_module_version": "^0.8.3",
      "model_name": "MPLCanvasModel",
      "state": {
       "_cursor": "default",
       "_figure_label": "Figure 6",
       "_height": 1000,
       "_message": "x=0.92 y=2.78e+03",
       "_width": 1500,
       "layout": "IPY_MODEL_801c26a254424aa38ceb3445a08c0b99",
       "toolbar": "IPY_MODEL_6d9ceda3152f4ed18a641135060274d9",
       "toolbar_position": "left"
      }
     },
     "d42157553d324c82b941082e453d67a1": {
      "model_module": "@jupyter-widgets/base",
      "model_module_version": "1.2.0",
      "model_name": "LayoutModel",
      "state": {}
     },
     "d4c1775421354fc5a9c43b5d3ac63d68": {
      "model_module": "@jupyter-widgets/base",
      "model_module_version": "1.2.0",
      "model_name": "LayoutModel",
      "state": {}
     },
     "d87e1deb4b7f47b4bd174ca04c08dbb8": {
      "model_module": "jupyter-matplotlib",
      "model_module_version": "^0.8.3",
      "model_name": "MPLCanvasModel",
      "state": {
       "_cursor": "default",
       "_figure_label": "Figure 11",
       "_height": 1000,
       "_message": "x=0.49 y=3129.",
       "_width": 1500,
       "layout": "IPY_MODEL_508a7e8b63b649c3b3044d50e5572d01",
       "toolbar": "IPY_MODEL_a68c9c970768436a92022035d0e73c3b",
       "toolbar_position": "left"
      }
     },
     "d9a7ebab20384ce3bf4a1a78e807a10e": {
      "model_module": "@jupyter-widgets/base",
      "model_module_version": "1.2.0",
      "model_name": "LayoutModel",
      "state": {}
     },
     "dc3f905e72b845c586dee4606aac759a": {
      "model_module": "jupyter-matplotlib",
      "model_module_version": "^0.8.3",
      "model_name": "ToolbarModel",
      "state": {
       "layout": "IPY_MODEL_43f540b54eff403eb7a1d1ba8485e17f",
       "toolitems": [
        [
         "Home",
         "Reset original view",
         "home",
         "home"
        ],
        [
         "Back",
         "Back to previous view",
         "arrow-left",
         "back"
        ],
        [
         "Forward",
         "Forward to next view",
         "arrow-right",
         "forward"
        ],
        [
         "Pan",
         "Left button pans, Right button zooms\nx/y fixes axis, CTRL fixes aspect",
         "arrows",
         "pan"
        ],
        [
         "Zoom",
         "Zoom to rectangle\nx/y fixes axis, CTRL fixes aspect",
         "square-o",
         "zoom"
        ],
        [
         "Download",
         "Download plot",
         "floppy-o",
         "save_figure"
        ]
       ]
      }
     },
     "dcfef1c602a443c6b8308cab5f7b97f1": {
      "model_module": "@jupyter-widgets/base",
      "model_module_version": "1.2.0",
      "model_name": "LayoutModel",
      "state": {}
     },
     "e3ed5242078f46d3a26df86cdaed2770": {
      "model_module": "@jupyter-widgets/base",
      "model_module_version": "1.2.0",
      "model_name": "LayoutModel",
      "state": {}
     },
     "e57c112fd1904e47a1e70195957c2310": {
      "model_module": "jupyter-matplotlib",
      "model_module_version": "^0.8.3",
      "model_name": "ToolbarModel",
      "state": {
       "layout": "IPY_MODEL_0b26a4026b084255be48a7d847349ff7",
       "toolitems": [
        [
         "Home",
         "Reset original view",
         "home",
         "home"
        ],
        [
         "Back",
         "Back to previous view",
         "arrow-left",
         "back"
        ],
        [
         "Forward",
         "Forward to next view",
         "arrow-right",
         "forward"
        ],
        [
         "Pan",
         "Left button pans, Right button zooms\nx/y fixes axis, CTRL fixes aspect",
         "arrows",
         "pan"
        ],
        [
         "Zoom",
         "Zoom to rectangle\nx/y fixes axis, CTRL fixes aspect",
         "square-o",
         "zoom"
        ],
        [
         "Download",
         "Download plot",
         "floppy-o",
         "save_figure"
        ]
       ]
      }
     },
     "e6350aa58e574879b1d7e9889d3a90f7": {
      "model_module": "jupyter-matplotlib",
      "model_module_version": "^0.8.3",
      "model_name": "ToolbarModel",
      "state": {
       "layout": "IPY_MODEL_e3ed5242078f46d3a26df86cdaed2770",
       "toolitems": [
        [
         "Home",
         "Reset original view",
         "home",
         "home"
        ],
        [
         "Back",
         "Back to previous view",
         "arrow-left",
         "back"
        ],
        [
         "Forward",
         "Forward to next view",
         "arrow-right",
         "forward"
        ],
        [
         "Pan",
         "Left button pans, Right button zooms\nx/y fixes axis, CTRL fixes aspect",
         "arrows",
         "pan"
        ],
        [
         "Zoom",
         "Zoom to rectangle\nx/y fixes axis, CTRL fixes aspect",
         "square-o",
         "zoom"
        ],
        [
         "Download",
         "Download plot",
         "floppy-o",
         "save_figure"
        ]
       ]
      }
     },
     "e77fc740a8c249619de2f6e4f98aa508": {
      "model_module": "@jupyter-widgets/base",
      "model_module_version": "1.2.0",
      "model_name": "LayoutModel",
      "state": {}
     },
     "e845d9a8fe2844d6b4a72acd6c8cd94b": {
      "model_module": "jupyter-matplotlib",
      "model_module_version": "^0.8.3",
      "model_name": "MPLCanvasModel",
      "state": {
       "_cursor": "default",
       "_figure_label": "Figure 17",
       "_height": 900,
       "_width": 1600,
       "layout": "IPY_MODEL_2e9f2b74e5bb44369ae58c090e2ee37a",
       "toolbar": "IPY_MODEL_dc3f905e72b845c586dee4606aac759a",
       "toolbar_position": "left"
      }
     },
     "e9ef7662d01444bf9c1d1f14fbe03daa": {
      "model_module": "jupyter-matplotlib",
      "model_module_version": "^0.8.3",
      "model_name": "MPLCanvasModel",
      "state": {
       "_cursor": "default",
       "_figure_label": "Figure 24",
       "_height": 500,
       "_width": 500,
       "layout": "IPY_MODEL_7f68e07d1ac44a4c86cc765e77aba882",
       "toolbar": "IPY_MODEL_328aed8905b8453e91bc2f51e022d4dc",
       "toolbar_position": "left"
      }
     },
     "f00445b48599476eb6cacef47fdcc3ea": {
      "model_module": "@jupyter-widgets/base",
      "model_module_version": "1.2.0",
      "model_name": "LayoutModel",
      "state": {}
     },
     "f0cb39e256534eb0b5ed363400ea8580": {
      "model_module": "@jupyter-widgets/base",
      "model_module_version": "1.2.0",
      "model_name": "LayoutModel",
      "state": {}
     },
     "f1ba69ff30d6404c948276bc795ce15a": {
      "model_module": "jupyter-matplotlib",
      "model_module_version": "^0.8.3",
      "model_name": "MPLCanvasModel",
      "state": {
       "_cursor": "default",
       "_figure_label": "Figure 12",
       "_height": 1000,
       "_width": 1500,
       "layout": "IPY_MODEL_c0e4932997b247c5a663b384c7878a55",
       "toolbar": "IPY_MODEL_5a536ef653b540ff9f06fa2e95897911",
       "toolbar_position": "left"
      }
     },
     "f5dc55455e044705b5efa3135ee36e7b": {
      "model_module": "jupyter-matplotlib",
      "model_module_version": "^0.8.3",
      "model_name": "MPLCanvasModel",
      "state": {
       "_cursor": "default",
       "_figure_label": "Figure 2",
       "_height": 1000,
       "_width": 1500,
       "layout": "IPY_MODEL_87856925ba544bd1a2892bc40d7b159b",
       "toolbar": "IPY_MODEL_917dc839f14d4bf9af4bfb7a97d86795",
       "toolbar_position": "left"
      }
     },
     "f801bdf073f9443da6c08b8b04b0a842": {
      "model_module": "jupyter-matplotlib",
      "model_module_version": "^0.8.3",
      "model_name": "MPLCanvasModel",
      "state": {
       "_cursor": "default",
       "_figure_label": "Figure 22",
       "_height": 500,
       "_width": 500,
       "layout": "IPY_MODEL_b1be95ef78284c5094af9ee03b8f1b9f",
       "toolbar": "IPY_MODEL_1fc94c3d82a948f5a6c0c3af7fa80c54",
       "toolbar_position": "left"
      }
     },
     "f87a24ca0a1e426c9065c892034ddc4a": {
      "model_module": "jupyter-matplotlib",
      "model_module_version": "^0.8.3",
      "model_name": "ToolbarModel",
      "state": {
       "layout": "IPY_MODEL_4d0a352532fe41f5b042df87f08be35c",
       "toolitems": [
        [
         "Home",
         "Reset original view",
         "home",
         "home"
        ],
        [
         "Back",
         "Back to previous view",
         "arrow-left",
         "back"
        ],
        [
         "Forward",
         "Forward to next view",
         "arrow-right",
         "forward"
        ],
        [
         "Pan",
         "Left button pans, Right button zooms\nx/y fixes axis, CTRL fixes aspect",
         "arrows",
         "pan"
        ],
        [
         "Zoom",
         "Zoom to rectangle\nx/y fixes axis, CTRL fixes aspect",
         "square-o",
         "zoom"
        ],
        [
         "Download",
         "Download plot",
         "floppy-o",
         "save_figure"
        ]
       ]
      }
     },
     "fa153ca1157a4b6c9e28a2b79a8a494e": {
      "model_module": "jupyter-matplotlib",
      "model_module_version": "^0.8.3",
      "model_name": "MPLCanvasModel",
      "state": {
       "_cursor": "default",
       "_figure_label": "Figure 19",
       "_height": 900,
       "_width": 1600,
       "layout": "IPY_MODEL_075d2fb6d809494ca108899197436e85",
       "toolbar": "IPY_MODEL_46104119f573463996022971010912c8",
       "toolbar_position": "left"
      }
     },
     "fa400069fbf34d3cbc6f211f911ccaef": {
      "model_module": "jupyter-matplotlib",
      "model_module_version": "^0.8.3",
      "model_name": "MPLCanvasModel",
      "state": {
       "_cursor": "default",
       "_figure_label": "Figure 4",
       "_height": 1000,
       "_width": 1500,
       "layout": "IPY_MODEL_baa713bf286e43e7955ad2642d0902b6",
       "toolbar": "IPY_MODEL_58e5498191964fccb054b16ef90a1a13",
       "toolbar_position": "left"
      }
     },
     "fd87ad1e41b54b22af72e581473876b3": {
      "model_module": "jupyter-matplotlib",
      "model_module_version": "^0.8.3",
      "model_name": "MPLCanvasModel",
      "state": {
       "_cursor": "default",
       "_figure_label": "Figure 18",
       "_height": 900,
       "_message": "x=21.90 y=0.949",
       "_width": 1600,
       "layout": "IPY_MODEL_477f1257f1d44ff08afc7a1bd2a75802",
       "toolbar": "IPY_MODEL_e6350aa58e574879b1d7e9889d3a90f7",
       "toolbar_position": "left"
      }
     }
    },
    "version_major": 2,
    "version_minor": 0
   }
  }
 },
 "nbformat": 4,
 "nbformat_minor": 5
}
