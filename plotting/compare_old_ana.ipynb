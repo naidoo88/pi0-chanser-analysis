{
 "cells": [
  {
   "cell_type": "code",
   "execution_count": 4,
   "metadata": {},
   "outputs": [],
   "source": [
    "import numpy as np\n",
    "import pandas as pd\n",
    "import matplotlib.pyplot as plt\n",
    "import uproot\n",
    "\n",
    "%matplotlib widget"
   ]
  },
  {
   "cell_type": "code",
   "execution_count": 5,
   "metadata": {},
   "outputs": [],
   "source": [
    "plt.style.use('seaborn')\n",
    "plt.rcParams['axes.grid'] = True\n",
    "plt.rcParams['axes.formatter.limits'] = (-3,3)\n",
    "plt.rcParams['axes.formatter.use_mathtext'] = True\n",
    "# plt.rcParams['font.size']= 16\n",
    "# plt.rcParams['axes.labelsize'] = 14\n",
    "# plt.rcParams['axes.titlesize'] = 14\n",
    "# plt.rcParams['xtick.labelsize'] = 10\n",
    "# plt.rcParams['ytick.labelsize'] = 10"
   ]
  },
  {
   "cell_type": "code",
   "execution_count": 24,
   "metadata": {},
   "outputs": [],
   "source": [
    "def hist1D(ax, df, var, cuts=None, y_err=False, falpha=0.4, normed=False, filled = False, params={}):\n",
    "    #select next color in colormap for use in line and fill.\n",
    "    color = next(ax._get_lines.prop_cycler)['color']\n",
    "    \n",
    "    if cuts is not None: \n",
    "        data = df[var[0]][cuts]\n",
    "    else:\n",
    "        data = df[var[0]]\n",
    "        \n",
    "    #calculate area under the curve if wanting normalised plot    \n",
    "    weights = None\n",
    "    if normed is True:\n",
    "        entries, edges = np.histogram(\n",
    "            data,\n",
    "            range = (var[1][1], var[1][2]),\n",
    "            bins = var[1][0]        \n",
    "        )\n",
    "      \n",
    "        integral = sum(np.diff(edges)*entries)\n",
    "        weights = np.ones_like(data)/integral\n",
    "    \n",
    "    #Draw histogram\n",
    "    h = ax.hist(data,\n",
    "    range = (var[1][1], var[1][2]),\n",
    "    bins = var[1][0],\n",
    "    weights=weights,\n",
    "    histtype = 'step',\n",
    "    linewidth = 1.5,\n",
    "    color = color,\n",
    "    **params\n",
    "    )\n",
    " \n",
    "    #fill area under histo if set\n",
    "    if filled is True:\n",
    "        # brute-force: drawing it again to allow separate alpha(opacity) to be used\n",
    "        h = ax.hist(data,\n",
    "            range = (var[1][1], var[1][2]),\n",
    "            bins = var[1][0],\n",
    "            weights=weights,\n",
    "            histtype = 'step',\n",
    "            linewidth = None,\n",
    "            fill = True,\n",
    "            alpha = falpha,\n",
    "            color = color\n",
    "            )\n",
    "        \n",
    "    #error bars    \n",
    "    if y_err is True:\n",
    "        if normed is True: \n",
    "            yerr = np.sqrt(entries)/integral\n",
    "            entries = entries/integral\n",
    "        else:\n",
    "            entries, edges = np.histogram(\n",
    "                data,\n",
    "                range = (var[1][1], var[1][2]),\n",
    "                bins = var[1][0]        \n",
    "            )\n",
    "            yerr = np.sqrt(entries)\n",
    "            \n",
    "        bin_width = edges[1]-edges[0]\n",
    "        bin_centers = edges[:-1] + bin_width/2\n",
    "        ax.errorbar(bin_centers, entries, yerr=yerr, color='r', ls='', alpha=0.6, label='err', elinewidth=0.6)\n",
    "        \n",
    "    #deal with automatic y-axis scaling funk\n",
    "    # if normed is True:\n",
    "    #     #axes = plt.gca()\n",
    "    #     ax.set_ylim([0,max(entries/integral)*1.1])\n",
    "\n",
    "    ax.set_xlabel(var[2])\n",
    "    ax.set_xlim(var[1][1], var[1][2])\n",
    "\n",
    "    \n",
    "    return #(entries, edges, yerr)"
   ]
  },
  {
   "cell_type": "code",
   "execution_count": 11,
   "metadata": {},
   "outputs": [],
   "source": [
    "rootdir = \"/w/work3/home/pauln/chansertest/pauln/Pi0_PID_\"\n",
    "fs = \"FinalState.root\"\n",
    "tree = 'FINALOUTTREE'\n",
    "\n",
    "fullcomb_file = rootdir+\"fullcomb__/\"+fs \n",
    "fullcomb_masked_file = rootdir+\"fullcomb_masked__/\"+fs \n",
    "photcomb_file = rootdir+\"photcomb__/\"+fs \n",
    "photcomb_masked_file = rootdir+\"photcomb_masked__/\"+fs \n",
    " \n",
    "data = uproot.open(fullcomb_file)[tree]\n",
    "fullcomb_df = data.pandas.df() \n",
    "\n",
    "data = uproot.open(fullcomb_masked_file)[tree]\n",
    "fullcomb_masked_df = data.pandas.df() \n",
    "\n",
    "data = uproot.open(photcomb_file)[tree]\n",
    "photcomb_df = data.pandas.df() \n",
    "\n",
    "data = uproot.open(photcomb_masked_file)[tree]\n",
    "photcomb_masked_df = data.pandas.df()\n",
    "\n",
    "# data = uproot.open(new_file)['data']\n",
    "# new_df = data.pandas.df() \n",
    "# print(fullcomb_file)"
   ]
  },
  {
   "cell_type": "code",
   "execution_count": 36,
   "metadata": {},
   "outputs": [],
   "source": [
    "topos = [\n",
    "    [fullcomb_df, \"Full comb.\"],\n",
    "    [fullcomb_masked_df, \"Full comb. (masked)\"], \n",
    "    [photcomb_df, \"Photon comb.\"], \n",
    "    [photcomb_masked_df, \"Photon comb. (masked)\"]\n",
    "]\n",
    "\n",
    "bins = 200\n",
    "distros = [\n",
    "    [\"Pi0IMgg\", (bins,0.005,0.2), r\"$M_{\\gamma\\gamma}$ $(GeV/c^{2})$\"]\n",
    "]"
   ]
  },
  {
   "cell_type": "code",
   "execution_count": 37,
   "metadata": {},
   "outputs": [
    {
     "data": {
      "application/vnd.jupyter.widget-view+json": {
       "model_id": "089884f8490141b0b0ff17733e8b6065",
       "version_major": 2,
       "version_minor": 0
      },
      "text/plain": [
       "Canvas(toolbar=Toolbar(toolitems=[('Home', 'Reset original view', 'home', 'home'), ('Back', 'Back to previous …"
      ]
     },
     "metadata": {},
     "output_type": "display_data"
    }
   ],
   "source": [
    "fig, ax = plt.subplots(1, 1, figsize=(7,5))\n",
    "\n",
    "for i, var in enumerate(distros):\n",
    "    for df,label in topos:\n",
    "        params = {\n",
    "            'label': label\n",
    "        }\n",
    "        hist1D(ax, df, var, params=params)\n",
    "\n",
    "    ax.legend()"
   ]
  },
  {
   "cell_type": "code",
   "execution_count": null,
   "metadata": {},
   "outputs": [],
   "source": []
  }
 ],
 "metadata": {
  "kernelspec": {
   "display_name": "pi0-ana",
   "language": "python",
   "name": "pi0-ana"
  },
  "language_info": {
   "codemirror_mode": {
    "name": "ipython",
    "version": 3
   },
   "file_extension": ".py",
   "mimetype": "text/x-python",
   "name": "python",
   "nbconvert_exporter": "python",
   "pygments_lexer": "ipython3",
   "version": "3.6.8"
  },
  "widgets": {
   "application/vnd.jupyter.widget-state+json": {
    "state": {
     "01d4487624d54609aed1b864d5300f15": {
      "model_module": "@jupyter-widgets/base",
      "model_module_version": "1.2.0",
      "model_name": "LayoutModel",
      "state": {}
     },
     "063f5f2c291f4b3a94d82ff2fafd15f0": {
      "model_module": "jupyter-matplotlib",
      "model_module_version": "^0.7.4",
      "model_name": "ToolbarModel",
      "state": {
       "layout": "IPY_MODEL_6124eb703db8471a8101a9f19a79af81",
       "toolitems": [
        [
         "Home",
         "Reset original view",
         "home",
         "home"
        ],
        [
         "Back",
         "Back to previous view",
         "arrow-left",
         "back"
        ],
        [
         "Forward",
         "Forward to next view",
         "arrow-right",
         "forward"
        ],
        [
         "Pan",
         "Left button pans, Right button zooms\nx/y fixes axis, CTRL fixes aspect",
         "arrows",
         "pan"
        ],
        [
         "Zoom",
         "Zoom to rectangle\nx/y fixes axis, CTRL fixes aspect",
         "square-o",
         "zoom"
        ],
        [
         "Download",
         "Download plot",
         "floppy-o",
         "save_figure"
        ]
       ]
      }
     },
     "089884f8490141b0b0ff17733e8b6065": {
      "model_module": "jupyter-matplotlib",
      "model_module_version": "^0.7.4",
      "model_name": "MPLCanvasModel",
      "state": {
       "_cursor": "crosshair",
       "_figure_label": "Figure 14",
       "_height": 500,
       "_image_mode": "diff",
       "_message": "x=0.1955 y=2.59e+03",
       "_rubberband_y": 501,
       "_width": 700,
       "layout": "IPY_MODEL_ac39b8f5daa4401e8328ac645adea024",
       "toolbar": "IPY_MODEL_2acb3d564bff4116a4ef1e42791b06b3",
       "toolbar_position": "left"
      }
     },
     "0fde6e6141b0425195208d131ceb338f": {
      "model_module": "jupyter-matplotlib",
      "model_module_version": "^0.7.4",
      "model_name": "MPLCanvasModel",
      "state": {
       "_cursor": "default",
       "_figure_label": "Figure 8",
       "_height": 500,
       "_width": 400,
       "layout": "IPY_MODEL_a3b95585688e4a4c98b8e07929f07030",
       "toolbar": "IPY_MODEL_e40d458c072d401ba29e845b8cb647ea",
       "toolbar_position": "left"
      }
     },
     "121d4f9fea58497f934680195402346a": {
      "model_module": "@jupyter-widgets/base",
      "model_module_version": "1.2.0",
      "model_name": "LayoutModel",
      "state": {}
     },
     "1dfa83fd5f954985a1cee39437492c5a": {
      "model_module": "jupyter-matplotlib",
      "model_module_version": "^0.7.4",
      "model_name": "MPLCanvasModel",
      "state": {
       "_cursor": "default",
       "_figure_label": "Figure 2",
       "_height": 500,
       "_message": "x=0.077 y=0.878",
       "_width": 400,
       "layout": "IPY_MODEL_56c4653b920b40e3a97eca08bcf72c42",
       "toolbar": "IPY_MODEL_c79bb432c2c447fe9a00b3a1070bf717",
       "toolbar_position": "left"
      }
     },
     "23bd9965ecdf4740bd8a9122635783c6": {
      "model_module": "@jupyter-widgets/base",
      "model_module_version": "1.2.0",
      "model_name": "LayoutModel",
      "state": {}
     },
     "2a970376764d49a28d06cf57651606dd": {
      "model_module": "jupyter-matplotlib",
      "model_module_version": "^0.7.4",
      "model_name": "ToolbarModel",
      "state": {
       "layout": "IPY_MODEL_bac5c791eb6547d392c5847105963c01",
       "toolitems": [
        [
         "Home",
         "Reset original view",
         "home",
         "home"
        ],
        [
         "Back",
         "Back to previous view",
         "arrow-left",
         "back"
        ],
        [
         "Forward",
         "Forward to next view",
         "arrow-right",
         "forward"
        ],
        [
         "Pan",
         "Left button pans, Right button zooms\nx/y fixes axis, CTRL fixes aspect",
         "arrows",
         "pan"
        ],
        [
         "Zoom",
         "Zoom to rectangle\nx/y fixes axis, CTRL fixes aspect",
         "square-o",
         "zoom"
        ],
        [
         "Download",
         "Download plot",
         "floppy-o",
         "save_figure"
        ]
       ]
      }
     },
     "2acb3d564bff4116a4ef1e42791b06b3": {
      "model_module": "jupyter-matplotlib",
      "model_module_version": "^0.7.4",
      "model_name": "ToolbarModel",
      "state": {
       "_current_action": "zoom",
       "layout": "IPY_MODEL_418e2b558729401889b6e32c2345c084",
       "toolitems": [
        [
         "Home",
         "Reset original view",
         "home",
         "home"
        ],
        [
         "Back",
         "Back to previous view",
         "arrow-left",
         "back"
        ],
        [
         "Forward",
         "Forward to next view",
         "arrow-right",
         "forward"
        ],
        [
         "Pan",
         "Left button pans, Right button zooms\nx/y fixes axis, CTRL fixes aspect",
         "arrows",
         "pan"
        ],
        [
         "Zoom",
         "Zoom to rectangle\nx/y fixes axis, CTRL fixes aspect",
         "square-o",
         "zoom"
        ],
        [
         "Download",
         "Download plot",
         "floppy-o",
         "save_figure"
        ]
       ]
      }
     },
     "2f589e5f30464688aa0a0187c7a0a638": {
      "model_module": "@jupyter-widgets/base",
      "model_module_version": "1.2.0",
      "model_name": "LayoutModel",
      "state": {}
     },
     "3c94834dc5b4426d8528a653ca6c7c0c": {
      "model_module": "@jupyter-widgets/base",
      "model_module_version": "1.2.0",
      "model_name": "LayoutModel",
      "state": {}
     },
     "418e2b558729401889b6e32c2345c084": {
      "model_module": "@jupyter-widgets/base",
      "model_module_version": "1.2.0",
      "model_name": "LayoutModel",
      "state": {}
     },
     "432b00cb830d456eb99212807070806d": {
      "model_module": "@jupyter-widgets/base",
      "model_module_version": "1.2.0",
      "model_name": "LayoutModel",
      "state": {}
     },
     "4f5eb8d9122f4cd6a876722559d8915e": {
      "model_module": "@jupyter-widgets/base",
      "model_module_version": "1.2.0",
      "model_name": "LayoutModel",
      "state": {}
     },
     "5554a09316804555b54692e5404980b5": {
      "model_module": "jupyter-matplotlib",
      "model_module_version": "^0.7.4",
      "model_name": "MPLCanvasModel",
      "state": {
       "_cursor": "default",
       "_figure_label": "Figure 9",
       "_height": 500,
       "_width": 400,
       "layout": "IPY_MODEL_59b6d8d477964e9981ac05708cb8f4ad",
       "toolbar": "IPY_MODEL_9cc9348762114491a616cf10cff36671",
       "toolbar_position": "left"
      }
     },
     "56c4653b920b40e3a97eca08bcf72c42": {
      "model_module": "@jupyter-widgets/base",
      "model_module_version": "1.2.0",
      "model_name": "LayoutModel",
      "state": {}
     },
     "590eb600afbc4da9a4e85aec1b304309": {
      "model_module": "jupyter-matplotlib",
      "model_module_version": "^0.7.4",
      "model_name": "MPLCanvasModel",
      "state": {
       "_cursor": "default",
       "_figure_label": "Figure 5",
       "_height": 500,
       "_width": 400,
       "layout": "IPY_MODEL_62020f07044d44ab9ab649f8c8e72e09",
       "toolbar": "IPY_MODEL_d765f2fc00dd4d48b07adadc5e47551f",
       "toolbar_position": "left"
      }
     },
     "593602709b3341e8bfdc0f3c7db95692": {
      "model_module": "jupyter-matplotlib",
      "model_module_version": "^0.7.4",
      "model_name": "MPLCanvasModel",
      "state": {
       "_cursor": "default",
       "_figure_label": "Figure 12",
       "_height": 790,
       "_message": "x=0.0699 y=2.785e+04",
       "_width": 869,
       "layout": "IPY_MODEL_7358ded37dfa4deb81a1c4437aba7dc7",
       "toolbar": "IPY_MODEL_e86e64cceee141dbaa259b48b3e60c53",
       "toolbar_position": "left"
      }
     },
     "59b6d8d477964e9981ac05708cb8f4ad": {
      "model_module": "@jupyter-widgets/base",
      "model_module_version": "1.2.0",
      "model_name": "LayoutModel",
      "state": {}
     },
     "5f62642acf1a48c39d8c0a8d60c04287": {
      "model_module": "@jupyter-widgets/base",
      "model_module_version": "1.2.0",
      "model_name": "LayoutModel",
      "state": {}
     },
     "6124eb703db8471a8101a9f19a79af81": {
      "model_module": "@jupyter-widgets/base",
      "model_module_version": "1.2.0",
      "model_name": "LayoutModel",
      "state": {}
     },
     "62020f07044d44ab9ab649f8c8e72e09": {
      "model_module": "@jupyter-widgets/base",
      "model_module_version": "1.2.0",
      "model_name": "LayoutModel",
      "state": {}
     },
     "71033b1a8e71438b8ed3e8b5b5e76c57": {
      "model_module": "@jupyter-widgets/base",
      "model_module_version": "1.2.0",
      "model_name": "LayoutModel",
      "state": {}
     },
     "71f03be367c34f75bdeb9b271e9755fd": {
      "model_module": "jupyter-matplotlib",
      "model_module_version": "^0.7.4",
      "model_name": "ToolbarModel",
      "state": {
       "layout": "IPY_MODEL_9441829d7ee54815949cb860950b755a",
       "toolitems": [
        [
         "Home",
         "Reset original view",
         "home",
         "home"
        ],
        [
         "Back",
         "Back to previous view",
         "arrow-left",
         "back"
        ],
        [
         "Forward",
         "Forward to next view",
         "arrow-right",
         "forward"
        ],
        [
         "Pan",
         "Left button pans, Right button zooms\nx/y fixes axis, CTRL fixes aspect",
         "arrows",
         "pan"
        ],
        [
         "Zoom",
         "Zoom to rectangle\nx/y fixes axis, CTRL fixes aspect",
         "square-o",
         "zoom"
        ],
        [
         "Download",
         "Download plot",
         "floppy-o",
         "save_figure"
        ]
       ]
      }
     },
     "7358ded37dfa4deb81a1c4437aba7dc7": {
      "model_module": "@jupyter-widgets/base",
      "model_module_version": "1.2.0",
      "model_name": "LayoutModel",
      "state": {}
     },
     "79c8e721d889492fb4002977df3519e5": {
      "model_module": "jupyter-matplotlib",
      "model_module_version": "^0.7.4",
      "model_name": "MPLCanvasModel",
      "state": {
       "_cursor": "default",
       "_figure_label": "Figure 6",
       "_height": 500,
       "_width": 400,
       "layout": "IPY_MODEL_e7bf9462530c4298a75e1a4f43bc2865",
       "toolbar": "IPY_MODEL_063f5f2c291f4b3a94d82ff2fafd15f0",
       "toolbar_position": "left"
      }
     },
     "7b8a5489b3c64c1c851bb5f8a594bf42": {
      "model_module": "jupyter-matplotlib",
      "model_module_version": "^0.7.4",
      "model_name": "ToolbarModel",
      "state": {
       "layout": "IPY_MODEL_432b00cb830d456eb99212807070806d",
       "toolitems": [
        [
         "Home",
         "Reset original view",
         "home",
         "home"
        ],
        [
         "Back",
         "Back to previous view",
         "arrow-left",
         "back"
        ],
        [
         "Forward",
         "Forward to next view",
         "arrow-right",
         "forward"
        ],
        [
         "Pan",
         "Left button pans, Right button zooms\nx/y fixes axis, CTRL fixes aspect",
         "arrows",
         "pan"
        ],
        [
         "Zoom",
         "Zoom to rectangle\nx/y fixes axis, CTRL fixes aspect",
         "square-o",
         "zoom"
        ],
        [
         "Download",
         "Download plot",
         "floppy-o",
         "save_figure"
        ]
       ]
      }
     },
     "7c1ea1a9ca324223a4867de08f54219e": {
      "model_module": "jupyter-matplotlib",
      "model_module_version": "^0.7.4",
      "model_name": "ToolbarModel",
      "state": {
       "layout": "IPY_MODEL_01d4487624d54609aed1b864d5300f15",
       "toolitems": [
        [
         "Home",
         "Reset original view",
         "home",
         "home"
        ],
        [
         "Back",
         "Back to previous view",
         "arrow-left",
         "back"
        ],
        [
         "Forward",
         "Forward to next view",
         "arrow-right",
         "forward"
        ],
        [
         "Pan",
         "Left button pans, Right button zooms\nx/y fixes axis, CTRL fixes aspect",
         "arrows",
         "pan"
        ],
        [
         "Zoom",
         "Zoom to rectangle\nx/y fixes axis, CTRL fixes aspect",
         "square-o",
         "zoom"
        ],
        [
         "Download",
         "Download plot",
         "floppy-o",
         "save_figure"
        ]
       ]
      }
     },
     "7dadc858e4914d069fdd5fbf3aec7635": {
      "model_module": "jupyter-matplotlib",
      "model_module_version": "^0.7.4",
      "model_name": "MPLCanvasModel",
      "state": {
       "_cursor": "default",
       "_figure_label": "Figure 1",
       "_height": 500,
       "_message": "x=0.113 y=0.294",
       "_width": 400,
       "layout": "IPY_MODEL_5f62642acf1a48c39d8c0a8d60c04287",
       "toolbar": "IPY_MODEL_2a970376764d49a28d06cf57651606dd",
       "toolbar_position": "left"
      }
     },
     "7e4ede735c674d90ad521190da7a6a81": {
      "model_module": "@jupyter-widgets/base",
      "model_module_version": "1.2.0",
      "model_name": "LayoutModel",
      "state": {}
     },
     "805652da66934933a1a10673b7c4e163": {
      "model_module": "jupyter-matplotlib",
      "model_module_version": "^0.7.4",
      "model_name": "ToolbarModel",
      "state": {
       "layout": "IPY_MODEL_121d4f9fea58497f934680195402346a",
       "toolitems": [
        [
         "Home",
         "Reset original view",
         "home",
         "home"
        ],
        [
         "Back",
         "Back to previous view",
         "arrow-left",
         "back"
        ],
        [
         "Forward",
         "Forward to next view",
         "arrow-right",
         "forward"
        ],
        [
         "Pan",
         "Left button pans, Right button zooms\nx/y fixes axis, CTRL fixes aspect",
         "arrows",
         "pan"
        ],
        [
         "Zoom",
         "Zoom to rectangle\nx/y fixes axis, CTRL fixes aspect",
         "square-o",
         "zoom"
        ],
        [
         "Download",
         "Download plot",
         "floppy-o",
         "save_figure"
        ]
       ]
      }
     },
     "8c8104ca21b44ab5ba154d50ef527ed7": {
      "model_module": "jupyter-matplotlib",
      "model_module_version": "^0.7.4",
      "model_name": "MPLCanvasModel",
      "state": {
       "_cursor": "default",
       "_figure_label": "Figure 13",
       "_height": 697,
       "_message": "x=0.0846 y=6.92e+03",
       "_width": 936,
       "layout": "IPY_MODEL_71033b1a8e71438b8ed3e8b5b5e76c57",
       "toolbar": "IPY_MODEL_7c1ea1a9ca324223a4867de08f54219e",
       "toolbar_position": "left"
      }
     },
     "936224bd5550462fb4c856b1d82678e3": {
      "model_module": "@jupyter-widgets/base",
      "model_module_version": "1.2.0",
      "model_name": "LayoutModel",
      "state": {}
     },
     "93b32731a2e74b83951eb9b22dda5687": {
      "model_module": "@jupyter-widgets/base",
      "model_module_version": "1.2.0",
      "model_name": "LayoutModel",
      "state": {}
     },
     "9441829d7ee54815949cb860950b755a": {
      "model_module": "@jupyter-widgets/base",
      "model_module_version": "1.2.0",
      "model_name": "LayoutModel",
      "state": {}
     },
     "9cc9348762114491a616cf10cff36671": {
      "model_module": "jupyter-matplotlib",
      "model_module_version": "^0.7.4",
      "model_name": "ToolbarModel",
      "state": {
       "layout": "IPY_MODEL_a6bae66040c0483bbc5d1795a56d8741",
       "toolitems": [
        [
         "Home",
         "Reset original view",
         "home",
         "home"
        ],
        [
         "Back",
         "Back to previous view",
         "arrow-left",
         "back"
        ],
        [
         "Forward",
         "Forward to next view",
         "arrow-right",
         "forward"
        ],
        [
         "Pan",
         "Left button pans, Right button zooms\nx/y fixes axis, CTRL fixes aspect",
         "arrows",
         "pan"
        ],
        [
         "Zoom",
         "Zoom to rectangle\nx/y fixes axis, CTRL fixes aspect",
         "square-o",
         "zoom"
        ],
        [
         "Download",
         "Download plot",
         "floppy-o",
         "save_figure"
        ]
       ]
      }
     },
     "a3b95585688e4a4c98b8e07929f07030": {
      "model_module": "@jupyter-widgets/base",
      "model_module_version": "1.2.0",
      "model_name": "LayoutModel",
      "state": {}
     },
     "a6bae66040c0483bbc5d1795a56d8741": {
      "model_module": "@jupyter-widgets/base",
      "model_module_version": "1.2.0",
      "model_name": "LayoutModel",
      "state": {}
     },
     "a821c1d4883e42469ff9f14d999dec99": {
      "model_module": "jupyter-matplotlib",
      "model_module_version": "^0.7.4",
      "model_name": "MPLCanvasModel",
      "state": {
       "_cursor": "default",
       "_figure_label": "Figure 10",
       "_height": 500,
       "_width": 400,
       "layout": "IPY_MODEL_bb779a2fb6224d058ec8588f5b3265d0",
       "toolbar": "IPY_MODEL_71f03be367c34f75bdeb9b271e9755fd",
       "toolbar_position": "left"
      }
     },
     "ac39b8f5daa4401e8328ac645adea024": {
      "model_module": "@jupyter-widgets/base",
      "model_module_version": "1.2.0",
      "model_name": "LayoutModel",
      "state": {}
     },
     "acb143bc7365460aa0784575c238e09e": {
      "model_module": "@jupyter-widgets/base",
      "model_module_version": "1.2.0",
      "model_name": "LayoutModel",
      "state": {}
     },
     "acb7093666154c58818937d3c229f6af": {
      "model_module": "jupyter-matplotlib",
      "model_module_version": "^0.7.4",
      "model_name": "MPLCanvasModel",
      "state": {
       "_cursor": "default",
       "_figure_label": "Figure 3",
       "_height": 500,
       "_message": "x=0.581 y=0.862",
       "_width": 400,
       "layout": "IPY_MODEL_4f5eb8d9122f4cd6a876722559d8915e",
       "toolbar": "IPY_MODEL_f01aa39c492545d4bf5b6e6bf7d8c7d3",
       "toolbar_position": "left"
      }
     },
     "b0817a7c572c4a3dbd20fee9af1d5896": {
      "model_module": "@jupyter-widgets/base",
      "model_module_version": "1.2.0",
      "model_name": "LayoutModel",
      "state": {}
     },
     "ba158799b63e40008896b02973438c64": {
      "model_module": "@jupyter-widgets/base",
      "model_module_version": "1.2.0",
      "model_name": "LayoutModel",
      "state": {}
     },
     "bac5c791eb6547d392c5847105963c01": {
      "model_module": "@jupyter-widgets/base",
      "model_module_version": "1.2.0",
      "model_name": "LayoutModel",
      "state": {}
     },
     "bb779a2fb6224d058ec8588f5b3265d0": {
      "model_module": "@jupyter-widgets/base",
      "model_module_version": "1.2.0",
      "model_name": "LayoutModel",
      "state": {}
     },
     "c2f7f6174a9f432b92c10812dd55a545": {
      "model_module": "jupyter-matplotlib",
      "model_module_version": "^0.7.4",
      "model_name": "MPLCanvasModel",
      "state": {
       "_cursor": "default",
       "_figure_label": "Figure 7",
       "_height": 500,
       "_width": 400,
       "layout": "IPY_MODEL_3c94834dc5b4426d8528a653ca6c7c0c",
       "toolbar": "IPY_MODEL_7b8a5489b3c64c1c851bb5f8a594bf42",
       "toolbar_position": "left"
      }
     },
     "c79bb432c2c447fe9a00b3a1070bf717": {
      "model_module": "jupyter-matplotlib",
      "model_module_version": "^0.7.4",
      "model_name": "ToolbarModel",
      "state": {
       "layout": "IPY_MODEL_936224bd5550462fb4c856b1d82678e3",
       "toolitems": [
        [
         "Home",
         "Reset original view",
         "home",
         "home"
        ],
        [
         "Back",
         "Back to previous view",
         "arrow-left",
         "back"
        ],
        [
         "Forward",
         "Forward to next view",
         "arrow-right",
         "forward"
        ],
        [
         "Pan",
         "Left button pans, Right button zooms\nx/y fixes axis, CTRL fixes aspect",
         "arrows",
         "pan"
        ],
        [
         "Zoom",
         "Zoom to rectangle\nx/y fixes axis, CTRL fixes aspect",
         "square-o",
         "zoom"
        ],
        [
         "Download",
         "Download plot",
         "floppy-o",
         "save_figure"
        ]
       ]
      }
     },
     "d765f2fc00dd4d48b07adadc5e47551f": {
      "model_module": "jupyter-matplotlib",
      "model_module_version": "^0.7.4",
      "model_name": "ToolbarModel",
      "state": {
       "layout": "IPY_MODEL_93b32731a2e74b83951eb9b22dda5687",
       "toolitems": [
        [
         "Home",
         "Reset original view",
         "home",
         "home"
        ],
        [
         "Back",
         "Back to previous view",
         "arrow-left",
         "back"
        ],
        [
         "Forward",
         "Forward to next view",
         "arrow-right",
         "forward"
        ],
        [
         "Pan",
         "Left button pans, Right button zooms\nx/y fixes axis, CTRL fixes aspect",
         "arrows",
         "pan"
        ],
        [
         "Zoom",
         "Zoom to rectangle\nx/y fixes axis, CTRL fixes aspect",
         "square-o",
         "zoom"
        ],
        [
         "Download",
         "Download plot",
         "floppy-o",
         "save_figure"
        ]
       ]
      }
     },
     "de2629f4247a4dc4852ec748dd3fc458": {
      "model_module": "jupyter-matplotlib",
      "model_module_version": "^0.7.4",
      "model_name": "ToolbarModel",
      "state": {
       "layout": "IPY_MODEL_2f589e5f30464688aa0a0187c7a0a638",
       "toolitems": [
        [
         "Home",
         "Reset original view",
         "home",
         "home"
        ],
        [
         "Back",
         "Back to previous view",
         "arrow-left",
         "back"
        ],
        [
         "Forward",
         "Forward to next view",
         "arrow-right",
         "forward"
        ],
        [
         "Pan",
         "Left button pans, Right button zooms\nx/y fixes axis, CTRL fixes aspect",
         "arrows",
         "pan"
        ],
        [
         "Zoom",
         "Zoom to rectangle\nx/y fixes axis, CTRL fixes aspect",
         "square-o",
         "zoom"
        ],
        [
         "Download",
         "Download plot",
         "floppy-o",
         "save_figure"
        ]
       ]
      }
     },
     "e40d458c072d401ba29e845b8cb647ea": {
      "model_module": "jupyter-matplotlib",
      "model_module_version": "^0.7.4",
      "model_name": "ToolbarModel",
      "state": {
       "layout": "IPY_MODEL_b0817a7c572c4a3dbd20fee9af1d5896",
       "toolitems": [
        [
         "Home",
         "Reset original view",
         "home",
         "home"
        ],
        [
         "Back",
         "Back to previous view",
         "arrow-left",
         "back"
        ],
        [
         "Forward",
         "Forward to next view",
         "arrow-right",
         "forward"
        ],
        [
         "Pan",
         "Left button pans, Right button zooms\nx/y fixes axis, CTRL fixes aspect",
         "arrows",
         "pan"
        ],
        [
         "Zoom",
         "Zoom to rectangle\nx/y fixes axis, CTRL fixes aspect",
         "square-o",
         "zoom"
        ],
        [
         "Download",
         "Download plot",
         "floppy-o",
         "save_figure"
        ]
       ]
      }
     },
     "e7bf9462530c4298a75e1a4f43bc2865": {
      "model_module": "@jupyter-widgets/base",
      "model_module_version": "1.2.0",
      "model_name": "LayoutModel",
      "state": {}
     },
     "e86e64cceee141dbaa259b48b3e60c53": {
      "model_module": "jupyter-matplotlib",
      "model_module_version": "^0.7.4",
      "model_name": "ToolbarModel",
      "state": {
       "layout": "IPY_MODEL_7e4ede735c674d90ad521190da7a6a81",
       "toolitems": [
        [
         "Home",
         "Reset original view",
         "home",
         "home"
        ],
        [
         "Back",
         "Back to previous view",
         "arrow-left",
         "back"
        ],
        [
         "Forward",
         "Forward to next view",
         "arrow-right",
         "forward"
        ],
        [
         "Pan",
         "Left button pans, Right button zooms\nx/y fixes axis, CTRL fixes aspect",
         "arrows",
         "pan"
        ],
        [
         "Zoom",
         "Zoom to rectangle\nx/y fixes axis, CTRL fixes aspect",
         "square-o",
         "zoom"
        ],
        [
         "Download",
         "Download plot",
         "floppy-o",
         "save_figure"
        ]
       ]
      }
     },
     "ebac50f5981a43b098599c72befbab9d": {
      "model_module": "jupyter-matplotlib",
      "model_module_version": "^0.7.4",
      "model_name": "MPLCanvasModel",
      "state": {
       "_cursor": "default",
       "_figure_label": "Figure 11",
       "_height": 500,
       "_width": 700,
       "layout": "IPY_MODEL_acb143bc7365460aa0784575c238e09e",
       "toolbar": "IPY_MODEL_de2629f4247a4dc4852ec748dd3fc458",
       "toolbar_position": "left"
      }
     },
     "f01aa39c492545d4bf5b6e6bf7d8c7d3": {
      "model_module": "jupyter-matplotlib",
      "model_module_version": "^0.7.4",
      "model_name": "ToolbarModel",
      "state": {
       "layout": "IPY_MODEL_ba158799b63e40008896b02973438c64",
       "toolitems": [
        [
         "Home",
         "Reset original view",
         "home",
         "home"
        ],
        [
         "Back",
         "Back to previous view",
         "arrow-left",
         "back"
        ],
        [
         "Forward",
         "Forward to next view",
         "arrow-right",
         "forward"
        ],
        [
         "Pan",
         "Left button pans, Right button zooms\nx/y fixes axis, CTRL fixes aspect",
         "arrows",
         "pan"
        ],
        [
         "Zoom",
         "Zoom to rectangle\nx/y fixes axis, CTRL fixes aspect",
         "square-o",
         "zoom"
        ],
        [
         "Download",
         "Download plot",
         "floppy-o",
         "save_figure"
        ]
       ]
      }
     },
     "f1e59751429c4fb19ce52b611723e3e6": {
      "model_module": "jupyter-matplotlib",
      "model_module_version": "^0.7.4",
      "model_name": "MPLCanvasModel",
      "state": {
       "_cursor": "default",
       "_figure_label": "Figure 4",
       "_height": 500,
       "_width": 400,
       "layout": "IPY_MODEL_23bd9965ecdf4740bd8a9122635783c6",
       "toolbar": "IPY_MODEL_805652da66934933a1a10673b7c4e163",
       "toolbar_position": "left"
      }
     }
    },
    "version_major": 2,
    "version_minor": 0
   }
  }
 },
 "nbformat": 4,
 "nbformat_minor": 4
}
